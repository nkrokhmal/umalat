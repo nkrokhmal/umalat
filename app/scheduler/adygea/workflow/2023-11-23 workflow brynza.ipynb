{
 "cells": [
  {
   "cell_type": "code",
   "execution_count": 5,
   "outputs": [
    {
     "name": "stderr",
     "output_type": "stream",
     "text": [
      "\u001B[32m2023-12-02 11:25:20.135\u001B[0m | \u001B[1mINFO    \u001B[0m | \u001B[36mapp.db\u001B[0m:\u001B[36mcreate_external_db\u001B[0m:\u001B[36m13\u001B[0m - \u001B[1mCreating database session outside of the app sqlite:////Users/arsenijkadaner/FileApps/coding_projects/umalat/db/prod/data.sqlite?check_same_thread=False.\u001B[0m\n"
     ]
    }
   ],
   "source": [
    "import os\n",
    "\n",
    "from more_itertools import pairwise, mark_ends\n",
    "from datetime import datetime\n",
    "from app.models import BrynzaLine, cast_model\n",
    "from app.scheduler.brynza.to_boiling_plan import to_boiling_plan as to_boiling_plan_brynza\n",
    "from app.scheduler.adygea.to_boiling_plan.to_boiling_plan import to_boiling_plan as to_boiling_plan_adygea\n",
    "from app.scheduler.frontend_utils import draw_excel_frontend\n",
    "from app.scheduler.time_utils import cast_t\n",
    "from app.scheduler.wrap_header import wrap_header\n",
    "from utils_ak.block_tree import BlockMaker, add_push\n",
    "from utils_ak.iteration import iter_pairs\n",
    "from utils_ak.numeric import custom_round\n",
    "from utils_ak.os import open_file_in_os\n",
    "from utils_ak.pandas import mark_consecutive_groups"
   ],
   "metadata": {
    "collapsed": false,
    "ExecuteTime": {
     "end_time": "2023-12-02T10:25:20.309854Z",
     "start_time": "2023-12-02T10:25:19.408155Z"
    }
   }
  },
  {
   "cell_type": "code",
   "execution_count": 6,
   "metadata": {
    "collapsed": true,
    "ExecuteTime": {
     "end_time": "2023-12-02T10:25:20.739593Z",
     "start_time": "2023-12-02T10:25:20.310818Z"
    }
   },
   "outputs": [],
   "source": [
    "# - Read boiling plan\n",
    "\n",
    "fn = f'/Users/arsenijkadaner/FileApps/coding_projects/umalat/app/data/static/samples/by_department/milk_project/2023-11-19 План по варкам милкпроджект Новый.xlsx'\n",
    "\n",
    "df1 = boiling_plan_df_brynza = to_boiling_plan_brynza(fn)\n",
    "df2 = boiling_plan_df_adygea = to_boiling_plan_adygea(fn)"
   ]
  },
  {
   "cell_type": "code",
   "execution_count": 7,
   "outputs": [
    {
     "data": {
      "text/plain": "   boiling_id            sku     kg            boiling  batch_id batch_type\n0         1.0  <BrynzaSKU 1>  252.0  <BrynzaBoiling 1>       1.0     brynza\n1         1.0  <BrynzaSKU 4>    8.0  <BrynzaBoiling 2>       1.0     brynza",
      "text/html": "<div>\n<style scoped>\n    .dataframe tbody tr th:only-of-type {\n        vertical-align: middle;\n    }\n\n    .dataframe tbody tr th {\n        vertical-align: top;\n    }\n\n    .dataframe thead th {\n        text-align: right;\n    }\n</style>\n<table border=\"1\" class=\"dataframe\">\n  <thead>\n    <tr style=\"text-align: right;\">\n      <th></th>\n      <th>boiling_id</th>\n      <th>sku</th>\n      <th>kg</th>\n      <th>boiling</th>\n      <th>batch_id</th>\n      <th>batch_type</th>\n    </tr>\n  </thead>\n  <tbody>\n    <tr>\n      <th>0</th>\n      <td>1.0</td>\n      <td>&lt;BrynzaSKU 1&gt;</td>\n      <td>252.0</td>\n      <td>&lt;BrynzaBoiling 1&gt;</td>\n      <td>1.0</td>\n      <td>brynza</td>\n    </tr>\n    <tr>\n      <th>1</th>\n      <td>1.0</td>\n      <td>&lt;BrynzaSKU 4&gt;</td>\n      <td>8.0</td>\n      <td>&lt;BrynzaBoiling 2&gt;</td>\n      <td>1.0</td>\n      <td>brynza</td>\n    </tr>\n  </tbody>\n</table>\n</div>"
     },
     "execution_count": 7,
     "metadata": {},
     "output_type": "execute_result"
    }
   ],
   "source": [
    "df1.head()"
   ],
   "metadata": {
    "collapsed": false,
    "ExecuteTime": {
     "end_time": "2023-12-02T10:25:20.753364Z",
     "start_time": "2023-12-02T10:25:20.741312Z"
    }
   }
  },
  {
   "cell_type": "code",
   "execution_count": 8,
   "outputs": [
    {
     "data": {
      "text/plain": "   boiling_id             sku  n_baths    kg             boiling  batch_id  \\\n0           1  <AdygeaSKU 54>        1  50.0  <AdygeaBoiling 27>         1   \n1           2  <AdygeaSKU 54>        1  50.0  <AdygeaBoiling 27>         2   \n2           3  <AdygeaSKU 54>        1  50.0  <AdygeaBoiling 27>         3   \n3           4  <AdygeaSKU 54>        1  50.0  <AdygeaBoiling 27>         4   \n4           5  <AdygeaSKU 54>        1  50.0  <AdygeaBoiling 27>         5   \n\n  batch_type  absolute_batch_id  \n0     adygea                  1  \n1     adygea                  2  \n2     adygea                  3  \n3     adygea                  4  \n4     adygea                  5  ",
      "text/html": "<div>\n<style scoped>\n    .dataframe tbody tr th:only-of-type {\n        vertical-align: middle;\n    }\n\n    .dataframe tbody tr th {\n        vertical-align: top;\n    }\n\n    .dataframe thead th {\n        text-align: right;\n    }\n</style>\n<table border=\"1\" class=\"dataframe\">\n  <thead>\n    <tr style=\"text-align: right;\">\n      <th></th>\n      <th>boiling_id</th>\n      <th>sku</th>\n      <th>n_baths</th>\n      <th>kg</th>\n      <th>boiling</th>\n      <th>batch_id</th>\n      <th>batch_type</th>\n      <th>absolute_batch_id</th>\n    </tr>\n  </thead>\n  <tbody>\n    <tr>\n      <th>0</th>\n      <td>1</td>\n      <td>&lt;AdygeaSKU 54&gt;</td>\n      <td>1</td>\n      <td>50.0</td>\n      <td>&lt;AdygeaBoiling 27&gt;</td>\n      <td>1</td>\n      <td>adygea</td>\n      <td>1</td>\n    </tr>\n    <tr>\n      <th>1</th>\n      <td>2</td>\n      <td>&lt;AdygeaSKU 54&gt;</td>\n      <td>1</td>\n      <td>50.0</td>\n      <td>&lt;AdygeaBoiling 27&gt;</td>\n      <td>2</td>\n      <td>adygea</td>\n      <td>2</td>\n    </tr>\n    <tr>\n      <th>2</th>\n      <td>3</td>\n      <td>&lt;AdygeaSKU 54&gt;</td>\n      <td>1</td>\n      <td>50.0</td>\n      <td>&lt;AdygeaBoiling 27&gt;</td>\n      <td>3</td>\n      <td>adygea</td>\n      <td>3</td>\n    </tr>\n    <tr>\n      <th>3</th>\n      <td>4</td>\n      <td>&lt;AdygeaSKU 54&gt;</td>\n      <td>1</td>\n      <td>50.0</td>\n      <td>&lt;AdygeaBoiling 27&gt;</td>\n      <td>4</td>\n      <td>adygea</td>\n      <td>4</td>\n    </tr>\n    <tr>\n      <th>4</th>\n      <td>5</td>\n      <td>&lt;AdygeaSKU 54&gt;</td>\n      <td>1</td>\n      <td>50.0</td>\n      <td>&lt;AdygeaBoiling 27&gt;</td>\n      <td>5</td>\n      <td>adygea</td>\n      <td>5</td>\n    </tr>\n  </tbody>\n</table>\n</div>"
     },
     "execution_count": 8,
     "metadata": {},
     "output_type": "execute_result"
    }
   ],
   "source": [
    "df2.head()"
   ],
   "metadata": {
    "collapsed": false,
    "ExecuteTime": {
     "end_time": "2023-12-02T10:25:20.754942Z",
     "start_time": "2023-12-02T10:25:20.753562Z"
    }
   }
  },
  {
   "cell_type": "code",
   "execution_count": 10,
   "outputs": [
    {
     "data": {
      "text/plain": "schedule (0, 180] x (0, 0]\n  preparation (0, 7] x (0, 0]\n  packing_brynza (7, 43] x (0, 0]\n  small_cleaning (43, 48] x (0, 0]\n  labelling (48, 62] x (0, 0]\n  packing_adygea (62, 71] x (0, 0]\n  packing_configuration (71, 72] x (0, 0]\n  packing_adygea (72, 81] x (0, 0]\n  packing_configuration (81, 82] x (0, 0]\n  packing_adygea (82, 91] x (0, 0]\n  packing_configuration (91, 92] x (0, 0]\n  packing_adygea (92, 101] x (0, 0]\n  packing_configuration (101, 102] x (0, 0]\n  packing_adygea (102, 111] x (0, 0]\n  packing_configuration (111, 112] x (0, 0]\n  packing_adygea (112, 121] x (0, 0]\n  packing_configuration (121, 122] x (0, 0]\n  packing_adygea (122, 131] x (0, 0]\n  packing_configuration (131, 132] x (0, 0]\n  packing_adygea (132, 141] x (0, 0]\n  packing_configuration (141, 142] x (0, 0]\n  packing_adygea (142, 151] x (0, 0]\n  packing_configuration (151, 152] x (0, 0]\n  packing_adygea (152, 161] x (0, 0]\n  packing_configuration (161, 162] x (0, 0]\n  packing_adygea (162, 171] x (0, 0]\n  packing_configuration (171, 172] x (0, 0]\n  packing_adygea (172, 180] x (0, 0]\n  cleaning (180, 180] x (0, 0]"
     },
     "execution_count": 10,
     "metadata": {},
     "output_type": "execute_result"
    }
   ],
   "source": [
    "# - Make schedule\n",
    "\n",
    "brynza_line = cast_model(cls=BrynzaLine, obj=\"Брынза\")\n",
    "\n",
    "start_t = cast_t('11:00')\n",
    "\n",
    "m = BlockMaker(\"schedule\")\n",
    "\n",
    "m.row('preparation', size=7)\n",
    "\n",
    "boiling_technology = df1.iloc[0]['boiling'].boiling_technologies[0]\n",
    "m.row('packing_brynza', size=round((df1['kg'].sum() / df1['sku'].apply(lambda sku: sku.packing_speed + 175)).sum() * 12))\n",
    "m.row('small_cleaning', size=5)\n",
    "m.row('labelling', size=14)\n",
    "\n",
    "df2['boiling_type'] = df2['boiling'].apply(lambda boiling: str(df2['boiling'].iloc[0].weight_netto) + '-' + str(df2['boiling'].iloc[0].percent))\n",
    "\n",
    "mark_consecutive_groups(df2, key='boiling_type', groups_key='boiling_type_num')\n",
    "\n",
    "for is_first, is_last, (i, grp) in mark_ends(list(df2.groupby('boiling_type_num'))):\n",
    "\n",
    "    boiling = grp.iloc[0]['boiling']\n",
    "    total_kg = grp['kg'].sum()\n",
    "    packing_speed = grp['sku'].iloc[0].packing_speed or 0 + 267 # note: packing_speed is the same for all skus in adygea # todo later: check\n",
    "\n",
    "    # crop to pieces of 200kg\n",
    "\n",
    "    pieces = [200] * int(total_kg / 200) + [total_kg - 200 * int(total_kg / 200)]\n",
    "\n",
    "    for _is_first, _is_last, piece in mark_ends(pieces):\n",
    "        m.row('packing_adygea', size=round(piece / packing_speed * 12))\n",
    "        if not _is_last:\n",
    "            m.row('packing_configuration', size=1)\n",
    "\n",
    "    if not is_last:\n",
    "        m.row('packing_configuration', size=1)\n",
    "\n",
    "    m.row('cleaning')\n",
    "\n",
    "schedule = m.root\n",
    "schedule"
   ],
   "metadata": {
    "collapsed": false,
    "ExecuteTime": {
     "end_time": "2023-12-02T10:25:25.943127Z",
     "start_time": "2023-12-02T10:25:25.932966Z"
    }
   }
  },
  {
   "cell_type": "code",
   "execution_count": 21,
   "outputs": [],
   "source": [
    "# - Plot boilings\n",
    "\n",
    "date = datetime.now()\n",
    "\n",
    "m = BlockMaker(\n",
    "    \"frontend\",\n",
    "    default_row_width=1,\n",
    "    default_col_width=1,\n",
    "    # props\n",
    "    axis=1,\n",
    ")\n",
    "m.row(\"stub\", size=0)  # start with 1\n",
    "\n",
    "m.block(wrap_header(date=date, start_time='11:00', header=\"График паковки\"))\n",
    "\n",
    "# make packing line\n",
    "\n",
    "_m = BlockMaker(\n",
    "    \"packing_line\",\n",
    "    default_row_width=1,\n",
    "    default_col_width=1,\n",
    "    # props\n",
    "    axis=1,\n",
    ")\n",
    "\n",
    "for block in schedule.children:\n",
    "    _m.block(_m.copy(block, with_props=True, size=(block.size[0], 1)), push_func=add_push)\n",
    "m.block(_m.root)\n",
    "\n",
    "frontend = m.root"
   ],
   "metadata": {
    "collapsed": false,
    "ExecuteTime": {
     "end_time": "2023-12-02T10:30:33.708875Z",
     "start_time": "2023-12-02T10:30:33.434992Z"
    }
   }
  },
  {
   "cell_type": "code",
   "execution_count": 22,
   "outputs": [],
   "source": [
    "STYLE = {\n",
    "    \"preparation\": {\"text\": \"подготовка, мойка, дезинфекция оборудования. Вызов микробиолога.\"},\n",
    "    'packing_brynza': {'text': 'Паковка брынзы'},\n",
    "    'small_cleaning': {'text': 'мойка'},\n",
    "    'cleaning': {'text': 'мойка цеха'},\n",
    "    'packing_configuration': {'color': 'red'},\n",
    "    'packing_adygea': {'text': 'паковка адыгейского'},\n",
    "    'labelling': {'text': 'маркировка'}\n",
    "}\n"
   ],
   "metadata": {
    "collapsed": false,
    "ExecuteTime": {
     "end_time": "2023-12-02T10:30:33.712601Z",
     "start_time": "2023-12-02T10:30:33.708462Z"
    }
   }
  },
  {
   "cell_type": "code",
   "execution_count": 23,
   "outputs": [
    {
     "name": "stderr",
     "output_type": "stream",
     "text": [
      "\u001B[32m2023-12-02 11:30:33.715\u001B[0m | \u001B[1mINFO    \u001B[0m | \u001B[36mapp.scheduler.frontend_utils\u001B[0m:\u001B[36mdraw_schedule\u001B[0m:\u001B[36m46\u001B[0m - \u001B[1mFinished init\u001B[0m\n"
     ]
    }
   ],
   "source": [
    "# - Draw frontend\n",
    "\n",
    "workbook = draw_excel_frontend(\n",
    "    frontend=frontend,\n",
    "    style=STYLE,\n",
    "    open_file=False,\n",
    "    fn=None,\n",
    ")\n",
    "\n",
    "workbook.save(\"test.xlsx\")\n",
    "open_file_in_os(\"test.xlsx\")\n"
   ],
   "metadata": {
    "collapsed": false,
    "ExecuteTime": {
     "end_time": "2023-12-02T10:30:34.149949Z",
     "start_time": "2023-12-02T10:30:33.716937Z"
    }
   }
  },
  {
   "cell_type": "code",
   "execution_count": 137,
   "outputs": [
    {
     "data": {
      "text/plain": "[preparation (0, 7] x (2, 2],\n packing_brynza (7, 43] x (2, 2],\n small_cleaning (43, 48] x (2, 2],\n labelling (48, 62] x (2, 2],\n packing_adygea (62, 71] x (2, 2],\n packing_configuration (71, 72] x (2, 2],\n packing_adygea (72, 81] x (2, 2],\n packing_configuration (81, 82] x (2, 2],\n packing_adygea (82, 91] x (2, 2],\n packing_configuration (91, 92] x (2, 2],\n packing_adygea (92, 101] x (2, 2],\n packing_configuration (101, 102] x (2, 2],\n packing_adygea (102, 111] x (2, 2],\n packing_configuration (111, 112] x (2, 2],\n packing_adygea (112, 121] x (2, 2],\n packing_configuration (121, 122] x (2, 2],\n packing_adygea (122, 131] x (2, 2],\n packing_configuration (131, 132] x (2, 2],\n packing_adygea (132, 141] x (2, 2],\n packing_configuration (141, 142] x (2, 2],\n packing_adygea (142, 151] x (2, 2],\n packing_configuration (151, 152] x (2, 2],\n packing_adygea (152, 161] x (2, 2],\n packing_configuration (161, 162] x (2, 2],\n packing_adygea (162, 171] x (2, 2],\n packing_configuration (171, 172] x (2, 2],\n packing_adygea (172, 180] x (2, 2],\n cleaning (180, 180] x (2, 2]]"
     },
     "execution_count": 137,
     "metadata": {},
     "output_type": "execute_result"
    }
   ],
   "source": [
    "schedule.children"
   ],
   "metadata": {
    "collapsed": false,
    "ExecuteTime": {
     "end_time": "2023-11-23T08:51:46.424958Z",
     "start_time": "2023-11-23T08:51:46.420044Z"
    }
   }
  },
  {
   "cell_type": "code",
   "execution_count": null,
   "outputs": [],
   "source": [],
   "metadata": {
    "collapsed": false
   }
  }
 ],
 "metadata": {
  "kernelspec": {
   "display_name": "Python 3",
   "language": "python",
   "name": "python3"
  },
  "language_info": {
   "codemirror_mode": {
    "name": "ipython",
    "version": 2
   },
   "file_extension": ".py",
   "mimetype": "text/x-python",
   "name": "python",
   "nbconvert_exporter": "python",
   "pygments_lexer": "ipython2",
   "version": "2.7.6"
  }
 },
 "nbformat": 4,
 "nbformat_minor": 0
}

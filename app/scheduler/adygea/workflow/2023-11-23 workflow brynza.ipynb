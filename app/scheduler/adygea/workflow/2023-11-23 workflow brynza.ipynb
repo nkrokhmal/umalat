{
 "cells": [
  {
   "cell_type": "code",
   "execution_count": 103,
   "outputs": [],
   "source": [
    "import os\n",
    "\n",
    "from more_itertools import pairwise, mark_ends\n",
    "from datetime import datetime\n",
    "from app.models import BrynzaLine, cast_model\n",
    "from app.scheduler.brynza.to_boiling_plan import to_boiling_plan as to_boiling_plan_brynza\n",
    "from app.scheduler.adygea.to_boiling_plan.to_boiling_plan import to_boiling_plan as to_boiling_plan_adygea\n",
    "from app.scheduler.frontend_utils import draw_excel_frontend\n",
    "from app.scheduler.time_utils import cast_t\n",
    "from app.scheduler.wrap_header import wrap_header\n",
    "from utils_ak.block_tree import BlockMaker, add_push\n",
    "from utils_ak.iteration import iter_pairs\n",
    "from utils_ak.numeric import custom_round\n",
    "from utils_ak.os import open_file_in_os\n",
    "from utils_ak.pandas import mark_consecutive_groups"
   ],
   "metadata": {
    "collapsed": false,
    "ExecuteTime": {
     "end_time": "2023-11-23T08:42:19.846819Z",
     "start_time": "2023-11-23T08:42:19.842491Z"
    }
   }
  },
  {
   "cell_type": "code",
   "execution_count": 11,
   "metadata": {
    "collapsed": true,
    "ExecuteTime": {
     "end_time": "2023-11-23T07:49:04.029612Z",
     "start_time": "2023-11-23T07:49:03.635240Z"
    }
   },
   "outputs": [],
   "source": [
    "# - Read boiling plan\n",
    "\n",
    "fn = f'/Users/arsenijkadaner/FileApps/coding_projects/umalat/app/data/static/samples/by_department/milk_project/2023-11-19 План по варкам милкпроджект Новый.xlsx'\n",
    "\n",
    "df1 = boiling_plan_df_brynza = to_boiling_plan_brynza(fn)\n",
    "df2 = boiling_plan_df_adygea = to_boiling_plan_adygea(fn)"
   ]
  },
  {
   "cell_type": "code",
   "execution_count": 13,
   "outputs": [
    {
     "data": {
      "text/plain": "   boiling_id            sku     kg            boiling  batch_id batch_type\n0         1.0  <BrynzaSKU 1>  252.0  <BrynzaBoiling 1>       1.0     brynza\n1         1.0  <BrynzaSKU 4>    8.0  <BrynzaBoiling 2>       1.0     brynza",
      "text/html": "<div>\n<style scoped>\n    .dataframe tbody tr th:only-of-type {\n        vertical-align: middle;\n    }\n\n    .dataframe tbody tr th {\n        vertical-align: top;\n    }\n\n    .dataframe thead th {\n        text-align: right;\n    }\n</style>\n<table border=\"1\" class=\"dataframe\">\n  <thead>\n    <tr style=\"text-align: right;\">\n      <th></th>\n      <th>boiling_id</th>\n      <th>sku</th>\n      <th>kg</th>\n      <th>boiling</th>\n      <th>batch_id</th>\n      <th>batch_type</th>\n    </tr>\n  </thead>\n  <tbody>\n    <tr>\n      <th>0</th>\n      <td>1.0</td>\n      <td>&lt;BrynzaSKU 1&gt;</td>\n      <td>252.0</td>\n      <td>&lt;BrynzaBoiling 1&gt;</td>\n      <td>1.0</td>\n      <td>brynza</td>\n    </tr>\n    <tr>\n      <th>1</th>\n      <td>1.0</td>\n      <td>&lt;BrynzaSKU 4&gt;</td>\n      <td>8.0</td>\n      <td>&lt;BrynzaBoiling 2&gt;</td>\n      <td>1.0</td>\n      <td>brynza</td>\n    </tr>\n  </tbody>\n</table>\n</div>"
     },
     "execution_count": 13,
     "metadata": {},
     "output_type": "execute_result"
    }
   ],
   "source": [
    "df1.head()"
   ],
   "metadata": {
    "collapsed": false,
    "ExecuteTime": {
     "end_time": "2023-11-23T07:49:14.106190Z",
     "start_time": "2023-11-23T07:49:14.103235Z"
    }
   }
  },
  {
   "cell_type": "code",
   "execution_count": 14,
   "outputs": [
    {
     "data": {
      "text/plain": "   boiling_id             sku  n_baths    kg             boiling  batch_id  \\\n0           1  <AdygeaSKU 54>        1  50.0  <AdygeaBoiling 27>         1   \n1           2  <AdygeaSKU 54>        1  50.0  <AdygeaBoiling 27>         2   \n2           3  <AdygeaSKU 54>        1  50.0  <AdygeaBoiling 27>         3   \n3           4  <AdygeaSKU 54>        1  50.0  <AdygeaBoiling 27>         4   \n4           5  <AdygeaSKU 54>        1  50.0  <AdygeaBoiling 27>         5   \n\n  batch_type  absolute_batch_id  \n0     adygea                  1  \n1     adygea                  2  \n2     adygea                  3  \n3     adygea                  4  \n4     adygea                  5  ",
      "text/html": "<div>\n<style scoped>\n    .dataframe tbody tr th:only-of-type {\n        vertical-align: middle;\n    }\n\n    .dataframe tbody tr th {\n        vertical-align: top;\n    }\n\n    .dataframe thead th {\n        text-align: right;\n    }\n</style>\n<table border=\"1\" class=\"dataframe\">\n  <thead>\n    <tr style=\"text-align: right;\">\n      <th></th>\n      <th>boiling_id</th>\n      <th>sku</th>\n      <th>n_baths</th>\n      <th>kg</th>\n      <th>boiling</th>\n      <th>batch_id</th>\n      <th>batch_type</th>\n      <th>absolute_batch_id</th>\n    </tr>\n  </thead>\n  <tbody>\n    <tr>\n      <th>0</th>\n      <td>1</td>\n      <td>&lt;AdygeaSKU 54&gt;</td>\n      <td>1</td>\n      <td>50.0</td>\n      <td>&lt;AdygeaBoiling 27&gt;</td>\n      <td>1</td>\n      <td>adygea</td>\n      <td>1</td>\n    </tr>\n    <tr>\n      <th>1</th>\n      <td>2</td>\n      <td>&lt;AdygeaSKU 54&gt;</td>\n      <td>1</td>\n      <td>50.0</td>\n      <td>&lt;AdygeaBoiling 27&gt;</td>\n      <td>2</td>\n      <td>adygea</td>\n      <td>2</td>\n    </tr>\n    <tr>\n      <th>2</th>\n      <td>3</td>\n      <td>&lt;AdygeaSKU 54&gt;</td>\n      <td>1</td>\n      <td>50.0</td>\n      <td>&lt;AdygeaBoiling 27&gt;</td>\n      <td>3</td>\n      <td>adygea</td>\n      <td>3</td>\n    </tr>\n    <tr>\n      <th>3</th>\n      <td>4</td>\n      <td>&lt;AdygeaSKU 54&gt;</td>\n      <td>1</td>\n      <td>50.0</td>\n      <td>&lt;AdygeaBoiling 27&gt;</td>\n      <td>4</td>\n      <td>adygea</td>\n      <td>4</td>\n    </tr>\n    <tr>\n      <th>4</th>\n      <td>5</td>\n      <td>&lt;AdygeaSKU 54&gt;</td>\n      <td>1</td>\n      <td>50.0</td>\n      <td>&lt;AdygeaBoiling 27&gt;</td>\n      <td>5</td>\n      <td>adygea</td>\n      <td>5</td>\n    </tr>\n  </tbody>\n</table>\n</div>"
     },
     "execution_count": 14,
     "metadata": {},
     "output_type": "execute_result"
    }
   ],
   "source": [
    "df2.head()"
   ],
   "metadata": {
    "collapsed": false,
    "ExecuteTime": {
     "end_time": "2023-11-23T07:49:14.218126Z",
     "start_time": "2023-11-23T07:49:14.211976Z"
    }
   }
  },
  {
   "cell_type": "code",
   "execution_count": null,
   "outputs": [],
   "source": [
    "# - Make schedule\n",
    "\n",
    "# -- Make packings"
   ],
   "metadata": {
    "collapsed": false
   }
  },
  {
   "cell_type": "code",
   "execution_count": 79,
   "outputs": [
    {
     "data": {
      "text/plain": "schedule (0, 180] x (0, 0]\n  preparation (0, 7] x (0, 0]\n  packing_brynza (7, 43] x (0, 0]\n  small_cleaning (43, 48] x (0, 0]\n  labelling (48, 62] x (0, 0]\n  packing_adygea (62, 71] x (0, 0]\n  packing_configuration (71, 72] x (0, 0]\n  packing_adygea (72, 81] x (0, 0]\n  packing_configuration (81, 82] x (0, 0]\n  packing_adygea (82, 91] x (0, 0]\n  packing_configuration (91, 92] x (0, 0]\n  packing_adygea (92, 101] x (0, 0]\n  packing_configuration (101, 102] x (0, 0]\n  packing_adygea (102, 111] x (0, 0]\n  packing_configuration (111, 112] x (0, 0]\n  packing_adygea (112, 121] x (0, 0]\n  packing_configuration (121, 122] x (0, 0]\n  packing_adygea (122, 131] x (0, 0]\n  packing_configuration (131, 132] x (0, 0]\n  packing_adygea (132, 141] x (0, 0]\n  packing_configuration (141, 142] x (0, 0]\n  packing_adygea (142, 151] x (0, 0]\n  packing_configuration (151, 152] x (0, 0]\n  packing_adygea (152, 161] x (0, 0]\n  packing_configuration (161, 162] x (0, 0]\n  packing_adygea (162, 171] x (0, 0]\n  packing_configuration (171, 172] x (0, 0]\n  packing_adygea (172, 180] x (0, 0]\n  cleaning (180, 180] x (0, 0]"
     },
     "execution_count": 79,
     "metadata": {},
     "output_type": "execute_result"
    }
   ],
   "source": [
    "brynza_line = cast_model(cls=BrynzaLine, obj=\"Брынза\")\n",
    "\n",
    "start_t = cast_t('11:00')\n",
    "\n",
    "m = BlockMaker(\"schedule\")\n",
    "\n",
    "m.row('preparation', size=7)\n",
    "\n",
    "boiling_technology = df1.iloc[0]['boiling'].boiling_technologies[0]\n",
    "m.row('packing_brynza', size=round((df1['kg'].sum() / df1['sku'].apply(lambda sku: sku.packing_speed + 175)).sum() * 12))\n",
    "m.row('small_cleaning', size=5)\n",
    "m.row('labelling', size=14)\n",
    "\n",
    "df2['boiling_type'] = df2['boiling'].apply(lambda boiling: str(df2['boiling'].iloc[0].weight_netto) + '-' + str(df2['boiling'].iloc[0].percent))\n",
    "\n",
    "mark_consecutive_groups(df2, key='boiling_type', groups_key='boiling_type_num')\n",
    "\n",
    "for is_first, is_last, (i, grp) in mark_ends(list(df2.groupby('boiling_type_num'))):\n",
    "\n",
    "    boiling = grp.iloc[0]['boiling']\n",
    "    total_kg = grp['kg'].sum()\n",
    "    packing_speed = grp['sku'].iloc[0].packing_speed or 0 + 267 # note: packing_speed is the same for all skus in adygea # todo later: check\n",
    "\n",
    "    # crop to pieces of 200kg\n",
    "\n",
    "    pieces = [200] * int(total_kg / 200) + [total_kg - 200 * int(total_kg / 200)]\n",
    "\n",
    "    for _is_first, _is_last, piece in mark_ends(pieces):\n",
    "        m.row('packing_adygea', size=round(piece / packing_speed * 12))\n",
    "        if not _is_last:\n",
    "            m.row('packing_configuration', size=1)\n",
    "\n",
    "    if not is_last:\n",
    "        m.row('packing_configuration', size=1)\n",
    "\n",
    "    m.row('cleaning')\n",
    "\n",
    "schedule = m.root\n",
    "schedule"
   ],
   "metadata": {
    "collapsed": false,
    "ExecuteTime": {
     "end_time": "2023-11-23T08:33:18.223952Z",
     "start_time": "2023-11-23T08:33:18.221511Z"
    }
   }
  },
  {
   "cell_type": "code",
   "execution_count": 127,
   "outputs": [
    {
     "data": {
      "text/plain": "frontend (0, 568] x (0, 5]\n  stub (0, 0] x (0, 1]\n  header (0, 568] x (1, 2]\n    block (0, 1] x (1, 2]\n    block (1, 2] x (1, 2]\n    block (2, 3] x (1, 2]\n    block (3, 4] x (1, 2]\n    block (4, 5] x (1, 2]\n    block (5, 6] x (1, 2]\n    block (6, 7] x (1, 2]\n    block (7, 8] x (1, 2]\n    block (8, 9] x (1, 2]\n    block (9, 10] x (1, 2]\n    block (10, 11] x (1, 2]\n    block (11, 12] x (1, 2]\n    block (12, 13] x (1, 2]\n    block (13, 14] x (1, 2]\n    block (14, 15] x (1, 2]\n    block (15, 16] x (1, 2]\n    block (16, 17] x (1, 2]\n    block (17, 18] x (1, 2]\n    block (18, 19] x (1, 2]\n    block (19, 20] x (1, 2]\n    block (20, 21] x (1, 2]\n    block (21, 22] x (1, 2]\n    block (22, 23] x (1, 2]\n    block (23, 24] x (1, 2]\n    block (24, 25] x (1, 2]\n    block (25, 26] x (1, 2]\n    block (26, 27] x (1, 2]\n    block (27, 28] x (1, 2]\n    block (28, 29] x (1, 2]\n    block (29, 30] x (1, 2]\n    block (30, 31] x (1, 2]\n    block (31, 32] x (1, 2]\n    block (32, 33] x (1, 2]\n    block (33, 34] x (1, 2]\n    block (34, 35] x (1, 2]\n    block (35, 36] x (1, 2]\n    block (36, 37] x (1, 2]\n    block (37, 38] x (1, 2]\n    block (38, 39] x (1, 2]\n    block (39, 40] x (1, 2]\n    block (40, 41] x (1, 2]\n    block (41, 42] x (1, 2]\n    block (42, 43] x (1, 2]\n    block (43, 44] x (1, 2]\n    block (44, 45] x (1, 2]\n    block (45, 46] x (1, 2]\n    block (46, 47] x (1, 2]\n    block (47, 48] x (1, 2]\n    block (48, 49] x (1, 2]\n    block (49, 50] x (1, 2]\n    block (50, 51] x (1, 2]\n    block (51, 52] x (1, 2]\n    block (52, 53] x (1, 2]\n    block (53, 54] x (1, 2]\n    block (54, 55] x (1, 2]\n    block (55, 56] x (1, 2]\n    block (56, 57] x (1, 2]\n    block (57, 58] x (1, 2]\n    block (58, 59] x (1, 2]\n    block (59, 60] x (1, 2]\n    block (60, 61] x (1, 2]\n    block (61, 62] x (1, 2]\n    block (62, 63] x (1, 2]\n    block (63, 64] x (1, 2]\n    block (64, 65] x (1, 2]\n    block (65, 66] x (1, 2]\n    block (66, 67] x (1, 2]\n    block (67, 68] x (1, 2]\n    block (68, 69] x (1, 2]\n    block (69, 70] x (1, 2]\n    block (70, 71] x (1, 2]\n    block (71, 72] x (1, 2]\n    block (72, 73] x (1, 2]\n    block (73, 74] x (1, 2]\n    block (74, 75] x (1, 2]\n    block (75, 76] x (1, 2]\n    block (76, 77] x (1, 2]\n    block (77, 78] x (1, 2]\n    block (78, 79] x (1, 2]\n    block (79, 80] x (1, 2]\n    block (80, 81] x (1, 2]\n    block (81, 82] x (1, 2]\n    block (82, 83] x (1, 2]\n    block (83, 84] x (1, 2]\n    block (84, 85] x (1, 2]\n    block (85, 86] x (1, 2]\n    block (86, 87] x (1, 2]\n    block (87, 88] x (1, 2]\n    block (88, 89] x (1, 2]\n    block (89, 90] x (1, 2]\n    block (90, 91] x (1, 2]\n    block (91, 92] x (1, 2]\n    block (92, 93] x (1, 2]\n    block (93, 94] x (1, 2]\n    block (94, 95] x (1, 2]\n    block (95, 96] x (1, 2]\n    block (96, 97] x (1, 2]\n    block (97, 98] x (1, 2]\n    block (98, 99] x (1, 2]\n    block (99, 100] x (1, 2]\n    block (100, 101] x (1, 2]\n    block (101, 102] x (1, 2]\n    block (102, 103] x (1, 2]\n    block (103, 104] x (1, 2]\n    block (104, 105] x (1, 2]\n    block (105, 106] x (1, 2]\n    block (106, 107] x (1, 2]\n    block (107, 108] x (1, 2]\n    block (108, 109] x (1, 2]\n    block (109, 110] x (1, 2]\n    block (110, 111] x (1, 2]\n    block (111, 112] x (1, 2]\n    block (112, 113] x (1, 2]\n    block (113, 114] x (1, 2]\n    block (114, 115] x (1, 2]\n    block (115, 116] x (1, 2]\n    block (116, 117] x (1, 2]\n    block (117, 118] x (1, 2]\n    block (118, 119] x (1, 2]\n    block (119, 120] x (1, 2]\n    block (120, 121] x (1, 2]\n    block (121, 122] x (1, 2]\n    block (122, 123] x (1, 2]\n    block (123, 124] x (1, 2]\n    block (124, 125] x (1, 2]\n    block (125, 126] x (1, 2]\n    block (126, 127] x (1, 2]\n    block (127, 128] x (1, 2]\n    block (128, 129] x (1, 2]\n    block (129, 130] x (1, 2]\n    block (130, 131] x (1, 2]\n    block (131, 132] x (1, 2]\n    block (132, 133] x (1, 2]\n    block (133, 134] x (1, 2]\n    block (134, 135] x (1, 2]\n    block (135, 136] x (1, 2]\n    block (136, 137] x (1, 2]\n    block (137, 138] x (1, 2]\n    block (138, 139] x (1, 2]\n    block (139, 140] x (1, 2]\n    block (140, 141] x (1, 2]\n    block (141, 142] x (1, 2]\n    block (142, 143] x (1, 2]\n    block (143, 144] x (1, 2]\n    block (144, 145] x (1, 2]\n    block (145, 146] x (1, 2]\n    block (146, 147] x (1, 2]\n    block (147, 148] x (1, 2]\n    block (148, 149] x (1, 2]\n    block (149, 150] x (1, 2]\n    block (150, 151] x (1, 2]\n    block (151, 152] x (1, 2]\n    block (152, 153] x (1, 2]\n    block (153, 154] x (1, 2]\n    block (154, 155] x (1, 2]\n    block (155, 156] x (1, 2]\n    block (156, 157] x (1, 2]\n    block (157, 158] x (1, 2]\n    block (158, 159] x (1, 2]\n    block (159, 160] x (1, 2]\n    block (160, 161] x (1, 2]\n    block (161, 162] x (1, 2]\n    block (162, 163] x (1, 2]\n    block (163, 164] x (1, 2]\n    block (164, 165] x (1, 2]\n    block (165, 166] x (1, 2]\n    block (166, 167] x (1, 2]\n    block (167, 168] x (1, 2]\n    block (168, 169] x (1, 2]\n    block (169, 170] x (1, 2]\n    block (170, 171] x (1, 2]\n    block (171, 172] x (1, 2]\n    block (172, 173] x (1, 2]\n    block (173, 174] x (1, 2]\n    block (174, 175] x (1, 2]\n    block (175, 176] x (1, 2]\n    block (176, 177] x (1, 2]\n    block (177, 178] x (1, 2]\n    block (178, 179] x (1, 2]\n    block (179, 180] x (1, 2]\n    block (180, 181] x (1, 2]\n    block (181, 182] x (1, 2]\n    block (182, 183] x (1, 2]\n    block (183, 184] x (1, 2]\n    block (184, 185] x (1, 2]\n    block (185, 186] x (1, 2]\n    block (186, 187] x (1, 2]\n    block (187, 188] x (1, 2]\n    block (188, 189] x (1, 2]\n    block (189, 190] x (1, 2]\n    block (190, 191] x (1, 2]\n    block (191, 192] x (1, 2]\n    block (192, 193] x (1, 2]\n    block (193, 194] x (1, 2]\n    block (194, 195] x (1, 2]\n    block (195, 196] x (1, 2]\n    block (196, 197] x (1, 2]\n    block (197, 198] x (1, 2]\n    block (198, 199] x (1, 2]\n    block (199, 200] x (1, 2]\n    block (200, 201] x (1, 2]\n    block (201, 202] x (1, 2]\n    block (202, 203] x (1, 2]\n    block (203, 204] x (1, 2]\n    block (204, 205] x (1, 2]\n    block (205, 206] x (1, 2]\n    block (206, 207] x (1, 2]\n    block (207, 208] x (1, 2]\n    block (208, 209] x (1, 2]\n    block (209, 210] x (1, 2]\n    block (210, 211] x (1, 2]\n    block (211, 212] x (1, 2]\n    block (212, 213] x (1, 2]\n    block (213, 214] x (1, 2]\n    block (214, 215] x (1, 2]\n    block (215, 216] x (1, 2]\n    block (216, 217] x (1, 2]\n    block (217, 218] x (1, 2]\n    block (218, 219] x (1, 2]\n    block (219, 220] x (1, 2]\n    block (220, 221] x (1, 2]\n    block (221, 222] x (1, 2]\n    block (222, 223] x (1, 2]\n    block (223, 224] x (1, 2]\n    block (224, 225] x (1, 2]\n    block (225, 226] x (1, 2]\n    block (226, 227] x (1, 2]\n    block (227, 228] x (1, 2]\n    block (228, 229] x (1, 2]\n    block (229, 230] x (1, 2]\n    block (230, 231] x (1, 2]\n    block (231, 232] x (1, 2]\n    block (232, 233] x (1, 2]\n    block (233, 234] x (1, 2]\n    block (234, 235] x (1, 2]\n    block (235, 236] x (1, 2]\n    block (236, 237] x (1, 2]\n    block (237, 238] x (1, 2]\n    block (238, 239] x (1, 2]\n    block (239, 240] x (1, 2]\n    block (240, 241] x (1, 2]\n    block (241, 242] x (1, 2]\n    block (242, 243] x (1, 2]\n    block (243, 244] x (1, 2]\n    block (244, 245] x (1, 2]\n    block (245, 246] x (1, 2]\n    block (246, 247] x (1, 2]\n    block (247, 248] x (1, 2]\n    block (248, 249] x (1, 2]\n    block (249, 250] x (1, 2]\n    block (250, 251] x (1, 2]\n    block (251, 252] x (1, 2]\n    block (252, 253] x (1, 2]\n    block (253, 254] x (1, 2]\n    block (254, 255] x (1, 2]\n    block (255, 256] x (1, 2]\n    block (256, 257] x (1, 2]\n    block (257, 258] x (1, 2]\n    block (258, 259] x (1, 2]\n    block (259, 260] x (1, 2]\n    block (260, 261] x (1, 2]\n    block (261, 262] x (1, 2]\n    block (262, 263] x (1, 2]\n    block (263, 264] x (1, 2]\n    block (264, 265] x (1, 2]\n    block (265, 266] x (1, 2]\n    block (266, 267] x (1, 2]\n    block (267, 268] x (1, 2]\n    block (268, 269] x (1, 2]\n    block (269, 270] x (1, 2]\n    block (270, 271] x (1, 2]\n    block (271, 272] x (1, 2]\n    block (272, 273] x (1, 2]\n    block (273, 274] x (1, 2]\n    block (274, 275] x (1, 2]\n    block (275, 276] x (1, 2]\n    block (276, 277] x (1, 2]\n    block (277, 278] x (1, 2]\n    block (278, 279] x (1, 2]\n    block (279, 280] x (1, 2]\n    block (280, 281] x (1, 2]\n    block (281, 282] x (1, 2]\n    block (282, 283] x (1, 2]\n    block (283, 284] x (1, 2]\n    block (284, 285] x (1, 2]\n    block (285, 286] x (1, 2]\n    block (286, 287] x (1, 2]\n    block (287, 288] x (1, 2]\n    block (288, 289] x (1, 2]\n    block (289, 290] x (1, 2]\n    block (290, 291] x (1, 2]\n    block (291, 292] x (1, 2]\n    block (292, 293] x (1, 2]\n    block (293, 294] x (1, 2]\n    block (294, 295] x (1, 2]\n    block (295, 296] x (1, 2]\n    block (296, 297] x (1, 2]\n    block (297, 298] x (1, 2]\n    block (298, 299] x (1, 2]\n    block (299, 300] x (1, 2]\n    block (300, 301] x (1, 2]\n    block (301, 302] x (1, 2]\n    block (302, 303] x (1, 2]\n    block (303, 304] x (1, 2]\n    block (304, 305] x (1, 2]\n    block (305, 306] x (1, 2]\n    block (306, 307] x (1, 2]\n    block (307, 308] x (1, 2]\n    block (308, 309] x (1, 2]\n    block (309, 310] x (1, 2]\n    block (310, 311] x (1, 2]\n    block (311, 312] x (1, 2]\n    block (312, 313] x (1, 2]\n    block (313, 314] x (1, 2]\n    block (314, 315] x (1, 2]\n    block (315, 316] x (1, 2]\n    block (316, 317] x (1, 2]\n    block (317, 318] x (1, 2]\n    block (318, 319] x (1, 2]\n    block (319, 320] x (1, 2]\n    block (320, 321] x (1, 2]\n    block (321, 322] x (1, 2]\n    block (322, 323] x (1, 2]\n    block (323, 324] x (1, 2]\n    block (324, 325] x (1, 2]\n    block (325, 326] x (1, 2]\n    block (326, 327] x (1, 2]\n    block (327, 328] x (1, 2]\n    block (328, 329] x (1, 2]\n    block (329, 330] x (1, 2]\n    block (330, 331] x (1, 2]\n    block (331, 332] x (1, 2]\n    block (332, 333] x (1, 2]\n    block (333, 334] x (1, 2]\n    block (334, 335] x (1, 2]\n    block (335, 336] x (1, 2]\n    block (336, 337] x (1, 2]\n    block (337, 338] x (1, 2]\n    block (338, 339] x (1, 2]\n    block (339, 340] x (1, 2]\n    block (340, 341] x (1, 2]\n    block (341, 342] x (1, 2]\n    block (342, 343] x (1, 2]\n    block (343, 344] x (1, 2]\n    block (344, 345] x (1, 2]\n    block (345, 346] x (1, 2]\n    block (346, 347] x (1, 2]\n    block (347, 348] x (1, 2]\n    block (348, 349] x (1, 2]\n    block (349, 350] x (1, 2]\n    block (350, 351] x (1, 2]\n    block (351, 352] x (1, 2]\n    block (352, 353] x (1, 2]\n    block (353, 354] x (1, 2]\n    block (354, 355] x (1, 2]\n    block (355, 356] x (1, 2]\n    block (356, 357] x (1, 2]\n    block (357, 358] x (1, 2]\n    block (358, 359] x (1, 2]\n    block (359, 360] x (1, 2]\n    block (360, 361] x (1, 2]\n    block (361, 362] x (1, 2]\n    block (362, 363] x (1, 2]\n    block (363, 364] x (1, 2]\n    block (364, 365] x (1, 2]\n    block (365, 366] x (1, 2]\n    block (366, 367] x (1, 2]\n    block (367, 368] x (1, 2]\n    block (368, 369] x (1, 2]\n    block (369, 370] x (1, 2]\n    block (370, 371] x (1, 2]\n    block (371, 372] x (1, 2]\n    block (372, 373] x (1, 2]\n    block (373, 374] x (1, 2]\n    block (374, 375] x (1, 2]\n    block (375, 376] x (1, 2]\n    block (376, 377] x (1, 2]\n    block (377, 378] x (1, 2]\n    block (378, 379] x (1, 2]\n    block (379, 380] x (1, 2]\n    block (380, 381] x (1, 2]\n    block (381, 382] x (1, 2]\n    block (382, 383] x (1, 2]\n    block (383, 384] x (1, 2]\n    block (384, 385] x (1, 2]\n    block (385, 386] x (1, 2]\n    block (386, 387] x (1, 2]\n    block (387, 388] x (1, 2]\n    block (388, 389] x (1, 2]\n    block (389, 390] x (1, 2]\n    block (390, 391] x (1, 2]\n    block (391, 392] x (1, 2]\n    block (392, 393] x (1, 2]\n    block (393, 394] x (1, 2]\n    block (394, 395] x (1, 2]\n    block (395, 396] x (1, 2]\n    block (396, 397] x (1, 2]\n    block (397, 398] x (1, 2]\n    block (398, 399] x (1, 2]\n    block (399, 400] x (1, 2]\n    block (400, 401] x (1, 2]\n    block (401, 402] x (1, 2]\n    block (402, 403] x (1, 2]\n    block (403, 404] x (1, 2]\n    block (404, 405] x (1, 2]\n    block (405, 406] x (1, 2]\n    block (406, 407] x (1, 2]\n    block (407, 408] x (1, 2]\n    block (408, 409] x (1, 2]\n    block (409, 410] x (1, 2]\n    block (410, 411] x (1, 2]\n    block (411, 412] x (1, 2]\n    block (412, 413] x (1, 2]\n    block (413, 414] x (1, 2]\n    block (414, 415] x (1, 2]\n    block (415, 416] x (1, 2]\n    block (416, 417] x (1, 2]\n    block (417, 418] x (1, 2]\n    block (418, 419] x (1, 2]\n    block (419, 420] x (1, 2]\n    block (420, 421] x (1, 2]\n    block (421, 422] x (1, 2]\n    block (422, 423] x (1, 2]\n    block (423, 424] x (1, 2]\n    block (424, 425] x (1, 2]\n    block (425, 426] x (1, 2]\n    block (426, 427] x (1, 2]\n    block (427, 428] x (1, 2]\n    block (428, 429] x (1, 2]\n    block (429, 430] x (1, 2]\n    block (430, 431] x (1, 2]\n    block (431, 432] x (1, 2]\n    block (432, 433] x (1, 2]\n    block (433, 434] x (1, 2]\n    block (434, 435] x (1, 2]\n    block (435, 436] x (1, 2]\n    block (436, 437] x (1, 2]\n    block (437, 438] x (1, 2]\n    block (438, 439] x (1, 2]\n    block (439, 440] x (1, 2]\n    block (440, 441] x (1, 2]\n    block (441, 442] x (1, 2]\n    block (442, 443] x (1, 2]\n    block (443, 444] x (1, 2]\n    block (444, 445] x (1, 2]\n    block (445, 446] x (1, 2]\n    block (446, 447] x (1, 2]\n    block (447, 448] x (1, 2]\n    block (448, 449] x (1, 2]\n    block (449, 450] x (1, 2]\n    block (450, 451] x (1, 2]\n    block (451, 452] x (1, 2]\n    block (452, 453] x (1, 2]\n    block (453, 454] x (1, 2]\n    block (454, 455] x (1, 2]\n    block (455, 456] x (1, 2]\n    block (456, 457] x (1, 2]\n    block (457, 458] x (1, 2]\n    block (458, 459] x (1, 2]\n    block (459, 460] x (1, 2]\n    block (460, 461] x (1, 2]\n    block (461, 462] x (1, 2]\n    block (462, 463] x (1, 2]\n    block (463, 464] x (1, 2]\n    block (464, 465] x (1, 2]\n    block (465, 466] x (1, 2]\n    block (466, 467] x (1, 2]\n    block (467, 468] x (1, 2]\n    block (468, 469] x (1, 2]\n    block (469, 470] x (1, 2]\n    block (470, 471] x (1, 2]\n    block (471, 472] x (1, 2]\n    block (472, 473] x (1, 2]\n    block (473, 474] x (1, 2]\n    block (474, 475] x (1, 2]\n    block (475, 476] x (1, 2]\n    block (476, 477] x (1, 2]\n    block (477, 478] x (1, 2]\n    block (478, 479] x (1, 2]\n    block (479, 480] x (1, 2]\n    block (480, 481] x (1, 2]\n    block (481, 482] x (1, 2]\n    block (482, 483] x (1, 2]\n    block (483, 484] x (1, 2]\n    block (484, 485] x (1, 2]\n    block (485, 486] x (1, 2]\n    block (486, 487] x (1, 2]\n    block (487, 488] x (1, 2]\n    block (488, 489] x (1, 2]\n    block (489, 490] x (1, 2]\n    block (490, 491] x (1, 2]\n    block (491, 492] x (1, 2]\n    block (492, 493] x (1, 2]\n    block (493, 494] x (1, 2]\n    block (494, 495] x (1, 2]\n    block (495, 496] x (1, 2]\n    block (496, 497] x (1, 2]\n    block (497, 498] x (1, 2]\n    block (498, 499] x (1, 2]\n    block (499, 500] x (1, 2]\n    block (500, 501] x (1, 2]\n    block (501, 502] x (1, 2]\n    block (502, 503] x (1, 2]\n    block (503, 504] x (1, 2]\n    block (504, 505] x (1, 2]\n    block (505, 506] x (1, 2]\n    block (506, 507] x (1, 2]\n    block (507, 508] x (1, 2]\n    block (508, 509] x (1, 2]\n    block (509, 510] x (1, 2]\n    block (510, 511] x (1, 2]\n    block (511, 512] x (1, 2]\n    block (512, 513] x (1, 2]\n    block (513, 514] x (1, 2]\n    block (514, 515] x (1, 2]\n    block (515, 516] x (1, 2]\n    block (516, 517] x (1, 2]\n    block (517, 518] x (1, 2]\n    block (518, 519] x (1, 2]\n    block (519, 520] x (1, 2]\n    block (520, 521] x (1, 2]\n    block (521, 522] x (1, 2]\n    block (522, 523] x (1, 2]\n    block (523, 524] x (1, 2]\n    block (524, 525] x (1, 2]\n    block (525, 526] x (1, 2]\n    block (526, 527] x (1, 2]\n    block (527, 528] x (1, 2]\n    block (528, 529] x (1, 2]\n    block (529, 530] x (1, 2]\n    block (530, 531] x (1, 2]\n    block (531, 532] x (1, 2]\n    block (532, 533] x (1, 2]\n    block (533, 534] x (1, 2]\n    block (534, 535] x (1, 2]\n    block (535, 536] x (1, 2]\n    block (536, 537] x (1, 2]\n    block (537, 538] x (1, 2]\n    block (538, 539] x (1, 2]\n    block (539, 540] x (1, 2]\n    block (540, 541] x (1, 2]\n    block (541, 542] x (1, 2]\n    block (542, 543] x (1, 2]\n    block (543, 544] x (1, 2]\n    block (544, 545] x (1, 2]\n    block (545, 546] x (1, 2]\n    block (546, 547] x (1, 2]\n    block (547, 548] x (1, 2]\n    block (548, 549] x (1, 2]\n    block (549, 550] x (1, 2]\n    block (550, 551] x (1, 2]\n    block (551, 552] x (1, 2]\n    block (552, 553] x (1, 2]\n    block (553, 554] x (1, 2]\n    block (554, 555] x (1, 2]\n    block (555, 556] x (1, 2]\n    block (556, 557] x (1, 2]\n    block (557, 558] x (1, 2]\n    block (558, 559] x (1, 2]\n    block (559, 560] x (1, 2]\n    block (560, 561] x (1, 2]\n    block (561, 562] x (1, 2]\n    block (562, 563] x (1, 2]\n    block (563, 564] x (1, 2]\n    block (564, 565] x (1, 2]\n    block (565, 566] x (1, 2]\n    block (566, 567] x (1, 2]\n    block (567, 568] x (1, 2]\n  packing_line (0, 180] x (2, 5]\n    preparation (0, 7] x (4, 5]\n    packing_brynza (7, 43] x (4, 5]\n    small_cleaning (43, 48] x (4, 5]\n    labelling (48, 62] x (4, 5]\n    packing_adygea (62, 71] x (4, 5]\n    packing_configuration (71, 72] x (4, 5]\n    packing_adygea (72, 81] x (4, 5]\n    packing_configuration (81, 82] x (4, 5]\n    packing_adygea (82, 91] x (4, 5]\n    packing_configuration (91, 92] x (4, 5]\n    packing_adygea (92, 101] x (4, 5]\n    packing_configuration (101, 102] x (4, 5]\n    packing_adygea (102, 111] x (4, 5]\n    packing_configuration (111, 112] x (4, 5]\n    packing_adygea (112, 121] x (4, 5]\n    packing_configuration (121, 122] x (4, 5]\n    packing_adygea (122, 131] x (4, 5]\n    packing_configuration (131, 132] x (4, 5]\n    packing_adygea (132, 141] x (4, 5]\n    packing_configuration (141, 142] x (4, 5]\n    packing_adygea (142, 151] x (4, 5]\n    packing_configuration (151, 152] x (4, 5]\n    packing_adygea (152, 161] x (4, 5]\n    packing_configuration (161, 162] x (4, 5]\n    packing_adygea (162, 171] x (4, 5]\n    packing_configuration (171, 172] x (4, 5]\n    packing_adygea (172, 180] x (4, 5]\n    cleaning (180, 180] x (4, 5]"
     },
     "execution_count": 127,
     "metadata": {},
     "output_type": "execute_result"
    }
   ],
   "source": [
    "# - Plot boilings\n",
    "\n",
    "date = datetime.now()\n",
    "\n",
    "m = BlockMaker(\n",
    "    \"frontend\",\n",
    "    default_row_width=1,\n",
    "    default_col_width=1,\n",
    "    # props\n",
    "    axis=1,\n",
    ")\n",
    "m.row(\"stub\", size=0)  # start with 1\n",
    "\n",
    "m.block(wrap_header(date=date, start_time='11:00', header=\"График паковки\"))\n",
    "\n",
    "\n",
    "# make packing line\n",
    "\n",
    "_m = BlockMaker(\n",
    "    \"packing_line\",\n",
    "    default_row_width=1,\n",
    "    default_col_width=1,\n",
    "    # props\n",
    "    axis=1,\n",
    ")\n",
    "\n",
    "for block in schedule.children:\n",
    "    _block = _m.copy(block, with_props=True)\n",
    "    _m.block(_block, push_func=add_push, size=(block.size[0], 1))\n",
    "m.block(_m.root)\n",
    "\n",
    "frontend = m.root\n",
    "frontend"
   ],
   "metadata": {
    "collapsed": false,
    "ExecuteTime": {
     "end_time": "2023-11-23T08:47:06.959737Z",
     "start_time": "2023-11-23T08:47:06.612299Z"
    }
   }
  },
  {
   "cell_type": "code",
   "execution_count": 128,
   "outputs": [],
   "source": [
    "STYLE = {\n",
    "    \"preparation\": {\"text\": \"подготовка, мойка, дезинфекция оборудования. Вызов микробиолога.\"},\n",
    "    'packing_brynza': {'text': 'Паковка брынзы'},\n",
    "    'small_cleaning': {'text': 'мойка'},\n",
    "    'cleaning': {'text': 'мойка цеха'},\n",
    "    'packing_configuration': {'color': 'red'},\n",
    "    'packing_adygea': {'text': 'паковка адыгейского'},\n",
    "    'labelling': {'text': 'маркировка'}\n",
    "}\n"
   ],
   "metadata": {
    "collapsed": false,
    "ExecuteTime": {
     "end_time": "2023-11-23T08:47:08.318851Z",
     "start_time": "2023-11-23T08:47:08.316191Z"
    }
   }
  },
  {
   "cell_type": "code",
   "execution_count": 129,
   "outputs": [
    {
     "name": "stderr",
     "output_type": "stream",
     "text": [
      "\u001B[32m2023-11-23 09:47:08.428\u001B[0m | \u001B[1mINFO    \u001B[0m | \u001B[36mapp.scheduler.frontend_utils\u001B[0m:\u001B[36mdraw_schedule\u001B[0m:\u001B[36m46\u001B[0m - \u001B[1mFinished init\u001B[0m\n"
     ]
    }
   ],
   "source": [
    "# - Draw frontend\n",
    "\n",
    "workbook = draw_excel_frontend(\n",
    "    frontend=frontend,\n",
    "    style=STYLE,\n",
    "    open_file=False,\n",
    "    fn=None,\n",
    ")\n",
    "\n",
    "\n",
    "workbook.save(\"test.xlsx\")\n",
    "open_file_in_os(\"test.xlsx\")\n"
   ],
   "metadata": {
    "collapsed": false,
    "ExecuteTime": {
     "end_time": "2023-11-23T08:47:08.957762Z",
     "start_time": "2023-11-23T08:47:08.430050Z"
    }
   }
  },
  {
   "cell_type": "code",
   "execution_count": 111,
   "outputs": [
    {
     "data": {
      "text/plain": "frontend (0, 568] x (0, 3]\n  stub (0, 0] x (0, 1]\n  header (0, 568] x (1, 2]\n    block (0, 1] x (1, 2]\n    block (1, 2] x (1, 2]\n    block (2, 3] x (1, 2]\n    block (3, 4] x (1, 2]\n    block (4, 5] x (1, 2]\n    block (5, 6] x (1, 2]\n    block (6, 7] x (1, 2]\n    block (7, 8] x (1, 2]\n    block (8, 9] x (1, 2]\n    block (9, 10] x (1, 2]\n    block (10, 11] x (1, 2]\n    block (11, 12] x (1, 2]\n    block (12, 13] x (1, 2]\n    block (13, 14] x (1, 2]\n    block (14, 15] x (1, 2]\n    block (15, 16] x (1, 2]\n    block (16, 17] x (1, 2]\n    block (17, 18] x (1, 2]\n    block (18, 19] x (1, 2]\n    block (19, 20] x (1, 2]\n    block (20, 21] x (1, 2]\n    block (21, 22] x (1, 2]\n    block (22, 23] x (1, 2]\n    block (23, 24] x (1, 2]\n    block (24, 25] x (1, 2]\n    block (25, 26] x (1, 2]\n    block (26, 27] x (1, 2]\n    block (27, 28] x (1, 2]\n    block (28, 29] x (1, 2]\n    block (29, 30] x (1, 2]\n    block (30, 31] x (1, 2]\n    block (31, 32] x (1, 2]\n    block (32, 33] x (1, 2]\n    block (33, 34] x (1, 2]\n    block (34, 35] x (1, 2]\n    block (35, 36] x (1, 2]\n    block (36, 37] x (1, 2]\n    block (37, 38] x (1, 2]\n    block (38, 39] x (1, 2]\n    block (39, 40] x (1, 2]\n    block (40, 41] x (1, 2]\n    block (41, 42] x (1, 2]\n    block (42, 43] x (1, 2]\n    block (43, 44] x (1, 2]\n    block (44, 45] x (1, 2]\n    block (45, 46] x (1, 2]\n    block (46, 47] x (1, 2]\n    block (47, 48] x (1, 2]\n    block (48, 49] x (1, 2]\n    block (49, 50] x (1, 2]\n    block (50, 51] x (1, 2]\n    block (51, 52] x (1, 2]\n    block (52, 53] x (1, 2]\n    block (53, 54] x (1, 2]\n    block (54, 55] x (1, 2]\n    block (55, 56] x (1, 2]\n    block (56, 57] x (1, 2]\n    block (57, 58] x (1, 2]\n    block (58, 59] x (1, 2]\n    block (59, 60] x (1, 2]\n    block (60, 61] x (1, 2]\n    block (61, 62] x (1, 2]\n    block (62, 63] x (1, 2]\n    block (63, 64] x (1, 2]\n    block (64, 65] x (1, 2]\n    block (65, 66] x (1, 2]\n    block (66, 67] x (1, 2]\n    block (67, 68] x (1, 2]\n    block (68, 69] x (1, 2]\n    block (69, 70] x (1, 2]\n    block (70, 71] x (1, 2]\n    block (71, 72] x (1, 2]\n    block (72, 73] x (1, 2]\n    block (73, 74] x (1, 2]\n    block (74, 75] x (1, 2]\n    block (75, 76] x (1, 2]\n    block (76, 77] x (1, 2]\n    block (77, 78] x (1, 2]\n    block (78, 79] x (1, 2]\n    block (79, 80] x (1, 2]\n    block (80, 81] x (1, 2]\n    block (81, 82] x (1, 2]\n    block (82, 83] x (1, 2]\n    block (83, 84] x (1, 2]\n    block (84, 85] x (1, 2]\n    block (85, 86] x (1, 2]\n    block (86, 87] x (1, 2]\n    block (87, 88] x (1, 2]\n    block (88, 89] x (1, 2]\n    block (89, 90] x (1, 2]\n    block (90, 91] x (1, 2]\n    block (91, 92] x (1, 2]\n    block (92, 93] x (1, 2]\n    block (93, 94] x (1, 2]\n    block (94, 95] x (1, 2]\n    block (95, 96] x (1, 2]\n    block (96, 97] x (1, 2]\n    block (97, 98] x (1, 2]\n    block (98, 99] x (1, 2]\n    block (99, 100] x (1, 2]\n    block (100, 101] x (1, 2]\n    block (101, 102] x (1, 2]\n    block (102, 103] x (1, 2]\n    block (103, 104] x (1, 2]\n    block (104, 105] x (1, 2]\n    block (105, 106] x (1, 2]\n    block (106, 107] x (1, 2]\n    block (107, 108] x (1, 2]\n    block (108, 109] x (1, 2]\n    block (109, 110] x (1, 2]\n    block (110, 111] x (1, 2]\n    block (111, 112] x (1, 2]\n    block (112, 113] x (1, 2]\n    block (113, 114] x (1, 2]\n    block (114, 115] x (1, 2]\n    block (115, 116] x (1, 2]\n    block (116, 117] x (1, 2]\n    block (117, 118] x (1, 2]\n    block (118, 119] x (1, 2]\n    block (119, 120] x (1, 2]\n    block (120, 121] x (1, 2]\n    block (121, 122] x (1, 2]\n    block (122, 123] x (1, 2]\n    block (123, 124] x (1, 2]\n    block (124, 125] x (1, 2]\n    block (125, 126] x (1, 2]\n    block (126, 127] x (1, 2]\n    block (127, 128] x (1, 2]\n    block (128, 129] x (1, 2]\n    block (129, 130] x (1, 2]\n    block (130, 131] x (1, 2]\n    block (131, 132] x (1, 2]\n    block (132, 133] x (1, 2]\n    block (133, 134] x (1, 2]\n    block (134, 135] x (1, 2]\n    block (135, 136] x (1, 2]\n    block (136, 137] x (1, 2]\n    block (137, 138] x (1, 2]\n    block (138, 139] x (1, 2]\n    block (139, 140] x (1, 2]\n    block (140, 141] x (1, 2]\n    block (141, 142] x (1, 2]\n    block (142, 143] x (1, 2]\n    block (143, 144] x (1, 2]\n    block (144, 145] x (1, 2]\n    block (145, 146] x (1, 2]\n    block (146, 147] x (1, 2]\n    block (147, 148] x (1, 2]\n    block (148, 149] x (1, 2]\n    block (149, 150] x (1, 2]\n    block (150, 151] x (1, 2]\n    block (151, 152] x (1, 2]\n    block (152, 153] x (1, 2]\n    block (153, 154] x (1, 2]\n    block (154, 155] x (1, 2]\n    block (155, 156] x (1, 2]\n    block (156, 157] x (1, 2]\n    block (157, 158] x (1, 2]\n    block (158, 159] x (1, 2]\n    block (159, 160] x (1, 2]\n    block (160, 161] x (1, 2]\n    block (161, 162] x (1, 2]\n    block (162, 163] x (1, 2]\n    block (163, 164] x (1, 2]\n    block (164, 165] x (1, 2]\n    block (165, 166] x (1, 2]\n    block (166, 167] x (1, 2]\n    block (167, 168] x (1, 2]\n    block (168, 169] x (1, 2]\n    block (169, 170] x (1, 2]\n    block (170, 171] x (1, 2]\n    block (171, 172] x (1, 2]\n    block (172, 173] x (1, 2]\n    block (173, 174] x (1, 2]\n    block (174, 175] x (1, 2]\n    block (175, 176] x (1, 2]\n    block (176, 177] x (1, 2]\n    block (177, 178] x (1, 2]\n    block (178, 179] x (1, 2]\n    block (179, 180] x (1, 2]\n    block (180, 181] x (1, 2]\n    block (181, 182] x (1, 2]\n    block (182, 183] x (1, 2]\n    block (183, 184] x (1, 2]\n    block (184, 185] x (1, 2]\n    block (185, 186] x (1, 2]\n    block (186, 187] x (1, 2]\n    block (187, 188] x (1, 2]\n    block (188, 189] x (1, 2]\n    block (189, 190] x (1, 2]\n    block (190, 191] x (1, 2]\n    block (191, 192] x (1, 2]\n    block (192, 193] x (1, 2]\n    block (193, 194] x (1, 2]\n    block (194, 195] x (1, 2]\n    block (195, 196] x (1, 2]\n    block (196, 197] x (1, 2]\n    block (197, 198] x (1, 2]\n    block (198, 199] x (1, 2]\n    block (199, 200] x (1, 2]\n    block (200, 201] x (1, 2]\n    block (201, 202] x (1, 2]\n    block (202, 203] x (1, 2]\n    block (203, 204] x (1, 2]\n    block (204, 205] x (1, 2]\n    block (205, 206] x (1, 2]\n    block (206, 207] x (1, 2]\n    block (207, 208] x (1, 2]\n    block (208, 209] x (1, 2]\n    block (209, 210] x (1, 2]\n    block (210, 211] x (1, 2]\n    block (211, 212] x (1, 2]\n    block (212, 213] x (1, 2]\n    block (213, 214] x (1, 2]\n    block (214, 215] x (1, 2]\n    block (215, 216] x (1, 2]\n    block (216, 217] x (1, 2]\n    block (217, 218] x (1, 2]\n    block (218, 219] x (1, 2]\n    block (219, 220] x (1, 2]\n    block (220, 221] x (1, 2]\n    block (221, 222] x (1, 2]\n    block (222, 223] x (1, 2]\n    block (223, 224] x (1, 2]\n    block (224, 225] x (1, 2]\n    block (225, 226] x (1, 2]\n    block (226, 227] x (1, 2]\n    block (227, 228] x (1, 2]\n    block (228, 229] x (1, 2]\n    block (229, 230] x (1, 2]\n    block (230, 231] x (1, 2]\n    block (231, 232] x (1, 2]\n    block (232, 233] x (1, 2]\n    block (233, 234] x (1, 2]\n    block (234, 235] x (1, 2]\n    block (235, 236] x (1, 2]\n    block (236, 237] x (1, 2]\n    block (237, 238] x (1, 2]\n    block (238, 239] x (1, 2]\n    block (239, 240] x (1, 2]\n    block (240, 241] x (1, 2]\n    block (241, 242] x (1, 2]\n    block (242, 243] x (1, 2]\n    block (243, 244] x (1, 2]\n    block (244, 245] x (1, 2]\n    block (245, 246] x (1, 2]\n    block (246, 247] x (1, 2]\n    block (247, 248] x (1, 2]\n    block (248, 249] x (1, 2]\n    block (249, 250] x (1, 2]\n    block (250, 251] x (1, 2]\n    block (251, 252] x (1, 2]\n    block (252, 253] x (1, 2]\n    block (253, 254] x (1, 2]\n    block (254, 255] x (1, 2]\n    block (255, 256] x (1, 2]\n    block (256, 257] x (1, 2]\n    block (257, 258] x (1, 2]\n    block (258, 259] x (1, 2]\n    block (259, 260] x (1, 2]\n    block (260, 261] x (1, 2]\n    block (261, 262] x (1, 2]\n    block (262, 263] x (1, 2]\n    block (263, 264] x (1, 2]\n    block (264, 265] x (1, 2]\n    block (265, 266] x (1, 2]\n    block (266, 267] x (1, 2]\n    block (267, 268] x (1, 2]\n    block (268, 269] x (1, 2]\n    block (269, 270] x (1, 2]\n    block (270, 271] x (1, 2]\n    block (271, 272] x (1, 2]\n    block (272, 273] x (1, 2]\n    block (273, 274] x (1, 2]\n    block (274, 275] x (1, 2]\n    block (275, 276] x (1, 2]\n    block (276, 277] x (1, 2]\n    block (277, 278] x (1, 2]\n    block (278, 279] x (1, 2]\n    block (279, 280] x (1, 2]\n    block (280, 281] x (1, 2]\n    block (281, 282] x (1, 2]\n    block (282, 283] x (1, 2]\n    block (283, 284] x (1, 2]\n    block (284, 285] x (1, 2]\n    block (285, 286] x (1, 2]\n    block (286, 287] x (1, 2]\n    block (287, 288] x (1, 2]\n    block (288, 289] x (1, 2]\n    block (289, 290] x (1, 2]\n    block (290, 291] x (1, 2]\n    block (291, 292] x (1, 2]\n    block (292, 293] x (1, 2]\n    block (293, 294] x (1, 2]\n    block (294, 295] x (1, 2]\n    block (295, 296] x (1, 2]\n    block (296, 297] x (1, 2]\n    block (297, 298] x (1, 2]\n    block (298, 299] x (1, 2]\n    block (299, 300] x (1, 2]\n    block (300, 301] x (1, 2]\n    block (301, 302] x (1, 2]\n    block (302, 303] x (1, 2]\n    block (303, 304] x (1, 2]\n    block (304, 305] x (1, 2]\n    block (305, 306] x (1, 2]\n    block (306, 307] x (1, 2]\n    block (307, 308] x (1, 2]\n    block (308, 309] x (1, 2]\n    block (309, 310] x (1, 2]\n    block (310, 311] x (1, 2]\n    block (311, 312] x (1, 2]\n    block (312, 313] x (1, 2]\n    block (313, 314] x (1, 2]\n    block (314, 315] x (1, 2]\n    block (315, 316] x (1, 2]\n    block (316, 317] x (1, 2]\n    block (317, 318] x (1, 2]\n    block (318, 319] x (1, 2]\n    block (319, 320] x (1, 2]\n    block (320, 321] x (1, 2]\n    block (321, 322] x (1, 2]\n    block (322, 323] x (1, 2]\n    block (323, 324] x (1, 2]\n    block (324, 325] x (1, 2]\n    block (325, 326] x (1, 2]\n    block (326, 327] x (1, 2]\n    block (327, 328] x (1, 2]\n    block (328, 329] x (1, 2]\n    block (329, 330] x (1, 2]\n    block (330, 331] x (1, 2]\n    block (331, 332] x (1, 2]\n    block (332, 333] x (1, 2]\n    block (333, 334] x (1, 2]\n    block (334, 335] x (1, 2]\n    block (335, 336] x (1, 2]\n    block (336, 337] x (1, 2]\n    block (337, 338] x (1, 2]\n    block (338, 339] x (1, 2]\n    block (339, 340] x (1, 2]\n    block (340, 341] x (1, 2]\n    block (341, 342] x (1, 2]\n    block (342, 343] x (1, 2]\n    block (343, 344] x (1, 2]\n    block (344, 345] x (1, 2]\n    block (345, 346] x (1, 2]\n    block (346, 347] x (1, 2]\n    block (347, 348] x (1, 2]\n    block (348, 349] x (1, 2]\n    block (349, 350] x (1, 2]\n    block (350, 351] x (1, 2]\n    block (351, 352] x (1, 2]\n    block (352, 353] x (1, 2]\n    block (353, 354] x (1, 2]\n    block (354, 355] x (1, 2]\n    block (355, 356] x (1, 2]\n    block (356, 357] x (1, 2]\n    block (357, 358] x (1, 2]\n    block (358, 359] x (1, 2]\n    block (359, 360] x (1, 2]\n    block (360, 361] x (1, 2]\n    block (361, 362] x (1, 2]\n    block (362, 363] x (1, 2]\n    block (363, 364] x (1, 2]\n    block (364, 365] x (1, 2]\n    block (365, 366] x (1, 2]\n    block (366, 367] x (1, 2]\n    block (367, 368] x (1, 2]\n    block (368, 369] x (1, 2]\n    block (369, 370] x (1, 2]\n    block (370, 371] x (1, 2]\n    block (371, 372] x (1, 2]\n    block (372, 373] x (1, 2]\n    block (373, 374] x (1, 2]\n    block (374, 375] x (1, 2]\n    block (375, 376] x (1, 2]\n    block (376, 377] x (1, 2]\n    block (377, 378] x (1, 2]\n    block (378, 379] x (1, 2]\n    block (379, 380] x (1, 2]\n    block (380, 381] x (1, 2]\n    block (381, 382] x (1, 2]\n    block (382, 383] x (1, 2]\n    block (383, 384] x (1, 2]\n    block (384, 385] x (1, 2]\n    block (385, 386] x (1, 2]\n    block (386, 387] x (1, 2]\n    block (387, 388] x (1, 2]\n    block (388, 389] x (1, 2]\n    block (389, 390] x (1, 2]\n    block (390, 391] x (1, 2]\n    block (391, 392] x (1, 2]\n    block (392, 393] x (1, 2]\n    block (393, 394] x (1, 2]\n    block (394, 395] x (1, 2]\n    block (395, 396] x (1, 2]\n    block (396, 397] x (1, 2]\n    block (397, 398] x (1, 2]\n    block (398, 399] x (1, 2]\n    block (399, 400] x (1, 2]\n    block (400, 401] x (1, 2]\n    block (401, 402] x (1, 2]\n    block (402, 403] x (1, 2]\n    block (403, 404] x (1, 2]\n    block (404, 405] x (1, 2]\n    block (405, 406] x (1, 2]\n    block (406, 407] x (1, 2]\n    block (407, 408] x (1, 2]\n    block (408, 409] x (1, 2]\n    block (409, 410] x (1, 2]\n    block (410, 411] x (1, 2]\n    block (411, 412] x (1, 2]\n    block (412, 413] x (1, 2]\n    block (413, 414] x (1, 2]\n    block (414, 415] x (1, 2]\n    block (415, 416] x (1, 2]\n    block (416, 417] x (1, 2]\n    block (417, 418] x (1, 2]\n    block (418, 419] x (1, 2]\n    block (419, 420] x (1, 2]\n    block (420, 421] x (1, 2]\n    block (421, 422] x (1, 2]\n    block (422, 423] x (1, 2]\n    block (423, 424] x (1, 2]\n    block (424, 425] x (1, 2]\n    block (425, 426] x (1, 2]\n    block (426, 427] x (1, 2]\n    block (427, 428] x (1, 2]\n    block (428, 429] x (1, 2]\n    block (429, 430] x (1, 2]\n    block (430, 431] x (1, 2]\n    block (431, 432] x (1, 2]\n    block (432, 433] x (1, 2]\n    block (433, 434] x (1, 2]\n    block (434, 435] x (1, 2]\n    block (435, 436] x (1, 2]\n    block (436, 437] x (1, 2]\n    block (437, 438] x (1, 2]\n    block (438, 439] x (1, 2]\n    block (439, 440] x (1, 2]\n    block (440, 441] x (1, 2]\n    block (441, 442] x (1, 2]\n    block (442, 443] x (1, 2]\n    block (443, 444] x (1, 2]\n    block (444, 445] x (1, 2]\n    block (445, 446] x (1, 2]\n    block (446, 447] x (1, 2]\n    block (447, 448] x (1, 2]\n    block (448, 449] x (1, 2]\n    block (449, 450] x (1, 2]\n    block (450, 451] x (1, 2]\n    block (451, 452] x (1, 2]\n    block (452, 453] x (1, 2]\n    block (453, 454] x (1, 2]\n    block (454, 455] x (1, 2]\n    block (455, 456] x (1, 2]\n    block (456, 457] x (1, 2]\n    block (457, 458] x (1, 2]\n    block (458, 459] x (1, 2]\n    block (459, 460] x (1, 2]\n    block (460, 461] x (1, 2]\n    block (461, 462] x (1, 2]\n    block (462, 463] x (1, 2]\n    block (463, 464] x (1, 2]\n    block (464, 465] x (1, 2]\n    block (465, 466] x (1, 2]\n    block (466, 467] x (1, 2]\n    block (467, 468] x (1, 2]\n    block (468, 469] x (1, 2]\n    block (469, 470] x (1, 2]\n    block (470, 471] x (1, 2]\n    block (471, 472] x (1, 2]\n    block (472, 473] x (1, 2]\n    block (473, 474] x (1, 2]\n    block (474, 475] x (1, 2]\n    block (475, 476] x (1, 2]\n    block (476, 477] x (1, 2]\n    block (477, 478] x (1, 2]\n    block (478, 479] x (1, 2]\n    block (479, 480] x (1, 2]\n    block (480, 481] x (1, 2]\n    block (481, 482] x (1, 2]\n    block (482, 483] x (1, 2]\n    block (483, 484] x (1, 2]\n    block (484, 485] x (1, 2]\n    block (485, 486] x (1, 2]\n    block (486, 487] x (1, 2]\n    block (487, 488] x (1, 2]\n    block (488, 489] x (1, 2]\n    block (489, 490] x (1, 2]\n    block (490, 491] x (1, 2]\n    block (491, 492] x (1, 2]\n    block (492, 493] x (1, 2]\n    block (493, 494] x (1, 2]\n    block (494, 495] x (1, 2]\n    block (495, 496] x (1, 2]\n    block (496, 497] x (1, 2]\n    block (497, 498] x (1, 2]\n    block (498, 499] x (1, 2]\n    block (499, 500] x (1, 2]\n    block (500, 501] x (1, 2]\n    block (501, 502] x (1, 2]\n    block (502, 503] x (1, 2]\n    block (503, 504] x (1, 2]\n    block (504, 505] x (1, 2]\n    block (505, 506] x (1, 2]\n    block (506, 507] x (1, 2]\n    block (507, 508] x (1, 2]\n    block (508, 509] x (1, 2]\n    block (509, 510] x (1, 2]\n    block (510, 511] x (1, 2]\n    block (511, 512] x (1, 2]\n    block (512, 513] x (1, 2]\n    block (513, 514] x (1, 2]\n    block (514, 515] x (1, 2]\n    block (515, 516] x (1, 2]\n    block (516, 517] x (1, 2]\n    block (517, 518] x (1, 2]\n    block (518, 519] x (1, 2]\n    block (519, 520] x (1, 2]\n    block (520, 521] x (1, 2]\n    block (521, 522] x (1, 2]\n    block (522, 523] x (1, 2]\n    block (523, 524] x (1, 2]\n    block (524, 525] x (1, 2]\n    block (525, 526] x (1, 2]\n    block (526, 527] x (1, 2]\n    block (527, 528] x (1, 2]\n    block (528, 529] x (1, 2]\n    block (529, 530] x (1, 2]\n    block (530, 531] x (1, 2]\n    block (531, 532] x (1, 2]\n    block (532, 533] x (1, 2]\n    block (533, 534] x (1, 2]\n    block (534, 535] x (1, 2]\n    block (535, 536] x (1, 2]\n    block (536, 537] x (1, 2]\n    block (537, 538] x (1, 2]\n    block (538, 539] x (1, 2]\n    block (539, 540] x (1, 2]\n    block (540, 541] x (1, 2]\n    block (541, 542] x (1, 2]\n    block (542, 543] x (1, 2]\n    block (543, 544] x (1, 2]\n    block (544, 545] x (1, 2]\n    block (545, 546] x (1, 2]\n    block (546, 547] x (1, 2]\n    block (547, 548] x (1, 2]\n    block (548, 549] x (1, 2]\n    block (549, 550] x (1, 2]\n    block (550, 551] x (1, 2]\n    block (551, 552] x (1, 2]\n    block (552, 553] x (1, 2]\n    block (553, 554] x (1, 2]\n    block (554, 555] x (1, 2]\n    block (555, 556] x (1, 2]\n    block (556, 557] x (1, 2]\n    block (557, 558] x (1, 2]\n    block (558, 559] x (1, 2]\n    block (559, 560] x (1, 2]\n    block (560, 561] x (1, 2]\n    block (561, 562] x (1, 2]\n    block (562, 563] x (1, 2]\n    block (563, 564] x (1, 2]\n    block (564, 565] x (1, 2]\n    block (565, 566] x (1, 2]\n    block (566, 567] x (1, 2]\n    block (567, 568] x (1, 2]\n  packing_line (0, 181] x (2, 3]\n    preparation (0, 1] x (2, 3]\n    packing_brynza (7, 8] x (2, 3]\n    small_cleaning (43, 44] x (2, 3]\n    labelling (48, 49] x (2, 3]\n    packing_adygea (62, 63] x (2, 3]\n    packing_configuration (71, 72] x (2, 3]\n    packing_adygea (72, 73] x (2, 3]\n    packing_configuration (81, 82] x (2, 3]\n    packing_adygea (82, 83] x (2, 3]\n    packing_configuration (91, 92] x (2, 3]\n    packing_adygea (92, 93] x (2, 3]\n    packing_configuration (101, 102] x (2, 3]\n    packing_adygea (102, 103] x (2, 3]\n    packing_configuration (111, 112] x (2, 3]\n    packing_adygea (112, 113] x (2, 3]\n    packing_configuration (121, 122] x (2, 3]\n    packing_adygea (122, 123] x (2, 3]\n    packing_configuration (131, 132] x (2, 3]\n    packing_adygea (132, 133] x (2, 3]\n    packing_configuration (141, 142] x (2, 3]\n    packing_adygea (142, 143] x (2, 3]\n    packing_configuration (151, 152] x (2, 3]\n    packing_adygea (152, 153] x (2, 3]\n    packing_configuration (161, 162] x (2, 3]\n    packing_adygea (162, 163] x (2, 3]\n    packing_configuration (171, 172] x (2, 3]\n    packing_adygea (172, 173] x (2, 3]\n    cleaning (180, 181] x (2, 3]"
     },
     "execution_count": 111,
     "metadata": {},
     "output_type": "execute_result"
    }
   ],
   "source": [
    "frontend"
   ],
   "metadata": {
    "collapsed": false,
    "ExecuteTime": {
     "end_time": "2023-11-23T08:44:06.773502Z",
     "start_time": "2023-11-23T08:44:06.770466Z"
    }
   }
  },
  {
   "cell_type": "code",
   "execution_count": null,
   "outputs": [],
   "source": [],
   "metadata": {
    "collapsed": false
   }
  }
 ],
 "metadata": {
  "kernelspec": {
   "display_name": "Python 3",
   "language": "python",
   "name": "python3"
  },
  "language_info": {
   "codemirror_mode": {
    "name": "ipython",
    "version": 2
   },
   "file_extension": ".py",
   "mimetype": "text/x-python",
   "name": "python",
   "nbconvert_exporter": "python",
   "pygments_lexer": "ipython2",
   "version": "2.7.6"
  }
 },
 "nbformat": 4,
 "nbformat_minor": 0
}

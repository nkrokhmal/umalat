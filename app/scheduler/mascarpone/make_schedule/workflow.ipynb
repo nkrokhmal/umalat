{
 "cells": [
  {
   "cell_type": "code",
   "execution_count": 1,
   "metadata": {
    "collapsed": true,
    "ExecuteTime": {
     "end_time": "2023-09-05T13:51:21.585549Z",
     "start_time": "2023-09-05T13:51:20.467296Z"
    }
   },
   "outputs": [
    {
     "name": "stderr",
     "output_type": "stream",
     "text": [
      "\u001B[32m2023-09-05 19:51:21.487\u001B[0m | \u001B[1mINFO    \u001B[0m | \u001B[36mapp.db\u001B[0m:\u001B[36mcreate_external_db\u001B[0m:\u001B[36m13\u001B[0m - \u001B[1mCreating database session outside of the app sqlite:////Users/arsenijkadaner/FileApps/coding_projects/umalat/db/prod/data.sqlite?check_same_thread=False.\u001B[0m\n"
     ]
    }
   ],
   "source": [
    "from app.scheduler.mascarpone.make_schedule.make_schedule import make_schedule\n",
    "from lessmore.utils.get_repo_path import get_repo_path\n",
    "import pandas as pd\n",
    "\n",
    "from utils_ak.pandas import mark_consecutive_groups"
   ]
  },
  {
   "cell_type": "code",
   "execution_count": 6,
   "outputs": [],
   "source": [
    "output = make_schedule(\"/Users/arsenijkadaner/FileApps/coding_projects/umalat/app/data/static/samples/by_department/mascarpone/План по варкам.xlsx\")"
   ],
   "metadata": {
    "collapsed": false,
    "ExecuteTime": {
     "end_time": "2023-09-05T13:42:13.512215Z",
     "start_time": "2023-09-05T13:42:13.266065Z"
    }
   }
  },
  {
   "cell_type": "code",
   "execution_count": 7,
   "outputs": [],
   "source": [
    "schedule = output[\"schedule\"]"
   ],
   "metadata": {
    "collapsed": false,
    "ExecuteTime": {
     "end_time": "2023-09-05T13:42:19.520941Z",
     "start_time": "2023-09-05T13:42:19.519078Z"
    }
   }
  },
  {
   "cell_type": "code",
   "execution_count": 8,
   "outputs": [
    {
     "data": {
      "text/plain": "schedule (84, 357] x (0, 0]\n  preparation (84, 90] x (0, 0]\n  boiling (90, 103] x (0, 0]\n    pouring (90, 94] x (0, 0]\n    pumping (92, 96] x (0, 0]\n    analysis (93, 95] x (0, 0]\n    packing_group (95, 103] x (0, 0]\n      packing (95, 96] x (0, 0]\n      packing_switching (96, 98] x (0, 0]\n      packing (98, 103] x (0, 0]\n  boiling (100, 111] x (0, 0]\n    pouring (100, 104] x (0, 0]\n    pumping (102, 106] x (0, 0]\n    analysis (103, 105] x (0, 0]\n    packing_group (105, 111] x (0, 0]\n      packing (105, 111] x (0, 0]\n  separator_acceleration (106, 109] x (0, 0]\n  boiling (109, 128] x (0, 0]\n    separation (109, 119] x (0, 0]\n    pouring (109, 119] x (0, 0]\n    heating (119, 121] x (0, 0]\n    pumping (121, 126] x (0, 0]\n    packing_group (122, 128] x (0, 0]\n      packing (122, 128] x (0, 0]\n  boiling (119, 138] x (0, 0]\n    separation (119, 129] x (0, 0]\n    pouring (119, 129] x (0, 0]\n    heating (129, 131] x (0, 0]\n    pumping (131, 136] x (0, 0]\n    packing_group (132, 138] x (0, 0]\n      packing (132, 138] x (0, 0]\n  boiling (129, 148] x (0, 0]\n    separation (129, 139] x (0, 0]\n    pouring (129, 139] x (0, 0]\n    heating (139, 141] x (0, 0]\n    pumping (141, 146] x (0, 0]\n    packing_group (142, 148] x (0, 0]\n      packing (142, 148] x (0, 0]\n  cleaning (139, 158] x (0, 0]\n  cleaning (139, 152] x (0, 0]\n  cleaning (153, 166] x (0, 0]\n  cleaning (167, 180] x (0, 0]\n  boiling (180, 199] x (0, 0]\n    separation (180, 190] x (0, 0]\n    pouring (180, 190] x (0, 0]\n    heating (190, 192] x (0, 0]\n    pumping (192, 197] x (0, 0]\n    packing_group (193, 199] x (0, 0]\n      packing (193, 199] x (0, 0]\n  boiling (190, 215] x (0, 0]\n    separation (190, 200] x (0, 0]\n    pouring (190, 200] x (0, 0]\n    heating (200, 202] x (0, 0]\n    pumping (202, 207] x (0, 0]\n    packing_group (203, 215] x (0, 0]\n      packing (203, 215] x (0, 0]\n  cleaning (200, 219] x (0, 0]\n  cleaning (200, 213] x (0, 0]\n  cleaning (214, 227] x (0, 0]\n  cleaning (228, 241] x (0, 0]\n  boiling (241, 262] x (0, 0]\n    separation (241, 251] x (0, 0]\n    pouring (241, 251] x (0, 0]\n    salting (251, 255] x (0, 0]\n    pumping (255, 259] x (0, 0]\n    packing_group (256, 262] x (0, 0]\n      packing (256, 262] x (0, 0]\n  boiling (251, 277] x (0, 0]\n    separation (251, 261] x (0, 0]\n    pouring (251, 261] x (0, 0]\n    salting (261, 265] x (0, 0]\n    pumping (265, 269] x (0, 0]\n    ingredient (267, 270] x (0, 0]\n    packing_group (270, 277] x (0, 0]\n      packing (270, 277] x (0, 0]\n  boiling (262, 284] x (0, 0]\n    separation (262, 272] x (0, 0]\n    pouring (262, 272] x (0, 0]\n    salting (272, 276] x (0, 0]\n    pumping (276, 280] x (0, 0]\n    packing_group (277, 284] x (0, 0]\n      packing (277, 284] x (0, 0]\n  boiling (272, 294] x (0, 0]\n    separation (272, 282] x (0, 0]\n    pouring (272, 282] x (0, 0]\n    salting (282, 286] x (0, 0]\n    pumping (286, 290] x (0, 0]\n    packing_group (287, 294] x (0, 0]\n      packing (287, 294] x (0, 0]\n  boiling (282, 304] x (0, 0]\n    separation (282, 292] x (0, 0]\n    pouring (282, 292] x (0, 0]\n    salting (292, 296] x (0, 0]\n    pumping (296, 300] x (0, 0]\n    packing_group (297, 304] x (0, 0]\n      packing (297, 304] x (0, 0]\n  cleaning (292, 305] x (0, 0]\n  boiling (292, 314] x (0, 0]\n    separation (292, 302] x (0, 0]\n    pouring (292, 302] x (0, 0]\n    salting (302, 306] x (0, 0]\n    pumping (306, 310] x (0, 0]\n    packing_group (307, 314] x (0, 0]\n      packing (307, 314] x (0, 0]\n  cleaning (302, 315] x (0, 0]\n  cleaning (316, 329] x (0, 0]\n  cleaning (330, 343] x (0, 0]\n  cleaning (306, 319] x (0, 0]\n  cleaning (344, 357] x (0, 0]"
     },
     "execution_count": 8,
     "metadata": {},
     "output_type": "execute_result"
    }
   ],
   "source": [
    "schedule"
   ],
   "metadata": {
    "collapsed": false,
    "ExecuteTime": {
     "end_time": "2023-09-05T13:42:21.171635Z",
     "start_time": "2023-09-05T13:42:21.166574Z"
    }
   }
  },
  {
   "cell_type": "code",
   "execution_count": 10,
   "outputs": [],
   "source": [
    "boilings = schedule[\"boiling\", True]"
   ],
   "metadata": {
    "collapsed": false,
    "ExecuteTime": {
     "end_time": "2023-09-05T13:42:37.426892Z",
     "start_time": "2023-09-05T13:42:37.423495Z"
    }
   }
  },
  {
   "cell_type": "code",
   "execution_count": 15,
   "outputs": [],
   "source": [
    "df = pd.DataFrame(boilings, columns=['boiling'])"
   ],
   "metadata": {
    "collapsed": false,
    "ExecuteTime": {
     "end_time": "2023-09-05T13:43:24.275362Z",
     "start_time": "2023-09-05T13:43:24.272550Z"
    }
   }
  },
  {
   "cell_type": "code",
   "execution_count": 17,
   "outputs": [],
   "source": [
    "df['group'] = df['boiling'].apply(lambda boiling: boiling.props['group'])"
   ],
   "metadata": {
    "collapsed": false,
    "ExecuteTime": {
     "end_time": "2023-09-05T13:43:37.000821Z",
     "start_time": "2023-09-05T13:43:36.997403Z"
    }
   }
  },
  {
   "cell_type": "code",
   "execution_count": 21,
   "outputs": [],
   "source": [
    "mark_consecutive_groups(df, 'group', 'consecutive_boiling_group')"
   ],
   "metadata": {
    "collapsed": false,
    "ExecuteTime": {
     "end_time": "2023-09-05T13:44:15.190583Z",
     "start_time": "2023-09-05T13:44:15.185905Z"
    }
   }
  },
  {
   "cell_type": "code",
   "execution_count": null,
   "outputs": [],
   "source": [
    "df['cream_percentage']"
   ],
   "metadata": {
    "collapsed": false
   }
  },
  {
   "cell_type": "code",
   "execution_count": 23,
   "outputs": [
    {
     "name": "stdout",
     "output_type": "stream",
     "text": [
      "(90, 104)\n",
      "(109, 200)\n",
      "(241, 292)\n",
      "(292, 302)\n"
     ]
    }
   ],
   "source": [
    "for i, grp in df.groupby('consecutive_boiling_group'):\n",
    "    pouring_start = grp.iloc[0]['boiling']['pouring'].x[0]\n",
    "    pouring_finish = grp.iloc[-1]['boiling']['pouring'].y[0]\n",
    "    print((pouring_start, pouring_finish))"
   ],
   "metadata": {
    "collapsed": false,
    "ExecuteTime": {
     "end_time": "2023-09-05T13:46:33.808342Z",
     "start_time": "2023-09-05T13:46:33.806941Z"
    }
   }
  },
  {
   "cell_type": "code",
   "execution_count": null,
   "outputs": [],
   "source": [],
   "metadata": {
    "collapsed": false
   }
  }
 ],
 "metadata": {
  "kernelspec": {
   "display_name": "Python 3",
   "language": "python",
   "name": "python3"
  },
  "language_info": {
   "codemirror_mode": {
    "name": "ipython",
    "version": 2
   },
   "file_extension": ".py",
   "mimetype": "text/x-python",
   "name": "python",
   "nbconvert_exporter": "python",
   "pygments_lexer": "ipython2",
   "version": "2.7.6"
  }
 },
 "nbformat": 4,
 "nbformat_minor": 0
}

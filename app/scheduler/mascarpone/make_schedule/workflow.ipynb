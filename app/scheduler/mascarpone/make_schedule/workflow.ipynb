{
 "cells": [
  {
   "cell_type": "code",
   "execution_count": 2,
   "metadata": {
    "collapsed": true,
    "ExecuteTime": {
     "end_time": "2023-09-05T16:20:18.619721Z",
     "start_time": "2023-09-05T16:20:17.502227Z"
    }
   },
   "outputs": [
    {
     "name": "stderr",
     "output_type": "stream",
     "text": [
      "\u001B[32m2023-09-05 22:20:18.567\u001B[0m | \u001B[1mINFO    \u001B[0m | \u001B[36mapp.db\u001B[0m:\u001B[36mcreate_external_db\u001B[0m:\u001B[36m13\u001B[0m - \u001B[1mCreating database session outside of the app sqlite:////Users/arsenijkadaner/FileApps/coding_projects/umalat/db/prod/data.sqlite?check_same_thread=False.\u001B[0m\n"
     ]
    }
   ],
   "source": [
    "from app.scheduler.mascarpone.make_schedule.make_schedule import make_schedule\n",
    "from lessmore.utils.get_repo_path import get_repo_path\n",
    "import pandas as pd\n",
    "\n",
    "from utils_ak.pandas import mark_consecutive_groups"
   ]
  },
  {
   "cell_type": "code",
   "execution_count": 3,
   "outputs": [],
   "source": [
    "output = make_schedule(\"/Users/arsenijkadaner/FileApps/coding_projects/umalat/app/data/static/samples/by_department/mascarpone/План по варкам.xlsx\")"
   ],
   "metadata": {
    "collapsed": false,
    "ExecuteTime": {
     "end_time": "2023-09-05T16:20:18.862424Z",
     "start_time": "2023-09-05T16:20:18.620539Z"
    }
   }
  },
  {
   "cell_type": "code",
   "execution_count": 4,
   "outputs": [],
   "source": [
    "df = output['boiling_plan_df']"
   ],
   "metadata": {
    "collapsed": false,
    "ExecuteTime": {
     "end_time": "2023-09-05T16:20:18.864152Z",
     "start_time": "2023-09-05T16:20:18.862813Z"
    }
   }
  },
  {
   "cell_type": "code",
   "execution_count": 7,
   "outputs": [],
   "source": [
    "schedule = output[\"schedule\"]"
   ],
   "metadata": {
    "collapsed": false,
    "ExecuteTime": {
     "end_time": "2023-09-05T13:42:19.520941Z",
     "start_time": "2023-09-05T13:42:19.519078Z"
    }
   }
  },
  {
   "cell_type": "code",
   "execution_count": 8,
   "outputs": [
    {
     "data": {
      "text/plain": "schedule (84, 357] x (0, 0]\n  preparation (84, 90] x (0, 0]\n  boiling (90, 103] x (0, 0]\n    pouring (90, 94] x (0, 0]\n    pumping (92, 96] x (0, 0]\n    analysis (93, 95] x (0, 0]\n    packing_group (95, 103] x (0, 0]\n      packing (95, 96] x (0, 0]\n      packing_switching (96, 98] x (0, 0]\n      packing (98, 103] x (0, 0]\n  boiling (100, 111] x (0, 0]\n    pouring (100, 104] x (0, 0]\n    pumping (102, 106] x (0, 0]\n    analysis (103, 105] x (0, 0]\n    packing_group (105, 111] x (0, 0]\n      packing (105, 111] x (0, 0]\n  separator_acceleration (106, 109] x (0, 0]\n  boiling (109, 128] x (0, 0]\n    separation (109, 119] x (0, 0]\n    pouring (109, 119] x (0, 0]\n    heating (119, 121] x (0, 0]\n    pumping (121, 126] x (0, 0]\n    packing_group (122, 128] x (0, 0]\n      packing (122, 128] x (0, 0]\n  boiling (119, 138] x (0, 0]\n    separation (119, 129] x (0, 0]\n    pouring (119, 129] x (0, 0]\n    heating (129, 131] x (0, 0]\n    pumping (131, 136] x (0, 0]\n    packing_group (132, 138] x (0, 0]\n      packing (132, 138] x (0, 0]\n  boiling (129, 148] x (0, 0]\n    separation (129, 139] x (0, 0]\n    pouring (129, 139] x (0, 0]\n    heating (139, 141] x (0, 0]\n    pumping (141, 146] x (0, 0]\n    packing_group (142, 148] x (0, 0]\n      packing (142, 148] x (0, 0]\n  cleaning (139, 158] x (0, 0]\n  cleaning (139, 152] x (0, 0]\n  cleaning (153, 166] x (0, 0]\n  cleaning (167, 180] x (0, 0]\n  boiling (180, 199] x (0, 0]\n    separation (180, 190] x (0, 0]\n    pouring (180, 190] x (0, 0]\n    heating (190, 192] x (0, 0]\n    pumping (192, 197] x (0, 0]\n    packing_group (193, 199] x (0, 0]\n      packing (193, 199] x (0, 0]\n  boiling (190, 215] x (0, 0]\n    separation (190, 200] x (0, 0]\n    pouring (190, 200] x (0, 0]\n    heating (200, 202] x (0, 0]\n    pumping (202, 207] x (0, 0]\n    packing_group (203, 215] x (0, 0]\n      packing (203, 215] x (0, 0]\n  cleaning (200, 219] x (0, 0]\n  cleaning (200, 213] x (0, 0]\n  cleaning (214, 227] x (0, 0]\n  cleaning (228, 241] x (0, 0]\n  boiling (241, 262] x (0, 0]\n    separation (241, 251] x (0, 0]\n    pouring (241, 251] x (0, 0]\n    salting (251, 255] x (0, 0]\n    pumping (255, 259] x (0, 0]\n    packing_group (256, 262] x (0, 0]\n      packing (256, 262] x (0, 0]\n  boiling (251, 277] x (0, 0]\n    separation (251, 261] x (0, 0]\n    pouring (251, 261] x (0, 0]\n    salting (261, 265] x (0, 0]\n    pumping (265, 269] x (0, 0]\n    ingredient (267, 270] x (0, 0]\n    packing_group (270, 277] x (0, 0]\n      packing (270, 277] x (0, 0]\n  boiling (262, 284] x (0, 0]\n    separation (262, 272] x (0, 0]\n    pouring (262, 272] x (0, 0]\n    salting (272, 276] x (0, 0]\n    pumping (276, 280] x (0, 0]\n    packing_group (277, 284] x (0, 0]\n      packing (277, 284] x (0, 0]\n  boiling (272, 294] x (0, 0]\n    separation (272, 282] x (0, 0]\n    pouring (272, 282] x (0, 0]\n    salting (282, 286] x (0, 0]\n    pumping (286, 290] x (0, 0]\n    packing_group (287, 294] x (0, 0]\n      packing (287, 294] x (0, 0]\n  boiling (282, 304] x (0, 0]\n    separation (282, 292] x (0, 0]\n    pouring (282, 292] x (0, 0]\n    salting (292, 296] x (0, 0]\n    pumping (296, 300] x (0, 0]\n    packing_group (297, 304] x (0, 0]\n      packing (297, 304] x (0, 0]\n  cleaning (292, 305] x (0, 0]\n  boiling (292, 314] x (0, 0]\n    separation (292, 302] x (0, 0]\n    pouring (292, 302] x (0, 0]\n    salting (302, 306] x (0, 0]\n    pumping (306, 310] x (0, 0]\n    packing_group (307, 314] x (0, 0]\n      packing (307, 314] x (0, 0]\n  cleaning (302, 315] x (0, 0]\n  cleaning (316, 329] x (0, 0]\n  cleaning (330, 343] x (0, 0]\n  cleaning (306, 319] x (0, 0]\n  cleaning (344, 357] x (0, 0]"
     },
     "execution_count": 8,
     "metadata": {},
     "output_type": "execute_result"
    }
   ],
   "source": [
    "schedule"
   ],
   "metadata": {
    "collapsed": false,
    "ExecuteTime": {
     "end_time": "2023-09-05T13:42:21.171635Z",
     "start_time": "2023-09-05T13:42:21.166574Z"
    }
   }
  },
  {
   "cell_type": "code",
   "execution_count": 10,
   "outputs": [],
   "source": [
    "boilings = schedule[\"boiling\", True]"
   ],
   "metadata": {
    "collapsed": false,
    "ExecuteTime": {
     "end_time": "2023-09-05T13:42:37.426892Z",
     "start_time": "2023-09-05T13:42:37.423495Z"
    }
   }
  },
  {
   "cell_type": "code",
   "execution_count": 15,
   "outputs": [],
   "source": [
    "df = pd.DataFrame(boilings, columns=['boiling'])"
   ],
   "metadata": {
    "collapsed": false,
    "ExecuteTime": {
     "end_time": "2023-09-05T13:43:24.275362Z",
     "start_time": "2023-09-05T13:43:24.272550Z"
    }
   }
  },
  {
   "cell_type": "code",
   "execution_count": 17,
   "outputs": [],
   "source": [
    "df['group'] = df['boiling'].apply(lambda boiling: boiling.props['group'])"
   ],
   "metadata": {
    "collapsed": false,
    "ExecuteTime": {
     "end_time": "2023-09-05T13:43:37.000821Z",
     "start_time": "2023-09-05T13:43:36.997403Z"
    }
   }
  },
  {
   "cell_type": "code",
   "execution_count": 21,
   "outputs": [],
   "source": [
    "mark_consecutive_groups(df, 'group', 'consecutive_boiling_group')"
   ],
   "metadata": {
    "collapsed": false,
    "ExecuteTime": {
     "end_time": "2023-09-05T13:44:15.190583Z",
     "start_time": "2023-09-05T13:44:15.185905Z"
    }
   }
  },
  {
   "cell_type": "code",
   "execution_count": null,
   "outputs": [],
   "source": [
    "df['cream_percentage']"
   ],
   "metadata": {
    "collapsed": false
   }
  },
  {
   "cell_type": "code",
   "execution_count": 23,
   "outputs": [
    {
     "name": "stdout",
     "output_type": "stream",
     "text": [
      "(90, 104)\n",
      "(109, 200)\n",
      "(241, 292)\n",
      "(292, 302)\n"
     ]
    }
   ],
   "source": [
    "for i, grp in df.groupby('consecutive_boiling_group'):\n",
    "    pouring_start = grp.iloc[0]['boiling']['pouring'].x[0]\n",
    "    pouring_finish = grp.iloc[-1]['boiling']['pouring'].y[0]\n",
    "    print((pouring_start, pouring_finish))"
   ],
   "metadata": {
    "collapsed": false,
    "ExecuteTime": {
     "end_time": "2023-09-05T13:46:33.808342Z",
     "start_time": "2023-09-05T13:46:33.806941Z"
    }
   }
  },
  {
   "cell_type": "code",
   "execution_count": 4,
   "outputs": [
    {
     "data": {
      "text/plain": "    group_id output                  sku     kg  batch_id  \\\n0          1    300  <MascarponeSKU 183>   69.0         1   \n1          1    300  <MascarponeSKU 179>  231.0         1   \n3          2    300  <MascarponeSKU 178>  300.0         2   \n5          3    600  <MascarponeSKU 170>  600.0         1   \n7          4    600  <MascarponeSKU 170>  600.0         2   \n9          5    600  <MascarponeSKU 170>  600.0         3   \n11         6    600  <MascarponeSKU 170>  600.0         4   \n13         7    600  <MascarponeSKU 168>  600.0         5   \n15         8    370  <MascarponeSKU 205>  187.0         1   \n16         8    370  <MascarponeSKU 196>  183.0         1   \n18         9    395  <MascarponeSKU 212>  187.0         2   \n19         9    395  <MascarponeSKU 212>  183.0         2   \n21        10    525  <MascarponeSKU 218>  370.0         3   \n23        11    525  <MascarponeSKU 218>  370.0         4   \n25        12    525  <MascarponeSKU 218>  370.0         5   \n27        13    370  <MascarponeSKU 198>  370.0         1   \n\n                   boiling  \\\n0   <MascarponeBoiling 49>   \n1   <MascarponeBoiling 50>   \n3   <MascarponeBoiling 50>   \n5   <MascarponeBoiling 47>   \n7   <MascarponeBoiling 47>   \n9   <MascarponeBoiling 47>   \n11  <MascarponeBoiling 47>   \n13  <MascarponeBoiling 46>   \n15  <MascarponeBoiling 56>   \n16  <MascarponeBoiling 56>   \n18  <MascarponeBoiling 65>   \n19  <MascarponeBoiling 65>   \n21  <MascarponeBoiling 67>   \n23  <MascarponeBoiling 67>   \n25  <MascarponeBoiling 67>   \n27  <MascarponeBoiling 59>   \n\n                                                    sku_name         group  \\\n0   Сливки Panna da Montare \"Unagrande\", 35,1%, 0,5 кг, пл/с         cream   \n1        Сливки Panna Fresca \"Unagrande\", 38%, 0,25 кг, пл/с         cream   \n3                  Сливки \"Красная птица\", 38%, 0,25 л, пл/с         cream   \n5                     Маскарпоне \"Pretto\", 80%, 0,5 кг, пл/с    mascarpone   \n7                     Маскарпоне \"Pretto\", 80%, 0,5 кг, пл/с    mascarpone   \n9                     Маскарпоне \"Pretto\", 80%, 0,5 кг, пл/с    mascarpone   \n11                    Маскарпоне \"Pretto\", 80%, 0,5 кг, пл/с    mascarpone   \n13                Маскарпоне \"Unagrande\", 80%, 0,25 кг, пл/с    mascarpone   \n15         Кремчиз \"Фермерская коллекция\", 70%, 0,2 кг, пл/с  cream_cheese   \n16                       Кремчиз \"Pretto\", 70%, 0,2 кг, пл/с  cream_cheese   \n18          Кремчиз с огурцом «Вкусвилл», 70%, 0,14 кг, пл/с  cream_cheese   \n19          Кремчиз с огурцом «Вкусвилл», 70%, 0,14 кг, пл/с  cream_cheese   \n21       Творожный сливочный «LiebenDorf», 70%, 0,14 кг, п/с  cream_cheese   \n23       Творожный сливочный «LiebenDorf», 70%, 0,14 кг, п/с  cream_cheese   \n25       Творожный сливочный «LiebenDorf», 70%, 0,14 кг, п/с  cream_cheese   \n27                   Робиола \"Unagrande\", 65%, 0,14 кг, пл/с       robiola   \n\n    boiling_id  output_coeff  line  \n0         49.0          1.00     1  \n1         50.0          1.00     1  \n3         50.0          1.00     1  \n5         47.0          1.00     1  \n7         47.0          1.00     1  \n9         47.0          1.00     1  \n11        47.0          1.00     1  \n13        46.0          1.00     1  \n15        56.0          1.00     1  \n16        56.0          1.00     1  \n18        65.0          1.07     2  \n19        65.0          1.07     2  \n21        67.0          1.42     2  \n23        67.0          1.42     2  \n25        67.0          1.42     2  \n27        59.0          1.00     2  ",
      "text/html": "<div>\n<style scoped>\n    .dataframe tbody tr th:only-of-type {\n        vertical-align: middle;\n    }\n\n    .dataframe tbody tr th {\n        vertical-align: top;\n    }\n\n    .dataframe thead th {\n        text-align: right;\n    }\n</style>\n<table border=\"1\" class=\"dataframe\">\n  <thead>\n    <tr style=\"text-align: right;\">\n      <th></th>\n      <th>group_id</th>\n      <th>output</th>\n      <th>sku</th>\n      <th>kg</th>\n      <th>batch_id</th>\n      <th>boiling</th>\n      <th>sku_name</th>\n      <th>group</th>\n      <th>boiling_id</th>\n      <th>output_coeff</th>\n      <th>line</th>\n    </tr>\n  </thead>\n  <tbody>\n    <tr>\n      <th>0</th>\n      <td>1</td>\n      <td>300</td>\n      <td>&lt;MascarponeSKU 183&gt;</td>\n      <td>69.0</td>\n      <td>1</td>\n      <td>&lt;MascarponeBoiling 49&gt;</td>\n      <td>Сливки Panna da Montare \"Unagrande\", 35,1%, 0,5 кг, пл/с</td>\n      <td>cream</td>\n      <td>49.0</td>\n      <td>1.00</td>\n      <td>1</td>\n    </tr>\n    <tr>\n      <th>1</th>\n      <td>1</td>\n      <td>300</td>\n      <td>&lt;MascarponeSKU 179&gt;</td>\n      <td>231.0</td>\n      <td>1</td>\n      <td>&lt;MascarponeBoiling 50&gt;</td>\n      <td>Сливки Panna Fresca \"Unagrande\", 38%, 0,25 кг, пл/с</td>\n      <td>cream</td>\n      <td>50.0</td>\n      <td>1.00</td>\n      <td>1</td>\n    </tr>\n    <tr>\n      <th>3</th>\n      <td>2</td>\n      <td>300</td>\n      <td>&lt;MascarponeSKU 178&gt;</td>\n      <td>300.0</td>\n      <td>2</td>\n      <td>&lt;MascarponeBoiling 50&gt;</td>\n      <td>Сливки \"Красная птица\", 38%, 0,25 л, пл/с</td>\n      <td>cream</td>\n      <td>50.0</td>\n      <td>1.00</td>\n      <td>1</td>\n    </tr>\n    <tr>\n      <th>5</th>\n      <td>3</td>\n      <td>600</td>\n      <td>&lt;MascarponeSKU 170&gt;</td>\n      <td>600.0</td>\n      <td>1</td>\n      <td>&lt;MascarponeBoiling 47&gt;</td>\n      <td>Маскарпоне \"Pretto\", 80%, 0,5 кг, пл/с</td>\n      <td>mascarpone</td>\n      <td>47.0</td>\n      <td>1.00</td>\n      <td>1</td>\n    </tr>\n    <tr>\n      <th>7</th>\n      <td>4</td>\n      <td>600</td>\n      <td>&lt;MascarponeSKU 170&gt;</td>\n      <td>600.0</td>\n      <td>2</td>\n      <td>&lt;MascarponeBoiling 47&gt;</td>\n      <td>Маскарпоне \"Pretto\", 80%, 0,5 кг, пл/с</td>\n      <td>mascarpone</td>\n      <td>47.0</td>\n      <td>1.00</td>\n      <td>1</td>\n    </tr>\n    <tr>\n      <th>9</th>\n      <td>5</td>\n      <td>600</td>\n      <td>&lt;MascarponeSKU 170&gt;</td>\n      <td>600.0</td>\n      <td>3</td>\n      <td>&lt;MascarponeBoiling 47&gt;</td>\n      <td>Маскарпоне \"Pretto\", 80%, 0,5 кг, пл/с</td>\n      <td>mascarpone</td>\n      <td>47.0</td>\n      <td>1.00</td>\n      <td>1</td>\n    </tr>\n    <tr>\n      <th>11</th>\n      <td>6</td>\n      <td>600</td>\n      <td>&lt;MascarponeSKU 170&gt;</td>\n      <td>600.0</td>\n      <td>4</td>\n      <td>&lt;MascarponeBoiling 47&gt;</td>\n      <td>Маскарпоне \"Pretto\", 80%, 0,5 кг, пл/с</td>\n      <td>mascarpone</td>\n      <td>47.0</td>\n      <td>1.00</td>\n      <td>1</td>\n    </tr>\n    <tr>\n      <th>13</th>\n      <td>7</td>\n      <td>600</td>\n      <td>&lt;MascarponeSKU 168&gt;</td>\n      <td>600.0</td>\n      <td>5</td>\n      <td>&lt;MascarponeBoiling 46&gt;</td>\n      <td>Маскарпоне \"Unagrande\", 80%, 0,25 кг, пл/с</td>\n      <td>mascarpone</td>\n      <td>46.0</td>\n      <td>1.00</td>\n      <td>1</td>\n    </tr>\n    <tr>\n      <th>15</th>\n      <td>8</td>\n      <td>370</td>\n      <td>&lt;MascarponeSKU 205&gt;</td>\n      <td>187.0</td>\n      <td>1</td>\n      <td>&lt;MascarponeBoiling 56&gt;</td>\n      <td>Кремчиз \"Фермерская коллекция\", 70%, 0,2 кг, пл/с</td>\n      <td>cream_cheese</td>\n      <td>56.0</td>\n      <td>1.00</td>\n      <td>1</td>\n    </tr>\n    <tr>\n      <th>16</th>\n      <td>8</td>\n      <td>370</td>\n      <td>&lt;MascarponeSKU 196&gt;</td>\n      <td>183.0</td>\n      <td>1</td>\n      <td>&lt;MascarponeBoiling 56&gt;</td>\n      <td>Кремчиз \"Pretto\", 70%, 0,2 кг, пл/с</td>\n      <td>cream_cheese</td>\n      <td>56.0</td>\n      <td>1.00</td>\n      <td>1</td>\n    </tr>\n    <tr>\n      <th>18</th>\n      <td>9</td>\n      <td>395</td>\n      <td>&lt;MascarponeSKU 212&gt;</td>\n      <td>187.0</td>\n      <td>2</td>\n      <td>&lt;MascarponeBoiling 65&gt;</td>\n      <td>Кремчиз с огурцом «Вкусвилл», 70%, 0,14 кг, пл/с</td>\n      <td>cream_cheese</td>\n      <td>65.0</td>\n      <td>1.07</td>\n      <td>2</td>\n    </tr>\n    <tr>\n      <th>19</th>\n      <td>9</td>\n      <td>395</td>\n      <td>&lt;MascarponeSKU 212&gt;</td>\n      <td>183.0</td>\n      <td>2</td>\n      <td>&lt;MascarponeBoiling 65&gt;</td>\n      <td>Кремчиз с огурцом «Вкусвилл», 70%, 0,14 кг, пл/с</td>\n      <td>cream_cheese</td>\n      <td>65.0</td>\n      <td>1.07</td>\n      <td>2</td>\n    </tr>\n    <tr>\n      <th>21</th>\n      <td>10</td>\n      <td>525</td>\n      <td>&lt;MascarponeSKU 218&gt;</td>\n      <td>370.0</td>\n      <td>3</td>\n      <td>&lt;MascarponeBoiling 67&gt;</td>\n      <td>Творожный сливочный «LiebenDorf», 70%, 0,14 кг, п/с</td>\n      <td>cream_cheese</td>\n      <td>67.0</td>\n      <td>1.42</td>\n      <td>2</td>\n    </tr>\n    <tr>\n      <th>23</th>\n      <td>11</td>\n      <td>525</td>\n      <td>&lt;MascarponeSKU 218&gt;</td>\n      <td>370.0</td>\n      <td>4</td>\n      <td>&lt;MascarponeBoiling 67&gt;</td>\n      <td>Творожный сливочный «LiebenDorf», 70%, 0,14 кг, п/с</td>\n      <td>cream_cheese</td>\n      <td>67.0</td>\n      <td>1.42</td>\n      <td>2</td>\n    </tr>\n    <tr>\n      <th>25</th>\n      <td>12</td>\n      <td>525</td>\n      <td>&lt;MascarponeSKU 218&gt;</td>\n      <td>370.0</td>\n      <td>5</td>\n      <td>&lt;MascarponeBoiling 67&gt;</td>\n      <td>Творожный сливочный «LiebenDorf», 70%, 0,14 кг, п/с</td>\n      <td>cream_cheese</td>\n      <td>67.0</td>\n      <td>1.42</td>\n      <td>2</td>\n    </tr>\n    <tr>\n      <th>27</th>\n      <td>13</td>\n      <td>370</td>\n      <td>&lt;MascarponeSKU 198&gt;</td>\n      <td>370.0</td>\n      <td>1</td>\n      <td>&lt;MascarponeBoiling 59&gt;</td>\n      <td>Робиола \"Unagrande\", 65%, 0,14 кг, пл/с</td>\n      <td>robiola</td>\n      <td>59.0</td>\n      <td>1.00</td>\n      <td>2</td>\n    </tr>\n  </tbody>\n</table>\n</div>"
     },
     "execution_count": 4,
     "metadata": {},
     "output_type": "execute_result"
    }
   ],
   "source": [],
   "metadata": {
    "collapsed": false,
    "ExecuteTime": {
     "end_time": "2023-09-05T15:40:54.922829Z",
     "start_time": "2023-09-05T15:40:54.917669Z"
    }
   }
  },
  {
   "cell_type": "code",
   "execution_count": 9,
   "outputs": [
    {
     "data": {
      "text/plain": "38.0"
     },
     "execution_count": 9,
     "metadata": {},
     "output_type": "execute_result"
    }
   ],
   "source": [
    "df.iloc[0]['sku'].made_from_boilings[0].percent"
   ],
   "metadata": {
    "collapsed": false,
    "ExecuteTime": {
     "end_time": "2023-09-05T16:21:02.532197Z",
     "start_time": "2023-09-05T16:21:02.527761Z"
    }
   }
  },
  {
   "cell_type": "code",
   "execution_count": null,
   "outputs": [],
   "source": [],
   "metadata": {
    "collapsed": false
   }
  }
 ],
 "metadata": {
  "kernelspec": {
   "display_name": "Python 3",
   "language": "python",
   "name": "python3"
  },
  "language_info": {
   "codemirror_mode": {
    "name": "ipython",
    "version": 2
   },
   "file_extension": ".py",
   "mimetype": "text/x-python",
   "name": "python",
   "nbconvert_exporter": "python",
   "pygments_lexer": "ipython2",
   "version": "2.7.6"
  }
 },
 "nbformat": 4,
 "nbformat_minor": 0
}

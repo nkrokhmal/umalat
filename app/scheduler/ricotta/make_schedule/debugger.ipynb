{
 "cells": [
  {
   "cell_type": "code",
   "execution_count": 1,
   "outputs": [],
   "source": [
    "import nest_asyncio\n",
    "\n",
    "from utils_ak.numeric import custom_round\n",
    "\n",
    "nest_asyncio.apply()"
   ],
   "metadata": {
    "collapsed": false,
    "ExecuteTime": {
     "end_time": "2023-09-30T09:03:02.323053Z",
     "start_time": "2023-09-30T09:03:02.082260Z"
    }
   }
  },
  {
   "cell_type": "code",
   "execution_count": 13,
   "metadata": {
    "collapsed": true
   },
   "outputs": [
    {
     "name": "stdout",
     "output_type": "stream",
     "text": [
      "schedule (0, 353] x (0, 0]\n",
      "  preparation (84, 90] x (0, 0]\n",
      "  boiling (90, 135] x (0, 0]\n",
      "    floculator (90, 108] x (0, 0]\n",
      "      boiling_preparation (90, 92] x (0, 0]\n",
      "      pouring (92, 96] x (0, 0]\n",
      "      heating (92, 101] x (0, 0]\n",
      "      lactic_acid (101, 102] x (0, 0]\n",
      "      draw_whey (102, 105] x (0, 0]\n",
      "      dray_ricotta (105, 108] x (0, 0]\n",
      "    floculator (96, 114] x (0, 0]\n",
      "      boiling_preparation (96, 98] x (0, 0]\n",
      "      pouring (98, 102] x (0, 0]\n",
      "      heating (98, 107] x (0, 0]\n",
      "      lactic_acid (107, 108] x (0, 0]\n",
      "      draw_whey (108, 111] x (0, 0]\n",
      "      dray_ricotta (111, 114] x (0, 0]\n",
      "    extra_processing (114, 117] x (0, 0]\n",
      "      salting (114, 117] x (0, 0]\n",
      "      ingredient (117, 117] x (0, 0]\n",
      "    pumping (117, 129] x (0, 0]\n",
      "    packing: Unagrande 0.2  50% (118, 135] x (0, 0]\n",
      "  boiling (108, 152] x (0, 0]\n",
      "    floculator (108, 126] x (0, 0]\n",
      "      boiling_preparation (108, 110] x (0, 0]\n",
      "      pouring (110, 114] x (0, 0]\n",
      "      heating (110, 119] x (0, 0]\n",
      "      lactic_acid (119, 120] x (0, 0]\n",
      "      draw_whey (120, 123] x (0, 0]\n",
      "      dray_ricotta (123, 126] x (0, 0]\n",
      "    floculator (114, 132] x (0, 0]\n",
      "      boiling_preparation (114, 116] x (0, 0]\n",
      "      pouring (116, 120] x (0, 0]\n",
      "      heating (116, 125] x (0, 0]\n",
      "      lactic_acid (125, 126] x (0, 0]\n",
      "      draw_whey (126, 129] x (0, 0]\n",
      "      dray_ricotta (129, 132] x (0, 0]\n",
      "    extra_processing (132, 135] x (0, 0]\n",
      "      salting (132, 135] x (0, 0]\n",
      "      ingredient (135, 135] x (0, 0]\n",
      "    pumping (135, 147] x (0, 0]\n",
      "    packing: Aventino 0.2/МАРКЕТ 0.2/Pretto 0.2  45% (136, 152] x (0, 0]\n",
      "  boiling (123, 167] x (0, 0]\n",
      "    floculator (123, 141] x (0, 0]\n",
      "      boiling_preparation (123, 125] x (0, 0]\n",
      "      pouring (125, 129] x (0, 0]\n",
      "      heating (125, 134] x (0, 0]\n",
      "      lactic_acid (134, 135] x (0, 0]\n",
      "      draw_whey (135, 138] x (0, 0]\n",
      "      dray_ricotta (138, 141] x (0, 0]\n",
      "    floculator (129, 147] x (0, 0]\n",
      "      boiling_preparation (129, 131] x (0, 0]\n",
      "      pouring (131, 135] x (0, 0]\n",
      "      heating (131, 140] x (0, 0]\n",
      "      lactic_acid (140, 141] x (0, 0]\n",
      "      draw_whey (141, 144] x (0, 0]\n",
      "      dray_ricotta (144, 147] x (0, 0]\n",
      "    extra_processing (147, 150] x (0, 0]\n",
      "      salting (147, 150] x (0, 0]\n",
      "      ingredient (150, 150] x (0, 0]\n",
      "    pumping (150, 162] x (0, 0]\n",
      "    packing: Pretto 0.2  45% (152, 168] x (0, 0]\n",
      "  boiling (138, 182] x (0, 0]\n",
      "    floculator (138, 156] x (0, 0]\n",
      "      boiling_preparation (138, 140] x (0, 0]\n",
      "      pouring (140, 144] x (0, 0]\n",
      "      heating (140, 149] x (0, 0]\n",
      "      lactic_acid (149, 150] x (0, 0]\n",
      "      draw_whey (150, 153] x (0, 0]\n",
      "      dray_ricotta (153, 156] x (0, 0]\n",
      "    floculator (144, 162] x (0, 0]\n",
      "      boiling_preparation (144, 146] x (0, 0]\n",
      "      pouring (146, 150] x (0, 0]\n",
      "      heating (146, 155] x (0, 0]\n",
      "      lactic_acid (155, 156] x (0, 0]\n",
      "      draw_whey (156, 159] x (0, 0]\n",
      "      dray_ricotta (159, 162] x (0, 0]\n",
      "    extra_processing (162, 165] x (0, 0]\n",
      "      salting (162, 165] x (0, 0]\n",
      "      ingredient (165, 165] x (0, 0]\n",
      "    pumping (165, 177] x (0, 0]\n",
      "    packing: Pretto 0.2  45% (168, 184] x (0, 0]\n",
      "  boiling (153, 197] x (0, 0]\n",
      "    floculator (153, 171] x (0, 0]\n",
      "      boiling_preparation (153, 155] x (0, 0]\n",
      "      pouring (155, 159] x (0, 0]\n",
      "      heating (155, 164] x (0, 0]\n",
      "      lactic_acid (164, 165] x (0, 0]\n",
      "      draw_whey (165, 168] x (0, 0]\n",
      "      dray_ricotta (168, 171] x (0, 0]\n",
      "    floculator (159, 177] x (0, 0]\n",
      "      boiling_preparation (159, 161] x (0, 0]\n",
      "      pouring (161, 165] x (0, 0]\n",
      "      heating (161, 170] x (0, 0]\n",
      "      lactic_acid (170, 171] x (0, 0]\n",
      "      draw_whey (171, 174] x (0, 0]\n",
      "      dray_ricotta (174, 177] x (0, 0]\n",
      "    extra_processing (177, 180] x (0, 0]\n",
      "      salting (177, 180] x (0, 0]\n",
      "      ingredient (180, 180] x (0, 0]\n",
      "    pumping (180, 192] x (0, 0]\n",
      "    packing: Pretto 0.2  45% (184, 200] x (0, 0]\n",
      "  boiling (168, 212] x (0, 0]\n",
      "    floculator (168, 186] x (0, 0]\n",
      "      boiling_preparation (168, 170] x (0, 0]\n",
      "      pouring (170, 174] x (0, 0]\n",
      "      heating (170, 179] x (0, 0]\n",
      "      lactic_acid (179, 180] x (0, 0]\n",
      "      draw_whey (180, 183] x (0, 0]\n",
      "      dray_ricotta (183, 186] x (0, 0]\n",
      "    floculator (174, 192] x (0, 0]\n",
      "      boiling_preparation (174, 176] x (0, 0]\n",
      "      pouring (176, 180] x (0, 0]\n",
      "      heating (176, 185] x (0, 0]\n",
      "      lactic_acid (185, 186] x (0, 0]\n",
      "      draw_whey (186, 189] x (0, 0]\n",
      "      dray_ricotta (189, 192] x (0, 0]\n",
      "    extra_processing (192, 195] x (0, 0]\n",
      "      salting (192, 195] x (0, 0]\n",
      "      ingredient (195, 195] x (0, 0]\n",
      "    pumping (195, 207] x (0, 0]\n",
      "    packing: Pretto 0.2  45% (200, 216] x (0, 0]\n",
      "  boiling (183, 227] x (0, 0]\n",
      "    floculator (183, 201] x (0, 0]\n",
      "      boiling_preparation (183, 185] x (0, 0]\n",
      "      pouring (185, 189] x (0, 0]\n",
      "      heating (185, 194] x (0, 0]\n",
      "      lactic_acid (194, 195] x (0, 0]\n",
      "      draw_whey (195, 198] x (0, 0]\n",
      "      dray_ricotta (198, 201] x (0, 0]\n",
      "    floculator (189, 207] x (0, 0]\n",
      "      boiling_preparation (189, 191] x (0, 0]\n",
      "      pouring (191, 195] x (0, 0]\n",
      "      heating (191, 200] x (0, 0]\n",
      "      lactic_acid (200, 201] x (0, 0]\n",
      "      draw_whey (201, 204] x (0, 0]\n",
      "      dray_ricotta (204, 207] x (0, 0]\n",
      "    extra_processing (207, 210] x (0, 0]\n",
      "      salting (207, 210] x (0, 0]\n",
      "      ingredient (210, 210] x (0, 0]\n",
      "    pumping (210, 222] x (0, 0]\n",
      "    packing: Pretto 0.2  45% (216, 232] x (0, 0]\n",
      "  boiling (198, 242] x (0, 0]\n",
      "    floculator (198, 216] x (0, 0]\n",
      "      boiling_preparation (198, 200] x (0, 0]\n",
      "      pouring (200, 204] x (0, 0]\n",
      "      heating (200, 209] x (0, 0]\n",
      "      lactic_acid (209, 210] x (0, 0]\n",
      "      draw_whey (210, 213] x (0, 0]\n",
      "      dray_ricotta (213, 216] x (0, 0]\n",
      "    floculator (204, 222] x (0, 0]\n",
      "      boiling_preparation (204, 206] x (0, 0]\n",
      "      pouring (206, 210] x (0, 0]\n",
      "      heating (206, 215] x (0, 0]\n",
      "      lactic_acid (215, 216] x (0, 0]\n",
      "      draw_whey (216, 219] x (0, 0]\n",
      "      dray_ricotta (219, 222] x (0, 0]\n",
      "    extra_processing (222, 225] x (0, 0]\n",
      "      salting (222, 225] x (0, 0]\n",
      "      ingredient (225, 225] x (0, 0]\n",
      "    pumping (225, 237] x (0, 0]\n",
      "    packing: Pretto 0.2  45% (232, 248] x (0, 0]\n",
      "  boiling (213, 257] x (0, 0]\n",
      "    floculator (213, 231] x (0, 0]\n",
      "      boiling_preparation (213, 215] x (0, 0]\n",
      "      pouring (215, 219] x (0, 0]\n",
      "      heating (215, 224] x (0, 0]\n",
      "      lactic_acid (224, 225] x (0, 0]\n",
      "      draw_whey (225, 228] x (0, 0]\n",
      "      dray_ricotta (228, 231] x (0, 0]\n",
      "    floculator (219, 237] x (0, 0]\n",
      "      boiling_preparation (219, 221] x (0, 0]\n",
      "      pouring (221, 225] x (0, 0]\n",
      "      heating (221, 230] x (0, 0]\n",
      "      lactic_acid (230, 231] x (0, 0]\n",
      "      draw_whey (231, 234] x (0, 0]\n",
      "      dray_ricotta (234, 237] x (0, 0]\n",
      "    extra_processing (237, 240] x (0, 0]\n",
      "      salting (237, 240] x (0, 0]\n",
      "      ingredient (240, 240] x (0, 0]\n",
      "    pumping (240, 252] x (0, 0]\n",
      "    packing: Pretto 0.2  45% (248, 264] x (0, 0]\n",
      "  boiling (228, 272] x (0, 0]\n",
      "    floculator (228, 246] x (0, 0]\n",
      "      boiling_preparation (228, 230] x (0, 0]\n",
      "      pouring (230, 234] x (0, 0]\n",
      "      heating (230, 239] x (0, 0]\n",
      "      lactic_acid (239, 240] x (0, 0]\n",
      "      draw_whey (240, 243] x (0, 0]\n",
      "      dray_ricotta (243, 246] x (0, 0]\n",
      "    floculator (234, 252] x (0, 0]\n",
      "      boiling_preparation (234, 236] x (0, 0]\n",
      "      pouring (236, 240] x (0, 0]\n",
      "      heating (236, 245] x (0, 0]\n",
      "      lactic_acid (245, 246] x (0, 0]\n",
      "      draw_whey (246, 249] x (0, 0]\n",
      "      dray_ricotta (249, 252] x (0, 0]\n",
      "    extra_processing (252, 255] x (0, 0]\n",
      "      salting (252, 255] x (0, 0]\n",
      "      ingredient (255, 255] x (0, 0]\n",
      "    pumping (255, 267] x (0, 0]\n",
      "    packing: Pretto 0.2  45% (264, 280] x (0, 0]\n",
      "  boiling (243, 287] x (0, 0]\n",
      "    floculator (243, 261] x (0, 0]\n",
      "      boiling_preparation (243, 245] x (0, 0]\n",
      "      pouring (245, 249] x (0, 0]\n",
      "      heating (245, 254] x (0, 0]\n",
      "      lactic_acid (254, 255] x (0, 0]\n",
      "      draw_whey (255, 258] x (0, 0]\n",
      "      dray_ricotta (258, 261] x (0, 0]\n",
      "    floculator (249, 267] x (0, 0]\n",
      "      boiling_preparation (249, 251] x (0, 0]\n",
      "      pouring (251, 255] x (0, 0]\n",
      "      heating (251, 260] x (0, 0]\n",
      "      lactic_acid (260, 261] x (0, 0]\n",
      "      draw_whey (261, 264] x (0, 0]\n",
      "      dray_ricotta (264, 267] x (0, 0]\n",
      "    extra_processing (267, 270] x (0, 0]\n",
      "      salting (267, 270] x (0, 0]\n",
      "      ingredient (270, 270] x (0, 0]\n",
      "    pumping (270, 282] x (0, 0]\n",
      "    packing: Pretto 0.2  45% (280, 296] x (0, 0]\n",
      "  boiling (258, 302] x (0, 0]\n",
      "    floculator (258, 276] x (0, 0]\n",
      "      boiling_preparation (258, 260] x (0, 0]\n",
      "      pouring (260, 264] x (0, 0]\n",
      "      heating (260, 269] x (0, 0]\n",
      "      lactic_acid (269, 270] x (0, 0]\n",
      "      draw_whey (270, 273] x (0, 0]\n",
      "      dray_ricotta (273, 276] x (0, 0]\n",
      "    floculator (264, 282] x (0, 0]\n",
      "      boiling_preparation (264, 266] x (0, 0]\n",
      "      pouring (266, 270] x (0, 0]\n",
      "      heating (266, 275] x (0, 0]\n",
      "      lactic_acid (275, 276] x (0, 0]\n",
      "      draw_whey (276, 279] x (0, 0]\n",
      "      dray_ricotta (279, 282] x (0, 0]\n",
      "    extra_processing (282, 285] x (0, 0]\n",
      "      salting (282, 285] x (0, 0]\n",
      "      ingredient (285, 285] x (0, 0]\n",
      "    pumping (285, 297] x (0, 0]\n",
      "    packing: Pretto 0.2  45% (296, 312] x (0, 0]\n",
      "  boiling (280, 321] x (0, 0]\n",
      "    floculator (280, 298] x (0, 0]\n",
      "      boiling_preparation (280, 282] x (0, 0]\n",
      "      pouring (282, 286] x (0, 0]\n",
      "      heating (282, 291] x (0, 0]\n",
      "      lactic_acid (291, 292] x (0, 0]\n",
      "      draw_whey (292, 295] x (0, 0]\n",
      "      dray_ricotta (295, 298] x (0, 0]\n",
      "    extra_processing (298, 312] x (0, 0]\n",
      "      salting (298, 301] x (0, 0]\n",
      "      ingredient (301, 312] x (0, 0]\n",
      "    pumping (312, 318] x (0, 0]\n",
      "    packing: Бонджорно 0.2  30% (313, 321] x (0, 0]\n",
      "  cleaning (276, 288] x (0, 0]\n",
      "  cleaning (289, 301] x (0, 0]\n",
      "  cleaning (302, 314] x (0, 0]\n",
      "  cleaning (315, 327] x (0, 0]\n",
      "  cleaning (328, 340] x (0, 0]\n",
      "  cleaning (341, 353] x (0, 0]\n",
      "  shift (90, 216] x (0, 0]\n",
      "  shift (216, 340] x (0, 0]\n",
      "  shift (106, 216] x (0, 0]\n",
      "  shift (216, 333] x (0, 0]\n"
     ]
    }
   ],
   "source": [
    "from app.scheduler.ricotta.make_schedule.make_schedule import test\n",
    "test()"
   ]
  },
  {
   "cell_type": "code",
   "execution_count": 15,
   "outputs": [
    {
     "ename": "NameError",
     "evalue": "name 'b1' is not defined",
     "output_type": "error",
     "traceback": [
      "\u001B[0;31m---------------------------------------------------------------------------\u001B[0m",
      "\u001B[0;31mNameError\u001B[0m                                 Traceback (most recent call last)",
      "Cell \u001B[0;32mIn[15], line 1\u001B[0m\n\u001B[0;32m----> 1\u001B[0m \u001B[43mb1\u001B[49m\n",
      "\u001B[0;31mNameError\u001B[0m: name 'b1' is not defined"
     ]
    }
   ],
   "source": [
    "b1"
   ],
   "metadata": {
    "collapsed": false,
    "ExecuteTime": {
     "end_time": "2023-09-30T09:05:01.323619Z",
     "start_time": "2023-09-30T09:05:01.319250Z"
    }
   }
  },
  {
   "cell_type": "code",
   "execution_count": 23,
   "outputs": [
    {
     "data": {
      "text/plain": "6"
     },
     "execution_count": 23,
     "metadata": {},
     "output_type": "execute_result"
    }
   ],
   "source": [
    "# - Get current buffer_tank fulness\n",
    "\n",
    "packing_lag = b1['packing'].y[0] - b1['pumping'].y[0]\n",
    "packing_lag"
   ],
   "metadata": {
    "collapsed": false,
    "ExecuteTime": {
     "end_time": "2023-09-30T08:44:08.859549Z",
     "start_time": "2023-09-30T08:44:08.858713Z"
    }
   }
  },
  {
   "cell_type": "code",
   "execution_count": 29,
   "outputs": [],
   "source": [
    "kg = 1000\n",
    "new_kg = 1000"
   ],
   "metadata": {
    "collapsed": false,
    "ExecuteTime": {
     "end_time": "2023-09-30T08:49:18.085587Z",
     "start_time": "2023-09-30T08:49:18.082796Z"
    }
   }
  },
  {
   "cell_type": "code",
   "execution_count": 26,
   "outputs": [
    {
     "data": {
      "text/plain": "352.94117647058823"
     },
     "execution_count": 26,
     "metadata": {},
     "output_type": "execute_result"
    }
   ],
   "source": [
    "kg_lag = kg * packing_lag / b1['packing'].size[0]\n",
    "kg_lag"
   ],
   "metadata": {
    "collapsed": false,
    "ExecuteTime": {
     "end_time": "2023-09-30T08:46:44.547798Z",
     "start_time": "2023-09-30T08:46:44.545113Z"
    }
   }
  },
  {
   "cell_type": "code",
   "execution_count": 28,
   "outputs": [
    {
     "data": {
      "text/plain": "547.0588235294117"
     },
     "execution_count": 28,
     "metadata": {},
     "output_type": "execute_result"
    }
   ],
   "source": [
    "buffer_tank_size = 1000 # kg\n",
    "buffer_tank_reserve = 0.1\n",
    "allowed_kg_lag = buffer_tank_size * (1 - buffer_tank_reserve) - kg_lag\n",
    "allowed_kg_lag"
   ],
   "metadata": {
    "collapsed": false,
    "ExecuteTime": {
     "end_time": "2023-09-30T08:48:31.401968Z",
     "start_time": "2023-09-30T08:48:31.399943Z"
    }
   }
  },
  {
   "cell_type": "code",
   "execution_count": 36,
   "outputs": [
    {
     "data": {
      "text/plain": "9.299999999999999"
     },
     "execution_count": 36,
     "metadata": {},
     "output_type": "execute_result"
    }
   ],
   "source": [
    "allowed_next_packing_lag = allowed_kg_lag / new_kg * b1['packing'].size[0]\n",
    "allowed_next_packing_lag"
   ],
   "metadata": {
    "collapsed": false,
    "ExecuteTime": {
     "end_time": "2023-09-30T08:51:34.812894Z",
     "start_time": "2023-09-30T08:51:34.810831Z"
    }
   }
  },
  {
   "cell_type": "code",
   "execution_count": 37,
   "outputs": [
    {
     "data": {
      "text/plain": "9"
     },
     "execution_count": 37,
     "metadata": {},
     "output_type": "execute_result"
    }
   ],
   "source": [
    "allowed_next_packing_lag = int(custom_round(a=allowed_next_packing_lag, b=1, rounding='floor'))\n",
    "allowed_next_packing_lag"
   ],
   "metadata": {
    "collapsed": false,
    "ExecuteTime": {
     "end_time": "2023-09-30T08:51:34.909705Z",
     "start_time": "2023-09-30T08:51:34.907729Z"
    }
   }
  },
  {
   "cell_type": "code",
   "execution_count": 38,
   "outputs": [
    {
     "data": {
      "text/plain": "113"
     },
     "execution_count": 38,
     "metadata": {},
     "output_type": "execute_result"
    }
   ],
   "source": [
    "pumping_earliest_start = b1['packing'].x[0] + b2['packing'].size[0] - allowed_next_packing_lag - b2['pumping'].size[0]\n",
    "pumping_earliest_start"
   ],
   "metadata": {
    "collapsed": false,
    "ExecuteTime": {
     "end_time": "2023-09-30T08:54:13.968178Z",
     "start_time": "2023-09-30T08:54:13.963772Z"
    }
   }
  },
  {
   "cell_type": "code",
   "execution_count": 44,
   "outputs": [
    {
     "data": {
      "text/plain": "-16"
     },
     "execution_count": 44,
     "metadata": {},
     "output_type": "execute_result"
    }
   ],
   "source": [
    "pumping_min_distance = pumping_earliest_start - b1['pumping'].y[0]\n",
    "pumping_min_distance"
   ],
   "metadata": {
    "collapsed": false,
    "ExecuteTime": {
     "end_time": "2023-09-30T08:56:18.192867Z",
     "start_time": "2023-09-30T08:56:18.190214Z"
    }
   }
  },
  {
   "cell_type": "code",
   "execution_count": 45,
   "outputs": [
    {
     "data": {
      "text/plain": "0"
     },
     "execution_count": 45,
     "metadata": {},
     "output_type": "execute_result"
    }
   ],
   "source": [
    "pumping_min_distance = max(0, pumping_min_distance)\n",
    "pumping_min_distance"
   ],
   "metadata": {
    "collapsed": false,
    "ExecuteTime": {
     "end_time": "2023-09-30T08:56:18.298584Z",
     "start_time": "2023-09-30T08:56:18.295490Z"
    }
   }
  },
  {
   "cell_type": "code",
   "execution_count": null,
   "outputs": [],
   "source": [],
   "metadata": {
    "collapsed": false
   }
  }
 ],
 "metadata": {
  "kernelspec": {
   "display_name": "Python 3",
   "language": "python",
   "name": "python3"
  },
  "language_info": {
   "codemirror_mode": {
    "name": "ipython",
    "version": 2
   },
   "file_extension": ".py",
   "mimetype": "text/x-python",
   "name": "python",
   "nbconvert_exporter": "python",
   "pygments_lexer": "ipython2",
   "version": "2.7.6"
  }
 },
 "nbformat": 4,
 "nbformat_minor": 0
}

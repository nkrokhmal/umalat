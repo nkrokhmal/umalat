{
 "cells": [
  {
   "cell_type": "code",
   "execution_count": 1,
   "source": [
    "import nest_asyncio\n",
    "\n",
    "from utils_ak.numeric import custom_round\n",
    "\n",
    "nest_asyncio.apply()"
   ],
   "metadata": {
    "collapsed": false,
    "ExecuteTime": {
     "end_time": "2023-09-30T09:03:02.323053Z",
     "start_time": "2023-09-30T09:03:02.082260Z"
    }
   },
   "outputs": []
  },
  {
   "cell_type": "code",
   "execution_count": 13,
   "metadata": {
    "collapsed": true
   },
   "source": [
    "from app.scheduler.ricotta.make_schedule.make_schedule import test\n",
    "test()"
   ],
   "outputs": []
  },
  {
   "cell_type": "code",
   "execution_count": 15,
   "source": [
    "b1"
   ],
   "metadata": {
    "collapsed": false,
    "ExecuteTime": {
     "end_time": "2023-09-30T09:05:01.323619Z",
     "start_time": "2023-09-30T09:05:01.319250Z"
    }
   },
   "outputs": []
  },
  {
   "cell_type": "code",
   "execution_count": 23,
   "source": [
    "# - Get current buffer_tank fulness\n",
    "\n",
    "packing_lag = b1['packing'].y[0] - b1['pumping'].y[0]\n",
    "packing_lag"
   ],
   "metadata": {
    "collapsed": false,
    "ExecuteTime": {
     "end_time": "2023-09-30T08:44:08.859549Z",
     "start_time": "2023-09-30T08:44:08.858713Z"
    }
   },
   "outputs": []
  },
  {
   "cell_type": "code",
   "execution_count": 29,
   "source": [
    "kg = 1000\n",
    "new_kg = 1000"
   ],
   "metadata": {
    "collapsed": false,
    "ExecuteTime": {
     "end_time": "2023-09-30T08:49:18.085587Z",
     "start_time": "2023-09-30T08:49:18.082796Z"
    }
   },
   "outputs": []
  },
  {
   "cell_type": "code",
   "execution_count": 26,
   "source": [
    "kg_lag = kg * packing_lag / b1['packing'].size[0]\n",
    "kg_lag"
   ],
   "metadata": {
    "collapsed": false,
    "ExecuteTime": {
     "end_time": "2023-09-30T08:46:44.547798Z",
     "start_time": "2023-09-30T08:46:44.545113Z"
    }
   },
   "outputs": []
  },
  {
   "cell_type": "code",
   "execution_count": 28,
   "source": [
    "buffer_tank_size = 1000 # kg\n",
    "buffer_tank_reserve = 0.1\n",
    "allowed_kg_lag = buffer_tank_size * (1 - buffer_tank_reserve) - kg_lag\n",
    "allowed_kg_lag"
   ],
   "metadata": {
    "collapsed": false,
    "ExecuteTime": {
     "end_time": "2023-09-30T08:48:31.401968Z",
     "start_time": "2023-09-30T08:48:31.399943Z"
    }
   },
   "outputs": []
  },
  {
   "cell_type": "code",
   "execution_count": 36,
   "source": [
    "allowed_next_packing_lag = allowed_kg_lag / new_kg * b1['packing'].size[0]\n",
    "allowed_next_packing_lag"
   ],
   "metadata": {
    "collapsed": false,
    "ExecuteTime": {
     "end_time": "2023-09-30T08:51:34.812894Z",
     "start_time": "2023-09-30T08:51:34.810831Z"
    }
   },
   "outputs": []
  },
  {
   "cell_type": "code",
   "execution_count": 37,
   "source": [
    "allowed_next_packing_lag = int(custom_round(a=allowed_next_packing_lag, b=1, rounding='floor'))\n",
    "allowed_next_packing_lag"
   ],
   "metadata": {
    "collapsed": false,
    "ExecuteTime": {
     "end_time": "2023-09-30T08:51:34.909705Z",
     "start_time": "2023-09-30T08:51:34.907729Z"
    }
   },
   "outputs": []
  },
  {
   "cell_type": "code",
   "execution_count": 38,
   "source": [
    "pumping_earliest_start = b1['packing'].x[0] + b2['packing'].size[0] - allowed_next_packing_lag - b2['pumping'].size[0]\n",
    "pumping_earliest_start"
   ],
   "metadata": {
    "collapsed": false,
    "ExecuteTime": {
     "end_time": "2023-09-30T08:54:13.968178Z",
     "start_time": "2023-09-30T08:54:13.963772Z"
    }
   },
   "outputs": []
  },
  {
   "cell_type": "code",
   "execution_count": 44,
   "source": [
    "pumping_min_distance = pumping_earliest_start - b1['pumping'].y[0]\n",
    "pumping_min_distance"
   ],
   "metadata": {
    "collapsed": false,
    "ExecuteTime": {
     "end_time": "2023-09-30T08:56:18.192867Z",
     "start_time": "2023-09-30T08:56:18.190214Z"
    }
   },
   "outputs": []
  },
  {
   "cell_type": "code",
   "execution_count": 45,
   "source": [
    "pumping_min_distance = max(0, pumping_min_distance)\n",
    "pumping_min_distance"
   ],
   "metadata": {
    "collapsed": false,
    "ExecuteTime": {
     "end_time": "2023-09-30T08:56:18.298584Z",
     "start_time": "2023-09-30T08:56:18.295490Z"
    }
   },
   "outputs": []
  },
  {
   "cell_type": "code",
   "execution_count": null,
   "source": [],
   "metadata": {
    "collapsed": false
   },
   "outputs": []
  }
 ],
 "metadata": {
  "kernelspec": {
   "display_name": "Python 3",
   "language": "python",
   "name": "python3"
  },
  "language_info": {
   "codemirror_mode": {
    "name": "ipython",
    "version": 2
   },
   "file_extension": ".py",
   "mimetype": "text/x-python",
   "name": "python",
   "nbconvert_exporter": "python",
   "pygments_lexer": "ipython2",
   "version": "2.7.6"
  }
 },
 "nbformat": 4,
 "nbformat_minor": 0
}

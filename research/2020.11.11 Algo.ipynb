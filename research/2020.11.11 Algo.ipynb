{
 "cells": [
  {
   "cell_type": "code",
   "execution_count": 1,
   "metadata": {},
   "outputs": [],
   "source": [
    "import sys\n",
    "sys.path.append('/mnt/6088FEB688FE89B4/Users/arsen/Desktop/code/git/python-utils-ak')\n",
    "from utils_ak.reflexion import load as _load\n",
    "\n",
    "def _import_globals(module):\n",
    "    for x in dir(module):\n",
    "        if not x.startswith('_'):\n",
    "            globals()[x] = getattr(module, x)\n",
    "            \n",
    "def load(module_obj, module_name=None, reload=False, import_globals=False):\n",
    "    module = _load(module_obj, module_name, reload, import_globals=False)\n",
    "    if import_globals:\n",
    "        _import_globals(module)\n",
    "    return module"
   ]
  },
  {
   "cell_type": "code",
   "execution_count": 12,
   "metadata": {},
   "outputs": [],
   "source": [
    "request = {'Моцарелла Фиор ди Латте в воде \"Красная птица\", 45%, 0,125 кг, ф/п': 1, \n",
    "          'Моцарелла Фиор Ди Латте в воде \"Pretto\", 45%, 0,125 кг, ф/п, (8 шт)': 1}"
   ]
  },
  {
   "cell_type": "code",
   "execution_count": 3,
   "metadata": {},
   "outputs": [],
   "source": [
    "import pandas as pd"
   ]
  },
  {
   "cell_type": "code",
   "execution_count": 4,
   "metadata": {},
   "outputs": [
    {
     "data": {
      "text/html": [
       "<div>\n",
       "<style scoped>\n",
       "    .dataframe tbody tr th:only-of-type {\n",
       "        vertical-align: middle;\n",
       "    }\n",
       "\n",
       "    .dataframe tbody tr th {\n",
       "        vertical-align: top;\n",
       "    }\n",
       "\n",
       "    .dataframe thead th {\n",
       "        text-align: right;\n",
       "    }\n",
       "</style>\n",
       "<table border=\"1\" class=\"dataframe\">\n",
       "  <thead>\n",
       "    <tr style=\"text-align: right;\">\n",
       "      <th></th>\n",
       "      <th>name</th>\n",
       "      <th>qty</th>\n",
       "    </tr>\n",
       "  </thead>\n",
       "  <tbody>\n",
       "    <tr>\n",
       "      <th>0</th>\n",
       "      <td>Моцарелла Фиор ди Латте в воде \"Красная птица\"...</td>\n",
       "      <td>1</td>\n",
       "    </tr>\n",
       "    <tr>\n",
       "      <th>1</th>\n",
       "      <td>Моцарелла Фиор Ди Латте в воде \"Pretto\", 45%, ...</td>\n",
       "      <td>1</td>\n",
       "    </tr>\n",
       "  </tbody>\n",
       "</table>\n",
       "</div>"
      ],
      "text/plain": [
       "                                                name  qty\n",
       "0  Моцарелла Фиор ди Латте в воде \"Красная птица\"...    1\n",
       "1  Моцарелла Фиор Ди Латте в воде \"Pretto\", 45%, ...    1"
      ]
     },
     "execution_count": 4,
     "metadata": {},
     "output_type": "execute_result"
    }
   ],
   "source": [
    "df = pd.DataFrame(request.items(), columns=['name', 'qty'])\n",
    "df"
   ]
  },
  {
   "cell_type": "code",
   "execution_count": 5,
   "metadata": {},
   "outputs": [],
   "source": [
    "import sys\n",
    "sys.path.append('/mnt/6088FEB688FE89B4/Users/arsen/Desktop/code/git/2020.10-umalat/umalat')"
   ]
  },
  {
   "cell_type": "code",
   "execution_count": 6,
   "metadata": {},
   "outputs": [],
   "source": [
    "from app.models import *\n",
    "from app.models import Boiling as BoilingModel"
   ]
  },
  {
   "cell_type": "code",
   "execution_count": 7,
   "metadata": {},
   "outputs": [],
   "source": [
    "from sqlalchemy import create_engine\n",
    "from sqlalchemy.orm import sessionmaker\n",
    "\n",
    "sqlite_filepath = '/home/akadaner/Desktop/data.sqlite'\n",
    "engine = create_engine(f\"sqlite:///{sqlite_filepath}\")\n",
    "Session = sessionmaker()\n",
    "Session.configure(bind=engine)\n",
    "session = Session()"
   ]
  },
  {
   "cell_type": "code",
   "execution_count": 8,
   "metadata": {},
   "outputs": [],
   "source": [
    "df['sku'] = df['name'].apply(lambda s: session.query(SKU).filter(SKU.name == s).first())"
   ]
  },
  {
   "cell_type": "code",
   "execution_count": 9,
   "metadata": {},
   "outputs": [
    {
     "data": {
      "text/html": [
       "<div>\n",
       "<style scoped>\n",
       "    .dataframe tbody tr th:only-of-type {\n",
       "        vertical-align: middle;\n",
       "    }\n",
       "\n",
       "    .dataframe tbody tr th {\n",
       "        vertical-align: top;\n",
       "    }\n",
       "\n",
       "    .dataframe thead th {\n",
       "        text-align: right;\n",
       "    }\n",
       "</style>\n",
       "<table border=\"1\" class=\"dataframe\">\n",
       "  <thead>\n",
       "    <tr style=\"text-align: right;\">\n",
       "      <th></th>\n",
       "      <th>name</th>\n",
       "      <th>qty</th>\n",
       "      <th>sku</th>\n",
       "    </tr>\n",
       "  </thead>\n",
       "  <tbody>\n",
       "    <tr>\n",
       "      <th>0</th>\n",
       "      <td>Моцарелла Фиор ди Латте в воде \"Красная птица\"...</td>\n",
       "      <td>1</td>\n",
       "      <td>&lt;SKU 27&gt;</td>\n",
       "    </tr>\n",
       "    <tr>\n",
       "      <th>1</th>\n",
       "      <td>Моцарелла Фиор Ди Латте в воде \"Pretto\", 45%, ...</td>\n",
       "      <td>1</td>\n",
       "      <td>&lt;SKU 24&gt;</td>\n",
       "    </tr>\n",
       "  </tbody>\n",
       "</table>\n",
       "</div>"
      ],
      "text/plain": [
       "                                                name  qty       sku\n",
       "0  Моцарелла Фиор ди Латте в воде \"Красная птица\"...    1  <SKU 27>\n",
       "1  Моцарелла Фиор Ди Латте в воде \"Pretto\", 45%, ...    1  <SKU 24>"
      ]
     },
     "execution_count": 9,
     "metadata": {},
     "output_type": "execute_result"
    }
   ],
   "source": [
    "df"
   ]
  },
  {
   "cell_type": "code",
   "execution_count": 10,
   "metadata": {},
   "outputs": [],
   "source": [
    "sku = df.iloc[0]['sku']"
   ]
  },
  {
   "cell_type": "code",
   "execution_count": 11,
   "metadata": {},
   "outputs": [
    {
     "data": {
      "text/plain": [
       "<Boiling 1>"
      ]
     },
     "execution_count": 11,
     "metadata": {},
     "output_type": "execute_result"
    }
   ],
   "source": [
    "session.query(BoilingModel).first()"
   ]
  },
  {
   "cell_type": "code",
   "execution_count": 12,
   "metadata": {},
   "outputs": [],
   "source": [
    "df['boiling'] = df['sku'].apply(lambda sku: session.query(BoilingModel).filter(BoilingModel.id == sku.boiling_id).first())"
   ]
  },
  {
   "cell_type": "code",
   "execution_count": 13,
   "metadata": {},
   "outputs": [
    {
     "data": {
      "text/html": [
       "<div>\n",
       "<style scoped>\n",
       "    .dataframe tbody tr th:only-of-type {\n",
       "        vertical-align: middle;\n",
       "    }\n",
       "\n",
       "    .dataframe tbody tr th {\n",
       "        vertical-align: top;\n",
       "    }\n",
       "\n",
       "    .dataframe thead th {\n",
       "        text-align: right;\n",
       "    }\n",
       "</style>\n",
       "<table border=\"1\" class=\"dataframe\">\n",
       "  <thead>\n",
       "    <tr style=\"text-align: right;\">\n",
       "      <th></th>\n",
       "      <th>name</th>\n",
       "      <th>qty</th>\n",
       "      <th>sku</th>\n",
       "      <th>boiling</th>\n",
       "    </tr>\n",
       "  </thead>\n",
       "  <tbody>\n",
       "    <tr>\n",
       "      <th>0</th>\n",
       "      <td>Моцарелла Фиор ди Латте в воде \"Красная птица\"...</td>\n",
       "      <td>1</td>\n",
       "      <td>&lt;SKU 27&gt;</td>\n",
       "      <td>&lt;Boiling 6&gt;</td>\n",
       "    </tr>\n",
       "    <tr>\n",
       "      <th>1</th>\n",
       "      <td>Моцарелла Фиор Ди Латте в воде \"Pretto\", 45%, ...</td>\n",
       "      <td>1</td>\n",
       "      <td>&lt;SKU 24&gt;</td>\n",
       "      <td>&lt;Boiling 6&gt;</td>\n",
       "    </tr>\n",
       "  </tbody>\n",
       "</table>\n",
       "</div>"
      ],
      "text/plain": [
       "                                                name  qty       sku  \\\n",
       "0  Моцарелла Фиор ди Латте в воде \"Красная птица\"...    1  <SKU 27>   \n",
       "1  Моцарелла Фиор Ди Латте в воде \"Pretto\", 45%, ...    1  <SKU 24>   \n",
       "\n",
       "       boiling  \n",
       "0  <Boiling 6>  \n",
       "1  <Boiling 6>  "
      ]
     },
     "execution_count": 13,
     "metadata": {},
     "output_type": "execute_result"
    }
   ],
   "source": [
    "df"
   ]
  },
  {
   "cell_type": "code",
   "execution_count": 14,
   "metadata": {},
   "outputs": [],
   "source": [
    "lines = ['cheese_maker', 'melting', 'termizator', 'packing']"
   ]
  },
  {
   "cell_type": "code",
   "execution_count": 15,
   "metadata": {},
   "outputs": [],
   "source": [
    "import interval\n",
    "\n",
    "def calc_interval_length(i):\n",
    "    return sum([c[1] - c[0] for c in i])"
   ]
  },
  {
   "cell_type": "code",
   "execution_count": 88,
   "metadata": {},
   "outputs": [],
   "source": [
    "module = load('2020.11.18 algo.py', import_globals=True, reload=True)"
   ]
  },
  {
   "cell_type": "code",
   "execution_count": 89,
   "metadata": {},
   "outputs": [
    {
     "data": {
      "text/plain": [
       "root {'t': 10}\n",
       "  boiling {'block_num': 12, 't': 0}\n",
       "    water_pouring {'y': 6, 't': 0}\n",
       "      block {'y': 0, 't': 0}\n",
       "        pouring {'size': 6, 'block_num': 12, 't': 0}\n",
       "        pouring_name {'size': 21, 'name': 'чильеджина  3,6 альче  8500кг', 't': 6}\n",
       "      block {'y': 1, 't': 0}\n",
       "        pouring_and_fermenting {'size': 8, 't': 0}\n",
       "        soldification {'size': 7, 't': 8}\n",
       "        cutting {'size': 7, 't': 15}\n",
       "        pouring_off {'size': 3, 't': 22}\n",
       "        extra {'size': 1, 't': 25}"
      ]
     },
     "execution_count": 89,
     "metadata": {},
     "output_type": "execute_result"
    }
   ],
   "source": [
    "with Block('root', t=10) as root:\n",
    "    with root.make('boiling', block_num=12) as boiling:\n",
    "        total_size = 27\n",
    "        with boiling.make('water_pouring', y=6, t=1) as water_pouring:\n",
    "            with water_pouring.make(y=0) as upper_block:\n",
    "                upper_block.make('pouring_label', size=6, block_num=12)\n",
    "                upper_block.make('pouring_name', size=total_size - 6, name='чильеджина  3,6 альче  8500кг')\n",
    "            with water_pouring.make(y=1) as lower_block:\n",
    "                lower_block.make('pouring_and_fermenting', size=8)\n",
    "                lower_block.make('soldification', size=7)\n",
    "                lower_block.make('cutting', size=7)\n",
    "                lower_block.make('pouring_off', size=3)\n",
    "                lower_block.make('extra', size=total_size - 8 - 8 - 7 - 3)\n",
    "    \n",
    "        root.make('termizator', size=6)\n",
    "    \n",
    "        with root.make('melting', t=22) as melting:\n",
    "            total_size = 25\n",
    "            with melting.make('upper_block') as upper_block:\n",
    "                upper_block.make('melting_label', size=3)\n",
    "                upper_block.make('melting_name', size=total_size-3, name='чильеджина 5кг/сердечки/фдл 0,125(безлактозная)/0,1')\n",
    "            with melting.make('lower_block') as lower_block:\n",
    "                "
   ]
  },
  {
   "cell_type": "code",
   "execution_count": 90,
   "metadata": {},
   "outputs": [],
   "source": [
    "style = {\n",
    "    'pouring_label': {'text': '{block_num} налив'},\n",
    "    'pouring_name': {'text': '{name}'},\n",
    "    'pouring_and_fermenting': {'text': 'налив/внесение закваски', 'color': 'orange'},\n",
    "    'soldification': {'text': 'схватка', 'color': 'yellow'},\n",
    "    'cutting': {'text': 'резка/обсушка', 'color': '#92d050'},\n",
    "    'pouring_off': {'text': 'слив', 'color': 'red'},\n",
    "}"
   ]
  },
  {
   "cell_type": "markdown",
   "metadata": {},
   "source": [
    "# Drawing"
   ]
  },
  {
   "cell_type": "code",
   "execution_count": 91,
   "metadata": {},
   "outputs": [],
   "source": [
    "from matplotlib import colors\n",
    "\n",
    "def cast_color(obj):\n",
    "    if isinstance(obj, (tuple, list)):\n",
    "        if all(isinstance(x, int) for x in obj):\n",
    "            return '#{:02x}{:02x}{:02x}'.format(*obj)\n",
    "        elif all(isinstance(x, float) for x in obj):\n",
    "            return colors.to_hex(obj)\n",
    "    elif isinstance(obj, str):\n",
    "        try:\n",
    "            return cast_color(colors.to_rgb(obj))\n",
    "        except:\n",
    "            pass\n",
    "    raise Exception('Unknown object type')"
   ]
  },
  {
   "cell_type": "code",
   "execution_count": 92,
   "metadata": {},
   "outputs": [],
   "source": [
    "def draw_block(x, y, w, h, text, colour):\n",
    "    if not colour:\n",
    "        colour = cast_color('white') # default white colour\n",
    "    SHEET.merge_cells(start_row=y, start_column=x, end_row=y + h - 1, end_column=x + w - 1)\n",
    "    merged_cell = SHEET.cell(row=y, column=x)  \n",
    "    merged_cell.value = text\n",
    "    merged_cell.alignment = Alignment(horizontal='center')\n",
    "    merged_cell.fill = PatternFill(\"solid\", fgColor=colour[1:])\n",
    "    \n",
    "def draw_block_series(x, y, h, blocks):\n",
    "    cur_x = x\n",
    "    for w, text, colour in blocks:\n",
    "        draw_block(cur_x, y, w, h, text, colour)\n",
    "        cur_x += w\n",
    "        \n",
    "def draw_two_line_series(x, y, h, blocks1, blocks2):\n",
    "    assert sum([block[0] for block in blocks1]) == sum([block[0] for block in blocks2])\n",
    "    draw_block_series(x, y, h, blocks1)\n",
    "    draw_block_series(x, y + h, h, blocks2)\n",
    "    \n",
    "    \n",
    "def cast_w(duration):\n",
    "    # one width is five minutes\n",
    "    return int(duration / 5)"
   ]
  },
  {
   "cell_type": "code",
   "execution_count": 93,
   "metadata": {},
   "outputs": [],
   "source": [
    "import pandas as pd\n",
    "from openpyxl import Workbook\n",
    "from datetime import datetime\n",
    "import openpyxl as opx\n",
    "from openpyxl.styles import Alignment\n",
    "from openpyxl.styles import PatternFill\n",
    "import json"
   ]
  },
  {
   "cell_type": "code",
   "execution_count": 94,
   "metadata": {},
   "outputs": [],
   "source": [
    "# WB = opx.load_workbook(r'2020.10.06 pouring_template.xlsx')\n",
    "# SHEET = WB.worksheets[0]\n",
    "\n",
    "# draw_block(10, 10, 1, 1, '12 налив', '#008000')\n",
    "\n",
    "# draw_block_series(8, 10, 1, \n",
    "#                   [\n",
    "#                       [5, '60 налив', ''], \n",
    "#                       [27, 'фиор ди латте  3,3 альче 80 юнитов  8000кг/11,5кг галактаза 5200', '']\n",
    "#                   ])\n",
    "\n",
    "# draw_two_line_series(10, 11, 1,\n",
    "#                   [\n",
    "#                       [5, '60 налив', ''], \n",
    "#                       [27, 'фиор ди латте  3,3 альче 80 юнитов  8000кг/11,5кг галактаза 5200', '']\n",
    "#                   ],\n",
    "#                   [\n",
    "#                       [12, 'налив/внесение закваски', '#FFA500'],\n",
    "#                       [7, 'схватка', '#FFFF00'],\n",
    "#                       [8, 'резка/обсушка', '#008000'],\n",
    "#                       [3, 'слив', '#FF0000'],\n",
    "#                       [2, '', '']\n",
    "#                   ])\n",
    "\n",
    "# draw_block(20, 20, cast_w(15), 1, 'a', '#008000')\n",
    "\n",
    "\n",
    "# WB.save('output.xlsx')"
   ]
  },
  {
   "cell_type": "code",
   "execution_count": 95,
   "metadata": {},
   "outputs": [],
   "source": [
    "def draw(block):\n",
    "    if block.children:\n",
    "        for child in block.children:\n",
    "            draw(child)\n",
    "    else:\n",
    "        props = block.props or {}\n",
    "        props.update(style.get(block.block_class, {}))\n",
    "        text = props.get('text', '')\n",
    "        color = cast_color(props.get('color', 'white'))\n",
    "        print(block.props, text.format(**props), color)\n",
    "        draw_block(block.beg, block.props['y'], block.props['size'], 1, text.format(**props), color)"
   ]
  },
  {
   "cell_type": "code",
   "execution_count": 96,
   "metadata": {},
   "outputs": [],
   "source": [
    "WB = opx.load_workbook(r'2020.10.06 pouring_template.xlsx')\n",
    "SHEET = WB.worksheets[0]"
   ]
  },
  {
   "cell_type": "code",
   "execution_count": 97,
   "metadata": {},
   "outputs": [
    {
     "data": {
      "text/plain": [
       "{'t': 10, 'block_num': 12}"
      ]
     },
     "execution_count": 97,
     "metadata": {},
     "output_type": "execute_result"
    }
   ],
   "source": [
    "root['boiling'].props"
   ]
  },
  {
   "cell_type": "code",
   "execution_count": 98,
   "metadata": {},
   "outputs": [
    {
     "name": "stdout",
     "output_type": "stream",
     "text": [
      "{'t': 10, 'block_num': 12, 'y': 6, 'size': 6, 'text': '{block_num} налив'} 12 налив #ffffff\n",
      "{'t': 16, 'block_num': 12, 'y': 6, 'size': 21, 'name': 'чильеджина  3,6 альче  8500кг', 'text': '{name}'} чильеджина  3,6 альче  8500кг #ffffff\n",
      "{'t': 10, 'block_num': 12, 'y': 7, 'size': 8, 'text': 'налив/внесение закваски', 'color': 'orange'} налив/внесение закваски #ffa500\n",
      "{'t': 18, 'block_num': 12, 'y': 7, 'size': 7, 'text': 'схватка', 'color': 'yellow'} схватка #ffff00\n",
      "{'t': 25, 'block_num': 12, 'y': 7, 'size': 7, 'text': 'резка/обсушка', 'color': '#92d050'} резка/обсушка #92d050\n",
      "{'t': 32, 'block_num': 12, 'y': 7, 'size': 3, 'text': 'слив', 'color': 'red'} слив #ff0000\n",
      "{'t': 35, 'block_num': 12, 'y': 7, 'size': 1}  #ffffff\n"
     ]
    }
   ],
   "source": [
    "draw(root)"
   ]
  },
  {
   "cell_type": "code",
   "execution_count": 99,
   "metadata": {},
   "outputs": [],
   "source": [
    "WB.save('output.xlsx')"
   ]
  }
 ],
 "metadata": {
  "kernelspec": {
   "display_name": "Python 3",
   "language": "python",
   "name": "python3"
  },
  "language_info": {
   "codemirror_mode": {
    "name": "ipython",
    "version": 3
   },
   "file_extension": ".py",
   "mimetype": "text/x-python",
   "name": "python",
   "nbconvert_exporter": "python",
   "pygments_lexer": "ipython3",
   "version": "3.8.5"
  }
 },
 "nbformat": 4,
 "nbformat_minor": 4
}

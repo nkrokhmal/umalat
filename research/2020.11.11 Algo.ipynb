{
 "cells": [
  {
   "cell_type": "markdown",
   "metadata": {},
   "source": [
    "# Todo\n",
    "\n",
    "## База\n",
    "- Класс блока\n",
    "- Класс линии\n",
    "- Рисовальщик\n",
    "\n",
    "## Алгоритм\n",
    "- Добавление блока на линию\n",
    "- Валидатор"
   ]
  },
  {
   "cell_type": "code",
   "execution_count": 1,
   "metadata": {},
   "outputs": [],
   "source": [
    "request = {'Моцарелла Фиор ди Латте в воде \"Красная птица\", 45%, 0,125 кг, ф/п': 1, \n",
    "          'Моцарелла Фиор Ди Латте в воде \"Pretto\", 45%, 0,125 кг, ф/п, (8 шт)': 1}"
   ]
  },
  {
   "cell_type": "code",
   "execution_count": 2,
   "metadata": {},
   "outputs": [],
   "source": [
    "import pandas as pd"
   ]
  },
  {
   "cell_type": "code",
   "execution_count": 3,
   "metadata": {},
   "outputs": [
    {
     "data": {
      "text/html": [
       "<div>\n",
       "<style scoped>\n",
       "    .dataframe tbody tr th:only-of-type {\n",
       "        vertical-align: middle;\n",
       "    }\n",
       "\n",
       "    .dataframe tbody tr th {\n",
       "        vertical-align: top;\n",
       "    }\n",
       "\n",
       "    .dataframe thead th {\n",
       "        text-align: right;\n",
       "    }\n",
       "</style>\n",
       "<table border=\"1\" class=\"dataframe\">\n",
       "  <thead>\n",
       "    <tr style=\"text-align: right;\">\n",
       "      <th></th>\n",
       "      <th>name</th>\n",
       "      <th>qty</th>\n",
       "    </tr>\n",
       "  </thead>\n",
       "  <tbody>\n",
       "    <tr>\n",
       "      <th>0</th>\n",
       "      <td>Моцарелла Фиор ди Латте в воде \"Красная птица\"...</td>\n",
       "      <td>1</td>\n",
       "    </tr>\n",
       "    <tr>\n",
       "      <th>1</th>\n",
       "      <td>Моцарелла Фиор Ди Латте в воде \"Pretto\", 45%, ...</td>\n",
       "      <td>1</td>\n",
       "    </tr>\n",
       "  </tbody>\n",
       "</table>\n",
       "</div>"
      ],
      "text/plain": [
       "                                                name  qty\n",
       "0  Моцарелла Фиор ди Латте в воде \"Красная птица\"...    1\n",
       "1  Моцарелла Фиор Ди Латте в воде \"Pretto\", 45%, ...    1"
      ]
     },
     "execution_count": 3,
     "metadata": {},
     "output_type": "execute_result"
    }
   ],
   "source": [
    "df = pd.DataFrame(request.items(), columns=['name', 'qty'])\n",
    "df"
   ]
  },
  {
   "cell_type": "code",
   "execution_count": 4,
   "metadata": {},
   "outputs": [],
   "source": [
    "import sys\n",
    "sys.path.append('/mnt/6088FEB688FE89B4/Users/arsen/Desktop/code/git/2020.10-umalat/umalat')"
   ]
  },
  {
   "cell_type": "code",
   "execution_count": 5,
   "metadata": {},
   "outputs": [],
   "source": [
    "from app.models import *\n",
    "from app.models import Boiling as BoilingModel"
   ]
  },
  {
   "cell_type": "code",
   "execution_count": 6,
   "metadata": {},
   "outputs": [],
   "source": [
    "from sqlalchemy import create_engine\n",
    "from sqlalchemy.orm import sessionmaker\n",
    "\n",
    "sqlite_filepath = '/home/akadaner/Desktop/data.sqlite'\n",
    "engine = create_engine(f\"sqlite:///{sqlite_filepath}\")\n",
    "Session = sessionmaker()\n",
    "Session.configure(bind=engine)\n",
    "session = Session()"
   ]
  },
  {
   "cell_type": "code",
   "execution_count": 7,
   "metadata": {},
   "outputs": [],
   "source": [
    "df['sku'] = df['name'].apply(lambda s: session.query(SKU).filter(SKU.name == s).first())"
   ]
  },
  {
   "cell_type": "code",
   "execution_count": 8,
   "metadata": {},
   "outputs": [
    {
     "data": {
      "text/html": [
       "<div>\n",
       "<style scoped>\n",
       "    .dataframe tbody tr th:only-of-type {\n",
       "        vertical-align: middle;\n",
       "    }\n",
       "\n",
       "    .dataframe tbody tr th {\n",
       "        vertical-align: top;\n",
       "    }\n",
       "\n",
       "    .dataframe thead th {\n",
       "        text-align: right;\n",
       "    }\n",
       "</style>\n",
       "<table border=\"1\" class=\"dataframe\">\n",
       "  <thead>\n",
       "    <tr style=\"text-align: right;\">\n",
       "      <th></th>\n",
       "      <th>name</th>\n",
       "      <th>qty</th>\n",
       "      <th>sku</th>\n",
       "    </tr>\n",
       "  </thead>\n",
       "  <tbody>\n",
       "    <tr>\n",
       "      <th>0</th>\n",
       "      <td>Моцарелла Фиор ди Латте в воде \"Красная птица\"...</td>\n",
       "      <td>1</td>\n",
       "      <td>&lt;SKU 27&gt;</td>\n",
       "    </tr>\n",
       "    <tr>\n",
       "      <th>1</th>\n",
       "      <td>Моцарелла Фиор Ди Латте в воде \"Pretto\", 45%, ...</td>\n",
       "      <td>1</td>\n",
       "      <td>&lt;SKU 24&gt;</td>\n",
       "    </tr>\n",
       "  </tbody>\n",
       "</table>\n",
       "</div>"
      ],
      "text/plain": [
       "                                                name  qty       sku\n",
       "0  Моцарелла Фиор ди Латте в воде \"Красная птица\"...    1  <SKU 27>\n",
       "1  Моцарелла Фиор Ди Латте в воде \"Pretto\", 45%, ...    1  <SKU 24>"
      ]
     },
     "execution_count": 8,
     "metadata": {},
     "output_type": "execute_result"
    }
   ],
   "source": [
    "df"
   ]
  },
  {
   "cell_type": "code",
   "execution_count": 9,
   "metadata": {},
   "outputs": [],
   "source": [
    "sku = df.iloc[0]['sku']"
   ]
  },
  {
   "cell_type": "code",
   "execution_count": 10,
   "metadata": {},
   "outputs": [
    {
     "data": {
      "text/plain": [
       "<Boiling 1>"
      ]
     },
     "execution_count": 10,
     "metadata": {},
     "output_type": "execute_result"
    }
   ],
   "source": [
    "session.query(BoilingModel).first()"
   ]
  },
  {
   "cell_type": "code",
   "execution_count": 11,
   "metadata": {},
   "outputs": [],
   "source": [
    "df['boiling'] = df['sku'].apply(lambda sku: session.query(BoilingModel).filter(BoilingModel.id == sku.boiling_id).first())"
   ]
  },
  {
   "cell_type": "code",
   "execution_count": 12,
   "metadata": {},
   "outputs": [
    {
     "data": {
      "text/html": [
       "<div>\n",
       "<style scoped>\n",
       "    .dataframe tbody tr th:only-of-type {\n",
       "        vertical-align: middle;\n",
       "    }\n",
       "\n",
       "    .dataframe tbody tr th {\n",
       "        vertical-align: top;\n",
       "    }\n",
       "\n",
       "    .dataframe thead th {\n",
       "        text-align: right;\n",
       "    }\n",
       "</style>\n",
       "<table border=\"1\" class=\"dataframe\">\n",
       "  <thead>\n",
       "    <tr style=\"text-align: right;\">\n",
       "      <th></th>\n",
       "      <th>name</th>\n",
       "      <th>qty</th>\n",
       "      <th>sku</th>\n",
       "      <th>boiling</th>\n",
       "    </tr>\n",
       "  </thead>\n",
       "  <tbody>\n",
       "    <tr>\n",
       "      <th>0</th>\n",
       "      <td>Моцарелла Фиор ди Латте в воде \"Красная птица\"...</td>\n",
       "      <td>1</td>\n",
       "      <td>&lt;SKU 27&gt;</td>\n",
       "      <td>&lt;Boiling 6&gt;</td>\n",
       "    </tr>\n",
       "    <tr>\n",
       "      <th>1</th>\n",
       "      <td>Моцарелла Фиор Ди Латте в воде \"Pretto\", 45%, ...</td>\n",
       "      <td>1</td>\n",
       "      <td>&lt;SKU 24&gt;</td>\n",
       "      <td>&lt;Boiling 6&gt;</td>\n",
       "    </tr>\n",
       "  </tbody>\n",
       "</table>\n",
       "</div>"
      ],
      "text/plain": [
       "                                                name  qty       sku  \\\n",
       "0  Моцарелла Фиор ди Латте в воде \"Красная птица\"...    1  <SKU 27>   \n",
       "1  Моцарелла Фиор Ди Латте в воде \"Pretto\", 45%, ...    1  <SKU 24>   \n",
       "\n",
       "       boiling  \n",
       "0  <Boiling 6>  \n",
       "1  <Boiling 6>  "
      ]
     },
     "execution_count": 12,
     "metadata": {},
     "output_type": "execute_result"
    }
   ],
   "source": [
    "df"
   ]
  },
  {
   "cell_type": "code",
   "execution_count": null,
   "metadata": {},
   "outputs": [],
   "source": [
    "lines = ['cheese_maker', 'melting', 'termizator', 'packing']"
   ]
  },
  {
   "cell_type": "code",
   "execution_count": 67,
   "metadata": {},
   "outputs": [],
   "source": [
    "import interval\n",
    "\n",
    "def calc_interval_length(i):\n",
    "    return sum([c[1] - c[0] for c in i])"
   ]
  },
  {
   "cell_type": "code",
   "execution_count": 200,
   "metadata": {},
   "outputs": [],
   "source": [
    "\n",
    "\n",
    "PERIODS_PER_HOUR = 12\n",
    "PERIODS_PER_DAY = 24 * PERIODS_PER_HOUR\n",
    "\n",
    "\n",
    "class Block:\n",
    "    def __init__(self, size=None, t=None, block_class=None, tags=None):\n",
    "        self.size = size or 0\n",
    "        self.t = t or 0\n",
    "        \n",
    "        self.children = []\n",
    "        self.block_class = block_class\n",
    "        self.tags = tags\n",
    "        \n",
    "    @property\n",
    "    def beg(self):\n",
    "        return self.t\n",
    "    \n",
    "    @property\n",
    "    def end(self):\n",
    "        return self.t + self.size\n",
    "    \n",
    "    @property\n",
    "    def interval(self):\n",
    "        return interval.interval[self.beg, self.end]\n",
    "    \n",
    "    def __str__(self):\n",
    "        return '-'.join([str(self.beg), str(self.end)])\n",
    "    \n",
    "    def __repr__(self):\n",
    "        return str(self)\n",
    "    \n",
    "    \n",
    "    def push(self, block, after=None, before=PERIODS_PER_DAY):\n",
    "        after = after or 0\n",
    "        \n",
    "        cur_t = after\n",
    "        \n",
    "        while cur_t < before:\n",
    "            block.t = cur_t\n",
    "            \n",
    "            validated = self.validate(block)\n",
    "            \n",
    "            if validated:\n",
    "                self.add(block)\n",
    "                return True\n",
    "            else:\n",
    "                # try to fit the block\n",
    "                cur_t += 1\n",
    "    \n",
    "    def add(self, block):\n",
    "        self.children.append(block)\n",
    "        \n",
    "    def validate(self, block):\n",
    "        for b in self.children:\n",
    "            validated = validate(b, block)\n",
    "            if not validated:\n",
    "                return False\n",
    "        return True\n",
    "\n",
    "        \n",
    "def validate(b1, b2):\n",
    "    b1, b2 = min([b1, b2], key=lambda b: str(b)), max([b1, b2], key=lambda b: str(b))\n",
    "    \n",
    "    if calc_interval_length(b1.interval & b2.interval) != 0:\n",
    "        return False\n",
    "    \n",
    "    return True\n",
    "\n",
    "\n",
    "    \n",
    "class WaterPouringBlock(Block):\n",
    "    def __init__(self, name, periods, t=None):\n",
    "        self.name = name \n",
    "        size = sum(periods.values()) - periods['pouring']\n",
    "        super().__init__(size, t, block_class='water_pouring')\n",
    "        \n",
    "        self.blocks = {}\n",
    "        self.blocks['pouring'] = Block(periods['pouring'], t=0)\n",
    "        \n",
    "        for key in ['pouring_and_fermenting', 'soldifictaion', 'cutting', 'pouring_off', 'extra']:\n",
    "            self.blocks[key] = Block(periods[key], t=cur_t, tags=[key])\n",
    "            cur_t += periods[key]\n",
    "\n"
   ]
  },
  {
   "cell_type": "code",
   "execution_count": 201,
   "metadata": {},
   "outputs": [],
   "source": [
    "total_size = 27\n",
    "water_pouring = Block(block_class='water_pouring', size=total_size)\n",
    "\n",
    "upper_block = Block(size=total_size)\n",
    "upper_block.push(Block(block_class='pouring', size=6, tags={'block_num': 12}))\n",
    "upper_block.push(Block(block_class='pouring_name', size=total_size - 6, tags={'name': 'чильеджина  3,6 альче  8500кг'}))\n",
    "\n",
    "lower_block = Block(size=total_size)\n",
    "lower_block.push(Block(block_class='pouring_and_fermenting', size=8))\n",
    "lower_block.push(Block(block_class='soldification', size=7))\n",
    "lower_block.push(Block(block_class='cutting', size=7))\n",
    "lower_block.push(Block(block_class='pouring_off', size=3))\n",
    "lower_block.push(Block(block_class='extra', size=total_size - 8 - 8 - 7 - 3))\n",
    "\n",
    "water_pouring.add(upper_block)\n",
    "water_pouring.add(lower_block)"
   ]
  },
  {
   "cell_type": "code",
   "execution_count": 202,
   "metadata": {},
   "outputs": [
    {
     "data": {
      "text/plain": [
       "0-27"
      ]
     },
     "execution_count": 202,
     "metadata": {},
     "output_type": "execute_result"
    }
   ],
   "source": [
    "water_pouring"
   ]
  },
  {
   "cell_type": "code",
   "execution_count": 218,
   "metadata": {},
   "outputs": [],
   "source": [
    "style = {\n",
    "    'pouring': {'text': '{block_num} налив'},\n",
    "    'pouring_name': {'text': '{name}'},\n",
    "    'pouring_and_fermenting': {'text': 'налив/внесение закваски', 'color': 'orange'},\n",
    "    'soldification': {'text': 'схватка', 'color': 'yellow'},\n",
    "    'cutting': {'text': 'резка/обсушка', 'color': '#92d050'},\n",
    "    'pouring_off': {'text': 'слив', 'color': 'red'},\n",
    "}"
   ]
  },
  {
   "cell_type": "markdown",
   "metadata": {},
   "source": [
    "# Drawing"
   ]
  },
  {
   "cell_type": "code",
   "execution_count": 204,
   "metadata": {},
   "outputs": [],
   "source": [
    "from matplotlib import colors\n",
    "\n",
    "def cast_color(obj):\n",
    "    if isinstance(obj, (tuple, list)):\n",
    "        if all(isinstance(x, int) for x in obj):\n",
    "            return '#{:02x}{:02x}{:02x}'.format(*obj)\n",
    "        elif all(isinstance(x, float) for x in obj):\n",
    "            return colors.to_hex(obj)\n",
    "    elif isinstance(obj, str):\n",
    "        try:\n",
    "            return cast_color(colors.to_rgb(obj))\n",
    "        except:\n",
    "            pass\n",
    "    raise Exception('Unknown object type')"
   ]
  },
  {
   "cell_type": "code",
   "execution_count": 205,
   "metadata": {},
   "outputs": [],
   "source": [
    "def draw_block(x, y, w, h, text, colour):\n",
    "    if not colour:\n",
    "        colour = cast_color('white') # default white colour\n",
    "    SHEET.merge_cells(start_row=y, start_column=x, end_row=y + h - 1, end_column=x + w - 1)\n",
    "    merged_cell = SHEET.cell(row=y, column=x)  \n",
    "    merged_cell.value = text\n",
    "    merged_cell.alignment = Alignment(horizontal='center')\n",
    "    merged_cell.fill = PatternFill(\"solid\", fgColor=colour[1:])\n",
    "    \n",
    "def draw_block_series(x, y, h, blocks):\n",
    "    cur_x = x\n",
    "    for w, text, colour in blocks:\n",
    "        draw_block(cur_x, y, w, h, text, colour)\n",
    "        cur_x += w\n",
    "        \n",
    "def draw_two_line_series(x, y, h, blocks1, blocks2):\n",
    "    assert sum([block[0] for block in blocks1]) == sum([block[0] for block in blocks2])\n",
    "    draw_block_series(x, y, h, blocks1)\n",
    "    draw_block_series(x, y + h, h, blocks2)\n",
    "    \n",
    "    \n",
    "def cast_w(duration):\n",
    "    # one width is five minutes\n",
    "    return int(duration / 5)"
   ]
  },
  {
   "cell_type": "code",
   "execution_count": 206,
   "metadata": {},
   "outputs": [],
   "source": [
    "import pandas as pd\n",
    "from openpyxl import Workbook\n",
    "from datetime import datetime\n",
    "import openpyxl as opx\n",
    "from openpyxl.styles import Alignment\n",
    "from openpyxl.styles import PatternFill\n",
    "import json"
   ]
  },
  {
   "cell_type": "code",
   "execution_count": 191,
   "metadata": {},
   "outputs": [],
   "source": [
    "# WB = opx.load_workbook(r'2020.10.06 pouring_template.xlsx')\n",
    "# SHEET = WB.worksheets[0]\n",
    "\n",
    "# draw_block(10, 10, 1, 1, '12 налив', '#008000')\n",
    "\n",
    "# draw_block_series(8, 10, 1, \n",
    "#                   [\n",
    "#                       [5, '60 налив', ''], \n",
    "#                       [27, 'фиор ди латте  3,3 альче 80 юнитов  8000кг/11,5кг галактаза 5200', '']\n",
    "#                   ])\n",
    "\n",
    "# draw_two_line_series(10, 11, 1,\n",
    "#                   [\n",
    "#                       [5, '60 налив', ''], \n",
    "#                       [27, 'фиор ди латте  3,3 альче 80 юнитов  8000кг/11,5кг галактаза 5200', '']\n",
    "#                   ],\n",
    "#                   [\n",
    "#                       [12, 'налив/внесение закваски', '#FFA500'],\n",
    "#                       [7, 'схватка', '#FFFF00'],\n",
    "#                       [8, 'резка/обсушка', '#008000'],\n",
    "#                       [3, 'слив', '#FF0000'],\n",
    "#                       [2, '', '']\n",
    "#                   ])\n",
    "\n",
    "# draw_block(20, 20, cast_w(15), 1, 'a', '#008000')\n",
    "\n",
    "\n",
    "WB.save('output.xlsx')"
   ]
  },
  {
   "cell_type": "code",
   "execution_count": 207,
   "metadata": {},
   "outputs": [],
   "source": [
    "def draw(x, y, h, block):\n",
    "    if block.children:\n",
    "        for child in block.children:\n",
    "            draw(x + child.t, y, h, child)\n",
    "    else:\n",
    "        tags = block.tags or {}\n",
    "        tags.update(style.get(block.block_class, {}))\n",
    "        text = tags.get('text', '')\n",
    "        color = cast_color(tags.get('color', 'white'))\n",
    "        draw_block(x, y, block.size, h, text.format(**tags), color)"
   ]
  },
  {
   "cell_type": "code",
   "execution_count": 215,
   "metadata": {},
   "outputs": [],
   "source": [
    "WB = opx.load_workbook(r'2020.10.06 pouring_template.xlsx')\n",
    "SHEET = WB.worksheets[0]"
   ]
  },
  {
   "cell_type": "code",
   "execution_count": 216,
   "metadata": {},
   "outputs": [],
   "source": [
    "draw(10, 10, 1, water_pouring.children[0])\n",
    "draw(10, 11, 1, water_pouring.children[1])"
   ]
  },
  {
   "cell_type": "code",
   "execution_count": 217,
   "metadata": {},
   "outputs": [],
   "source": [
    "WB.save('output.xlsx')"
   ]
  }
 ],
 "metadata": {
  "kernelspec": {
   "display_name": "Python 3",
   "language": "python",
   "name": "python3"
  },
  "language_info": {
   "codemirror_mode": {
    "name": "ipython",
    "version": 3
   },
   "file_extension": ".py",
   "mimetype": "text/x-python",
   "name": "python",
   "nbconvert_exporter": "python",
   "pygments_lexer": "ipython3",
   "version": "3.8.5"
  }
 },
 "nbformat": 4,
 "nbformat_minor": 4
}

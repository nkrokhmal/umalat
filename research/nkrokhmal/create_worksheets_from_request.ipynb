{
 "cells": [
  {
   "cell_type": "code",
   "execution_count": 4,
   "metadata": {},
   "source": [
    "import pandas as pd\n",
    "import xlsxwriter"
   ],
   "outputs": []
  },
  {
   "cell_type": "code",
   "execution_count": 8,
   "metadata": {},
   "source": [
    "workbook = xlsxwriter.Workbook('Test.xlsx')\n",
    "remains = workbook.add_worksheet('файл остатки')\n",
    "plan = workbook.add_worksheet('планирование суточное')\n",
    "workbook.close()\n"
   ],
   "outputs": []
  },
  {
   "cell_type": "code",
   "execution_count": 9,
   "metadata": {},
   "source": [
    "df = pd.DataFrame([[1,2], [3,4]], columns=['Tra', 'Tata'])\n",
    "writer = pd.ExcelWriter('Test.xlsx', engine='xlsxwriter')\n",
    "df.to_excel(writer, sheet_name='файл остатки')\n",
    "writer.save()\n",
    "\n"
   ],
   "outputs": []
  },
  {
   "cell_type": "code",
   "execution_count": 10,
   "metadata": {},
   "source": [
    "def build_block():\n",
    "    "
   ],
   "outputs": []
  },
  {
   "cell_type": "code",
   "execution_count": 1,
   "metadata": {},
   "source": [
    "x = '12,12,12'\n",
    "x.replace(',', '+')"
   ],
   "outputs": []
  },
  {
   "cell_type": "code",
   "execution_count": 11,
   "metadata": {},
   "source": [
    "yy = \"=INDEX($'файл остатки'.$A$5:$DK$265,MATCH($O$1,$'файл остатки'.$A$5:$A$228,0),MATCH(C2,$'файл остатки'.$A$5:$DK$5,0))\""
   ],
   "outputs": []
  },
  {
   "cell_type": "code",
   "execution_count": 22,
   "metadata": {},
   "source": [
    "yy = \"=INDEX($'файл остатки'.$A$5:$DK$265,MATCH($O$1,$'файл остатки'.$A$5:$A$228,0),MATCH(C2,$'файл остатки'.$A$5:$DK$5,0))\"\n",
    "xx = \"=INDEX($'файл остатки'.$A$5:$DK$265,MATCH($O$1,$'файл остатки'.$A$5:$A$228,0),MATCH(C2,$'файл остатки'.$A$5:$DK$5,0))\""
   ],
   "outputs": []
  },
  {
   "cell_type": "code",
   "execution_count": 23,
   "metadata": {},
   "source": [
    "xx == yy"
   ],
   "outputs": []
  },
  {
   "cell_type": "code",
   "execution_count": 21,
   "metadata": {},
   "source": [
    " ' hello ' "
   ],
   "outputs": []
  },
  {
   "cell_type": "code",
   "execution_count": null,
   "metadata": {},
   "source": [],
   "outputs": []
  }
 ],
 "metadata": {
  "kernelspec": {
   "display_name": "Python 3",
   "language": "python",
   "name": "python3"
  },
  "language_info": {
   "codemirror_mode": {
    "name": "ipython",
    "version": 3
   },
   "file_extension": ".py",
   "mimetype": "text/x-python",
   "name": "python",
   "nbconvert_exporter": "python",
   "pygments_lexer": "ipython3",
   "version": "3.6.9"
  }
 },
 "nbformat": 4,
 "nbformat_minor": 4
}

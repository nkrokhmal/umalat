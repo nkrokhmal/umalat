{
 "cells": [
  {
   "cell_type": "code",
   "execution_count": 1,
   "metadata": {},
   "outputs": [],
   "source": [
    "import sys\n",
    "sys.path.append(r'/home/nkrokhmal/Desktop/MyProjects/SergeyProject/umalat-project/prod')\n",
    "from app.models import *\n",
    "from app.models import Boiling as BoilingModel\n",
    "from app.models import Termizator as TermizatorModel\n",
    "from openpyxl.utils.cell import coordinate_from_string, column_index_from_string\n",
    "\n",
    "\n",
    "from sqlalchemy import create_engine\n",
    "from sqlalchemy.orm import sessionmaker\n",
    "\n",
    "# sqlite_filepath = '/home/akadaner/Desktop/data.sqlite'\n",
    "sqlite_filepath = r\"/home/nkrokhmal/Desktop/MyProjects/SergeyProject/umalat-project/prod/data.sqlite\"\n",
    "engine = create_engine(f\"sqlite:///{sqlite_filepath}\")\n",
    "Session = sessionmaker()\n",
    "Session.configure(bind=engine)\n",
    "session = Session()\n"
   ]
  },
  {
   "cell_type": "code",
   "execution_count": 4,
   "metadata": {},
   "outputs": [],
   "source": [
    "type1 = CheeseType(\n",
    "    name='вода',\n",
    "    output=1000\n",
    ")\n",
    "type2 = CheeseType(\n",
    "    name='соль',\n",
    "    output=850\n",
    ")\n",
    "session.add(type1)\n",
    "session.add(type2)\n",
    "session.commit()"
   ]
  },
  {
   "cell_type": "code",
   "execution_count": 6,
   "metadata": {},
   "outputs": [],
   "source": [
    "x = session.query(CheeseType).all()"
   ]
  },
  {
   "cell_type": "code",
   "execution_count": 8,
   "metadata": {},
   "outputs": [],
   "source": [
    "water = [x for x in cheese_types if x.name == 'вода'][0]\n",
    "salt = [x for x in cheese_types if x.name == 'соль'][0]"
   ]
  },
  {
   "cell_type": "code",
   "execution_count": 15,
   "metadata": {},
   "outputs": [],
   "source": [
    "boilings = session.query(Boiling).all()\n",
    "cheese_types = session.query(CheeseType).all()\n",
    "water = [x for x in cheese_types if x.name == 'вода'][0]\n",
    "salt = [x for x in cheese_types if x.name == 'соль'][0]\n",
    "for boiling in boilings:\n",
    "    if boiling.percent > 2.7:\n",
    "        boiling.cheese_type = [water]\n",
    "    else:\n",
    "        boiling.cheese_type = [salt]\n",
    "session.commit()"
   ]
  },
  {
   "cell_type": "code",
   "execution_count": 2,
   "metadata": {},
   "outputs": [],
   "source": [
    "from app.utils.excel_client import *\n",
    "import datetime\n",
    "import os"
   ]
  },
  {
   "cell_type": "code",
   "execution_count": 3,
   "metadata": {},
   "outputs": [],
   "source": [
    "def get_index(coordinate):\n",
    "    xy = coordinate_from_string(coordinate) \n",
    "    col = column_index_from_string(xy[0])\n",
    "    row = xy[1]\n",
    "    return row, col"
   ]
  },
  {
   "cell_type": "code",
   "execution_count": 4,
   "metadata": {},
   "outputs": [],
   "source": [
    "def parse(path):\n",
    "    basename = os.path.basename(path)\n",
    "    date_str = os.path.splitext(basename)[0]\n",
    "    date = datetime.datetime.strptime(date_str, '%d.%m.%y')\n",
    "\n",
    "    response = {'Date': date, 'WeekDay': date.weekday(), 'Boilings': []}\n",
    "    \n",
    "    skus = session.query(SKU).all()\n",
    "    wb = openpyxl.load_workbook(filename=path)\n",
    "    wb_data = openpyxl.load_workbook(filename=path, data_only=True)\n",
    "    ws = wb['планирование суточное']\n",
    "    ws_data = wb_data['планирование суточное']\n",
    "    for i in range(1, 200):\n",
    "        cell = ws.cell(i, 11).value\n",
    "        if cell is not None:\n",
    "            splited = re.split('=|-|/|\\(|\\)|\\+|:', str(cell))\n",
    "            splited = [get_index(x) for x in splited if x.startswith('F')]\n",
    "            \n",
    "            if len(splited) > 0:\n",
    "                sku_names = [ws_data.cell(x[0], 3).value for x  in splited]\n",
    "                boilings = [x.boilings[0] for x in skus if x.name in sku_names]\n",
    "                if len(boilings) > 0:\n",
    "                    if ws_data.cell(i, 12).value is not None:\n",
    "                        tmp = {}\n",
    "                        tmp['BoilingId'] = boilings[0].id\n",
    "                        tmp['BoilingCount'] = ws_data.cell(i, 12).value\n",
    "                        tmp['BoilingWeights'] = int(tmp['BoilingCount']) * [8000]\n",
    "                        tmp_list = []\n",
    "                        for s in splited:\n",
    "                            sku_name = ws_data.cell(s[0], 3).value\n",
    "                            sku_volume = ws_data.cell(s[0], 6).value\n",
    "                            sku_ids = [x.id for x in skus if x.name == sku_name]\n",
    "\n",
    "                            if len(sku_ids) > 0 and sku_volume is not None and sku_volume < 0:\n",
    "                                tmp_list.append({sku_ids[0]: - sku_volume})\n",
    "                        tmp['SKUVolumes'] = tmp_list\n",
    "                        response['Boilings'].append(tmp)\n",
    "    return response"
   ]
  },
  {
   "cell_type": "code",
   "execution_count": 5,
   "metadata": {},
   "outputs": [
    {
     "data": {
      "text/plain": [
       "{'Date': datetime.datetime(2020, 9, 30, 0, 0),\n",
       " 'WeekDay': 2,\n",
       " 'Boilings': [{'BoilingId': 9,\n",
       "   'BoilingCount': 1,\n",
       "   'BoilingWeights': [8000],\n",
       "   'SKUVolumes': [{12: 43.8}, {25: 426.375}]},\n",
       "  {'BoilingId': 6,\n",
       "   'BoilingCount': 1,\n",
       "   'BoilingWeights': [8000],\n",
       "   'SKUVolumes': [{23: 190.39999999999986},\n",
       "    {27: 40.5},\n",
       "    {21: 36},\n",
       "    {26: 75.6},\n",
       "    {22: 76.5},\n",
       "    {24: 199}]},\n",
       "  {'BoilingId': 6,\n",
       "   'BoilingCount': 2,\n",
       "   'BoilingWeights': [8000, 8000],\n",
       "   'SKUVolumes': [{29: 1449.6}, {28: 45}, {32: 159}, {31: 116.4}]},\n",
       "  {'BoilingId': 1,\n",
       "   'BoilingCount': 9,\n",
       "   'BoilingWeights': [8000, 8000, 8000, 8000, 8000, 8000, 8000, 8000, 8000],\n",
       "   'SKUVolumes': [{38: 850}, {41: 524}, {39: 5900}]},\n",
       "  {'BoilingId': 1,\n",
       "   'BoilingCount': 1,\n",
       "   'BoilingWeights': [8000],\n",
       "   'SKUVolumes': [{34: 600}]},\n",
       "  {'BoilingId': 1,\n",
       "   'BoilingCount': 2,\n",
       "   'BoilingWeights': [8000, 8000],\n",
       "   'SKUVolumes': [{14: 1306}, {4: 318}]},\n",
       "  {'BoilingId': 1,\n",
       "   'BoilingCount': 1,\n",
       "   'BoilingWeights': [8000],\n",
       "   'SKUVolumes': [{33: 850}, {20: 30}]},\n",
       "  {'BoilingId': 2,\n",
       "   'BoilingCount': 1,\n",
       "   'BoilingWeights': [8000],\n",
       "   'SKUVolumes': [{2: 850}]}]}"
      ]
     },
     "execution_count": 5,
     "metadata": {},
     "output_type": "execute_result"
    }
   ],
   "source": [
    "parse('/home/nkrokhmal/Desktop/MyProjects/SergeyProject/umalat-project/prod/research/nkrokhmal/30.09.20.xlsx')"
   ]
  },
  {
   "cell_type": "code",
   "execution_count": 6,
   "metadata": {},
   "outputs": [
    {
     "data": {
      "text/plain": [
       "{'Date': datetime.datetime(2020, 2, 17, 0, 0),\n",
       " 'WeekDay': 0,\n",
       " 'Boilings': [{'BoilingId': 9,\n",
       "   'BoilingCount': 0,\n",
       "   'BoilingWeights': [],\n",
       "   'SKUVolumes': []}]}"
      ]
     },
     "execution_count": 6,
     "metadata": {},
     "output_type": "execute_result"
    }
   ],
   "source": [
    "parse('/home/nkrokhmal/Downloads/2020 scheduling/2020/февраль/17.02.20.xlsx')"
   ]
  },
  {
   "cell_type": "code",
   "execution_count": null,
   "metadata": {},
   "outputs": [],
   "source": []
  }
 ],
 "metadata": {
  "kernelspec": {
   "display_name": "Python 3",
   "language": "python",
   "name": "python3"
  },
  "language_info": {
   "codemirror_mode": {
    "name": "ipython",
    "version": 3
   },
   "file_extension": ".py",
   "mimetype": "text/x-python",
   "name": "python",
   "nbconvert_exporter": "python",
   "pygments_lexer": "ipython3",
   "version": "3.6.9"
  }
 },
 "nbformat": 4,
 "nbformat_minor": 4
}

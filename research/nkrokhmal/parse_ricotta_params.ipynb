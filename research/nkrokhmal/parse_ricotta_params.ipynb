{
 "cells": [
  {
   "cell_type": "code",
   "execution_count": 1,
   "metadata": {},
   "outputs": [],
   "source": [
    "import pandas as pd\n",
    "import numpy as np"
   ]
  },
  {
   "cell_type": "code",
   "execution_count": 2,
   "metadata": {},
   "outputs": [],
   "source": [
    "df = pd.read_excel(r'2021-02-09 План по варкам.xlsx', index_col=0)\n",
    "df.columns = range(df.shape[1])\n",
    "indices = df.loc['Дата выработки продукции:'].dropna().index\n",
    "df = df[indices]"
   ]
  },
  {
   "cell_type": "code",
   "execution_count": 3,
   "metadata": {},
   "outputs": [],
   "source": [
    "df = df.loc[['Подгруппа', 'Дата выработки продукции:', 'Заявлено всего, кг:', 'Фактические остатки на складах - Заявлено, кг:', 'Нормативные остатки, кг']].fillna(0)\n",
    "df = df.T\n",
    "df.columns = ['Group', 'SKU', 'request_kg', 'fact_kg', 'norm_kg']"
   ]
  },
  {
   "cell_type": "code",
   "execution_count": 4,
   "metadata": {},
   "outputs": [
    {
     "data": {
      "text/plain": [
       "{0,\n",
       " 'Грандиоза ',\n",
       " 'Для пиццы ',\n",
       " 'Кавказский',\n",
       " 'Качокавалло',\n",
       " 'Качорикотта',\n",
       " 'Крем-чиз ',\n",
       " 'Маскарпоне',\n",
       " 'Масло',\n",
       " 'Некондиционная продукция',\n",
       " 'Подгруппа',\n",
       " 'Полуфабрикаты',\n",
       " 'Рикотта',\n",
       " 'Робиола ',\n",
       " 'Сливки',\n",
       " 'Сулугуни ',\n",
       " 'Творожный',\n",
       " 'Фиор ди Латте',\n",
       " 'Черкесский ',\n",
       " 'Четук ',\n",
       " 'Чечил',\n",
       " 'Чильеджина'}"
      ]
     },
     "execution_count": 4,
     "metadata": {},
     "output_type": "execute_result"
    }
   ],
   "source": [
    "set(df['Group'].values)"
   ]
  },
  {
   "cell_type": "code",
   "execution_count": 6,
   "metadata": {},
   "outputs": [
    {
     "data": {
      "text/plain": [
       "array([['Рикотта \"Pretto\" (зернистая), 30%, 0,37 кг, в/у'],\n",
       "       ['Рикотта \"Unagrande\", 50%, 0,25 кг, пл/с'],\n",
       "       ['Рикотта \"Unagrande\", 50%, 0,5 кг, пл/с'],\n",
       "       ['Рикотта \"Aventino\", 45%, 0,2 кг, п/с'],\n",
       "       ['Рикотта с шоколадом \"Unagrande\", 30%, 0,18 кг, пл/с'],\n",
       "       ['Рикотта с шоколадом \"Unagrande\", 30%, 0,14 кг, пл/с'],\n",
       "       ['Рикотта сицилийская \"Unagrande\", 55%, 0,3 кг, пл/с'],\n",
       "       ['Рикотта сицилийская \"Unagrande\", 55%, ВЕС, пл/с'],\n",
       "       ['Рикотта \"Pretto\", 45%, 0,5 кг, пл/с'],\n",
       "       ['Рикотта \"Pretto\", 45%, 0,2 кг, пл/с'],\n",
       "       ['Рикотта \"Фермерская коллекция\", 45%, 0,2 кг, пл/с'],\n",
       "       ['Рикотта \"ВкусВилл\", 45%, 0,18 кг, пл/с (6 шт)'],\n",
       "       ['Рикотта \"Красная птица\", 30%,  0,25 кг, пл/с (6 шт)'],\n",
       "       ['Рикотта с ванилью \"Красная птица\", 30%, 0,2 кг, пл/с'],\n",
       "       ['Рикотта шоколадно-ореховая \"Красная птица\", 35%, 0,2 кг, пл/с'],\n",
       "       ['Рикотта \"SPAR\", 30%, 0,2 кг, пл/с (6 шт)'],\n",
       "       ['Рикотта с ванилью \"Бонджорно\", 30%, 0,2 кг, пл/с'],\n",
       "       ['Рикотта с шоколадом \"Бонджорно\", 30%, 0,2 кг, пл/с'],\n",
       "       ['Рикотта шоколадно-ореховая \"Бонджорно\", 35%, 0,2 кг, пл/с'],\n",
       "       ['Рикотта \"Глобус\", 45%, 0,25 кг, пл/с']], dtype=object)"
      ]
     },
     "execution_count": 6,
     "metadata": {},
     "output_type": "execute_result"
    }
   ],
   "source": [
    "result = pd.DataFrame(df[df['Group'] == 'Рикотта']['SKU'].values, columns=['SKU'])\n",
    "result.values"
   ]
  },
  {
   "cell_type": "code",
   "execution_count": 7,
   "metadata": {},
   "outputs": [
    {
     "data": {
      "text/plain": [
       "array([['Маскарпоне \"Unagrande\", 80%, 0,25 кг, пл/с'],\n",
       "       ['Маскарпоне \"Pretto\", 80%, 0,25 кг, пл/с'],\n",
       "       ['Маскарпоне \"Pretto\", 80%, 0,5 кг, пл/с'],\n",
       "       ['Маскарпоне \"Красная птица\", 80%,  0,25 кг, пл/с, (6 шт)'],\n",
       "       ['Маскарпоне с шоколадом \"Красная птица\", 50%, 0,2 кг, пл/с'],\n",
       "       ['Маскарпоне \"ВкусВилл\", 80%, 0,25 кг, пл/с (6 шт)'],\n",
       "       ['Маскарпоне \"Глобус\", 80%, 0,25 кг, пл/с'],\n",
       "       ['Маскарпоне \"Unаgrande\", 80%, 0,5 кг, пл/с'],\n",
       "       ['Маскарпоне с шоколадом \"Бонджорно\", 50%, 0,2 кг, пл/с']],\n",
       "      dtype=object)"
      ]
     },
     "execution_count": 7,
     "metadata": {},
     "output_type": "execute_result"
    }
   ],
   "source": [
    "result = pd.DataFrame(df[df['Group'] == 'Маскарпоне']['SKU'].values, columns=['SKU'])\n",
    "result.values"
   ]
  },
  {
   "cell_type": "code",
   "execution_count": 30,
   "metadata": {},
   "outputs": [
    {
     "data": {
      "text/plain": [
       "array([['Кремчиз \"Unagrande\", 70%, 0,5 кг, пл/с'],\n",
       "       ['Кремчиз \"Красная птица\", 75%, 0,2 кг, пл/с'],\n",
       "       ['Кремчиз \"Pretto\", 75%, 0,2 кг, пл/с'],\n",
       "       ['Кремчиз \"ВкусВилл\", 70%, 0,18 кг, пл/с (6шт)'],\n",
       "       ['Кремчиз \"Фермерская коллекция\", 75%, 0,2 кг, пл/с'],\n",
       "       ['Кремчиз \"Unagrande\", 70%, 0,18 кг, пл/с'],\n",
       "       ['Творожный \"Фермерская коллекция\", 65%,0,18 кг,пл/с'],\n",
       "       ['Творожный \"Pretto\", 65%, 0,18 кг, пл/с'],\n",
       "       ['Робиола \"Unagrande\", 65%, 0,18 кг, пл/с']], dtype=object)"
      ]
     },
     "execution_count": 30,
     "metadata": {},
     "output_type": "execute_result"
    }
   ],
   "source": [
    "result = pd.DataFrame(df[df['Group'].isin(['Крем-чиз ', 'Робиола ', 'Творожный'])]['SKU'].values, columns=['SKU'])\n",
    "result.values"
   ]
  },
  {
   "cell_type": "code",
   "execution_count": 5,
   "metadata": {},
   "outputs": [
    {
     "data": {
      "text/plain": [
       "array([['Сливки Panna Fresca \"Unagrande\", 38%, 0,5 л, пл/с'],\n",
       "       ['Сливки \"Красная птица\", 38%, 0,25 л, пл/с']], dtype=object)"
      ]
     },
     "execution_count": 5,
     "metadata": {},
     "output_type": "execute_result"
    }
   ],
   "source": [
    "result = pd.DataFrame(df[df['Group'] == 'Сливки']['SKU'].values, columns=['SKU'])\n",
    "result.values"
   ]
  },
  {
   "cell_type": "code",
   "execution_count": null,
   "metadata": {},
   "outputs": [],
   "source": []
  }
 ],
 "metadata": {
  "kernelspec": {
   "display_name": "Python 3",
   "language": "python",
   "name": "python3"
  },
  "language_info": {
   "codemirror_mode": {
    "name": "ipython",
    "version": 3
   },
   "file_extension": ".py",
   "mimetype": "text/x-python",
   "name": "python",
   "nbconvert_exporter": "python",
   "pygments_lexer": "ipython3",
   "version": "3.6.9"
  }
 },
 "nbformat": 4,
 "nbformat_minor": 4
}

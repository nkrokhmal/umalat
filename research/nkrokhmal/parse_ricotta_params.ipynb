{
 "cells": [
  {
   "cell_type": "code",
   "execution_count": 1,
   "metadata": {},
   "outputs": [],
   "source": [
    "import pandas as pd\n",
    "import numpy as np"
   ]
  },
  {
   "cell_type": "code",
   "execution_count": 12,
   "metadata": {},
   "outputs": [],
   "source": [
    "df = pd.read_excel(r'2021-02-09 План по варкам.xlsx', index_col=0)\n",
    "df.columns = range(df.shape[1])\n",
    "indices = df.loc['Дата выработки продукции:'].dropna().index\n",
    "df = df[indices]"
   ]
  },
  {
   "cell_type": "code",
   "execution_count": 13,
   "metadata": {},
   "outputs": [],
   "source": [
    "df = df.loc[['Подгруппа', 'Дата выработки продукции:', 'Заявлено всего, кг:', 'Фактические остатки на складах - Заявлено, кг:', 'Нормативные остатки, кг']].fillna(0)\n",
    "df = df.T\n",
    "df.columns = ['Group', 'SKU', 'request_kg', 'fact_kg', 'norm_kg']"
   ]
  },
  {
   "cell_type": "code",
   "execution_count": 19,
   "metadata": {},
   "outputs": [
    {
     "data": {
      "text/html": [
       "<div>\n",
       "<style scoped>\n",
       "    .dataframe tbody tr th:only-of-type {\n",
       "        vertical-align: middle;\n",
       "    }\n",
       "\n",
       "    .dataframe tbody tr th {\n",
       "        vertical-align: top;\n",
       "    }\n",
       "\n",
       "    .dataframe thead th {\n",
       "        text-align: right;\n",
       "    }\n",
       "</style>\n",
       "<table border=\"1\" class=\"dataframe\">\n",
       "  <thead>\n",
       "    <tr style=\"text-align: right;\">\n",
       "      <th></th>\n",
       "      <th>SKU</th>\n",
       "    </tr>\n",
       "  </thead>\n",
       "  <tbody>\n",
       "    <tr>\n",
       "      <th>0</th>\n",
       "      <td>Рикотта \"Pretto\" (зернистая), 30%, 0,37 кг, в/у</td>\n",
       "    </tr>\n",
       "    <tr>\n",
       "      <th>1</th>\n",
       "      <td>Рикотта \"Unagrande\", 50%, 0,25 кг, пл/с</td>\n",
       "    </tr>\n",
       "    <tr>\n",
       "      <th>2</th>\n",
       "      <td>Рикотта \"Unagrande\", 50%, 0,5 кг, пл/с</td>\n",
       "    </tr>\n",
       "    <tr>\n",
       "      <th>3</th>\n",
       "      <td>Рикотта \"Aventino\", 45%, 0,2 кг, п/с</td>\n",
       "    </tr>\n",
       "    <tr>\n",
       "      <th>4</th>\n",
       "      <td>Рикотта с шоколадом \"Unagrande\", 30%, 0,18 кг,...</td>\n",
       "    </tr>\n",
       "    <tr>\n",
       "      <th>5</th>\n",
       "      <td>Рикотта с шоколадом \"Unagrande\", 30%, 0,14 кг,...</td>\n",
       "    </tr>\n",
       "    <tr>\n",
       "      <th>6</th>\n",
       "      <td>Рикотта сицилийская \"Unagrande\", 55%, 0,3 кг, ...</td>\n",
       "    </tr>\n",
       "    <tr>\n",
       "      <th>7</th>\n",
       "      <td>Рикотта сицилийская \"Unagrande\", 55%, ВЕС, пл/с</td>\n",
       "    </tr>\n",
       "    <tr>\n",
       "      <th>8</th>\n",
       "      <td>Рикотта \"Pretto\", 45%, 0,5 кг, пл/с</td>\n",
       "    </tr>\n",
       "    <tr>\n",
       "      <th>9</th>\n",
       "      <td>Рикотта \"Pretto\", 45%, 0,2 кг, пл/с</td>\n",
       "    </tr>\n",
       "    <tr>\n",
       "      <th>10</th>\n",
       "      <td>Рикотта \"Фермерская коллекция\", 45%, 0,2 кг, пл/с</td>\n",
       "    </tr>\n",
       "    <tr>\n",
       "      <th>11</th>\n",
       "      <td>Рикотта \"ВкусВилл\", 45%, 0,18 кг, пл/с (6 шт)</td>\n",
       "    </tr>\n",
       "    <tr>\n",
       "      <th>12</th>\n",
       "      <td>Рикотта \"Красная птица\", 30%,  0,25 кг, пл/с (...</td>\n",
       "    </tr>\n",
       "    <tr>\n",
       "      <th>13</th>\n",
       "      <td>Рикотта с ванилью \"Красная птица\", 30%, 0,2 кг...</td>\n",
       "    </tr>\n",
       "    <tr>\n",
       "      <th>14</th>\n",
       "      <td>Рикотта шоколадно-ореховая \"Красная птица\", 35...</td>\n",
       "    </tr>\n",
       "    <tr>\n",
       "      <th>15</th>\n",
       "      <td>Рикотта \"SPAR\", 30%, 0,2 кг, пл/с (6 шт)</td>\n",
       "    </tr>\n",
       "    <tr>\n",
       "      <th>16</th>\n",
       "      <td>Рикотта с ванилью \"Бонджорно\", 30%, 0,2 кг, пл/с</td>\n",
       "    </tr>\n",
       "    <tr>\n",
       "      <th>17</th>\n",
       "      <td>Рикотта с шоколадом \"Бонджорно\", 30%, 0,2 кг, ...</td>\n",
       "    </tr>\n",
       "    <tr>\n",
       "      <th>18</th>\n",
       "      <td>Рикотта шоколадно-ореховая \"Бонджорно\", 35%, 0...</td>\n",
       "    </tr>\n",
       "    <tr>\n",
       "      <th>19</th>\n",
       "      <td>Рикотта \"Глобус\", 45%, 0,25 кг, пл/с</td>\n",
       "    </tr>\n",
       "  </tbody>\n",
       "</table>\n",
       "</div>"
      ],
      "text/plain": [
       "                                                  SKU\n",
       "0     Рикотта \"Pretto\" (зернистая), 30%, 0,37 кг, в/у\n",
       "1             Рикотта \"Unagrande\", 50%, 0,25 кг, пл/с\n",
       "2              Рикотта \"Unagrande\", 50%, 0,5 кг, пл/с\n",
       "3                Рикотта \"Aventino\", 45%, 0,2 кг, п/с\n",
       "4   Рикотта с шоколадом \"Unagrande\", 30%, 0,18 кг,...\n",
       "5   Рикотта с шоколадом \"Unagrande\", 30%, 0,14 кг,...\n",
       "6   Рикотта сицилийская \"Unagrande\", 55%, 0,3 кг, ...\n",
       "7     Рикотта сицилийская \"Unagrande\", 55%, ВЕС, пл/с\n",
       "8                 Рикотта \"Pretto\", 45%, 0,5 кг, пл/с\n",
       "9                 Рикотта \"Pretto\", 45%, 0,2 кг, пл/с\n",
       "10  Рикотта \"Фермерская коллекция\", 45%, 0,2 кг, пл/с\n",
       "11      Рикотта \"ВкусВилл\", 45%, 0,18 кг, пл/с (6 шт)\n",
       "12  Рикотта \"Красная птица\", 30%,  0,25 кг, пл/с (...\n",
       "13  Рикотта с ванилью \"Красная птица\", 30%, 0,2 кг...\n",
       "14  Рикотта шоколадно-ореховая \"Красная птица\", 35...\n",
       "15           Рикотта \"SPAR\", 30%, 0,2 кг, пл/с (6 шт)\n",
       "16   Рикотта с ванилью \"Бонджорно\", 30%, 0,2 кг, пл/с\n",
       "17  Рикотта с шоколадом \"Бонджорно\", 30%, 0,2 кг, ...\n",
       "18  Рикотта шоколадно-ореховая \"Бонджорно\", 35%, 0...\n",
       "19               Рикотта \"Глобус\", 45%, 0,25 кг, пл/с"
      ]
     },
     "execution_count": 19,
     "metadata": {},
     "output_type": "execute_result"
    }
   ],
   "source": [
    "result = pd.DataFrame(df[df['Group'] == 'Рикотта']['SKU'].values, columns=['SKU'])\n",
    "result"
   ]
  },
  {
   "cell_type": "code",
   "execution_count": 20,
   "metadata": {},
   "outputs": [
    {
     "data": {
      "text/plain": [
       "array([['Рикотта \"Pretto\" (зернистая), 30%, 0,37 кг, в/у'],\n",
       "       ['Рикотта \"Unagrande\", 50%, 0,25 кг, пл/с'],\n",
       "       ['Рикотта \"Unagrande\", 50%, 0,5 кг, пл/с'],\n",
       "       ['Рикотта \"Aventino\", 45%, 0,2 кг, п/с'],\n",
       "       ['Рикотта с шоколадом \"Unagrande\", 30%, 0,18 кг, пл/с'],\n",
       "       ['Рикотта с шоколадом \"Unagrande\", 30%, 0,14 кг, пл/с'],\n",
       "       ['Рикотта сицилийская \"Unagrande\", 55%, 0,3 кг, пл/с'],\n",
       "       ['Рикотта сицилийская \"Unagrande\", 55%, ВЕС, пл/с'],\n",
       "       ['Рикотта \"Pretto\", 45%, 0,5 кг, пл/с'],\n",
       "       ['Рикотта \"Pretto\", 45%, 0,2 кг, пл/с'],\n",
       "       ['Рикотта \"Фермерская коллекция\", 45%, 0,2 кг, пл/с'],\n",
       "       ['Рикотта \"ВкусВилл\", 45%, 0,18 кг, пл/с (6 шт)'],\n",
       "       ['Рикотта \"Красная птица\", 30%,  0,25 кг, пл/с (6 шт)'],\n",
       "       ['Рикотта с ванилью \"Красная птица\", 30%, 0,2 кг, пл/с'],\n",
       "       ['Рикотта шоколадно-ореховая \"Красная птица\", 35%, 0,2 кг, пл/с'],\n",
       "       ['Рикотта \"SPAR\", 30%, 0,2 кг, пл/с (6 шт)'],\n",
       "       ['Рикотта с ванилью \"Бонджорно\", 30%, 0,2 кг, пл/с'],\n",
       "       ['Рикотта с шоколадом \"Бонджорно\", 30%, 0,2 кг, пл/с'],\n",
       "       ['Рикотта шоколадно-ореховая \"Бонджорно\", 35%, 0,2 кг, пл/с'],\n",
       "       ['Рикотта \"Глобус\", 45%, 0,25 кг, пл/с']], dtype=object)"
      ]
     },
     "execution_count": 20,
     "metadata": {},
     "output_type": "execute_result"
    }
   ],
   "source": [
    "result.values\n"
   ]
  },
  {
   "cell_type": "code",
   "execution_count": null,
   "metadata": {},
   "outputs": [],
   "source": []
  }
 ],
 "metadata": {
  "kernelspec": {
   "display_name": "Python 3",
   "language": "python",
   "name": "python3"
  },
  "language_info": {
   "codemirror_mode": {
    "name": "ipython",
    "version": 3
   },
   "file_extension": ".py",
   "mimetype": "text/x-python",
   "name": "python",
   "nbconvert_exporter": "python",
   "pygments_lexer": "ipython3",
   "version": "3.6.9"
  }
 },
 "nbformat": 4,
 "nbformat_minor": 4
}

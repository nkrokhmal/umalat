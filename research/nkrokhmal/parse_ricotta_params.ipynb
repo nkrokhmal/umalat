{
 "cells": [
  {
   "cell_type": "code",
   "execution_count": 1,
   "metadata": {},
   "source": [
    "import pandas as pd\n",
    "import numpy as np"
   ],
   "outputs": []
  },
  {
   "cell_type": "code",
   "execution_count": 2,
   "metadata": {},
   "source": [
    "df = pd.read_excel(r'2021-02-09 План по варкам.xlsx', index_col=0)\n",
    "df.columns = range(df.shape[1])\n",
    "indices = df.loc['Дата выработки продукции:'].dropna().index\n",
    "df = df[indices]"
   ],
   "outputs": []
  },
  {
   "cell_type": "code",
   "execution_count": 3,
   "metadata": {},
   "source": [
    "df = df.loc[['Подгруппа', 'Дата выработки продукции:', 'Заявлено всего, кг:', 'Фактические остатки на складах - Заявлено, кг:', 'Нормативные остатки, кг']].fillna(0)\n",
    "df = df.T\n",
    "df.columns = ['Group', 'SKU', 'request_kg', 'fact_kg', 'norm_kg']"
   ],
   "outputs": []
  },
  {
   "cell_type": "code",
   "execution_count": 4,
   "metadata": {},
   "source": [
    "set(df['Group'].values)"
   ],
   "outputs": []
  },
  {
   "cell_type": "code",
   "execution_count": 6,
   "metadata": {},
   "source": [
    "result = pd.DataFrame(df[df['Group'] == 'Рикотта']['SKU'].values, columns=['SKU'])\n",
    "result.values"
   ],
   "outputs": []
  },
  {
   "cell_type": "code",
   "execution_count": 7,
   "metadata": {},
   "source": [
    "result = pd.DataFrame(df[df['Group'] == 'Маскарпоне']['SKU'].values, columns=['SKU'])\n",
    "result.values"
   ],
   "outputs": []
  },
  {
   "cell_type": "code",
   "execution_count": 30,
   "metadata": {},
   "source": [
    "result = pd.DataFrame(df[df['Group'].isin(['Крем-чиз ', 'Робиола ', 'Творожный'])]['SKU'].values, columns=['SKU'])\n",
    "result.values"
   ],
   "outputs": []
  },
  {
   "cell_type": "code",
   "execution_count": 5,
   "metadata": {},
   "source": [
    "result = pd.DataFrame(df[df['Group'] == 'Сливки']['SKU'].values, columns=['SKU'])\n",
    "result.values"
   ],
   "outputs": []
  },
  {
   "cell_type": "code",
   "execution_count": null,
   "metadata": {},
   "source": [],
   "outputs": []
  }
 ],
 "metadata": {
  "kernelspec": {
   "display_name": "Python 3",
   "language": "python",
   "name": "python3"
  },
  "language_info": {
   "codemirror_mode": {
    "name": "ipython",
    "version": 3
   },
   "file_extension": ".py",
   "mimetype": "text/x-python",
   "name": "python",
   "nbconvert_exporter": "python",
   "pygments_lexer": "ipython3",
   "version": "3.6.9"
  }
 },
 "nbformat": 4,
 "nbformat_minor": 4
}

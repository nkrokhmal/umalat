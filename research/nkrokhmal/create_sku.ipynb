{
 "cells": [
  {
   "cell_type": "code",
   "execution_count": 2,
   "metadata": {},
   "source": [
    "import pandas as pd\n",
    "import re\n",
    "import unicode"
   ],
   "outputs": []
  },
  {
   "cell_type": "code",
   "execution_count": 6,
   "metadata": {},
   "source": [
    "x = \"=INDEX('файл остатки'.$A$5:$DK$265,MATCH($O$1,'файл остатки'.$A$5:$A$228,0),MATCH(C3,'файл остатки'.$A$5:$DK$5,0))\"\n",
    "y = \"=INDEX('файл остатки'.$A$5:$DK$265,MATCH($O$1,'файл остатки'.$A$5:$A$228,0),MATCH(C3,'файл остатки'.$A$5:$DK$5,0))\"\n"
   ],
   "outputs": []
  },
  {
   "cell_type": "code",
   "execution_count": 7,
   "metadata": {},
   "source": [
    "x == y"
   ],
   "outputs": []
  },
  {
   "cell_type": "code",
   "execution_count": 2,
   "metadata": {},
   "source": [
    "df = pd.read_excel(r'params.xlsx')"
   ],
   "outputs": []
  },
  {
   "cell_type": "code",
   "execution_count": 3,
   "metadata": {},
   "source": [
    "df"
   ],
   "outputs": []
  },
  {
   "cell_type": "code",
   "execution_count": 4,
   "metadata": {},
   "source": [
    "df = df.drop([df.index[0], df.index[1]])\n",
    "df.columns = range(df.shape[1])\n",
    "df[2] = df[2].apply(lambda x: x.replace(',', '.'))\n",
    "df[2] = df[2].apply(lambda x: re.findall(\"\\d+\\.\\d+\", x)[0])\n",
    "df[12] = df[12].apply(lambda x: x.split()[0])\n",
    "df"
   ],
   "outputs": []
  },
  {
   "cell_type": "code",
   "execution_count": 5,
   "metadata": {},
   "source": [
    "tmp = df[[0, 1, 2, 3, 4, 5, 8, 9, 12]]\n",
    "tmp.columns = ['name', 'department', 'percent', 'line', 'ferment', 'output', 'packer', 'packing_speed', 'shelf_life']"
   ],
   "outputs": []
  },
  {
   "cell_type": "code",
   "execution_count": 6,
   "metadata": {},
   "source": [
    "tmp"
   ],
   "outputs": []
  },
  {
   "cell_type": "code",
   "execution_count": 7,
   "metadata": {},
   "source": [
    "xx = tmp.to_json(orient=\"records\", force_ascii=False)"
   ],
   "outputs": []
  },
  {
   "cell_type": "code",
   "execution_count": 8,
   "metadata": {},
   "source": [
    "import json\n",
    "data = json.loads(xx)"
   ],
   "outputs": []
  },
  {
   "cell_type": "code",
   "execution_count": 99,
   "metadata": {},
   "source": [
    "with open('data.json', 'w') as outfile:\n",
    "    json.dump(data, outfile)"
   ],
   "outputs": []
  },
  {
   "cell_type": "code",
   "execution_count": 10,
   "metadata": {},
   "source": [
    "data = json.loads(xx)"
   ],
   "outputs": []
  },
  {
   "cell_type": "code",
   "execution_count": null,
   "metadata": {},
   "source": [],
   "outputs": []
  },
  {
   "cell_type": "code",
   "execution_count": null,
   "metadata": {},
   "source": [],
   "outputs": []
  },
  {
   "cell_type": "code",
   "execution_count": null,
   "metadata": {},
   "source": [],
   "outputs": []
  },
  {
   "cell_type": "code",
   "execution_count": 97,
   "metadata": {},
   "source": [
    "name = 'Сулугуни \"ВкусВилл\", 45%, 0,28 кг, т/ф'\n",
    "item = [x for x in data if x['name'] == name][0]\n",
    "item['brand'] = 'ВкусВилл'\n",
    "item['form_factor'] = 'Сулугуни'\n",
    "item['is_lactose'] = True"
   ],
   "outputs": []
  },
  {
   "cell_type": "code",
   "execution_count": null,
   "metadata": {},
   "source": [],
   "outputs": []
  },
  {
   "cell_type": "code",
   "execution_count": null,
   "metadata": {},
   "source": [],
   "outputs": []
  },
  {
   "cell_type": "code",
   "execution_count": null,
   "metadata": {},
   "source": [],
   "outputs": []
  },
  {
   "cell_type": "code",
   "execution_count": 79,
   "metadata": {},
   "source": [
    "tmp[tmp['name'].str.contains(\"Кавказский\")]\n"
   ],
   "outputs": []
  },
  {
   "cell_type": "code",
   "execution_count": 98,
   "metadata": {},
   "source": [
    "[x for x in data if ('brand' in x.keys()) == False ]"
   ],
   "outputs": []
  },
  {
   "cell_type": "code",
   "execution_count": 100,
   "metadata": {},
   "source": [
    "data[0]"
   ],
   "outputs": []
  },
  {
   "cell_type": "code",
   "execution_count": 101,
   "metadata": {},
   "source": [
    "class Test:\n",
    "    def __init__(self, name='Test', value='Value'):\n",
    "        self.name = name\n",
    "        self.value = value"
   ],
   "outputs": []
  },
  {
   "cell_type": "code",
   "execution_count": 105,
   "metadata": {},
   "source": [
    "tmp = [Test('Test1', '1'), Test('Test2', '2'), Test('Test3', '3')]"
   ],
   "outputs": []
  },
  {
   "cell_type": "code",
   "execution_count": 106,
   "metadata": {},
   "source": [
    "tmp = [(x, 1) for x in tmp ]"
   ],
   "outputs": []
  },
  {
   "cell_type": "code",
   "execution_count": 104,
   "metadata": {},
   "source": [
    "for key, group in itertools.groupby(sorted_animals, key=lambda x:x['size']):"
   ],
   "outputs": []
  },
  {
   "cell_type": "code",
   "execution_count": 109,
   "metadata": {},
   "source": [
    "import itertools\n",
    "xx = itertools.groupby(tmp)"
   ],
   "outputs": []
  },
  {
   "cell_type": "code",
   "execution_count": 112,
   "metadata": {},
   "source": [
    "x"
   ],
   "outputs": []
  },
  {
   "cell_type": "code",
   "execution_count": 115,
   "metadata": {},
   "source": [
    "коды аквед (коды статистики)\n",
    "информационная тема \n",
    "спец налоговые режимы для it компаний (льготная ставка)"
   ],
   "outputs": []
  },
  {
   "cell_type": "code",
   "execution_count": null,
   "metadata": {},
   "source": [],
   "outputs": []
  }
 ],
 "metadata": {
  "kernelspec": {
   "display_name": "Python 3",
   "language": "python",
   "name": "python3"
  },
  "language_info": {
   "codemirror_mode": {
    "name": "ipython",
    "version": 3
   },
   "file_extension": ".py",
   "mimetype": "text/x-python",
   "name": "python",
   "nbconvert_exporter": "python",
   "pygments_lexer": "ipython3",
   "version": "3.6.9"
  }
 },
 "nbformat": 4,
 "nbformat_minor": 4
}

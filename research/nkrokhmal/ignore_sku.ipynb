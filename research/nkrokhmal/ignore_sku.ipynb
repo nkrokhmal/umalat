{
 "cells": [
  {
   "cell_type": "code",
   "execution_count": 19,
   "metadata": {},
   "outputs": [],
   "source": [
    "import json\n",
    "path = '/home/nkrokhmal/Desktop/umalat/app/data/static/ignore/ignore_sku.json'\n",
    "with open(path) as json_file:\n",
    "    data = json.load(json_file)"
   ]
  },
  {
   "cell_type": "code",
   "execution_count": 20,
   "metadata": {},
   "outputs": [
    {
     "data": {
      "text/plain": [
       "['Домашний \"Светлый дар\", 45%, 0,37 кг, в/у',\n",
       " 'Некондиционная продукция',\n",
       " 'п/ф Рикотта промышленная',\n",
       " 'П/ф Качокавалло 45%, кг',\n",
       " 'П/ф Качокавалло 45% большие головки',\n",
       " 'Моцарелла Фиор Ди Латте в воде \"ВкусВилл\", 50%, 0,125/0,225 кг, ф/п',\n",
       " 'Масло сладко-сливочное Традиционное, 82,5%, 2 кг, к/к',\n",
       " 'Адыгейский \"Умалат\" (БИЛЛА), 45%, кг, в/у',\n",
       " 'Адыгейский \"Умалат\", 0,37 кг, в/у (12 вл.)',\n",
       " 'Рикотта сицилийская \"Unagrande\", 55%, ВЕС, пл/с',\n",
       " 'Сыр Черкесский \"Умалат\", 45%, кг, т/ф, ВЕС',\n",
       " 'Сыр Черкесский \"Умалат\" (БИЛЛА), 45%, т/ф, ВЕС',\n",
       " 'Сыр Черкесский \"Умалат\" (ДИКСИ), 45%, т/ф, ВЕС',\n",
       " 'Рикотта сицилийская \"Unagrande\", 55%, ВЕС, пл/с']"
      ]
     },
     "execution_count": 20,
     "metadata": {},
     "output_type": "execute_result"
    }
   ],
   "source": [
    "data"
   ]
  },
  {
   "cell_type": "code",
   "execution_count": null,
   "metadata": {},
   "outputs": [],
   "source": []
  },
  {
   "cell_type": "code",
   "execution_count": 21,
   "metadata": {},
   "outputs": [],
   "source": [
    "data.append('Масло сливочное \"Умалат\", 72,5%  0,5 кг, к/к')"
   ]
  },
  {
   "cell_type": "code",
   "execution_count": 22,
   "metadata": {},
   "outputs": [],
   "source": [
    "with open(path, 'w', encoding='utf8') as json_file:\n",
    "    json.dump(data, json_file, ensure_ascii=False)"
   ]
  },
  {
   "cell_type": "code",
   "execution_count": null,
   "metadata": {},
   "outputs": [],
   "source": []
  }
 ],
 "metadata": {
  "kernelspec": {
   "display_name": "Python 3",
   "language": "python",
   "name": "python3"
  },
  "language_info": {
   "codemirror_mode": {
    "name": "ipython",
    "version": 3
   },
   "file_extension": ".py",
   "mimetype": "text/x-python",
   "name": "python",
   "nbconvert_exporter": "python",
   "pygments_lexer": "ipython3",
   "version": "3.6.9"
  }
 },
 "nbformat": 4,
 "nbformat_minor": 4
}

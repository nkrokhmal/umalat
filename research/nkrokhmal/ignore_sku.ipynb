{
 "cells": [
  {
   "cell_type": "code",
   "execution_count": 1,
   "metadata": {},
   "outputs": [],
   "source": [
    "import json\n",
    "path = '/home/nkrokhmal/Desktop/umalat/app/data/static/ignore/ignore_sku.json'\n",
    "with open(path) as json_file:\n",
    "    data = json.load(json_file)"
   ]
  },
  {
   "cell_type": "code",
   "execution_count": 2,
   "metadata": {},
   "outputs": [
    {
     "data": {
      "text/plain": [
       "['Кавказский \"Умалат\" (Перекресток), 45%, кг, в/у',\n",
       " 'Кавказский \"Умалат\" (Окей), 45%, кг, в/у',\n",
       " 'Кавказский \"Умалат\" (Тандер), 45%, кг , в/у',\n",
       " 'Кавказский \"Умалат\" (Метро), 45%, кг, в/у',\n",
       " 'Кавказский \"Умалат\", 45%, 0,37 кг, в/у',\n",
       " 'Кавказский \"Глобус\", 45%, кг, в/у',\n",
       " 'Кавказский \"Красная птица\", 45%, 0,37 кг, в/у',\n",
       " 'Кавказский \"Умалат\", 45%, кг, в/у',\n",
       " 'Сыр Черкесский \"Умалат\", 45%, 0,28 кг, т/ф',\n",
       " 'Сыр Черкесский \"Умалат\", 45%, кг, т/ф, ВЕС',\n",
       " 'Сыр Черкесский \"Умалат\" (БИЛЛА), 45%, т/ф, ВЕС',\n",
       " 'Сыр Черкесский \"Умалат\" (ДИКСИ), 45%, т/ф, ВЕС',\n",
       " 'Свели-Квели \"Умалат\", 30%, 0,37 кг, в/у',\n",
       " 'Четук \"Умалат\", 45%, 0,37 кг, в/у',\n",
       " 'Качорикотта \"Unagrande\", 45%, 0,37 кг, в/у',\n",
       " 'Робиола \"Unagrande\", 65%, 0,18 кг, пл/с',\n",
       " 'Масло сливочное \"Умалат\", 72,5%  0,5 кг, к/к',\n",
       " 'Масло сливочное \"Умалат\", 72,5%, 2 кг, к/к',\n",
       " 'Масло сладко-сливочное соленое Крестьянское \"Unagrande\", 72,5%, 0,5 кг, к/к',\n",
       " 'Масло сладко-сливочное Крестьянское \"Unagrande\", 72,5%, 0,5 кг, к/к',\n",
       " 'Масло сладко-сливочное без лактозы Крестьянское \"Unagrande\", 72,5%, 0,5 кг, к/к',\n",
       " 'Масло сладко-сливочное традиционное 84%, 2 кг, кор (3 вложения)',\n",
       " 'Масло сладко-сливочное Традиционное, 82,5%, 2 кг, к/к',\n",
       " 'Некондиционная продукция',\n",
       " 'п/ф Рикотта промышленная',\n",
       " 'Масло сливочное \"Умалат\", 72,5% 0,5 кг, к/к, кг',\n",
       " 'П/ф Качокавалло 45%, кг',\n",
       " 'П/ф Качокавалло 45% большие головки',\n",
       " 'Масло сливочное \"Умалат\", 72,5% 0,5 кг, к/к, кг',\n",
       " 'Масло сливочное \"Умалат\", 72,5%  0,5 кг, к/к, кг',\n",
       " 'Рикотта \"Pretto\" (зернистая), 30%, 0,37 кг, в/у',\n",
       " 'Рикотта сицилийская \"Unagrande\", 55%, 0,3 кг, пл/с',\n",
       " 'Сливки Panna Fresca \"Unagrande\", 38%, 0,25 кг, пл/с',\n",
       " 'Творожный \"Pretto\", 65%, 0,2 кг, пл/с',\n",
       " 'Рикотта шоколадно-ореховая \"Aventino\", 35%, 0,2 кг, п/с',\n",
       " 'Рикотта с шоколадом \"Unagrande\", 30%, 0,18 кг, пл/с',\n",
       " 'Рикотта с шоколадом \"Unagrande\", 30%, 0,14 кг, пл/с',\n",
       " 'Рикотта сицилийская \"Unagrande\", 55%, ВЕС, пл/с']"
      ]
     },
     "execution_count": 2,
     "metadata": {},
     "output_type": "execute_result"
    }
   ],
   "source": [
    "data"
   ]
  },
  {
   "cell_type": "code",
   "execution_count": null,
   "metadata": {},
   "outputs": [],
   "source": []
  },
  {
   "cell_type": "code",
   "execution_count": 6,
   "metadata": {},
   "outputs": [],
   "source": [
    "data.append('Домашний \"Светлый дар\", 45%, 0,37 кг, в/у')"
   ]
  },
  {
   "cell_type": "code",
   "execution_count": 7,
   "metadata": {},
   "outputs": [],
   "source": [
    "with open(path, 'w', encoding='utf8') as json_file:\n",
    "    json.dump(data, json_file, ensure_ascii=False)"
   ]
  },
  {
   "cell_type": "code",
   "execution_count": null,
   "metadata": {},
   "outputs": [],
   "source": []
  }
 ],
 "metadata": {
  "kernelspec": {
   "display_name": "Python 3",
   "language": "python",
   "name": "python3"
  },
  "language_info": {
   "codemirror_mode": {
    "name": "ipython",
    "version": 3
   },
   "file_extension": ".py",
   "mimetype": "text/x-python",
   "name": "python",
   "nbconvert_exporter": "python",
   "pygments_lexer": "ipython3",
   "version": "3.6.9"
  }
 },
 "nbformat": 4,
 "nbformat_minor": 4
}

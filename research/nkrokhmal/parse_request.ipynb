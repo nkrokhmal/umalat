{
 "cells": [
  {
   "cell_type": "code",
   "execution_count": 6,
   "metadata": {},
   "source": [
    "import pandas as pd\n",
    "from openpyxl import Workbook\n",
    "from datetime import datetime\n",
    "import openpyxl as opx\n",
    "from openpyxl.styles import Alignment\n",
    "from openpyxl.styles import PatternFill\n",
    "import json"
   ],
   "outputs": []
  },
  {
   "cell_type": "code",
   "execution_count": 7,
   "metadata": {},
   "source": [
    "import sys\n",
    "sys.path.append(r'/home/nkrokhmal/umalat')\n",
    "from app.models_new import *\n",
    "from app.models_new import Boiling as BoilingModel\n",
    "from app.models_new import Termizator as TermizatorModel\n",
    "from openpyxl.utils.cell import coordinate_from_string, column_index_from_string\n",
    "\n",
    "\n",
    "from sqlalchemy import create_engine\n",
    "from sqlalchemy.orm import sessionmaker\n",
    "\n",
    "# sqlite_filepath = '/home/akadaner/Desktop/data.sqlite'\n",
    "sqlite_filepath = r\"/home/nkrokhmal/Desktop/umalat/data.sqlite\"\n",
    "engine = create_engine(f\"sqlite:///{sqlite_filepath}\")\n",
    "Session = sessionmaker()\n",
    "Session.configure(bind=engine)\n",
    "session = Session()\n",
    "\n",
    "def cast_sku(obj):\n",
    "    if isinstance(obj, SKU):\n",
    "        return obj\n",
    "    elif isinstance(obj, (str, int)):\n",
    "        obj = str(obj)\n",
    "        return session.query(SKU).filter(SKU.id == obj).first()\n",
    "    else:\n",
    "        raise Exception('Unknown sku type')\n",
    "        \n",
    "def cast_boiling(obj):\n",
    "    if isinstance(obj, Boiling):\n",
    "        return obj\n",
    "    elif isinstance(obj, (str, int)):\n",
    "        obj = str(obj)\n",
    "        return session.query(Boiling).filter(Boiling.id == obj).first()\n",
    "    else:\n",
    "        raise Exception('Unknown boiling type')"
   ],
   "outputs": []
  },
  {
   "cell_type": "code",
   "execution_count": 4,
   "metadata": {},
   "source": [
    "skus = session.query(SKU).all()"
   ],
   "outputs": []
  },
  {
   "cell_type": "code",
   "execution_count": 13,
   "metadata": {},
   "source": [
    "df = pd.read_excel(r'request_new.xlsx', index_col=0)\n",
    "df.columns = range(df.shape[1])"
   ],
   "outputs": []
  },
  {
   "cell_type": "code",
   "execution_count": 14,
   "metadata": {},
   "source": [
    "indeces = df.loc['Дата выработки продукции:'].dropna().index\n",
    "df = df[indeces]"
   ],
   "outputs": []
  },
  {
   "cell_type": "code",
   "execution_count": 15,
   "metadata": {},
   "source": [
    "df"
   ],
   "outputs": []
  },
  {
   "cell_type": "code",
   "execution_count": 16,
   "metadata": {},
   "source": [
    "tmp = df.loc[['Дата выработки продукции:', 'Заявлено всего, кг:', 'Фактические остатки на складах - Заявлено, кг:', 'Нормативные остатки, кг']].fillna(0)"
   ],
   "outputs": []
  },
  {
   "cell_type": "code",
   "execution_count": 17,
   "metadata": {},
   "source": [
    "tmp"
   ],
   "outputs": []
  },
  {
   "cell_type": "code",
   "execution_count": 18,
   "metadata": {},
   "source": [
    "tmp.iloc[:, :-1]\n"
   ],
   "outputs": []
  },
  {
   "cell_type": "code",
   "execution_count": 19,
   "metadata": {},
   "source": [
    "tmp = df.dropna(thresh=limit-2)\n",
    "tmp.dropna(how='all', axis='columns')"
   ],
   "outputs": []
  },
  {
   "cell_type": "code",
   "execution_count": 20,
   "metadata": {},
   "source": [
    "sku_list = tmp.iloc[0].dropna()"
   ],
   "outputs": []
  },
  {
   "cell_type": "code",
   "execution_count": 21,
   "metadata": {},
   "source": [
    "sku_name = [x for x in list(sku_list) if 'Контрагент' not in x and 'Итог' not in x]"
   ],
   "outputs": []
  },
  {
   "cell_type": "code",
   "execution_count": 35,
   "metadata": {},
   "source": [
    "sku_name = list(sku_list[1:-1])"
   ],
   "outputs": []
  },
  {
   "cell_type": "code",
   "execution_count": 37,
   "metadata": {},
   "source": [
    "sku_volumes = list(tmp.iloc[-1].dropna()[1:-1])"
   ],
   "outputs": []
  },
  {
   "cell_type": "code",
   "execution_count": 39,
   "metadata": {},
   "source": [
    "list(zip(sku_name, sku_volumes))"
   ],
   "outputs": []
  },
  {
   "cell_type": "code",
   "execution_count": 32,
   "metadata": {},
   "source": [
    "list(zip(*tmp.values.tolist()))"
   ],
   "outputs": []
  },
  {
   "cell_type": "code",
   "execution_count": 23,
   "metadata": {},
   "source": [
    "sku_name"
   ],
   "outputs": []
  },
  {
   "cell_type": "code",
   "execution_count": 31,
   "metadata": {},
   "source": [
    "sku_db_names = [x.name for x in skus]"
   ],
   "outputs": []
  },
  {
   "cell_type": "code",
   "execution_count": 32,
   "metadata": {},
   "source": [
    "extra_names = [x for x in sku_name if x not in sku_db_names]"
   ],
   "outputs": []
  },
  {
   "cell_type": "code",
   "execution_count": 35,
   "metadata": {},
   "source": [
    "extra_names[:-1]"
   ],
   "outputs": []
  },
  {
   "cell_type": "code",
   "execution_count": 43,
   "metadata": {},
   "source": [
    "data = ['Кавказский \"Умалат\" (Перекресток), 45%, кг, в/у',\n",
    " 'Кавказский \"Умалат\" (Окей), 45%, кг, в/у',\n",
    " 'Кавказский \"Умалат\" (Тандер), 45%, кг , в/у',\n",
    " 'Кавказский \"Умалат\" (Метро), 45%, кг, в/у',\n",
    " 'Кавказский \"Умалат\", 45%, 0,37 кг, в/у',\n",
    " 'Кавказский \"Глобус\", 45%, кг, в/у',\n",
    " 'Кавказский \"Красная птица\", 45%, 0,37 кг, в/у',\n",
    " 'Кавказский \"Умалат\", 45%, кг, в/у',\n",
    " 'Сыр Черкесский \"Умалат\", 45%, 0,28 кг, т/ф',\n",
    " 'Сыр Черкесский \"Умалат\", 45%, кг, т/ф, ВЕС',\n",
    " 'Сыр Черкесский \"Умалат\" (БИЛЛА), 45%, т/ф, ВЕС',\n",
    " 'Сыр Черкесский \"Умалат\" (ДИКСИ), 45%, т/ф, ВЕС',\n",
    " 'Свели-Квели \"Умалат\", 30%, 0,37 кг, в/у',\n",
    " 'Четук \"Умалат\", 45%, 0,37 кг, в/у',\n",
    " 'Качорикотта \"Unagrande\", 45%, 0,37 кг, в/у',\n",
    " 'Рикотта \"Pretto\" (зернистая), 30%, 0,37 кг, в/у',\n",
    " 'Рикотта \"Unagrande\", 50%, 0,25 кг, пл/с',\n",
    " 'Рикотта \"Unagrande\", 50%, 0,5 кг, пл/с',\n",
    " 'Рикотта \"Aventino\", 45%, 0,2 кг, п/с',\n",
    " 'Рикотта \"Unagrande Professionale\", 45%, 0,5 кг, пл/с',\n",
    " 'Рикотта с шоколадом \"Unagrande\", 30%, 0,18 кг, пл/с',\n",
    " 'Рикотта с шоколадом \"Unagrande\", 30%, 0,14 кг, пл/с',\n",
    " 'Рикотта сицилийская \"Unagrande\", 55%, 0,3 кг, пл/с',\n",
    " 'Рикотта сицилийская \"Unagrande\", 55%, ВЕС, пл/с',\n",
    " 'Рикотта с шоколадом \"ВкусВилл\", 30%, 0,14 кг, пл/с',\n",
    " 'Рикотта \"Pretto\", 45%, 0,5 кг, пл/с',\n",
    " 'Рикотта \"Pretto\", 45%, 0,2 кг, пл/с',\n",
    " 'Рикотта \"Фермерская коллекция\", 45%, 0,2 кг, пл/с',\n",
    " 'Рикотта \"ВкусВилл\", 45%, 0,18 кг, пл/с (6 шт)',\n",
    " 'Рикотта \"Красная птица\", 30%,  0,25 кг, пл/с (6 шт)',\n",
    " 'Рикотта с ванилью \"Красная птица\", 30%, 0,2 кг, пл/с',\n",
    " 'Рикотта шоколадно-ореховая \"Красная птица\", 35%, 0,2 кг, пл/с',\n",
    " 'Рикотта \"SPAR\", 30%, 0,2 кг, пл/с (6 шт)',\n",
    " 'Рикотта с ванилью \"Бонджорно\", 30%, 0,2 кг, пл/с',\n",
    " 'Рикотта с шоколадом \"Бонджорно\", 30%, 0,2 кг, пл/с',\n",
    " 'Рикотта шоколадно-ореховая \"Бонджорно\", 35%, 0,2 кг, пл/с',\n",
    " 'Рикотта \"Глобус\", 45%, 0,25 кг, пл/с',\n",
    " 'Сливки Panna Fresca \"Unagrande\", 38%, 0,5 л, пл/с',\n",
    " 'Сливки \"Красная птица\", 38%, 0,25 л, пл/с',\n",
    " 'Кремчиз \"Unagrande\", 70%, 0,5 кг, пл/с',\n",
    " 'Кремчиз \"Красная птица\", 75%, 0,2 кг, пл/с',\n",
    " 'Кремчиз \"Pretto\", 75%, 0,2 кг, пл/с',\n",
    " 'Кремчиз \"ВкусВилл\", 70%, 0,18 кг, пл/с (6шт)',\n",
    " 'Кремчиз \"Фермерская коллекция\", 75%, 0,2 кг, пл/с',\n",
    " 'Кремчиз \"Unagrande\", 70%, 0,18 кг, пл/с',\n",
    " 'Творожный \"Фермерская коллекция\", 65%,0,18 кг,пл/с',\n",
    " 'Творожный \"Pretto\", 65%, 0,18 кг, пл/с',\n",
    " 'Робиола \"Unagrande\", 65%, 0,18 кг, пл/с',\n",
    " 'Маскарпоне \"Unagrande\", 80%, 0,25 кг, пл/с',\n",
    " 'Маскарпоне \"Pretto\", 80%, 0,25 кг, пл/с',\n",
    " 'Маскарпоне \"Pretto\", 80%, 0,5 кг, пл/с',\n",
    " 'Маскарпоне \"Красная птица\", 80%,  0,25 кг, пл/с, (6 шт)',\n",
    " 'Маскарпоне с шоколадом \"Красная птица\", 50%, 0,2 кг, пл/с',\n",
    " 'Маскарпоне \"ВкусВилл\", 80%, 0,25 кг, пл/с (6 шт)',\n",
    " 'Маскарпоне \"Глобус\", 80%, 0,25 кг, пл/с',\n",
    " 'Маскарпоне \"Unаgrande\", 80%, 0,5 кг, пл/с',\n",
    " 'Маскарпоне с шоколадом \"Бонджорно\", 50%, 0,2 кг, пл/с',\n",
    " 'Маскарпоне с шоколадом \"Unagrande\", 50%, 0,18 кг, пл/с',\n",
    " 'Масло сливочное \"Умалат\", 72,5%  0,5 кг, к/к',\n",
    " 'Масло сливочное \"Умалат\", 72,5%, 2 кг, к/к',\n",
    " 'Масло сладко-сливочное соленое Крестьянское \"Unagrande\", 72,5%, 0,5 кг, к/к',\n",
    " 'Масло сладко-сливочное Крестьянское \"Unagrande\", 72,5%, 0,5 кг, к/к',\n",
    " 'Масло сладко-сливочное без лактозы Крестьянское \"Unagrande\", 72,5%, 0,5 кг, к/к',\n",
    " 'Масло сладко-сливочное традиционное 84%, 2 кг, кор (3 вложения)',\n",
    " 'Масло сладко-сливочное Традиционное, 82,5%, 2 кг, к/к',\n",
    " 'Некондиционная продукция',\n",
    " 'п/ф Рикотта промышленная']"
   ],
   "outputs": []
  },
  {
   "cell_type": "code",
   "execution_count": 44,
   "metadata": {},
   "source": [
    "with open('data.json', 'w') as jsonfile:\n",
    "    json.dump(data, jsonfile, ensure_ascii=False)"
   ],
   "outputs": []
  },
  {
   "cell_type": "code",
   "execution_count": 48,
   "metadata": {},
   "source": [
    "with open('ignore_sku.json') as json_file:\n",
    "    data = json.load(json_file)"
   ],
   "outputs": []
  },
  {
   "cell_type": "code",
   "execution_count": 4,
   "metadata": {},
   "source": [
    "skus"
   ],
   "outputs": []
  },
  {
   "cell_type": "code",
   "execution_count": 38,
   "metadata": {},
   "source": [
    "def f(sku):\n",
    "    return {\n",
    "        'Название SKU': sku.name,\n",
    "        'Процент': sku.boilings[0].percent,\n",
    "        'Наличие лактозы': 'Да' if sku.boilings[0].is_lactose else 'Нет',\n",
    "        'Тип закваски': sku.boilings[0].ferment,\n",
    "        'Название форм фактора': sku.form_factor.name,\n",
    "        'Линия': 'Соль' if sku.boilings[0].boiling_type == 'salt' else 'Вода',\n",
    "        'Имя бренда': sku.brand_name,\n",
    "        'Вес нетто': sku.weight_netto,\n",
    "        'Вес форм фактора': sku.boiling_form_factors[0].weight,\n",
    "        'Выход': sku.output_kg,\n",
    "        'Срок хранения': sku.shelf_life,\n",
    "        'Является ли SKU теркой': 'Да' if sku.is_rubber else 'Нет',\n",
    "        'Упаковщик': sku.packer.name,\n",
    "        'Тип упаковки': sku.pack_types.name if sku.pack_types else None,\n",
    "        'Скорость упаковки': sku.packing_speed,\n",
    "        'Охлаждение 1(для воды)': sku.boiling_form_factors[0].first_cooling_time,\n",
    "        'Охлаждение 2(для воды)': sku.boiling_form_factors[0].second_cooling_time,\n",
    "        'Время посолки': sku.boiling_form_factors[0].salting_time,\n",
    "        'Время налива': sku.boilings[0].pourings.pouring_time,\n",
    "        'Время отвердевания': sku.boilings[0].pourings.soldification_time,\n",
    "        'Время нарезки': sku.boilings[0].pourings.cutting_time,\n",
    "        'Время слива': sku.boilings[0].pourings.pouring_off_time,\n",
    "        'Дополнительное время': sku.boilings[0].pourings.extra_time        \n",
    "}"
   ],
   "outputs": []
  },
  {
   "cell_type": "code",
   "execution_count": 39,
   "metadata": {},
   "source": [
    "df = pd.DataFrame([f(sku) for sku in skus])"
   ],
   "outputs": []
  },
  {
   "cell_type": "code",
   "execution_count": 40,
   "metadata": {},
   "source": [
    "df.to_excel(\"Все параметры.xlsx\")"
   ],
   "outputs": []
  },
  {
   "cell_type": "code",
   "execution_count": 43,
   "metadata": {},
   "source": [
    "tmp = pd.read_excel('params.xlsx', index_col=0)"
   ],
   "outputs": []
  },
  {
   "cell_type": "code",
   "execution_count": 44,
   "metadata": {},
   "source": [
    "tmp"
   ],
   "outputs": []
  },
  {
   "cell_type": "code",
   "execution_count": 47,
   "metadata": {},
   "source": [
    "boiling_technologies_columns = ['Время налива', 'Время отвердевания', 'Время нарезки', 'Время слива', 'Дополнительное время']\n",
    "btt_data = tmp[boiling_technologies_columns]\n",
    "# btt_data.drop_duplicates(keep=False)"
   ],
   "outputs": []
  },
  {
   "cell_type": "code",
   "execution_count": 49,
   "metadata": {},
   "source": [
    "btt_data.drop_duplicates()"
   ],
   "outputs": []
  },
  {
   "cell_type": "code",
   "execution_count": 50,
   "metadata": {},
   "source": [
    " ['Тип закваски', 'Процент', 'Наличие лактозы', 'Линия'] + boiling_technologies_columns"
   ],
   "outputs": []
  },
  {
   "cell_type": "code",
   "execution_count": null,
   "metadata": {},
   "source": [],
   "outputs": []
  }
 ],
 "metadata": {
  "kernelspec": {
   "display_name": "Python 3",
   "language": "python",
   "name": "python3"
  },
  "language_info": {
   "codemirror_mode": {
    "name": "ipython",
    "version": 3
   },
   "file_extension": ".py",
   "mimetype": "text/x-python",
   "name": "python",
   "nbconvert_exporter": "python",
   "pygments_lexer": "ipython3",
   "version": "3.6.9"
  }
 },
 "nbformat": 4,
 "nbformat_minor": 4
}

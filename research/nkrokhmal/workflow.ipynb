{
 "cells": [
  {
   "cell_type": "code",
   "execution_count": 2,
   "metadata": {},
   "outputs": [],
   "source": [
    "import sys\n",
    "sys.path.append(r'/home/nkrokhmal/Desktop/MyProjects/SergeyProject/umalat-project/prod')\n",
    "from app.models_new import *\n",
    "from app.models_new import Boiling as BoilingModel\n",
    "from app.models_new import Termizator as TermizatorModel\n",
    "from openpyxl.utils.cell import coordinate_from_string, column_index_from_string\n",
    "\n",
    "\n",
    "from sqlalchemy import create_engine\n",
    "from sqlalchemy.orm import sessionmaker\n",
    "\n",
    "# sqlite_filepath = '/home/akadaner/Desktop/data.sqlite'\n",
    "sqlite_filepath = r\"/home/nkrokhmal/Desktop/umalat/data.sqlite\"\n",
    "engine = create_engine(f\"sqlite:///{sqlite_filepath}\")\n",
    "Session = sessionmaker()\n",
    "Session.configure(bind=engine)\n",
    "session = Session()\n",
    "\n",
    "def cast_sku(obj):\n",
    "    if isinstance(obj, SKU):\n",
    "        return obj\n",
    "    elif isinstance(obj, (str, int)):\n",
    "        obj = str(obj)\n",
    "        return session.query(SKU).filter(SKU.id == obj).first()\n",
    "    else:\n",
    "        raise Exception('Unknown sku type')\n",
    "        \n",
    "def cast_boiling(obj):\n",
    "    if isinstance(obj, Boiling):\n",
    "        return obj\n",
    "    elif isinstance(obj, (str, int)):\n",
    "        obj = str(obj)\n",
    "        return session.query(Boiling).filter(Boiling.id == obj).first()\n",
    "    else:\n",
    "        raise Exception('Unknown boiling type')"
   ]
  },
  {
   "cell_type": "code",
   "execution_count": 4,
   "metadata": {},
   "outputs": [],
   "source": [
    "skus = session.query(SKU).all()"
   ]
  },
  {
   "cell_type": "code",
   "execution_count": 7,
   "metadata": {},
   "outputs": [],
   "source": [
    "group_items = [{'BoilingId': x.made_from_boilings[0].id} for x in skus.copy()]\n",
    "# group_items = [dict(x) for x in set(frozenset(d.items()) for d in group_items)]"
   ]
  },
  {
   "cell_type": "code",
   "execution_count": 8,
   "metadata": {},
   "outputs": [
    {
     "data": {
      "text/plain": [
       "[{'BoilingId': 1},\n",
       " {'BoilingId': 1},\n",
       " {'BoilingId': 2},\n",
       " {'BoilingId': 2},\n",
       " {'BoilingId': 2},\n",
       " {'BoilingId': 3},\n",
       " {'BoilingId': 4},\n",
       " {'BoilingId': 5},\n",
       " {'BoilingId': 5},\n",
       " {'BoilingId': 4},\n",
       " {'BoilingId': 5},\n",
       " {'BoilingId': 6},\n",
       " {'BoilingId': 1},\n",
       " {'BoilingId': 2},\n",
       " {'BoilingId': 1},\n",
       " {'BoilingId': 1},\n",
       " {'BoilingId': 2},\n",
       " {'BoilingId': 2},\n",
       " {'BoilingId': 2},\n",
       " {'BoilingId': 2},\n",
       " {'BoilingId': 7},\n",
       " {'BoilingId': 4},\n",
       " {'BoilingId': 4},\n",
       " {'BoilingId': 4},\n",
       " {'BoilingId': 6},\n",
       " {'BoilingId': 4},\n",
       " {'BoilingId': 4},\n",
       " {'BoilingId': 4},\n",
       " {'BoilingId': 4},\n",
       " {'BoilingId': 6},\n",
       " {'BoilingId': 4},\n",
       " {'BoilingId': 4},\n",
       " {'BoilingId': 1},\n",
       " {'BoilingId': 2},\n",
       " {'BoilingId': 2},\n",
       " {'BoilingId': 1},\n",
       " {'BoilingId': 2},\n",
       " {'BoilingId': 2},\n",
       " {'BoilingId': 2},\n",
       " {'BoilingId': 2},\n",
       " {'BoilingId': 2},\n",
       " {'BoilingId': 4},\n",
       " {'BoilingId': 4},\n",
       " {'BoilingId': 2},\n",
       " {'BoilingId': 1},\n",
       " {'BoilingId': 1},\n",
       " {'BoilingId': 1},\n",
       " {'BoilingId': 1},\n",
       " {'BoilingId': 8},\n",
       " {'BoilingId': 5},\n",
       " {'BoilingId': 4},\n",
       " {'BoilingId': 5},\n",
       " {'BoilingId': 4},\n",
       " {'BoilingId': 5},\n",
       " {'BoilingId': 2},\n",
       " {'BoilingId': 8},\n",
       " {'BoilingId': 8},\n",
       " {'BoilingId': 8},\n",
       " {'BoilingId': 2},\n",
       " {'BoilingId': 8},\n",
       " {'BoilingId': 2}]"
      ]
     },
     "execution_count": 8,
     "metadata": {},
     "output_type": "execute_result"
    }
   ],
   "source": [
    "group_items"
   ]
  },
  {
   "cell_type": "code",
   "execution_count": 11,
   "metadata": {},
   "outputs": [],
   "source": [
    "from collections import namedtuple\n",
    "Request = namedtuple('Request', 'skus, boiling_id, count, volume, is_lactose')"
   ]
  },
  {
   "cell_type": "code",
   "execution_count": 19,
   "metadata": {},
   "outputs": [],
   "source": [
    "result = []\n",
    "r1 = Request(1,1,1,1,1)\n",
    "r2 = Request(2,2,1,1,1)\n",
    "r3 = Request(0,2,1,1,1)\n",
    "result.append(r1)\n",
    "result.append(r2)\n",
    "result.append(r3)"
   ]
  },
  {
   "cell_type": "code",
   "execution_count": 20,
   "metadata": {},
   "outputs": [
    {
     "data": {
      "text/plain": [
       "[Request(skus=0, boiling_id=2, count=1, volume=1, is_lactose=1),\n",
       " Request(skus=1, boiling_id=1, count=1, volume=1, is_lactose=1),\n",
       " Request(skus=2, boiling_id=2, count=1, volume=1, is_lactose=1)]"
      ]
     },
     "execution_count": 20,
     "metadata": {},
     "output_type": "execute_result"
    }
   ],
   "source": [
    "sorted(result, key=lambda x: x.skus)"
   ]
  },
  {
   "cell_type": "code",
   "execution_count": 21,
   "metadata": {},
   "outputs": [],
   "source": [
    "import openpyxl"
   ]
  },
  {
   "cell_type": "code",
   "execution_count": 22,
   "metadata": {},
   "outputs": [],
   "source": [
    "wb = openpyxl.load_workbook(filename='30.09.20.xlsx')\n"
   ]
  },
  {
   "cell_type": "code",
   "execution_count": 24,
   "metadata": {},
   "outputs": [],
   "source": [
    "ws = wb['файл остатки']"
   ]
  },
  {
   "cell_type": "code",
   "execution_count": 26,
   "metadata": {},
   "outputs": [
    {
     "data": {
      "text/plain": [
       "'visible'"
      ]
     },
     "execution_count": 26,
     "metadata": {},
     "output_type": "execute_result"
    }
   ],
   "source": [
    "ws.sheet_state"
   ]
  },
  {
   "cell_type": "code",
   "execution_count": 32,
   "metadata": {},
   "outputs": [],
   "source": [
    "x = [[1,2,3], [2,3,4], [1,3,5]]"
   ]
  },
  {
   "cell_type": "code",
   "execution_count": 33,
   "metadata": {},
   "outputs": [],
   "source": [
    "df = pd.DataFrame(x, columns=['id', 'x', 'y'])"
   ]
  },
  {
   "cell_type": "code",
   "execution_count": 46,
   "metadata": {},
   "outputs": [
    {
     "name": "stdout",
     "output_type": "stream",
     "text": [
      "1\n",
      "\n",
      "[(2, 1), (3, 2)]\n",
      "[(3, 1), (5, 2)]\n",
      "2\n",
      "\n",
      "[(3, 1), (4, 2)]\n"
     ]
    }
   ],
   "source": [
    "for id, grp in df.groupby('id', sort=False):\n",
    "    print(id)\n",
    "    print()\n",
    "    for i, row in grp.iterrows():\n",
    "#         print(i, row)\n",
    "        columns = [x for x in row.index if x in d.keys()]\n",
    "        tmp = [(row[col], d[col]) for col in columns]\n",
    "        print(tmp)"
   ]
  },
  {
   "cell_type": "code",
   "execution_count": 41,
   "metadata": {},
   "outputs": [
    {
     "data": {
      "text/plain": [
       "dict_keys(['x', 'y'])"
      ]
     },
     "execution_count": 41,
     "metadata": {},
     "output_type": "execute_result"
    }
   ],
   "source": [
    "d = {'x': 1, 'y': 2}\n",
    "d.keys()"
   ]
  },
  {
   "cell_type": "code",
   "execution_count": null,
   "metadata": {},
   "outputs": [],
   "source": []
  }
 ],
 "metadata": {
  "kernelspec": {
   "display_name": "Python 3",
   "language": "python",
   "name": "python3"
  },
  "language_info": {
   "codemirror_mode": {
    "name": "ipython",
    "version": 3
   },
   "file_extension": ".py",
   "mimetype": "text/x-python",
   "name": "python",
   "nbconvert_exporter": "python",
   "pygments_lexer": "ipython3",
   "version": "3.6.9"
  }
 },
 "nbformat": 4,
 "nbformat_minor": 4
}

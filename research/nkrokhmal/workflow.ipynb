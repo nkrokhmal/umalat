{
 "cells": [
  {
   "cell_type": "code",
   "execution_count": 54,
   "metadata": {},
   "source": [
    "import sys\n",
    "sys.path.append(r'/home/nkrokhmal/umalat')\n",
    "from app.models_new import *\n",
    "from sqlalchemy import func, extract\n",
    "\n",
    "from app.models_new import Boiling as BoilingModel\n",
    "from app.models_new import Termizator as TermizatorModel\n",
    "from openpyxl.utils.cell import coordinate_from_string, column_index_from_string\n",
    "\n",
    "\n",
    "from sqlalchemy import create_engine\n",
    "from sqlalchemy.orm import sessionmaker\n",
    "\n",
    "# sqlite_filepath = '/home/akadaner/Desktop/data.sqlite'\n",
    "sqlite_filepath = r\"/home/nkrokhmal/Desktop/umalat/data.sqlite\"\n",
    "engine = create_engine(f\"sqlite:///{sqlite_filepath}\")\n",
    "Session = sessionmaker()\n",
    "Session.configure(bind=engine)\n",
    "session = Session()\n",
    "\n",
    "def cast_sku(obj):\n",
    "    if isinstance(obj, SKU):\n",
    "        return obj\n",
    "    elif isinstance(obj, (str, int)):\n",
    "        obj = str(obj)\n",
    "        return session.query(SKU).filter(SKU.id == obj).first()\n",
    "    else:\n",
    "        raise Exception('Unknown sku type')\n",
    "        \n",
    "def cast_boiling(obj):\n",
    "    if isinstance(obj, Boiling):\n",
    "        return obj\n",
    "    elif isinstance(obj, (str, int)):\n",
    "        obj = str(obj)\n",
    "        return session.query(Boiling).filter(Boiling.id == obj).first()\n",
    "    else:\n",
    "        raise Exception('Unknown boiling type')"
   ],
   "outputs": []
  },
  {
   "cell_type": "code",
   "execution_count": 55,
   "metadata": {},
   "source": [
    "skus = session.query(SKU).all()"
   ],
   "outputs": []
  },
  {
   "cell_type": "code",
   "execution_count": 56,
   "metadata": {},
   "source": [
    "b = BatchNumber(datetime=datetime.datetime.now().date(), beg_number=1, end_number=10)\n",
    "session.add(b)\n",
    "session.commit()"
   ],
   "outputs": []
  },
  {
   "cell_type": "code",
   "execution_count": 38,
   "metadata": {},
   "source": [],
   "outputs": []
  },
  {
   "cell_type": "code",
   "execution_count": 60,
   "metadata": {},
   "source": [
    "batches = session.query(BatchNumber).all()\n",
    "batches"
   ],
   "outputs": []
  },
  {
   "cell_type": "code",
   "execution_count": 63,
   "metadata": {},
   "source": [
    "date = datetime.datetime.now()\n",
    "result = session.query(BatchNumber)\\\n",
    "            .filter(func.DATE(BatchNumber.datetime) < date.date())\\\n",
    "            .filter(extract('month', BatchNumber.datetime) == date.month)\\\n",
    "            .filter(extract('year', BatchNumber.datetime) == date.year)\\\n",
    "            .order_by(BatchNumber.datetime.desc())\\\n",
    "            .first()"
   ],
   "outputs": []
  },
  {
   "cell_type": "code",
   "execution_count": 64,
   "metadata": {},
   "source": [
    "result is None"
   ],
   "outputs": []
  },
  {
   "cell_type": "code",
   "execution_count": 49,
   "metadata": {},
   "source": [
    "cur_date = datetime.datetime.now().date()\n",
    "last_batch = session.query(BatchNumber)\\\n",
    "            .filter(func.DATE(BatchNumber.datetime).month == cur_date.month).all()"
   ],
   "outputs": []
  },
  {
   "cell_type": "code",
   "execution_count": 48,
   "metadata": {},
   "source": [
    "last_batch"
   ],
   "outputs": []
  },
  {
   "cell_type": "code",
   "execution_count": null,
   "metadata": {},
   "source": [],
   "outputs": []
  },
  {
   "cell_type": "code",
   "execution_count": 7,
   "metadata": {},
   "source": [
    "group_items = [{'BoilingId': x.made_from_boilings[0].id} for x in skus.copy()]\n",
    "# group_items = [dict(x) for x in set(frozenset(d.items()) for d in group_items)]"
   ],
   "outputs": []
  },
  {
   "cell_type": "code",
   "execution_count": 8,
   "metadata": {},
   "source": [
    "group_items"
   ],
   "outputs": []
  },
  {
   "cell_type": "code",
   "execution_count": 66,
   "metadata": {},
   "source": [
    "import pandas as pd\n",
    "df = pd.DataFrame([[1,2], [3,4], [2,6]], columns=['x', 'y'])\n",
    "df['x'].max()"
   ],
   "outputs": []
  },
  {
   "cell_type": "code",
   "execution_count": 11,
   "metadata": {},
   "source": [
    "from collections import namedtuple\n",
    "Request = namedtuple('Request', 'skus, boiling_id, count, volume, is_lactose')"
   ],
   "outputs": []
  },
  {
   "cell_type": "code",
   "execution_count": 19,
   "metadata": {},
   "source": [
    "result = []\n",
    "r1 = Request(1,1,1,1,1)\n",
    "r2 = Request(2,2,1,1,1)\n",
    "r3 = Request(0,2,1,1,1)\n",
    "result.append(r1)\n",
    "result.append(r2)\n",
    "result.append(r3)"
   ],
   "outputs": []
  },
  {
   "cell_type": "code",
   "execution_count": 20,
   "metadata": {},
   "source": [
    "sorted(result, key=lambda x: x.skus)"
   ],
   "outputs": []
  },
  {
   "cell_type": "code",
   "execution_count": 21,
   "metadata": {},
   "source": [
    "import openpyxl"
   ],
   "outputs": []
  },
  {
   "cell_type": "code",
   "execution_count": 22,
   "metadata": {},
   "source": [
    "wb = openpyxl.load_workbook(filename='30.09.20.xlsx')\n"
   ],
   "outputs": []
  },
  {
   "cell_type": "code",
   "execution_count": 24,
   "metadata": {},
   "source": [
    "ws = wb['файл остатки']"
   ],
   "outputs": []
  },
  {
   "cell_type": "code",
   "execution_count": 26,
   "metadata": {},
   "source": [
    "ws.sheet_state"
   ],
   "outputs": []
  },
  {
   "cell_type": "code",
   "execution_count": 47,
   "metadata": {},
   "source": [
    "x = [[1,2,3], [2,3,4], [1,3,5]]"
   ],
   "outputs": []
  },
  {
   "cell_type": "code",
   "execution_count": 48,
   "metadata": {},
   "source": [
    "df = pd.DataFrame(x, columns=['id', 'x', 'y'])"
   ],
   "outputs": []
  },
  {
   "cell_type": "code",
   "execution_count": 59,
   "metadata": {},
   "source": [
    "for id, grp in df.groupby('id', sort=False):\n",
    "    for i, row in grp.iterrows():\n",
    "        print(row['x'])\n",
    "#         print(i, row)\n",
    "#         columns = [x for x in row.index if x in d.keys()]\n",
    "#         tmp = [(row[col], d[col]) for col in columns]\n"
   ],
   "outputs": []
  },
  {
   "cell_type": "code",
   "execution_count": 41,
   "metadata": {},
   "source": [
    "d = {'x': 1, 'y': 2}\n",
    "d.keys()"
   ],
   "outputs": []
  },
  {
   "cell_type": "code",
   "execution_count": null,
   "metadata": {},
   "source": [],
   "outputs": []
  }
 ],
 "metadata": {
  "kernelspec": {
   "display_name": "Python 3",
   "language": "python",
   "name": "python3"
  },
  "language_info": {
   "codemirror_mode": {
    "name": "ipython",
    "version": 3
   },
   "file_extension": ".py",
   "mimetype": "text/x-python",
   "name": "python",
   "nbconvert_exporter": "python",
   "pygments_lexer": "ipython3",
   "version": "3.6.9"
  }
 },
 "nbformat": 4,
 "nbformat_minor": 4
}

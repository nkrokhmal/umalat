{
 "cells": [
  {
   "cell_type": "code",
   "execution_count": 54,
   "metadata": {},
   "outputs": [],
   "source": [
    "import sys\n",
    "sys.path.append(r'/home/nkrokhmal/umalat')\n",
    "from app.models_new import *\n",
    "from sqlalchemy import func, extract\n",
    "\n",
    "from app.models_new import Boiling as BoilingModel\n",
    "from app.models_new import Termizator as TermizatorModel\n",
    "from openpyxl.utils.cell import coordinate_from_string, column_index_from_string\n",
    "\n",
    "\n",
    "from sqlalchemy import create_engine\n",
    "from sqlalchemy.orm import sessionmaker\n",
    "\n",
    "# sqlite_filepath = '/home/akadaner/Desktop/data.sqlite'\n",
    "sqlite_filepath = r\"/home/nkrokhmal/Desktop/umalat/data.sqlite\"\n",
    "engine = create_engine(f\"sqlite:///{sqlite_filepath}\")\n",
    "Session = sessionmaker()\n",
    "Session.configure(bind=engine)\n",
    "session = Session()\n",
    "\n",
    "def cast_sku(obj):\n",
    "    if isinstance(obj, SKU):\n",
    "        return obj\n",
    "    elif isinstance(obj, (str, int)):\n",
    "        obj = str(obj)\n",
    "        return session.query(SKU).filter(SKU.id == obj).first()\n",
    "    else:\n",
    "        raise Exception('Unknown sku type')\n",
    "        \n",
    "def cast_boiling(obj):\n",
    "    if isinstance(obj, Boiling):\n",
    "        return obj\n",
    "    elif isinstance(obj, (str, int)):\n",
    "        obj = str(obj)\n",
    "        return session.query(Boiling).filter(Boiling.id == obj).first()\n",
    "    else:\n",
    "        raise Exception('Unknown boiling type')"
   ]
  },
  {
   "cell_type": "code",
   "execution_count": 55,
   "metadata": {},
   "outputs": [],
   "source": [
    "skus = session.query(SKU).all()"
   ]
  },
  {
   "cell_type": "code",
   "execution_count": 56,
   "metadata": {},
   "outputs": [],
   "source": [
    "b = BatchNumber(datetime=datetime.datetime.now().date(), beg_number=1, end_number=10)\n",
    "session.add(b)\n",
    "session.commit()"
   ]
  },
  {
   "cell_type": "code",
   "execution_count": 38,
   "metadata": {},
   "outputs": [],
   "source": []
  },
  {
   "cell_type": "code",
   "execution_count": 60,
   "metadata": {},
   "outputs": [
    {
     "data": {
      "text/plain": [
       "[<BatchNumber 1>, <BatchNumber 2>]"
      ]
     },
     "execution_count": 60,
     "metadata": {},
     "output_type": "execute_result"
    }
   ],
   "source": [
    "batches = session.query(BatchNumber).all()\n",
    "batches"
   ]
  },
  {
   "cell_type": "code",
   "execution_count": 63,
   "metadata": {},
   "outputs": [],
   "source": [
    "date = datetime.datetime.now()\n",
    "result = session.query(BatchNumber)\\\n",
    "            .filter(func.DATE(BatchNumber.datetime) < date.date())\\\n",
    "            .filter(extract('month', BatchNumber.datetime) == date.month)\\\n",
    "            .filter(extract('year', BatchNumber.datetime) == date.year)\\\n",
    "            .order_by(BatchNumber.datetime.desc())\\\n",
    "            .first()"
   ]
  },
  {
   "cell_type": "code",
   "execution_count": 64,
   "metadata": {},
   "outputs": [
    {
     "data": {
      "text/plain": [
       "True"
      ]
     },
     "execution_count": 64,
     "metadata": {},
     "output_type": "execute_result"
    }
   ],
   "source": [
    "result is None"
   ]
  },
  {
   "cell_type": "code",
   "execution_count": 49,
   "metadata": {},
   "outputs": [
    {
     "ename": "AttributeError",
     "evalue": "Neither 'Function' object nor 'Comparator' object has an attribute 'month'",
     "output_type": "error",
     "traceback": [
      "\u001b[0;31m---------------------------------------------------------------------------\u001b[0m",
      "\u001b[0;31mAttributeError\u001b[0m                            Traceback (most recent call last)",
      "\u001b[0;32m~/.local/lib/python3.6/site-packages/sqlalchemy/sql/elements.py\u001b[0m in \u001b[0;36m__getattr__\u001b[0;34m(self, key)\u001b[0m\n\u001b[1;32m    725\u001b[0m         \u001b[0;32mtry\u001b[0m\u001b[0;34m:\u001b[0m\u001b[0;34m\u001b[0m\u001b[0;34m\u001b[0m\u001b[0m\n\u001b[0;32m--> 726\u001b[0;31m             \u001b[0;32mreturn\u001b[0m \u001b[0mgetattr\u001b[0m\u001b[0;34m(\u001b[0m\u001b[0mself\u001b[0m\u001b[0;34m.\u001b[0m\u001b[0mcomparator\u001b[0m\u001b[0;34m,\u001b[0m \u001b[0mkey\u001b[0m\u001b[0;34m)\u001b[0m\u001b[0;34m\u001b[0m\u001b[0;34m\u001b[0m\u001b[0m\n\u001b[0m\u001b[1;32m    727\u001b[0m         \u001b[0;32mexcept\u001b[0m \u001b[0mAttributeError\u001b[0m \u001b[0;32mas\u001b[0m \u001b[0merr\u001b[0m\u001b[0;34m:\u001b[0m\u001b[0;34m\u001b[0m\u001b[0;34m\u001b[0m\u001b[0m\n",
      "\u001b[0;31mAttributeError\u001b[0m: 'Comparator' object has no attribute 'month'",
      "\nThe above exception was the direct cause of the following exception:\n",
      "\u001b[0;31mAttributeError\u001b[0m                            Traceback (most recent call last)",
      "\u001b[0;32m<ipython-input-49-52a09c4a281f>\u001b[0m in \u001b[0;36m<module>\u001b[0;34m\u001b[0m\n\u001b[1;32m      1\u001b[0m \u001b[0mcur_date\u001b[0m \u001b[0;34m=\u001b[0m \u001b[0mdatetime\u001b[0m\u001b[0;34m.\u001b[0m\u001b[0mdatetime\u001b[0m\u001b[0;34m.\u001b[0m\u001b[0mnow\u001b[0m\u001b[0;34m(\u001b[0m\u001b[0;34m)\u001b[0m\u001b[0;34m.\u001b[0m\u001b[0mdate\u001b[0m\u001b[0;34m(\u001b[0m\u001b[0;34m)\u001b[0m\u001b[0;34m\u001b[0m\u001b[0;34m\u001b[0m\u001b[0m\n\u001b[1;32m      2\u001b[0m \u001b[0mlast_batch\u001b[0m \u001b[0;34m=\u001b[0m \u001b[0msession\u001b[0m\u001b[0;34m.\u001b[0m\u001b[0mquery\u001b[0m\u001b[0;34m(\u001b[0m\u001b[0mBatchNumber\u001b[0m\u001b[0;34m)\u001b[0m\u001b[0;31m\\\u001b[0m\u001b[0;34m\u001b[0m\u001b[0;34m\u001b[0m\u001b[0m\n\u001b[0;32m----> 3\u001b[0;31m             \u001b[0;34m.\u001b[0m\u001b[0mfilter\u001b[0m\u001b[0;34m(\u001b[0m\u001b[0mfunc\u001b[0m\u001b[0;34m.\u001b[0m\u001b[0mDATE\u001b[0m\u001b[0;34m(\u001b[0m\u001b[0mBatchNumber\u001b[0m\u001b[0;34m.\u001b[0m\u001b[0mdatetime\u001b[0m\u001b[0;34m)\u001b[0m\u001b[0;34m.\u001b[0m\u001b[0mmonth\u001b[0m \u001b[0;34m==\u001b[0m \u001b[0mcur_date\u001b[0m\u001b[0;34m.\u001b[0m\u001b[0mmonth\u001b[0m\u001b[0;34m)\u001b[0m\u001b[0;34m.\u001b[0m\u001b[0mall\u001b[0m\u001b[0;34m(\u001b[0m\u001b[0;34m)\u001b[0m\u001b[0;34m\u001b[0m\u001b[0;34m\u001b[0m\u001b[0m\n\u001b[0m",
      "\u001b[0;32m~/.local/lib/python3.6/site-packages/sqlalchemy/sql/elements.py\u001b[0m in \u001b[0;36m__getattr__\u001b[0;34m(self, key)\u001b[0m\n\u001b[1;32m    735\u001b[0m                     )\n\u001b[1;32m    736\u001b[0m                 ),\n\u001b[0;32m--> 737\u001b[0;31m                 \u001b[0mreplace_context\u001b[0m\u001b[0;34m=\u001b[0m\u001b[0merr\u001b[0m\u001b[0;34m,\u001b[0m\u001b[0;34m\u001b[0m\u001b[0;34m\u001b[0m\u001b[0m\n\u001b[0m\u001b[1;32m    738\u001b[0m             )\n\u001b[1;32m    739\u001b[0m \u001b[0;34m\u001b[0m\u001b[0m\n",
      "\u001b[0;32m~/.local/lib/python3.6/site-packages/sqlalchemy/util/compat.py\u001b[0m in \u001b[0;36mraise_\u001b[0;34m(***failed resolving arguments***)\u001b[0m\n\u001b[1;32m    176\u001b[0m \u001b[0;34m\u001b[0m\u001b[0m\n\u001b[1;32m    177\u001b[0m         \u001b[0;32mtry\u001b[0m\u001b[0;34m:\u001b[0m\u001b[0;34m\u001b[0m\u001b[0;34m\u001b[0m\u001b[0m\n\u001b[0;32m--> 178\u001b[0;31m             \u001b[0;32mraise\u001b[0m \u001b[0mexception\u001b[0m\u001b[0;34m\u001b[0m\u001b[0;34m\u001b[0m\u001b[0m\n\u001b[0m\u001b[1;32m    179\u001b[0m         \u001b[0;32mfinally\u001b[0m\u001b[0;34m:\u001b[0m\u001b[0;34m\u001b[0m\u001b[0;34m\u001b[0m\u001b[0m\n\u001b[1;32m    180\u001b[0m             \u001b[0;31m# credit to\u001b[0m\u001b[0;34m\u001b[0m\u001b[0;34m\u001b[0m\u001b[0;34m\u001b[0m\u001b[0m\n",
      "\u001b[0;31mAttributeError\u001b[0m: Neither 'Function' object nor 'Comparator' object has an attribute 'month'"
     ]
    }
   ],
   "source": [
    "cur_date = datetime.datetime.now().date()\n",
    "last_batch = session.query(BatchNumber)\\\n",
    "            .filter(func.DATE(BatchNumber.datetime).month == cur_date.month).all()"
   ]
  },
  {
   "cell_type": "code",
   "execution_count": 48,
   "metadata": {},
   "outputs": [
    {
     "data": {
      "text/plain": [
       "[<BatchNumber 1>, <BatchNumber 2>]"
      ]
     },
     "execution_count": 48,
     "metadata": {},
     "output_type": "execute_result"
    }
   ],
   "source": [
    "last_batch"
   ]
  },
  {
   "cell_type": "code",
   "execution_count": null,
   "metadata": {},
   "outputs": [],
   "source": []
  },
  {
   "cell_type": "code",
   "execution_count": 7,
   "metadata": {},
   "outputs": [],
   "source": [
    "group_items = [{'BoilingId': x.made_from_boilings[0].id} for x in skus.copy()]\n",
    "# group_items = [dict(x) for x in set(frozenset(d.items()) for d in group_items)]"
   ]
  },
  {
   "cell_type": "code",
   "execution_count": 8,
   "metadata": {},
   "outputs": [
    {
     "data": {
      "text/plain": [
       "[{'BoilingId': 1},\n",
       " {'BoilingId': 1},\n",
       " {'BoilingId': 2},\n",
       " {'BoilingId': 2},\n",
       " {'BoilingId': 2},\n",
       " {'BoilingId': 3},\n",
       " {'BoilingId': 4},\n",
       " {'BoilingId': 5},\n",
       " {'BoilingId': 5},\n",
       " {'BoilingId': 4},\n",
       " {'BoilingId': 5},\n",
       " {'BoilingId': 6},\n",
       " {'BoilingId': 1},\n",
       " {'BoilingId': 2},\n",
       " {'BoilingId': 1},\n",
       " {'BoilingId': 1},\n",
       " {'BoilingId': 2},\n",
       " {'BoilingId': 2},\n",
       " {'BoilingId': 2},\n",
       " {'BoilingId': 2},\n",
       " {'BoilingId': 7},\n",
       " {'BoilingId': 4},\n",
       " {'BoilingId': 4},\n",
       " {'BoilingId': 4},\n",
       " {'BoilingId': 6},\n",
       " {'BoilingId': 4},\n",
       " {'BoilingId': 4},\n",
       " {'BoilingId': 4},\n",
       " {'BoilingId': 4},\n",
       " {'BoilingId': 6},\n",
       " {'BoilingId': 4},\n",
       " {'BoilingId': 4},\n",
       " {'BoilingId': 1},\n",
       " {'BoilingId': 2},\n",
       " {'BoilingId': 2},\n",
       " {'BoilingId': 1},\n",
       " {'BoilingId': 2},\n",
       " {'BoilingId': 2},\n",
       " {'BoilingId': 2},\n",
       " {'BoilingId': 2},\n",
       " {'BoilingId': 2},\n",
       " {'BoilingId': 4},\n",
       " {'BoilingId': 4},\n",
       " {'BoilingId': 2},\n",
       " {'BoilingId': 1},\n",
       " {'BoilingId': 1},\n",
       " {'BoilingId': 1},\n",
       " {'BoilingId': 1},\n",
       " {'BoilingId': 8},\n",
       " {'BoilingId': 5},\n",
       " {'BoilingId': 4},\n",
       " {'BoilingId': 5},\n",
       " {'BoilingId': 4},\n",
       " {'BoilingId': 5},\n",
       " {'BoilingId': 2},\n",
       " {'BoilingId': 8},\n",
       " {'BoilingId': 8},\n",
       " {'BoilingId': 8},\n",
       " {'BoilingId': 2},\n",
       " {'BoilingId': 8},\n",
       " {'BoilingId': 2}]"
      ]
     },
     "execution_count": 8,
     "metadata": {},
     "output_type": "execute_result"
    }
   ],
   "source": [
    "group_items"
   ]
  },
  {
   "cell_type": "code",
   "execution_count": 66,
   "metadata": {},
   "outputs": [
    {
     "data": {
      "text/plain": [
       "3"
      ]
     },
     "execution_count": 66,
     "metadata": {},
     "output_type": "execute_result"
    }
   ],
   "source": [
    "import pandas as pd\n",
    "df = pd.DataFrame([[1,2], [3,4], [2,6]], columns=['x', 'y'])\n",
    "df['x'].max()"
   ]
  },
  {
   "cell_type": "code",
   "execution_count": 11,
   "metadata": {},
   "outputs": [],
   "source": [
    "from collections import namedtuple\n",
    "Request = namedtuple('Request', 'skus, boiling_id, count, volume, is_lactose')"
   ]
  },
  {
   "cell_type": "code",
   "execution_count": 19,
   "metadata": {},
   "outputs": [],
   "source": [
    "result = []\n",
    "r1 = Request(1,1,1,1,1)\n",
    "r2 = Request(2,2,1,1,1)\n",
    "r3 = Request(0,2,1,1,1)\n",
    "result.append(r1)\n",
    "result.append(r2)\n",
    "result.append(r3)"
   ]
  },
  {
   "cell_type": "code",
   "execution_count": 20,
   "metadata": {},
   "outputs": [
    {
     "data": {
      "text/plain": [
       "[Request(skus=0, boiling_id=2, count=1, volume=1, is_lactose=1),\n",
       " Request(skus=1, boiling_id=1, count=1, volume=1, is_lactose=1),\n",
       " Request(skus=2, boiling_id=2, count=1, volume=1, is_lactose=1)]"
      ]
     },
     "execution_count": 20,
     "metadata": {},
     "output_type": "execute_result"
    }
   ],
   "source": [
    "sorted(result, key=lambda x: x.skus)"
   ]
  },
  {
   "cell_type": "code",
   "execution_count": 21,
   "metadata": {},
   "outputs": [],
   "source": [
    "import openpyxl"
   ]
  },
  {
   "cell_type": "code",
   "execution_count": 22,
   "metadata": {},
   "outputs": [],
   "source": [
    "wb = openpyxl.load_workbook(filename='30.09.20.xlsx')\n"
   ]
  },
  {
   "cell_type": "code",
   "execution_count": 24,
   "metadata": {},
   "outputs": [],
   "source": [
    "ws = wb['файл остатки']"
   ]
  },
  {
   "cell_type": "code",
   "execution_count": 26,
   "metadata": {},
   "outputs": [
    {
     "data": {
      "text/plain": [
       "'visible'"
      ]
     },
     "execution_count": 26,
     "metadata": {},
     "output_type": "execute_result"
    }
   ],
   "source": [
    "ws.sheet_state"
   ]
  },
  {
   "cell_type": "code",
   "execution_count": 47,
   "metadata": {},
   "outputs": [],
   "source": [
    "x = [[1,2,3], [2,3,4], [1,3,5]]"
   ]
  },
  {
   "cell_type": "code",
   "execution_count": 48,
   "metadata": {},
   "outputs": [],
   "source": [
    "df = pd.DataFrame(x, columns=['id', 'x', 'y'])"
   ]
  },
  {
   "cell_type": "code",
   "execution_count": 59,
   "metadata": {},
   "outputs": [
    {
     "name": "stdout",
     "output_type": "stream",
     "text": [
      "2\n",
      "3\n",
      "3\n"
     ]
    }
   ],
   "source": [
    "for id, grp in df.groupby('id', sort=False):\n",
    "    for i, row in grp.iterrows():\n",
    "        print(row['x'])\n",
    "#         print(i, row)\n",
    "#         columns = [x for x in row.index if x in d.keys()]\n",
    "#         tmp = [(row[col], d[col]) for col in columns]\n"
   ]
  },
  {
   "cell_type": "code",
   "execution_count": 41,
   "metadata": {},
   "outputs": [
    {
     "data": {
      "text/plain": [
       "dict_keys(['x', 'y'])"
      ]
     },
     "execution_count": 41,
     "metadata": {},
     "output_type": "execute_result"
    }
   ],
   "source": [
    "d = {'x': 1, 'y': 2}\n",
    "d.keys()"
   ]
  },
  {
   "cell_type": "code",
   "execution_count": null,
   "metadata": {},
   "outputs": [],
   "source": []
  }
 ],
 "metadata": {
  "kernelspec": {
   "display_name": "Python 3",
   "language": "python",
   "name": "python3"
  },
  "language_info": {
   "codemirror_mode": {
    "name": "ipython",
    "version": 3
   },
   "file_extension": ".py",
   "mimetype": "text/x-python",
   "name": "python",
   "nbconvert_exporter": "python",
   "pygments_lexer": "ipython3",
   "version": "3.6.9"
  }
 },
 "nbformat": 4,
 "nbformat_minor": 4
}

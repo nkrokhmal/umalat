{
 "cells": [
  {
   "cell_type": "code",
   "execution_count": 37,
   "metadata": {},
   "source": [
    "import sys\n",
    "sys.path.append(r'/home/nkrokhmal/Desktop/MyProjects/SergeyProject/umalat-project/prod')\n",
    "from app.models import *\n",
    "from app.models import Boiling as BoilingModel\n",
    "from app.models import Termizator as TermizatorModel\n",
    "from openpyxl.utils.cell import coordinate_from_string, column_index_from_string\n",
    "\n",
    "\n",
    "from sqlalchemy import create_engine\n",
    "from sqlalchemy.orm import sessionmaker\n",
    "\n",
    "# sqlite_filepath = '/home/akadaner/Desktop/data.sqlite'\n",
    "sqlite_filepath = r\"/home/nkrokhmal/Desktop/MyProjects/SergeyProject/umalat-project/prod/data.sqlite\"\n",
    "engine = create_engine(f\"sqlite:///{sqlite_filepath}\")\n",
    "Session = sessionmaker()\n",
    "Session.configure(bind=engine)\n",
    "session = Session()\n",
    "\n",
    "def cast_sku(obj):\n",
    "    if isinstance(obj, SKU):\n",
    "        return obj\n",
    "    elif isinstance(obj, (str, int)):\n",
    "        obj = str(obj)\n",
    "        return session.query(SKU).filter(SKU.id == obj).first()\n",
    "    else:\n",
    "        raise Exception('Unknown sku type')\n",
    "        \n",
    "def cast_boiling(obj):\n",
    "    if isinstance(obj, Boiling):\n",
    "        return obj\n",
    "    elif isinstance(obj, (str, int)):\n",
    "        obj = str(obj)\n",
    "        return session.query(Boiling).filter(Boiling.id == obj).first()\n",
    "    else:\n",
    "        raise Exception('Unknown boiling type')"
   ],
   "outputs": []
  },
  {
   "cell_type": "code",
   "execution_count": null,
   "metadata": {},
   "source": [],
   "outputs": []
  },
  {
   "cell_type": "code",
   "execution_count": 3,
   "metadata": {},
   "source": [
    "lst = ['gfg', 'is', 'a', 'portal', 'for', 'geeks'] \n",
    "  \n",
    "# Using sort() function \n",
    "sorted(lst)"
   ],
   "outputs": []
  },
  {
   "cell_type": "code",
   "execution_count": 2,
   "metadata": {},
   "source": [
    "lst"
   ],
   "outputs": []
  },
  {
   "cell_type": "code",
   "execution_count": 6,
   "metadata": {},
   "source": [
    "datetime.datetime.strptime('01.01.2020', '%d.%m.%Y')\n",
    "[{\"BoilingId\": 6, \"BoilingCount\": 1.0, \"BoilingWeights\": [8000], \n",
    "  \"SKUVolumes\": {\"24\": 199, \"23\": 190.3999999999999, \"26\": 75.6, \"27\": 40.5, \"22\": 76.5}}"
   ],
   "outputs": []
  },
  {
   "cell_type": "code",
   "execution_count": 36,
   "metadata": {},
   "source": [
    "import re\n",
    "# a = '=-(F21+F22)/K25'.replace(\"(\", \"\").replace(\")\", \"\")\n",
    "a = '=-(F21+F22)/K25'\n",
    "tmp = re.split('=|-|/|\\(|\\)|\\+', a)\n",
    "tmp"
   ],
   "outputs": []
  },
  {
   "cell_type": "code",
   "execution_count": 38,
   "metadata": {},
   "source": [
    "def get_index(coordinate):\n",
    "    xy = coordinate_from_string(coordinate) # returns ('A',4)\n",
    "    col = column_index_from_string(xy[0]) # returns 1\n",
    "    row = xy[1]\n",
    "    return row, col"
   ],
   "outputs": []
  },
  {
   "cell_type": "code",
   "execution_count": 76,
   "metadata": {},
   "source": [
    "def parse_json(path):\n",
    "    basename = os.path.basename(path)\n",
    "    date_str = os.path.splitext(basename)[0]\n",
    "    date = datetime.datetime.strptime(date_str, '%d.%m.%y')\n",
    "\n",
    "    response = {'Date': date, 'WeekDay': date.weekday(), 'Boilings': []}\n",
    "    \n",
    "    skus = session.query(SKU).all()\n",
    "    wb = openpyxl.load_workbook(filename=path)\n",
    "    wb_data = openpyxl.load_workbook(filename=path, data_only=True)\n",
    "    ws = wb['планирование суточное']\n",
    "    ws_data = wb_data['планирование суточное']\n",
    "    for i in range(1, 200):\n",
    "        cell = ws.cell(i, 11).value\n",
    "        if cell is not None:\n",
    "            splited = re.split('=|-|/|\\(|\\)|\\+|:', str(cell))\n",
    "            splited = [get_index(x) for x in splited if x.startswith('F')]\n",
    "            \n",
    "            if len(splited) > 0:\n",
    "                sku_names = [ws_data.cell(x[0], 3).value for x  in splited]\n",
    "                boilings = [x.boilings[0] for x in skus if x.name in sku_names]\n",
    "                if len(boilings) > 0:\n",
    "                    if ws_data.cell(i, 12).value is not None:\n",
    "                        tmp = {}\n",
    "                        tmp['BoilingId'] = boilings[0].id\n",
    "                        tmp['BoilingCount'] = ws_data.cell(i, 12).value\n",
    "                        tmp['BoilingWeights'] = int(tmp['BoilingCount']) * [8000]\n",
    "                        tmp_list = []\n",
    "                        for s in splited:\n",
    "                            sku_name = ws_data.cell(s[0], 3).value\n",
    "                            sku_volume = ws_data.cell(s[0], 6).value\n",
    "                            sku_ids = [x.id for x in skus if x.name == sku_name]\n",
    "\n",
    "                            if len(sku_ids) > 0 and sku_volume is not None and sku_volume < 0:\n",
    "                                tmp_list.append({sku_ids[0]: - sku_volume})\n",
    "                        tmp['SKUVolumes'] = tmp_list\n",
    "                        response['Boilings'].append(tmp)\n",
    "    return response\n",
    "                    \n",
    "#                     print(sku_name, sku_volume)\n",
    "\n",
    "        "
   ],
   "outputs": []
  },
  {
   "cell_type": "code",
   "execution_count": 77,
   "metadata": {},
   "source": [
    "parse_json('/home/nkrokhmal/Desktop/MyProjects/SergeyProject/umalat-project/prod/research/nkrokhmal/30.09.20.xlsx')"
   ],
   "outputs": []
  },
  {
   "cell_type": "code",
   "execution_count": 40,
   "metadata": {},
   "source": [
    "def create_json(path):\n",
    "    try:\n",
    "        basename = os.path.basename(path)\n",
    "        date_str = os.path.splitext(basename)[0]\n",
    "        date = datetime.datetime.strptime(date_str, '%d.%m.%y')\n",
    "\n",
    "        response = {'Date': date, 'WeekDay': date.weekday(), 'Boilings': []}\n",
    "        result_list = []\n",
    "        skus = session.query(SKU).all()\n",
    "        group_items = [{\n",
    "            \"Ferment\": x.boiling.ferment,\n",
    "            \"IsLactose\": x.boiling.is_lactose,\n",
    "            \"Percent\": x.boiling.percent,\n",
    "            \"FormFactor\": x.form_factor\n",
    "        } for x in skus.copy()]\n",
    "        group_items = [dict(x) for x in set(frozenset(d.items()) for d in group_items)]\n",
    "\n",
    "        df = pd.read_excel(path, index_col=0)\n",
    "        df_save = df.copy()\n",
    "        df.columns = range(df.shape[1])\n",
    "        df = df[df.loc['Дата выработки продукции:'].dropna().index]\n",
    "        df = df.loc[['Дата выработки продукции:',\n",
    "                     'Заявлено всего, кг:',\n",
    "                     'Фактические остатки на складах - Заявлено, кг:',\n",
    "                     'Нормативные остатки, кг']].fillna(0).iloc[:, :-1]\n",
    "        data = list(zip(*df.values.tolist()))\n",
    "\n",
    "        full_list = []\n",
    "        print('Creating full list')\n",
    "        sku_for_create = []\n",
    "        for item in data:\n",
    "            sku = [x for x in skus if x.name == item[0]]\n",
    "            if sku is not None and len(sku) > 0:\n",
    "                full_list.append({\n",
    "                    \"SKU\": sku[0],\n",
    "                    \"Request\": item[2]\n",
    "                })\n",
    "            else:\n",
    "                sku_for_create.append(item[0])\n",
    "        print('Group items')\n",
    "        for group_item in group_items:\n",
    "            group_sku = [x for x in full_list if\n",
    "                                 x[\"SKU\"].boiling.ferment == group_item[\"Ferment\"] and\n",
    "                                 x[\"SKU\"].boiling.is_lactose == group_item[\"IsLactose\"] and\n",
    "                                 x[\"SKU\"].boiling.percent == group_item[\"Percent\"] and\n",
    "                                 x[\"SKU\"].form_factor == group_item[\"FormFactor\"]]\n",
    "            if group_sku is not None and len(group_sku) > 0:\n",
    "                output_weight = group_sku[0][\"SKU\"].output_kg\n",
    "                request_weight = sum([x[\"Request\"] for x in group_sku if x[\"Request\"] < 0])\n",
    "                result_list.append({\n",
    "                    \"GroupSKU\": group_sku,\n",
    "                    \"BoilingId\": group_sku[0][\"SKU\"].boiling_id,\n",
    "                    \"BoilingCount\": - request_weight / output_weight\n",
    "                })\n",
    "        result_list = [x for x in result_list if round(x['BoilingCount']) > 0]\n",
    "        print(len(result_list))\n",
    "        for res in result_list:\n",
    "            tmp = {}\n",
    "            tmp['BoilingId'] = res['BoilingId']\n",
    "            tmp['BoilingCount'] = round(res['BoilingCount'])\n",
    "            tmp['BoilingWeights'] = round(res['BoilingCount']) * [8000]\n",
    "            tmp_list = []\n",
    "            for sku in res['GroupSKU']:\n",
    "                if sku[\"Request\"] < 0:\n",
    "                    tmp_list.append({sku[\"SKU\"].id: sku[\"Request\"]})\n",
    "            tmp['SKUVolumes'] = tmp_list\n",
    "            response['Boilings'].append(tmp)\n",
    "            \n",
    "        saved_path = os.path.join(os.path.dirname(path), date_str + '.txt')\n",
    "        print(saved_path)\n",
    "        with open(saved_path, 'w') as outfile:\n",
    "            def default(o):\n",
    "                if isinstance(o, (datetime.date, datetime.datetime)):\n",
    "                    return o.isoformat()\n",
    "            json.dump(response, outfile, default=default)\n",
    "        \n",
    "#         return response\n",
    "    except Exception as e:\n",
    "        print('Exception occured {}'.format(e))\n",
    "\n",
    "    "
   ],
   "outputs": []
  },
  {
   "cell_type": "code",
   "execution_count": 41,
   "metadata": {},
   "source": [
    "create_json('/home/nkrokhmal/Desktop/MyProjects/SergeyProject/umalat-project/prod/research/nkrokhmal/30.09.20.xlsx')"
   ],
   "outputs": []
  },
  {
   "cell_type": "code",
   "execution_count": 42,
   "metadata": {},
   "source": [
    "directory = '/home/nkrokhmal/Downloads/2020 scheduling/2020'\n",
    "t = os.walk(directory)\n",
    "for folder in [x[0] for x in os.walk(directory)][1:]:\n",
    "    filenames = [x[2] for x in os.walk(folder)][0]\n",
    "    for filename in filenames:\n",
    "        filename_fullpath = os.path.join(folder, filename)\n",
    "        print(filename_fullpath)\n",
    "        create_json(filename_fullpath)\n",
    "    "
   ],
   "outputs": []
  },
  {
   "cell_type": "code",
   "execution_count": 25,
   "metadata": {},
   "source": [
    "[x[0] for x in os.walk(directory)]"
   ],
   "outputs": []
  },
  {
   "cell_type": "code",
   "execution_count": 21,
   "metadata": {},
   "source": [
    "[x[2] for x in os.walk('/home/nkrokhmal/Downloads/2020 scheduling/2020/Июль')]"
   ],
   "outputs": []
  },
  {
   "cell_type": "code",
   "execution_count": null,
   "metadata": {},
   "source": [],
   "outputs": []
  }
 ],
 "metadata": {
  "kernelspec": {
   "display_name": "Python 3",
   "language": "python",
   "name": "python3"
  },
  "language_info": {
   "codemirror_mode": {
    "name": "ipython",
    "version": 3
   },
   "file_extension": ".py",
   "mimetype": "text/x-python",
   "name": "python",
   "nbconvert_exporter": "python",
   "pygments_lexer": "ipython3",
   "version": "3.6.9"
  }
 },
 "nbformat": 4,
 "nbformat_minor": 4
}

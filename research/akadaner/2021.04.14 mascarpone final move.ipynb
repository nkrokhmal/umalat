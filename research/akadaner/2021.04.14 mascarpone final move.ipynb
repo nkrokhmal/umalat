{
 "cells": [
  {
   "cell_type": "code",
   "execution_count": 1,
   "metadata": {},
   "outputs": [
    {
     "name": "stdout",
     "output_type": "stream",
     "text": [
      "WORKING IN INTERACTIVE MODE\n",
      "WORKING IN INTERACTIVE MODE\n"
     ]
    }
   ],
   "source": [
    "import os\n",
    "import sys\n",
    "\n",
    "import warnings\n",
    "warnings.filterwarnings(\"ignore\")\n",
    "\n",
    "os.environ['environment'] = 'interactive'\n",
    "os.environ['UTILS_PATH'] = '/Users/arsenijkadaner/Yandex.Disk.localized/master/code/git/python-utils-ak'\n",
    "os.environ['PROJECT_PATH'] = '/Users/arsenijkadaner/Yandex.Disk.localized/master/code/git/2020.10-umalat/umalat' \n",
    "os.environ['SQLITE_PATH'] = '/Users/arsenijkadaner/Yandex.Disk.localized/master/code/git/2020.10-umalat/umalat/data.sqlite' \n",
    "sys.path.append(os.environ['UTILS_PATH'])\n",
    "sys.path.append(os.environ['PROJECT_PATH'])\n",
    "from app.interactive_imports import *"
   ]
  },
  {
   "cell_type": "code",
   "execution_count": 5,
   "metadata": {},
   "outputs": [],
   "source": [
    "from app.models.mozzarella import *\n",
    "from app.models.mascarpone import *"
   ]
  },
  {
   "cell_type": "code",
   "execution_count": 8,
   "metadata": {},
   "outputs": [
    {
     "data": {
      "text/plain": [
       "<MozzarellaSKU 1>"
      ]
     },
     "execution_count": 8,
     "metadata": {},
     "output_type": "execute_result"
    }
   ],
   "source": [
    "cast_model(SKU, 1)"
   ]
  },
  {
   "cell_type": "code",
   "execution_count": 9,
   "metadata": {},
   "outputs": [
    {
     "data": {
      "text/plain": [
       "<RicottaSKU 81>"
      ]
     },
     "execution_count": 9,
     "metadata": {},
     "output_type": "execute_result"
    }
   ],
   "source": [
    "cast_model(SKU, 81)"
   ]
  },
  {
   "cell_type": "code",
   "execution_count": 14,
   "metadata": {},
   "outputs": [],
   "source": [
    "skus = []\n",
    "for i in range(1, 200):\n",
    "    try:\n",
    "        skus.append(cast_model(SKU, i))\n",
    "    except:\n",
    "        break"
   ]
  },
  {
   "cell_type": "code",
   "execution_count": 15,
   "metadata": {},
   "outputs": [
    {
     "data": {
      "text/plain": [
       "102"
      ]
     },
     "execution_count": 15,
     "metadata": {},
     "output_type": "execute_result"
    }
   ],
   "source": [
    "len(skus)"
   ]
  },
  {
   "cell_type": "code",
   "execution_count": 23,
   "metadata": {},
   "outputs": [
    {
     "data": {
      "text/html": [
       "<div>\n",
       "<style scoped>\n",
       "    .dataframe tbody tr th:only-of-type {\n",
       "        vertical-align: middle;\n",
       "    }\n",
       "\n",
       "    .dataframe tbody tr th {\n",
       "        vertical-align: top;\n",
       "    }\n",
       "\n",
       "    .dataframe thead th {\n",
       "        text-align: right;\n",
       "    }\n",
       "</style>\n",
       "<table border=\"1\" class=\"dataframe\">\n",
       "  <thead>\n",
       "    <tr style=\"text-align: right;\">\n",
       "      <th></th>\n",
       "      <th>sku</th>\n",
       "      <th>name</th>\n",
       "      <th>boiling</th>\n",
       "    </tr>\n",
       "  </thead>\n",
       "  <tbody>\n",
       "    <tr>\n",
       "      <th>0</th>\n",
       "      <td>&lt;MozzarellaSKU 1&gt;</td>\n",
       "      <td>Моцарелла \"Pretto\" (для бутербродов), 45%, 0,2 кг, т/ф, (9 шт)</td>\n",
       "      <td>&lt;MozzarellaBoiling 1&gt;</td>\n",
       "    </tr>\n",
       "    <tr>\n",
       "      <th>1</th>\n",
       "      <td>&lt;MozzarellaSKU 2&gt;</td>\n",
       "      <td>Моцарелла \"Pretto\", 45%, 1,2 кг, в/у</td>\n",
       "      <td>&lt;MozzarellaBoiling 1&gt;</td>\n",
       "    </tr>\n",
       "    <tr>\n",
       "      <th>2</th>\n",
       "      <td>&lt;MozzarellaSKU 3&gt;</td>\n",
       "      <td>Моцарелла \"Unagrande\", 45%, 0,12 кг, ф/п (кубики)</td>\n",
       "      <td>&lt;MozzarellaBoiling 2&gt;</td>\n",
       "    </tr>\n",
       "    <tr>\n",
       "      <th>3</th>\n",
       "      <td>&lt;MozzarellaSKU 4&gt;</td>\n",
       "      <td>Моцарелла \"Unagrande\", 45%, 3 кг, пл/л</td>\n",
       "      <td>&lt;MozzarellaBoiling 2&gt;</td>\n",
       "    </tr>\n",
       "    <tr>\n",
       "      <th>4</th>\n",
       "      <td>&lt;MozzarellaSKU 5&gt;</td>\n",
       "      <td>Моцарелла (палочки), 45%, кг, пл/л</td>\n",
       "      <td>&lt;MozzarellaBoiling 2&gt;</td>\n",
       "    </tr>\n",
       "    <tr>\n",
       "      <th>...</th>\n",
       "      <td>...</td>\n",
       "      <td>...</td>\n",
       "      <td>...</td>\n",
       "    </tr>\n",
       "    <tr>\n",
       "      <th>97</th>\n",
       "      <td>&lt;CreamCheeseSKU 98&gt;</td>\n",
       "      <td>Кремчиз \"Фермерская коллекция\", 75%, 0,2 кг, пл/с</td>\n",
       "      <td>&lt;CreamCheeseBoiling 23&gt;</td>\n",
       "    </tr>\n",
       "    <tr>\n",
       "      <th>98</th>\n",
       "      <td>&lt;CreamCheeseSKU 99&gt;</td>\n",
       "      <td>Кремчиз \"Unagrande\", 70%, 0,18 кг, пл/с</td>\n",
       "      <td>&lt;CreamCheeseBoiling 22&gt;</td>\n",
       "    </tr>\n",
       "    <tr>\n",
       "      <th>99</th>\n",
       "      <td>&lt;CreamCheeseSKU 100&gt;</td>\n",
       "      <td>Творожный \"Фермерская коллекция\", 65%,0,18 кг,пл/с</td>\n",
       "      <td>&lt;CreamCheeseBoiling 24&gt;</td>\n",
       "    </tr>\n",
       "    <tr>\n",
       "      <th>100</th>\n",
       "      <td>&lt;CreamCheeseSKU 101&gt;</td>\n",
       "      <td>Творожный \"Pretto\", 65%, 0,18 кг, пл/с</td>\n",
       "      <td>&lt;CreamCheeseBoiling 24&gt;</td>\n",
       "    </tr>\n",
       "    <tr>\n",
       "      <th>101</th>\n",
       "      <td>&lt;CreamCheeseSKU 102&gt;</td>\n",
       "      <td>Робиола \"Unagrande\", 65%, 0,18 кг, пл/с</td>\n",
       "      <td>&lt;CreamCheeseBoiling 24&gt;</td>\n",
       "    </tr>\n",
       "  </tbody>\n",
       "</table>\n",
       "<p>102 rows × 3 columns</p>\n",
       "</div>"
      ],
      "text/plain": [
       "                      sku  \\\n",
       "0       <MozzarellaSKU 1>   \n",
       "1       <MozzarellaSKU 2>   \n",
       "2       <MozzarellaSKU 3>   \n",
       "3       <MozzarellaSKU 4>   \n",
       "4       <MozzarellaSKU 5>   \n",
       "..                    ...   \n",
       "97    <CreamCheeseSKU 98>   \n",
       "98    <CreamCheeseSKU 99>   \n",
       "99   <CreamCheeseSKU 100>   \n",
       "100  <CreamCheeseSKU 101>   \n",
       "101  <CreamCheeseSKU 102>   \n",
       "\n",
       "                                                               name  \\\n",
       "0    Моцарелла \"Pretto\" (для бутербродов), 45%, 0,2 кг, т/ф, (9 шт)   \n",
       "1                              Моцарелла \"Pretto\", 45%, 1,2 кг, в/у   \n",
       "2                 Моцарелла \"Unagrande\", 45%, 0,12 кг, ф/п (кубики)   \n",
       "3                            Моцарелла \"Unagrande\", 45%, 3 кг, пл/л   \n",
       "4                                Моцарелла (палочки), 45%, кг, пл/л   \n",
       "..                                                              ...   \n",
       "97                Кремчиз \"Фермерская коллекция\", 75%, 0,2 кг, пл/с   \n",
       "98                          Кремчиз \"Unagrande\", 70%, 0,18 кг, пл/с   \n",
       "99               Творожный \"Фермерская коллекция\", 65%,0,18 кг,пл/с   \n",
       "100                          Творожный \"Pretto\", 65%, 0,18 кг, пл/с   \n",
       "101                         Робиола \"Unagrande\", 65%, 0,18 кг, пл/с   \n",
       "\n",
       "                     boiling  \n",
       "0      <MozzarellaBoiling 1>  \n",
       "1      <MozzarellaBoiling 1>  \n",
       "2      <MozzarellaBoiling 2>  \n",
       "3      <MozzarellaBoiling 2>  \n",
       "4      <MozzarellaBoiling 2>  \n",
       "..                       ...  \n",
       "97   <CreamCheeseBoiling 23>  \n",
       "98   <CreamCheeseBoiling 22>  \n",
       "99   <CreamCheeseBoiling 24>  \n",
       "100  <CreamCheeseBoiling 24>  \n",
       "101  <CreamCheeseBoiling 24>  \n",
       "\n",
       "[102 rows x 3 columns]"
      ]
     },
     "execution_count": 23,
     "metadata": {},
     "output_type": "execute_result"
    }
   ],
   "source": [
    "values = [[sku, sku.name, sku.made_from_boilings[0]] for sku in skus]\n",
    "df = pd.DataFrame(values, columns=['sku', 'name', 'boiling'])\n",
    "df"
   ]
  },
  {
   "cell_type": "code",
   "execution_count": 24,
   "metadata": {},
   "outputs": [
    {
     "data": {
      "text/html": [
       "<div>\n",
       "<style scoped>\n",
       "    .dataframe tbody tr th:only-of-type {\n",
       "        vertical-align: middle;\n",
       "    }\n",
       "\n",
       "    .dataframe tbody tr th {\n",
       "        vertical-align: top;\n",
       "    }\n",
       "\n",
       "    .dataframe thead th {\n",
       "        text-align: right;\n",
       "    }\n",
       "</style>\n",
       "<table border=\"1\" class=\"dataframe\">\n",
       "  <thead>\n",
       "    <tr style=\"text-align: right;\">\n",
       "      <th></th>\n",
       "      <th>sku</th>\n",
       "      <th>name</th>\n",
       "      <th>boiling</th>\n",
       "    </tr>\n",
       "  </thead>\n",
       "  <tbody>\n",
       "    <tr>\n",
       "      <th>93</th>\n",
       "      <td>&lt;CreamCheeseSKU 94&gt;</td>\n",
       "      <td>Кремчиз \"Unagrande\", 70%, 0,5 кг, пл/с</td>\n",
       "      <td>&lt;CreamCheeseBoiling 22&gt;</td>\n",
       "    </tr>\n",
       "    <tr>\n",
       "      <th>94</th>\n",
       "      <td>&lt;CreamCheeseSKU 95&gt;</td>\n",
       "      <td>Кремчиз \"Красная птица\", 75%, 0,2 кг, пл/с</td>\n",
       "      <td>&lt;CreamCheeseBoiling 23&gt;</td>\n",
       "    </tr>\n",
       "    <tr>\n",
       "      <th>95</th>\n",
       "      <td>&lt;CreamCheeseSKU 96&gt;</td>\n",
       "      <td>Кремчиз \"Pretto\", 75%, 0,2 кг, пл/с</td>\n",
       "      <td>&lt;CreamCheeseBoiling 23&gt;</td>\n",
       "    </tr>\n",
       "    <tr>\n",
       "      <th>96</th>\n",
       "      <td>&lt;CreamCheeseSKU 97&gt;</td>\n",
       "      <td>Кремчиз \"ВкусВилл\", 70%, 0,18 кг, пл/с (6шт)</td>\n",
       "      <td>&lt;CreamCheeseBoiling 22&gt;</td>\n",
       "    </tr>\n",
       "    <tr>\n",
       "      <th>97</th>\n",
       "      <td>&lt;CreamCheeseSKU 98&gt;</td>\n",
       "      <td>Кремчиз \"Фермерская коллекция\", 75%, 0,2 кг, пл/с</td>\n",
       "      <td>&lt;CreamCheeseBoiling 23&gt;</td>\n",
       "    </tr>\n",
       "    <tr>\n",
       "      <th>98</th>\n",
       "      <td>&lt;CreamCheeseSKU 99&gt;</td>\n",
       "      <td>Кремчиз \"Unagrande\", 70%, 0,18 кг, пл/с</td>\n",
       "      <td>&lt;CreamCheeseBoiling 22&gt;</td>\n",
       "    </tr>\n",
       "  </tbody>\n",
       "</table>\n",
       "</div>"
      ],
      "text/plain": [
       "                    sku                                               name  \\\n",
       "93  <CreamCheeseSKU 94>             Кремчиз \"Unagrande\", 70%, 0,5 кг, пл/с   \n",
       "94  <CreamCheeseSKU 95>         Кремчиз \"Красная птица\", 75%, 0,2 кг, пл/с   \n",
       "95  <CreamCheeseSKU 96>                Кремчиз \"Pretto\", 75%, 0,2 кг, пл/с   \n",
       "96  <CreamCheeseSKU 97>       Кремчиз \"ВкусВилл\", 70%, 0,18 кг, пл/с (6шт)   \n",
       "97  <CreamCheeseSKU 98>  Кремчиз \"Фермерская коллекция\", 75%, 0,2 кг, пл/с   \n",
       "98  <CreamCheeseSKU 99>            Кремчиз \"Unagrande\", 70%, 0,18 кг, пл/с   \n",
       "\n",
       "                    boiling  \n",
       "93  <CreamCheeseBoiling 22>  \n",
       "94  <CreamCheeseBoiling 23>  \n",
       "95  <CreamCheeseBoiling 23>  \n",
       "96  <CreamCheeseBoiling 22>  \n",
       "97  <CreamCheeseBoiling 23>  \n",
       "98  <CreamCheeseBoiling 22>  "
      ]
     },
     "execution_count": 24,
     "metadata": {},
     "output_type": "execute_result"
    }
   ],
   "source": [
    "df = df[df['name'].str.contains('Крем')]\n",
    "df"
   ]
  },
  {
   "cell_type": "code",
   "execution_count": null,
   "metadata": {},
   "outputs": [],
   "source": [
    "df.iloc[0]['sku']"
   ]
  }
 ],
 "metadata": {
  "kernelspec": {
   "display_name": "master",
   "language": "python",
   "name": "master"
  },
  "language_info": {
   "codemirror_mode": {
    "name": "ipython",
    "version": 3
   },
   "file_extension": ".py",
   "mimetype": "text/x-python",
   "name": "python",
   "nbconvert_exporter": "python",
   "pygments_lexer": "ipython3",
   "version": "3.8.5"
  }
 },
 "nbformat": 4,
 "nbformat_minor": 4
}

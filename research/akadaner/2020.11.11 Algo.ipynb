{
 "cells": [
  {
   "cell_type": "code",
   "execution_count": 42,
   "metadata": {},
   "outputs": [],
   "source": [
    "import sys\n",
    "# sys.path.append('/mnt/6088FEB688FE89B4/Users/arsen/Desktop/code/git/python-utils-ak')\n",
    "sys.path.append(r'C:\\Users\\arsen\\Desktop\\code\\git\\python-utils-ak')\n",
    "from utils_ak.reflexion import load as _load\n",
    "\n",
    "def _import_globals(module):\n",
    "    for x in dir(module):\n",
    "        if not x.startswith('_'):\n",
    "            globals()[x] = getattr(module, x)\n",
    "            \n",
    "def load(module_obj, module_name=None, reload=False, import_globals=False):\n",
    "    module = _load(module_obj, module_name, reload, import_globals=False)\n",
    "    if import_globals:\n",
    "        _import_globals(module)\n",
    "    return module"
   ]
  },
  {
   "cell_type": "markdown",
   "metadata": {},
   "source": [
    "# Models"
   ]
  },
  {
   "cell_type": "code",
   "execution_count": 43,
   "metadata": {},
   "outputs": [],
   "source": [
    "request = {'Моцарелла Фиор ди Латте в воде \"Красная птица\", 45%, 0,125 кг, ф/п': 1, \n",
    "          'Моцарелла Фиор Ди Латте в воде \"Pretto\", 45%, 0,125 кг, ф/п, (8 шт)': 1}"
   ]
  },
  {
   "cell_type": "code",
   "execution_count": 44,
   "metadata": {},
   "outputs": [],
   "source": [
    "import pandas as pd"
   ]
  },
  {
   "cell_type": "code",
   "execution_count": 45,
   "metadata": {},
   "outputs": [
    {
     "data": {
      "text/html": [
       "<div>\n",
       "<style scoped>\n",
       "    .dataframe tbody tr th:only-of-type {\n",
       "        vertical-align: middle;\n",
       "    }\n",
       "\n",
       "    .dataframe tbody tr th {\n",
       "        vertical-align: top;\n",
       "    }\n",
       "\n",
       "    .dataframe thead th {\n",
       "        text-align: right;\n",
       "    }\n",
       "</style>\n",
       "<table border=\"1\" class=\"dataframe\">\n",
       "  <thead>\n",
       "    <tr style=\"text-align: right;\">\n",
       "      <th></th>\n",
       "      <th>name</th>\n",
       "      <th>qty</th>\n",
       "    </tr>\n",
       "  </thead>\n",
       "  <tbody>\n",
       "    <tr>\n",
       "      <th>0</th>\n",
       "      <td>Моцарелла Фиор ди Латте в воде \"Красная птица\"...</td>\n",
       "      <td>1</td>\n",
       "    </tr>\n",
       "    <tr>\n",
       "      <th>1</th>\n",
       "      <td>Моцарелла Фиор Ди Латте в воде \"Pretto\", 45%, ...</td>\n",
       "      <td>1</td>\n",
       "    </tr>\n",
       "  </tbody>\n",
       "</table>\n",
       "</div>"
      ],
      "text/plain": [
       "                                                name  qty\n",
       "0  Моцарелла Фиор ди Латте в воде \"Красная птица\"...    1\n",
       "1  Моцарелла Фиор Ди Латте в воде \"Pretto\", 45%, ...    1"
      ]
     },
     "execution_count": 45,
     "metadata": {},
     "output_type": "execute_result"
    }
   ],
   "source": [
    "df = pd.DataFrame(request.items(), columns=['name', 'qty'])\n",
    "df"
   ]
  },
  {
   "cell_type": "code",
   "execution_count": 46,
   "metadata": {},
   "outputs": [],
   "source": [
    "import sys\n",
    "# sys.path.append('/mnt/6088FEB688FE89B4/Users/arsen/Desktop/code/git/2020.10-umalat/umalat')\n",
    "sys.path.append(r'C:\\Users\\arsen\\Desktop\\code\\git\\2020.10-umalat\\umalat')\n"
   ]
  },
  {
   "cell_type": "code",
   "execution_count": 47,
   "metadata": {},
   "outputs": [],
   "source": [
    "from app.models import *\n",
    "from app.models import Boiling as BoilingModel"
   ]
  },
  {
   "cell_type": "code",
   "execution_count": 48,
   "metadata": {},
   "outputs": [],
   "source": [
    "from sqlalchemy import create_engine\n",
    "from sqlalchemy.orm import sessionmaker\n",
    "\n",
    "# sqlite_filepath = '/home/akadaner/Desktop/data.sqlite'\n",
    "sqlite_filepath = r\"C:\\Users\\arsen\\Desktop\\code\\git\\2020.10-umalat\\umalat\\data.sqlite\"\n",
    "engine = create_engine(f\"sqlite:///{sqlite_filepath}\")\n",
    "Session = sessionmaker()\n",
    "Session.configure(bind=engine)\n",
    "session = Session()"
   ]
  },
  {
   "cell_type": "code",
   "execution_count": 49,
   "metadata": {},
   "outputs": [],
   "source": [
    "df['sku'] = df['name'].apply(lambda s: session.query(SKU).filter(SKU.name == s).first())"
   ]
  },
  {
   "cell_type": "code",
   "execution_count": 50,
   "metadata": {},
   "outputs": [
    {
     "data": {
      "text/html": [
       "<div>\n",
       "<style scoped>\n",
       "    .dataframe tbody tr th:only-of-type {\n",
       "        vertical-align: middle;\n",
       "    }\n",
       "\n",
       "    .dataframe tbody tr th {\n",
       "        vertical-align: top;\n",
       "    }\n",
       "\n",
       "    .dataframe thead th {\n",
       "        text-align: right;\n",
       "    }\n",
       "</style>\n",
       "<table border=\"1\" class=\"dataframe\">\n",
       "  <thead>\n",
       "    <tr style=\"text-align: right;\">\n",
       "      <th></th>\n",
       "      <th>name</th>\n",
       "      <th>qty</th>\n",
       "      <th>sku</th>\n",
       "    </tr>\n",
       "  </thead>\n",
       "  <tbody>\n",
       "    <tr>\n",
       "      <th>0</th>\n",
       "      <td>Моцарелла Фиор ди Латте в воде \"Красная птица\"...</td>\n",
       "      <td>1</td>\n",
       "      <td>&lt;SKU 27&gt;</td>\n",
       "    </tr>\n",
       "    <tr>\n",
       "      <th>1</th>\n",
       "      <td>Моцарелла Фиор Ди Латте в воде \"Pretto\", 45%, ...</td>\n",
       "      <td>1</td>\n",
       "      <td>&lt;SKU 24&gt;</td>\n",
       "    </tr>\n",
       "  </tbody>\n",
       "</table>\n",
       "</div>"
      ],
      "text/plain": [
       "                                                name  qty       sku\n",
       "0  Моцарелла Фиор ди Латте в воде \"Красная птица\"...    1  <SKU 27>\n",
       "1  Моцарелла Фиор Ди Латте в воде \"Pretto\", 45%, ...    1  <SKU 24>"
      ]
     },
     "execution_count": 50,
     "metadata": {},
     "output_type": "execute_result"
    }
   ],
   "source": [
    "df"
   ]
  },
  {
   "cell_type": "code",
   "execution_count": 51,
   "metadata": {},
   "outputs": [],
   "source": [
    "sku = df.iloc[0]['sku']"
   ]
  },
  {
   "cell_type": "code",
   "execution_count": 52,
   "metadata": {},
   "outputs": [
    {
     "data": {
      "text/plain": [
       "<Boiling 1>"
      ]
     },
     "execution_count": 52,
     "metadata": {},
     "output_type": "execute_result"
    }
   ],
   "source": [
    "session.query(BoilingModel).first()"
   ]
  },
  {
   "cell_type": "code",
   "execution_count": 53,
   "metadata": {},
   "outputs": [],
   "source": [
    "df['boiling'] = df['sku'].apply(lambda sku: session.query(BoilingModel).filter(BoilingModel.id == sku.boiling_id).first())"
   ]
  },
  {
   "cell_type": "code",
   "execution_count": 54,
   "metadata": {},
   "outputs": [
    {
     "data": {
      "text/html": [
       "<div>\n",
       "<style scoped>\n",
       "    .dataframe tbody tr th:only-of-type {\n",
       "        vertical-align: middle;\n",
       "    }\n",
       "\n",
       "    .dataframe tbody tr th {\n",
       "        vertical-align: top;\n",
       "    }\n",
       "\n",
       "    .dataframe thead th {\n",
       "        text-align: right;\n",
       "    }\n",
       "</style>\n",
       "<table border=\"1\" class=\"dataframe\">\n",
       "  <thead>\n",
       "    <tr style=\"text-align: right;\">\n",
       "      <th></th>\n",
       "      <th>name</th>\n",
       "      <th>qty</th>\n",
       "      <th>sku</th>\n",
       "      <th>boiling</th>\n",
       "    </tr>\n",
       "  </thead>\n",
       "  <tbody>\n",
       "    <tr>\n",
       "      <th>0</th>\n",
       "      <td>Моцарелла Фиор ди Латте в воде \"Красная птица\"...</td>\n",
       "      <td>1</td>\n",
       "      <td>&lt;SKU 27&gt;</td>\n",
       "      <td>&lt;Boiling 6&gt;</td>\n",
       "    </tr>\n",
       "    <tr>\n",
       "      <th>1</th>\n",
       "      <td>Моцарелла Фиор Ди Латте в воде \"Pretto\", 45%, ...</td>\n",
       "      <td>1</td>\n",
       "      <td>&lt;SKU 24&gt;</td>\n",
       "      <td>&lt;Boiling 6&gt;</td>\n",
       "    </tr>\n",
       "  </tbody>\n",
       "</table>\n",
       "</div>"
      ],
      "text/plain": [
       "                                                name  qty       sku  \\\n",
       "0  Моцарелла Фиор ди Латте в воде \"Красная птица\"...    1  <SKU 27>   \n",
       "1  Моцарелла Фиор Ди Латте в воде \"Pretto\", 45%, ...    1  <SKU 24>   \n",
       "\n",
       "       boiling  \n",
       "0  <Boiling 6>  \n",
       "1  <Boiling 6>  "
      ]
     },
     "execution_count": 54,
     "metadata": {},
     "output_type": "execute_result"
    }
   ],
   "source": [
    "df"
   ]
  },
  {
   "cell_type": "code",
   "execution_count": 55,
   "metadata": {},
   "outputs": [],
   "source": [
    "lines = ['cheese_maker', 'melting', 'termizator', 'packing']"
   ]
  },
  {
   "cell_type": "markdown",
   "metadata": {},
   "source": [
    "# Time"
   ]
  },
  {
   "cell_type": "code",
   "execution_count": 56,
   "metadata": {},
   "outputs": [],
   "source": [
    "def cast_t(obj):\n",
    "    if isinstance(obj, int):\n",
    "        return obj\n",
    "    elif isinstance(obj, str):\n",
    "        # 12:00\n",
    "        hours, minutes = obj.split(':')\n",
    "        return int(hours) * 12 + int(int(minutes) / 5)\n",
    "    else:\n",
    "        raise Exception('Unknown format')\n",
    "        \n",
    "def cast_time(obj):\n",
    "    if isinstance(obj, str):\n",
    "        return obj\n",
    "    elif isinstance(obj, int):\n",
    "        hours = obj // 12\n",
    "        hours = hours % 24\n",
    "        minutes = obj % 12 * 5\n",
    "        return f'{hours:02}:{minutes:02}'"
   ]
  },
  {
   "cell_type": "markdown",
   "metadata": {},
   "source": [
    "# Block"
   ]
  },
  {
   "cell_type": "code",
   "execution_count": 57,
   "metadata": {},
   "outputs": [],
   "source": [
    "module = load('2020.11.18 algo.py', import_globals=True, reload=True)"
   ]
  },
  {
   "cell_type": "code",
   "execution_count": 102,
   "metadata": {},
   "outputs": [],
   "source": [
    "root = Block('root', t=cast_t('01:00'), index_width=4)\n",
    "\n",
    "with root.make('boiling', block_num=12) as boiling:\n",
    "    with boiling.make('water_pouring', method='add', t=cast_t('01:45')) as water_pouring:\n",
    "        total_size = 27\n",
    "\n",
    "        with water_pouring.make(y=0) as b:\n",
    "            b.make('pouring_label', size=6, block_num=12)\n",
    "            b.make('pouring_name', size=total_size - 6, name='чильеджина  3,6 альче  8500кг')\n",
    "        with water_pouring.make(y=1) as b:\n",
    "            b.make('pouring_and_fermenting', size=8)\n",
    "            b.make('soldification', size=7)\n",
    "            b.make('cutting', size=7)\n",
    "            b.make('pouring_off', size=3)\n",
    "            b.make('extra', size=total_size - 8 - 7 - 7 - 3)\n",
    "\n",
    "    boiling.make('termizator', size=6, visible=False)\n",
    "\n",
    "    with boiling.make('melting', method='add', t=cast_t('08:00')) as melting:\n",
    "        total_size = 25\n",
    "        with melting.make(y=0) as b:\n",
    "            b.make('melting_label', size=3)\n",
    "            b.make('melting_name', size=total_size - 3, name='чильеджина 5кг/сердечки/фдл 0,125(безлактозная)/0,1')\n",
    "        with melting.make(y=1) as b:\n",
    "            b.make('serving', size=6)\n",
    "            b.make('melting_process', size=total_size - 6, speed=900)\n",
    "        with melting.make(y=2) as b:\n",
    "            b.make(size=6, visible=False)\n",
    "            b.make('cooling1', size=5)\n",
    "            b.make('cooling2', size=10)\n",
    "    \n",
    "    with boiling.make('packing', method='add', t=cast_t('08:30')) as packing:\n",
    "        total_size = 25\n",
    "        with packing.make(y=0) as b:\n",
    "            b.make('packing_label', size=3) \n",
    "            b.make('packing_name', size=total_size - 3, name='чильеджина 5кг/сердечки/фдл 0,125(безлактозная)/0,1')\n",
    "        with packing.make(y=1) as b:\n",
    "            b.make('packing_brand', size=total_size, name='безлактозная/претто')\n",
    "        with packing.make(y=2) as b:\n",
    "            b.make('configuration', size=3, visible=False)\n",
    "            b.make('configuration', size=1)\n",
    "            b.make('configuration', size=5, visible=False)\n",
    "            b.make('configuration', size=1)"
   ]
  },
  {
   "cell_type": "code",
   "execution_count": 163,
   "metadata": {},
   "outputs": [],
   "source": [
    "# ROWS = {'water_1': 1, 'water_2': 3, 'salt_1': 5, 'salt_2': 7, 'water_melting': 9, 'water_packing': 12, 'salt_melting': 15, 'salt_packing': 30}\n",
    "ROWS = {'water_1': 1, 'water_2': 3, 'water_melting': 5, 'water_packing': 8}\n",
    "\n",
    "def cast_row(obj):\n",
    "    if isinstance(obj, int):\n",
    "        return obj\n",
    "    elif isinstance(obj, str):\n",
    "        return ROWS[obj]\n",
    "    else:\n",
    "        raise Exception('Unknown object type')"
   ]
  },
  {
   "cell_type": "code",
   "execution_count": 158,
   "metadata": {},
   "outputs": [],
   "source": [
    "style = {\n",
    "    'water_pouring': {'beg_time': '01:00', 'y': cast_row('water_1')},\n",
    "    'pouring_label': {'text': '{block_num} налив'},\n",
    "    'pouring_name': {'text': '{name}'},\n",
    "    'pouring_and_fermenting': {'text': 'налив/внесение закваски', 'color': 'orange'},\n",
    "    'soldification': {'text': 'схватка', 'color': 'yellow'},\n",
    "    'cutting': {'text': 'резка/обсушка', 'color': '#92d050'},\n",
    "    'pouring_off': {'text': 'слив', 'color': 'red'},\n",
    "    'melting': {'beg_time': '07:00', 'y': cast_row('water_melting')},\n",
    "    'melting_label': {'text': '{block_num}'},\n",
    "    'melting_name': {'text': '{name}'},\n",
    "    'serving': {'color': 'orange', 'text': 'подача и вымешивание'},\n",
    "    'melting_process': {'color': 'orange', 'text': 'плавление {speed} кг/ч'},\n",
    "    'cooling1': {'text': 'охлаж1 <{size} * 5> мин'},\n",
    "    'cooling2': {'text': 'охлаж2 <{size} * 5> мин'},\n",
    "    'packing': {'beg_time': '07:00', 'y': cast_row('water_packing')},\n",
    "    'packing_label': {'text': '{block_num}'},\n",
    "    'packing_name': {'text': '{name}'},\n",
    "    'packing_brand': {'color': '#f2dcdb', 'text': '{name}'},\n",
    "    'configuration': {'color': 'red'}\n",
    "}"
   ]
  },
  {
   "cell_type": "code",
   "execution_count": null,
   "metadata": {},
   "outputs": [],
   "source": [
    "# update styles\n",
    "for b in root:\n",
    "    if b.block_class in style:\n",
    "        b.local_props.update(style[b.block_class])"
   ]
  },
  {
   "cell_type": "markdown",
   "metadata": {},
   "source": [
    "# Drawing"
   ]
  },
  {
   "cell_type": "code",
   "execution_count": 161,
   "metadata": {},
   "outputs": [],
   "source": [
    "from matplotlib import colors\n",
    "\n",
    "def cast_color(obj):\n",
    "    if isinstance(obj, (tuple, list)):\n",
    "        if all(isinstance(x, int) for x in obj):\n",
    "            return '#{:02x}{:02x}{:02x}'.format(*obj)\n",
    "        elif all(isinstance(x, float) for x in obj):\n",
    "            return colors.to_hex(obj)\n",
    "    elif isinstance(obj, str):\n",
    "        try:\n",
    "            return cast_color(colors.to_rgb(obj))\n",
    "        except:\n",
    "            pass\n",
    "    raise Exception('Unknown object type')"
   ]
  },
  {
   "cell_type": "code",
   "execution_count": 146,
   "metadata": {},
   "outputs": [],
   "source": [
    "import pandas as pd\n",
    "from openpyxl import Workbook\n",
    "from datetime import datetime\n",
    "import openpyxl as opx\n",
    "from openpyxl.styles import Alignment\n",
    "from openpyxl.styles import PatternFill\n",
    "import json\n",
    "\n",
    "def draw_block(x, y, w, h, text, colour):\n",
    "    if not colour:\n",
    "        colour = cast_color('white') # default white colour\n",
    "    SHEET.merge_cells(start_row=y, start_column=x, end_row=y + h - 1, end_column=x + w - 1)\n",
    "    merged_cell = SHEET.cell(row=y, column=x)  \n",
    "    merged_cell.value = text\n",
    "    merged_cell.alignment = Alignment(horizontal='center')\n",
    "    merged_cell.fill = PatternFill(\"solid\", fgColor=colour[1:])"
   ]
  },
  {
   "cell_type": "code",
   "execution_count": 147,
   "metadata": {},
   "outputs": [],
   "source": [
    "def draw(block):\n",
    "    if block.children:\n",
    "        for child in block.children:\n",
    "            draw(child)\n",
    "    else:\n",
    "        props = block.props or {}\n",
    "        props.update(style.get(block.block_class, {}))\n",
    "#         print(block.block_class, props)\n",
    "        text = props.get('text', '')\n",
    "        color = cast_color(props.get('color', 'white'))\n",
    "        \n",
    "        if block.props.get('visible') == False:\n",
    "            return\n",
    "        \n",
    "        text = text.format(**props)\n",
    "        text = text.replace('<', '{')\n",
    "        text = text.replace('>', '}')\n",
    "        text = eval(f'f{text!r}')\n",
    "        \n",
    "        beg = block.beg\n",
    "        beg -= cast_t(block.props['beg_time']) # shift of timeline\n",
    "        beg += block.props['index_width'] # first index columns\n",
    "        beg += 1 # indexing starts with 1 in excel\n",
    "        return draw_block(beg, block.props['y'], block.props['size'], 1, text, color)"
   ]
  },
  {
   "cell_type": "code",
   "execution_count": 148,
   "metadata": {},
   "outputs": [],
   "source": [
    "def move_sheet(wb, from_loc=None, to_loc=None):\n",
    "    sheets=wb._sheets\n",
    "\n",
    "    # if no from_loc given, assume last sheet\n",
    "    if from_loc is None:\n",
    "        from_loc = len(sheets) - 1\n",
    "\n",
    "    #if no to_loc given, assume first\n",
    "    if to_loc is None:\n",
    "        to_loc = 0\n",
    "\n",
    "    sheet = sheets.pop(from_loc)\n",
    "    sheets.insert(to_loc, sheet)\n",
    "    \n",
    "# work_book = opx.load_workbook(r'2020.11.18 schedule_template.xlsx')\n",
    "\n",
    "# # delete all but last - original\n",
    "# for sheet in work_book.worksheets[:-1]:\n",
    "#     work_book.remove_sheet(sheet)\n",
    "# # copy sheet to work with\n",
    "# SHEET = work_book.copy_worksheet(work_book.worksheets[0])\n",
    "# # put it at the beginning\n",
    "# move_sheet(work_book, 1, 0)"
   ]
  },
  {
   "cell_type": "code",
   "execution_count": 154,
   "metadata": {},
   "outputs": [],
   "source": [
    "from openpyxl.utils import get_column_letter\n",
    "work_book = opx.Workbook()\n",
    "SHEET = work_book.worksheets[0]\n",
    "for i in range(288):\n",
    "    SHEET.column_dimensions[get_column_letter(i+1)].width = 1.2"
   ]
  },
  {
   "cell_type": "code",
   "execution_count": 155,
   "metadata": {},
   "outputs": [],
   "source": [
    "draw(root)"
   ]
  },
  {
   "cell_type": "code",
   "execution_count": 156,
   "metadata": {},
   "outputs": [],
   "source": [
    "work_book.save('output.xlsx')"
   ]
  }
 ],
 "metadata": {
  "kernelspec": {
   "display_name": "Python 3",
   "language": "python",
   "name": "python3"
  },
  "language_info": {
   "codemirror_mode": {
    "name": "ipython",
    "version": 3
   },
   "file_extension": ".py",
   "mimetype": "text/x-python",
   "name": "python",
   "nbconvert_exporter": "python",
   "pygments_lexer": "ipython3",
   "version": "3.8.5"
  }
 },
 "nbformat": 4,
 "nbformat_minor": 4
}

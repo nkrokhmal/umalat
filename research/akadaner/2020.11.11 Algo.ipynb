{
 "cells": [
  {
   "cell_type": "code",
   "execution_count": 412,
   "metadata": {},
   "outputs": [],
   "source": [
    "import sys\n",
    "# sys.path.append('/mnt/6088FEB688FE89B4/Users/arsen/Desktop/code/git/python-utils-ak')\n",
    "sys.path.append(r'C:\\Users\\arsen\\Desktop\\code\\git\\python-utils-ak')\n",
    "from utils_ak.reflexion import load as _load\n",
    "\n",
    "def _import_globals(module):\n",
    "    for x in dir(module):\n",
    "        if not x.startswith('_'):\n",
    "            globals()[x] = getattr(module, x)\n",
    "            \n",
    "def load(module_obj, module_name=None, reload=False, import_globals=False):\n",
    "    module = _load(module_obj, module_name, reload, import_globals=False)\n",
    "    if import_globals:\n",
    "        _import_globals(module)\n",
    "    return module"
   ]
  },
  {
   "cell_type": "markdown",
   "metadata": {},
   "source": [
    "# Models"
   ]
  },
  {
   "cell_type": "code",
   "execution_count": 379,
   "metadata": {},
   "outputs": [],
   "source": [
    "request = {'Моцарелла Фиор ди Латте в воде \"Красная птица\", 45%, 0,125 кг, ф/п': 1, \n",
    "          'Моцарелла Фиор Ди Латте в воде \"Pretto\", 45%, 0,125 кг, ф/п, (8 шт)': 1}"
   ]
  },
  {
   "cell_type": "code",
   "execution_count": 380,
   "metadata": {},
   "outputs": [],
   "source": [
    "import pandas as pd"
   ]
  },
  {
   "cell_type": "code",
   "execution_count": 381,
   "metadata": {},
   "outputs": [
    {
     "data": {
      "text/html": [
       "<div>\n",
       "<style scoped>\n",
       "    .dataframe tbody tr th:only-of-type {\n",
       "        vertical-align: middle;\n",
       "    }\n",
       "\n",
       "    .dataframe tbody tr th {\n",
       "        vertical-align: top;\n",
       "    }\n",
       "\n",
       "    .dataframe thead th {\n",
       "        text-align: right;\n",
       "    }\n",
       "</style>\n",
       "<table border=\"1\" class=\"dataframe\">\n",
       "  <thead>\n",
       "    <tr style=\"text-align: right;\">\n",
       "      <th></th>\n",
       "      <th>name</th>\n",
       "      <th>qty</th>\n",
       "    </tr>\n",
       "  </thead>\n",
       "  <tbody>\n",
       "    <tr>\n",
       "      <th>0</th>\n",
       "      <td>Моцарелла Фиор ди Латте в воде \"Красная птица\"...</td>\n",
       "      <td>1</td>\n",
       "    </tr>\n",
       "    <tr>\n",
       "      <th>1</th>\n",
       "      <td>Моцарелла Фиор Ди Латте в воде \"Pretto\", 45%, ...</td>\n",
       "      <td>1</td>\n",
       "    </tr>\n",
       "  </tbody>\n",
       "</table>\n",
       "</div>"
      ],
      "text/plain": [
       "                                                name  qty\n",
       "0  Моцарелла Фиор ди Латте в воде \"Красная птица\"...    1\n",
       "1  Моцарелла Фиор Ди Латте в воде \"Pretto\", 45%, ...    1"
      ]
     },
     "execution_count": 381,
     "metadata": {},
     "output_type": "execute_result"
    }
   ],
   "source": [
    "df = pd.DataFrame(request.items(), columns=['name', 'qty'])\n",
    "df"
   ]
  },
  {
   "cell_type": "code",
   "execution_count": 382,
   "metadata": {},
   "outputs": [],
   "source": [
    "import sys\n",
    "# sys.path.append('/mnt/6088FEB688FE89B4/Users/arsen/Desktop/code/git/2020.10-umalat/umalat')\n",
    "sys.path.append(r'C:\\Users\\arsen\\Desktop\\code\\git\\2020.10-umalat\\umalat')\n"
   ]
  },
  {
   "cell_type": "code",
   "execution_count": 383,
   "metadata": {},
   "outputs": [],
   "source": [
    "from app.models import *\n",
    "from app.models import Boiling as BoilingModel"
   ]
  },
  {
   "cell_type": "code",
   "execution_count": 384,
   "metadata": {},
   "outputs": [],
   "source": [
    "from sqlalchemy import create_engine\n",
    "from sqlalchemy.orm import sessionmaker\n",
    "\n",
    "# sqlite_filepath = '/home/akadaner/Desktop/data.sqlite'\n",
    "sqlite_filepath = r\"C:\\Users\\arsen\\Desktop\\code\\git\\2020.10-umalat\\umalat\\data.sqlite\"\n",
    "engine = create_engine(f\"sqlite:///{sqlite_filepath}\")\n",
    "Session = sessionmaker()\n",
    "Session.configure(bind=engine)\n",
    "session = Session()"
   ]
  },
  {
   "cell_type": "code",
   "execution_count": 385,
   "metadata": {},
   "outputs": [],
   "source": [
    "df['sku'] = df['name'].apply(lambda s: session.query(SKU).filter(SKU.name == s).first())"
   ]
  },
  {
   "cell_type": "code",
   "execution_count": 386,
   "metadata": {},
   "outputs": [
    {
     "data": {
      "text/html": [
       "<div>\n",
       "<style scoped>\n",
       "    .dataframe tbody tr th:only-of-type {\n",
       "        vertical-align: middle;\n",
       "    }\n",
       "\n",
       "    .dataframe tbody tr th {\n",
       "        vertical-align: top;\n",
       "    }\n",
       "\n",
       "    .dataframe thead th {\n",
       "        text-align: right;\n",
       "    }\n",
       "</style>\n",
       "<table border=\"1\" class=\"dataframe\">\n",
       "  <thead>\n",
       "    <tr style=\"text-align: right;\">\n",
       "      <th></th>\n",
       "      <th>name</th>\n",
       "      <th>qty</th>\n",
       "      <th>sku</th>\n",
       "    </tr>\n",
       "  </thead>\n",
       "  <tbody>\n",
       "    <tr>\n",
       "      <th>0</th>\n",
       "      <td>Моцарелла Фиор ди Латте в воде \"Красная птица\"...</td>\n",
       "      <td>1</td>\n",
       "      <td>&lt;SKU 27&gt;</td>\n",
       "    </tr>\n",
       "    <tr>\n",
       "      <th>1</th>\n",
       "      <td>Моцарелла Фиор Ди Латте в воде \"Pretto\", 45%, ...</td>\n",
       "      <td>1</td>\n",
       "      <td>&lt;SKU 24&gt;</td>\n",
       "    </tr>\n",
       "  </tbody>\n",
       "</table>\n",
       "</div>"
      ],
      "text/plain": [
       "                                                name  qty       sku\n",
       "0  Моцарелла Фиор ди Латте в воде \"Красная птица\"...    1  <SKU 27>\n",
       "1  Моцарелла Фиор Ди Латте в воде \"Pretto\", 45%, ...    1  <SKU 24>"
      ]
     },
     "execution_count": 386,
     "metadata": {},
     "output_type": "execute_result"
    }
   ],
   "source": [
    "df"
   ]
  },
  {
   "cell_type": "code",
   "execution_count": 387,
   "metadata": {},
   "outputs": [],
   "source": [
    "sku = df.iloc[0]['sku']"
   ]
  },
  {
   "cell_type": "code",
   "execution_count": 388,
   "metadata": {},
   "outputs": [
    {
     "data": {
      "text/plain": [
       "<Boiling 1>"
      ]
     },
     "execution_count": 388,
     "metadata": {},
     "output_type": "execute_result"
    }
   ],
   "source": [
    "session.query(BoilingModel).first()"
   ]
  },
  {
   "cell_type": "code",
   "execution_count": 389,
   "metadata": {},
   "outputs": [],
   "source": [
    "df['boiling'] = df['sku'].apply(lambda sku: session.query(BoilingModel).filter(BoilingModel.id == sku.boiling_id).first())"
   ]
  },
  {
   "cell_type": "code",
   "execution_count": 390,
   "metadata": {},
   "outputs": [
    {
     "data": {
      "text/html": [
       "<div>\n",
       "<style scoped>\n",
       "    .dataframe tbody tr th:only-of-type {\n",
       "        vertical-align: middle;\n",
       "    }\n",
       "\n",
       "    .dataframe tbody tr th {\n",
       "        vertical-align: top;\n",
       "    }\n",
       "\n",
       "    .dataframe thead th {\n",
       "        text-align: right;\n",
       "    }\n",
       "</style>\n",
       "<table border=\"1\" class=\"dataframe\">\n",
       "  <thead>\n",
       "    <tr style=\"text-align: right;\">\n",
       "      <th></th>\n",
       "      <th>name</th>\n",
       "      <th>qty</th>\n",
       "      <th>sku</th>\n",
       "      <th>boiling</th>\n",
       "    </tr>\n",
       "  </thead>\n",
       "  <tbody>\n",
       "    <tr>\n",
       "      <th>0</th>\n",
       "      <td>Моцарелла Фиор ди Латте в воде \"Красная птица\"...</td>\n",
       "      <td>1</td>\n",
       "      <td>&lt;SKU 27&gt;</td>\n",
       "      <td>&lt;Boiling 6&gt;</td>\n",
       "    </tr>\n",
       "    <tr>\n",
       "      <th>1</th>\n",
       "      <td>Моцарелла Фиор Ди Латте в воде \"Pretto\", 45%, ...</td>\n",
       "      <td>1</td>\n",
       "      <td>&lt;SKU 24&gt;</td>\n",
       "      <td>&lt;Boiling 6&gt;</td>\n",
       "    </tr>\n",
       "  </tbody>\n",
       "</table>\n",
       "</div>"
      ],
      "text/plain": [
       "                                                name  qty       sku  \\\n",
       "0  Моцарелла Фиор ди Латте в воде \"Красная птица\"...    1  <SKU 27>   \n",
       "1  Моцарелла Фиор Ди Латте в воде \"Pretto\", 45%, ...    1  <SKU 24>   \n",
       "\n",
       "       boiling  \n",
       "0  <Boiling 6>  \n",
       "1  <Boiling 6>  "
      ]
     },
     "execution_count": 390,
     "metadata": {},
     "output_type": "execute_result"
    }
   ],
   "source": [
    "df"
   ]
  },
  {
   "cell_type": "code",
   "execution_count": 391,
   "metadata": {},
   "outputs": [],
   "source": [
    "lines = ['cheese_maker', 'melting', 'termizator', 'packing']"
   ]
  },
  {
   "cell_type": "markdown",
   "metadata": {},
   "source": [
    "# Block"
   ]
  },
  {
   "cell_type": "code",
   "execution_count": 414,
   "metadata": {},
   "outputs": [],
   "source": [
    "# ROWS = {'water_1': 6, 'water_2': 9, 'salt_1': 15, 'salt_2': 18, 'water_melting': 24, 'water_packing': 29, 'salt_melting': 33, 'salt_packing': 46}\n",
    "ROWS = {'water_1': 1, 'water_2': 3, 'water_melting': 5, 'water_packing': 8}\n",
    "\n",
    "def cast_row(obj):\n",
    "    if isinstance(obj, int):\n",
    "        return obj\n",
    "    elif isinstance(obj, str):\n",
    "        return ROWS[obj]\n",
    "    else:\n",
    "        raise Exception('Unknown object type')"
   ]
  },
  {
   "cell_type": "code",
   "execution_count": 415,
   "metadata": {},
   "outputs": [],
   "source": [
    "style = {\n",
    "    'pouring': {'beg_time': '01:00'},\n",
    "    'termizator': {'text': '{block_num} налив'},\n",
    "    'pouring_name': {'text': '{name}'},\n",
    "    'pouring_and_fermenting': {'text': 'налив/внесение закваски', 'color': 'orange'},\n",
    "    'soldification': {'text': 'схватка', 'color': 'yellow'},\n",
    "    'cutting': {'text': 'резка/обсушка', 'color': '#92d050'},\n",
    "    'pouring_off': {'text': 'слив', 'color': 'red'},\n",
    "    'melting': {'beg_time': '07:00', 'y': cast_row('water_melting')},\n",
    "    'melting_label': {'text': '{block_num}'},\n",
    "    'melting_name': {'text': '{name}'},\n",
    "    'serving': {'color': 'orange', 'text': 'подача и вымешивание'},\n",
    "    'melting_process': {'color': 'orange', 'text': 'плавление {speed} кг/ч'},\n",
    "    'cooling1': {'text': 'охлаж1 <{size} * 5> мин'},\n",
    "    'cooling2': {'text': 'охлаж2 <{size} * 5> мин'},\n",
    "    'packing': {'beg_time': '07:00', 'y': cast_row('water_packing')},\n",
    "    'packing_label': {'text': '{block_num}'},\n",
    "    'packing_name': {'text': '{name}'},\n",
    "    'packing_brand': {'color': '#f2dcdb', 'text': '{name}'},\n",
    "    'configuration': {'color': 'red'}\n",
    "}"
   ]
  },
  {
   "cell_type": "markdown",
   "metadata": {},
   "source": [
    "# Advanced Validator"
   ]
  },
  {
   "cell_type": "code",
   "execution_count": 416,
   "metadata": {},
   "outputs": [],
   "source": [
    "from utils_ak.clock import clock, clockify"
   ]
  },
  {
   "cell_type": "code",
   "execution_count": 417,
   "metadata": {},
   "outputs": [],
   "source": [
    "@clockify()\n",
    "def atom_validate(b1, b2):\n",
    "    b1, b2 = list(sorted((b1, b2), key=lambda b: [b['class'], b.interval_str]))\n",
    "        \n",
    "    if b1['class'] == b2['class'] == 'termizator':\n",
    "        validate_disjoint(b1, b2)\n",
    "        \n",
    "    if b1.get('line') == b2.get('line'):\n",
    "        if {b1['class'], b2['class']} in [{'pouring'}, {'melting'}, {'packing'}]:\n",
    "            validate_disjoint(b1, b2)\n",
    "        \n",
    "        if {b1['class'], b2['class']} in [{'packing', 'cooling2'}]:\n",
    "            assert b1.interval.upper <= b2.interval.lower\n",
    "\n",
    "    \n",
    "@clockify()\n",
    "def atom_validator(b1, b2):\n",
    "    for atom_b1 in b1:\n",
    "        for atom_b2 in b2:\n",
    "            atom_validate(atom_b1, atom_b2)    "
   ]
  },
  {
   "cell_type": "code",
   "execution_count": 418,
   "metadata": {},
   "outputs": [],
   "source": [
    "clock.reset()"
   ]
  },
  {
   "cell_type": "code",
   "execution_count": 419,
   "metadata": {},
   "outputs": [
    {
     "data": {
      "text/plain": [
       "root None\n",
       "  pouring (10,15]\n",
       "    termizator (10,11]\n",
       "  pouring (11,16]\n",
       "    termizator (11,12]"
      ]
     },
     "execution_count": 419,
     "metadata": {},
     "output_type": "execute_result"
    }
   ],
   "source": [
    "root = make('root', t=10).block\n",
    "\n",
    "with make('pouring', size=5, line=1):\n",
    "    make('termizator', size=1)\n",
    "with make('pouring', size=5, line=2):\n",
    "    make('termizator', size=1)\n",
    "    \n",
    "for block in fetch_constructed_blocks():\n",
    "    root.push(block, validator=atom_validator)\n",
    "root"
   ]
  },
  {
   "cell_type": "code",
   "execution_count": 429,
   "metadata": {},
   "outputs": [],
   "source": [
    "load('src/time.py', import_globals=True, reload=True)\n",
    "load('src/block.py', import_globals=True, reload=True)\n",
    "load('src/color.py', import_globals=True, reload=True)\n",
    "load('src/drawing.py', import_globals=True, reload=True)\n",
    "\n",
    "def make_boiling(LINE, BID):\n",
    "    with make('boiling', block_num=12, line=LINE, boiling_id=BID) as boiling:\n",
    "        total_size = 27\n",
    "        with make('pouring', y=cast_row(f'water_{LINE}'), size=total_size):\n",
    "            with make(y=0, method='add'):\n",
    "                make('termizator', size=6, block_num=12)\n",
    "                make('pouring_name', size=total_size - 6, name='чильеджина  3,6 альче  8500кг')\n",
    "            with make(y=1, method='add'):\n",
    "                make('pouring_and_fermenting', size=8)\n",
    "                make('soldification', size=7)\n",
    "                make('cutting', size=7)\n",
    "                make('pouring_off', size=3)\n",
    "                make('extra', size=total_size - 8 - 8 - 7 - 3)\n",
    "\n",
    "        make('drenator', size=cast_t('04:00'), visible=False)\n",
    "\n",
    "        total_size = 31\n",
    "        with make('melting', y=10, size=total_size, line='1'):\n",
    "            with make(y=0, method='add'):\n",
    "                make('melting_label', size=3)\n",
    "                make('melting_name', size=total_size - 3, name='чильеджина 5кг/сердечки/фдл 0,125(безлактозная)/0,1')\n",
    "            with make(y=1, method='add'):\n",
    "                make('serving', size=6)\n",
    "                make('melting_process', size=total_size - 6, speed=900)\n",
    "            with make(y=2, method='add'):\n",
    "                make(size=6, visible=False)\n",
    "                make('cooling1', size=5)\n",
    "                make('cooling2', size=10)\n",
    "        \n",
    "        total_size=20\n",
    "        with make('packing', size=total_size, line='1', t=27 + 6 + 5 + 10 + cast_t('04:00'), method='add'):\n",
    "            with make(y=0, method='add'):\n",
    "                make('packing_label', size=3)\n",
    "                make('packing_name', size=total_size - 3, name='чильеджина 5кг/сердечки/фдл 0,125(безлактозная)/0,1')\n",
    "            with make(y=1, method='add'):\n",
    "                make('packing_brand', size=total_size, name='безлактозная/претто')\n",
    "            with make(y=2, method='add'):\n",
    "                make('configuration', size=3, visible=False)\n",
    "                make('configuration', size=1)\n",
    "                make('configuration', size=5, visible=False)\n",
    "                make('configuration', size=1)\n",
    "                \n",
    "    return fetch_constructed_blocks()[0]"
   ]
  },
  {
   "cell_type": "code",
   "execution_count": 428,
   "metadata": {},
   "outputs": [
    {
     "data": {
      "text/plain": [
       "root None\n",
       "  boiling ()\n",
       "    pouring (12,39]\n",
       "      block (12,39]\n",
       "        termizator (12,18]\n",
       "        pouring_name (18,39]\n",
       "      block (12,39]\n",
       "        pouring_and_fermenting (12,20]\n",
       "        soldification (20,27]\n",
       "        cutting (27,34]\n",
       "        pouring_off (34,37]\n",
       "        extra (37,38]\n",
       "    packing (108,128]\n",
       "      block (108,128]\n",
       "        packing_label (108,111]\n",
       "        packing_name (111,128]\n",
       "      block (108,128]\n",
       "        packing_brand (108,128]\n",
       "      block (108,128]\n",
       "        configuration (108,111]\n",
       "        configuration (111,112]\n",
       "        configuration (112,117]\n",
       "        configuration (117,118]"
      ]
     },
     "execution_count": 428,
     "metadata": {},
     "output_type": "execute_result"
    }
   ],
   "source": [
    "root = Block('root', t=cast_t('01:00'), index_width=4)\n",
    "boiling1 = make_boiling('1', '1')\n",
    "boiling2 = make_boiling('2', '2')\n",
    "root.push(boiling1)\n",
    "root.push(boiling2, validator=atom_validator)\n",
    "root"
   ]
  },
  {
   "cell_type": "code",
   "execution_count": 307,
   "metadata": {},
   "outputs": [
    {
     "data": {
      "text/html": [
       "<div>\n",
       "<style scoped>\n",
       "    .dataframe tbody tr th:only-of-type {\n",
       "        vertical-align: middle;\n",
       "    }\n",
       "\n",
       "    .dataframe tbody tr th {\n",
       "        vertical-align: top;\n",
       "    }\n",
       "\n",
       "    .dataframe thead th {\n",
       "        text-align: right;\n",
       "    }\n",
       "</style>\n",
       "<table border=\"1\" class=\"dataframe\">\n",
       "  <thead>\n",
       "    <tr style=\"text-align: right;\">\n",
       "      <th></th>\n",
       "      <th>atom_validate</th>\n",
       "      <th>atom_validator</th>\n",
       "    </tr>\n",
       "  </thead>\n",
       "  <tbody>\n",
       "    <tr>\n",
       "      <th>count</th>\n",
       "      <td>8.000000</td>\n",
       "      <td>2.000000</td>\n",
       "    </tr>\n",
       "    <tr>\n",
       "      <th>mean</th>\n",
       "      <td>0.000014</td>\n",
       "      <td>0.000081</td>\n",
       "    </tr>\n",
       "    <tr>\n",
       "      <th>sum</th>\n",
       "      <td>0.000113</td>\n",
       "      <td>0.000162</td>\n",
       "    </tr>\n",
       "    <tr>\n",
       "      <th>max</th>\n",
       "      <td>0.000036</td>\n",
       "      <td>0.000106</td>\n",
       "    </tr>\n",
       "    <tr>\n",
       "      <th>min</th>\n",
       "      <td>0.000005</td>\n",
       "      <td>0.000056</td>\n",
       "    </tr>\n",
       "  </tbody>\n",
       "</table>\n",
       "</div>"
      ],
      "text/plain": [
       "       atom_validate  atom_validator\n",
       "count       8.000000        2.000000\n",
       "mean        0.000014        0.000081\n",
       "sum         0.000113        0.000162\n",
       "max         0.000036        0.000106\n",
       "min         0.000005        0.000056"
      ]
     },
     "execution_count": 307,
     "metadata": {},
     "output_type": "execute_result"
    }
   ],
   "source": [
    "clock.stats()"
   ]
  },
  {
   "cell_type": "code",
   "execution_count": 240,
   "metadata": {},
   "outputs": [],
   "source": [
    "clock.reset()\n",
    "for i in range(100):\n",
    "    try:\n",
    "        atom_validator(boiling1, boiling2)\n",
    "    except:\n",
    "        pass"
   ]
  },
  {
   "cell_type": "code",
   "execution_count": 86,
   "metadata": {},
   "outputs": [
    {
     "data": {
      "text/html": [
       "<div>\n",
       "<style scoped>\n",
       "    .dataframe tbody tr th:only-of-type {\n",
       "        vertical-align: middle;\n",
       "    }\n",
       "\n",
       "    .dataframe tbody tr th {\n",
       "        vertical-align: top;\n",
       "    }\n",
       "\n",
       "    .dataframe thead th {\n",
       "        text-align: right;\n",
       "    }\n",
       "</style>\n",
       "<table border=\"1\" class=\"dataframe\">\n",
       "  <thead>\n",
       "    <tr style=\"text-align: right;\">\n",
       "      <th></th>\n",
       "      <th>atom_validate</th>\n",
       "      <th>atom_validator</th>\n",
       "    </tr>\n",
       "  </thead>\n",
       "  <tbody>\n",
       "    <tr>\n",
       "      <th>count</th>\n",
       "      <td>106.000000</td>\n",
       "      <td>1.000000</td>\n",
       "    </tr>\n",
       "    <tr>\n",
       "      <th>mean</th>\n",
       "      <td>0.000235</td>\n",
       "      <td>0.025246</td>\n",
       "    </tr>\n",
       "    <tr>\n",
       "      <th>sum</th>\n",
       "      <td>0.024867</td>\n",
       "      <td>0.025246</td>\n",
       "    </tr>\n",
       "    <tr>\n",
       "      <th>max</th>\n",
       "      <td>0.000448</td>\n",
       "      <td>0.025246</td>\n",
       "    </tr>\n",
       "    <tr>\n",
       "      <th>min</th>\n",
       "      <td>0.000078</td>\n",
       "      <td>0.025246</td>\n",
       "    </tr>\n",
       "  </tbody>\n",
       "</table>\n",
       "</div>"
      ],
      "text/plain": [
       "       atom_validate  atom_validator\n",
       "count     106.000000        1.000000\n",
       "mean        0.000235        0.025246\n",
       "sum         0.024867        0.025246\n",
       "max         0.000448        0.025246\n",
       "min         0.000078        0.025246"
      ]
     },
     "execution_count": 86,
     "metadata": {},
     "output_type": "execute_result"
    }
   ],
   "source": [
    "clock.stats()"
   ]
  },
  {
   "cell_type": "code",
   "execution_count": 426,
   "metadata": {},
   "outputs": [
    {
     "name": "stdout",
     "output_type": "stream",
     "text": [
      "termizator 1 (5,11]\n",
      "pouring_name 1 (11,32]\n",
      "pouring_and_fermenting 2 (5,13]\n",
      "soldification 2 (13,20]\n",
      "cutting 2 (20,27]\n",
      "pouring_off 2 (27,30]\n",
      "extra 2 (30,31]\n",
      "melting_label 5 (8,11]\n",
      "melting_name 5 (11,39]\n",
      "serving 6 (8,14]\n",
      "melting_process 6 (14,39]\n",
      "cooling1 7 (14,19]\n",
      "cooling2 7 (19,29]\n",
      "packing_label 8 (29,32]\n",
      "packing_name 8 (32,49]\n",
      "packing_brand 9 (29,49]\n",
      "configuration 10 (32,33]\n",
      "configuration 10 (38,39]\n"
     ]
    }
   ],
   "source": [
    "work_book, sheet = init_sheet()\n",
    "# work_book, sheet = init_template_sheet()\n",
    "# update styles\n",
    "for b in root:\n",
    "    if b['class'] in style:\n",
    "        b.local_props.update(style[b['class']])\n",
    "\n",
    "root.update_props()\n",
    "    \n",
    "draw(sheet, root)\n",
    "work_book.save('output.xlsx')"
   ]
  }
 ],
 "metadata": {
  "kernelspec": {
   "display_name": "Python 3",
   "language": "python",
   "name": "python3"
  },
  "language_info": {
   "codemirror_mode": {
    "name": "ipython",
    "version": 3
   },
   "file_extension": ".py",
   "mimetype": "text/x-python",
   "name": "python",
   "nbconvert_exporter": "python",
   "pygments_lexer": "ipython3",
   "version": "3.8.5"
  }
 },
 "nbformat": 4,
 "nbformat_minor": 4
}

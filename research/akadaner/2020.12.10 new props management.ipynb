{
 "cells": [
  {
   "cell_type": "code",
   "execution_count": 129,
   "metadata": {},
   "outputs": [],
   "source": [
    "def _cast_values(parent, child, key):\n",
    "    if not parent:\n",
    "        pv = None\n",
    "    else:\n",
    "        pv = parent[key]\n",
    "\n",
    "    v = child.relative_props.get(key)\n",
    "    return pv, v\n",
    "\n",
    "def t_acc(parent, child, key):\n",
    "    pv, v = _cast_values(parent, child, key)\n",
    "    pv = pv if pv else 0\n",
    "    v = v if v else 0\n",
    "    return pv + v\n",
    "\n",
    "def size_acc(parent, child, key):\n",
    "    size, time_size = child.relative_props.get('size', 0), child.relative_props.get('time_size', 0)\n",
    "    size, time_size = int(size), int(time_size)\n",
    "    if size:\n",
    "        return int(size)\n",
    "    else:\n",
    "        assert time_size % 5 == 0\n",
    "        return time_size // 5\n",
    "\n",
    "def time_size_acc(parent, child, key):\n",
    "    size, time_size = child.relative_props.get('size', 0), child.relative_props.get('time_size', 0)\n",
    "    size, time_size = int(size), int(time_size)\n",
    "    if size:\n",
    "        return size * 5\n",
    "    else:\n",
    "        return time_size"
   ]
  },
  {
   "cell_type": "code",
   "execution_count": 130,
   "metadata": {},
   "outputs": [],
   "source": [
    "DYNAMIC_ACCUMULATORS = {'t': t_acc}\n",
    "STATIC_ACCUMULATORS = {'size': size_acc, 'time_size': time_size_acc}"
   ]
  },
  {
   "cell_type": "code",
   "execution_count": 131,
   "metadata": {},
   "outputs": [],
   "source": [
    "class Props:\n",
    "    def __init__(self, dynamic_accumulators=None, dynamic_keys=None, \n",
    "                       static_accumulators=None, required_static_keys=None):\n",
    "\n",
    "        self.relative_props = {}\n",
    "        self.static_props = {}\n",
    "\n",
    "        self.dynamic_accumulators = dynamic_accumulators or {}\n",
    "        # use accumulator keys as default dynamic keys\n",
    "        self.dynamic_keys = dynamic_keys or list(self.dynamic_accumulators.keys())\n",
    "        \n",
    "        self.static_accumulators = static_accumulators\n",
    "        self.required_static_keys = required_static_keys or []\n",
    "        \n",
    "        self.parent = None\n",
    "        self.children = []\n",
    "    \n",
    "    def update(self, props):\n",
    "        self.relative_props.update(props)\n",
    "        \n",
    "    @staticmethod\n",
    "    def default_static_accumulator(parent, child, key):\n",
    "        pv, v = _cast_values(parent, child, key)\n",
    "        return v if v is not None else pv\n",
    "        \n",
    "        if v is not None:\n",
    "            return v\n",
    "        else:\n",
    "            return pv\n",
    "        \n",
    "    def accumulate_static(self, recursive=False):\n",
    "        self.static_props = {}\n",
    "        \n",
    "        parent_static_props = {} if not self.parent else self.parent.static_props\n",
    "        \n",
    "        keys = list(parent_static_props.keys()) + list(self.relative_props.keys()) + self.required_static_keys\n",
    "        keys = set(keys)\n",
    "        keys = [key for key in keys if key not in self.dynamic_keys]\n",
    "        \n",
    "        for key in keys:\n",
    "            accumulator = self.static_accumulators.get(key, self.default_static_accumulator)\n",
    "            self.static_props[key] = accumulator(self.parent, self, key)\n",
    "        \n",
    "        if recursive:\n",
    "            for child in self.children:\n",
    "                child.accumulate_static(recursive=recursive)\n",
    "    \n",
    "    def add_child(self, child):\n",
    "        self.children.append(child)\n",
    "        child.parent = self\n",
    "        \n",
    "    def __getitem__(self, item):\n",
    "        if item in self.dynamic_keys:\n",
    "            return self.dynamic_accumulators[item](self.parent, self, item)\n",
    "        else:\n",
    "            return self.static_props.get(item)"
   ]
  },
  {
   "cell_type": "code",
   "execution_count": 132,
   "metadata": {},
   "outputs": [],
   "source": [
    "def gen_props():\n",
    "    return Props(dynamic_accumulators=DYNAMIC_ACCUMULATORS, \n",
    "                 static_accumulators=STATIC_ACCUMULATORS,\n",
    "                required_static_keys=['size', 'time_size'])"
   ]
  },
  {
   "cell_type": "code",
   "execution_count": 133,
   "metadata": {},
   "outputs": [],
   "source": [
    "root = gen_props()\n",
    "child = gen_props()\n",
    "root.add_child(child)"
   ]
  },
  {
   "cell_type": "code",
   "execution_count": 134,
   "metadata": {},
   "outputs": [],
   "source": []
  },
  {
   "cell_type": "code",
   "execution_count": 135,
   "metadata": {},
   "outputs": [
    {
     "data": {
      "text/plain": [
       "1"
      ]
     },
     "execution_count": 135,
     "metadata": {},
     "output_type": "execute_result"
    }
   ],
   "source": [
    "root['t']"
   ]
  },
  {
   "cell_type": "code",
   "execution_count": 136,
   "metadata": {},
   "outputs": [
    {
     "data": {
      "text/plain": [
       "3"
      ]
     },
     "execution_count": 136,
     "metadata": {},
     "output_type": "execute_result"
    }
   ],
   "source": [
    "child['t']"
   ]
  },
  {
   "cell_type": "code",
   "execution_count": 140,
   "metadata": {},
   "outputs": [],
   "source": [
    "root.accumulate_static(recursive=True)"
   ]
  },
  {
   "cell_type": "code",
   "execution_count": 141,
   "metadata": {},
   "outputs": [
    {
     "data": {
      "text/plain": [
       "({'time_size': 25, 'size': 5}, {'time_size': 0, 'size': 0})"
      ]
     },
     "execution_count": 141,
     "metadata": {},
     "output_type": "execute_result"
    }
   ],
   "source": [
    "root.static_props, child.static_props"
   ]
  },
  {
   "cell_type": "code",
   "execution_count": 142,
   "metadata": {},
   "outputs": [
    {
     "data": {
      "text/plain": [
       "1"
      ]
     },
     "execution_count": 142,
     "metadata": {},
     "output_type": "execute_result"
    }
   ],
   "source": [
    "root['t']"
   ]
  },
  {
   "cell_type": "code",
   "execution_count": 143,
   "metadata": {},
   "outputs": [
    {
     "data": {
      "text/plain": [
       "3"
      ]
     },
     "execution_count": 143,
     "metadata": {},
     "output_type": "execute_result"
    }
   ],
   "source": [
    "child['t']"
   ]
  }
 ],
 "metadata": {
  "kernelspec": {
   "display_name": "Python 3",
   "language": "python",
   "name": "python3"
  },
  "language_info": {
   "codemirror_mode": {
    "name": "ipython",
    "version": 3
   },
   "file_extension": ".py",
   "mimetype": "text/x-python",
   "name": "python",
   "nbconvert_exporter": "python",
   "pygments_lexer": "ipython3",
   "version": "3.8.5"
  }
 },
 "nbformat": 4,
 "nbformat_minor": 4
}

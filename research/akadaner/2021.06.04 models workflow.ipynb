{
 "cells": [
  {
   "cell_type": "code",
   "execution_count": 1,
   "metadata": {},
   "outputs": [],
   "source": [
    "import sys\n",
    "sys.path.append('/Users/arsenijkadaner/Yandex.Disk.localized/master/code/git/2020.10-umalat/umalat')"
   ]
  },
  {
   "cell_type": "code",
   "execution_count": 2,
   "metadata": {},
   "outputs": [
    {
     "name": "stderr",
     "output_type": "stream",
     "text": [
      "2021-07-12 16:36:17.827 | INFO     | app.db:create_external_db:7 - Creating database session outside of the app.\n",
      "2021-07-12 16:36:18.313 | WARNING  | utils_ak.interactive_imports:<module>:67 - Utils AK Interactive Imports has been imported\n"
     ]
    }
   ],
   "source": [
    "from app.imports.runtime import *\n",
    "from utils_ak.interactive_imports import *"
   ]
  },
  {
   "cell_type": "code",
   "execution_count": 3,
   "metadata": {},
   "outputs": [],
   "source": [
    "from app.models import *"
   ]
  },
  {
   "cell_type": "code",
   "execution_count": 4,
   "metadata": {},
   "outputs": [
    {
     "data": {
      "text/html": [
       "<div>\n",
       "<style scoped>\n",
       "    .dataframe tbody tr th:only-of-type {\n",
       "        vertical-align: middle;\n",
       "    }\n",
       "\n",
       "    .dataframe tbody tr th {\n",
       "        vertical-align: top;\n",
       "    }\n",
       "\n",
       "    .dataframe thead th {\n",
       "        text-align: right;\n",
       "    }\n",
       "</style>\n",
       "<table border=\"1\" class=\"dataframe\">\n",
       "  <thead>\n",
       "    <tr style=\"text-align: right;\">\n",
       "      <th></th>\n",
       "      <th>model</th>\n",
       "    </tr>\n",
       "  </thead>\n",
       "  <tbody>\n",
       "    <tr>\n",
       "      <th>0</th>\n",
       "      <td>&lt;MozzarellaSKU 11&gt;</td>\n",
       "    </tr>\n",
       "    <tr>\n",
       "      <th>1</th>\n",
       "      <td>&lt;MozzarellaSKU 12&gt;</td>\n",
       "    </tr>\n",
       "    <tr>\n",
       "      <th>2</th>\n",
       "      <td>&lt;MozzarellaSKU 13&gt;</td>\n",
       "    </tr>\n",
       "    <tr>\n",
       "      <th>3</th>\n",
       "      <td>&lt;MozzarellaSKU 14&gt;</td>\n",
       "    </tr>\n",
       "    <tr>\n",
       "      <th>4</th>\n",
       "      <td>&lt;MozzarellaSKU 15&gt;</td>\n",
       "    </tr>\n",
       "    <tr>\n",
       "      <th>...</th>\n",
       "      <td>...</td>\n",
       "    </tr>\n",
       "    <tr>\n",
       "      <th>67</th>\n",
       "      <td>&lt;MozzarellaSKU 78&gt;</td>\n",
       "    </tr>\n",
       "    <tr>\n",
       "      <th>68</th>\n",
       "      <td>&lt;MozzarellaSKU 79&gt;</td>\n",
       "    </tr>\n",
       "    <tr>\n",
       "      <th>69</th>\n",
       "      <td>&lt;MozzarellaSKU 80&gt;</td>\n",
       "    </tr>\n",
       "    <tr>\n",
       "      <th>70</th>\n",
       "      <td>&lt;MozzarellaSKU 81&gt;</td>\n",
       "    </tr>\n",
       "    <tr>\n",
       "      <th>71</th>\n",
       "      <td>&lt;MozzarellaSKU 82&gt;</td>\n",
       "    </tr>\n",
       "  </tbody>\n",
       "</table>\n",
       "<p>72 rows × 1 columns</p>\n",
       "</div>"
      ],
      "text/plain": [
       "                 model\n",
       "0   <MozzarellaSKU 11>\n",
       "1   <MozzarellaSKU 12>\n",
       "2   <MozzarellaSKU 13>\n",
       "3   <MozzarellaSKU 14>\n",
       "4   <MozzarellaSKU 15>\n",
       "..                 ...\n",
       "67  <MozzarellaSKU 78>\n",
       "68  <MozzarellaSKU 79>\n",
       "69  <MozzarellaSKU 80>\n",
       "70  <MozzarellaSKU 81>\n",
       "71  <MozzarellaSKU 82>\n",
       "\n",
       "[72 rows x 1 columns]"
      ]
     },
     "execution_count": 4,
     "metadata": {},
     "output_type": "execute_result"
    }
   ],
   "source": [
    "models = fetch_all(MozzarellaSKU)\n",
    "df = pd.DataFrame(models, columns=['model'])\n",
    "df"
   ]
  },
  {
   "cell_type": "code",
   "execution_count": 7,
   "metadata": {},
   "outputs": [
    {
     "data": {
      "text/html": [
       "<div>\n",
       "<style scoped>\n",
       "    .dataframe tbody tr th:only-of-type {\n",
       "        vertical-align: middle;\n",
       "    }\n",
       "\n",
       "    .dataframe tbody tr th {\n",
       "        vertical-align: top;\n",
       "    }\n",
       "\n",
       "    .dataframe thead th {\n",
       "        text-align: right;\n",
       "    }\n",
       "</style>\n",
       "<table border=\"1\" class=\"dataframe\">\n",
       "  <thead>\n",
       "    <tr style=\"text-align: right;\">\n",
       "      <th></th>\n",
       "      <th>model</th>\n",
       "      <th>packer</th>\n",
       "      <th>name</th>\n",
       "    </tr>\n",
       "  </thead>\n",
       "  <tbody>\n",
       "    <tr>\n",
       "      <th>3</th>\n",
       "      <td>&lt;MozzarellaSKU 14&gt;</td>\n",
       "      <td>Мультиголова</td>\n",
       "      <td>Моцарелла \"Unagrande\", 45%, 0,12 кг, ф/п (кубики)</td>\n",
       "    </tr>\n",
       "    <tr>\n",
       "      <th>7</th>\n",
       "      <td>&lt;MozzarellaSKU 18&gt;</td>\n",
       "      <td>Мультиголова</td>\n",
       "      <td>Моцарелла в воде Фиор Ди Латте без лактозы \"Unagrande\", 45%, 0,125 кг, ф/п, (8 шт)</td>\n",
       "    </tr>\n",
       "    <tr>\n",
       "      <th>21</th>\n",
       "      <td>&lt;MozzarellaSKU 32&gt;</td>\n",
       "      <td>Мультиголова</td>\n",
       "      <td>Сулугуни \"Умалат\" (для хачапури), 45%, 0,12 кг, ф/п</td>\n",
       "    </tr>\n",
       "    <tr>\n",
       "      <th>24</th>\n",
       "      <td>&lt;MozzarellaSKU 35&gt;</td>\n",
       "      <td>Мультиголова</td>\n",
       "      <td>Сулугуни кубики \"ВкусВилл\", 45%, 0,12 кг, ф/п</td>\n",
       "    </tr>\n",
       "    <tr>\n",
       "      <th>40</th>\n",
       "      <td>&lt;MozzarellaSKU 51&gt;</td>\n",
       "      <td>Мультиголова</td>\n",
       "      <td>Моцарелла Фиор ди латте в воде \"Unagrande\", 50%, 0,125/0,225 кг, ф/п, (8 шт)</td>\n",
       "    </tr>\n",
       "    <tr>\n",
       "      <th>41</th>\n",
       "      <td>&lt;MozzarellaSKU 52&gt;</td>\n",
       "      <td>Мультиголова</td>\n",
       "      <td>Моцарелла в воде Фиор Ди Латте без лактозы “Unagrande\", 45%, 0,125/0,225 кг, ф/п, (8 шт)</td>\n",
       "    </tr>\n",
       "    <tr>\n",
       "      <th>42</th>\n",
       "      <td>&lt;MozzarellaSKU 53&gt;</td>\n",
       "      <td>Мультиголова</td>\n",
       "      <td>Моцарелла Фиор Ди Латте в воде \"Pretto\", 45%, 0,125/0,225 кг, ф/п, (8 шт)</td>\n",
       "    </tr>\n",
       "    <tr>\n",
       "      <th>43</th>\n",
       "      <td>&lt;MozzarellaSKU 54&gt;</td>\n",
       "      <td>Мультиголова</td>\n",
       "      <td>Моцарелла Фиор Ди Латте в воде \"Pretto\", 45%, 0,1/0,18 кг, ф/п, (8 шт)</td>\n",
       "    </tr>\n",
       "    <tr>\n",
       "      <th>44</th>\n",
       "      <td>&lt;MozzarellaSKU 55&gt;</td>\n",
       "      <td>Мультиголова</td>\n",
       "      <td>Моцарелла Фиор ди Латте в воде \"Ваш выбор\", 50%, 0,1/0,18 кг, ф/п</td>\n",
       "    </tr>\n",
       "    <tr>\n",
       "      <th>45</th>\n",
       "      <td>&lt;MozzarellaSKU 56&gt;</td>\n",
       "      <td>Мультиголова</td>\n",
       "      <td>Моцарелла Фиор ди Латте в воде \"Красная птица\", 45%, 0,125/0,225 кг, ф/п</td>\n",
       "    </tr>\n",
       "    <tr>\n",
       "      <th>46</th>\n",
       "      <td>&lt;MozzarellaSKU 57&gt;</td>\n",
       "      <td>Мультиголова</td>\n",
       "      <td>Моцарелла Фиор ди латте в воде \"Fine Life\", 45%, 0,125/0,225 кг, ф/п</td>\n",
       "    </tr>\n",
       "    <tr>\n",
       "      <th>47</th>\n",
       "      <td>&lt;MozzarellaSKU 58&gt;</td>\n",
       "      <td>Мультиголова</td>\n",
       "      <td>Моцарелла в воде Фиор ди Латте \"Aventino\", 45%, 0,1/0,18 кг, ф/п</td>\n",
       "    </tr>\n",
       "    <tr>\n",
       "      <th>48</th>\n",
       "      <td>&lt;MozzarellaSKU 59&gt;</td>\n",
       "      <td>Мультиголова</td>\n",
       "      <td>Моцарелла в воде Фиор Ди Латте \"Orecchio Oro\", 45%, 0,1/0,18 кг, ф/п</td>\n",
       "    </tr>\n",
       "    <tr>\n",
       "      <th>49</th>\n",
       "      <td>&lt;MozzarellaSKU 60&gt;</td>\n",
       "      <td>Мультиголова</td>\n",
       "      <td>Моцарелла в воде Фиор Ди Латте \"Каждый день\", 45%, 0,1/0,18 кг, ф/п</td>\n",
       "    </tr>\n",
       "    <tr>\n",
       "      <th>50</th>\n",
       "      <td>&lt;MozzarellaSKU 61&gt;</td>\n",
       "      <td>Мультиголова</td>\n",
       "      <td>Моцарелла в воде Фиор Ди Латте без лактозы \"Красная птица\", 45%, 0,125/0,225 кг, ф/п</td>\n",
       "    </tr>\n",
       "    <tr>\n",
       "      <th>51</th>\n",
       "      <td>&lt;MozzarellaSKU 62&gt;</td>\n",
       "      <td>Мультиголова</td>\n",
       "      <td>Моцарелла в воде Фиор Ди Латте без лактозы \"ВкусВилл\", 45%, 0,125/0,225 кг, ф/п (8 шт)</td>\n",
       "    </tr>\n",
       "    <tr>\n",
       "      <th>52</th>\n",
       "      <td>&lt;MozzarellaSKU 63&gt;</td>\n",
       "      <td>Мультиголова</td>\n",
       "      <td>Моцарелла сердечки в воде \"Unagrande\", 45%, 0,125/0,225 кг, ф/п, (8 шт)</td>\n",
       "    </tr>\n",
       "    <tr>\n",
       "      <th>54</th>\n",
       "      <td>&lt;MozzarellaSKU 65&gt;</td>\n",
       "      <td>Мультиголова</td>\n",
       "      <td>Моцарелла Чильеджина в воде \"Unagrande\", 50%, 0,125/0,225 кг, ф/п, (8 шт)</td>\n",
       "    </tr>\n",
       "    <tr>\n",
       "      <th>55</th>\n",
       "      <td>&lt;MozzarellaSKU 66&gt;</td>\n",
       "      <td>Мультиголова</td>\n",
       "      <td>Моцарелла в воде Чильеджина без лактозы \"Unagrande\", 45%, 0,125/0,225 кг, ф/п</td>\n",
       "    </tr>\n",
       "    <tr>\n",
       "      <th>56</th>\n",
       "      <td>&lt;MozzarellaSKU 67&gt;</td>\n",
       "      <td>Мультиголова</td>\n",
       "      <td>Моцарелла Чильеджина в воде \"Pretto\", 45%, 0,1/0,18 кг, ф/п, (8 шт)</td>\n",
       "    </tr>\n",
       "    <tr>\n",
       "      <th>57</th>\n",
       "      <td>&lt;MozzarellaSKU 68&gt;</td>\n",
       "      <td>Мультиголова</td>\n",
       "      <td>Моцарелла в воде Чильеджина \"Aventino\", 45%, 0,1/0,18 кг, ф/п</td>\n",
       "    </tr>\n",
       "    <tr>\n",
       "      <th>58</th>\n",
       "      <td>&lt;MozzarellaSKU 69&gt;</td>\n",
       "      <td>Мультиголова</td>\n",
       "      <td>Моцарелла Чильеджина в воде \"Fine Life\", 45%, 0,125/0,225 кг, ф/п</td>\n",
       "    </tr>\n",
       "    <tr>\n",
       "      <th>59</th>\n",
       "      <td>&lt;MozzarellaSKU 70&gt;</td>\n",
       "      <td>Мультиголова</td>\n",
       "      <td>Моцарелла в воде Чильеджина \"Каждый день\", 45%, 0,1/0,18 кг, ф/п</td>\n",
       "    </tr>\n",
       "    <tr>\n",
       "      <th>60</th>\n",
       "      <td>&lt;MozzarellaSKU 71&gt;</td>\n",
       "      <td>Мультиголова</td>\n",
       "      <td>Моцарелла в воде Чильеджина без лактозы \"Красная птица\", 45%, 0,125/0,225 кг, ф/п</td>\n",
       "    </tr>\n",
       "    <tr>\n",
       "      <th>61</th>\n",
       "      <td>&lt;MozzarellaSKU 72&gt;</td>\n",
       "      <td>Мультиголова</td>\n",
       "      <td>Моцарелла в воде Чильеджина \"Orecchio Oro\", 45%, 0,1/0,18 кг, ф/п</td>\n",
       "    </tr>\n",
       "    <tr>\n",
       "      <th>62</th>\n",
       "      <td>&lt;MozzarellaSKU 73&gt;</td>\n",
       "      <td>Мультиголова</td>\n",
       "      <td>Моцарелла Чильеджина в воде \"Ваш выбор\", 50%, 0,1/0,18 кг, ф/п</td>\n",
       "    </tr>\n",
       "    <tr>\n",
       "      <th>63</th>\n",
       "      <td>&lt;MozzarellaSKU 74&gt;</td>\n",
       "      <td>Мультиголова</td>\n",
       "      <td>Моцарелла Чильеджина в воде \"Красная птица\", 45%, 0,125/0,225 кг, ф/п</td>\n",
       "    </tr>\n",
       "    <tr>\n",
       "      <th>66</th>\n",
       "      <td>&lt;MozzarellaSKU 77&gt;</td>\n",
       "      <td>Мультиголова</td>\n",
       "      <td>Моцарелла в воде Фиор Ди Латте \"Metro Chef\" 45%, 0,125/0,225 кг, ф/п</td>\n",
       "    </tr>\n",
       "    <tr>\n",
       "      <th>67</th>\n",
       "      <td>&lt;MozzarellaSKU 78&gt;</td>\n",
       "      <td>Мультиголова</td>\n",
       "      <td>Моцарелла в воде Чильеджина \"Metro Chef\" 45%, 0,125/0,225 кг, ф/п</td>\n",
       "    </tr>\n",
       "  </tbody>\n",
       "</table>\n",
       "</div>"
      ],
      "text/plain": [
       "                 model        packer  \\\n",
       "3   <MozzarellaSKU 14>  Мультиголова   \n",
       "7   <MozzarellaSKU 18>  Мультиголова   \n",
       "21  <MozzarellaSKU 32>  Мультиголова   \n",
       "24  <MozzarellaSKU 35>  Мультиголова   \n",
       "40  <MozzarellaSKU 51>  Мультиголова   \n",
       "41  <MozzarellaSKU 52>  Мультиголова   \n",
       "42  <MozzarellaSKU 53>  Мультиголова   \n",
       "43  <MozzarellaSKU 54>  Мультиголова   \n",
       "44  <MozzarellaSKU 55>  Мультиголова   \n",
       "45  <MozzarellaSKU 56>  Мультиголова   \n",
       "46  <MozzarellaSKU 57>  Мультиголова   \n",
       "47  <MozzarellaSKU 58>  Мультиголова   \n",
       "48  <MozzarellaSKU 59>  Мультиголова   \n",
       "49  <MozzarellaSKU 60>  Мультиголова   \n",
       "50  <MozzarellaSKU 61>  Мультиголова   \n",
       "51  <MozzarellaSKU 62>  Мультиголова   \n",
       "52  <MozzarellaSKU 63>  Мультиголова   \n",
       "54  <MozzarellaSKU 65>  Мультиголова   \n",
       "55  <MozzarellaSKU 66>  Мультиголова   \n",
       "56  <MozzarellaSKU 67>  Мультиголова   \n",
       "57  <MozzarellaSKU 68>  Мультиголова   \n",
       "58  <MozzarellaSKU 69>  Мультиголова   \n",
       "59  <MozzarellaSKU 70>  Мультиголова   \n",
       "60  <MozzarellaSKU 71>  Мультиголова   \n",
       "61  <MozzarellaSKU 72>  Мультиголова   \n",
       "62  <MozzarellaSKU 73>  Мультиголова   \n",
       "63  <MozzarellaSKU 74>  Мультиголова   \n",
       "66  <MozzarellaSKU 77>  Мультиголова   \n",
       "67  <MozzarellaSKU 78>  Мультиголова   \n",
       "\n",
       "                                                                                        name  \n",
       "3                                          Моцарелла \"Unagrande\", 45%, 0,12 кг, ф/п (кубики)  \n",
       "7         Моцарелла в воде Фиор Ди Латте без лактозы \"Unagrande\", 45%, 0,125 кг, ф/п, (8 шт)  \n",
       "21                                       Сулугуни \"Умалат\" (для хачапури), 45%, 0,12 кг, ф/п  \n",
       "24                                             Сулугуни кубики \"ВкусВилл\", 45%, 0,12 кг, ф/п  \n",
       "40              Моцарелла Фиор ди латте в воде \"Unagrande\", 50%, 0,125/0,225 кг, ф/п, (8 шт)  \n",
       "41  Моцарелла в воде Фиор Ди Латте без лактозы “Unagrande\", 45%, 0,125/0,225 кг, ф/п, (8 шт)  \n",
       "42                 Моцарелла Фиор Ди Латте в воде \"Pretto\", 45%, 0,125/0,225 кг, ф/п, (8 шт)  \n",
       "43                    Моцарелла Фиор Ди Латте в воде \"Pretto\", 45%, 0,1/0,18 кг, ф/п, (8 шт)  \n",
       "44                         Моцарелла Фиор ди Латте в воде \"Ваш выбор\", 50%, 0,1/0,18 кг, ф/п  \n",
       "45                  Моцарелла Фиор ди Латте в воде \"Красная птица\", 45%, 0,125/0,225 кг, ф/п  \n",
       "46                      Моцарелла Фиор ди латте в воде \"Fine Life\", 45%, 0,125/0,225 кг, ф/п  \n",
       "47                          Моцарелла в воде Фиор ди Латте \"Aventino\", 45%, 0,1/0,18 кг, ф/п  \n",
       "48                      Моцарелла в воде Фиор Ди Латте \"Orecchio Oro\", 45%, 0,1/0,18 кг, ф/п  \n",
       "49                       Моцарелла в воде Фиор Ди Латте \"Каждый день\", 45%, 0,1/0,18 кг, ф/п  \n",
       "50      Моцарелла в воде Фиор Ди Латте без лактозы \"Красная птица\", 45%, 0,125/0,225 кг, ф/п  \n",
       "51    Моцарелла в воде Фиор Ди Латте без лактозы \"ВкусВилл\", 45%, 0,125/0,225 кг, ф/п (8 шт)  \n",
       "52                   Моцарелла сердечки в воде \"Unagrande\", 45%, 0,125/0,225 кг, ф/п, (8 шт)  \n",
       "54                 Моцарелла Чильеджина в воде \"Unagrande\", 50%, 0,125/0,225 кг, ф/п, (8 шт)  \n",
       "55             Моцарелла в воде Чильеджина без лактозы \"Unagrande\", 45%, 0,125/0,225 кг, ф/п  \n",
       "56                       Моцарелла Чильеджина в воде \"Pretto\", 45%, 0,1/0,18 кг, ф/п, (8 шт)  \n",
       "57                             Моцарелла в воде Чильеджина \"Aventino\", 45%, 0,1/0,18 кг, ф/п  \n",
       "58                         Моцарелла Чильеджина в воде \"Fine Life\", 45%, 0,125/0,225 кг, ф/п  \n",
       "59                          Моцарелла в воде Чильеджина \"Каждый день\", 45%, 0,1/0,18 кг, ф/п  \n",
       "60         Моцарелла в воде Чильеджина без лактозы \"Красная птица\", 45%, 0,125/0,225 кг, ф/п  \n",
       "61                         Моцарелла в воде Чильеджина \"Orecchio Oro\", 45%, 0,1/0,18 кг, ф/п  \n",
       "62                            Моцарелла Чильеджина в воде \"Ваш выбор\", 50%, 0,1/0,18 кг, ф/п  \n",
       "63                     Моцарелла Чильеджина в воде \"Красная птица\", 45%, 0,125/0,225 кг, ф/п  \n",
       "66                      Моцарелла в воде Фиор Ди Латте \"Metro Chef\" 45%, 0,125/0,225 кг, ф/п  \n",
       "67                         Моцарелла в воде Чильеджина \"Metro Chef\" 45%, 0,125/0,225 кг, ф/п  "
      ]
     },
     "execution_count": 7,
     "metadata": {},
     "output_type": "execute_result"
    }
   ],
   "source": [
    "df['packer'] = df['model'].apply(lambda sku: sku.packers[0].name)\n",
    "df['name'] = df['model'].apply(lambda sku: sku.name)\n",
    "df[df['packer'] == 'Мультиголова']"
   ]
  },
  {
   "cell_type": "code",
   "execution_count": 12,
   "metadata": {},
   "outputs": [],
   "source": [
    "skus = []\n",
    "for i in range(200):\n",
    "    try:\n",
    "        skus.append(cast_model(MozzarellaSKU, i))\n",
    "    except:\n",
    "        pass"
   ]
  },
  {
   "cell_type": "code",
   "execution_count": 4,
   "metadata": {},
   "outputs": [],
   "source": [
    "washers = []\n",
    "for i in range(30):\n",
    "    try:\n",
    "        washers.append(cast_model(Washer, i))\n",
    "    except:\n",
    "        pass\n",
    "    "
   ]
  },
  {
   "cell_type": "code",
   "execution_count": 5,
   "metadata": {},
   "outputs": [
    {
     "ename": "NameError",
     "evalue": "name 'skus' is not defined",
     "output_type": "error",
     "traceback": [
      "\u001b[0;31m---------------------------------------------------------------------------\u001b[0m",
      "\u001b[0;31mNameError\u001b[0m                                 Traceback (most recent call last)",
      "\u001b[0;32m<ipython-input-5-c270e394bb48>\u001b[0m in \u001b[0;36m<module>\u001b[0;34m\u001b[0m\n\u001b[0;32m----> 1\u001b[0;31m \u001b[0mdf\u001b[0m \u001b[0;34m=\u001b[0m \u001b[0mpd\u001b[0m\u001b[0;34m.\u001b[0m\u001b[0mDataFrame\u001b[0m\u001b[0;34m(\u001b[0m\u001b[0mskus\u001b[0m\u001b[0;34m,\u001b[0m \u001b[0mcolumns\u001b[0m\u001b[0;34m=\u001b[0m\u001b[0;34m[\u001b[0m\u001b[0;34m'sku'\u001b[0m\u001b[0;34m]\u001b[0m\u001b[0;34m)\u001b[0m\u001b[0;34m\u001b[0m\u001b[0;34m\u001b[0m\u001b[0m\n\u001b[0m",
      "\u001b[0;31mNameError\u001b[0m: name 'skus' is not defined"
     ]
    }
   ],
   "source": []
  },
  {
   "cell_type": "code",
   "execution_count": 28,
   "metadata": {},
   "outputs": [
    {
     "data": {
      "text/plain": [
       "2                                            Моцарелла \"Unagrande\", 45%, 0,12 кг, ф/п (кубики)\n",
       "6           Моцарелла в воде Фиор Ди Латте без лактозы \"Unagrande\", 45%, 0,125 кг, ф/п, (8 шт)\n",
       "20                                         Сулугуни \"Умалат\" (для хачапури), 45%, 0,12 кг, ф/п\n",
       "23                                               Сулугуни кубики \"ВкусВилл\", 45%, 0,12 кг, ф/п\n",
       "38                Моцарелла Фиор ди латте в воде \"Unagrande\", 50%, 0,125/0,225 кг, ф/п, (8 шт)\n",
       "39    Моцарелла в воде Фиор Ди Латте без лактозы “Unagrande\", 45%, 0,125/0,225 кг, ф/п, (8 шт)\n",
       "40                   Моцарелла Фиор Ди Латте в воде \"Pretto\", 45%, 0,125/0,225 кг, ф/п, (8 шт)\n",
       "41                      Моцарелла Фиор Ди Латте в воде \"Pretto\", 45%, 0,1/0,18 кг, ф/п, (8 шт)\n",
       "42                           Моцарелла Фиор ди Латте в воде \"Ваш выбор\", 50%, 0,1/0,18 кг, ф/п\n",
       "43                    Моцарелла Фиор ди Латте в воде \"Красная птица\", 45%, 0,125/0,225 кг, ф/п\n",
       "44                        Моцарелла Фиор ди латте в воде \"Fine Life\", 45%, 0,125/0,225 кг, ф/п\n",
       "45                            Моцарелла в воде Фиор ди Латте \"Aventino\", 45%, 0,1/0,18 кг, ф/п\n",
       "46                        Моцарелла в воде Фиор Ди Латте \"Orecchio Oro\", 45%, 0,1/0,18 кг, ф/п\n",
       "47                         Моцарелла в воде Фиор Ди Латте \"Каждый день\", 45%, 0,1/0,18 кг, ф/п\n",
       "48        Моцарелла в воде Фиор Ди Латте без лактозы \"Красная птица\", 45%, 0,125/0,225 кг, ф/п\n",
       "49      Моцарелла в воде Фиор Ди Латте без лактозы \"ВкусВилл\", 45%, 0,125/0,225 кг, ф/п (8 шт)\n",
       "50                     Моцарелла сердечки в воде \"Unagrande\", 45%, 0,125/0,225 кг, ф/п, (8 шт)\n",
       "52                   Моцарелла Чильеджина в воде \"Unagrande\", 50%, 0,125/0,225 кг, ф/п, (8 шт)\n",
       "53               Моцарелла в воде Чильеджина без лактозы \"Unagrande\", 45%, 0,125/0,225 кг, ф/п\n",
       "54                         Моцарелла Чильеджина в воде \"Pretto\", 45%, 0,1/0,18 кг, ф/п, (8 шт)\n",
       "55                               Моцарелла в воде Чильеджина \"Aventino\", 45%, 0,1/0,18 кг, ф/п\n",
       "56                           Моцарелла Чильеджина в воде \"Fine Life\", 45%, 0,125/0,225 кг, ф/п\n",
       "57                            Моцарелла в воде Чильеджина \"Каждый день\", 45%, 0,1/0,18 кг, ф/п\n",
       "58           Моцарелла в воде Чильеджина без лактозы \"Красная птица\", 45%, 0,125/0,225 кг, ф/п\n",
       "59                           Моцарелла в воде Чильеджина \"Orecchio Oro\", 45%, 0,1/0,18 кг, ф/п\n",
       "60                              Моцарелла Чильеджина в воде \"Ваш выбор\", 50%, 0,1/0,18 кг, ф/п\n",
       "61                       Моцарелла Чильеджина в воде \"Красная птица\", 45%, 0,125/0,225 кг, ф/п\n",
       "64                        Моцарелла в воде Фиор Ди Латте \"Metro Chef\" 45%, 0,125/0,225 кг, ф/п\n",
       "65                           Моцарелла в воде Чильеджина \"Metro Chef\" 45%, 0,125/0,225 кг, ф/п\n",
       "Name: sku, dtype: object"
      ]
     },
     "execution_count": 28,
     "metadata": {},
     "output_type": "execute_result"
    }
   ],
   "source": [
    "df[df['sku'].apply(lambda sku: 'Мультиголова' in sku.packers[0].name)].sku.apply(lambda sku: sku.name)"
   ]
  },
  {
   "cell_type": "code",
   "execution_count": 35,
   "metadata": {},
   "outputs": [
    {
     "data": {
      "text/plain": [
       "40"
      ]
     },
     "execution_count": 35,
     "metadata": {},
     "output_type": "execute_result"
    }
   ],
   "source": [
    "washers[0].time"
   ]
  },
  {
   "cell_type": "code",
   "execution_count": 34,
   "metadata": {},
   "outputs": [
    {
     "data": {
      "text/plain": [
       "80"
      ]
     },
     "execution_count": 34,
     "metadata": {},
     "output_type": "execute_result"
    }
   ],
   "source": [
    "washers[1].time"
   ]
  },
  {
   "cell_type": "code",
   "execution_count": 44,
   "metadata": {},
   "outputs": [
    {
     "data": {
      "text/plain": [
       "8000"
      ]
     },
     "execution_count": 44,
     "metadata": {},
     "output_type": "execute_result"
    }
   ],
   "source": [
    "cast_model(MozzarellaLine, 2).input_ton"
   ]
  },
  {
   "cell_type": "code",
   "execution_count": 47,
   "metadata": {},
   "outputs": [
    {
     "data": {
      "text/plain": [
       "'Моцарелла в воде'"
      ]
     },
     "execution_count": 47,
     "metadata": {},
     "output_type": "execute_result"
    }
   ],
   "source": [
    "cast_model(MozzarellaLine, 2).name"
   ]
  },
  {
   "cell_type": "code",
   "execution_count": 50,
   "metadata": {},
   "outputs": [
    {
     "data": {
      "text/plain": [
       "'0.46'"
      ]
     },
     "execution_count": 50,
     "metadata": {},
     "output_type": "execute_result"
    }
   ],
   "source": []
  },
  {
   "cell_type": "code",
   "execution_count": 31,
   "metadata": {},
   "outputs": [
    {
     "data": {
      "text/html": [
       "<div>\n",
       "<style scoped>\n",
       "    .dataframe tbody tr th:only-of-type {\n",
       "        vertical-align: middle;\n",
       "    }\n",
       "\n",
       "    .dataframe tbody tr th {\n",
       "        vertical-align: top;\n",
       "    }\n",
       "\n",
       "    .dataframe thead th {\n",
       "        text-align: right;\n",
       "    }\n",
       "</style>\n",
       "<table border=\"1\" class=\"dataframe\">\n",
       "  <thead>\n",
       "    <tr style=\"text-align: right;\">\n",
       "      <th></th>\n",
       "      <th>sku</th>\n",
       "    </tr>\n",
       "  </thead>\n",
       "  <tbody>\n",
       "    <tr>\n",
       "      <th>0</th>\n",
       "      <td>&lt;ButterLine 5&gt;</td>\n",
       "    </tr>\n",
       "  </tbody>\n",
       "</table>\n",
       "</div>"
      ],
      "text/plain": [
       "              sku\n",
       "0  <ButterLine 5>"
      ]
     },
     "execution_count": 31,
     "metadata": {},
     "output_type": "execute_result"
    }
   ],
   "source": [
    "skus = fetch_all(ButterLine)\n",
    "df = pd.DataFrame(skus, columns=['sku'])\n",
    "df"
   ]
  },
  {
   "cell_type": "code",
   "execution_count": 33,
   "metadata": {},
   "outputs": [
    {
     "data": {
      "text/plain": [
       "450"
      ]
     },
     "execution_count": 33,
     "metadata": {},
     "output_type": "execute_result"
    }
   ],
   "source": [
    "skus[0].output_ton"
   ]
  },
  {
   "cell_type": "code",
   "execution_count": 30,
   "metadata": {},
   "outputs": [
    {
     "data": {
      "text/plain": [
       "72.5"
      ]
     },
     "execution_count": 30,
     "metadata": {},
     "output_type": "execute_result"
    }
   ],
   "source": [
    "boilings = fetch_all(ButterBoiling)\n",
    "boilings[0].percent"
   ]
  },
  {
   "cell_type": "code",
   "execution_count": 27,
   "metadata": {},
   "outputs": [
    {
     "data": {
      "text/plain": [
       "[<MilkProjectBoiling 3>]"
      ]
     },
     "execution_count": 27,
     "metadata": {},
     "output_type": "execute_result"
    }
   ],
   "source": [
    "skus[2].made_from_boilings"
   ]
  },
  {
   "cell_type": "code",
   "execution_count": 21,
   "metadata": {},
   "outputs": [
    {
     "data": {
      "text/plain": [
       "[]"
      ]
     },
     "execution_count": 21,
     "metadata": {},
     "output_type": "execute_result"
    }
   ],
   "source": [
    "skus[0].made_from_boilings"
   ]
  },
  {
   "cell_type": "code",
   "execution_count": null,
   "metadata": {},
   "outputs": [],
   "source": [
    "boilings = fetch_all(ButterBoiling)"
   ]
  },
  {
   "cell_type": "code",
   "execution_count": 6,
   "metadata": {},
   "outputs": [
    {
     "data": {
      "text/html": [
       "<div>\n",
       "<style scoped>\n",
       "    .dataframe tbody tr th:only-of-type {\n",
       "        vertical-align: middle;\n",
       "    }\n",
       "\n",
       "    .dataframe tbody tr th {\n",
       "        vertical-align: top;\n",
       "    }\n",
       "\n",
       "    .dataframe thead th {\n",
       "        text-align: right;\n",
       "    }\n",
       "</style>\n",
       "<table border=\"1\" class=\"dataframe\">\n",
       "  <thead>\n",
       "    <tr style=\"text-align: right;\">\n",
       "      <th></th>\n",
       "      <th>model</th>\n",
       "    </tr>\n",
       "  </thead>\n",
       "  <tbody>\n",
       "    <tr>\n",
       "      <th>0</th>\n",
       "      <td>&lt;Washer 1&gt;</td>\n",
       "    </tr>\n",
       "    <tr>\n",
       "      <th>1</th>\n",
       "      <td>&lt;Washer 2&gt;</td>\n",
       "    </tr>\n",
       "  </tbody>\n",
       "</table>\n",
       "</div>"
      ],
      "text/plain": [
       "        model\n",
       "0  <Washer 1>\n",
       "1  <Washer 2>"
      ]
     },
     "execution_count": 6,
     "metadata": {},
     "output_type": "execute_result"
    }
   ],
   "source": [
    "models = []\n",
    "for i in range(200):\n",
    "    try:\n",
    "        models.append(cast_model(Washer, i))\n",
    "    except:\n",
    "        pass\n",
    "df = pd.DataFrame(models, columns=['model'])\n",
    "df"
   ]
  },
  {
   "cell_type": "code",
   "execution_count": 9,
   "metadata": {},
   "outputs": [
    {
     "data": {
      "text/plain": [
       "0    [<RicottaAnalysisTechnology 1>]\n",
       "1    [<RicottaAnalysisTechnology 2>]\n",
       "2    [<RicottaAnalysisTechnology 3>]\n",
       "3    [<RicottaAnalysisTechnology 4>]\n",
       "4    [<RicottaAnalysisTechnology 5>]\n",
       "5    [<RicottaAnalysisTechnology 6>]\n",
       "6    [<RicottaAnalysisTechnology 7>]\n",
       "Name: model, dtype: object"
      ]
     },
     "execution_count": 9,
     "metadata": {},
     "output_type": "execute_result"
    }
   ],
   "source": [
    "df['model'].apply(lambda model: model.analysis)"
   ]
  },
  {
   "cell_type": "code",
   "execution_count": 54,
   "metadata": {},
   "outputs": [],
   "source": [
    "df = pd.DataFrame(bffs, columns=['ff'])"
   ]
  },
  {
   "cell_type": "code",
   "execution_count": 55,
   "metadata": {},
   "outputs": [
    {
     "data": {
      "text/plain": [
       "0               Масса\n",
       "1                 0.2\n",
       "2                 1.2\n",
       "3     Терка Моцарелла\n",
       "4       Палочки 15.0г\n",
       "5                0.28\n",
       "6               0.125\n",
       "7                0.46\n",
       "8                0.37\n",
       "9       Палочки 30.0г\n",
       "10     Терка Сулугуни\n",
       "11                0.7\n",
       "12               0.26\n",
       "13       Палочки 7.5г\n",
       "14                0.1\n",
       "15              0.025\n",
       "16                0.2\n",
       "17              0.008\n",
       "Name: ff, dtype: object"
      ]
     },
     "execution_count": 55,
     "metadata": {},
     "output_type": "execute_result"
    }
   ],
   "source": [
    "df['ff'].apply(lambda ff: ff.name)"
   ]
  },
  {
   "cell_type": "code",
   "execution_count": 6,
   "metadata": {},
   "outputs": [
    {
     "data": {
      "text/plain": [
       "<MozzarellaFormFactor 8>"
      ]
     },
     "execution_count": 6,
     "metadata": {},
     "output_type": "execute_result"
    }
   ],
   "source": [
    "cast_model('Соль: 460')"
   ]
  },
  {
   "cell_type": "code",
   "execution_count": 17,
   "metadata": {},
   "outputs": [
    {
     "data": {
      "text/plain": [
       "900"
      ]
     },
     "execution_count": 17,
     "metadata": {},
     "output_type": "execute_result"
    }
   ],
   "source": [
    "cast_model(MozzarellaLine, 2).melting_speed"
   ]
  },
  {
   "cell_type": "code",
   "execution_count": 10,
   "metadata": {},
   "outputs": [
    {
     "data": {
      "text/html": [
       "<div>\n",
       "<style scoped>\n",
       "    .dataframe tbody tr th:only-of-type {\n",
       "        vertical-align: middle;\n",
       "    }\n",
       "\n",
       "    .dataframe tbody tr th {\n",
       "        vertical-align: top;\n",
       "    }\n",
       "\n",
       "    .dataframe thead th {\n",
       "        text-align: right;\n",
       "    }\n",
       "</style>\n",
       "<table border=\"1\" class=\"dataframe\">\n",
       "  <thead>\n",
       "    <tr style=\"text-align: right;\">\n",
       "      <th></th>\n",
       "      <th>model</th>\n",
       "    </tr>\n",
       "  </thead>\n",
       "  <tbody>\n",
       "    <tr>\n",
       "      <th>0</th>\n",
       "      <td>&lt;MilkProjectBoiling 1&gt;</td>\n",
       "    </tr>\n",
       "    <tr>\n",
       "      <th>1</th>\n",
       "      <td>&lt;MilkProjectBoiling 2&gt;</td>\n",
       "    </tr>\n",
       "    <tr>\n",
       "      <th>2</th>\n",
       "      <td>&lt;MilkProjectBoiling 3&gt;</td>\n",
       "    </tr>\n",
       "  </tbody>\n",
       "</table>\n",
       "</div>"
      ],
      "text/plain": [
       "                    model\n",
       "0  <MilkProjectBoiling 1>\n",
       "1  <MilkProjectBoiling 2>\n",
       "2  <MilkProjectBoiling 3>"
      ]
     },
     "execution_count": 10,
     "metadata": {},
     "output_type": "execute_result"
    }
   ],
   "source": [
    "models = fetch_all(MilkProjectBoiling)\n",
    "df = pd.DataFrame(models, columns=['model'])\n",
    "df"
   ]
  },
  {
   "cell_type": "code",
   "execution_count": 12,
   "metadata": {},
   "outputs": [
    {
     "ename": "AttributeError",
     "evalue": "'MilkProjectBoiling' object has no attribute 'name'",
     "output_type": "error",
     "traceback": [
      "\u001b[0;31m---------------------------------------------------------------------------\u001b[0m",
      "\u001b[0;31mAttributeError\u001b[0m                            Traceback (most recent call last)",
      "\u001b[0;32m<ipython-input-12-8752dc8e39f0>\u001b[0m in \u001b[0;36m<module>\u001b[0;34m\u001b[0m\n\u001b[0;32m----> 1\u001b[0;31m \u001b[0mmodels\u001b[0m\u001b[0;34m[\u001b[0m\u001b[0;36m0\u001b[0m\u001b[0;34m]\u001b[0m\u001b[0;34m.\u001b[0m\u001b[0mname\u001b[0m\u001b[0;34m\u001b[0m\u001b[0;34m\u001b[0m\u001b[0m\n\u001b[0m",
      "\u001b[0;31mAttributeError\u001b[0m: 'MilkProjectBoiling' object has no attribute 'name'"
     ]
    }
   ],
   "source": []
  },
  {
   "cell_type": "code",
   "execution_count": null,
   "metadata": {},
   "outputs": [],
   "source": []
  }
 ],
 "metadata": {
  "kernelspec": {
   "display_name": "umalat",
   "language": "python",
   "name": "umalat"
  },
  "language_info": {
   "codemirror_mode": {
    "name": "ipython",
    "version": 3
   },
   "file_extension": ".py",
   "mimetype": "text/x-python",
   "name": "python",
   "nbconvert_exporter": "python",
   "pygments_lexer": "ipython3",
   "version": "3.8.5"
  }
 },
 "nbformat": 4,
 "nbformat_minor": 4
}

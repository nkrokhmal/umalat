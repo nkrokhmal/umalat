{
 "cells": [
  {
   "cell_type": "code",
   "execution_count": 4,
   "metadata": {},
   "source": [
    "import sys\n",
    "sys.path.append('/Users/arsenijkadaner/Yandex.Disk.localized/master/code/git/2020.10-umalat/umalat')\n",
    "from app.imports.runtime import *\n",
    "from app.scheduler.mozzarella import *\n",
    "from app.scheduler.mozzarella.boiling_plan.boiling_plan import (\n",
    "    cast_boiling_plan,\n",
    ")\n"
   ],
   "outputs": []
  },
  {
   "cell_type": "code",
   "execution_count": 36,
   "metadata": {},
   "source": [
    "fn = DebugConfig.abs_path(\n",
    "    \"app/data/static/samples/inputs/mozzarella/2021-02-28 План по варкам.xlsx\"\n",
    ")\n",
    "boiling_plan_df = cast_boiling_plan(fn)\n",
    "start_times = {LineName.WATER: \"02:00\", LineName.SALT: \"06:00\"}\n",
    "\n",
    "boilings = make_boilings(boiling_plan_df, first_group_id=1)\n",
    "schedule = make_schedule_from_boilings(\n",
    "boilings, start_times=start_times\n",
    ")"
   ],
   "outputs": []
  },
  {
   "cell_type": "code",
   "execution_count": 37,
   "metadata": {},
   "source": [
    "boilings = schedule['master']['boiling']\n",
    "boilings = list(sorted(boilings, key=lambda b: b.x[0]))"
   ],
   "outputs": []
  },
  {
   "cell_type": "code",
   "execution_count": 38,
   "metadata": {},
   "source": [
    "boilings[0].props.all()"
   ],
   "outputs": []
  },
  {
   "cell_type": "code",
   "execution_count": 53,
   "metadata": {},
   "source": [
    "values = [[b1['pouring']['first']['termizator'].x[0],\n",
    "           b1['pouring']['first']['termizator'].y[0],\n",
    "          b1.props['boiling_group_df'].iloc[0]['group_id'],\n",
    "          b1.props['boiling_group_df'].iloc[0]['line'].name]\n",
    "          for b1, b2 in iter_pairs(boilings, method='any_suffix')]"
   ],
   "outputs": []
  },
  {
   "cell_type": "code",
   "execution_count": 54,
   "metadata": {},
   "source": [
    "df = pd.DataFrame(values, columns=['x', 'y', 'group_id', 'line_name'])"
   ],
   "outputs": []
  },
  {
   "cell_type": "code",
   "execution_count": 55,
   "metadata": {},
   "source": [
    "df"
   ],
   "outputs": []
  },
  {
   "cell_type": "code",
   "execution_count": 66,
   "metadata": {},
   "source": [
    "df['time_till_next_boiling'] = (df['x'].shift(-1) - df['y']).fillna(0).astype(int)"
   ],
   "outputs": []
  },
  {
   "cell_type": "code",
   "execution_count": 67,
   "metadata": {},
   "source": [
    "df"
   ],
   "outputs": []
  },
  {
   "cell_type": "code",
   "execution_count": 152,
   "metadata": {},
   "source": [
    "df['is_water_done'] = df['line_name']\n",
    "df['is_water_done'] = np.where(df['is_water_done'] == 'Моцарелла в воде', True, np.nan)\n",
    "df['is_water_done'] = df['is_water_done'].fillna(method='bfill')\n",
    "df['is_water_done'] = df['is_water_done'].shift(-1).fillna(0)\n",
    "df['is_water_done'] = df['is_water_done'].astype(bool)\n",
    "df['is_water_done'] = ~df['is_water_done']\n",
    "df"
   ],
   "outputs": []
  },
  {
   "cell_type": "code",
   "execution_count": 76,
   "metadata": {},
   "source": [
    "cast_t('12:00')"
   ],
   "outputs": []
  },
  {
   "cell_type": "code",
   "execution_count": 170,
   "metadata": {},
   "source": [
    "def is_cleaning_combination_fit(cleaning_combination):\n",
    "    separators = [-1] + list(cleaning_combination) + [20]\n",
    "    print(separators)\n",
    "    for s1, s2 in iter_pairs(separators):\n",
    "        group = df.loc[s1 + 1:s2]\n",
    "        \n",
    "        group_length = group.iloc[-1]['y'] - group.iloc[0]['x']\n",
    "        if group_length > cast_t('12:00'):\n",
    "            return False\n",
    "    return True"
   ],
   "outputs": []
  },
  {
   "cell_type": "code",
   "execution_count": 173,
   "metadata": {},
   "source": [
    "is_cleaning_combination_fit([])"
   ],
   "outputs": []
  },
  {
   "cell_type": "code",
   "execution_count": 174,
   "metadata": {},
   "source": [
    "n_cleanings = 0"
   ],
   "outputs": []
  },
  {
   "cell_type": "code",
   "execution_count": 175,
   "metadata": {},
   "source": [
    "list(itertools.combinations(range(3), 2))"
   ],
   "outputs": []
  },
  {
   "cell_type": "code",
   "execution_count": 176,
   "metadata": {},
   "source": [
    "list(itertools.combinations(range(3), 0))"
   ],
   "outputs": []
  },
  {
   "cell_type": "code",
   "execution_count": 177,
   "metadata": {},
   "source": [
    "available_combinations = [combo for combo in itertools.combinations(range(len(df) - 1), n_cleanings) if is_cleaning_combination_fit(combo)]"
   ],
   "outputs": []
  },
  {
   "cell_type": "code",
   "execution_count": 178,
   "metadata": {},
   "source": [
    "len(available_combinations)"
   ],
   "outputs": []
  },
  {
   "cell_type": "code",
   "execution_count": 154,
   "metadata": {},
   "source": [
    "values1 = [[combo, sum(df.loc[s]['time_till_next_boiling'] for s in combo), df.loc[combo[0]]['is_water_done']] for combo in available_combinations]\n",
    "df1 = pd.DataFrame(values1, columns=['combo', 'total_time_till_next_boilings', 'is_water_done'])\n",
    "df1"
   ],
   "outputs": []
  },
  {
   "cell_type": "code",
   "execution_count": 157,
   "metadata": {},
   "source": [
    "df1 = df1.sort_values(by=['total_time_till_next_boilings'], ascending=False)\n",
    "df1 = df1.sort_values(by=['is_water_done'], ascending=False)\n",
    "df1"
   ],
   "outputs": []
  },
  {
   "cell_type": "code",
   "execution_count": 159,
   "metadata": {},
   "source": [
    "combo = df1.iloc[0]\n",
    "combo"
   ],
   "outputs": []
  }
 ],
 "metadata": {
  "kernelspec": {
   "display_name": "umalat",
   "language": "python",
   "name": "umalat"
  },
  "language_info": {
   "codemirror_mode": {
    "name": "ipython",
    "version": 3
   },
   "file_extension": ".py",
   "mimetype": "text/x-python",
   "name": "python",
   "nbconvert_exporter": "python",
   "pygments_lexer": "ipython3",
   "version": "3.8.5"
  }
 },
 "nbformat": 4,
 "nbformat_minor": 4
}

{
 "cells": [
  {
   "cell_type": "code",
   "execution_count": 199,
   "metadata": {},
   "source": [
    "from utils_ak.interactive_imports import *"
   ],
   "outputs": []
  },
  {
   "cell_type": "code",
   "execution_count": 2,
   "metadata": {},
   "source": [
    "m = BlockMaker(\"4 contour\")"
   ],
   "outputs": []
  },
  {
   "cell_type": "code",
   "execution_count": 9,
   "metadata": {},
   "source": [
    "sys.path.append('/Users/arsenijkadaner/Yandex.Disk.localized/master/code/git/2020.10-umalat/umalat')\n",
    "from app.scheduler.time import *"
   ],
   "outputs": []
  },
  {
   "cell_type": "code",
   "execution_count": 48,
   "metadata": {},
   "source": [
    "fns = {'mozzarella': '/Users/arsenijkadaner/Yandex.Disk.localized/master/code/git/2020.10-umalat/umalat/app/data/static/samples/outputs/2021-02-09 Моцарелла Расписание.pickle',\n",
    "      'mascarpone': '/Users/arsenijkadaner/Yandex.Disk.localized/master/code/git/2020.10-umalat/umalat/app/data/static/samples/outputs/2021-04-21 Маскарпоне Расписание.pickle',\n",
    "      'butter': '/Users/arsenijkadaner/Yandex.Disk.localized/master/code/git/2020.10-umalat/umalat/app/data/static/samples/outputs/Sample Маслоцех Расписание.pickle',\n",
    "      'milk_project': '/Users/arsenijkadaner/Yandex.Disk.localized/master/code/git/2020.10-umalat/umalat/app/data/static/samples/outputs/Sample Милк-проджект Расписание.pickle',\n",
    "      'ricotta': '/Users/arsenijkadaner/Yandex.Disk.localized/master/code/git/2020.10-umalat/umalat/app/data/static/samples/outputs/2021-05-15 Рикотта Расписание.pickle'}"
   ],
   "outputs": []
  },
  {
   "cell_type": "code",
   "execution_count": 49,
   "metadata": {},
   "source": [
    "schedules = {}\n",
    "for key, fn in fns.items():\n",
    "    with open(fn, 'rb') as f:\n",
    "        schedules[key] = ParallelepipedBlock.from_dict(pickle.load(f))"
   ],
   "outputs": []
  },
  {
   "cell_type": "code",
   "execution_count": 62,
   "metadata": {},
   "source": [
    "class CleaningValidator(ClassValidator):\n",
    "    def __init__(self, window=10, ordered=True):\n",
    "        self.ordered = ordered\n",
    "        super().__init__(window=window)\n",
    "\n",
    "    def validate__cleaning__cleaning(self, b1, b2):\n",
    "        validate_disjoint_by_axis(b1, b2, distance=2, ordered=self.ordered)"
   ],
   "outputs": []
  },
  {
   "cell_type": "code",
   "execution_count": 198,
   "metadata": {},
   "source": [
    "make_contour_6(schedules)"
   ],
   "outputs": []
  },
  {
   "cell_type": "code",
   "execution_count": 200,
   "metadata": {},
   "source": [
    "cast_time(298)"
   ],
   "outputs": []
  },
  {
   "cell_type": "code",
   "execution_count": 202,
   "metadata": {},
   "source": [
    "def f():\n",
    "    n = 1\n",
    "    \n",
    "    for i in range(10):\n",
    "        yield n\n",
    "        n += 1"
   ],
   "outputs": []
  },
  {
   "cell_type": "code",
   "execution_count": 209,
   "metadata": {},
   "source": [
    "gen = f()"
   ],
   "outputs": []
  },
  {
   "cell_type": "code",
   "execution_count": 214,
   "metadata": {},
   "source": [
    "import types\n",
    "types.GeneratorType"
   ],
   "outputs": []
  },
  {
   "cell_type": "code",
   "execution_count": 213,
   "metadata": {},
   "source": [
    "type(gen) == typ"
   ],
   "outputs": []
  },
  {
   "cell_type": "code",
   "execution_count": 215,
   "metadata": {},
   "source": [
    "def f1():\n",
    "    return 1"
   ],
   "outputs": []
  },
  {
   "cell_type": "code",
   "execution_count": 220,
   "metadata": {},
   "source": [
    "type(f1)"
   ],
   "outputs": []
  },
  {
   "cell_type": "code",
   "execution_count": null,
   "metadata": {},
   "source": [],
   "outputs": []
  }
 ],
 "metadata": {
  "kernelspec": {
   "display_name": "umalat",
   "language": "python",
   "name": "umalat"
  },
  "language_info": {
   "codemirror_mode": {
    "name": "ipython",
    "version": 3
   },
   "file_extension": ".py",
   "mimetype": "text/x-python",
   "name": "python",
   "nbconvert_exporter": "python",
   "pygments_lexer": "ipython3",
   "version": "3.8.5"
  }
 },
 "nbformat": 4,
 "nbformat_minor": 4
}

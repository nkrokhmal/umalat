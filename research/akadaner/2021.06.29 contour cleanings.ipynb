{
 "cells": [
  {
   "cell_type": "code",
   "execution_count": 199,
   "metadata": {},
   "outputs": [],
   "source": [
    "from utils_ak.interactive_imports import *"
   ]
  },
  {
   "cell_type": "code",
   "execution_count": 2,
   "metadata": {},
   "outputs": [],
   "source": [
    "m = BlockMaker(\"4 contour\")"
   ]
  },
  {
   "cell_type": "code",
   "execution_count": 9,
   "metadata": {},
   "outputs": [],
   "source": [
    "sys.path.append('/Users/arsenijkadaner/Yandex.Disk.localized/master/code/git/2020.10-umalat/umalat')\n",
    "from app.scheduler.time import *"
   ]
  },
  {
   "cell_type": "code",
   "execution_count": 48,
   "metadata": {},
   "outputs": [],
   "source": [
    "fns = {'mozzarella': '/Users/arsenijkadaner/Yandex.Disk.localized/master/code/git/2020.10-umalat/umalat/app/data/static/samples/outputs/2021-02-09 Моцарелла Расписание.pickle',\n",
    "      'mascarpone': '/Users/arsenijkadaner/Yandex.Disk.localized/master/code/git/2020.10-umalat/umalat/app/data/static/samples/outputs/2021-04-21 Маскарпоне Расписание.pickle',\n",
    "      'butter': '/Users/arsenijkadaner/Yandex.Disk.localized/master/code/git/2020.10-umalat/umalat/app/data/static/samples/outputs/Sample Маслоцех Расписание.pickle',\n",
    "      'milk_project': '/Users/arsenijkadaner/Yandex.Disk.localized/master/code/git/2020.10-umalat/umalat/app/data/static/samples/outputs/Sample Милк-проджект Расписание.pickle',\n",
    "      'ricotta': '/Users/arsenijkadaner/Yandex.Disk.localized/master/code/git/2020.10-umalat/umalat/app/data/static/samples/outputs/2021-05-15 Рикотта Расписание.pickle'}"
   ]
  },
  {
   "cell_type": "code",
   "execution_count": 49,
   "metadata": {},
   "outputs": [],
   "source": [
    "schedules = {}\n",
    "for key, fn in fns.items():\n",
    "    with open(fn, 'rb') as f:\n",
    "        schedules[key] = ParallelepipedBlock.from_dict(pickle.load(f))"
   ]
  },
  {
   "cell_type": "code",
   "execution_count": 62,
   "metadata": {},
   "outputs": [],
   "source": [
    "class CleaningValidator(ClassValidator):\n",
    "    def __init__(self, window=10, ordered=True):\n",
    "        self.ordered = ordered\n",
    "        super().__init__(window=window)\n",
    "\n",
    "    def validate__cleaning__cleaning(self, b1, b2):\n",
    "        validate_disjoint_by_axis(b1, b2, distance=2, ordered=self.ordered)"
   ]
  },
  {
   "cell_type": "code",
   "execution_count": 198,
   "metadata": {},
   "outputs": [
    {
     "data": {
      "text/plain": [
       "6 contour (0, 298] x (0, 0]\n",
       "  cleaning: Линия сырого молока на роникс (56, 72] x (0, 0]\n",
       "  cleaning: Танк сливок (74, 90] x (0, 0]\n",
       "  cleaning: Маскарпоне (106, 122] x (0, 0]\n",
       "  cleaning: Танк сливок (124, 140] x (0, 0]\n",
       "  cleaning: Танк сливок (142, 158] x (0, 0]\n",
       "  cleaning: Линия сладкой сыворотки (160, 190] x (0, 0]\n",
       "  cleaning: Танк рикотты 1 (192, 208] x (0, 0]\n",
       "  cleaning: Линия сливок на подмес рикотта (210, 226] x (0, 0]\n",
       "  cleaning: Танк рикотты 3 (228, 244] x (0, 0]\n",
       "  cleaning: Танк рикотты 2 (246, 262] x (0, 0]\n",
       "  cleaning: Масло цех (264, 280] x (0, 0]\n",
       "  cleaning: Танк рикотты 1 (282, 298] x (0, 0]"
      ]
     },
     "execution_count": 198,
     "metadata": {},
     "output_type": "execute_result"
    }
   ],
   "source": [
    "make_contour_6(schedules)"
   ]
  },
  {
   "cell_type": "code",
   "execution_count": 200,
   "metadata": {},
   "outputs": [
    {
     "data": {
      "text/plain": [
       "'01:00:50'"
      ]
     },
     "execution_count": 200,
     "metadata": {},
     "output_type": "execute_result"
    }
   ],
   "source": [
    "cast_time(298)"
   ]
  },
  {
   "cell_type": "code",
   "execution_count": 202,
   "metadata": {},
   "outputs": [],
   "source": [
    "def f():\n",
    "    n = 1\n",
    "    \n",
    "    for i in range(10):\n",
    "        yield n\n",
    "        n += 1"
   ]
  },
  {
   "cell_type": "code",
   "execution_count": 209,
   "metadata": {},
   "outputs": [],
   "source": [
    "gen = f()"
   ]
  },
  {
   "cell_type": "code",
   "execution_count": 214,
   "metadata": {},
   "outputs": [
    {
     "data": {
      "text/plain": [
       "generator"
      ]
     },
     "execution_count": 214,
     "metadata": {},
     "output_type": "execute_result"
    }
   ],
   "source": [
    "import types\n",
    "types.GeneratorType"
   ]
  },
  {
   "cell_type": "code",
   "execution_count": 213,
   "metadata": {},
   "outputs": [
    {
     "data": {
      "text/plain": [
       "False"
      ]
     },
     "execution_count": 213,
     "metadata": {},
     "output_type": "execute_result"
    }
   ],
   "source": [
    "type(gen) == typ"
   ]
  },
  {
   "cell_type": "code",
   "execution_count": 215,
   "metadata": {},
   "outputs": [],
   "source": [
    "def f1():\n",
    "    return 1"
   ]
  },
  {
   "cell_type": "code",
   "execution_count": 220,
   "metadata": {},
   "outputs": [
    {
     "data": {
      "text/plain": [
       "function"
      ]
     },
     "execution_count": 220,
     "metadata": {},
     "output_type": "execute_result"
    }
   ],
   "source": [
    "type(f1)"
   ]
  },
  {
   "cell_type": "code",
   "execution_count": null,
   "metadata": {},
   "outputs": [],
   "source": []
  }
 ],
 "metadata": {
  "kernelspec": {
   "display_name": "umalat",
   "language": "python",
   "name": "umalat"
  },
  "language_info": {
   "codemirror_mode": {
    "name": "ipython",
    "version": 3
   },
   "file_extension": ".py",
   "mimetype": "text/x-python",
   "name": "python",
   "nbconvert_exporter": "python",
   "pygments_lexer": "ipython3",
   "version": "3.8.5"
  }
 },
 "nbformat": 4,
 "nbformat_minor": 4
}

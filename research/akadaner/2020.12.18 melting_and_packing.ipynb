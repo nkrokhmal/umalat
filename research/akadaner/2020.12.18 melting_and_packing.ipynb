{
 "cells": [
  {
   "cell_type": "code",
   "execution_count": 1,
   "metadata": {},
   "outputs": [],
   "source": [
    "# %load_ext autoreload\n",
    "# %autoreload 2\n",
    "\n",
    "import os\n",
    "import sys\n",
    "os.environ['UTILS_PATH'] = r'C:\\Users\\Mi\\Desktop\\code\\git\\python-utils-ak'\n",
    "os.environ['PROJECT_PATH'] = r'C:\\Users\\Mi\\Desktop\\code\\git\\2020.10-umalat\\umalat' \n",
    "os.environ['SQLITE_PATH'] = r'C:\\Users\\Mi\\Desktop\\code\\git\\2020.10-umalat\\umalat\\data.sqlite' \n",
    "sys.path.append(os.environ['PROJECT_PATH'])\n",
    "from app.interactive_imports import *"
   ]
  },
  {
   "cell_type": "code",
   "execution_count": 2,
   "metadata": {},
   "outputs": [
    {
     "name": "stderr",
     "output_type": "stream",
     "text": [
      "<ipython-input-2-80d3cf80b653>:12: SettingWithCopyWarning: \n",
      "A value is trying to be set on a copy of a slice from a DataFrame.\n",
      "Try using .loc[row_indexer,col_indexer] = value instead\n",
      "\n",
      "See the caveats in the documentation: https://pandas.pydata.org/pandas-docs/stable/user_guide/indexing.html#returning-a-view-versus-a-copy\n",
      "  boiling_grp['boiling_form_factor'] = boiling_grp['sku'].apply(lambda sku:sku.boiling_form_factors[0])\n",
      "<ipython-input-2-80d3cf80b653>:23: SettingWithCopyWarning: \n",
      "A value is trying to be set on a copy of a slice from a DataFrame.\n",
      "Try using .loc[row_indexer,col_indexer] = value instead\n",
      "\n",
      "See the caveats in the documentation: https://pandas.pydata.org/pandas-docs/stable/user_guide/indexing.html#returning-a-view-versus-a-copy\n",
      "  boiling_grp['group'] = group_values\n"
     ]
    }
   ],
   "source": [
    "boiling_plan_df = pd.read_csv('2020.12.13 boiling_plan.csv')\n",
    "boiling_plan_df['sku'] = boiling_plan_df['sku'].apply(cast_sku)\n",
    "# boiling_plan_df['boiling'] = boiling_plan_df['boiling'].apply(cast_boiling)\n",
    "boiling_plan_df['boiling'] = boiling_plan_df['sku'].apply(lambda sku: sku.boilings[0])\n",
    "boiling_plan_df.sort_values(by='id')\n",
    "\n",
    "def add_push_with_props(parent, block):\n",
    "    return add_push(parent, block, new_props=block.props.get_all_props())\n",
    "\n",
    "\n",
    "boiling_grp = boiling_plan_df[boiling_plan_df['id'] == 3]\n",
    "boiling_grp['boiling_form_factor'] = boiling_grp['sku'].apply(lambda sku:sku.boiling_form_factors[0])\n",
    "\n",
    "# mark groups\n",
    "cur_group = 0\n",
    "cur_form_factor = None\n",
    "group_values = []\n",
    "for i, row in boiling_grp.iterrows():\n",
    "    if row['boiling_form_factor'] != cur_form_factor:\n",
    "        cur_group += 1\n",
    "        cur_form_factor = row['boiling_form_factor']\n",
    "    group_values.append(cur_group)\n",
    "boiling_grp['group'] = group_values\n",
    "\n",
    "boiling_model = boiling_grp.iloc[0]['boiling']"
   ]
  },
  {
   "cell_type": "code",
   "execution_count": 3,
   "metadata": {},
   "outputs": [],
   "source": [
    "maker = BlockMaker(default_push_func=dummy_push)\n",
    "make = maker.make\n",
    "\n",
    "with make('melting'):\n",
    "    with make('servings', h=1, push_func=dummy_push_y):\n",
    "        make('serving', time_size=boiling_model.meltings.serving_time)\n",
    "    \n",
    "    labels = make('labels', h=1, push_func=dummy_push_y).block\n",
    "    meltings = make('meltings', h=1, push_func=dummy_push_y).block\n",
    "    coolings = make('coolings', h=1, push_func=dummy_push_y).block\n",
    "        \n",
    "    for group, grp in boiling_grp.groupby('group'):\n",
    "        if group > 1:\n",
    "            # non-first group - reconfigure time\n",
    "            dummy_push(meltings, Block('melting_configuration', size=1))\n",
    "        \n",
    "        melting_process = dummy_push(meltings, Block('melting_process', time_size=custom_round(grp['kg'].sum() / boiling_model.meltings.speed * 60, 5, 'ceil')))\n",
    "        \n",
    "        # add cooling\n",
    "        cooling_process = Block('cooling_process', t=melting_process.beg())\n",
    "        cooling_maker = BlockMaker(cooling_process, default_push_func=dummy_push)\n",
    "        cooling_make = cooling_maker.make\n",
    "        \n",
    "        with cooling_make('start'):\n",
    "            if boiling_model.boiling_type == 'water':\n",
    "                cooling_make('cooling', time_size=boiling_model.meltings.first_cooling_time)\n",
    "                cooling_make('cooling', time_size=boiling_model.meltings.second_cooling_time)\n",
    "            elif boiling_model.boiling_type == 'salt':\n",
    "                cooling_make('cooling', time_size=boiling_model.meltings.salting_time)\n",
    "        \n",
    "        with cooling_make('finish'):\n",
    "            cooling_make('cooling', time_size=melting_process.props['time_size'])\n",
    "        \n",
    "        add_push(coolings, cooling_process)"
   ]
  },
  {
   "cell_type": "code",
   "execution_count": 4,
   "metadata": {},
   "outputs": [
    {
     "data": {
      "text/plain": [
       "root (0, 4] x (0, 30]\n",
       "  melting (0, 4] x (0, 30]\n",
       "    servings (0, 1] x (0, 6]\n",
       "      serving (0, 1] x (0, 6]\n",
       "    labels (1, 2] x (0, 0]\n",
       "    meltings (2, 3] x (0, 15]\n",
       "      melting_process (2, 3] x (0, 7]\n",
       "      melting_configuration (2, 3] x (7, 8]\n",
       "      melting_process (2, 3] x (8, 15]\n",
       "    coolings (3, 4] x (0, 30]\n",
       "      cooling_process (3, 4] x (0, 22]\n",
       "        start (3, 4] x (0, 15]\n",
       "          cooling (3, 4] x (0, 5]\n",
       "          cooling (3, 4] x (5, 15]\n",
       "        finish (3, 4] x (15, 22]\n",
       "          cooling (3, 4] x (15, 22]\n",
       "      cooling_process (3, 4] x (8, 30]\n",
       "        start (3, 4] x (8, 23]\n",
       "          cooling (3, 4] x (8, 13]\n",
       "          cooling (3, 4] x (13, 23]\n",
       "        finish (3, 4] x (23, 30]\n",
       "          cooling (3, 4] x (23, 30]"
      ]
     },
     "execution_count": 4,
     "metadata": {},
     "output_type": "execute_result"
    }
   ],
   "source": [
    "maker.root"
   ]
  },
  {
   "cell_type": "code",
   "execution_count": null,
   "metadata": {},
   "outputs": [],
   "source": []
  }
 ],
 "metadata": {
  "kernelspec": {
   "display_name": "Python 3",
   "language": "python",
   "name": "python3"
  },
  "language_info": {
   "codemirror_mode": {
    "name": "ipython",
    "version": 3
   },
   "file_extension": ".py",
   "mimetype": "text/x-python",
   "name": "python",
   "nbconvert_exporter": "python",
   "pygments_lexer": "ipython3",
   "version": "3.8.5"
  }
 },
 "nbformat": 4,
 "nbformat_minor": 4
}

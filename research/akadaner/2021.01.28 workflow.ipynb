{
 "cells": [
  {
   "cell_type": "code",
   "execution_count": 1,
   "metadata": {},
   "outputs": [
    {
     "name": "stdout",
     "output_type": "stream",
     "text": [
      "WORKING IN INTERACTIVE MODE\n",
      "WORKING IN INTERACTIVE MODE\n"
     ]
    }
   ],
   "source": [
    "import os\n",
    "import sys\n",
    "\n",
    "import warnings\n",
    "warnings.filterwarnings(\"ignore\")\n",
    "\n",
    "os.environ['environment'] = 'interactive'\n",
    "os.environ['UTILS_PATH'] = '/Users/arsenijkadaner/Yandex.Disk.localized/master/code/git/python-utils-ak'\n",
    "os.environ['PROJECT_PATH'] = '/Users/arsenijkadaner/Yandex.Disk.localized/master/code/git/2020.10-umalat/umalat' \n",
    "os.environ['SQLITE_PATH'] = '/Users/arsenijkadaner/Yandex.Disk.localized/master/code/git/2020.10-umalat/umalat/data.sqlite' \n",
    "sys.path.append(os.environ['UTILS_PATH'])\n",
    "sys.path.append(os.environ['PROJECT_PATH'])\n",
    "from app.interactive_imports import *"
   ]
  },
  {
   "cell_type": "code",
   "execution_count": 11,
   "metadata": {},
   "outputs": [],
   "source": [
    "from app.schedule_maker.departments.mozarella import *"
   ]
  },
  {
   "cell_type": "code",
   "execution_count": 12,
   "metadata": {},
   "outputs": [],
   "source": [
    "from utils_ak.loguru import configure_loguru_stdout\n",
    "configure_loguru_stdout('INFO')"
   ]
  },
  {
   "cell_type": "code",
   "execution_count": 13,
   "metadata": {},
   "outputs": [
    {
     "data": {
      "text/plain": [
       "[]"
      ]
     },
     "execution_count": 13,
     "metadata": {},
     "output_type": "execute_result"
    }
   ],
   "source": [
    "fns = glob.glob(r\"/Users/arsenijkadaner/Yandex.Disk.localized/master/code/git/2020.10-umalat/umalat/app/data/inputs/*.xlsx\")\n",
    "fns"
   ]
  },
  {
   "cell_type": "code",
   "execution_count": 14,
   "metadata": {},
   "outputs": [
    {
     "ename": "IndexError",
     "evalue": "list index out of range",
     "output_type": "error",
     "traceback": [
      "\u001b[0;31m---------------------------------------------------------------------------\u001b[0m",
      "\u001b[0;31mIndexError\u001b[0m                                Traceback (most recent call last)",
      "\u001b[0;32m<ipython-input-14-31e48e819728>\u001b[0m in \u001b[0;36m<module>\u001b[0;34m\u001b[0m\n\u001b[0;32m----> 1\u001b[0;31m \u001b[0mmain\u001b[0m\u001b[0;34m(\u001b[0m\u001b[0mfns\u001b[0m\u001b[0;34m[\u001b[0m\u001b[0;36m1\u001b[0m\u001b[0;34m]\u001b[0m\u001b[0;34m,\u001b[0m \u001b[0moptimize\u001b[0m\u001b[0;34m=\u001b[0m\u001b[0;32mFalse\u001b[0m\u001b[0;34m)\u001b[0m\u001b[0;34m\u001b[0m\u001b[0;34m\u001b[0m\u001b[0m\n\u001b[0m",
      "\u001b[0;31mIndexError\u001b[0m: list index out of range"
     ]
    }
   ],
   "source": [
    "main(fns[1], optimize=False)"
   ]
  },
  {
   "cell_type": "code",
   "execution_count": 6,
   "metadata": {
    "collapsed": true
   },
   "outputs": [
    {
     "data": {
      "application/vnd.jupyter.widget-view+json": {
       "model_id": "b240adaa6d74442aa3a697b00f53dc32",
       "version_major": 2,
       "version_minor": 0
      },
      "text/plain": [
       "  0%|          | 0/7 [00:00<?, ?it/s]"
      ]
     },
     "metadata": {},
     "output_type": "display_data"
    },
    {
     "ename": "NameError",
     "evalue": "name 'make_boilings' is not defined",
     "output_type": "error",
     "traceback": [
      "\u001b[0;31m---------------------------------------------------------------------------\u001b[0m",
      "\u001b[0;31mNameError\u001b[0m                                 Traceback (most recent call last)",
      "\u001b[0;32m<ipython-input-6-6fe745892535>\u001b[0m in \u001b[0;36m<module>\u001b[0;34m\u001b[0m\n\u001b[1;32m      1\u001b[0m \u001b[0;32mfor\u001b[0m \u001b[0mfn\u001b[0m \u001b[0;32min\u001b[0m \u001b[0mtqdm\u001b[0m\u001b[0;34m(\u001b[0m\u001b[0mfns\u001b[0m\u001b[0;34m)\u001b[0m\u001b[0;34m:\u001b[0m\u001b[0;34m\u001b[0m\u001b[0;34m\u001b[0m\u001b[0m\n\u001b[0;32m----> 2\u001b[0;31m     \u001b[0mmain\u001b[0m\u001b[0;34m(\u001b[0m\u001b[0mfn\u001b[0m\u001b[0;34m,\u001b[0m \u001b[0moptimize\u001b[0m\u001b[0;34m=\u001b[0m\u001b[0;32mTrue\u001b[0m\u001b[0;34m,\u001b[0m \u001b[0mopen_file\u001b[0m\u001b[0;34m=\u001b[0m\u001b[0;32mFalse\u001b[0m\u001b[0;34m)\u001b[0m\u001b[0;34m\u001b[0m\u001b[0;34m\u001b[0m\u001b[0m\n\u001b[0m",
      "\u001b[0;32m~/Yandex.Disk.localized/master/code/git/2020.10-umalat/umalat/app/schedule_maker/departments/mozarella/main.py\u001b[0m in \u001b[0;36mmain\u001b[0;34m(fn, optimize, open_file, **kwargs)\u001b[0m\n\u001b[1;32m     17\u001b[0m     \u001b[0mcleanings\u001b[0m \u001b[0;34m=\u001b[0m \u001b[0;34m{\u001b[0m\u001b[0;36m12\u001b[0m\u001b[0;34m:\u001b[0m \u001b[0;34m\"full\"\u001b[0m\u001b[0;34m}\u001b[0m\u001b[0;34m\u001b[0m\u001b[0;34m\u001b[0m\u001b[0m\n\u001b[1;32m     18\u001b[0m     \u001b[0;32mif\u001b[0m \u001b[0moptimize\u001b[0m\u001b[0;34m:\u001b[0m\u001b[0;34m\u001b[0m\u001b[0;34m\u001b[0m\u001b[0m\n\u001b[0;32m---> 19\u001b[0;31m         schedule = make_schedule_with_boiling_inside_a_day(\n\u001b[0m\u001b[1;32m     20\u001b[0m             \u001b[0mboiling_plan_df\u001b[0m\u001b[0;34m,\u001b[0m \u001b[0mstart_times\u001b[0m\u001b[0;34m=\u001b[0m\u001b[0mstart_times\u001b[0m\u001b[0;34m,\u001b[0m \u001b[0mfirst_group_id\u001b[0m\u001b[0;34m=\u001b[0m\u001b[0;36m1\u001b[0m\u001b[0;34m\u001b[0m\u001b[0;34m\u001b[0m\u001b[0m\n\u001b[1;32m     21\u001b[0m         )\n",
      "\u001b[0;32m~/Yandex.Disk.localized/master/code/git/2020.10-umalat/umalat/app/schedule_maker/departments/mozarella/algo/schedule/schedule_optimization.py\u001b[0m in \u001b[0;36mmake_schedule_with_boiling_inside_a_day\u001b[0;34m(boiling_plan_df, start_times, first_group_id, date)\u001b[0m\n\u001b[1;32m     10\u001b[0m \u001b[0;34m\u001b[0m\u001b[0m\n\u001b[1;32m     11\u001b[0m     \u001b[0;31m# make first boiling - no cleaning boilings\u001b[0m\u001b[0;34m\u001b[0m\u001b[0;34m\u001b[0m\u001b[0;34m\u001b[0m\u001b[0m\n\u001b[0;32m---> 12\u001b[0;31m     \u001b[0mboilings\u001b[0m \u001b[0;34m=\u001b[0m \u001b[0mmake_boilings\u001b[0m\u001b[0;34m(\u001b[0m\u001b[0mboiling_plan_df\u001b[0m\u001b[0;34m,\u001b[0m \u001b[0mfirst_group_id\u001b[0m\u001b[0;34m=\u001b[0m\u001b[0mfirst_group_id\u001b[0m\u001b[0;34m)\u001b[0m\u001b[0;34m\u001b[0m\u001b[0;34m\u001b[0m\u001b[0m\n\u001b[0m\u001b[1;32m     13\u001b[0m     \u001b[0mschedule\u001b[0m \u001b[0;34m=\u001b[0m \u001b[0mmake_schedule\u001b[0m\u001b[0;34m(\u001b[0m\u001b[0mboilings\u001b[0m\u001b[0;34m,\u001b[0m \u001b[0mstart_times\u001b[0m\u001b[0;34m=\u001b[0m\u001b[0mstart_times\u001b[0m\u001b[0;34m)\u001b[0m\u001b[0;34m\u001b[0m\u001b[0;34m\u001b[0m\u001b[0m\n\u001b[1;32m     14\u001b[0m     \u001b[0mres\u001b[0m\u001b[0;34m[\u001b[0m\u001b[0;32mNone\u001b[0m\u001b[0;34m]\u001b[0m \u001b[0;34m=\u001b[0m \u001b[0mcalc_schedule_stats\u001b[0m\u001b[0;34m(\u001b[0m\u001b[0mschedule\u001b[0m\u001b[0;34m)\u001b[0m\u001b[0;34m\u001b[0m\u001b[0;34m\u001b[0m\u001b[0m\n",
      "\u001b[0;31mNameError\u001b[0m: name 'make_boilings' is not defined"
     ]
    }
   ],
   "source": [
    "for fn in tqdm(fns):\n",
    "    main(fn, optimize=True, open_file=False)"
   ]
  },
  {
   "cell_type": "code",
   "execution_count": 26,
   "metadata": {},
   "outputs": [
    {
     "data": {
      "text/html": [
       "<div>\n",
       "<style scoped>\n",
       "    .dataframe tbody tr th:only-of-type {\n",
       "        vertical-align: middle;\n",
       "    }\n",
       "\n",
       "    .dataframe tbody tr th {\n",
       "        vertical-align: top;\n",
       "    }\n",
       "\n",
       "    .dataframe thead th {\n",
       "        text-align: right;\n",
       "    }\n",
       "</style>\n",
       "<table border=\"1\" class=\"dataframe\">\n",
       "  <thead>\n",
       "    <tr style=\"text-align: right;\">\n",
       "      <th></th>\n",
       "      <th>sku</th>\n",
       "      <th>name</th>\n",
       "    </tr>\n",
       "  </thead>\n",
       "  <tbody>\n",
       "    <tr>\n",
       "      <th>0</th>\n",
       "      <td>&lt;SKU 1&gt;</td>\n",
       "      <td>Моцарелла \"Pretto\" (для бутербродов), 45%, 0,2 кг, т/ф, (9 шт)</td>\n",
       "    </tr>\n",
       "    <tr>\n",
       "      <th>1</th>\n",
       "      <td>&lt;SKU 2&gt;</td>\n",
       "      <td>Моцарелла \"Pretto\", 45%, 1,2 кг, в/у</td>\n",
       "    </tr>\n",
       "    <tr>\n",
       "      <th>2</th>\n",
       "      <td>&lt;SKU 3&gt;</td>\n",
       "      <td>Моцарелла \"Unagrande\", 45%, 0,12 кг, ф/п (кубики)</td>\n",
       "    </tr>\n",
       "    <tr>\n",
       "      <th>3</th>\n",
       "      <td>&lt;SKU 4&gt;</td>\n",
       "      <td>Моцарелла \"Unagrande\", 45%, 3 кг, пл/л</td>\n",
       "    </tr>\n",
       "    <tr>\n",
       "      <th>4</th>\n",
       "      <td>&lt;SKU 5&gt;</td>\n",
       "      <td>Моцарелла (палочки), 45%, кг, пл/л</td>\n",
       "    </tr>\n",
       "    <tr>\n",
       "      <th>...</th>\n",
       "      <td>...</td>\n",
       "      <td>...</td>\n",
       "    </tr>\n",
       "    <tr>\n",
       "      <th>60</th>\n",
       "      <td>&lt;SKU 61&gt;</td>\n",
       "      <td>Моцарелла Чильеджина в воде \"Красная птица\", 45%, 0,125/0,225 кг, ф/п</td>\n",
       "    </tr>\n",
       "    <tr>\n",
       "      <th>61</th>\n",
       "      <td>&lt;SKU 62&gt;</td>\n",
       "      <td>Моцарелла для пиццы \"Metro Chef\" 45%, 0,37 кг, т/ф</td>\n",
       "    </tr>\n",
       "    <tr>\n",
       "      <th>62</th>\n",
       "      <td>&lt;SKU 63&gt;</td>\n",
       "      <td>Моцарелла для пиццы \"Metro Chef\" 45%, 1,2 кг, т/ф</td>\n",
       "    </tr>\n",
       "    <tr>\n",
       "      <th>63</th>\n",
       "      <td>&lt;SKU 64&gt;</td>\n",
       "      <td>Моцарелла в воде Фиор Ди Латте \"Metro Chef\" 45%, 0,125/0,225 кг, ф/п</td>\n",
       "    </tr>\n",
       "    <tr>\n",
       "      <th>64</th>\n",
       "      <td>&lt;SKU 65&gt;</td>\n",
       "      <td>Моцарелла в воде Чильеджина \"Metro Chef\" 45%, 0,125/0,225 кг, ф/п</td>\n",
       "    </tr>\n",
       "  </tbody>\n",
       "</table>\n",
       "<p>65 rows × 2 columns</p>\n",
       "</div>"
      ],
      "text/plain": [
       "         sku  \\\n",
       "0    <SKU 1>   \n",
       "1    <SKU 2>   \n",
       "2    <SKU 3>   \n",
       "3    <SKU 4>   \n",
       "4    <SKU 5>   \n",
       "..       ...   \n",
       "60  <SKU 61>   \n",
       "61  <SKU 62>   \n",
       "62  <SKU 63>   \n",
       "63  <SKU 64>   \n",
       "64  <SKU 65>   \n",
       "\n",
       "                                                                     name  \n",
       "0          Моцарелла \"Pretto\" (для бутербродов), 45%, 0,2 кг, т/ф, (9 шт)  \n",
       "1                                    Моцарелла \"Pretto\", 45%, 1,2 кг, в/у  \n",
       "2                       Моцарелла \"Unagrande\", 45%, 0,12 кг, ф/п (кубики)  \n",
       "3                                  Моцарелла \"Unagrande\", 45%, 3 кг, пл/л  \n",
       "4                                      Моцарелла (палочки), 45%, кг, пл/л  \n",
       "..                                                                    ...  \n",
       "60  Моцарелла Чильеджина в воде \"Красная птица\", 45%, 0,125/0,225 кг, ф/п  \n",
       "61                     Моцарелла для пиццы \"Metro Chef\" 45%, 0,37 кг, т/ф  \n",
       "62                      Моцарелла для пиццы \"Metro Chef\" 45%, 1,2 кг, т/ф  \n",
       "63   Моцарелла в воде Фиор Ди Латте \"Metro Chef\" 45%, 0,125/0,225 кг, ф/п  \n",
       "64      Моцарелла в воде Чильеджина \"Metro Chef\" 45%, 0,125/0,225 кг, ф/п  \n",
       "\n",
       "[65 rows x 2 columns]"
      ]
     },
     "execution_count": 26,
     "metadata": {},
     "output_type": "execute_result"
    }
   ],
   "source": [
    "skus = [cast_sku(i) for i in range(1, 66)]\n",
    "df = pd.DataFrame(skus, columns=['sku'])\n",
    "df['name'] = df['sku'].apply(lambda sku: sku.name)\n",
    "df"
   ]
  },
  {
   "cell_type": "code",
   "execution_count": 3,
   "metadata": {},
   "outputs": [],
   "source": [
    "from app.models.mascarpone import *"
   ]
  },
  {
   "cell_type": "code",
   "execution_count": 6,
   "metadata": {},
   "outputs": [],
   "source": [
    "sku = cast_model(MascarponeSKU, 91)"
   ]
  },
  {
   "cell_type": "code",
   "execution_count": 14,
   "metadata": {},
   "outputs": [
    {
     "data": {
      "text/plain": [
       "'Сливки'"
      ]
     },
     "execution_count": 14,
     "metadata": {},
     "output_type": "execute_result"
    }
   ],
   "source": [
    "sku.group.name"
   ]
  },
  {
   "cell_type": "code",
   "execution_count": null,
   "metadata": {},
   "outputs": [],
   "source": []
  }
 ],
 "metadata": {
  "kernelspec": {
   "display_name": "master",
   "language": "python",
   "name": "master"
  },
  "language_info": {
   "codemirror_mode": {
    "name": "ipython",
    "version": 3
   },
   "file_extension": ".py",
   "mimetype": "text/x-python",
   "name": "python",
   "nbconvert_exporter": "python",
   "pygments_lexer": "ipython3",
   "version": "3.8.5"
  }
 },
 "nbformat": 4,
 "nbformat_minor": 4
}

{
 "cells": [
  {
   "cell_type": "code",
   "execution_count": 3,
   "metadata": {},
   "outputs": [
    {
     "name": "stdout",
     "output_type": "stream",
     "text": [
      "The autoreload extension is already loaded. To reload it, use:\n",
      "  %reload_ext autoreload\n"
     ]
    }
   ],
   "source": [
    "%load_ext autoreload\n",
    "%autoreload 2\n",
    "\n",
    "import os\n",
    "import sys\n",
    "os.environ['UTILS_PATH'] = r'C:\\Users\\Mi\\Desktop\\code\\git\\python-utils-ak'\n",
    "os.environ['PROJECT_PATH'] = r'C:\\Users\\Mi\\Desktop\\code\\git\\2020.10-umalat\\umalat' \n",
    "sys.path.append(os.environ['PROJECT_PATH'])\n",
    "from app.interactive_imports import *"
   ]
  },
  {
   "cell_type": "code",
   "execution_count": 4,
   "metadata": {},
   "outputs": [],
   "source": [
    "fn = r\"C:\\Users\\Mi\\YandexDisk\\Shared\\2020 umalat\\schedules\\2020.12.04.json\""
   ]
  },
  {
   "cell_type": "code",
   "execution_count": 5,
   "metadata": {},
   "outputs": [
    {
     "data": {
      "text/plain": [
       "datetime.datetime(2020, 12, 4, 0, 0)"
      ]
     },
     "execution_count": 5,
     "metadata": {},
     "output_type": "execute_result"
    }
   ],
   "source": [
    "date = cast_datetime(os.path.splitext(os.path.basename(fn))[0])\n",
    "date"
   ]
  },
  {
   "cell_type": "code",
   "execution_count": 7,
   "metadata": {},
   "outputs": [
    {
     "data": {
      "text/html": [
       "<div>\n",
       "<style scoped>\n",
       "    .dataframe tbody tr th:only-of-type {\n",
       "        vertical-align: middle;\n",
       "    }\n",
       "\n",
       "    .dataframe tbody tr th {\n",
       "        vertical-align: top;\n",
       "    }\n",
       "\n",
       "    .dataframe thead th {\n",
       "        text-align: right;\n",
       "    }\n",
       "</style>\n",
       "<table border=\"1\" class=\"dataframe\">\n",
       "  <thead>\n",
       "    <tr style=\"text-align: right;\">\n",
       "      <th></th>\n",
       "      <th>sku</th>\n",
       "      <th>name</th>\n",
       "      <th>percent</th>\n",
       "    </tr>\n",
       "  </thead>\n",
       "  <tbody>\n",
       "    <tr>\n",
       "      <th>0</th>\n",
       "      <td>&lt;SKU 1&gt;</td>\n",
       "      <td>Моцарелла \"Pretto\" (для бутербродов), 45%, 0,2 кг, т/ф, (9 шт)</td>\n",
       "      <td>2.7</td>\n",
       "    </tr>\n",
       "    <tr>\n",
       "      <th>1</th>\n",
       "      <td>&lt;SKU 2&gt;</td>\n",
       "      <td>Моцарелла \"Pretto\", 45%, 1,2 кг, в/у</td>\n",
       "      <td>2.7</td>\n",
       "    </tr>\n",
       "    <tr>\n",
       "      <th>2</th>\n",
       "      <td>&lt;SKU 3&gt;</td>\n",
       "      <td>Моцарелла \"Unagrande\", 45%, 0,12 кг, ф/п (кубики)</td>\n",
       "      <td>2.7</td>\n",
       "    </tr>\n",
       "    <tr>\n",
       "      <th>3</th>\n",
       "      <td>&lt;SKU 4&gt;</td>\n",
       "      <td>Моцарелла \"Unagrande\", 45%, 3 кг, пл/л</td>\n",
       "      <td>2.7</td>\n",
       "    </tr>\n",
       "    <tr>\n",
       "      <th>4</th>\n",
       "      <td>&lt;SKU 5&gt;</td>\n",
       "      <td>Моцарелла (палочки), 45%, кг, пл/л</td>\n",
       "      <td>2.7</td>\n",
       "    </tr>\n",
       "  </tbody>\n",
       "</table>\n",
       "</div>"
      ],
      "text/plain": [
       "       sku                                                            name  \\\n",
       "0  <SKU 1>  Моцарелла \"Pretto\" (для бутербродов), 45%, 0,2 кг, т/ф, (9 шт)   \n",
       "1  <SKU 2>                            Моцарелла \"Pretto\", 45%, 1,2 кг, в/у   \n",
       "2  <SKU 3>               Моцарелла \"Unagrande\", 45%, 0,12 кг, ф/п (кубики)   \n",
       "3  <SKU 4>                          Моцарелла \"Unagrande\", 45%, 3 кг, пл/л   \n",
       "4  <SKU 5>                              Моцарелла (палочки), 45%, кг, пл/л   \n",
       "\n",
       "   percent  \n",
       "0      2.7  \n",
       "1      2.7  \n",
       "2      2.7  \n",
       "3      2.7  \n",
       "4      2.7  "
      ]
     },
     "execution_count": 7,
     "metadata": {},
     "output_type": "execute_result"
    }
   ],
   "source": [
    "values = db.session.query(SKU).all()\n",
    "skus = pd.DataFrame(values, columns=['sku'])\n",
    "skus['name'] = skus['sku'].apply(lambda sku:sku.name)\n",
    "skus['percent'] = skus['sku'].apply(lambda sku:sku.boilings[0].percent)\n",
    "skus.head()"
   ]
  },
  {
   "cell_type": "code",
   "execution_count": 8,
   "metadata": {},
   "outputs": [
    {
     "data": {
      "text/html": [
       "<div>\n",
       "<style scoped>\n",
       "    .dataframe tbody tr th:only-of-type {\n",
       "        vertical-align: middle;\n",
       "    }\n",
       "\n",
       "    .dataframe tbody tr th {\n",
       "        vertical-align: top;\n",
       "    }\n",
       "\n",
       "    .dataframe thead th {\n",
       "        text-align: right;\n",
       "    }\n",
       "</style>\n",
       "<table border=\"1\" class=\"dataframe\">\n",
       "  <thead>\n",
       "    <tr style=\"text-align: right;\">\n",
       "      <th></th>\n",
       "      <th>boiling</th>\n",
       "      <th>percent</th>\n",
       "    </tr>\n",
       "  </thead>\n",
       "  <tbody>\n",
       "    <tr>\n",
       "      <th>0</th>\n",
       "      <td>&lt;Boiling 1&gt;</td>\n",
       "      <td>2.7</td>\n",
       "    </tr>\n",
       "    <tr>\n",
       "      <th>1</th>\n",
       "      <td>&lt;Boiling 2&gt;</td>\n",
       "      <td>2.7</td>\n",
       "    </tr>\n",
       "    <tr>\n",
       "      <th>2</th>\n",
       "      <td>&lt;Boiling 3&gt;</td>\n",
       "      <td>2.7</td>\n",
       "    </tr>\n",
       "    <tr>\n",
       "      <th>3</th>\n",
       "      <td>&lt;Boiling 4&gt;</td>\n",
       "      <td>2.7</td>\n",
       "    </tr>\n",
       "    <tr>\n",
       "      <th>4</th>\n",
       "      <td>&lt;Boiling 5&gt;</td>\n",
       "      <td>3.3</td>\n",
       "    </tr>\n",
       "    <tr>\n",
       "      <th>5</th>\n",
       "      <td>&lt;Boiling 6&gt;</td>\n",
       "      <td>3.3</td>\n",
       "    </tr>\n",
       "    <tr>\n",
       "      <th>6</th>\n",
       "      <td>&lt;Boiling 7&gt;</td>\n",
       "      <td>3.3</td>\n",
       "    </tr>\n",
       "    <tr>\n",
       "      <th>7</th>\n",
       "      <td>&lt;Boiling 8&gt;</td>\n",
       "      <td>3.3</td>\n",
       "    </tr>\n",
       "    <tr>\n",
       "      <th>8</th>\n",
       "      <td>&lt;Boiling 9&gt;</td>\n",
       "      <td>3.6</td>\n",
       "    </tr>\n",
       "    <tr>\n",
       "      <th>9</th>\n",
       "      <td>&lt;Boiling 10&gt;</td>\n",
       "      <td>3.6</td>\n",
       "    </tr>\n",
       "    <tr>\n",
       "      <th>10</th>\n",
       "      <td>&lt;Boiling 11&gt;</td>\n",
       "      <td>3.6</td>\n",
       "    </tr>\n",
       "    <tr>\n",
       "      <th>11</th>\n",
       "      <td>&lt;Boiling 12&gt;</td>\n",
       "      <td>3.6</td>\n",
       "    </tr>\n",
       "  </tbody>\n",
       "</table>\n",
       "</div>"
      ],
      "text/plain": [
       "         boiling  percent\n",
       "0    <Boiling 1>      2.7\n",
       "1    <Boiling 2>      2.7\n",
       "2    <Boiling 3>      2.7\n",
       "3    <Boiling 4>      2.7\n",
       "4    <Boiling 5>      3.3\n",
       "5    <Boiling 6>      3.3\n",
       "6    <Boiling 7>      3.3\n",
       "7    <Boiling 8>      3.3\n",
       "8    <Boiling 9>      3.6\n",
       "9   <Boiling 10>      3.6\n",
       "10  <Boiling 11>      3.6\n",
       "11  <Boiling 12>      3.6"
      ]
     },
     "execution_count": 8,
     "metadata": {},
     "output_type": "execute_result"
    }
   ],
   "source": [
    "values = db.session.query(Boiling).all()\n",
    "boilings = pd.DataFrame(values, columns=['boiling'])\n",
    "boilings['percent'] = boilings['boiling'].apply(lambda b: b.percent)\n",
    "boilings"
   ]
  },
  {
   "cell_type": "code",
   "execution_count": 12,
   "metadata": {},
   "outputs": [],
   "source": [
    "fn = r\"C:\\Users\\Mi\\YandexDisk\\Shared\\2020 umalat\\schedules\\2020.12.04.xlsx\""
   ]
  },
  {
   "cell_type": "code",
   "execution_count": 22,
   "metadata": {},
   "outputs": [],
   "source": [
    "import openpyxl\n",
    "wb = openpyxl.load_workbook(filename=fn, data_only=True)\n",
    "ws = wb['планирование суточное']\n",
    "values = []\n",
    "for i in range(1, 200):\n",
    "    if ws.cell(i, 3).value:\n",
    "        values.append([ws.cell(i, j).value for j in range(3, 7)])"
   ]
  },
  {
   "cell_type": "code",
   "execution_count": 24,
   "metadata": {},
   "outputs": [
    {
     "data": {
      "text/html": [
       "<div>\n",
       "<style scoped>\n",
       "    .dataframe tbody tr th:only-of-type {\n",
       "        vertical-align: middle;\n",
       "    }\n",
       "\n",
       "    .dataframe tbody tr th {\n",
       "        vertical-align: top;\n",
       "    }\n",
       "\n",
       "    .dataframe thead th {\n",
       "        text-align: right;\n",
       "    }\n",
       "</style>\n",
       "<table border=\"1\" class=\"dataframe\">\n",
       "  <thead>\n",
       "    <tr style=\"text-align: right;\">\n",
       "      <th></th>\n",
       "      <th>sku</th>\n",
       "      <th>remanings - request</th>\n",
       "      <th>normative remanings</th>\n",
       "      <th>plan</th>\n",
       "    </tr>\n",
       "  </thead>\n",
       "  <tbody>\n",
       "    <tr>\n",
       "      <th>0</th>\n",
       "      <td>Моцарелла Фиор ди латте в воде \"Unagrande\", 50%, 0,125 кг, ф/п, (8 шт)</td>\n",
       "      <td>-1713</td>\n",
       "      <td>0</td>\n",
       "      <td>-1713.0</td>\n",
       "    </tr>\n",
       "    <tr>\n",
       "      <th>1</th>\n",
       "      <td>Моцарелла Грандиоза в воде \"Unagrande\", 50%, 0,2 кг, ф/п</td>\n",
       "      <td>-33.6</td>\n",
       "      <td>0</td>\n",
       "      <td>-33.6</td>\n",
       "    </tr>\n",
       "    <tr>\n",
       "      <th>4</th>\n",
       "      <td>Моцарелла Фиор Ди Латте в воде \"Pretto\", 45%, 0,125 кг, ф/п, (8 шт)</td>\n",
       "      <td>-100</td>\n",
       "      <td>0</td>\n",
       "      <td>-100.0</td>\n",
       "    </tr>\n",
       "    <tr>\n",
       "      <th>5</th>\n",
       "      <td>Моцарелла Фиор Ди Латте в воде \"Pretto\", 45%, 0,1 кг, ф/п, (8 шт)</td>\n",
       "      <td>-192.8</td>\n",
       "      <td>0</td>\n",
       "      <td>-192.8</td>\n",
       "    </tr>\n",
       "    <tr>\n",
       "      <th>6</th>\n",
       "      <td>Моцарелла Фиор ди Латте в воде \"Ваш выбор\", 50%, 0,1 кг, ф/п</td>\n",
       "      <td>-140.4</td>\n",
       "      <td>0</td>\n",
       "      <td>-140.4</td>\n",
       "    </tr>\n",
       "  </tbody>\n",
       "</table>\n",
       "</div>"
      ],
      "text/plain": [
       "                                                                      sku  \\\n",
       "0  Моцарелла Фиор ди латте в воде \"Unagrande\", 50%, 0,125 кг, ф/п, (8 шт)   \n",
       "1                Моцарелла Грандиоза в воде \"Unagrande\", 50%, 0,2 кг, ф/п   \n",
       "4     Моцарелла Фиор Ди Латте в воде \"Pretto\", 45%, 0,125 кг, ф/п, (8 шт)   \n",
       "5       Моцарелла Фиор Ди Латте в воде \"Pretto\", 45%, 0,1 кг, ф/п, (8 шт)   \n",
       "6            Моцарелла Фиор ди Латте в воде \"Ваш выбор\", 50%, 0,1 кг, ф/п   \n",
       "\n",
       "  remanings - request normative remanings    plan  \n",
       "0               -1713                   0 -1713.0  \n",
       "1               -33.6                   0   -33.6  \n",
       "4                -100                   0  -100.0  \n",
       "5              -192.8                   0  -192.8  \n",
       "6              -140.4                   0  -140.4  "
      ]
     },
     "execution_count": 24,
     "metadata": {},
     "output_type": "execute_result"
    }
   ],
   "source": [
    "df = pd.DataFrame(values[1:], columns=['sku', 'remanings - request', 'normative remanings', 'plan']) # first value is header\n",
    "df = df.fillna(0)\n",
    "df = df[df['plan'] != 0]\n",
    "df.head()"
   ]
  },
  {
   "cell_type": "code",
   "execution_count": 26,
   "metadata": {},
   "outputs": [
    {
     "name": "stderr",
     "output_type": "stream",
     "text": [
      "<ipython-input-26-128007e97e5b>:2: SettingWithCopyWarning: \n",
      "A value is trying to be set on a copy of a slice from a DataFrame.\n",
      "Try using .loc[row_indexer,col_indexer] = value instead\n",
      "\n",
      "See the caveats in the documentation: https://pandas.pydata.org/pandas-docs/stable/user_guide/indexing.html#returning-a-view-versus-a-copy\n",
      "  sku_plan_df['sku'] = sku_plan_df['sku'].apply(cast_sku)\n"
     ]
    },
    {
     "data": {
      "text/html": [
       "<div>\n",
       "<style scoped>\n",
       "    .dataframe tbody tr th:only-of-type {\n",
       "        vertical-align: middle;\n",
       "    }\n",
       "\n",
       "    .dataframe tbody tr th {\n",
       "        vertical-align: top;\n",
       "    }\n",
       "\n",
       "    .dataframe thead th {\n",
       "        text-align: right;\n",
       "    }\n",
       "</style>\n",
       "<table border=\"1\" class=\"dataframe\">\n",
       "  <thead>\n",
       "    <tr style=\"text-align: right;\">\n",
       "      <th></th>\n",
       "      <th>sku</th>\n",
       "      <th>plan</th>\n",
       "    </tr>\n",
       "  </thead>\n",
       "  <tbody>\n",
       "    <tr>\n",
       "      <th>0</th>\n",
       "      <td>&lt;SKU 25&gt;</td>\n",
       "      <td>-1713.0</td>\n",
       "    </tr>\n",
       "    <tr>\n",
       "      <th>1</th>\n",
       "      <td>&lt;SKU 12&gt;</td>\n",
       "      <td>-33.6</td>\n",
       "    </tr>\n",
       "    <tr>\n",
       "      <th>4</th>\n",
       "      <td>&lt;SKU 24&gt;</td>\n",
       "      <td>-100.0</td>\n",
       "    </tr>\n",
       "    <tr>\n",
       "      <th>5</th>\n",
       "      <td>&lt;SKU 23&gt;</td>\n",
       "      <td>-192.8</td>\n",
       "    </tr>\n",
       "    <tr>\n",
       "      <th>6</th>\n",
       "      <td>&lt;SKU 26&gt;</td>\n",
       "      <td>-140.4</td>\n",
       "    </tr>\n",
       "  </tbody>\n",
       "</table>\n",
       "</div>"
      ],
      "text/plain": [
       "        sku    plan\n",
       "0  <SKU 25> -1713.0\n",
       "1  <SKU 12>   -33.6\n",
       "4  <SKU 24>  -100.0\n",
       "5  <SKU 23>  -192.8\n",
       "6  <SKU 26>  -140.4"
      ]
     },
     "execution_count": 26,
     "metadata": {},
     "output_type": "execute_result"
    }
   ],
   "source": [
    "sku_plan_df = df[['sku', 'plan']]\n",
    "sku_plan_df['sku'] = sku_plan_df['sku'].apply(cast_sku)\n",
    "sku_plan_df.head()"
   ]
  },
  {
   "cell_type": "markdown",
   "metadata": {},
   "source": [
    "# Genrate Json (deprecated)"
   ]
  },
  {
   "cell_type": "code",
   "execution_count": 15,
   "metadata": {
    "scrolled": true
   },
   "outputs": [
    {
     "data": {
      "text/html": [
       "<div>\n",
       "<style scoped>\n",
       "    .dataframe tbody tr th:only-of-type {\n",
       "        vertical-align: middle;\n",
       "    }\n",
       "\n",
       "    .dataframe tbody tr th {\n",
       "        vertical-align: top;\n",
       "    }\n",
       "\n",
       "    .dataframe thead th {\n",
       "        text-align: right;\n",
       "    }\n",
       "</style>\n",
       "<table border=\"1\" class=\"dataframe\">\n",
       "  <thead>\n",
       "    <tr style=\"text-align: right;\">\n",
       "      <th></th>\n",
       "      <th>0</th>\n",
       "      <th>1</th>\n",
       "      <th>2</th>\n",
       "      <th>3</th>\n",
       "      <th>sku</th>\n",
       "      <th>boiling_type</th>\n",
       "      <th>form_factor</th>\n",
       "      <th>sample_boiling</th>\n",
       "      <th>sample_boiling_id</th>\n",
       "      <th>size</th>\n",
       "    </tr>\n",
       "  </thead>\n",
       "  <tbody>\n",
       "    <tr>\n",
       "      <th>0</th>\n",
       "      <td>Моцарелла Фиор ди латте в воде \"Unagrande\", 50%, 0,125 кг, ф/п, (8 шт)</td>\n",
       "      <td>-1713</td>\n",
       "      <td>0</td>\n",
       "      <td>-1713.0</td>\n",
       "      <td>&lt;SKU 25&gt;</td>\n",
       "      <td>3.6 Альче</td>\n",
       "      <td>Фиор Ди Латте</td>\n",
       "      <td>&lt;Boiling 9&gt;</td>\n",
       "      <td>9</td>\n",
       "      <td>125.0</td>\n",
       "    </tr>\n",
       "    <tr>\n",
       "      <th>1</th>\n",
       "      <td>Моцарелла Грандиоза в воде \"Unagrande\", 50%, 0,2 кг, ф/п</td>\n",
       "      <td>-33.6</td>\n",
       "      <td>0</td>\n",
       "      <td>-33.6</td>\n",
       "      <td>&lt;SKU 12&gt;</td>\n",
       "      <td>3.6 Альче</td>\n",
       "      <td>Фиор Ди Латте</td>\n",
       "      <td>&lt;Boiling 9&gt;</td>\n",
       "      <td>9</td>\n",
       "      <td>200.0</td>\n",
       "    </tr>\n",
       "    <tr>\n",
       "      <th>4</th>\n",
       "      <td>Моцарелла Фиор Ди Латте в воде \"Pretto\", 45%, 0,125 кг, ф/п, (8 шт)</td>\n",
       "      <td>-100</td>\n",
       "      <td>0</td>\n",
       "      <td>-100.0</td>\n",
       "      <td>&lt;SKU 24&gt;</td>\n",
       "      <td>3.3 Сакко</td>\n",
       "      <td>Фиор Ди Латте</td>\n",
       "      <td>&lt;Boiling 6&gt;</td>\n",
       "      <td>6</td>\n",
       "      <td>125.0</td>\n",
       "    </tr>\n",
       "    <tr>\n",
       "      <th>5</th>\n",
       "      <td>Моцарелла Фиор Ди Латте в воде \"Pretto\", 45%, 0,1 кг, ф/п, (8 шт)</td>\n",
       "      <td>-192.8</td>\n",
       "      <td>0</td>\n",
       "      <td>-192.8</td>\n",
       "      <td>&lt;SKU 23&gt;</td>\n",
       "      <td>3.3 Сакко</td>\n",
       "      <td>Фиор Ди Латте</td>\n",
       "      <td>&lt;Boiling 6&gt;</td>\n",
       "      <td>6</td>\n",
       "      <td>100.0</td>\n",
       "    </tr>\n",
       "    <tr>\n",
       "      <th>6</th>\n",
       "      <td>Моцарелла Фиор ди Латте в воде \"Ваш выбор\", 50%, 0,1 кг, ф/п</td>\n",
       "      <td>-140.4</td>\n",
       "      <td>0</td>\n",
       "      <td>-140.4</td>\n",
       "      <td>&lt;SKU 26&gt;</td>\n",
       "      <td>3.3 Сакко</td>\n",
       "      <td>Фиор Ди Латте</td>\n",
       "      <td>&lt;Boiling 6&gt;</td>\n",
       "      <td>6</td>\n",
       "      <td>100.0</td>\n",
       "    </tr>\n",
       "  </tbody>\n",
       "</table>\n",
       "</div>"
      ],
      "text/plain": [
       "                                                                        0  \\\n",
       "0  Моцарелла Фиор ди латте в воде \"Unagrande\", 50%, 0,125 кг, ф/п, (8 шт)   \n",
       "1                Моцарелла Грандиоза в воде \"Unagrande\", 50%, 0,2 кг, ф/п   \n",
       "4     Моцарелла Фиор Ди Латте в воде \"Pretto\", 45%, 0,125 кг, ф/п, (8 шт)   \n",
       "5       Моцарелла Фиор Ди Латте в воде \"Pretto\", 45%, 0,1 кг, ф/п, (8 шт)   \n",
       "6            Моцарелла Фиор ди Латте в воде \"Ваш выбор\", 50%, 0,1 кг, ф/п   \n",
       "\n",
       "       1  2       3       sku boiling_type    form_factor sample_boiling  \\\n",
       "0  -1713  0 -1713.0  <SKU 25>    3.6 Альче  Фиор Ди Латте    <Boiling 9>   \n",
       "1  -33.6  0   -33.6  <SKU 12>    3.6 Альче  Фиор Ди Латте    <Boiling 9>   \n",
       "4   -100  0  -100.0  <SKU 24>    3.3 Сакко  Фиор Ди Латте    <Boiling 6>   \n",
       "5 -192.8  0  -192.8  <SKU 23>    3.3 Сакко  Фиор Ди Латте    <Boiling 6>   \n",
       "6 -140.4  0  -140.4  <SKU 26>    3.3 Сакко  Фиор Ди Латте    <Boiling 6>   \n",
       "\n",
       "   sample_boiling_id   size  \n",
       "0                  9  125.0  \n",
       "1                  9  200.0  \n",
       "4                  6  125.0  \n",
       "5                  6  100.0  \n",
       "6                  6  100.0  "
      ]
     },
     "execution_count": 15,
     "metadata": {},
     "output_type": "execute_result"
    }
   ],
   "source": [
    "from app.schedule_maker.models import *\n",
    "df['sku'] = df[0].apply(lambda obj: db.session.query(SKU).filter(SKU.name == obj).first())\n",
    "df = df[~df['sku'].isnull()]\n",
    "df['boiling_type'] = df['sku'].apply(lambda sku: ' '.join([str(sku.boilings[0].percent), str(sku.boilings[0].ferment)]))\n",
    "df['form_factor'] = df['sku'].apply(lambda sku: sku.form_factor.name)\n",
    "df['sample_boiling'] = df['sku'].apply(lambda sku: sku.boilings[0])\n",
    "df['sample_boiling_id'] = df['sku'].apply(lambda sku: sku.boilings[0].id)\n",
    "df['size'] = df['sku'].apply(lambda sku: sku.weight_form_factor)\n",
    "df.head()"
   ]
  },
  {
   "cell_type": "code",
   "execution_count": 42,
   "metadata": {},
   "outputs": [],
   "source": [
    "# generate js\n",
    "js = {'Date': date, 'WeekDay': date.weekday(), 'Boilings': []} \n",
    "\n",
    "for ff, ff_grp in df[df[3] != 0].groupby('boiling_type'):\n",
    "    \n",
    "    for i, (b, b_grp) in enumerate(ff_grp.groupby('sample_boiling_id')):\n",
    "        df1 = b_grp.sort_values(by='size', ascending=False)\n",
    "        values = {}\n",
    "        for i, row in df1.iterrows():\n",
    "            values[row['sku'].id] = abs(row[3])\n",
    "        \n",
    "        boiling_count = sum(values.values()) / 850 if '2.7' in row['boiling_type'] else sum(values.values()) / 1000\n",
    "        boiling_count = math.ceil(boiling_count)\n",
    "        \n",
    "        js['Boilings'].append({'BoilingId': row['sample_boiling_id'],\n",
    "                              'BoilingCount': boiling_count, \n",
    "                            'BoilingCountFactual': boiling_count,\n",
    "                              'SKUVolumes': values,\n",
    "                              'BoilingType': row['boiling_type'],\n",
    "                              'TotalVolume': sum(values.values())})"
   ]
  },
  {
   "cell_type": "code",
   "execution_count": 43,
   "metadata": {},
   "outputs": [
    {
     "data": {
      "text/plain": [
       "{'Date': datetime.datetime(2020, 12, 4, 0, 0),\n",
       " 'WeekDay': 4,\n",
       " 'Boilings': [{'BoilingId': 1,\n",
       "   'BoilingCount': 9,\n",
       "   'BoilingCountFactual': 9,\n",
       "   'SKUVolumes': {14: 800.0,\n",
       "    34: 700.0,\n",
       "    39: 1602.7200000000003,\n",
       "    35: 907.52,\n",
       "    17: 850.0,\n",
       "    37: 848.4000000000001,\n",
       "    4: 1758.0},\n",
       "   'BoilingType': '2.7 Альче',\n",
       "   'TotalVolume': 7466.639999999999},\n",
       "  {'BoilingId': 2,\n",
       "   'BoilingCount': 4,\n",
       "   'BoilingCountFactual': 4,\n",
       "   'SKUVolumes': {2: 1814.3999999999996, 16: 150.0, 1: 850.0},\n",
       "   'BoilingType': '2.7 Сакко',\n",
       "   'TotalVolume': 2814.3999999999996},\n",
       "  {'BoilingId': 5,\n",
       "   'BoilingCount': 1,\n",
       "   'BoilingCountFactual': 1,\n",
       "   'SKUVolumes': {21: 28.0},\n",
       "   'BoilingType': '3.3 Альче',\n",
       "   'TotalVolume': 28.0},\n",
       "  {'BoilingId': 6,\n",
       "   'BoilingCount': 2,\n",
       "   'BoilingCountFactual': 2,\n",
       "   'SKUVolumes': {24: 100.0,\n",
       "    27: 329.0,\n",
       "    22: 60.0,\n",
       "    28: 24.0,\n",
       "    23: 192.80000000000007,\n",
       "    26: 140.4,\n",
       "    45: 153.6,\n",
       "    46: 153.6,\n",
       "    29: 155.29999999999973,\n",
       "    31: 210.0,\n",
       "    32: 147.0},\n",
       "   'BoilingType': '3.3 Сакко',\n",
       "   'TotalVolume': 1665.6999999999998},\n",
       "  {'BoilingId': 9,\n",
       "   'BoilingCount': 5,\n",
       "   'BoilingCountFactual': 5,\n",
       "   'SKUVolumes': {12: 33.599999999999994, 25: 1713.0, 30: 2477.0},\n",
       "   'BoilingType': '3.6 Альче',\n",
       "   'TotalVolume': 4223.6}]}"
      ]
     },
     "execution_count": 43,
     "metadata": {},
     "output_type": "execute_result"
    }
   ],
   "source": [
    "js"
   ]
  },
  {
   "cell_type": "markdown",
   "metadata": {},
   "source": [
    "# Function"
   ]
  },
  {
   "cell_type": "code",
   "execution_count": 44,
   "metadata": {},
   "outputs": [],
   "source": [
    "def parse_schedule(fn):\n",
    "    wb = openpyxl.load_workbook(filename=fn, data_only=True)\n",
    "    ws = wb['планирование суточное']\n",
    "    values = []\n",
    "    for i in range(1, 200):\n",
    "        if ws.cell(i, 3).value:\n",
    "            values.append([ws.cell(i, j).value for j in range(3, 7)])\n",
    "            \n",
    "    df = pd.DataFrame(values[1:]) # first value is header\n",
    "    df = df.fillna(0)\n",
    "    df = df[df[3] != 0]\n",
    "    df.head()\n",
    "    \n",
    "    df['sku'] = df[0].apply(lambda obj: db.session.query(SKU).filter(SKU.name == obj).first())\n",
    "    df = df[~df['sku'].isnull()]\n",
    "    df['boiling_type'] = df['sku'].apply(lambda sku: ' '.join([str(sku.boilings[0].percent), str(sku.boilings[0].ferment)]))\n",
    "    df['form_factor'] = df['sku'].apply(lambda sku: sku.form_factor.name)\n",
    "    df['sample_boiling'] = df['sku'].apply(lambda sku: sku.boilings[0])\n",
    "    df['sample_boiling_id'] = df['sku'].apply(lambda sku: sku.boilings[0].id)\n",
    "    df['size'] = df['sku'].apply(lambda sku: sku.weight_form_factor)\n",
    "    df.head()\n",
    "    \n",
    "        # generate js\n",
    "    js = {'Date': date, 'WeekDay': date.weekday(), 'Boilings': []} \n",
    "\n",
    "    for ff, ff_grp in df[df[3] != 0].groupby('boiling_type'):\n",
    "\n",
    "        for i, (b, b_grp) in enumerate(ff_grp.groupby('sample_boiling_id')):\n",
    "            df1 = b_grp.sort_values(by='size', ascending=False)\n",
    "            values = {}\n",
    "            for i, row in df1.iterrows():\n",
    "                values[row['sku'].id] = abs(row[3])\n",
    "\n",
    "            boiling_count = sum(values.values()) / 850 if '2.7' in row['boiling_type'] else sum(values.values()) / 1000\n",
    "            boiling_count = math.ceil(boiling_count)\n",
    "\n",
    "            js['Boilings'].append({'BoilingId': row['sample_boiling_id'],\n",
    "                                  'BoilingCount': boiling_count, \n",
    "                                'BoilingCountFactual': boiling_count,\n",
    "                                  'SKUVolumes': values,\n",
    "                                  'BoilingType': row['boiling_type'],\n",
    "                                  'TotalVolume': sum(values.values())})\n",
    "            \n",
    "    return js"
   ]
  },
  {
   "cell_type": "markdown",
   "metadata": {},
   "source": [
    "# Todo: dump csvs instead of json"
   ]
  },
  {
   "cell_type": "code",
   "execution_count": 58,
   "metadata": {},
   "outputs": [
    {
     "name": "stdout",
     "output_type": "stream",
     "text": [
      "Renaming C:\\Users\\Mi\\Desktop\\umalat\\schedules\\05.12.20.xlsx C:\\Users\\Mi\\Desktop\\umalat\\schedules\\2020.12.05.xlsx\n",
      "Renaming C:\\Users\\Mi\\Desktop\\umalat\\schedules\\06.12.20.xlsx C:\\Users\\Mi\\Desktop\\umalat\\schedules\\2020.12.06.xlsx\n",
      "Renaming C:\\Users\\Mi\\Desktop\\umalat\\schedules\\08.12.2020.xlsx C:\\Users\\Mi\\Desktop\\umalat\\schedules\\2020.12.08.xlsx\n"
     ]
    }
   ],
   "source": [
    "for fn in glob.glob(r'C:\\Users\\Mi\\Desktop\\umalat\\schedules\\*'):\n",
    "    dirname, basename = os.path.dirname(fn), os.path.basename(fn)\n",
    "    base, ext = os.path.splitext(basename)\n",
    "    try:\n",
    "        date = cast_datetime(base)\n",
    "        new_fn = os.path.join(dirname, cast_str(date, '%Y.%m.%d') + ext)\n",
    "        if os.path.abspath(fn) != os.path.abspath(new_fn):\n",
    "            print('Renaming', fn, new_fn)\n",
    "            rename(fn, new_fn)\n",
    "    except:\n",
    "        print(fn)"
   ]
  },
  {
   "cell_type": "code",
   "execution_count": null,
   "metadata": {},
   "outputs": [
    {
     "data": {
      "application/vnd.jupyter.widget-view+json": {
       "model_id": "693472a9c57449d68aae098eff38b2cf",
       "version_major": 2,
       "version_minor": 0
      },
      "text/plain": [
       "HBox(children=(HTML(value=''), FloatProgress(value=0.0, max=209.0), HTML(value='')))"
      ]
     },
     "metadata": {},
     "output_type": "display_data"
    },
    {
     "name": "stdout",
     "output_type": "stream",
     "text": [
      "Processing C:\\Users\\Mi\\Desktop\\umalat\\schedules\\2020.12.05.xlsx\n"
     ]
    }
   ],
   "source": [
    "fns = glob.glob(r'C:\\Users\\Mi\\Desktop\\umalat\\schedules\\*.xlsx')\n",
    "fns = [fn for fn in fns if '$' not in fn]\n",
    "\n",
    "for fn in tqdm(fns):\n",
    "    json_fn = os.path.splitext(fn)[0] + '.json'\n",
    "    if os.path.exists(json_fn):\n",
    "        continue\n",
    "    print('Processing', fn)\n",
    "    \n",
    "    try:\n",
    "        request = parse_schedule(fn)\n",
    "        with open(json_fn, 'w', encoding='utf-8') as f:\n",
    "            f.write(cast_js(request, indent=1))\n",
    "    except:\n",
    "        print('Failed to process', fn)\n",
    "        print('Creating a stub')\n",
    "        \n",
    "        touch(json_fn)"
   ]
  }
 ],
 "metadata": {
  "kernelspec": {
   "display_name": "Python 3",
   "language": "python",
   "name": "python3"
  },
  "language_info": {
   "codemirror_mode": {
    "name": "ipython",
    "version": 3
   },
   "file_extension": ".py",
   "mimetype": "text/x-python",
   "name": "python",
   "nbconvert_exporter": "python",
   "pygments_lexer": "ipython3",
   "version": "3.8.5"
  }
 },
 "nbformat": 4,
 "nbformat_minor": 4
}

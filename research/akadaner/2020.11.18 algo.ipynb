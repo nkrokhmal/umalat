{
 "cells": [
  {
   "cell_type": "code",
   "execution_count": 88,
   "metadata": {},
   "outputs": [
    {
     "data": {
      "text/plain": [
       "<module 'src/interval.py' from 'src/interval.py'>"
      ]
     },
     "execution_count": 88,
     "metadata": {},
     "output_type": "execute_result"
    }
   ],
   "source": [
    "import sys\n",
    "# sys.path.append('/mnt/6088FEB688FE89B4/Users/arsen/Desktop/code/git/python-utils-ak')\n",
    "sys.path.append(r'C:\\Users\\arsen\\Desktop\\code\\git\\python-utils-ak')\n",
    "from utils_ak.reflexion import load as _load\n",
    "\n",
    "def _import_globals(module):\n",
    "    for x in dir(module):\n",
    "        if not x.startswith('_'):\n",
    "            globals()[x] = getattr(module, x)\n",
    "            \n",
    "def load(module_obj, module_name=None, reload=False, import_globals=False):\n",
    "    module = _load(module_obj, module_name, reload, import_globals=False)\n",
    "    if import_globals:\n",
    "        _import_globals(module)\n",
    "    return module\n",
    "\n",
    "load('src/time.py', import_globals=True, reload=True)\n",
    "load('src/block.py', import_globals=True, reload=True)\n",
    "load('src/color.py', import_globals=True, reload=True)\n",
    "load('src/drawing.py', import_globals=True, reload=True)\n",
    "load('src/interval.py', import_globals=True, reload=True)"
   ]
  },
  {
   "cell_type": "markdown",
   "metadata": {},
   "source": [
    "# Block"
   ]
  },
  {
   "cell_type": "code",
   "execution_count": 89,
   "metadata": {},
   "outputs": [],
   "source": [
    "# ROWS = {'water_1': 6, 'water_2': 9, 'salt_1': 15, 'salt_2': 18, 'water_melting': 24, 'water_packing': 29, 'salt_melting': 33, 'salt_packing': 46}\n",
    "ROWS = {'water_1': 1, 'water_2': 3, 'water_melting': 5, 'water_packing': 8}\n",
    "\n",
    "def cast_row(obj):\n",
    "    if isinstance(obj, int):\n",
    "        return obj\n",
    "    elif isinstance(obj, str):\n",
    "        return ROWS[obj]\n",
    "    else:\n",
    "        raise Exception('Unknown object type')"
   ]
  },
  {
   "cell_type": "code",
   "execution_count": 90,
   "metadata": {},
   "outputs": [],
   "source": [
    "def make_boiling(line):\n",
    "    maker = BlockMaker(default_push_func=dummy_push)\n",
    "    make = maker.make\n",
    "\n",
    "    with make('boiling', block_num=12, line=line, size=27 + cast_t('04:00') + 31 + 20):\n",
    "        total_size=27\n",
    "        with make('pouring', y=cast_row(f'water_{line}'), size=total_size):\n",
    "            with make(y=0):\n",
    "                make('termizator', size=6, block_num=12)\n",
    "                make('pouring_name', size=total_size - 6, name='чильеджина  3,6 альче  8500кг')\n",
    "            with make(y=1):\n",
    "                make('pouring_and_fermenting', size=8)\n",
    "                make('soldification', size=7)\n",
    "                make('cutting', size=7)\n",
    "                make('pouring_off', size=3)\n",
    "                make('extra', size=total_size - 8 - 8 - 7 - 3)\n",
    "\n",
    "        make('drenator', size=cast_t('04:00'), visible=False)\n",
    "\n",
    "        total_size = 31\n",
    "        with make('melting', y=10, size=total_size):\n",
    "            with make(y=0):\n",
    "                make('melting_label', size=3)\n",
    "                make('melting_name', size=total_size - 3, name='чильеджина 5кг/сердечки/фдл 0,125(безлактозная)/0,1')\n",
    "            with make(y=1):\n",
    "                make('serving', size=6)\n",
    "                make('melting_process', size=total_size - 6, speed=900)\n",
    "            with make(y=2):\n",
    "                make(size=6, visible=False)\n",
    "                make('cooling1', size=5)\n",
    "                make('cooling2', size=10)\n",
    "\n",
    "\n",
    "        total_size = 20\n",
    "        with make('packing', t=27 + cast_t('04:00') + 21, size=total_size, push_func=add_push):\n",
    "            with make(y=0):\n",
    "                make('packing_label', size=3)\n",
    "                make('packing_name', size=total_size - 3, name='чильеджина 5кг/сердечки/фдл 0,125(безлактозная)/0,1')\n",
    "            with make(y=1):\n",
    "                make('packing_brand', size=total_size, name='безлактозная/претто')\n",
    "            with make(y=2):\n",
    "                make('configuration', size=3, visible=False)\n",
    "                make('configuration', size=1)\n",
    "                make('configuration', size=5, visible=False)\n",
    "                make('configuration', size=1)\n",
    "\n",
    "    return maker.root.children[0]"
   ]
  },
  {
   "cell_type": "code",
   "execution_count": 92,
   "metadata": {},
   "outputs": [],
   "source": [
    "def boiling_validator(parent, boiling):\n",
    "    b1 = max(parent.children, key=lambda b: b.rel_props.get('t', 0))\n",
    "    b2 = boiling\n",
    "    \n",
    "    b1.rel_props['props_mode'] = 'absolute'\n",
    "    b2.rel_props['props_mode'] = 'absolute'\n",
    "    \n",
    "    validate_disjoint(b1['pouring'][0]['termizator'], b2['pouring'][0]['termizator'])\n",
    "    \n",
    "    b1.rel_props.pop('props_mode')\n",
    "    b2.rel_props.pop('props_mode')"
   ]
  },
  {
   "cell_type": "code",
   "execution_count": 93,
   "metadata": {
    "scrolled": true
   },
   "outputs": [],
   "source": [
    "root = Block('root', t=cast_t('01:45'))\n",
    "boiling_1 = make_boiling(1)\n",
    "boiling_2 = make_boiling(2)\n",
    "dummy_push(root, boiling_1);"
   ]
  },
  {
   "cell_type": "code",
   "execution_count": 94,
   "metadata": {},
   "outputs": [
    {
     "data": {
      "text/plain": [
       "root (21, 21]\n",
       "  boiling (0, 126]\n",
       "    pouring (0, 27]\n",
       "      block (0, 0]\n",
       "        termizator (0, 6]\n",
       "        pouring_name (6, 27]\n",
       "      block (0, 0]\n",
       "        pouring_and_fermenting (0, 8]\n",
       "        soldification (8, 15]\n",
       "        cutting (15, 22]\n",
       "        pouring_off (22, 25]\n",
       "        extra (25, 26]\n",
       "    drenator (27, 75]\n",
       "    melting (75, 106]\n",
       "      block (0, 0]\n",
       "        melting_label (0, 3]\n",
       "        melting_name (3, 31]\n",
       "      block (0, 0]\n",
       "        serving (0, 6]\n",
       "        melting_process (6, 31]\n",
       "      block (0, 0]\n",
       "        block (0, 6]\n",
       "        cooling1 (6, 11]\n",
       "        cooling2 (11, 21]\n",
       "    packing (96, 116]\n",
       "      block (0, 0]\n",
       "        packing_label (0, 3]\n",
       "        packing_name (3, 20]\n",
       "      block (0, 0]\n",
       "        packing_brand (0, 20]\n",
       "      block (0, 0]\n",
       "        configuration (0, 3]\n",
       "        configuration (3, 4]\n",
       "        configuration (4, 9]\n",
       "        configuration (9, 10]\n",
       "  boiling (127, 253]\n",
       "    pouring (127, 154]\n",
       "      block (127, 154]\n",
       "        termizator (127, 133]\n",
       "        pouring_name (6, 27]\n",
       "      block (0, 0]\n",
       "        pouring_and_fermenting (0, 8]\n",
       "        soldification (8, 15]\n",
       "        cutting (15, 22]\n",
       "        pouring_off (22, 25]\n",
       "        extra (25, 26]\n",
       "    drenator (27, 75]\n",
       "    melting (75, 106]\n",
       "      block (0, 0]\n",
       "        melting_label (0, 3]\n",
       "        melting_name (3, 31]\n",
       "      block (0, 0]\n",
       "        serving (0, 6]\n",
       "        melting_process (6, 31]\n",
       "      block (0, 0]\n",
       "        block (0, 6]\n",
       "        cooling1 (6, 11]\n",
       "        cooling2 (11, 21]\n",
       "    packing (96, 116]\n",
       "      block (0, 0]\n",
       "        packing_label (0, 3]\n",
       "        packing_name (3, 20]\n",
       "      block (0, 0]\n",
       "        packing_brand (0, 20]\n",
       "      block (0, 0]\n",
       "        configuration (0, 3]\n",
       "        configuration (3, 4]\n",
       "        configuration (4, 9]\n",
       "        configuration (9, 10]"
      ]
     },
     "execution_count": 94,
     "metadata": {},
     "output_type": "execute_result"
    }
   ],
   "source": [
    "dummy_push(root, boiling_2, validator=boiling_validator)\n",
    "root"
   ]
  },
  {
   "cell_type": "code",
   "execution_count": 95,
   "metadata": {},
   "outputs": [],
   "source": [
    "style = {\n",
    "    'pouring': {'beg_time': '01:00'},\n",
    "    'termizator': {'text': '{block_num} налив'},\n",
    "    'pouring_name': {'text': '{name}'},\n",
    "    'pouring_and_fermenting': {'text': 'налив/внесение закваски', 'color': 'orange'},\n",
    "    'soldification': {'text': 'схватка', 'color': 'yellow'},\n",
    "    'cutting': {'text': 'резка/обсушка', 'color': '#92d050'},\n",
    "    'pouring_off': {'text': 'слив', 'color': 'red'},\n",
    "    'melting': {'beg_time': '07:00', 'y': cast_row('water_melting')},\n",
    "    'melting_label': {'text': '{block_num}'},\n",
    "    'melting_name': {'text': '{name}'},\n",
    "    'serving': {'color': 'orange', 'text': 'подача и вымешивание'},\n",
    "    'melting_process': {'color': 'orange', 'text': 'плавление {speed} кг/ч'},\n",
    "    'cooling1': {'text': 'охлаж1 <{size} * 5> мин'},\n",
    "    'cooling2': {'text': 'охлаж2 <{size} * 5> мин'},\n",
    "    'packing': {'beg_time': '07:00', 'y': cast_row('water_packing')},\n",
    "    'packing_label': {'text': '{block_num}'},\n",
    "    'packing_name': {'text': '{name}'},\n",
    "    'packing_brand': {'color': '#f2dcdb', 'text': '{name}'},\n",
    "    'configuration': {'color': 'red'}\n",
    "}\n",
    "\n",
    "# update styles\n",
    "for b in root.iter():\n",
    "    if b.rel_props['class'] in style:\n",
    "        b.rel_props.update(style[b.rel_props['class']])"
   ]
  },
  {
   "cell_type": "code",
   "execution_count": 96,
   "metadata": {},
   "outputs": [
    {
     "name": "stdout",
     "output_type": "stream",
     "text": [
      "termizator 1 (14,20] {'t': 21, 'class': 'termizator', 'index_width': 4, 'block_num': 12, 'line': 1, 'size': 6, 'y': 1, 'beg_time': '01:00', 'text': '{block_num} налив'}\n",
      "pouring_name 1 (20,41] {'t': 27, 'class': 'pouring_name', 'index_width': 4, 'block_num': 12, 'line': 1, 'size': 21, 'y': 1, 'beg_time': '01:00', 'name': 'чильеджина  3,6 альче  8500кг', 'text': '{name}'}\n",
      "pouring_and_fermenting 2 (14,22] {'t': 21, 'class': 'pouring_and_fermenting', 'index_width': 4, 'block_num': 12, 'line': 1, 'size': 8, 'y': 2, 'beg_time': '01:00', 'text': 'налив/внесение закваски', 'color': 'orange'}\n",
      "soldification 2 (22,29] {'t': 29, 'class': 'soldification', 'index_width': 4, 'block_num': 12, 'line': 1, 'size': 7, 'y': 2, 'beg_time': '01:00', 'text': 'схватка', 'color': 'yellow'}\n",
      "cutting 2 (29,36] {'t': 36, 'class': 'cutting', 'index_width': 4, 'block_num': 12, 'line': 1, 'size': 7, 'y': 2, 'beg_time': '01:00', 'text': 'резка/обсушка', 'color': '#92d050'}\n",
      "pouring_off 2 (36,39] {'t': 43, 'class': 'pouring_off', 'index_width': 4, 'block_num': 12, 'line': 1, 'size': 3, 'y': 2, 'beg_time': '01:00', 'text': 'слив', 'color': 'red'}\n",
      "extra 2 (39,40] {'t': 46, 'class': 'extra', 'index_width': 4, 'block_num': 12, 'line': 1, 'size': 1, 'y': 2, 'beg_time': '01:00'}\n",
      "melting_label 5 (17,20] {'t': 96, 'class': 'melting_label', 'index_width': 4, 'block_num': 12, 'line': 1, 'size': 3, 'y': 5, 'beg_time': '07:00', 'text': '{block_num}'}\n",
      "melting_name 5 (20,48] {'t': 99, 'class': 'melting_name', 'index_width': 4, 'block_num': 12, 'line': 1, 'size': 28, 'y': 5, 'beg_time': '07:00', 'name': 'чильеджина 5кг/сердечки/фдл 0,125(безлактозная)/0,1', 'text': '{name}'}\n",
      "serving 6 (17,23] {'t': 96, 'class': 'serving', 'index_width': 4, 'block_num': 12, 'line': 1, 'size': 6, 'y': 6, 'beg_time': '07:00', 'color': 'orange', 'text': 'подача и вымешивание'}\n",
      "melting_process 6 (23,48] {'t': 102, 'class': 'melting_process', 'index_width': 4, 'block_num': 12, 'line': 1, 'size': 25, 'y': 6, 'beg_time': '07:00', 'speed': 900, 'color': 'orange', 'text': 'плавление {speed} кг/ч'}\n",
      "cooling1 7 (23,28] {'t': 102, 'class': 'cooling1', 'index_width': 4, 'block_num': 12, 'line': 1, 'size': 5, 'y': 7, 'beg_time': '07:00', 'text': 'охлаж1 <{size} * 5> мин'}\n",
      "cooling2 7 (28,38] {'t': 107, 'class': 'cooling2', 'index_width': 4, 'block_num': 12, 'line': 1, 'size': 10, 'y': 7, 'beg_time': '07:00', 'text': 'охлаж2 <{size} * 5> мин'}\n",
      "packing_label 8 (38,41] {'t': 117, 'class': 'packing_label', 'index_width': 4, 'block_num': 12, 'line': 1, 'size': 3, 'beg_time': '07:00', 'y': 8, 'text': '{block_num}'}\n",
      "packing_name 8 (41,58] {'t': 120, 'class': 'packing_name', 'index_width': 4, 'block_num': 12, 'line': 1, 'size': 17, 'beg_time': '07:00', 'y': 8, 'name': 'чильеджина 5кг/сердечки/фдл 0,125(безлактозная)/0,1', 'text': '{name}'}\n",
      "packing_brand 9 (38,58] {'t': 117, 'class': 'packing_brand', 'index_width': 4, 'block_num': 12, 'line': 1, 'size': 20, 'beg_time': '07:00', 'y': 9, 'name': 'безлактозная/претто', 'color': '#f2dcdb', 'text': '{name}'}\n",
      "configuration 10 (41,42] {'t': 120, 'class': 'configuration', 'index_width': 4, 'block_num': 12, 'line': 1, 'size': 1, 'beg_time': '07:00', 'y': 10, 'color': 'red'}\n",
      "configuration 10 (47,48] {'t': 126, 'class': 'configuration', 'index_width': 4, 'block_num': 12, 'line': 1, 'size': 1, 'beg_time': '07:00', 'y': 10, 'color': 'red'}\n",
      "termizator 3 (141,147] {'t': 148, 'class': 'termizator', 'index_width': 4, 'block_num': 12, 'line': 2, 'size': 6, 'y': 3, 'beg_time': '01:00', 'text': '{block_num} налив'}\n",
      "pouring_name 3 (147,168] {'t': 154, 'class': 'pouring_name', 'index_width': 4, 'block_num': 12, 'line': 2, 'size': 21, 'y': 3, 'beg_time': '01:00', 'name': 'чильеджина  3,6 альче  8500кг', 'text': '{name}'}\n",
      "pouring_and_fermenting 4 (141,149] {'t': 148, 'class': 'pouring_and_fermenting', 'index_width': 4, 'block_num': 12, 'line': 2, 'size': 8, 'y': 4, 'beg_time': '01:00', 'text': 'налив/внесение закваски', 'color': 'orange'}\n",
      "soldification 4 (149,156] {'t': 156, 'class': 'soldification', 'index_width': 4, 'block_num': 12, 'line': 2, 'size': 7, 'y': 4, 'beg_time': '01:00', 'text': 'схватка', 'color': 'yellow'}\n",
      "cutting 4 (156,163] {'t': 163, 'class': 'cutting', 'index_width': 4, 'block_num': 12, 'line': 2, 'size': 7, 'y': 4, 'beg_time': '01:00', 'text': 'резка/обсушка', 'color': '#92d050'}\n",
      "pouring_off 4 (163,166] {'t': 170, 'class': 'pouring_off', 'index_width': 4, 'block_num': 12, 'line': 2, 'size': 3, 'y': 4, 'beg_time': '01:00', 'text': 'слив', 'color': 'red'}\n",
      "extra 4 (166,167] {'t': 173, 'class': 'extra', 'index_width': 4, 'block_num': 12, 'line': 2, 'size': 1, 'y': 4, 'beg_time': '01:00'}\n",
      "melting_label 5 (144,147] {'t': 223, 'class': 'melting_label', 'index_width': 4, 'block_num': 12, 'line': 2, 'size': 3, 'y': 5, 'beg_time': '07:00', 'text': '{block_num}'}\n",
      "melting_name 5 (147,175] {'t': 226, 'class': 'melting_name', 'index_width': 4, 'block_num': 12, 'line': 2, 'size': 28, 'y': 5, 'beg_time': '07:00', 'name': 'чильеджина 5кг/сердечки/фдл 0,125(безлактозная)/0,1', 'text': '{name}'}\n",
      "serving 6 (144,150] {'t': 223, 'class': 'serving', 'index_width': 4, 'block_num': 12, 'line': 2, 'size': 6, 'y': 6, 'beg_time': '07:00', 'color': 'orange', 'text': 'подача и вымешивание'}\n",
      "melting_process 6 (150,175] {'t': 229, 'class': 'melting_process', 'index_width': 4, 'block_num': 12, 'line': 2, 'size': 25, 'y': 6, 'beg_time': '07:00', 'speed': 900, 'color': 'orange', 'text': 'плавление {speed} кг/ч'}\n",
      "cooling1 7 (150,155] {'t': 229, 'class': 'cooling1', 'index_width': 4, 'block_num': 12, 'line': 2, 'size': 5, 'y': 7, 'beg_time': '07:00', 'text': 'охлаж1 <{size} * 5> мин'}\n",
      "cooling2 7 (155,165] {'t': 234, 'class': 'cooling2', 'index_width': 4, 'block_num': 12, 'line': 2, 'size': 10, 'y': 7, 'beg_time': '07:00', 'text': 'охлаж2 <{size} * 5> мин'}\n",
      "packing_label 8 (165,168] {'t': 244, 'class': 'packing_label', 'index_width': 4, 'block_num': 12, 'line': 2, 'size': 3, 'beg_time': '07:00', 'y': 8, 'text': '{block_num}'}\n",
      "packing_name 8 (168,185] {'t': 247, 'class': 'packing_name', 'index_width': 4, 'block_num': 12, 'line': 2, 'size': 17, 'beg_time': '07:00', 'y': 8, 'name': 'чильеджина 5кг/сердечки/фдл 0,125(безлактозная)/0,1', 'text': '{name}'}\n",
      "packing_brand 9 (165,185] {'t': 244, 'class': 'packing_brand', 'index_width': 4, 'block_num': 12, 'line': 2, 'size': 20, 'beg_time': '07:00', 'y': 9, 'name': 'безлактозная/претто', 'color': '#f2dcdb', 'text': '{name}'}\n",
      "configuration 10 (168,169] {'t': 247, 'class': 'configuration', 'index_width': 4, 'block_num': 12, 'line': 2, 'size': 1, 'beg_time': '07:00', 'y': 10, 'color': 'red'}\n",
      "configuration 10 (174,175] {'t': 253, 'class': 'configuration', 'index_width': 4, 'block_num': 12, 'line': 2, 'size': 1, 'beg_time': '07:00', 'y': 10, 'color': 'red'}\n"
     ]
    }
   ],
   "source": [
    "work_book, sheet = init_sheet()\n",
    "# work_book, sheet = init_template_sheet()\n",
    "root.rel_props['index_width'] = 4\n",
    "draw(sheet, root)\n",
    "work_book.save('output.xlsx')"
   ]
  },
  {
   "cell_type": "code",
   "execution_count": null,
   "metadata": {},
   "outputs": [],
   "source": []
  }
 ],
 "metadata": {
  "kernelspec": {
   "display_name": "Python 3",
   "language": "python",
   "name": "python3"
  },
  "language_info": {
   "codemirror_mode": {
    "name": "ipython",
    "version": 3
   },
   "file_extension": ".py",
   "mimetype": "text/x-python",
   "name": "python",
   "nbconvert_exporter": "python",
   "pygments_lexer": "ipython3",
   "version": "3.8.5"
  }
 },
 "nbformat": 4,
 "nbformat_minor": 4
}

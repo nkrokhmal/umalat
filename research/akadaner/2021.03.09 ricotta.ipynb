{
 "cells": [
  {
   "cell_type": "code",
   "execution_count": 19,
   "metadata": {},
   "outputs": [],
   "source": [
    "import os\n",
    "import sys\n",
    "\n",
    "import warnings\n",
    "warnings.filterwarnings(\"ignore\")\n",
    "\n",
    "os.environ['environment'] = 'interactive'\n",
    "os.environ['UTILS_PATH'] = '/Users/arsenijkadaner/Yandex.Disk.localized/master/code/git/python-utils-ak'\n",
    "os.environ['PROJECT_PATH'] = '/Users/arsenijkadaner/Yandex.Disk.localized/master/code/git/2020.10-umalat/umalat' \n",
    "os.environ['SQLITE_PATH'] = '/Users/arsenijkadaner/Yandex.Disk.localized/master/code/git/2020.10-umalat/umalat/data.sqlite' \n",
    "sys.path.append(os.environ['UTILS_PATH'])\n",
    "sys.path.append(os.environ['PROJECT_PATH'])\n",
    "from app.interactive_imports import *"
   ]
  },
  {
   "cell_type": "code",
   "execution_count": 116,
   "metadata": {},
   "outputs": [],
   "source": [
    "from utils_ak.block_tree import *\n",
    "from utils_ak.iteration import *\n",
    "from utils_ak.builtin import *\n",
    "\n",
    "from app.schedule_maker.models import *"
   ]
  },
  {
   "cell_type": "code",
   "execution_count": 117,
   "metadata": {},
   "outputs": [
    {
     "data": {
      "text/plain": [
       "<MascarponeBoiling 16>"
      ]
     },
     "execution_count": 117,
     "metadata": {},
     "output_type": "execute_result"
    }
   ],
   "source": [
    "boiling_model = cast_model(MascarponeBoiling, 16)\n",
    "boiling_model"
   ]
  },
  {
   "cell_type": "code",
   "execution_count": 121,
   "metadata": {},
   "outputs": [
    {
     "data": {
      "text/plain": [
       "<MascarponeSKU 82>"
      ]
     },
     "execution_count": 121,
     "metadata": {},
     "output_type": "execute_result"
    }
   ],
   "source": [
    "sku = cast_model(MascarponeSKU, 82)\n",
    "sku"
   ]
  },
  {
   "cell_type": "code",
   "execution_count": 126,
   "metadata": {},
   "outputs": [
    {
     "data": {
      "text/html": [
       "<div>\n",
       "<style scoped>\n",
       "    .dataframe tbody tr th:only-of-type {\n",
       "        vertical-align: middle;\n",
       "    }\n",
       "\n",
       "    .dataframe tbody tr th {\n",
       "        vertical-align: top;\n",
       "    }\n",
       "\n",
       "    .dataframe thead th {\n",
       "        text-align: right;\n",
       "    }\n",
       "</style>\n",
       "<table border=\"1\" class=\"dataframe\">\n",
       "  <thead>\n",
       "    <tr style=\"text-align: right;\">\n",
       "      <th></th>\n",
       "      <th>sku</th>\n",
       "      <th>kg</th>\n",
       "    </tr>\n",
       "  </thead>\n",
       "  <tbody>\n",
       "    <tr>\n",
       "      <th>0</th>\n",
       "      <td>&lt;MascarponeSKU 82&gt;</td>\n",
       "      <td>10</td>\n",
       "    </tr>\n",
       "  </tbody>\n",
       "</table>\n",
       "</div>"
      ],
      "text/plain": [
       "                  sku  kg\n",
       "0  <MascarponeSKU 82>  10"
      ]
     },
     "execution_count": 126,
     "metadata": {},
     "output_type": "execute_result"
    }
   ],
   "source": [
    "values = [[sku, 10]]\n",
    "boiling_group_df = pd.DataFrame(values, columns=['sku', 'kg'])\n",
    "boiling_group_df"
   ]
  },
  {
   "cell_type": "code",
   "execution_count": 131,
   "metadata": {},
   "outputs": [],
   "source": [
    "def make_mascorpone_boiling(boiling_group_df):\n",
    "    maker, make = init_block_maker(\"boiling\", boiling_model=boiling_model)\n",
    "    bt = boiling_model.boiling_technology\n",
    "\n",
    "    with make('boiling_process'):\n",
    "        make(\"pouring\", size=(bt.heating_time // 5, 0))\n",
    "        make(\"heating\", size=(bt.heating_time // 5, 0))\n",
    "        make(\"waiting\", size=[0, 0])\n",
    "        make(\"adding_lactic_acid\", size=(bt.heating_time // 5, 0))\n",
    "        make(\"separation\", size=(bt.heating_time // 5, 0))\n",
    "    with make('packing_process', x=(maker.root['boiling_process'].x[0], 0)):\n",
    "        make(\"N\", size=(2, 0))\n",
    "        make(\"P\", size=(2, 0))\n",
    "\n",
    "        packing_start = maker.root[\"packing_process\"][\"P\"].props.relative_props['x'][0] + 1\n",
    "\n",
    "        packing_time = sum(\n",
    "            [\n",
    "                row[\"kg\"] / row[\"sku\"].packing_speed * 60\n",
    "                for i, row in boiling_group_df.iterrows()\n",
    "            ]\n",
    "        )\n",
    "        packing_time = int(custom_round(packing_time, 5, \"ceil\"))\n",
    "\n",
    "        make('packing', x=(packing_start, 0), size=(packing_time//5, 0), push_func=add_push)\n",
    "    return maker.root"
   ]
  },
  {
   "cell_type": "code",
   "execution_count": 155,
   "metadata": {},
   "outputs": [
    {
     "data": {
      "text/plain": [
       "=========================== boiling (0, 27] x (0, 0]\n",
       "============ boiling_process (0, 12] x (0, 0]\n",
       "=== pouring (0, 3] x (0, 0]\n",
       "   === heating (3, 6] x (0, 0]\n",
       "      === adding_lactic_acid (6, 9] x (0, 0]\n",
       "         === separation (9, 12] x (0, 0]\n",
       "            =============== packing_process (12, 27] x (0, 0]\n",
       "            == N (12, 14] x (0, 0]\n",
       "              == P (14, 16] x (0, 0]\n",
       "               ============ packing (15, 27] x (0, 0]"
      ]
     },
     "execution_count": 155,
     "metadata": {},
     "output_type": "execute_result"
    }
   ],
   "source": [
    "make_mascorpone_boiling(boiling_group_df)"
   ]
  },
  {
   "cell_type": "code",
   "execution_count": 165,
   "metadata": {},
   "outputs": [],
   "source": [
    "b1, b2 = make_mascorpone_boiling(boiling_group_df), make_mascorpone_boiling(boiling_group_df)"
   ]
  },
  {
   "cell_type": "code",
   "execution_count": 169,
   "metadata": {},
   "outputs": [],
   "source": [
    "def make_mascarpone_boiling_group(boiling_group_df1, boiling_group_df2):\n",
    "    validator = ClassValidator(window=3)\n",
    "\n",
    "    def validate(b1, b2):\n",
    "        validate_disjoint_by_axis(b1['packing_process']['packing'], b2['packing_process']['packing'])\n",
    "        # just in case, not needed in reality\n",
    "        validate_disjoint_by_axis(b1['boiling_process']['separation'], b2['boiling_process']['separation']) \n",
    "        assert b2['boiling_process']['pouring'].x[0] >= b1['boiling_process']['pouring'].y[0]\n",
    "\n",
    "    validator.add(\"boiling\", \"boiling\", validate)\n",
    "    \n",
    "    maker, make = init_block_maker(\"boiling_group\", boiling_model=boiling_model)\n",
    "    \n",
    "    b1 = make_mascorpone_boiling(boiling_group_df1)\n",
    "    b2 = make_mascorpone_boiling(boiling_group_df2)\n",
    "    for b in [b1, b2]:\n",
    "        push(\n",
    "                maker.root,\n",
    "                b,\n",
    "                push_func=AxisPusher(start_from=\"last_beg\"),\n",
    "                validator=validator,\n",
    "\n",
    "            )\n",
    "    # fix waiting time \n",
    "    waiting_size = b2['boiling_process']['pouring'].x[0] - b1['boiling_process']['pouring'].y[0]\n",
    "    for key in ['pouring', 'heating', 'waiting']:\n",
    "        b = b2['boiling_process'][key]\n",
    "        b.props.update(x=(b.props['x_rel'][0] - waiting_size, 0))\n",
    "    b2['boiling_process']['waiting'].props.update(size=(waiting_size, 0))\n",
    "    return maker.root"
   ]
  },
  {
   "cell_type": "code",
   "execution_count": 170,
   "metadata": {},
   "outputs": [
    {
     "name": "stderr",
     "output_type": "stream",
     "text": [
      "2021-03-10 21:32:34.521 | DEBUG    | utils_ak.block_tree.pushers.iterative:update:106 - Disposition\n"
     ]
    },
    {
     "data": {
      "text/plain": [
       "======================================= boiling_group (0, 39] x (0, 0]\n",
       "=========================== boiling (0, 27] x (0, 0]\n",
       "============ boiling_process (0, 12] x (0, 0]\n",
       "=== pouring (0, 3] x (0, 0]\n",
       "   === heating (3, 6] x (0, 0]\n",
       "      === adding_lactic_acid (6, 9] x (0, 0]\n",
       "         === separation (9, 12] x (0, 0]\n",
       "            =============== packing_process (12, 27] x (0, 0]\n",
       "            == N (12, 14] x (0, 0]\n",
       "              == P (14, 16] x (0, 0]\n",
       "               ============ packing (15, 27] x (0, 0]\n",
       "            =========================== boiling (12, 39] x (0, 0]\n",
       "            ============ boiling_process (12, 24] x (0, 0]\n",
       "   === pouring (3, 6] x (0, 0]\n",
       "      === heating (6, 9] x (0, 0]\n",
       "         ========= waiting (9, 18] x (0, 0]\n",
       "                  === adding_lactic_acid (18, 21] x (0, 0]\n",
       "                     === separation (21, 24] x (0, 0]\n",
       "                        =============== packing_process (24, 39] x (0, 0]\n",
       "                        == N (24, 26] x (0, 0]\n",
       "                          == P (26, 28] x (0, 0]\n",
       "                           ============ packing (27, 39] x (0, 0]"
      ]
     },
     "execution_count": 170,
     "metadata": {},
     "output_type": "execute_result"
    }
   ],
   "source": [
    "make_mascarpone_boiling_group(boiling_group_df, boiling_group_df)"
   ]
  },
  {
   "cell_type": "code",
   "execution_count": null,
   "metadata": {},
   "outputs": [],
   "source": []
  }
 ],
 "metadata": {
  "kernelspec": {
   "display_name": "master",
   "language": "python",
   "name": "master"
  },
  "language_info": {
   "codemirror_mode": {
    "name": "ipython",
    "version": 3
   },
   "file_extension": ".py",
   "mimetype": "text/x-python",
   "name": "python",
   "nbconvert_exporter": "python",
   "pygments_lexer": "ipython3",
   "version": "3.8.5"
  }
 },
 "nbformat": 4,
 "nbformat_minor": 4
}

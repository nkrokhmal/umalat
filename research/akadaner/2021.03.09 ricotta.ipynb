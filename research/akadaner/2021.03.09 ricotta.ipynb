{
 "cells": [
  {
   "cell_type": "code",
   "execution_count": 19,
   "metadata": {},
   "outputs": [],
   "source": [
    "import os\n",
    "import sys\n",
    "\n",
    "import warnings\n",
    "warnings.filterwarnings(\"ignore\")\n",
    "\n",
    "os.environ['environment'] = 'interactive'\n",
    "os.environ['UTILS_PATH'] = '/Users/arsenijkadaner/Yandex.Disk.localized/master/code/git/python-utils-ak'\n",
    "os.environ['PROJECT_PATH'] = '/Users/arsenijkadaner/Yandex.Disk.localized/master/code/git/2020.10-umalat/umalat' \n",
    "os.environ['SQLITE_PATH'] = '/Users/arsenijkadaner/Yandex.Disk.localized/master/code/git/2020.10-umalat/umalat/data.sqlite' \n",
    "sys.path.append(os.environ['UTILS_PATH'])\n",
    "sys.path.append(os.environ['PROJECT_PATH'])\n",
    "from app.interactive_imports import *"
   ]
  },
  {
   "cell_type": "code",
   "execution_count": 77,
   "metadata": {
    "collapsed": true
   },
   "outputs": [
    {
     "data": {
      "text/plain": [
       "[(0, 1, 2),\n",
       " (0, 1, 3),\n",
       " (0, 1, 4),\n",
       " (0, 2, 1),\n",
       " (0, 2, 3),\n",
       " (0, 2, 4),\n",
       " (0, 3, 1),\n",
       " (0, 3, 2),\n",
       " (0, 3, 4),\n",
       " (0, 4, 1),\n",
       " (0, 4, 2),\n",
       " (0, 4, 3),\n",
       " (1, 0, 2),\n",
       " (1, 0, 3),\n",
       " (1, 0, 4),\n",
       " (1, 2, 0),\n",
       " (1, 2, 3),\n",
       " (1, 2, 4),\n",
       " (1, 3, 0),\n",
       " (1, 3, 2),\n",
       " (1, 3, 4),\n",
       " (1, 4, 0),\n",
       " (1, 4, 2),\n",
       " (1, 4, 3),\n",
       " (2, 0, 1),\n",
       " (2, 0, 3),\n",
       " (2, 0, 4),\n",
       " (2, 1, 0),\n",
       " (2, 1, 3),\n",
       " (2, 1, 4),\n",
       " (2, 3, 0),\n",
       " (2, 3, 1),\n",
       " (2, 3, 4),\n",
       " (2, 4, 0),\n",
       " (2, 4, 1),\n",
       " (2, 4, 3),\n",
       " (3, 0, 1),\n",
       " (3, 0, 2),\n",
       " (3, 0, 4),\n",
       " (3, 1, 0),\n",
       " (3, 1, 2),\n",
       " (3, 1, 4),\n",
       " (3, 2, 0),\n",
       " (3, 2, 1),\n",
       " (3, 2, 4),\n",
       " (3, 4, 0),\n",
       " (3, 4, 1),\n",
       " (3, 4, 2),\n",
       " (4, 0, 1),\n",
       " (4, 0, 2),\n",
       " (4, 0, 3),\n",
       " (4, 1, 0),\n",
       " (4, 1, 2),\n",
       " (4, 1, 3),\n",
       " (4, 2, 0),\n",
       " (4, 2, 1),\n",
       " (4, 2, 3),\n",
       " (4, 3, 0),\n",
       " (4, 3, 1),\n",
       " (4, 3, 2)]"
      ]
     },
     "execution_count": 77,
     "metadata": {},
     "output_type": "execute_result"
    }
   ],
   "source": [
    "import itertools\n",
    "list(itertools.permutations(range(5), 3))"
   ]
  },
  {
   "cell_type": "code",
   "execution_count": 78,
   "metadata": {},
   "outputs": [
    {
     "data": {
      "text/plain": [
       "array([2, 4, 3, 0, 1])"
      ]
     },
     "execution_count": 78,
     "metadata": {},
     "output_type": "execute_result"
    }
   ],
   "source": [
    "numpy.random.permutation(range(5))"
   ]
  },
  {
   "cell_type": "code",
   "execution_count": 85,
   "metadata": {},
   "outputs": [],
   "source": [
    "sku_ids = range(62, 82)\n",
    "boiling_model_ids = range(9, 16)\n",
    "n = 5"
   ]
  },
  {
   "cell_type": "code",
   "execution_count": 86,
   "metadata": {
    "collapsed": true
   },
   "outputs": [
    {
     "data": {
      "text/plain": [
       "[<RicottaSKU 62>,\n",
       " <RicottaSKU 63>,\n",
       " <RicottaSKU 64>,\n",
       " <RicottaSKU 65>,\n",
       " <RicottaSKU 66>,\n",
       " <RicottaSKU 67>,\n",
       " <RicottaSKU 68>,\n",
       " <RicottaSKU 69>,\n",
       " <RicottaSKU 70>,\n",
       " <RicottaSKU 71>,\n",
       " <RicottaSKU 72>,\n",
       " <RicottaSKU 73>,\n",
       " <RicottaSKU 74>,\n",
       " <RicottaSKU 75>,\n",
       " <RicottaSKU 76>,\n",
       " <RicottaSKU 77>,\n",
       " <RicottaSKU 78>,\n",
       " <RicottaSKU 79>,\n",
       " <RicottaSKU 80>,\n",
       " <RicottaSKU 81>]"
      ]
     },
     "execution_count": 86,
     "metadata": {},
     "output_type": "execute_result"
    }
   ],
   "source": [
    "skus = [cast_model(RicottaSKU, sku_id) for sku_id in sku_ids]\n",
    "skus"
   ]
  },
  {
   "cell_type": "code",
   "execution_count": 101,
   "metadata": {},
   "outputs": [
    {
     "data": {
      "text/plain": [
       "[[0, <RicottaSKU 63>, 1],\n",
       " [0, <RicottaSKU 64>, 1],\n",
       " [1, <RicottaSKU 67>, 1],\n",
       " [1, <RicottaSKU 66>, 1],\n",
       " [1, <RicottaSKU 79>, 1],\n",
       " [2, <RicottaSKU 80>, 1],\n",
       " [2, <RicottaSKU 80>, 1],\n",
       " [3, <RicottaSKU 80>, 1],\n",
       " [3, <RicottaSKU 80>, 1],\n",
       " [4, <RicottaSKU 66>, 1],\n",
       " [4, <RicottaSKU 79>, 1],\n",
       " [4, <RicottaSKU 79>, 1]]"
      ]
     },
     "execution_count": 101,
     "metadata": {},
     "output_type": "execute_result"
    }
   ],
   "source": [
    "values = []\n",
    "for i in range(n):\n",
    "    boiling_skus = []\n",
    "    boiling_model = cast_model(RicottaBoiling, random.choice(boiling_model_ids))\n",
    "    \n",
    "    n_boilings = random.choice([2, 3])\n",
    "    for _ in range(n_boilings):\n",
    "        boiling_skus.append(random.choice([sku for sku in skus if boiling_model in sku.made_from_boilings]))\n",
    "    \n",
    "    boiling_skus = list(sorted(boiling_skus, key=lambda sku: sku.name))\n",
    "    for sku in boiling_skus:\n",
    "        values.append([i, sku, 1])\n",
    "values"
   ]
  },
  {
   "cell_type": "code",
   "execution_count": 102,
   "metadata": {},
   "outputs": [
    {
     "data": {
      "text/html": [
       "<div>\n",
       "<style scoped>\n",
       "    .dataframe tbody tr th:only-of-type {\n",
       "        vertical-align: middle;\n",
       "    }\n",
       "\n",
       "    .dataframe tbody tr th {\n",
       "        vertical-align: top;\n",
       "    }\n",
       "\n",
       "    .dataframe thead th {\n",
       "        text-align: right;\n",
       "    }\n",
       "</style>\n",
       "<table border=\"1\" class=\"dataframe\">\n",
       "  <thead>\n",
       "    <tr style=\"text-align: right;\">\n",
       "      <th></th>\n",
       "      <th>boiling_id</th>\n",
       "      <th>sku</th>\n",
       "      <th>volume</th>\n",
       "    </tr>\n",
       "  </thead>\n",
       "  <tbody>\n",
       "    <tr>\n",
       "      <th>0</th>\n",
       "      <td>0</td>\n",
       "      <td>&lt;RicottaSKU 63&gt;</td>\n",
       "      <td>1</td>\n",
       "    </tr>\n",
       "    <tr>\n",
       "      <th>1</th>\n",
       "      <td>0</td>\n",
       "      <td>&lt;RicottaSKU 64&gt;</td>\n",
       "      <td>1</td>\n",
       "    </tr>\n",
       "    <tr>\n",
       "      <th>2</th>\n",
       "      <td>1</td>\n",
       "      <td>&lt;RicottaSKU 67&gt;</td>\n",
       "      <td>1</td>\n",
       "    </tr>\n",
       "    <tr>\n",
       "      <th>3</th>\n",
       "      <td>1</td>\n",
       "      <td>&lt;RicottaSKU 66&gt;</td>\n",
       "      <td>1</td>\n",
       "    </tr>\n",
       "    <tr>\n",
       "      <th>4</th>\n",
       "      <td>1</td>\n",
       "      <td>&lt;RicottaSKU 79&gt;</td>\n",
       "      <td>1</td>\n",
       "    </tr>\n",
       "    <tr>\n",
       "      <th>5</th>\n",
       "      <td>2</td>\n",
       "      <td>&lt;RicottaSKU 80&gt;</td>\n",
       "      <td>1</td>\n",
       "    </tr>\n",
       "    <tr>\n",
       "      <th>6</th>\n",
       "      <td>2</td>\n",
       "      <td>&lt;RicottaSKU 80&gt;</td>\n",
       "      <td>1</td>\n",
       "    </tr>\n",
       "    <tr>\n",
       "      <th>7</th>\n",
       "      <td>3</td>\n",
       "      <td>&lt;RicottaSKU 80&gt;</td>\n",
       "      <td>1</td>\n",
       "    </tr>\n",
       "    <tr>\n",
       "      <th>8</th>\n",
       "      <td>3</td>\n",
       "      <td>&lt;RicottaSKU 80&gt;</td>\n",
       "      <td>1</td>\n",
       "    </tr>\n",
       "    <tr>\n",
       "      <th>9</th>\n",
       "      <td>4</td>\n",
       "      <td>&lt;RicottaSKU 66&gt;</td>\n",
       "      <td>1</td>\n",
       "    </tr>\n",
       "    <tr>\n",
       "      <th>10</th>\n",
       "      <td>4</td>\n",
       "      <td>&lt;RicottaSKU 79&gt;</td>\n",
       "      <td>1</td>\n",
       "    </tr>\n",
       "    <tr>\n",
       "      <th>11</th>\n",
       "      <td>4</td>\n",
       "      <td>&lt;RicottaSKU 79&gt;</td>\n",
       "      <td>1</td>\n",
       "    </tr>\n",
       "  </tbody>\n",
       "</table>\n",
       "</div>"
      ],
      "text/plain": [
       "    boiling_id              sku  volume\n",
       "0            0  <RicottaSKU 63>       1\n",
       "1            0  <RicottaSKU 64>       1\n",
       "2            1  <RicottaSKU 67>       1\n",
       "3            1  <RicottaSKU 66>       1\n",
       "4            1  <RicottaSKU 79>       1\n",
       "5            2  <RicottaSKU 80>       1\n",
       "6            2  <RicottaSKU 80>       1\n",
       "7            3  <RicottaSKU 80>       1\n",
       "8            3  <RicottaSKU 80>       1\n",
       "9            4  <RicottaSKU 66>       1\n",
       "10           4  <RicottaSKU 79>       1\n",
       "11           4  <RicottaSKU 79>       1"
      ]
     },
     "execution_count": 102,
     "metadata": {},
     "output_type": "execute_result"
    }
   ],
   "source": [
    "df = pd.DataFrame(values, columns=['boiling_id', 'sku', 'volume'])\n",
    "df"
   ]
  },
  {
   "cell_type": "code",
   "execution_count": null,
   "metadata": {},
   "outputs": [],
   "source": [
    "boiling_model_ids = range(9, 16)"
   ]
  },
  {
   "cell_type": "code",
   "execution_count": null,
   "metadata": {},
   "outputs": [],
   "source": []
  }
 ],
 "metadata": {
  "kernelspec": {
   "display_name": "master",
   "language": "python",
   "name": "master"
  },
  "language_info": {
   "codemirror_mode": {
    "name": "ipython",
    "version": 3
   },
   "file_extension": ".py",
   "mimetype": "text/x-python",
   "name": "python",
   "nbconvert_exporter": "python",
   "pygments_lexer": "ipython3",
   "version": "3.8.5"
  }
 },
 "nbformat": 4,
 "nbformat_minor": 4
}

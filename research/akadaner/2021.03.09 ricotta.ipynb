{
 "cells": [
  {
   "cell_type": "code",
   "execution_count": 19,
   "metadata": {},
   "outputs": [],
   "source": [
    "import os\n",
    "import sys\n",
    "\n",
    "import warnings\n",
    "warnings.filterwarnings(\"ignore\")\n",
    "\n",
    "os.environ['environment'] = 'interactive'\n",
    "os.environ['UTILS_PATH'] = '/Users/arsenijkadaner/Yandex.Disk.localized/master/code/git/python-utils-ak'\n",
    "os.environ['PROJECT_PATH'] = '/Users/arsenijkadaner/Yandex.Disk.localized/master/code/git/2020.10-umalat/umalat' \n",
    "os.environ['SQLITE_PATH'] = '/Users/arsenijkadaner/Yandex.Disk.localized/master/code/git/2020.10-umalat/umalat/data.sqlite' \n",
    "sys.path.append(os.environ['UTILS_PATH'])\n",
    "sys.path.append(os.environ['PROJECT_PATH'])\n",
    "from app.interactive_imports import *"
   ]
  },
  {
   "cell_type": "code",
   "execution_count": 116,
   "metadata": {},
   "outputs": [],
   "source": [
    "from utils_ak.block_tree import *\n",
    "from utils_ak.iteration import *\n",
    "from utils_ak.builtin import *\n",
    "\n",
    "from app.schedule_maker.models import *"
   ]
  },
  {
   "cell_type": "code",
   "execution_count": 171,
   "metadata": {},
   "outputs": [
    {
     "data": {
      "text/html": [
       "<div>\n",
       "<style scoped>\n",
       "    .dataframe tbody tr th:only-of-type {\n",
       "        vertical-align: middle;\n",
       "    }\n",
       "\n",
       "    .dataframe tbody tr th {\n",
       "        vertical-align: top;\n",
       "    }\n",
       "\n",
       "    .dataframe thead th {\n",
       "        text-align: right;\n",
       "    }\n",
       "</style>\n",
       "<table border=\"1\" class=\"dataframe\">\n",
       "  <thead>\n",
       "    <tr style=\"text-align: right;\">\n",
       "      <th></th>\n",
       "      <th>boiling_id</th>\n",
       "      <th>sku</th>\n",
       "      <th>kg</th>\n",
       "    </tr>\n",
       "  </thead>\n",
       "  <tbody>\n",
       "    <tr>\n",
       "      <th>0</th>\n",
       "      <td>0</td>\n",
       "      <td>&lt;CreamCheeseSKU 91&gt;</td>\n",
       "      <td>10</td>\n",
       "    </tr>\n",
       "  </tbody>\n",
       "</table>\n",
       "</div>"
      ],
      "text/plain": [
       "   boiling_id                  sku  kg\n",
       "0           0  <CreamCheeseSKU 91>  10"
      ]
     },
     "execution_count": 171,
     "metadata": {},
     "output_type": "execute_result"
    }
   ],
   "source": [
    "sku = cast_model(CreamCheeseSKU, 91)\n",
    "values = [[0, sku, 10]]\n",
    "boiling_group_df = pd.DataFrame(values, columns=[\"boiling_id\", \"sku\", \"kg\"])\n",
    "boiling_group_df"
   ]
  },
  {
   "cell_type": "code",
   "execution_count": 175,
   "metadata": {},
   "outputs": [],
   "source": [
    "def make_cream_cheese_boiling(boiling_group_df):\n",
    "    boiling_model = boiling_group_df.iloc[0][\"sku\"].made_from_boilings[0]\n",
    "    \n",
    "    boiling_id = boiling_group_df.iloc[0][\"boiling_id\"]\n",
    "    maker, make = init_block_maker(\n",
    "        \"boiling\", boiling_model=boiling_model, boiling_id=boiling_id\n",
    "    )\n",
    "    \n",
    "    bt = boiling_model.boiling_technology\n",
    "\n",
    "    with make(\"boiling_process\"):\n",
    "        make(\"pouring\", size=(bt.cooling_time // 5, 0))\n",
    "        make(\"separation\", size=(bt.separation_time // 5, 0))\n",
    "        make(\"salting\", size=(bt.salting_time // 5, 0))\n",
    "        make(\"separation\", size=(bt.separation_time // 5, 0))\n",
    "        make(\"salting\", size=(bt.salting_time // 5, 0))\n",
    "        make(\"P\", size=(bt.p_time // 5, 0))\n",
    "    with make(\"packing_process\", x=(maker.root[\"boiling_process\"]['separation'][-1].x[0] - bt.p_time // 5, 0), push_func=add_push):\n",
    "        make(\"P\", size=(bt.p_time // 5, 0))\n",
    "\n",
    "        packing_time = sum(\n",
    "            [\n",
    "                row[\"kg\"] / row[\"sku\"].packing_speed * 60\n",
    "                for i, row in boiling_group_df.iterrows()\n",
    "            ]\n",
    "        )\n",
    "        packing_time = int(custom_round(packing_time, 5, \"ceil\"))\n",
    "\n",
    "        make(\n",
    "            \"packing\",\n",
    "            size=(packing_time // 5, 0),\n",
    "        )\n",
    "    return maker.root"
   ]
  },
  {
   "cell_type": "code",
   "execution_count": 176,
   "metadata": {},
   "outputs": [
    {
     "data": {
      "text/plain": [
       "====================================================== boiling (0, 54] x (0, 0]\n",
       "============================================== boiling_process (0, 46] x (0, 0]\n",
       "============ pouring (0, 12] x (0, 0]\n",
       "            ============ separation (12, 24] x (0, 0]\n",
       "                        ==== salting (24, 28] x (0, 0]\n",
       "                            ============ separation (28, 40] x (0, 0]\n",
       "                                        ==== salting (40, 44] x (0, 0]\n",
       "                                            == P (44, 46] x (0, 0]\n",
       "                          ============================ packing_process (26, 54] x (0, 0]\n",
       "                          == P (26, 28] x (0, 0]\n",
       "                            ========================== packing (28, 54] x (0, 0]"
      ]
     },
     "execution_count": 176,
     "metadata": {},
     "output_type": "execute_result"
    }
   ],
   "source": [
    "make_cream_cheese_boiling(boiling_group_df)"
   ]
  },
  {
   "cell_type": "code",
   "execution_count": null,
   "metadata": {},
   "outputs": [],
   "source": [
    "def make_cream_cheese_boiling_group(boiling_group_dfs):\n",
    "    boiling_model = boiling_group_df1.iloc[0][\"sku\"].made_from_boilings[0]\n",
    "\n",
    "    validator = ClassValidator(window=3)\n",
    "\n",
    "    def validate(b1, b2):\n",
    "        validate_disjoint_by_axis(\n",
    "            b1[\"packing_process\"][\"packing\"], b2[\"packing_process\"][\"packing\"]\n",
    "        )\n",
    "        # just in case, not needed in reality\n",
    "        validate_disjoint_by_axis(\n",
    "            b1[\"boiling_process\"][\"separation\"], b2[\"boiling_process\"][\"separation\"]\n",
    "        )\n",
    "        assert (\n",
    "            b2[\"boiling_process\"][\"pouring\"].x[0]\n",
    "            >= b1[\"boiling_process\"][\"pouring\"].y[0]\n",
    "        )\n",
    "\n",
    "    validator.add(\"boiling\", \"boiling\", validate)\n",
    "\n",
    "    maker, make = init_block_maker(\n",
    "        \"mascarpone_boiling_group\", boiling_model=boiling_model\n",
    "    )\n",
    "\n",
    "    b1 = make_mascorpone_boiling(boiling_group_df1)\n",
    "    b2 = make_mascorpone_boiling(boiling_group_df2)\n",
    "    for b in [b1, b2]:\n",
    "        push(\n",
    "            maker.root,\n",
    "            b,\n",
    "            push_func=AxisPusher(start_from=\"last_beg\"),\n",
    "            validator=validator,\n",
    "        )\n",
    "    # fix waiting time\n",
    "    waiting_size = (\n",
    "        b2[\"boiling_process\"][\"pouring\"].x[0] - b1[\"boiling_process\"][\"pouring\"].y[0]\n",
    "    )\n",
    "\n",
    "    for b in [b2[\"boiling_process\"]]:\n",
    "        b.props.update(x=(b.props[\"x_rel\"][0] - waiting_size, 0))\n",
    "    for key in [\"adding_lactic_acid\", \"separation\"]:\n",
    "        b = b2[\"boiling_process\"][key]\n",
    "        b.props.update(x=(b.props[\"x_rel\"][0] + waiting_size, 0))\n",
    "    b2[\"boiling_process\"][\"waiting\"].props.update(size=(waiting_size, 0))\n",
    "    return maker.root"
   ]
  }
 ],
 "metadata": {
  "kernelspec": {
   "display_name": "master",
   "language": "python",
   "name": "master"
  },
  "language_info": {
   "codemirror_mode": {
    "name": "ipython",
    "version": 3
   },
   "file_extension": ".py",
   "mimetype": "text/x-python",
   "name": "python",
   "nbconvert_exporter": "python",
   "pygments_lexer": "ipython3",
   "version": "3.8.5"
  }
 },
 "nbformat": 4,
 "nbformat_minor": 4
}

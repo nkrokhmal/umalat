{
 "cells": [
  {
   "cell_type": "code",
   "execution_count": 1,
   "metadata": {},
   "outputs": [
    {
     "name": "stdout",
     "output_type": "stream",
     "text": [
      "WORKING IN INTERACTIVE MODE\n",
      "WORKING IN INTERACTIVE MODE\n"
     ]
    }
   ],
   "source": [
    "import os\n",
    "import sys\n",
    "\n",
    "import warnings\n",
    "warnings.filterwarnings(\"ignore\")\n",
    "\n",
    "os.environ['environment'] = 'interactive'\n",
    "os.environ['UTILS_PATH'] = '/Users/arsenijkadaner/Yandex.Disk.localized/master/code/git/python-utils-ak'\n",
    "os.environ['PROJECT_PATH'] = '/Users/arsenijkadaner/Yandex.Disk.localized/master/code/git/2020.10-umalat/umalat' \n",
    "os.environ['SQLITE_PATH'] = '/Users/arsenijkadaner/Yandex.Disk.localized/master/code/git/2020.10-umalat/umalat/data.sqlite' \n",
    "sys.path.append(os.environ['UTILS_PATH'])\n",
    "sys.path.append(os.environ['PROJECT_PATH'])\n",
    "from app.interactive_imports import *"
   ]
  },
  {
   "cell_type": "code",
   "execution_count": 2,
   "metadata": {},
   "outputs": [],
   "source": [
    "from utils_ak.block_tree import *"
   ]
  },
  {
   "cell_type": "code",
   "execution_count": 3,
   "metadata": {},
   "outputs": [],
   "source": [
    "def make_boiling(boiling_model):\n",
    "    maker, make = init_block_maker(\"boiling\", boiling_id=1, boiling_label='рикотта') # todo: set boiling_id from inputs\n",
    "    \n",
    "    bt = boiling_model.boiling_technology\n",
    "    make('heating', size=(bt.heating_time // 5, 0))\n",
    "    make('delay', size=(bt.delay_time // 5, 0))\n",
    "    make('protein_harvest', size=(bt.protein_harvest_time // 5, 0))\n",
    "    make('abandon', size=(bt.abandon_time // 5, 0))\n",
    "    make('pumping_out', size=(bt.pumping_out_time // 5, 0))\n",
    "\n",
    "    return maker.root"
   ]
  },
  {
   "cell_type": "code",
   "execution_count": 4,
   "metadata": {},
   "outputs": [
    {
     "data": {
      "text/plain": [
       "======== boiling (0, 8] x (0, 0]\n",
       "=== heating (0, 3] x (0, 0]\n",
       "   = delay (3, 4] x (0, 0]\n",
       "    == protein_harvest (4, 6] x (0, 0]\n",
       "      = abandon (6, 7] x (0, 0]\n",
       "       = pumping_out (7, 8] x (0, 0]"
      ]
     },
     "execution_count": 4,
     "metadata": {},
     "output_type": "execute_result"
    }
   ],
   "source": [
    "boiling_model = cast_model(RicottaBoiling, 9)\n",
    "make_boiling(boiling_model)"
   ]
  },
  {
   "cell_type": "code",
   "execution_count": 5,
   "metadata": {},
   "outputs": [],
   "source": [
    "def make_boiling_sequence(sku):\n",
    "    boiling_model = sku.made_from_boilings[0]\n",
    "    maker, make = init_block_maker(\"boiling_sequence\")\n",
    "    n_boilings = 3 # todo: take from sku\n",
    "    boilings = [make_boiling(boiling_model) for _ in range(n_boilings)]  \n",
    "    \n",
    "    for b_prev, b in SimpleIterator(boilings).iter_sequences(2, method=\"any\"):\n",
    "        if not b:\n",
    "            continue\n",
    "\n",
    "        if not b_prev:\n",
    "            push(maker.root, b, push_func=add_push)\n",
    "        else:\n",
    "            b.props.update(x=(b_prev['delay'].x[0], 0))\n",
    "            push(maker.root, b, push_func=add_push)\n",
    "    return maker.root\n"
   ]
  },
  {
   "cell_type": "code",
   "execution_count": 6,
   "metadata": {},
   "outputs": [
    {
     "data": {
      "text/plain": [
       "============== boiling_sequence (0, 14] x (0, 0]\n",
       "======== boiling (0, 8] x (0, 0]\n",
       "=== heating (0, 3] x (0, 0]\n",
       "   = delay (3, 4] x (0, 0]\n",
       "    == protein_harvest (4, 6] x (0, 0]\n",
       "      = abandon (6, 7] x (0, 0]\n",
       "       = pumping_out (7, 8] x (0, 0]\n",
       "   ======== boiling (3, 11] x (0, 0]\n",
       "   === heating (3, 6] x (0, 0]\n",
       "      = delay (6, 7] x (0, 0]\n",
       "       == protein_harvest (7, 9] x (0, 0]\n",
       "         = abandon (9, 10] x (0, 0]\n",
       "          = pumping_out (10, 11] x (0, 0]\n",
       "      ======== boiling (6, 14] x (0, 0]\n",
       "      === heating (6, 9] x (0, 0]\n",
       "         = delay (9, 10] x (0, 0]\n",
       "          == protein_harvest (10, 12] x (0, 0]\n",
       "            = abandon (12, 13] x (0, 0]\n",
       "             = pumping_out (13, 14] x (0, 0]"
      ]
     },
     "execution_count": 6,
     "metadata": {},
     "output_type": "execute_result"
    }
   ],
   "source": [
    "sku = cast_model(RicottaSKU, 62)\n",
    "make_boiling_sequence(sku)"
   ]
  },
  {
   "cell_type": "code",
   "execution_count": 7,
   "metadata": {},
   "outputs": [],
   "source": [
    "def make_boiling_group(sku):\n",
    "    kg = 50 # todo: rake from input\n",
    "    maker, make = init_block_maker(\"boiling_group\")\n",
    "    boiling_sequence = make_boiling_sequence(sku)\n",
    "    push(maker.root, boiling_sequence)\n",
    "    analysis_start = listify(boiling_sequence['boiling'])[-1]['abandon'].x[0]\n",
    "    with make('analysis', x=(analysis_start, 0), push_func=add_push):\n",
    "        analysis = cast_model(RicottaAnalysisTechnology, 1) # todo: take from boiling_model\n",
    "        make('preparation', size=(analysis.preparation_time // 5, 0))\n",
    "        make('analysis', size=(analysis.preparation_time // 5, 0))\n",
    "        make('pumping', size=(analysis.preparation_time // 5, 0))\n",
    "\n",
    "    packing_start = maker.root['analysis']['pumping'].x[0] + 1\n",
    "    packing_time = custom_round(kg / sku.packing_speed * 60, 5, 'ceil')\n",
    "\n",
    "    make('packing', x=(packing_start, 0), size=(packing_time // 5, 0), push_func=add_push)\n",
    "    return maker.root"
   ]
  },
  {
   "cell_type": "code",
   "execution_count": 8,
   "metadata": {},
   "outputs": [
    {
     "data": {
      "text/plain": [
       "============================= boiling_group (0, 29.0] x (0, 0]\n",
       "============== boiling_sequence (0, 14] x (0, 0]\n",
       "======== boiling (0, 8] x (0, 0]\n",
       "=== heating (0, 3] x (0, 0]\n",
       "   = delay (3, 4] x (0, 0]\n",
       "    == protein_harvest (4, 6] x (0, 0]\n",
       "      = abandon (6, 7] x (0, 0]\n",
       "       = pumping_out (7, 8] x (0, 0]\n",
       "   ======== boiling (3, 11] x (0, 0]\n",
       "   === heating (3, 6] x (0, 0]\n",
       "      = delay (6, 7] x (0, 0]\n",
       "       == protein_harvest (7, 9] x (0, 0]\n",
       "         = abandon (9, 10] x (0, 0]\n",
       "          = pumping_out (10, 11] x (0, 0]\n",
       "      ======== boiling (6, 14] x (0, 0]\n",
       "      === heating (6, 9] x (0, 0]\n",
       "         = delay (9, 10] x (0, 0]\n",
       "          == protein_harvest (10, 12] x (0, 0]\n",
       "            = abandon (12, 13] x (0, 0]\n",
       "             = pumping_out (13, 14] x (0, 0]\n",
       "            ====== analysis (12, 18] x (0, 0]\n",
       "            == preparation (12, 14] x (0, 0]\n",
       "              == analysis (14, 16] x (0, 0]\n",
       "                == pumping (16, 18] x (0, 0]\n",
       "                 ============ packing (17, 29.0] x (0, 0]"
      ]
     },
     "execution_count": 8,
     "metadata": {},
     "output_type": "execute_result"
    }
   ],
   "source": [
    "make_boiling_group(sku)"
   ]
  },
  {
   "cell_type": "code",
   "execution_count": 9,
   "metadata": {},
   "outputs": [],
   "source": [
    "validator = ClassValidator(window=2)\n",
    "\n",
    "\n",
    "def validate(b1, b2):\n",
    "    for line_num in range(3):\n",
    "        if (\n",
    "            line_num not in b1.props[\"line_nums\"]\n",
    "            or line_num not in b2.props[\"line_nums\"]\n",
    "        ):\n",
    "            continue\n",
    "        \n",
    "        boiling1 = listify(b1['boiling_sequence']['boiling'])[b1.props['line_nums'].index(line_num)]\n",
    "        boiling2 = listify(b2['boiling_sequence']['boiling'])[b2.props['line_nums'].index(line_num)]\n",
    "\n",
    "        validate_disjoint_by_axis(boiling1, boiling2)\n",
    "    \n",
    "    validate_disjoint_by_axis(b1['analysis'], b2['analysis'])\n",
    "    validate_disjoint_by_axis(b1['packing'], b2['packing'])\n",
    "    \n",
    "validator.add(\"boiling_group\", \"boiling_group\", validate)"
   ]
  },
  {
   "cell_type": "code",
   "execution_count": 10,
   "metadata": {},
   "outputs": [],
   "source": [
    "def make_schedule():\n",
    "    maker, make = init_block_maker(\"schedule\")\n",
    "\n",
    "    boiling_groups = [make_boiling_group(sku) for _ in range(2)]\n",
    "    for bg in boiling_groups:\n",
    "        push(\n",
    "            maker.root,\n",
    "            bg,\n",
    "            push_func=AxisPusher(start_from=\"last_beg\"),\n",
    "            validator=validator,\n",
    "            iter_props=[{\"line_nums\": v} for v in [[0, 1, 2], [1, 2, 0], [2, 0, 1]]],\n",
    "        )\n",
    "    return maker.root"
   ]
  },
  {
   "cell_type": "code",
   "execution_count": 11,
   "metadata": {},
   "outputs": [
    {
     "name": "stderr",
     "output_type": "stream",
     "text": [
      "2021-03-09 15:20:22.161 | DEBUG    | utils_ak.block_tree.pushers.iterative:update:106 - Disposition\n",
      "2021-03-09 15:20:22.164 | DEBUG    | utils_ak.block_tree.pushers.iterative:update:106 - Disposition\n",
      "2021-03-09 15:20:22.168 | DEBUG    | utils_ak.block_tree.pushers.iterative:update:106 - Disposition\n",
      "2021-03-09 15:20:22.173 | DEBUG    | utils_ak.block_tree.pushers.iterative:update:106 - Disposition\n",
      "2021-03-09 15:20:22.178 | DEBUG    | utils_ak.block_tree.pushers.iterative:update:106 - Disposition\n"
     ]
    },
    {
     "data": {
      "text/plain": [
       "========================================= schedule (0, 41.0] x (0, 0]\n",
       "============================= boiling_group (0, 29.0] x (0, 0]\n",
       "============== boiling_sequence (0, 14] x (0, 0]\n",
       "======== boiling (0, 8] x (0, 0]\n",
       "=== heating (0, 3] x (0, 0]\n",
       "   = delay (3, 4] x (0, 0]\n",
       "    == protein_harvest (4, 6] x (0, 0]\n",
       "      = abandon (6, 7] x (0, 0]\n",
       "       = pumping_out (7, 8] x (0, 0]\n",
       "   ======== boiling (3, 11] x (0, 0]\n",
       "   === heating (3, 6] x (0, 0]\n",
       "      = delay (6, 7] x (0, 0]\n",
       "       == protein_harvest (7, 9] x (0, 0]\n",
       "         = abandon (9, 10] x (0, 0]\n",
       "          = pumping_out (10, 11] x (0, 0]\n",
       "      ======== boiling (6, 14] x (0, 0]\n",
       "      === heating (6, 9] x (0, 0]\n",
       "         = delay (9, 10] x (0, 0]\n",
       "          == protein_harvest (10, 12] x (0, 0]\n",
       "            = abandon (12, 13] x (0, 0]\n",
       "             = pumping_out (13, 14] x (0, 0]\n",
       "            ====== analysis (12, 18] x (0, 0]\n",
       "            == preparation (12, 14] x (0, 0]\n",
       "              == analysis (14, 16] x (0, 0]\n",
       "                == pumping (16, 18] x (0, 0]\n",
       "                 ============ packing (17, 29.0] x (0, 0]\n",
       "            ============================= boiling_group (12, 41.0] x (0, 0]\n",
       "            ============== boiling_sequence (12, 26] x (0, 0]\n",
       "            ======== boiling (12, 20] x (0, 0]\n",
       "            === heating (12, 15] x (0, 0]\n",
       "               = delay (15, 16] x (0, 0]\n",
       "                == protein_harvest (16, 18] x (0, 0]\n",
       "                  = abandon (18, 19] x (0, 0]\n",
       "                   = pumping_out (19, 20] x (0, 0]\n",
       "               ======== boiling (15, 23] x (0, 0]\n",
       "               === heating (15, 18] x (0, 0]\n",
       "                  = delay (18, 19] x (0, 0]\n",
       "                   == protein_harvest (19, 21] x (0, 0]\n",
       "                     = abandon (21, 22] x (0, 0]\n",
       "                      = pumping_out (22, 23] x (0, 0]\n",
       "                  ======== boiling (18, 26] x (0, 0]\n",
       "                  === heating (18, 21] x (0, 0]\n",
       "                     = delay (21, 22] x (0, 0]\n",
       "                      == protein_harvest (22, 24] x (0, 0]\n",
       "                        = abandon (24, 25] x (0, 0]\n",
       "                         = pumping_out (25, 26] x (0, 0]\n",
       "                        ====== analysis (24, 30] x (0, 0]\n",
       "                        == preparation (24, 26] x (0, 0]\n",
       "                          == analysis (26, 28] x (0, 0]\n",
       "                            == pumping (28, 30] x (0, 0]\n",
       "                             ============ packing (29, 41.0] x (0, 0]"
      ]
     },
     "execution_count": 11,
     "metadata": {},
     "output_type": "execute_result"
    }
   ],
   "source": [
    "make_schedule()"
   ]
  },
  {
   "cell_type": "code",
   "execution_count": 12,
   "metadata": {},
   "outputs": [],
   "source": [
    "def _make_frontend_boiling(boiling):\n",
    "    maker, make = init_block_maker(\n",
    "        \"boiling\",\n",
    "        axis=1,\n",
    "        size=(0, 3),\n",
    "        boiling_id=boiling.props[\"boiling_id\"],\n",
    "        boiling_label=boiling.props[\"boiling_label\"],\n",
    "    )\n",
    "\n",
    "    with make():\n",
    "        make(\"boiling_num\", size=(boiling[\"heating\"].size[0], 1))\n",
    "        make(\"boiling_name\", size=(boiling.size[0] - boiling[\"heating\"].size[0], 1))\n",
    "    return maker.root"
   ]
  },
  {
   "cell_type": "code",
   "execution_count": 13,
   "metadata": {},
   "outputs": [
    {
     "data": {
      "text/plain": [
       "======== boiling (0, 8] x (0, 3]\n",
       "======== block (0, 8] x (0, 1]\n",
       "=== boiling_num (0, 3] x (0, 1]\n",
       "   ===== boiling_name (3, 8] x (0, 1]"
      ]
     },
     "execution_count": 13,
     "metadata": {},
     "output_type": "execute_result"
    }
   ],
   "source": [
    "_make_frontend_boiling(make_boiling(boiling_model))"
   ]
  },
  {
   "cell_type": "code",
   "execution_count": 14,
   "metadata": {},
   "outputs": [],
   "source": [
    "def make_frontend(schedule):\n",
    "    maker, make = init_block_maker(\"frontend\", axis=1)\n",
    "    make(\"stub\", size=(0, 1)) # start with 1\n",
    "\n",
    "    boiling_lines = []\n",
    "    for i in range(3):\n",
    "        boiling_lines.append(\n",
    "            make(f\"boiling_line_{i}\", size=(0, 3), is_parent_node=True).block\n",
    "        )\n",
    "        make(\"stub\", size=(0, 2))\n",
    "\n",
    "    for boiling_group in listify(schedule['boiling_group']):\n",
    "        for i, line_num in enumerate(boiling_group.props['line_nums']):\n",
    "            boiling = listify(boiling_group['boiling_sequence']['boiling'])[i]\n",
    "            push(boiling_lines[line_num], _make_frontend_boiling(boiling))\n",
    "    return maker.root"
   ]
  },
  {
   "cell_type": "code",
   "execution_count": 15,
   "metadata": {},
   "outputs": [
    {
     "name": "stderr",
     "output_type": "stream",
     "text": [
      "2021-03-09 15:20:22.255 | DEBUG    | utils_ak.block_tree.pushers.iterative:update:106 - Disposition\n",
      "2021-03-09 15:20:22.258 | DEBUG    | utils_ak.block_tree.pushers.iterative:update:106 - Disposition\n",
      "2021-03-09 15:20:22.261 | DEBUG    | utils_ak.block_tree.pushers.iterative:update:106 - Disposition\n",
      "2021-03-09 15:20:22.266 | DEBUG    | utils_ak.block_tree.pushers.iterative:update:106 - Disposition\n",
      "2021-03-09 15:20:22.271 | DEBUG    | utils_ak.block_tree.pushers.iterative:update:106 - Disposition\n"
     ]
    },
    {
     "data": {
      "text/plain": [
       "================ frontend (0, 16] x (0, 16]\n",
       "================ boiling_line_0 (0, 16] x (1, 4]\n",
       "======== boiling (0, 8] x (1, 4]\n",
       "======== block (0, 8] x (1, 2]\n",
       "=== boiling_num (0, 3] x (1, 2]\n",
       "   ===== boiling_name (3, 8] x (1, 2]\n",
       "        ======== boiling (8, 16] x (1, 4]\n",
       "        ======== block (8, 16] x (1, 2]\n",
       "        === boiling_num (8, 11] x (1, 2]\n",
       "           ===== boiling_name (11, 16] x (1, 2]\n",
       "================ boiling_line_1 (0, 16] x (6, 9]\n",
       "======== boiling (0, 8] x (6, 9]\n",
       "======== block (0, 8] x (6, 7]\n",
       "=== boiling_num (0, 3] x (6, 7]\n",
       "   ===== boiling_name (3, 8] x (6, 7]\n",
       "        ======== boiling (8, 16] x (6, 9]\n",
       "        ======== block (8, 16] x (6, 7]\n",
       "        === boiling_num (8, 11] x (6, 7]\n",
       "           ===== boiling_name (11, 16] x (6, 7]\n",
       "================ boiling_line_2 (0, 16] x (11, 14]\n",
       "======== boiling (0, 8] x (11, 14]\n",
       "======== block (0, 8] x (11, 12]\n",
       "=== boiling_num (0, 3] x (11, 12]\n",
       "   ===== boiling_name (3, 8] x (11, 12]\n",
       "        ======== boiling (8, 16] x (11, 14]\n",
       "        ======== block (8, 16] x (11, 12]\n",
       "        === boiling_num (8, 11] x (11, 12]\n",
       "           ===== boiling_name (11, 16] x (11, 12]"
      ]
     },
     "execution_count": 15,
     "metadata": {},
     "output_type": "execute_result"
    }
   ],
   "source": [
    "schedule = make_schedule()\n",
    "frontend = make_frontend(schedule)\n",
    "frontend"
   ]
  },
  {
   "cell_type": "code",
   "execution_count": 16,
   "metadata": {},
   "outputs": [],
   "source": [
    "RICOTTA_STYLE = {\n",
    "    'boiling_num': {\"text\": \"{boiling_id}\"},\n",
    "    'boiling_name': {\"text\": \"{boiling_label}\"},\n",
    "        \"stub\": {\"visible\": False},\n",
    "}"
   ]
  },
  {
   "cell_type": "code",
   "execution_count": 17,
   "metadata": {},
   "outputs": [
    {
     "data": {
      "text/plain": [
       "<function app.schedule_maker.frontend.draw_excel_frontend(frontend, style, open_file=False, fn='schedule.xlsx')>"
      ]
     },
     "execution_count": 17,
     "metadata": {},
     "output_type": "execute_result"
    }
   ],
   "source": [
    "draw_excel_frontend"
   ]
  },
  {
   "cell_type": "code",
   "execution_count": 18,
   "metadata": {},
   "outputs": [
    {
     "data": {
      "text/plain": [
       "<openpyxl.workbook.workbook.Workbook at 0x7ff7f8451fd0>"
      ]
     },
     "execution_count": 18,
     "metadata": {},
     "output_type": "execute_result"
    }
   ],
   "source": [
    "draw_excel_frontend(frontend, RICOTTA_STYLE, open_file=True)"
   ]
  }
 ],
 "metadata": {
  "kernelspec": {
   "display_name": "master",
   "language": "python",
   "name": "master"
  },
  "language_info": {
   "codemirror_mode": {
    "name": "ipython",
    "version": 3
   },
   "file_extension": ".py",
   "mimetype": "text/x-python",
   "name": "python",
   "nbconvert_exporter": "python",
   "pygments_lexer": "ipython3",
   "version": "3.8.5"
  }
 },
 "nbformat": 4,
 "nbformat_minor": 4
}

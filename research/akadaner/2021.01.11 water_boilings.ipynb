{
 "cells": [
  {
   "cell_type": "code",
   "execution_count": 1,
   "metadata": {},
   "outputs": [],
   "source": [
    "import os\n",
    "import sys\n",
    "\n",
    "import warnings\n",
    "warnings.filterwarnings(\"ignore\") \n",
    "\n",
    "os.environ['UTILS_PATH'] = r'C:\\Users\\Mi\\Desktop\\code\\git\\python-utils-ak'\n",
    "os.environ['PROJECT_PATH'] = r'C:\\Users\\Mi\\Desktop\\code\\git\\2020.10-umalat\\umalat' \n",
    "os.environ['SQLITE_PATH'] = r'C:\\Users\\Mi\\Desktop\\code\\git\\2020.10-umalat\\umalat\\data.sqlite' \n",
    "sys.path.append(os.environ['PROJECT_PATH'])\n",
    "from app.interactive_imports import *"
   ]
  },
  {
   "cell_type": "code",
   "execution_count": 38,
   "metadata": {},
   "outputs": [],
   "source": [
    "# # boiling_plan_df = read_boiling_plan(r\"C:\\Users\\Mi\\Desktop\\code\\git\\2020.10-umalat\\umalat\\research\\akadaner\\2021-01-06 (5).xlsx\")\n",
    "# boiling_plan_df = read_boiling_plan(r\"C:\\Users\\Mi\\Desktop\\code\\git\\2020.10-umalat\\umalat\\app\\schedule_maker\\data\\sample_boiling_plan.xlsx\")\n",
    "# boilings = make_boilings_by_groups(boiling_plan_df)\n",
    "# schedule = make_schedule(boilings, start_times={'water': '08:00', 'salt': '07:00'})\n",
    "# frontend = make_frontend(schedule)\n",
    "# # draw_excel_frontend(frontend, open_file=True)"
   ]
  },
  {
   "cell_type": "code",
   "execution_count": 41,
   "metadata": {},
   "outputs": [
    {
     "data": {
      "text/plain": [
       "([[[<BoilingFormFactor 3>, 26], [<BoilingFormFactor 13>, 974]],\n",
       "  [[<BoilingFormFactor 4>, 1000]],\n",
       "  [[<BoilingFormFactor 4>, 1000]]],\n",
       " {1: [[<SKU 12>, <BoilingFormFactor 3>, 26],\n",
       "   [<SKU 25>, <BoilingFormFactor 13>, 974],\n",
       "   [<SKU 30>, <BoilingFormFactor 4>, 2000]]},\n",
       " 900)"
      ]
     },
     "execution_count": 41,
     "metadata": {},
     "output_type": "execute_result"
    }
   ],
   "source": [
    "df = read_boiling_plan(r\"C:\\Users\\Mi\\Desktop\\code\\git\\2020.10-umalat\\umalat\\app\\schedule_maker\\data\\sample_boiling_plan.xlsx\")\n",
    "mark_consecutive_groups(df, 'boiling', 'boiling_group')\n",
    "boiling_group_df = df[df['boiling_group'] == 2]\n",
    "transformer = BoilingGroupToSchemaTransformer()\n",
    "boilings_meltings, packings, melting_speed = transformer(boiling_group_df)\n",
    "boilings_meltings, packings, melting_speed"
   ]
  },
  {
   "cell_type": "code",
   "execution_count": 9,
   "metadata": {},
   "outputs": [
    {
     "data": {
      "text/plain": [
       "[[<utils_ak.fluid_flow.actors.container.Container at 0x17c8979f430>,\n",
       "  <utils_ak.fluid_flow.actors.queue.Queue at 0x17c8979f4c0>,\n",
       "  <utils_ak.fluid_flow.actors.queue.Queue at 0x17c8979ff40>],\n",
       " [<utils_ak.fluid_flow.actors.container.Container at 0x17c83a34dc0>,\n",
       "  <utils_ak.fluid_flow.actors.queue.Queue at 0x17c83a34a00>,\n",
       "  <utils_ak.fluid_flow.actors.queue.Queue at 0x17c897bbaf0>],\n",
       " [<utils_ak.fluid_flow.actors.container.Container at 0x17c897bbcd0>,\n",
       "  <utils_ak.fluid_flow.actors.queue.Queue at 0x17c897ad460>,\n",
       "  <utils_ak.fluid_flow.actors.queue.Queue at 0x17c897ad8b0>]]"
      ]
     },
     "execution_count": 9,
     "metadata": {},
     "output_type": "execute_result"
    }
   ],
   "source": [
    "# generate meltings by boilings\n",
    "res = []\n",
    "for boiling_meltings in boilings_meltings:\n",
    "    boiling_volume = sum(x[1] for x in boiling_meltings)\n",
    "    \n",
    "    drenator = Container('Drenator', value=boiling_volume, max_pressures=[None, None])\n",
    "    \n",
    "    melting_processors = []\n",
    "    cooling_processors = []\n",
    "    for i, (bff, kg) in enumerate(boiling_meltings):\n",
    "        melting_processor = Processor(f'Melting{i}', \n",
    "                                      items=['cheese_mass', bff],  \n",
    "                                      max_pressures=[melting_speed, melting_speed], \n",
    "                                      processing_time=0,  \n",
    "                                      limits=[kg, kg])\n",
    "        melting_processors.append(melting_processor)\n",
    "        \n",
    "        cooling_processor = Processor(f'Cooling{i}', \n",
    "                                      items=[bff, bff], \n",
    "                                      max_pressures=[None, None], \n",
    "                                      processing_time=bff.post_processing_time / 60, \n",
    "                                      limits=[kg, kg])\n",
    "        cooling_processors.append(cooling_processor)\n",
    "    melting_queue = Queue('MeltingQueue', melting_processors, break_funcs={'in': lambda old, new: 1 / 12})\n",
    "    cooling_queue = Queue('CoolingQueue', cooling_processors)\n",
    "    \n",
    "    res.append([drenator, melting_queue, cooling_queue])\n",
    "res"
   ]
  },
  {
   "cell_type": "code",
   "execution_count": 10,
   "metadata": {},
   "outputs": [
    {
     "data": {
      "text/plain": [
       "[<utils_ak.fluid_flow.actors.queue.Queue at 0x17c8979dca0>]"
      ]
     },
     "execution_count": 10,
     "metadata": {},
     "output_type": "execute_result"
    }
   ],
   "source": [
    "# generate packing queues\n",
    "packing_queues = []\n",
    "for packing_team_id, grp in sorted(packings.items(), key=lambda v: v[0]):\n",
    "    processors = []\n",
    "    \n",
    "    for j, (sku, bff, kg) in enumerate(grp):\n",
    "        processor = Processor(f'Packing{j}', \n",
    "                              items=[bff, sku],\n",
    "                             max_pressures=[sku.packing_speed, None],\n",
    "                             processing_time=0,\n",
    "                             limits=[kg, None])\n",
    "        processors.append(processor)\n",
    "    packing_queue = Queue(f'PackingQueue{packing_team_id}', processors, break_funcs={'in': lambda old, new: 1 / 12})\n",
    "    packing_queues.append(packing_queue)\n",
    "packing_queues"
   ]
  },
  {
   "cell_type": "code",
   "execution_count": 11,
   "metadata": {
    "scrolled": true
   },
   "outputs": [
    {
     "name": "stdout",
     "output_type": "stream",
     "text": [
      "Processing time 0\n",
      "Flow:\n",
      "    Container Drenator:default: 1000\n",
      "    Queue: MeltingQueue: [[\"Melting0\", [0, 0]], [\"Melting1\", [0, 0]]]\n",
      "    Queue: CoolingQueue: [[\"Cooling0\", [0, 0]], [\"Cooling1\", [0, 0]]]\n",
      "    Queue: PackingQueue1: [[\"Packing0\", [0, 0]], [\"Packing1\", [0, 0]], [\"Packing2\", [0, 0]]]\n",
      "\n",
      "Processing time 0.028888888888888888\n",
      "Flow:\n",
      "    Container Drenator:default: 974.0\n",
      "    Queue: MeltingQueue: [[\"Melting0\", [0.0, 0.0]], [\"Melting1\", [0, 0]]]\n",
      "    Queue: CoolingQueue: [[\"Cooling0\", [26.0, 0]], [\"Cooling1\", [0, 0]]]\n",
      "    Queue: PackingQueue1: [[\"Packing0\", [0, 0]], [\"Packing1\", [0, 0]], [\"Packing2\", [0, 0]]]\n",
      "\n",
      "Resuming 0.11222222222222222\n",
      "Processing time 0.11222222222222222\n",
      "Flow:\n",
      "    Container Drenator:default: 974.0\n",
      "    Queue: MeltingQueue: [[\"Melting0\", [0.0, 0.0]], [\"Melting1\", [0, 0]]]\n",
      "    Queue: CoolingQueue: [[\"Cooling0\", [26.0, 0]], [\"Cooling1\", [0, 0]]]\n",
      "    Queue: PackingQueue1: [[\"Packing0\", [0, 0]], [\"Packing1\", [0, 0]], [\"Packing2\", [0, 0]]]\n",
      "\n",
      "Processing time 1.1111111111111112\n",
      "Flow:\n",
      "    Container Drenator:default: 75.0\n",
      "    Queue: MeltingQueue: [[\"Melting0\", [0.0, 0.0]], [\"Melting1\", [0.0, 0.0]]]\n",
      "    Queue: CoolingQueue: [[\"Cooling0\", [26.0, 0]], [\"Cooling1\", [899.0, 0]]]\n",
      "    Queue: PackingQueue1: [[\"Packing0\", [0, 0]], [\"Packing1\", [0, 0]], [\"Packing2\", [0, 0]]]\n",
      "\n",
      "Processing time 1.1944444444444444\n",
      "Flow:\n",
      "    Container Drenator:default: 7.105427357601002e-14\n",
      "    Queue: MeltingQueue: [[\"Melting0\", [0.0, 0.0]], [\"Melting1\", [0.0, 0.0]]]\n",
      "    Queue: CoolingQueue: [[\"Cooling0\", [26.0, 0]], [\"Cooling1\", [973.9999999999999, 0]]]\n",
      "    Queue: PackingQueue1: [[\"Packing0\", [0, 0]], [\"Packing1\", [0, 0]], [\"Packing2\", [0, 0]]]\n",
      "\n",
      "Processing time 1.25\n",
      "Flow:\n",
      "    Container Drenator:default: 7.105427357601002e-14\n",
      "    Queue: MeltingQueue: [[\"Melting0\", [0.0, 0.0]], [\"Melting1\", [0.0, 0.0]]]\n",
      "    Queue: CoolingQueue: [[\"Cooling0\", [26.0, 0]], [\"Cooling1\", [973.9999999999999, 0]]]\n",
      "    Queue: PackingQueue1: [[\"Packing0\", [0, 0]], [\"Packing1\", [0, 0]], [\"Packing2\", [0, 0]]]\n",
      "\n",
      "Processing time 1.3622222222222222\n",
      "Flow:\n",
      "    Container Drenator:default: 7.105427357601002e-14\n",
      "    Queue: MeltingQueue: [[\"Melting0\", [0.0, 0.0]], [\"Melting1\", [0.0, 0.0]]]\n",
      "    Queue: CoolingQueue: [[\"Cooling0\", [26.0, 0]], [\"Cooling1\", [973.9999999999999, 0]]]\n",
      "    Queue: PackingQueue1: [[\"Packing0\", [0, 0]], [\"Packing1\", [0, 0]], [\"Packing2\", [0, 0]]]\n",
      "\n",
      "Processing time 1.5\n",
      "Flow:\n",
      "    Container Drenator:default: 7.105427357601002e-14\n",
      "    Queue: MeltingQueue: [[\"Melting0\", [0.0, 0.0]], [\"Melting1\", [0.0, 0.0]]]\n",
      "    Queue: CoolingQueue: [[\"Cooling0\", [26.0, 0]], [\"Cooling1\", [849.9999999999999, 124.0]]]\n",
      "    Queue: PackingQueue1: [[\"Packing0\", [0, 0]], [\"Packing1\", [0, 0]], [\"Packing2\", [0, 0]]]\n",
      "\n",
      "Processing time 1.528888888888889\n",
      "Flow:\n",
      "    Container Drenator:default: 7.105427357601002e-14\n",
      "    Queue: MeltingQueue: [[\"Melting0\", [0.0, 0.0]], [\"Melting1\", [0.0, 0.0]]]\n",
      "    Queue: CoolingQueue: [[\"Cooling0\", [-6.750155989720952e-14, 1.7333333333333378]], [\"Cooling1\", [823.9999999999998, 150.00000000000006]]]\n",
      "    Queue: PackingQueue1: [[\"Packing0\", [0.0, 24.26666666666673]], [\"Packing1\", [0, 0]], [\"Packing2\", [0, 0]]]\n",
      "\n",
      "Processing time 1.528888888888889\n",
      "Flow:\n",
      "    Container Drenator:default: 7.105427357601002e-14\n",
      "    Queue: MeltingQueue: [[\"Melting0\", [0.0, 0.0]], [\"Melting1\", [0.0, 0.0]]]\n",
      "    Queue: CoolingQueue: [[\"Cooling0\", [-6.750155989720952e-14, 1.7333333333333378]], [\"Cooling1\", [823.9999999999998, 150.00000000000006]]]\n",
      "    Queue: PackingQueue1: [[\"Packing0\", [0.0, 24.26666666666673]], [\"Packing1\", [0, 0]], [\"Packing2\", [0, 0]]]\n",
      "\n",
      "Processing time 1.5309523809523808\n",
      "Flow:\n",
      "    Container Drenator:default: 7.105427357601002e-14\n",
      "    Queue: MeltingQueue: [[\"Melting0\", [0.0, 0.0]], [\"Melting1\", [0.0, 0.0]]]\n",
      "    Queue: CoolingQueue: [[\"Cooling0\", [-6.750155989720952e-14, 1.5987211554602254e-13]], [\"Cooling1\", [822.1428571428571, 151.85714285714275]]]\n",
      "    Queue: PackingQueue1: [[\"Packing0\", [0.0, 25.999999999999908]], [\"Packing1\", [0, 0]], [\"Packing2\", [0, 0]]]\n",
      "\n",
      "Resuming 1.614285714285714\n",
      "Processing time 1.614285714285714\n",
      "Flow:\n",
      "    Container Drenator:default: 7.105427357601002e-14\n",
      "    Queue: MeltingQueue: [[\"Melting0\", [0.0, 0.0]], [\"Melting1\", [0.0, 0.0]]]\n",
      "    Queue: CoolingQueue: [[\"Cooling0\", [-6.750155989720952e-14, 1.5987211554602254e-13]], [\"Cooling1\", [747.1428571428572, 226.85714285714266]]]\n",
      "    Queue: PackingQueue1: [[\"Packing0\", [0.0, 25.999999999999908]], [\"Packing1\", [0, 0]], [\"Packing2\", [0, 0]]]\n",
      "\n",
      "Processing time 2.4444444444444446\n",
      "Flow:\n",
      "    Container Drenator:default: 7.105427357601002e-14\n",
      "    Queue: MeltingQueue: [[\"Melting0\", [0.0, 0.0]], [\"Melting1\", [0.0, 0.0]]]\n",
      "    Queue: CoolingQueue: [[\"Cooling0\", [-6.750155989720952e-14, 1.5987211554602254e-13]], [\"Cooling1\", [-2.2737367544323206e-13, 177.0476190476188]]]\n",
      "    Queue: PackingQueue1: [[\"Packing0\", [0.0, 25.999999999999908]], [\"Packing1\", [0.0, 796.9523809523813]], [\"Packing2\", [0, 0]]]\n",
      "\n",
      "Processing time 2.4444444444444446\n",
      "Flow:\n",
      "    Container Drenator:default: 7.105427357601002e-14\n",
      "    Queue: MeltingQueue: [[\"Melting0\", [0.0, 0.0]], [\"Melting1\", [0.0, 0.0]]]\n",
      "    Queue: CoolingQueue: [[\"Cooling0\", [-6.750155989720952e-14, 1.5987211554602254e-13]], [\"Cooling1\", [-2.2737367544323206e-13, 177.0476190476188]]]\n",
      "    Queue: PackingQueue1: [[\"Packing0\", [0.0, 25.999999999999908]], [\"Packing1\", [0.0, 796.9523809523813]], [\"Packing2\", [0, 0]]]\n",
      "\n",
      "Processing time 2.6288690476190473\n",
      "Flow:\n",
      "    Container Drenator:default: 7.105427357601002e-14\n",
      "    Queue: MeltingQueue: [[\"Melting0\", [0.0, 0.0]], [\"Melting1\", [0.0, 0.0]]]\n",
      "    Queue: CoolingQueue: [[\"Cooling0\", [-6.750155989720952e-14, 1.5987211554602254e-13]], [\"Cooling1\", [-2.2737367544323206e-13, 2.8421709430404007e-13]]]\n",
      "    Queue: PackingQueue1: [[\"Packing0\", [0.0, 25.999999999999908]], [\"Packing1\", [0.0, 973.9999999999998]], [\"Packing2\", [0, 0]]]\n",
      "\n",
      "Resuming 2.7122023809523808\n",
      "Processing time 2.7122023809523808\n",
      "Flow:\n",
      "    Container Drenator:default: 7.105427357601002e-14\n",
      "    Queue: MeltingQueue: [[\"Melting0\", [0.0, 0.0]], [\"Melting1\", [0.0, 0.0]]]\n",
      "    Queue: CoolingQueue: [[\"Cooling0\", [-6.750155989720952e-14, 1.5987211554602254e-13]], [\"Cooling1\", [-2.2737367544323206e-13, 2.8421709430404007e-13]]]\n",
      "    Queue: PackingQueue1: [[\"Packing0\", [0.0, 25.999999999999908]], [\"Packing1\", [0.0, 973.9999999999998]], [\"Packing2\", [0, 0]]]\n",
      "\n",
      "================================ root (0, 32.0] x (0, 7]\n",
      "=============== Drenator-default (0.0, 15.0] x (0, 1]\n",
      "= MeltingQueue-cheese_mass (0.0, 1.0] x (1, 2]\n",
      "  ============= MeltingQueue-cheese_mass (2.0, 15.0] x (2, 3]\n",
      "=================== CoolingQueue-<BoilingFormFactor 3> (0.0, 19.0] x (3, 4]\n",
      "  ============================ CoolingQueue-<BoilingFormFactor 13> (2.0, 30.0] x (4, 5]\n",
      "                  = PackingQueue1-<BoilingFormFactor 3> (18.0, 19.0] x (5, 6]\n",
      "                    ============ PackingQueue1-<BoilingFormFactor 13> (20.0, 32.0] x (6, 7]\n",
      "\n"
     ]
    }
   ],
   "source": [
    "# for drenator, melting_queue, cooling_queue in res:\n",
    "drenator, melting_queue, cooling_queue = res[0]\n",
    "\n",
    "packing_hub = Hub('hub')\n",
    "\n",
    "pipe_connect(drenator, melting_queue, 'drenator-melting')\n",
    "pipe_connect(melting_queue, cooling_queue, 'melting-cooling')\n",
    "pipe_connect(cooling_queue, packing_hub, 'cooling-hub')\n",
    "\n",
    "for i, packing_queue in enumerate(packing_queues):\n",
    "    pipe_connect(packing_hub, packing_queue, f'hub-packing_queue{i}')\n",
    "\n",
    "flow = FluidFlow(drenator, verbose=True)\n",
    "run_flow(flow)\n",
    "\n",
    "maker, make = init_block_maker('root', axis=1)\n",
    "\n",
    "for node in drenator.iterate('down'):\n",
    "    if node.active_periods():\n",
    "        for period in node.active_periods():\n",
    "            label = '-'.join([str(node.id), str(period[0])])\n",
    "            beg, end = period[1:]\n",
    "            beg, end = custom_round(beg * 60, 5, 'ceil') // 5, custom_round(end * 60, 5, 'ceil') // 5\n",
    "            make(label, x=[beg, 0], size=(end - beg, 1))\n",
    "print(maker.root.tabular())\n",
    "\n",
    "\n",
    "# # clean-up\n",
    "# for node in drenator.iterate('down'):\n",
    "#     node.reset()\n",
    "\n",
    "# remove packers from current boiling\n",
    "for packing_queue in packing_queues:\n",
    "    pipe_disconnect(packing_hub, packing_queue)\n",
    "    "
   ]
  },
  {
   "cell_type": "code",
   "execution_count": 12,
   "metadata": {},
   "outputs": [
    {
     "data": {
      "text/plain": [
       "[['cheese_mass', 0, 0.028888888888888888],\n",
       " ['cheese_mass', 0.11222222222222222, 1.1944444444444444]]"
      ]
     },
     "execution_count": 12,
     "metadata": {},
     "output_type": "execute_result"
    }
   ],
   "source": [
    "melting_queue.active_periods()"
   ]
  },
  {
   "cell_type": "code",
   "execution_count": 55,
   "metadata": {},
   "outputs": [
    {
     "data": {
      "text/plain": [
       "[[<BoilingFormFactor 4>, 0, 2.361111111111111]]"
      ]
     },
     "execution_count": 55,
     "metadata": {},
     "output_type": "execute_result"
    }
   ],
   "source": [
    "cooling_queue.active_periods()"
   ]
  },
  {
   "cell_type": "code",
   "execution_count": 15,
   "metadata": {},
   "outputs": [
    {
     "data": {
      "text/plain": [
       "[[<BoilingFormFactor 3>, 1.5, 1.5309523809523808],\n",
       " [<BoilingFormFactor 13>, 1.614285714285714, 2.6288690476190473]]"
      ]
     },
     "execution_count": 15,
     "metadata": {},
     "output_type": "execute_result"
    }
   ],
   "source": [
    "packing_queue.active_periods('in')"
   ]
  },
  {
   "cell_type": "code",
   "execution_count": 16,
   "metadata": {},
   "outputs": [
    {
     "data": {
      "text/plain": [
       "[[<SKU 12>, 1.5, 1.5309523809523808],\n",
       " [<SKU 25>, 1.614285714285714, 2.6288690476190473]]"
      ]
     },
     "execution_count": 16,
     "metadata": {},
     "output_type": "execute_result"
    }
   ],
   "source": [
    "packing_queue.active_periods('out')"
   ]
  },
  {
   "cell_type": "code",
   "execution_count": 32,
   "metadata": {},
   "outputs": [
    {
     "data": {
      "text/html": [
       "<div>\n",
       "<style scoped>\n",
       "    .dataframe tbody tr th:only-of-type {\n",
       "        vertical-align: middle;\n",
       "    }\n",
       "\n",
       "    .dataframe tbody tr th {\n",
       "        vertical-align: top;\n",
       "    }\n",
       "\n",
       "    .dataframe thead th {\n",
       "        text-align: right;\n",
       "    }\n",
       "</style>\n",
       "<table border=\"1\" class=\"dataframe\">\n",
       "  <thead>\n",
       "    <tr style=\"text-align: right;\">\n",
       "      <th></th>\n",
       "      <th>item</th>\n",
       "      <th>beg</th>\n",
       "      <th>end</th>\n",
       "    </tr>\n",
       "  </thead>\n",
       "  <tbody>\n",
       "    <tr>\n",
       "      <th>0</th>\n",
       "      <td>cheese_mass</td>\n",
       "      <td>0.000000</td>\n",
       "      <td>0.028889</td>\n",
       "    </tr>\n",
       "    <tr>\n",
       "      <th>1</th>\n",
       "      <td>cheese_mass</td>\n",
       "      <td>0.112222</td>\n",
       "      <td>1.194444</td>\n",
       "    </tr>\n",
       "  </tbody>\n",
       "</table>\n",
       "</div>"
      ],
      "text/plain": [
       "          item       beg       end\n",
       "0  cheese_mass  0.000000  0.028889\n",
       "1  cheese_mass  0.112222  1.194444"
      ]
     },
     "execution_count": 32,
     "metadata": {},
     "output_type": "execute_result"
    }
   ],
   "source": [
    "df = pd.DataFrame(melting_queue.active_periods(), columns=['item', 'beg', 'end'])\n",
    "df"
   ]
  },
  {
   "cell_type": "code",
   "execution_count": 33,
   "metadata": {},
   "outputs": [
    {
     "data": {
      "text/html": [
       "<div>\n",
       "<style scoped>\n",
       "    .dataframe tbody tr th:only-of-type {\n",
       "        vertical-align: middle;\n",
       "    }\n",
       "\n",
       "    .dataframe tbody tr th {\n",
       "        vertical-align: top;\n",
       "    }\n",
       "\n",
       "    .dataframe thead th {\n",
       "        text-align: right;\n",
       "    }\n",
       "</style>\n",
       "<table border=\"1\" class=\"dataframe\">\n",
       "  <thead>\n",
       "    <tr style=\"text-align: right;\">\n",
       "      <th></th>\n",
       "      <th>item</th>\n",
       "      <th>beg</th>\n",
       "      <th>end</th>\n",
       "    </tr>\n",
       "  </thead>\n",
       "  <tbody>\n",
       "    <tr>\n",
       "      <th>0</th>\n",
       "      <td>cheese_mass</td>\n",
       "      <td>0.000000</td>\n",
       "      <td>1.733333</td>\n",
       "    </tr>\n",
       "    <tr>\n",
       "      <th>1</th>\n",
       "      <td>cheese_mass</td>\n",
       "      <td>6.733333</td>\n",
       "      <td>71.666667</td>\n",
       "    </tr>\n",
       "  </tbody>\n",
       "</table>\n",
       "</div>"
      ],
      "text/plain": [
       "          item       beg        end\n",
       "0  cheese_mass  0.000000   1.733333\n",
       "1  cheese_mass  6.733333  71.666667"
      ]
     },
     "execution_count": 33,
     "metadata": {},
     "output_type": "execute_result"
    }
   ],
   "source": [
    "# move to minutes\n",
    "df['beg'] = df['beg'] * 60\n",
    "df['end'] = df['end'] * 60\n",
    "df"
   ]
  },
  {
   "cell_type": "code",
   "execution_count": 34,
   "metadata": {},
   "outputs": [
    {
     "data": {
      "text/html": [
       "<div>\n",
       "<style scoped>\n",
       "    .dataframe tbody tr th:only-of-type {\n",
       "        vertical-align: middle;\n",
       "    }\n",
       "\n",
       "    .dataframe tbody tr th {\n",
       "        vertical-align: top;\n",
       "    }\n",
       "\n",
       "    .dataframe thead th {\n",
       "        text-align: right;\n",
       "    }\n",
       "</style>\n",
       "<table border=\"1\" class=\"dataframe\">\n",
       "  <thead>\n",
       "    <tr style=\"text-align: right;\">\n",
       "      <th></th>\n",
       "      <th>item</th>\n",
       "      <th>beg</th>\n",
       "      <th>end</th>\n",
       "    </tr>\n",
       "  </thead>\n",
       "  <tbody>\n",
       "    <tr>\n",
       "      <th>0</th>\n",
       "      <td>cheese_mass</td>\n",
       "      <td>0.000000</td>\n",
       "      <td>1.733333</td>\n",
       "    </tr>\n",
       "    <tr>\n",
       "      <th>1</th>\n",
       "      <td>cheese_mass</td>\n",
       "      <td>6.733333</td>\n",
       "      <td>75.000000</td>\n",
       "    </tr>\n",
       "  </tbody>\n",
       "</table>\n",
       "</div>"
      ],
      "text/plain": [
       "          item       beg        end\n",
       "0  cheese_mass  0.000000   1.733333\n",
       "1  cheese_mass  6.733333  75.000000"
      ]
     },
     "execution_count": 34,
     "metadata": {},
     "output_type": "execute_result"
    }
   ],
   "source": [
    "# round last end up\n",
    "df.at[df.index[-1], 'end'] = custom_round(df.at[df.index[-1], 'end'], 5, 'ceil')\n",
    "df"
   ]
  },
  {
   "cell_type": "code",
   "execution_count": 35,
   "metadata": {},
   "outputs": [
    {
     "data": {
      "text/html": [
       "<div>\n",
       "<style scoped>\n",
       "    .dataframe tbody tr th:only-of-type {\n",
       "        vertical-align: middle;\n",
       "    }\n",
       "\n",
       "    .dataframe tbody tr th {\n",
       "        vertical-align: top;\n",
       "    }\n",
       "\n",
       "    .dataframe thead th {\n",
       "        text-align: right;\n",
       "    }\n",
       "</style>\n",
       "<table border=\"1\" class=\"dataframe\">\n",
       "  <thead>\n",
       "    <tr style=\"text-align: right;\">\n",
       "      <th></th>\n",
       "      <th>item</th>\n",
       "      <th>beg</th>\n",
       "      <th>end</th>\n",
       "    </tr>\n",
       "  </thead>\n",
       "  <tbody>\n",
       "    <tr>\n",
       "      <th>0</th>\n",
       "      <td>cheese_mass</td>\n",
       "      <td>0.0</td>\n",
       "      <td>0.0</td>\n",
       "    </tr>\n",
       "    <tr>\n",
       "      <th>1</th>\n",
       "      <td>cheese_mass</td>\n",
       "      <td>5.0</td>\n",
       "      <td>75.0</td>\n",
       "    </tr>\n",
       "  </tbody>\n",
       "</table>\n",
       "</div>"
      ],
      "text/plain": [
       "          item  beg   end\n",
       "0  cheese_mass  0.0   0.0\n",
       "1  cheese_mass  5.0  75.0"
      ]
     },
     "execution_count": 35,
     "metadata": {},
     "output_type": "execute_result"
    }
   ],
   "source": [
    "# round to five-minute intervals\n",
    "df['beg'] = df['beg'].apply(lambda ts: None if ts is None else custom_round(ts, 5))\n",
    "df['end'] = df['end'].apply(lambda ts: None if ts is None else custom_round(ts, 5))\n",
    "df"
   ]
  },
  {
   "cell_type": "code",
   "execution_count": 36,
   "metadata": {},
   "outputs": [],
   "source": [
    "# fix small intervals (like beg_ts and end_ts: 5, 5 -> 5, 10)\n",
    "for i in range(len(df)):\n",
    "    if i >= 1:\n",
    "        while df.at[i, 'beg'] <= df.at[i - 1, 'end']:\n",
    "            df.at[i, 'beg'] += 5\n",
    "\n",
    "    while df.at[i, 'beg'] >= df.at[i, 'end']:\n",
    "        df.at[i, 'end'] += 5"
   ]
  },
  {
   "cell_type": "code",
   "execution_count": 37,
   "metadata": {},
   "outputs": [
    {
     "data": {
      "text/html": [
       "<div>\n",
       "<style scoped>\n",
       "    .dataframe tbody tr th:only-of-type {\n",
       "        vertical-align: middle;\n",
       "    }\n",
       "\n",
       "    .dataframe tbody tr th {\n",
       "        vertical-align: top;\n",
       "    }\n",
       "\n",
       "    .dataframe thead th {\n",
       "        text-align: right;\n",
       "    }\n",
       "</style>\n",
       "<table border=\"1\" class=\"dataframe\">\n",
       "  <thead>\n",
       "    <tr style=\"text-align: right;\">\n",
       "      <th></th>\n",
       "      <th>item</th>\n",
       "      <th>beg</th>\n",
       "      <th>end</th>\n",
       "    </tr>\n",
       "  </thead>\n",
       "  <tbody>\n",
       "    <tr>\n",
       "      <th>0</th>\n",
       "      <td>cheese_mass</td>\n",
       "      <td>0.0</td>\n",
       "      <td>5.0</td>\n",
       "    </tr>\n",
       "    <tr>\n",
       "      <th>1</th>\n",
       "      <td>cheese_mass</td>\n",
       "      <td>10.0</td>\n",
       "      <td>75.0</td>\n",
       "    </tr>\n",
       "  </tbody>\n",
       "</table>\n",
       "</div>"
      ],
      "text/plain": [
       "          item   beg   end\n",
       "0  cheese_mass   0.0   5.0\n",
       "1  cheese_mass  10.0  75.0"
      ]
     },
     "execution_count": 37,
     "metadata": {},
     "output_type": "execute_result"
    }
   ],
   "source": [
    "df"
   ]
  },
  {
   "cell_type": "code",
   "execution_count": null,
   "metadata": {},
   "outputs": [],
   "source": []
  },
  {
   "cell_type": "code",
   "execution_count": null,
   "metadata": {},
   "outputs": [],
   "source": [
    "with make('melting'):\n",
    "    boiling_model = boiling_group.iloc[0]['boiling']\n",
    "\n",
    "    serving = make('serving', size=(boiling_model.meltings.serving_time // 5, 0), push_func=add_push).block\n",
    "    meltings = make('meltings', x=(serving.size[0], 0), push_func=add_push).block\n",
    "    coolings = make('coolings', x=(serving.size[0], 0), push_func=add_push).block\n",
    "    \n",
    "    for \n",
    "    \n",
    "    for i, (group, grp) in enumerate(boiling_plan.groupby('bff_group')):\n",
    "        if i >= 1 and boiling_model.boiling_type == 'water':\n",
    "            # non-first group - reconfigure time\n",
    "            push(meltings, maker.create_block('melting_configuration', size=(1, 0)))\n",
    "\n",
    "        # todo: del\n",
    "        if boiling_model.boiling_type == 'salt':\n",
    "            boiling_model.meltings.speed = 850 / 50 * 60\n",
    "\n",
    "        melting_process = maker.create_block('melting_process',\n",
    "                                             size=(int(custom_round(grp['kg'].sum() / boiling_model.meltings.speed * 60, 5, 'ceil')) // 5, 0),\n",
    "                                             bff=grp.iloc[0]['bff'])\n",
    "\n",
    "        push(meltings, melting_process)\n",
    "\n",
    "        # add cooling\n",
    "        cooling_process = maker.create_block('cooling_process', x=melting_process.props['x_rel'])\n",
    "        _, cooling_make = init_block_maker(cooling_process)\n",
    "\n",
    "        with cooling_make('start'):\n",
    "            if boiling_model.boiling_type == 'water':\n",
    "                cooling_make('cooling', size=(boiling_model.meltings.first_cooling_time // 5, 0))\n",
    "                cooling_make('cooling', size=(boiling_model.meltings.second_cooling_time // 5, 0))\n",
    "            elif boiling_model.boiling_type == 'salt':\n",
    "                cooling_make('salting', size=(boiling_model.meltings.salting_time // 5, 0))\n",
    "\n",
    "        with cooling_make('finish'):\n",
    "            if boiling_model.boiling_type == 'water':\n",
    "                cooling_make('cooling', size=(melting_process.size[0], 0))\n",
    "            elif boiling_model.boiling_type == 'salt':\n",
    "                cooling_make('salting', size=(melting_process.size[0], 0))\n",
    "\n",
    "        push(coolings, cooling_process, push_func=add_push)\n",
    "\n",
    "with make('packing',\n",
    "          x=(listify(maker.root['melting']['coolings']['cooling_process'])[0]['start'].y[0], 0),\n",
    "          packing_team_id=1, push_func=add_push):\n",
    "    for i, (_, row) in enumerate(boiling_plan.iterrows()):\n",
    "        sku, kg = row['sku'], row['kg']\n",
    "        packing_speed = min(sku.packing_speed, boiling_model.meltings.speed)\n",
    "        make('packing_process',\n",
    "             size=[int(custom_round(kg / packing_speed * 60, 5, rounding='ceil')) // 5, 0],\n",
    "             sku=sku)\n",
    "\n",
    "        if i != len(boiling_plan) - 1:\n",
    "            # add configuration\n",
    "            conf_time_size = get_configuration_time(boiling_model, sku, boiling_plan.iloc[i + 1]['sku'])\n",
    "\n",
    "            if conf_time_size:\n",
    "                make('packing_configuration', size=[conf_time_size // 5, 0])\n",
    "\n",
    "return maker.root\n",
    "\n",
    "\n"
   ]
  }
 ],
 "metadata": {
  "kernelspec": {
   "display_name": "Python 3",
   "language": "python",
   "name": "python3"
  },
  "language_info": {
   "codemirror_mode": {
    "name": "ipython",
    "version": 3
   },
   "file_extension": ".py",
   "mimetype": "text/x-python",
   "name": "python",
   "nbconvert_exporter": "python",
   "pygments_lexer": "ipython3",
   "version": "3.8.5"
  }
 },
 "nbformat": 4,
 "nbformat_minor": 4
}

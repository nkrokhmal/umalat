{
 "cells": [
  {
   "cell_type": "code",
   "execution_count": 1,
   "metadata": {},
   "outputs": [],
   "source": [
    "import os\n",
    "import sys\n",
    "\n",
    "import warnings\n",
    "warnings.filterwarnings(\"ignore\") \n",
    "\n",
    "os.environ['UTILS_PATH'] = r'C:\\Users\\Mi\\Desktop\\code\\git\\python-utils-ak'\n",
    "os.environ['PROJECT_PATH'] = r'C:\\Users\\Mi\\Desktop\\code\\git\\2020.10-umalat\\umalat' \n",
    "os.environ['SQLITE_PATH'] = r'C:\\Users\\Mi\\Desktop\\code\\git\\2020.10-umalat\\umalat\\data.sqlite' \n",
    "sys.path.append(os.environ['PROJECT_PATH'])\n",
    "from app.interactive_imports import *"
   ]
  },
  {
   "cell_type": "code",
   "execution_count": 2,
   "metadata": {},
   "outputs": [],
   "source": [
    "# # boiling_plan_df = read_boiling_plan(r\"C:\\Users\\Mi\\Desktop\\code\\git\\2020.10-umalat\\umalat\\research\\akadaner\\2021-01-06 (5).xlsx\")\n",
    "# boiling_plan_df = read_boiling_plan(r\"C:\\Users\\Mi\\Desktop\\code\\git\\2020.10-umalat\\umalat\\app\\schedule_maker\\data\\sample_boiling_plan.xlsx\")\n",
    "# boilings = make_boilings_by_groups(boiling_plan_df)\n",
    "# schedule = make_schedule(boilings, start_times={'water': '08:00', 'salt': '07:00'})\n",
    "# frontend = make_frontend(schedule)\n",
    "# draw_excel_frontend(frontend, open_file=True)"
   ]
  },
  {
   "cell_type": "code",
   "execution_count": 3,
   "metadata": {},
   "outputs": [
    {
     "data": {
      "text/plain": [
       "[{'meltings':           item       beg        end\n",
       "  0  cheese_mass  0.000000   1.733333\n",
       "  1  cheese_mass  6.733333  71.666667,\n",
       "  'coolings':                      item       beg         end\n",
       "  0   <BoilingFormFactor 3>  0.000000   91.733333\n",
       "  1  <BoilingFormFactor 13>  6.733333  146.666667,\n",
       "  'packings': [       item        beg         end\n",
       "   0  <SKU 12>  90.000000   91.857143\n",
       "   1  <SKU 25>  96.857143  157.732143]},\n",
       " {'meltings':           item  beg        end\n",
       "  0  cheese_mass    0  66.666667,\n",
       "  'coolings':                     item  beg         end\n",
       "  0  <BoilingFormFactor 4>    0  141.666667,\n",
       "  'packings': [       item   beg         end\n",
       "   0  <SKU 30>  75.0  143.493151]},\n",
       " {'meltings':           item  beg        end\n",
       "  0  cheese_mass    0  66.666667,\n",
       "  'coolings':                     item  beg         end\n",
       "  0  <BoilingFormFactor 4>    0  141.666667,\n",
       "  'packings': [       item   beg         end\n",
       "   0  <SKU 30>  75.0  143.493151]}]"
      ]
     },
     "execution_count": 3,
     "metadata": {},
     "output_type": "execute_result"
    }
   ],
   "source": [
    "from app.schedule_maker import read_boiling_plan\n",
    "# df = read_boiling_plan(r\"../data/sample_boiling_plan.xlsx\")\n",
    "df = read_boiling_plan(r\"C:\\Users\\Mi\\Desktop\\code\\git\\2020.10-umalat\\umalat\\app\\schedule_maker\\data\\sample_boiling_plan.xlsx\")\n",
    "\n",
    "mark_consecutive_groups(df, 'boiling', 'boiling_group')\n",
    "boiling_group_df = df[df['boiling_group'] == 2]\n",
    "\n",
    "boilings_meltings, packings, melting_speed = BoilingGroupToSchemaTransformer()(boiling_group_df)\n",
    "boilings_dataframes = SchemaToBoilingsDataFramesTransformer()(boilings_meltings, packings, melting_speed, post_process=True)\n",
    "boilings_dataframes"
   ]
  },
  {
   "cell_type": "code",
   "execution_count": 4,
   "metadata": {},
   "outputs": [
    {
     "data": {
      "text/plain": [
       "{'meltings':           item       beg        end\n",
       " 0  cheese_mass  0.000000   1.733333\n",
       " 1  cheese_mass  6.733333  71.666667,\n",
       " 'coolings':                      item       beg         end\n",
       " 0   <BoilingFormFactor 3>  0.000000   91.733333\n",
       " 1  <BoilingFormFactor 13>  6.733333  146.666667,\n",
       " 'packings': [       item        beg         end\n",
       "  0  <SKU 12>  90.000000   91.857143\n",
       "  1  <SKU 25>  96.857143  157.732143]}"
      ]
     },
     "execution_count": 4,
     "metadata": {},
     "output_type": "execute_result"
    }
   ],
   "source": [
    "boiling_dataframes = boilings_dataframes[0]\n",
    "boiling_dataframes"
   ]
  },
  {
   "cell_type": "code",
   "execution_count": 14,
   "metadata": {},
   "outputs": [
    {
     "data": {
      "text/plain": [
       "============================ coolings (0, 28.0] x (0, 0]\n",
       "================== cooling_process (0.0, 18.0] x (0, 0]\n",
       "======== start (0.0, 8.0] x (0, 0]\n",
       "==== cooling (0.0, 4.0] x (0, 0]\n",
       "    ==== cooling (4.0, 8.0] x (0, 0]\n",
       "        ========== finish (8.0, 18.0] x (0, 0]\n",
       "        ========== cooling (8.0, 18.0] x (0, 0]\n",
       " =========================== cooling_process (1.0, 28.0] x (0, 0]\n",
       " ======== start (1.0, 9.0] x (0, 0]\n",
       " ==== cooling (1.0, 5.0] x (0, 0]\n",
       "     ==== cooling (5.0, 9.0] x (0, 0]\n",
       "         =================== finish (9.0, 28.0] x (0, 0]\n",
       "         =================== cooling (9.0, 28.0] x (0, 0]"
      ]
     },
     "execution_count": 14,
     "metadata": {},
     "output_type": "execute_result"
    }
   ],
   "source": [
    "boiling_model = boiling_group_df.iloc[0]['boiling']\n",
    "make_cooling_line(boiling_dataframes['coolings'], boiling_model)"
   ]
  }
 ],
 "metadata": {
  "kernelspec": {
   "display_name": "Python 3",
   "language": "python",
   "name": "python3"
  },
  "language_info": {
   "codemirror_mode": {
    "name": "ipython",
    "version": 3
   },
   "file_extension": ".py",
   "mimetype": "text/x-python",
   "name": "python",
   "nbconvert_exporter": "python",
   "pygments_lexer": "ipython3",
   "version": "3.8.5"
  }
 },
 "nbformat": 4,
 "nbformat_minor": 4
}

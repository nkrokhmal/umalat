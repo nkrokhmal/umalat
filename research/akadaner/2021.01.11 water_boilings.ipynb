{
 "cells": [
  {
   "cell_type": "code",
   "execution_count": 1,
   "metadata": {},
   "outputs": [],
   "source": [
    "import os\n",
    "import sys\n",
    "\n",
    "import warnings\n",
    "warnings.filterwarnings(\"ignore\") \n",
    "\n",
    "os.environ['UTILS_PATH'] = r'C:\\Users\\Mi\\Desktop\\code\\git\\python-utils-ak'\n",
    "os.environ['PROJECT_PATH'] = r'C:\\Users\\Mi\\Desktop\\code\\git\\2020.10-umalat\\umalat' \n",
    "os.environ['SQLITE_PATH'] = r'C:\\Users\\Mi\\Desktop\\code\\git\\2020.10-umalat\\umalat\\data.sqlite' \n",
    "sys.path.append(os.environ['PROJECT_PATH'])\n",
    "from app.interactive_imports import *"
   ]
  },
  {
   "cell_type": "code",
   "execution_count": 2,
   "metadata": {},
   "outputs": [],
   "source": [
    "# # boiling_plan_df = read_boiling_plan(r\"C:\\Users\\Mi\\Desktop\\code\\git\\2020.10-umalat\\umalat\\research\\akadaner\\2021-01-06 (5).xlsx\")\n",
    "# boiling_plan_df = read_boiling_plan(r\"C:\\Users\\Mi\\Desktop\\code\\git\\2020.10-umalat\\umalat\\app\\schedule_maker\\data\\sample_boiling_plan.xlsx\")\n",
    "# boilings = make_boilings_by_groups(boiling_plan_df)\n",
    "# schedule = make_schedule(boilings, start_times={'water': '08:00', 'salt': '07:00'})\n",
    "# frontend = make_frontend(schedule)\n",
    "# # draw_excel_frontend(frontend, open_file=True)"
   ]
  },
  {
   "cell_type": "code",
   "execution_count": 3,
   "metadata": {},
   "outputs": [
    {
     "data": {
      "text/plain": [
       "[{'meltings':           item   beg   end\n",
       "  0  cheese_mass   0.0   5.0\n",
       "  1  cheese_mass  10.0  70.0,\n",
       "  'coolings':                      item   beg    end\n",
       "  0   <BoilingFormFactor 3>   0.0   90.0\n",
       "  1  <BoilingFormFactor 13>  95.0  145.0,\n",
       "  'packings': [       item    beg    end\n",
       "   0  <SKU 12>   90.0   95.0\n",
       "   1  <SKU 25>  100.0  160.0]},\n",
       " {'meltings':           item  beg   end\n",
       "  0  cheese_mass  0.0  65.0,\n",
       "  'coolings':                     item  beg    end\n",
       "  0  <BoilingFormFactor 4>  0.0  140.0,\n",
       "  'packings': [       item   beg    end\n",
       "   0  <SKU 30>  75.0  145.0]},\n",
       " {'meltings':           item  beg   end\n",
       "  0  cheese_mass  0.0  65.0,\n",
       "  'coolings':                     item  beg    end\n",
       "  0  <BoilingFormFactor 4>  0.0  140.0,\n",
       "  'packings': [       item   beg    end\n",
       "   0  <SKU 30>  75.0  145.0]}]"
      ]
     },
     "execution_count": 3,
     "metadata": {},
     "output_type": "execute_result"
    }
   ],
   "source": [
    "from app.schedule_maker import read_boiling_plan\n",
    "# df = read_boiling_plan(r\"../data/sample_boiling_plan.xlsx\")\n",
    "df = read_boiling_plan(r\"C:\\Users\\Mi\\Desktop\\code\\git\\2020.10-umalat\\umalat\\app\\schedule_maker\\data\\sample_boiling_plan.xlsx\")\n",
    "\n",
    "mark_consecutive_groups(df, 'boiling', 'boiling_group')\n",
    "boiling_group_df = df[df['boiling_group'] == 2]\n",
    "\n",
    "boilings_meltings, packings, melting_speed = BoilingGroupToSchemaTransformer()(boiling_group_df)\n",
    "boilings_dataframes = SchemaToBoilingsDataFramesTransformer()(boilings_meltings, packings, melting_speed)\n",
    "boilings_dataframes"
   ]
  },
  {
   "cell_type": "code",
   "execution_count": 4,
   "metadata": {},
   "outputs": [
    {
     "data": {
      "text/plain": [
       "{'meltings':           item   beg   end\n",
       " 0  cheese_mass   0.0   5.0\n",
       " 1  cheese_mass  10.0  70.0,\n",
       " 'coolings':                      item   beg    end\n",
       " 0   <BoilingFormFactor 3>   0.0   90.0\n",
       " 1  <BoilingFormFactor 13>  95.0  145.0,\n",
       " 'packings': [       item    beg    end\n",
       "  0  <SKU 12>   90.0   95.0\n",
       "  1  <SKU 25>  100.0  160.0]}"
      ]
     },
     "execution_count": 4,
     "metadata": {},
     "output_type": "execute_result"
    }
   ],
   "source": [
    "boiling_dataframes = boilings_dataframes[0]\n",
    "boiling_dataframes"
   ]
  },
  {
   "cell_type": "code",
   "execution_count": 5,
   "metadata": {},
   "outputs": [],
   "source": [
    "ERROR = 1e-5"
   ]
  },
  {
   "cell_type": "code",
   "execution_count": 42,
   "metadata": {},
   "outputs": [],
   "source": [
    "def make_line(df, line_name, process_name, filler_name, item_name):\n",
    "    maker, make = init_block_maker(line_name)\n",
    "    \n",
    "    for i in range(len(df)):\n",
    "        cur_row = df.iloc[i]\n",
    "        next_row = None if i == len(df) - 1 else df.iloc[i + 1] # todo: use simple_bounded_iterator? \n",
    "\n",
    "        # todo: refactor item_name, make general key item in process? \n",
    "        make(process_name, size=((cur_row['end'] - cur_row['beg']) // 5, 0), x=(cur_row['beg'] // 5, 0), push_func=add_push, **{item_name: cur_row['item']})\n",
    "\n",
    "        # fillers\n",
    "        if next_row is not None:\n",
    "            beg = cur_row['end']\n",
    "            end = next_row['beg']\n",
    "            if abs(beg - end) > ERROR:\n",
    "                make(filler_name, size=((end - beg) // 5, 0))\n",
    "    return maker.root"
   ]
  },
  {
   "cell_type": "code",
   "execution_count": 43,
   "metadata": {},
   "outputs": [
    {
     "data": {
      "text/plain": [
       "============== meltings (0, 14.0] x (0, 0]\n",
       "= melting_process (0.0, 1.0] x (0, 0]\n",
       " = melting_configuration (1.0, 2.0] x (0, 0]\n",
       "  ============ melting_process (2.0, 14.0] x (0, 0]"
      ]
     },
     "execution_count": 43,
     "metadata": {},
     "output_type": "execute_result"
    }
   ],
   "source": [
    "make_line(boiling_dataframes['meltings'], 'meltings', 'melting_process', 'melting_configuration', 'bff')"
   ]
  },
  {
   "cell_type": "code",
   "execution_count": 44,
   "metadata": {},
   "outputs": [],
   "source": [
    "boiling_model = boiling_group_df.iloc[0]['boiling']\n",
    "boiling_type = boiling_group_df.iloc[0]['boiling'].boiling_type\n",
    "melting_speed = 900 if boiling_type == 'water' else 1020  # todo: duplicate with s1\n",
    "\n",
    "maker, make = init_block_maker('melting_and_packing')\n",
    "\n",
    "with make('melting'):\n",
    "    serving = make('serving', size=(boiling_model.meltings.serving_time // 5, 0), push_func=add_push).block\n",
    "    \n",
    "    line = make_line(boiling_dataframes['meltings'], 'meltings', 'melting_process', 'melting_configuration', 'bff')\n",
    "    line.props.update({'x': (serving.size[0], 0)})\n",
    "    push(maker.root['melting'], line, push_func=add_push)\n",
    "    \n",
    "    line = make_line(boiling_dataframes['coolings'], 'coolings', 'cooling_process', 'cooling_configuration', 'bff')\n",
    "    line.props.update({'x': (serving.size[0], 0)})\n",
    "    push(maker.root['melting'], line, push_func=add_push)\n",
    "\n",
    "\n",
    "for packing_team_id, df in enumerate(boiling_dataframes['packings']):\n",
    "    line = make_line(df, 'packing', 'packing_process', 'packing_configuration', 'sku')\n",
    "    line.props.update({'x': (serving.size[0], 0)})\n",
    "    push(maker.root, line, push_func=add_push)"
   ]
  },
  {
   "cell_type": "code",
   "execution_count": 45,
   "metadata": {},
   "outputs": [
    {
     "data": {
      "text/plain": [
       "====================================== melting_and_packing (0, 38.0] x (0, 0]\n",
       "=================================== melting (0, 35.0] x (0, 0]\n",
       "====== serving (0, 6] x (0, 0]\n",
       "      ============== meltings (6, 20.0] x (0, 0]\n",
       "      = melting_process (6.0, 7.0] x (0, 0]\n",
       "       = melting_configuration (7.0, 8.0] x (0, 0]\n",
       "        ============ melting_process (8.0, 20.0] x (0, 0]\n",
       "      ============================= coolings (6, 35.0] x (0, 0]\n",
       "      ================== cooling_process (6.0, 24.0] x (0, 0]\n",
       "                        = cooling_configuration (24.0, 25.0] x (0, 0]\n",
       "                         ========== cooling_process (25.0, 35.0] x (0, 0]\n",
       "      ================================ packing (6, 38.0] x (0, 0]\n",
       "                        = packing_process (24.0, 25.0] x (0, 0]\n",
       "                         = packing_configuration (25.0, 26.0] x (0, 0]\n",
       "                          ============ packing_process (26.0, 38.0] x (0, 0]"
      ]
     },
     "execution_count": 45,
     "metadata": {},
     "output_type": "execute_result"
    }
   ],
   "source": [
    "maker.root"
   ]
  }
 ],
 "metadata": {
  "kernelspec": {
   "display_name": "Python 3",
   "language": "python",
   "name": "python3"
  },
  "language_info": {
   "codemirror_mode": {
    "name": "ipython",
    "version": 3
   },
   "file_extension": ".py",
   "mimetype": "text/x-python",
   "name": "python",
   "nbconvert_exporter": "python",
   "pygments_lexer": "ipython3",
   "version": "3.8.5"
  }
 },
 "nbformat": 4,
 "nbformat_minor": 4
}

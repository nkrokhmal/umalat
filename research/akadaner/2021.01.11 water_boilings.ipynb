{
 "cells": [
  {
   "cell_type": "code",
   "execution_count": 1,
   "metadata": {},
   "outputs": [],
   "source": [
    "import os\n",
    "import sys\n",
    "\n",
    "import warnings\n",
    "warnings.filterwarnings(\"ignore\") \n",
    "\n",
    "os.environ['UTILS_PATH'] = r'C:\\Users\\Mi\\Desktop\\code\\git\\python-utils-ak'\n",
    "os.environ['PROJECT_PATH'] = r'C:\\Users\\Mi\\Desktop\\code\\git\\2020.10-umalat\\umalat' \n",
    "os.environ['SQLITE_PATH'] = r'C:\\Users\\Mi\\Desktop\\code\\git\\2020.10-umalat\\umalat\\data.sqlite' \n",
    "sys.path.append(os.environ['PROJECT_PATH'])\n",
    "from app.interactive_imports import *"
   ]
  },
  {
   "cell_type": "code",
   "execution_count": 2,
   "metadata": {},
   "outputs": [],
   "source": [
    "# # boiling_plan_df = read_boiling_plan(r\"C:\\Users\\Mi\\Desktop\\code\\git\\2020.10-umalat\\umalat\\research\\akadaner\\2021-01-06 (5).xlsx\")\n",
    "# boiling_plan_df = read_boiling_plan(r\"C:\\Users\\Mi\\Desktop\\code\\git\\2020.10-umalat\\umalat\\app\\schedule_maker\\data\\sample_boiling_plan.xlsx\")\n",
    "# boilings = make_boilings_by_groups(boiling_plan_df)\n",
    "# schedule = make_schedule(boilings, start_times={'water': '08:00', 'salt': '07:00'})\n",
    "# frontend = make_frontend(schedule)\n",
    "# # draw_excel_frontend(frontend, open_file=True)"
   ]
  },
  {
   "cell_type": "code",
   "execution_count": 3,
   "metadata": {},
   "outputs": [
    {
     "ename": "NameError",
     "evalue": "name 'BoilingGroupToSchemaTransformer' is not defined",
     "output_type": "error",
     "traceback": [
      "\u001b[1;31m---------------------------------------------------------------------------\u001b[0m",
      "\u001b[1;31mNameError\u001b[0m                                 Traceback (most recent call last)",
      "\u001b[1;32m<ipython-input-3-571439f9f106>\u001b[0m in \u001b[0;36m<module>\u001b[1;34m\u001b[0m\n\u001b[0;32m      2\u001b[0m \u001b[0mmark_consecutive_groups\u001b[0m\u001b[1;33m(\u001b[0m\u001b[0mdf\u001b[0m\u001b[1;33m,\u001b[0m \u001b[1;34m'boiling'\u001b[0m\u001b[1;33m,\u001b[0m \u001b[1;34m'boiling_group'\u001b[0m\u001b[1;33m)\u001b[0m\u001b[1;33m\u001b[0m\u001b[1;33m\u001b[0m\u001b[0m\n\u001b[0;32m      3\u001b[0m \u001b[0mboiling_group_df\u001b[0m \u001b[1;33m=\u001b[0m \u001b[0mdf\u001b[0m\u001b[1;33m[\u001b[0m\u001b[0mdf\u001b[0m\u001b[1;33m[\u001b[0m\u001b[1;34m'boiling_group'\u001b[0m\u001b[1;33m]\u001b[0m \u001b[1;33m==\u001b[0m \u001b[1;36m2\u001b[0m\u001b[1;33m]\u001b[0m\u001b[1;33m\u001b[0m\u001b[1;33m\u001b[0m\u001b[0m\n\u001b[1;32m----> 4\u001b[1;33m \u001b[0mtransformer\u001b[0m \u001b[1;33m=\u001b[0m \u001b[0mBoilingGroupToSchemaTransformer\u001b[0m\u001b[1;33m(\u001b[0m\u001b[1;33m)\u001b[0m\u001b[1;33m\u001b[0m\u001b[1;33m\u001b[0m\u001b[0m\n\u001b[0m\u001b[0;32m      5\u001b[0m \u001b[0mboilings_meltings\u001b[0m\u001b[1;33m,\u001b[0m \u001b[0mpackings\u001b[0m\u001b[1;33m,\u001b[0m \u001b[0mmelting_speed\u001b[0m \u001b[1;33m=\u001b[0m \u001b[0mtransformer\u001b[0m\u001b[1;33m(\u001b[0m\u001b[0mboiling_group_df\u001b[0m\u001b[1;33m)\u001b[0m\u001b[1;33m\u001b[0m\u001b[1;33m\u001b[0m\u001b[0m\n\u001b[0;32m      6\u001b[0m \u001b[0mboilings_meltings\u001b[0m\u001b[1;33m,\u001b[0m \u001b[0mpackings\u001b[0m\u001b[1;33m,\u001b[0m \u001b[0mmelting_speed\u001b[0m\u001b[1;33m\u001b[0m\u001b[1;33m\u001b[0m\u001b[0m\n",
      "\u001b[1;31mNameError\u001b[0m: name 'BoilingGroupToSchemaTransformer' is not defined"
     ]
    }
   ],
   "source": [
    "df = read_boiling_plan(r\"C:\\Users\\Mi\\Desktop\\code\\git\\2020.10-umalat\\umalat\\app\\schedule_maker\\data\\sample_boiling_plan.xlsx\")\n",
    "mark_consecutive_groups(df, 'boiling', 'boiling_group')\n",
    "boiling_group_df = df[df['boiling_group'] == 2]\n",
    "transformer = BoilingGroupToSchemaTransformer()\n",
    "boilings_meltings, packings, melting_speed = transformer(boiling_group_df)\n",
    "boilings_meltings, packings, melting_speed"
   ]
  },
  {
   "cell_type": "code",
   "execution_count": 48,
   "metadata": {},
   "outputs": [],
   "source": []
  },
  {
   "cell_type": "code",
   "execution_count": 49,
   "metadata": {},
   "outputs": [
    {
     "name": "stdout",
     "output_type": "stream",
     "text": [
      "Resuming 0.11222222222222222\n",
      "Resuming 1.614285714285714\n",
      "Resuming 2.7122023809523808\n"
     ]
    },
    {
     "data": {
      "text/plain": [
       "[{'meltings':           item   beg   end\n",
       "  0  cheese_mass   0.0   5.0\n",
       "  1  cheese_mass  10.0  70.0,\n",
       "  'coolings':           item   beg   end\n",
       "  0  cheese_mass   0.0   5.0\n",
       "  1  cheese_mass  10.0  70.0,\n",
       "  'packings':                      item   beg   end\n",
       "  0   <BoilingFormFactor 3>   0.0   5.0\n",
       "  1  <BoilingFormFactor 13>  10.0  70.0},\n",
       " {'meltings':           item  beg   end\n",
       "  0  cheese_mass  0.0  65.0,\n",
       "  'coolings':           item  beg   end\n",
       "  0  cheese_mass  0.0  65.0,\n",
       "  'packings':                     item  beg   end\n",
       "  0  <BoilingFormFactor 4>  0.0  65.0},\n",
       " {'meltings':           item  beg   end\n",
       "  0  cheese_mass  0.0  65.0,\n",
       "  'coolings':           item  beg   end\n",
       "  0  cheese_mass  0.0  65.0,\n",
       "  'packings':                     item  beg   end\n",
       "  0  <BoilingFormFactor 4>  0.0  65.0}]"
      ]
     },
     "execution_count": 49,
     "metadata": {},
     "output_type": "execute_result"
    }
   ],
   "source": [
    "t = SchemaToBoilingsDataFramesTransformer()\n",
    "t(boilings_meltings, packings, melting_speed)"
   ]
  },
  {
   "cell_type": "code",
   "execution_count": null,
   "metadata": {},
   "outputs": [],
   "source": [
    "with make('melting'):\n",
    "    boiling_model = boiling_group.iloc[0]['boiling']\n",
    "\n",
    "    serving = make('serving', size=(boiling_model.meltings.serving_time // 5, 0), push_func=add_push).block\n",
    "    meltings = make('meltings', x=(serving.size[0], 0), push_func=add_push).block\n",
    "    coolings = make('coolings', x=(serving.size[0], 0), push_func=add_push).block\n",
    "    \n",
    "    for \n",
    "    \n",
    "    for i, (group, grp) in enumerate(boiling_plan.groupby('bff_group')):\n",
    "        if i >= 1 and boiling_model.boiling_type == 'water':\n",
    "            # non-first group - reconfigure time\n",
    "            push(meltings, maker.create_block('melting_configuration', size=(1, 0)))\n",
    "\n",
    "        # todo: del\n",
    "        if boiling_model.boiling_type == 'salt':\n",
    "            boiling_model.meltings.speed = 850 / 50 * 60\n",
    "\n",
    "        melting_process = maker.create_block('melting_process',\n",
    "                                             size=(int(custom_round(grp['kg'].sum() / boiling_model.meltings.speed * 60, 5, 'ceil')) // 5, 0),\n",
    "                                             bff=grp.iloc[0]['bff'])\n",
    "\n",
    "        push(meltings, melting_process)\n",
    "\n",
    "        # add cooling\n",
    "        cooling_process = maker.create_block('cooling_process', x=melting_process.props['x_rel'])\n",
    "        _, cooling_make = init_block_maker(cooling_process)\n",
    "\n",
    "        with cooling_make('start'):\n",
    "            if boiling_model.boiling_type == 'water':\n",
    "                cooling_make('cooling', size=(boiling_model.meltings.first_cooling_time // 5, 0))\n",
    "                cooling_make('cooling', size=(boiling_model.meltings.second_cooling_time // 5, 0))\n",
    "            elif boiling_model.boiling_type == 'salt':\n",
    "                cooling_make('salting', size=(boiling_model.meltings.salting_time // 5, 0))\n",
    "\n",
    "        with cooling_make('finish'):\n",
    "            if boiling_model.boiling_type == 'water':\n",
    "                cooling_make('cooling', size=(melting_process.size[0], 0))\n",
    "            elif boiling_model.boiling_type == 'salt':\n",
    "                cooling_make('salting', size=(melting_process.size[0], 0))\n",
    "\n",
    "        push(coolings, cooling_process, push_func=add_push)\n",
    "\n",
    "with make('packing',\n",
    "          x=(listify(maker.root['melting']['coolings']['cooling_process'])[0]['start'].y[0], 0),\n",
    "          packing_team_id=1, push_func=add_push):\n",
    "    for i, (_, row) in enumerate(boiling_plan.iterrows()):\n",
    "        sku, kg = row['sku'], row['kg']\n",
    "        packing_speed = min(sku.packing_speed, boiling_model.meltings.speed)\n",
    "        make('packing_process',\n",
    "             size=[int(custom_round(kg / packing_speed * 60, 5, rounding='ceil')) // 5, 0],\n",
    "             sku=sku)\n",
    "\n",
    "        if i != len(boiling_plan) - 1:\n",
    "            # add configuration\n",
    "            conf_time_size = get_configuration_time(boiling_model, sku, boiling_plan.iloc[i + 1]['sku'])\n",
    "\n",
    "            if conf_time_size:\n",
    "                make('packing_configuration', size=[conf_time_size // 5, 0])\n",
    "\n",
    "return maker.root\n",
    "\n",
    "\n"
   ]
  }
 ],
 "metadata": {
  "kernelspec": {
   "display_name": "Python 3",
   "language": "python",
   "name": "python3"
  },
  "language_info": {
   "codemirror_mode": {
    "name": "ipython",
    "version": 3
   },
   "file_extension": ".py",
   "mimetype": "text/x-python",
   "name": "python",
   "nbconvert_exporter": "python",
   "pygments_lexer": "ipython3",
   "version": "3.8.5"
  }
 },
 "nbformat": 4,
 "nbformat_minor": 4
}

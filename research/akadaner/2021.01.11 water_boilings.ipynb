{
 "cells": [
  {
   "cell_type": "code",
   "execution_count": 1,
   "metadata": {},
   "outputs": [],
   "source": [
    "import os\n",
    "import sys\n",
    "\n",
    "import warnings\n",
    "warnings.filterwarnings(\"ignore\") \n",
    "\n",
    "os.environ['UTILS_PATH'] = r'C:\\Users\\Mi\\Desktop\\code\\git\\python-utils-ak'\n",
    "os.environ['PROJECT_PATH'] = r'C:\\Users\\Mi\\Desktop\\code\\git\\2020.10-umalat\\umalat' \n",
    "os.environ['SQLITE_PATH'] = r'C:\\Users\\Mi\\Desktop\\code\\git\\2020.10-umalat\\umalat\\data.sqlite' \n",
    "sys.path.append(os.environ['PROJECT_PATH'])\n",
    "from app.interactive_imports import *"
   ]
  },
  {
   "cell_type": "code",
   "execution_count": 2,
   "metadata": {},
   "outputs": [],
   "source": [
    "# boiling_plan_df = read_boiling_plan(r\"C:\\Users\\Mi\\Desktop\\code\\git\\2020.10-umalat\\umalat\\research\\akadaner\\2021-01-06 (5).xlsx\")\n",
    "boiling_plan_df = read_boiling_plan(r\"C:\\Users\\Mi\\Desktop\\code\\git\\2020.10-umalat\\umalat\\app\\schedule_maker\\data\\sample_boiling_plan.xlsx\")\n",
    "boilings = make_boilings_by_groups(boiling_plan_df)\n",
    "schedule = make_schedule(boilings, start_times={'water': '08:00', 'salt': '07:00'})\n",
    "frontend = make_frontend(schedule)\n",
    "draw_excel_frontend(frontend, open_file=True)"
   ]
  }
 ],
 "metadata": {
  "kernelspec": {
   "display_name": "Python 3",
   "language": "python",
   "name": "python3"
  },
  "language_info": {
   "codemirror_mode": {
    "name": "ipython",
    "version": 3
   },
   "file_extension": ".py",
   "mimetype": "text/x-python",
   "name": "python",
   "nbconvert_exporter": "python",
   "pygments_lexer": "ipython3",
   "version": "3.8.5"
  }
 },
 "nbformat": 4,
 "nbformat_minor": 4
}

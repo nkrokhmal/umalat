{
 "cells": [
  {
   "cell_type": "code",
   "execution_count": 1,
   "metadata": {},
   "outputs": [],
   "source": [
    "import os\n",
    "os.environ[\"mode\"] = 'dev'"
   ]
  },
  {
   "cell_type": "code",
   "execution_count": 2,
   "metadata": {},
   "outputs": [],
   "source": [
    "\n",
    "import sys\n",
    "sys.path.append(r'C:\\Users\\Mi\\Desktop\\code\\git\\python-utils-ak')\n",
    "sys.path.append(r'C:\\Users\\Mi\\Desktop\\code\\git\\2020.10-umalat\\umalat')\n",
    "from utils_ak.interactive_imports import *"
   ]
  },
  {
   "cell_type": "code",
   "execution_count": 3,
   "metadata": {},
   "outputs": [],
   "source": [
    "\n",
    "\n",
    "def _import_globals(module):\n",
    "    for x in dir(module):\n",
    "        if not x.startswith('_'):\n",
    "            globals()[x] = getattr(module, x)\n",
    "            \n",
    "def _load(module_obj, module_name=None, reload=False, import_globals=False):\n",
    "    module = load(module_obj, module_name, reload, import_globals=False)\n",
    "    if import_globals:\n",
    "        _import_globals(module)\n",
    "    return module\n",
    "\n",
    "def load_sources():\n",
    "    _load(r'C:\\Users\\Mi\\Desktop\\code\\git\\2020.10-umalat\\umalat\\app\\schedule_maker\\utils/time.py', import_globals=True, reload=True)\n",
    "    _load(r'C:\\Users\\Mi\\Desktop\\code\\git\\2020.10-umalat\\umalat\\app\\schedule_maker\\utils/block.py', import_globals=True, reload=True)\n",
    "    _load(r'C:\\Users\\Mi\\Desktop\\code\\git\\2020.10-umalat\\umalat\\app\\schedule_maker\\utils/color.py', import_globals=True, reload=True)\n",
    "    _load(r'C:\\Users\\Mi\\Desktop\\code\\git\\2020.10-umalat\\umalat\\app\\schedule_maker\\utils/drawing.py', import_globals=True, reload=True)\n",
    "    _load(r'C:\\Users\\Mi\\Desktop\\code\\git\\2020.10-umalat\\umalat\\app\\schedule_maker\\utils/interval.py', import_globals=True, reload=True)\n",
    "    \n",
    "    _load(r'C:\\Users\\Mi\\Desktop\\code\\git\\2020.10-umalat\\umalat\\app\\schedule_maker\\blocks.py', import_globals=True, reload=True)\n",
    "\n",
    "    _load(r'C:\\Users\\Mi\\Desktop\\code\\git\\2020.10-umalat\\umalat\\app\\schedule_maker\\models.py', import_globals=True, reload=True)\n",
    "    _load(r'C:\\Users\\Mi\\Desktop\\code\\git\\2020.10-umalat\\umalat\\app\\schedule_maker\\algo.py', import_globals=True, reload=True)\n",
    "    _load(r'C:\\Users\\Mi\\Desktop\\code\\git\\2020.10-umalat\\umalat\\app\\schedule_maker\\style.py', import_globals=True, reload=True)\n",
    "    _load(r'C:\\Users\\Mi\\Desktop\\code\\git\\2020.10-umalat\\umalat\\app\\schedule_maker\\validation.py', import_globals=True, reload=True)\n",
    "    _load(r'C:\\Users\\Mi\\Desktop\\code\\git\\2020.10-umalat\\umalat\\app\\utils\\openpyxl_wrapper.py', import_globals=True, reload=True)\n",
    "#     _load(r'C:\\Users\\Mi\\Desktop\\code\\git\\2020.10-umalat\\umalat\\app\\utils\\excel_client.py', import_globals=True, reload=True)\n",
    "\n",
    "load_sources()"
   ]
  },
  {
   "cell_type": "code",
   "execution_count": 4,
   "metadata": {
    "scrolled": false
   },
   "outputs": [
    {
     "name": "stdout",
     "output_type": "stream",
     "text": [
      "Starting from 24 salt 48 24\n",
      "Starting from 48 water 48 54.0\n",
      "Starting from 54.0 salt 76.0 54.0\n",
      "Starting from 76.0 water 76.0 82.0\n",
      "Starting from 82.0 salt 90.0 82.0\n",
      "Starting from 90.0 water 90.0 96.0\n",
      "Starting from 96.0 salt 104.0 96.0\n",
      "Starting from 104.0 water 104.0 110.0\n",
      "Starting from 110.0 salt 118.0 110.0\n",
      "Starting from 124.0 salt 118.0 124.0\n",
      "Starting from 147.0 salt 118.0 147.0\n",
      "Starting from 183.0 salt 118.0 183.0\n",
      "Starting from 206.0 salt 118.0 206.0\n",
      "Starting from 216.0 salt 118.0 216.0\n"
     ]
    }
   ],
   "source": [
    "remove('output.xlsx')\n",
    "load_sources()\n",
    "request = anyconfig.load(r\"C:\\Users\\Mi\\Desktop\\umalat\\schedules\\2020.12.04.json\")\n",
    "date = cast_datetime(request['Date'])\n",
    "df = gen_request_df(request)\n",
    "root = make_schedule(request, date)\n",
    "wb = draw_workbook(root, mode='prod')\n",
    "wb.save('_drawing.xlsx')\n",
    "rename('_drawing.xlsx', 'output.xlsx')\n",
    "open_file_in_os('output.xlsx')"
   ]
  }
 ],
 "metadata": {
  "kernelspec": {
   "display_name": "Python 3",
   "language": "python",
   "name": "python3"
  },
  "language_info": {
   "codemirror_mode": {
    "name": "ipython",
    "version": 3
   },
   "file_extension": ".py",
   "mimetype": "text/x-python",
   "name": "python",
   "nbconvert_exporter": "python",
   "pygments_lexer": "ipython3",
   "version": "3.8.5"
  }
 },
 "nbformat": 4,
 "nbformat_minor": 4
}

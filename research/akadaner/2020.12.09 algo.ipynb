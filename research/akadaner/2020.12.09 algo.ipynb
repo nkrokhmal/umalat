{
 "cells": [
  {
   "cell_type": "code",
   "execution_count": 5,
   "metadata": {},
   "outputs": [
    {
     "name": "stdout",
     "output_type": "stream",
     "text": [
      "The autoreload extension is already loaded. To reload it, use:\n",
      "  %reload_ext autoreload\n"
     ]
    }
   ],
   "source": [
    "%load_ext autoreload\n",
    "%autoreload 2\n",
    "\n",
    "import os\n",
    "import sys\n",
    "os.environ['UTILS_PATH'] = r'C:\\Users\\Mi\\Desktop\\code\\git\\python-utils-ak'\n",
    "os.environ['PROJECT_PATH'] = r'C:\\Users\\Mi\\Desktop\\code\\git\\2020.10-umalat\\umalat' \n",
    "os.environ['SQLITE_PATH'] = r'C:\\Users\\Mi\\Desktop\\code\\git\\2020.10-umalat\\umalat\\data.sqlite' \n",
    "sys.path.append(os.environ['PROJECT_PATH'])\n",
    "from app.interactive_imports import *"
   ]
  },
  {
   "cell_type": "code",
   "execution_count": 404,
   "metadata": {},
   "outputs": [],
   "source": [
    "root = make_schedule(boiling_plan_df)\n",
    "# wb = draw_workbook(root, mode='prod')\n",
    "# wb.save('output.xlsx')\n",
    "# open_file_in_os('output.xlsx') "
   ]
  },
  {
   "cell_type": "code",
   "execution_count": 62,
   "metadata": {},
   "outputs": [],
   "source": [
    "pyperclip.copy(draw_print(root, visible_only=True))"
   ]
  },
  {
   "cell_type": "code",
   "execution_count": null,
   "metadata": {},
   "outputs": [],
   "source": [
    "style = load_style(mode='prod')\n",
    "root.props.update({'size': max(c.end for c in root.children)})\n",
    "init_sheet_func = init_sheet if mode == 'dev' else init_template_sheet(template_fn=template_fn)\n",
    "draw_schedule(root, style, init_sheet_func=init_sheet_func)"
   ]
  },
  {
   "cell_type": "markdown",
   "metadata": {},
   "source": [
    "# Drawing"
   ]
  },
  {
   "cell_type": "code",
   "execution_count": 6,
   "metadata": {},
   "outputs": [],
   "source": [
    "boiling_plan_df = pd.read_csv('2020.12.13 boiling_plan.csv')\n",
    "boiling_plan_df['sku'] = boiling_plan_df['sku'].apply(cast_sku)\n",
    "# boiling_plan_df['boiling'] = boiling_plan_df['boiling'].apply(cast_boiling)\n",
    "boiling_plan_df['boiling'] = boiling_plan_df['sku'].apply(lambda sku: sku.boilings[0])\n",
    "boiling_plan_df.sort_values(by='id')\n",
    "\n",
    "def add_push_with_props(parent, block):\n",
    "    return add_push(parent, block, new_props=block.props.get_all_props())\n",
    "\n",
    "mode = 'prod'\n",
    "maker = BlockMaker(default_push_func=dummy_push)\n",
    "make = maker.make\n",
    "\n",
    "root = make_schedule(boiling_plan_df)"
   ]
  },
  {
   "cell_type": "code",
   "execution_count": 7,
   "metadata": {},
   "outputs": [],
   "source": [
    "with make('schedule'):\n",
    "    # todo: make properly\n",
    "    make(orient='vertical', h=1, visible=False)\n",
    "    with make('header', orient='vertical', h=1, index_width=3):\n",
    "        make(h=1, size=1, text='График наливов', push_func=add_push)\n",
    "        for i in range(288):\n",
    "            cur_time = cast_time(i + cast_t('01:00'))\n",
    "            if cur_time[-2:] == '00':\n",
    "                make(t=1 + i, size=1, h=1, text=str(int(cur_time[:2])), color=(218, 150, 148), text_rotation=90, push_func=add_push)\n",
    "            else:\n",
    "                make(t=1 + i, size=1, h=1, text=cur_time[-2:], color=(204, 255, 255), text_rotation=90, push_func=add_push)\n",
    "    \n",
    "    for i in range(2):\n",
    "        with make(f'cheese_maker_{i}', orient='vertical', h=2):\n",
    "            for block in root['boiling']:\n",
    "                if block.props['pouring_line'] == str(i):\n",
    "                    make(block['pouring'], push_func=add_push_with_props)\n",
    "        make(orient='vertical', h=1, visible=False)\n",
    "\n",
    "    with make('cleanings', orient='vertical', h=2):\n",
    "        for block in root['cleaning']:\n",
    "            make(block, push_func=add_push_with_props)\n",
    "    make(orient='vertical', h=1, visible=False)\n",
    "\n",
    "    for i in range(2, 4):\n",
    "        with make(f'cheese_maker_{i}', orient='vertical', h=2):\n",
    "            for block in root['boiling']:\n",
    "                if block.props['pouring_line'] == str(i):\n",
    "                    make(block['pouring'], push_func=add_push_with_props)\n",
    "        make(orient='vertical', h=1, visible=False)\n",
    "    \n",
    "    with make('header', orient='vertical', h=1, index_width=4):\n",
    "        for i in range(288):\n",
    "            cur_time = cast_time(i + cast_t('07:00'))\n",
    "            if cur_time[-2:] == '00':\n",
    "                make(t=i, size=1, h=1, text=str(int(cur_time[:2])), color=(218, 150, 148), text_rotation=90, push_func=add_push)\n",
    "            else:\n",
    "                make(t=i, size=1, h=1, text=cur_time[-2:], color=(204, 255, 255), text_rotation=90, push_func=add_push)\n",
    "    \n",
    "    with make('water_melting', orient='vertical', h=4):\n",
    "        for block in root['boiling']:\n",
    "            if block.props['boiling_type'] == 'water':\n",
    "                make(block['melting_and_packing']['melting'], push_func=add_push_with_props)\n",
    "                \n",
    "    with make('water_packing', orient='vertical', h=3):\n",
    "        for block in root['boiling']:\n",
    "            if block.props['boiling_type'] == 'water':\n",
    "                make(block['melting_and_packing']['packing_and_preconfiguration'], push_func=add_push_with_props)\n",
    "    \n",
    "    # todo: make dynamic lines\n",
    "    n_lines = 5\n",
    "    melting_lines = [make(f'salt_melting_{i}', orient='vertical', h=3).block for i in range(n_lines)]\n",
    "    \n",
    "    # todo: hardcode, add empty elements for drawing not to draw melting_line itself\n",
    "    for b in melting_lines:\n",
    "        add_push(b, Block('block', visible=False))\n",
    "        \n",
    "    for i, block in enumerate([b for b in root['boiling'] if b.props['boiling_type'] == 'salt']):\n",
    "        add_push_with_props(melting_lines[i % n_lines], block['melting_and_packing']['melting'])\n",
    "    \n",
    "    with make('water_packing', orient='vertical', h=3):\n",
    "        for block in root['boiling']:\n",
    "            if block.props['boiling_type'] == 'salt':\n",
    "                make(block['melting_and_packing']['packing_and_preconfiguration'], push_func=add_push_with_props)\n",
    "row_root = maker.root"
   ]
  },
  {
   "cell_type": "code",
   "execution_count": 9,
   "metadata": {
    "scrolled": true
   },
   "outputs": [],
   "source": [
    "row_root.props.update({'h': max(c.end for c in root.children)})\n",
    "style = load_style()\n",
    "init_sheet_func = init_sheet if mode == mode else init_template_sheet(template_fn=template_fn)\n",
    "wb = draw_schedule(row_root, style, init_sheet_func=init_sheet_func)\n",
    "wb.save('output.xlsx')\n",
    "open_file_in_os('output.xlsx') "
   ]
  },
  {
   "cell_type": "markdown",
   "metadata": {},
   "source": [
    "# Proper melting"
   ]
  },
  {
   "cell_type": "code",
   "execution_count": 555,
   "metadata": {},
   "outputs": [
    {
     "data": {
      "text/html": [
       "<div>\n",
       "<style scoped>\n",
       "    .dataframe tbody tr th:only-of-type {\n",
       "        vertical-align: middle;\n",
       "    }\n",
       "\n",
       "    .dataframe tbody tr th {\n",
       "        vertical-align: top;\n",
       "    }\n",
       "\n",
       "    .dataframe thead th {\n",
       "        text-align: right;\n",
       "    }\n",
       "</style>\n",
       "<table border=\"1\" class=\"dataframe\">\n",
       "  <thead>\n",
       "    <tr style=\"text-align: right;\">\n",
       "      <th></th>\n",
       "      <th>id</th>\n",
       "      <th>boiling</th>\n",
       "      <th>sku</th>\n",
       "      <th>kg</th>\n",
       "    </tr>\n",
       "  </thead>\n",
       "  <tbody>\n",
       "    <tr>\n",
       "      <th>0</th>\n",
       "      <td>1.0</td>\n",
       "      <td>&lt;Boiling 9&gt;</td>\n",
       "      <td>&lt;SKU 25&gt;</td>\n",
       "      <td>1000.0</td>\n",
       "    </tr>\n",
       "    <tr>\n",
       "      <th>1</th>\n",
       "      <td>2.0</td>\n",
       "      <td>&lt;Boiling 9&gt;</td>\n",
       "      <td>&lt;SKU 25&gt;</td>\n",
       "      <td>1000.0</td>\n",
       "    </tr>\n",
       "    <tr>\n",
       "      <th>2</th>\n",
       "      <td>3.0</td>\n",
       "      <td>&lt;Boiling 6&gt;</td>\n",
       "      <td>&lt;SKU 23&gt;</td>\n",
       "      <td>192.8</td>\n",
       "    </tr>\n",
       "    <tr>\n",
       "      <th>3</th>\n",
       "      <td>3.0</td>\n",
       "      <td>&lt;Boiling 6&gt;</td>\n",
       "      <td>&lt;SKU 26&gt;</td>\n",
       "      <td>134.7</td>\n",
       "    </tr>\n",
       "    <tr>\n",
       "      <th>4</th>\n",
       "      <td>3.0</td>\n",
       "      <td>&lt;Boiling 6&gt;</td>\n",
       "      <td>&lt;SKU 46&gt;</td>\n",
       "      <td>153.6</td>\n",
       "    </tr>\n",
       "  </tbody>\n",
       "</table>\n",
       "</div>"
      ],
      "text/plain": [
       "    id      boiling       sku      kg\n",
       "0  1.0  <Boiling 9>  <SKU 25>  1000.0\n",
       "1  2.0  <Boiling 9>  <SKU 25>  1000.0\n",
       "2  3.0  <Boiling 6>  <SKU 23>   192.8\n",
       "3  3.0  <Boiling 6>  <SKU 26>   134.7\n",
       "4  3.0  <Boiling 6>  <SKU 46>   153.6"
      ]
     },
     "execution_count": 555,
     "metadata": {},
     "output_type": "execute_result"
    }
   ],
   "source": [
    "boiling_plan_df.head()"
   ]
  },
  {
   "cell_type": "code",
   "execution_count": 558,
   "metadata": {},
   "outputs": [
    {
     "data": {
      "text/html": [
       "<div>\n",
       "<style scoped>\n",
       "    .dataframe tbody tr th:only-of-type {\n",
       "        vertical-align: middle;\n",
       "    }\n",
       "\n",
       "    .dataframe tbody tr th {\n",
       "        vertical-align: top;\n",
       "    }\n",
       "\n",
       "    .dataframe thead th {\n",
       "        text-align: right;\n",
       "    }\n",
       "</style>\n",
       "<table border=\"1\" class=\"dataframe\">\n",
       "  <thead>\n",
       "    <tr style=\"text-align: right;\">\n",
       "      <th></th>\n",
       "      <th>id</th>\n",
       "      <th>boiling</th>\n",
       "      <th>sku</th>\n",
       "      <th>kg</th>\n",
       "    </tr>\n",
       "  </thead>\n",
       "  <tbody>\n",
       "    <tr>\n",
       "      <th>2</th>\n",
       "      <td>3.0</td>\n",
       "      <td>&lt;Boiling 6&gt;</td>\n",
       "      <td>&lt;SKU 23&gt;</td>\n",
       "      <td>192.8</td>\n",
       "    </tr>\n",
       "    <tr>\n",
       "      <th>3</th>\n",
       "      <td>3.0</td>\n",
       "      <td>&lt;Boiling 6&gt;</td>\n",
       "      <td>&lt;SKU 26&gt;</td>\n",
       "      <td>134.7</td>\n",
       "    </tr>\n",
       "    <tr>\n",
       "      <th>4</th>\n",
       "      <td>3.0</td>\n",
       "      <td>&lt;Boiling 6&gt;</td>\n",
       "      <td>&lt;SKU 46&gt;</td>\n",
       "      <td>153.6</td>\n",
       "    </tr>\n",
       "    <tr>\n",
       "      <th>5</th>\n",
       "      <td>3.0</td>\n",
       "      <td>&lt;Boiling 6&gt;</td>\n",
       "      <td>&lt;SKU 29&gt;</td>\n",
       "      <td>155.3</td>\n",
       "    </tr>\n",
       "    <tr>\n",
       "      <th>6</th>\n",
       "      <td>3.0</td>\n",
       "      <td>&lt;Boiling 6&gt;</td>\n",
       "      <td>&lt;SKU 31&gt;</td>\n",
       "      <td>210.0</td>\n",
       "    </tr>\n",
       "    <tr>\n",
       "      <th>7</th>\n",
       "      <td>3.0</td>\n",
       "      <td>&lt;Boiling 6&gt;</td>\n",
       "      <td>&lt;SKU 45&gt;</td>\n",
       "      <td>153.6</td>\n",
       "    </tr>\n",
       "  </tbody>\n",
       "</table>\n",
       "</div>"
      ],
      "text/plain": [
       "    id      boiling       sku     kg\n",
       "2  3.0  <Boiling 6>  <SKU 23>  192.8\n",
       "3  3.0  <Boiling 6>  <SKU 26>  134.7\n",
       "4  3.0  <Boiling 6>  <SKU 46>  153.6\n",
       "5  3.0  <Boiling 6>  <SKU 29>  155.3\n",
       "6  3.0  <Boiling 6>  <SKU 31>  210.0\n",
       "7  3.0  <Boiling 6>  <SKU 45>  153.6"
      ]
     },
     "execution_count": 558,
     "metadata": {},
     "output_type": "execute_result"
    }
   ],
   "source": [
    "boiling_grp = boiling_plan_df[boiling_plan_df['id'] == 3]\n",
    "boiling_grp"
   ]
  },
  {
   "cell_type": "code",
   "execution_count": null,
   "metadata": {},
   "outputs": [],
   "source": [
    "boiling_grp['form_factor'] = "
   ]
  },
  {
   "cell_type": "code",
   "execution_count": 2,
   "metadata": {},
   "outputs": [
    {
     "data": {
      "text/plain": [
       "'salt'"
      ]
     },
     "execution_count": 2,
     "metadata": {},
     "output_type": "execute_result"
    }
   ],
   "source": [
    "cast_boiling(1)"
   ]
  }
 ],
 "metadata": {
  "kernelspec": {
   "display_name": "Python 3",
   "language": "python",
   "name": "python3"
  },
  "language_info": {
   "codemirror_mode": {
    "name": "ipython",
    "version": 3
   },
   "file_extension": ".py",
   "mimetype": "text/x-python",
   "name": "python",
   "nbconvert_exporter": "python",
   "pygments_lexer": "ipython3",
   "version": "3.8.5"
  }
 },
 "nbformat": 4,
 "nbformat_minor": 4
}

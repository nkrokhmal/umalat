{
 "cells": [
  {
   "cell_type": "code",
   "execution_count": 391,
   "metadata": {},
   "outputs": [
    {
     "name": "stdout",
     "output_type": "stream",
     "text": [
      "The autoreload extension is already loaded. To reload it, use:\n",
      "  %reload_ext autoreload\n"
     ]
    }
   ],
   "source": [
    "%load_ext autoreload\n",
    "%autoreload 2\n",
    "\n",
    "import os\n",
    "import sys\n",
    "os.environ['UTILS_PATH'] = r'C:\\Users\\Mi\\Desktop\\code\\git\\python-utils-ak'\n",
    "os.environ['PROJECT_PATH'] = r'C:\\Users\\Mi\\Desktop\\code\\git\\2020.10-umalat\\umalat' \n",
    "os.environ['SQLITE_PATH'] = r'C:\\Users\\Mi\\Desktop\\code\\git\\2020.10-umalat\\umalat\\data.sqlite' \n",
    "sys.path.append(os.environ['PROJECT_PATH'])\n",
    "from app.interactive_imports import *"
   ]
  },
  {
   "cell_type": "code",
   "execution_count": 404,
   "metadata": {},
   "outputs": [],
   "source": [
    "root = make_schedule(boiling_plan_df)\n",
    "# wb = draw_workbook(root, mode='prod')\n",
    "# wb.save('output.xlsx')\n",
    "# open_file_in_os('output.xlsx') "
   ]
  },
  {
   "cell_type": "code",
   "execution_count": 62,
   "metadata": {},
   "outputs": [],
   "source": [
    "pyperclip.copy(draw_print(root, visible_only=True))"
   ]
  },
  {
   "cell_type": "code",
   "execution_count": null,
   "metadata": {},
   "outputs": [],
   "source": [
    "style = load_style(mode='prod')\n",
    "root.props.update({'size': max(c.end for c in root.children)})\n",
    "init_sheet_func = init_sheet if mode == 'dev' else init_template_sheet(template_fn=template_fn)\n",
    "draw_schedule(root, style, init_sheet_func=init_sheet_func)"
   ]
  },
  {
   "cell_type": "markdown",
   "metadata": {},
   "source": [
    "# Drawing"
   ]
  },
  {
   "cell_type": "code",
   "execution_count": 445,
   "metadata": {},
   "outputs": [],
   "source": [
    "boiling_plan_df = pd.read_csv('2020.12.13 boiling_plan.csv')\n",
    "boiling_plan_df['sku'] = boiling_plan_df['sku'].apply(cast_sku)\n",
    "# boiling_plan_df['boiling'] = boiling_plan_df['boiling'].apply(cast_boiling)\n",
    "boiling_plan_df['boiling'] = boiling_plan_df['sku'].apply(lambda sku: sku.boilings[0])\n",
    "boiling_plan_df.sort_values(by='id')\n",
    "\n",
    "def add_push_with_props(parent, block):\n",
    "    return add_push(parent, block, new_props=block.props.get_all_props())\n",
    "\n",
    "mode = 'prod'\n",
    "maker = BlockMaker(default_push_func=dummy_push)\n",
    "make = maker.make\n",
    "\n",
    "root = make_schedule(boiling_plan_df)"
   ]
  },
  {
   "cell_type": "code",
   "execution_count": 446,
   "metadata": {},
   "outputs": [],
   "source": [
    "with make('schedule'):\n",
    "    # todo: make properly\n",
    "    make(orient='vertical', h=1, visible=False)\n",
    "    with make('header', orient='vertical', h=1, index_width=3):\n",
    "        make(h=1, size=1, text='График наливов', push_func=add_push)\n",
    "        for i in range(288):\n",
    "            cur_time = cast_time(i + cast_t('01:00'))\n",
    "            if cur_time[-2:] == '00':\n",
    "                make(t=1 + i, size=1, h=1, text=str(int(cur_time[:2])), color=(218, 150, 148), text_rotation=90, push_func=add_push)\n",
    "            else:\n",
    "                make(t=1 + i, size=1, h=1, text=cur_time[-2:], color=(204, 255, 255), text_rotation=90, push_func=add_push)\n",
    "    \n",
    "    for i in range(2):\n",
    "        with make(f'cheese_maker_{i}', orient='vertical', h=2):\n",
    "            for block in root['boiling']:\n",
    "                if block.props['pouring_line'] == str(i):\n",
    "                    make(block['pouring'], push_func=add_push_with_props)\n",
    "        make(orient='vertical', h=1, visible=False)\n",
    "\n",
    "    with make('cleanings', orient='vertical', h=2):\n",
    "        for block in root['cleaning']:\n",
    "            make(block, push_func=add_push_with_props)\n",
    "    make(orient='vertical', h=1, visible=False)\n",
    "\n",
    "    for i in range(2, 4):\n",
    "        with make(f'cheese_maker_{i}', orient='vertical', h=2):\n",
    "            for block in root['boiling']:\n",
    "                if block.props['pouring_line'] == str(i):\n",
    "                    make(block['pouring'], push_func=add_push_with_props)\n",
    "        make(orient='vertical', h=1, visible=False)\n",
    "    \n",
    "    with make('header', orient='vertical', h=1, index_width=4):\n",
    "        for i in range(288):\n",
    "            cur_time = cast_time(i + cast_t('07:00'))\n",
    "            if cur_time[-2:] == '00':\n",
    "                make(t=i, size=1, h=1, text=str(int(cur_time[:2])), color=(218, 150, 148), text_rotation=90, push_func=add_push)\n",
    "            else:\n",
    "                make(t=i, size=1, h=1, text=cur_time[-2:], color=(204, 255, 255), text_rotation=90, push_func=add_push)\n",
    "    \n",
    "    with make('water_melting', orient='vertical', h=4):\n",
    "        for block in root['boiling']:\n",
    "            if block.props['boiling_type'] == 'water':\n",
    "                make(block['melting_and_packing']['melting'], push_func=add_push_with_props)\n",
    "                \n",
    "    with make('water_packing', orient='vertical', h=3):\n",
    "        for block in root['boiling']:\n",
    "            if block.props['boiling_type'] == 'water':\n",
    "                make(block['melting_and_packing']['packing_and_preconfiguration'], push_func=add_push_with_props)\n",
    "    \n",
    "    # todo: make dynamic lines\n",
    "    n_lines = 5\n",
    "    melting_lines = [make(f'salt_melting_{i}', orient='vertical', h=3).block for i in range(n_lines)]\n",
    "    \n",
    "    # todo: hardcode, add empty elements for drawing not to draw melting_line itself\n",
    "    for b in melting_lines:\n",
    "        add_push(b, Block('block', visible=False))\n",
    "        \n",
    "    for i, block in enumerate([b for b in root['boiling'] if b.props['boiling_type'] == 'salt']):\n",
    "        add_push_with_props(melting_lines[i % n_lines], block['melting_and_packing']['melting'])\n",
    "    \n",
    "    with make('water_packing', orient='vertical', h=3):\n",
    "        for block in root['boiling']:\n",
    "            if block.props['boiling_type'] == 'salt':\n",
    "                make(block['melting_and_packing']['packing_and_preconfiguration'], push_func=add_push_with_props)\n",
    "row_root = maker.root"
   ]
  },
  {
   "cell_type": "code",
   "execution_count": 447,
   "metadata": {
    "scrolled": true
   },
   "outputs": [],
   "source": [
    "row_root.props.update({'h': max(c.end for c in root.children)})\n",
    "style = load_style()\n",
    "init_sheet_func = init_sheet if mode == mode else init_template_sheet(template_fn=template_fn)\n",
    "wb = draw_schedule(row_root, style, init_sheet_func=init_sheet_func)\n",
    "wb.save('output.xlsx')\n",
    "open_file_in_os('output.xlsx') "
   ]
  },
  {
   "cell_type": "code",
   "execution_count": 448,
   "metadata": {},
   "outputs": [
    {
     "ename": "SyntaxError",
     "evalue": "invalid syntax (<ipython-input-448-fad91589d66b>, line 1)",
     "output_type": "error",
     "traceback": [
      "\u001b[1;36m  File \u001b[1;32m\"<ipython-input-448-fad91589d66b>\"\u001b[1;36m, line \u001b[1;32m1\u001b[0m\n\u001b[1;33m    3 кг - 360\u001b[0m\n\u001b[1;37m      ^\u001b[0m\n\u001b[1;31mSyntaxError\u001b[0m\u001b[1;31m:\u001b[0m invalid syntax\n"
     ]
    }
   ],
   "source": [
    "3 кг - 360\n",
    "0.36 - 728"
   ]
  },
  {
   "cell_type": "code",
   "execution_count": 545,
   "metadata": {},
   "outputs": [
    {
     "data": {
      "text/html": [
       "<div>\n",
       "<style scoped>\n",
       "    .dataframe tbody tr th:only-of-type {\n",
       "        vertical-align: middle;\n",
       "    }\n",
       "\n",
       "    .dataframe tbody tr th {\n",
       "        vertical-align: top;\n",
       "    }\n",
       "\n",
       "    .dataframe thead th {\n",
       "        text-align: right;\n",
       "    }\n",
       "</style>\n",
       "<table border=\"1\" class=\"dataframe\">\n",
       "  <thead>\n",
       "    <tr style=\"text-align: right;\">\n",
       "      <th></th>\n",
       "      <th>speed</th>\n",
       "      <th>qty</th>\n",
       "      <th>group</th>\n",
       "    </tr>\n",
       "  </thead>\n",
       "  <tbody>\n",
       "    <tr>\n",
       "      <th>0</th>\n",
       "      <td>728</td>\n",
       "      <td>800</td>\n",
       "      <td>non-rubber</td>\n",
       "    </tr>\n",
       "    <tr>\n",
       "      <th>1</th>\n",
       "      <td>360</td>\n",
       "      <td>50</td>\n",
       "      <td>rubber</td>\n",
       "    </tr>\n",
       "  </tbody>\n",
       "</table>\n",
       "</div>"
      ],
      "text/plain": [
       "   speed  qty       group\n",
       "0    728  800  non-rubber\n",
       "1    360   50      rubber"
      ]
     },
     "execution_count": 545,
     "metadata": {},
     "output_type": "execute_result"
    }
   ],
   "source": [
    "# one group element can be used at one time\n",
    "S = 1020\n",
    "\n",
    "df = pd.DataFrame(columns=['speed', 'qty'])\n",
    "df['qty'] = [800, 50]\n",
    "df['speed'] = [728, 360]\n",
    "df['group'] = ['non-rubber', 'rubber']\n",
    "df"
   ]
  },
  {
   "cell_type": "code",
   "execution_count": 549,
   "metadata": {},
   "outputs": [
    {
     "data": {
      "text/plain": [
       "[2, 3, 1]"
      ]
     },
     "execution_count": 549,
     "metadata": {},
     "output_type": "execute_result"
    }
   ],
   "source": [
    "remove_duplicates([2,3,1,1, ])"
   ]
  },
  {
   "cell_type": "code",
   "execution_count": 550,
   "metadata": {},
   "outputs": [],
   "source": [
    "def get_total_parallel_time(input_speed, df):\n",
    "    t = 0\n",
    "\n",
    "    # start with slow ones\n",
    "    df = df.sort_values(by='speed')\n",
    "    \n",
    "    while df['qty'].sum() > 0:\n",
    "        speed_left = S\n",
    "        \n",
    "        groups = remove_duplicates(df['group'])\n",
    "        group_df = pd.DataFrame([False] * len(groups), index=groups, columns=['used'])\n",
    "        \n",
    "        df['cur_speed'] = 0\n",
    "        \n",
    "        for group in groups:\n",
    "            grp = df[df['group'] == group]\n",
    "            \n",
    "            # set cur speed\n",
    "            for i, row in grp.iterrows():\n",
    "                if row['qty'] == 0:\n",
    "                    continue\n",
    "                \n",
    "                if group_df.at[row['group'], 'used']:\n",
    "                    break\n",
    "                \n",
    "                df.at[i, 'cur_speed'] = min(speed_left, row['speed'])\n",
    "                speed_left -= df.at[i, 'cur_speed']\n",
    "                \n",
    "                group_df.at[row['group'], 'used'] = True\n",
    "        \n",
    "        df['time_left'] = df['qty'] / df['cur_speed']\n",
    "        print(df)\n",
    "        min_time_left = df['time_left'][df['time_left'] > 0].min()\n",
    "        t += min_time_left\n",
    "        df['qty'] -= df['cur_speed'] * min_time_left\n",
    "        print(df)\n",
    "        print()\n",
    "    return t"
   ]
  },
  {
   "cell_type": "code",
   "execution_count": 551,
   "metadata": {},
   "outputs": [
    {
     "name": "stdout",
     "output_type": "stream",
     "text": [
      "   speed  qty       group  cur_speed  time_left\n",
      "1    360   50      rubber        360   0.138889\n",
      "0    728  800  non-rubber        660   1.212121\n",
      "   speed         qty       group  cur_speed  time_left\n",
      "1    360    0.000000      rubber        360   0.138889\n",
      "0    728  708.333333  non-rubber        660   1.212121\n",
      "\n",
      "   speed         qty       group  cur_speed  time_left\n",
      "1    360    0.000000      rubber          0        NaN\n",
      "0    728  708.333333  non-rubber        728   0.972985\n",
      "   speed  qty       group  cur_speed  time_left\n",
      "1    360  0.0      rubber          0        NaN\n",
      "0    728  0.0  non-rubber        728   0.972985\n",
      "\n"
     ]
    },
    {
     "data": {
      "text/plain": [
       "1.111874236874237"
      ]
     },
     "execution_count": 551,
     "metadata": {},
     "output_type": "execute_result"
    }
   ],
   "source": [
    "get_total_parallel_time(S, df)"
   ]
  },
  {
   "cell_type": "code",
   "execution_count": null,
   "metadata": {},
   "outputs": [],
   "source": []
  }
 ],
 "metadata": {
  "kernelspec": {
   "display_name": "Python 3",
   "language": "python",
   "name": "python3"
  },
  "language_info": {
   "codemirror_mode": {
    "name": "ipython",
    "version": 3
   },
   "file_extension": ".py",
   "mimetype": "text/x-python",
   "name": "python",
   "nbconvert_exporter": "python",
   "pygments_lexer": "ipython3",
   "version": "3.8.5"
  }
 },
 "nbformat": 4,
 "nbformat_minor": 4
}

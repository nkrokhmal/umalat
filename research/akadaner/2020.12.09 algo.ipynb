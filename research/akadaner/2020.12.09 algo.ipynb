{
 "cells": [
  {
   "cell_type": "code",
   "execution_count": 1,
   "metadata": {},
   "outputs": [],
   "source": [
    "import os\n",
    "os.environ[\"mode\"] = 'dev'"
   ]
  },
  {
   "cell_type": "code",
   "execution_count": 2,
   "metadata": {},
   "outputs": [],
   "source": [
    "\n",
    "import sys\n",
    "sys.path.append(r'C:\\Users\\Mi\\Desktop\\code\\git\\python-utils-ak')\n",
    "sys.path.append(r'C:\\Users\\Mi\\Desktop\\code\\git\\2020.10-umalat\\umalat')\n",
    "from utils_ak.interactive_imports import *"
   ]
  },
  {
   "cell_type": "code",
   "execution_count": 3,
   "metadata": {},
   "outputs": [],
   "source": [
    "\n",
    "\n",
    "def _import_globals(module):\n",
    "    for x in dir(module):\n",
    "        if not x.startswith('_'):\n",
    "            globals()[x] = getattr(module, x)\n",
    "            \n",
    "def _load(module_obj, module_name=None, reload=False, import_globals=False):\n",
    "    module = load(module_obj, module_name, reload, import_globals=False)\n",
    "    if import_globals:\n",
    "        _import_globals(module)\n",
    "    return module\n",
    "\n",
    "def load_sources():\n",
    "    _load(r'C:\\Users\\Mi\\Desktop\\code\\git\\2020.10-umalat\\umalat\\app\\schedule_maker\\utils/time.py', import_globals=True, reload=True)\n",
    "    _load(r'C:\\Users\\Mi\\Desktop\\code\\git\\2020.10-umalat\\umalat\\app\\schedule_maker\\utils/block.py', import_globals=True, reload=True)\n",
    "    _load(r'C:\\Users\\Mi\\Desktop\\code\\git\\2020.10-umalat\\umalat\\app\\schedule_maker\\utils/color.py', import_globals=True, reload=True)\n",
    "    _load(r'C:\\Users\\Mi\\Desktop\\code\\git\\2020.10-umalat\\umalat\\app\\schedule_maker\\utils/drawing.py', import_globals=True, reload=True)\n",
    "    _load(r'C:\\Users\\Mi\\Desktop\\code\\git\\2020.10-umalat\\umalat\\app\\schedule_maker\\utils/interval.py', import_globals=True, reload=True)\n",
    "    \n",
    "    _load(r'C:\\Users\\Mi\\Desktop\\code\\git\\2020.10-umalat\\umalat\\app\\schedule_maker\\blocks.py', import_globals=True, reload=True)\n",
    "\n",
    "    _load(r'C:\\Users\\Mi\\Desktop\\code\\git\\2020.10-umalat\\umalat\\app\\schedule_maker\\models.py', import_globals=True, reload=True)\n",
    "    _load(r'C:\\Users\\Mi\\Desktop\\code\\git\\2020.10-umalat\\umalat\\app\\schedule_maker\\algo.py', import_globals=True, reload=True)\n",
    "    _load(r'C:\\Users\\Mi\\Desktop\\code\\git\\2020.10-umalat\\umalat\\app\\schedule_maker\\style.py', import_globals=True, reload=True)\n",
    "    _load(r'C:\\Users\\Mi\\Desktop\\code\\git\\2020.10-umalat\\umalat\\app\\schedule_maker\\validation.py', import_globals=True, reload=True)\n",
    "    _load(r'C:\\Users\\Mi\\Desktop\\code\\git\\2020.10-umalat\\umalat\\app\\utils\\openpyxl_wrapper.py', import_globals=True, reload=True)\n",
    "#     _load(r'C:\\Users\\Mi\\Desktop\\code\\git\\2020.10-umalat\\umalat\\app\\utils\\excel_client.py', import_globals=True, reload=True)\n",
    "\n",
    "load_sources()"
   ]
  },
  {
   "cell_type": "code",
   "execution_count": 4,
   "metadata": {},
   "outputs": [],
   "source": [
    "request = anyconfig.load(r\"C:\\Users\\Mi\\YandexDisk\\Shared\\2020 umalat\\schedules\\2020.12.04.json\")"
   ]
  },
  {
   "cell_type": "code",
   "execution_count": 5,
   "metadata": {},
   "outputs": [
    {
     "data": {
      "text/html": [
       "<div>\n",
       "<style scoped>\n",
       "    .dataframe tbody tr th:only-of-type {\n",
       "        vertical-align: middle;\n",
       "    }\n",
       "\n",
       "    .dataframe tbody tr th {\n",
       "        vertical-align: top;\n",
       "    }\n",
       "\n",
       "    .dataframe thead th {\n",
       "        text-align: right;\n",
       "    }\n",
       "</style>\n",
       "<table border=\"1\" class=\"dataframe\">\n",
       "  <thead>\n",
       "    <tr style=\"text-align: right;\">\n",
       "      <th></th>\n",
       "      <th>boiling_id</th>\n",
       "      <th>boiling_request</th>\n",
       "      <th>boiling_type</th>\n",
       "      <th>used</th>\n",
       "      <th>boiling_label</th>\n",
       "      <th>volume</th>\n",
       "      <th>names</th>\n",
       "    </tr>\n",
       "  </thead>\n",
       "  <tbody>\n",
       "    <tr>\n",
       "      <th>0</th>\n",
       "      <td>2</td>\n",
       "      <td>[[&lt;SKU 1&gt;, 850]]</td>\n",
       "      <td>salt</td>\n",
       "      <td>False</td>\n",
       "      <td>2.7 РЎР°РєРєРѕ</td>\n",
       "      <td>850</td>\n",
       "      <td>{'1': 'РњРѕС†Р°СЂРµР»Р»Р° \"Pretto\" (РґР»СЏ Р±СѓС‚РµСЂР±СЂРѕРґРѕРІ), 45%, 0,2 РєРі, С‚/С„, (9 С€С‚)'}</td>\n",
       "    </tr>\n",
       "    <tr>\n",
       "      <th>1</th>\n",
       "      <td>1</td>\n",
       "      <td>[[&lt;SKU 34&gt;, 850]]</td>\n",
       "      <td>salt</td>\n",
       "      <td>False</td>\n",
       "      <td>2.7 РђР»СЊС‡Рµ</td>\n",
       "      <td>850</td>\n",
       "      <td>{'34': 'РЎСѓР»СѓРіСѓРЅРё  \"РЈРјР°Р»Р°С‚\", 45%, 0,37 РєРі, С‚/С„, (6 С€С‚)'}</td>\n",
       "    </tr>\n",
       "    <tr>\n",
       "      <th>2</th>\n",
       "      <td>1</td>\n",
       "      <td>[[&lt;SKU 14&gt;, 283], [&lt;SKU 4&gt;, 567]]</td>\n",
       "      <td>salt</td>\n",
       "      <td>False</td>\n",
       "      <td>2.7 РђР»СЊС‡Рµ</td>\n",
       "      <td>850</td>\n",
       "      <td>{'4': 'РњРѕС†Р°СЂРµР»Р»Р° \"Unagrande\", 45%, 3 РєРі, РїР»/Р»', '14': 'РњРѕС†Р°СЂРµР»Р»Р° РґР»СЏ РїРёС†С†С‹ \"Unagrande\", 45%, 0,46 РєРі, РІ/Сѓ, (8 С€С‚)'}</td>\n",
       "    </tr>\n",
       "    <tr>\n",
       "      <th>3</th>\n",
       "      <td>1</td>\n",
       "      <td>[[&lt;SKU 4&gt;, 850]]</td>\n",
       "      <td>salt</td>\n",
       "      <td>False</td>\n",
       "      <td>2.7 РђР»СЊС‡Рµ</td>\n",
       "      <td>850</td>\n",
       "      <td>{'4': 'РњРѕС†Р°СЂРµР»Р»Р° \"Unagrande\", 45%, 3 РєРі, РїР»/Р»'}</td>\n",
       "    </tr>\n",
       "    <tr>\n",
       "      <th>4</th>\n",
       "      <td>1</td>\n",
       "      <td>[[&lt;SKU 17&gt;, 850]]</td>\n",
       "      <td>salt</td>\n",
       "      <td>False</td>\n",
       "      <td>2.7 РђР»СЊС‡Рµ</td>\n",
       "      <td>850</td>\n",
       "      <td>{'17': 'РњРѕС†Р°СЂРµР»Р»Р° РґР»СЏ СЃСЌРЅРґРІРёС‡РµР№ \"Unagrande\", 45%, 0,28 РєРі, С‚/С„, (8 С€С‚)'}</td>\n",
       "    </tr>\n",
       "  </tbody>\n",
       "</table>\n",
       "</div>"
      ],
      "text/plain": [
       "  boiling_id                    boiling_request boiling_type   used  \\\n",
       "0          2                   [[<SKU 1>, 850]]         salt  False   \n",
       "1          1                  [[<SKU 34>, 850]]         salt  False   \n",
       "2          1  [[<SKU 14>, 283], [<SKU 4>, 567]]         salt  False   \n",
       "3          1                   [[<SKU 4>, 850]]         salt  False   \n",
       "4          1                  [[<SKU 17>, 850]]         salt  False   \n",
       "\n",
       "    boiling_label  volume  \\\n",
       "0  2.7 РЎР°РєРєРѕ     850   \n",
       "1  2.7 РђР»СЊС‡Рµ     850   \n",
       "2  2.7 РђР»СЊС‡Рµ     850   \n",
       "3  2.7 РђР»СЊС‡Рµ     850   \n",
       "4  2.7 РђР»СЊС‡Рµ     850   \n",
       "\n",
       "                                                                                                                                                      names  \n",
       "0                                                      {'1': 'РњРѕС†Р°СЂРµР»Р»Р° \"Pretto\" (РґР»СЏ Р±СѓС‚РµСЂР±СЂРѕРґРѕРІ), 45%, 0,2 РєРі, С‚/С„, (9 С€С‚)'}  \n",
       "1                                                                               {'34': 'РЎСѓР»СѓРіСѓРЅРё  \"РЈРјР°Р»Р°С‚\", 45%, 0,37 РєРі, С‚/С„, (6 С€С‚)'}  \n",
       "2  {'4': 'РњРѕС†Р°СЂРµР»Р»Р° \"Unagrande\", 45%, 3 РєРі, РїР»/Р»', '14': 'РњРѕС†Р°СЂРµР»Р»Р° РґР»СЏ РїРёС†С†С‹ \"Unagrande\", 45%, 0,46 РєРі, РІ/Сѓ, (8 С€С‚)'}  \n",
       "3                                                                                             {'4': 'РњРѕС†Р°СЂРµР»Р»Р° \"Unagrande\", 45%, 3 РєРі, РїР»/Р»'}  \n",
       "4                                                       {'17': 'РњРѕС†Р°СЂРµР»Р»Р° РґР»СЏ СЃСЌРЅРґРІРёС‡РµР№ \"Unagrande\", 45%, 0,28 РєРі, С‚/С„, (8 С€С‚)'}  "
      ]
     },
     "execution_count": 5,
     "metadata": {},
     "output_type": "execute_result"
    }
   ],
   "source": [
    "df = pd.DataFrame(cast_dict(r\"C:\\Users\\Mi\\YandexDisk\\Shared\\2020 umalat\\schedules\\2020.12.04 request_by_boilings.json\"))\n",
    "\n",
    "df['boiling_request'] = df['boiling_request'].apply(lambda req:  [[cast_sku(k), v] for k, v in req if v != 0])\n",
    "\n",
    "for i, row in df.iterrows():\n",
    "    df.at[i, 'boiling_request'] = [[k,  round(v * row['volume'] / sum([v for k, v in row['boiling_request']]))] for k, v in row['boiling_request']]\n",
    "df['used'] = False\n",
    "df.head()"
   ]
  },
  {
   "cell_type": "code",
   "execution_count": 6,
   "metadata": {},
   "outputs": [],
   "source": [
    "configure_logging(stream=False)"
   ]
  },
  {
   "cell_type": "code",
   "execution_count": 7,
   "metadata": {
    "scrolled": true
   },
   "outputs": [
    {
     "name": "stderr",
     "output_type": "stream",
     "text": [
      "INFO:root:Fitting block 2\n",
      "INFO:root:['Disposition', 6, 'termizator', '[02:25, 02:55)', 'termizator', '[02:25, 02:55)', {'class': 'termizator', 'y': 0, 'size': 6, 'boiling_type': 'salt', 'time_size': 30, 'boiling_label': '2.7 Сакко  8000кг', 'boiling_id': 2, 'melting_line': '0', 'block_num': 2, 'pouring_line': '2', 't': 29}, {'class': 'termizator', 'y': 0, 'size': 6, 'boiling_type': 'salt', 'time_size': 30, 'boiling_label': '2.7 Альче  8000кг', 'boiling_id': 1, 'melting_line': '0', 'block_num': 3, 'pouring_line': '2', 't': 29}]\n",
      "INFO:root:['Disposition', 6, 'termizator', '[02:25, 02:55)', 'termizator', '[02:25, 02:55)', {'class': 'termizator', 'y': 0, 'size': 6, 'boiling_type': 'salt', 'time_size': 30, 'boiling_label': '2.7 Сакко  8000кг', 'boiling_id': 2, 'melting_line': '0', 'block_num': 2, 'pouring_line': '2', 't': 29}, {'class': 'termizator', 'y': 0, 'size': 6, 'boiling_type': 'salt', 'time_size': 30, 'boiling_label': '2.7 Альче  8000кг', 'boiling_id': 1, 'melting_line': '1', 'block_num': 3, 'pouring_line': '2', 't': 29}]\n",
      "INFO:root:['Disposition', 6, 'termizator', '[02:25, 02:55)', 'termizator', '[02:25, 02:55)', {'class': 'termizator', 'y': 0, 'size': 6, 'boiling_type': 'salt', 'time_size': 30, 'boiling_label': '2.7 Сакко  8000кг', 'boiling_id': 2, 'melting_line': '0', 'block_num': 2, 'pouring_line': '2', 't': 29}, {'class': 'termizator', 'y': 0, 'size': 6, 'boiling_type': 'salt', 'time_size': 30, 'boiling_label': '2.7 Альче  8000кг', 'boiling_id': 1, 'melting_line': '2', 'block_num': 3, 'pouring_line': '2', 't': 29}]\n",
      "INFO:root:['Disposition', 6, 'termizator', '[02:25, 02:55)', 'termizator', '[02:25, 02:55)', {'class': 'termizator', 'y': 0, 'size': 6, 'boiling_type': 'salt', 'time_size': 30, 'boiling_label': '2.7 Сакко  8000кг', 'boiling_id': 2, 'melting_line': '0', 'block_num': 2, 'pouring_line': '2', 't': 29}, {'class': 'termizator', 'y': 0, 'size': 6, 'boiling_type': 'salt', 'time_size': 30, 'boiling_label': '2.7 Альче  8000кг', 'boiling_id': 1, 'melting_line': '3', 'block_num': 3, 'pouring_line': '2', 't': 29}]\n",
      "INFO:root:['Disposition', 6, 'termizator', '[02:25, 02:55)', 'termizator', '[02:25, 02:55)', {'class': 'termizator', 'y': 0, 'size': 6, 'boiling_type': 'salt', 'time_size': 30, 'boiling_label': '2.7 Сакко  8000кг', 'boiling_id': 2, 'melting_line': '0', 'block_num': 2, 'pouring_line': '2', 't': 29}, {'class': 'termizator', 'y': 0, 'size': 6, 'boiling_type': 'salt', 'time_size': 30, 'boiling_label': '2.7 Альче  8000кг', 'boiling_id': 1, 'melting_line': '0', 'block_num': 3, 'pouring_line': '3', 't': 29}]\n",
      "INFO:root:['Disposition', 6, 'termizator', '[02:25, 02:55)', 'termizator', '[02:25, 02:55)', {'class': 'termizator', 'y': 0, 'size': 6, 'boiling_type': 'salt', 'time_size': 30, 'boiling_label': '2.7 Сакко  8000кг', 'boiling_id': 2, 'melting_line': '0', 'block_num': 2, 'pouring_line': '2', 't': 29}, {'class': 'termizator', 'y': 0, 'size': 6, 'boiling_type': 'salt', 'time_size': 30, 'boiling_label': '2.7 Альче  8000кг', 'boiling_id': 1, 'melting_line': '1', 'block_num': 3, 'pouring_line': '3', 't': 29}]\n",
      "INFO:root:['Disposition', 6, 'termizator', '[02:25, 02:55)', 'termizator', '[02:25, 02:55)', {'class': 'termizator', 'y': 0, 'size': 6, 'boiling_type': 'salt', 'time_size': 30, 'boiling_label': '2.7 Сакко  8000кг', 'boiling_id': 2, 'melting_line': '0', 'block_num': 2, 'pouring_line': '2', 't': 29}, {'class': 'termizator', 'y': 0, 'size': 6, 'boiling_type': 'salt', 'time_size': 30, 'boiling_label': '2.7 Альче  8000кг', 'boiling_id': 1, 'melting_line': '2', 'block_num': 3, 'pouring_line': '3', 't': 29}]\n",
      "INFO:root:['Disposition', 6, 'termizator', '[02:25, 02:55)', 'termizator', '[02:25, 02:55)', {'class': 'termizator', 'y': 0, 'size': 6, 'boiling_type': 'salt', 'time_size': 30, 'boiling_label': '2.7 Сакко  8000кг', 'boiling_id': 2, 'melting_line': '0', 'block_num': 2, 'pouring_line': '2', 't': 29}, {'class': 'termizator', 'y': 0, 'size': 6, 'boiling_type': 'salt', 'time_size': 30, 'boiling_label': '2.7 Альче  8000кг', 'boiling_id': 1, 'melting_line': '3', 'block_num': 3, 'pouring_line': '3', 't': 29}]\n",
      "INFO:root:['All dispositions', [6, 6, 6, 6, 6, 6, 6, 6]]\n",
      "INFO:root:['Disposition', 19, 'pouring', '[02:25, 04:30)', 'pouring', '[02:55, 05:00)', {'class': 'pouring', 'y': 0, 'size': 25, 'boiling_type': 'salt', 'time_size': 125, 'boiling_label': '2.7 Сакко  8000кг', 'boiling_id': 2, 'melting_line': '0', 'block_num': 2, 'pouring_line': '2', 't': 29}, {'class': 'pouring', 'y': 0, 'size': 25, 'boiling_type': 'salt', 'time_size': 125, 'boiling_label': '2.7 Альче  8000кг', 'boiling_id': 1, 'melting_line': '0', 'block_num': 3, 'pouring_line': '2', 't': 35}]\n",
      "INFO:root:['Disposition', 19, 'pouring', '[02:25, 04:30)', 'pouring', '[02:55, 05:00)', {'class': 'pouring', 'y': 0, 'size': 25, 'boiling_type': 'salt', 'time_size': 125, 'boiling_label': '2.7 Сакко  8000кг', 'boiling_id': 2, 'melting_line': '0', 'block_num': 2, 'pouring_line': '2', 't': 29}, {'class': 'pouring', 'y': 0, 'size': 25, 'boiling_type': 'salt', 'time_size': 125, 'boiling_label': '2.7 Альче  8000кг', 'boiling_id': 1, 'melting_line': '1', 'block_num': 3, 'pouring_line': '2', 't': 35}]\n",
      "INFO:root:['Disposition', 19, 'pouring', '[02:25, 04:30)', 'pouring', '[02:55, 05:00)', {'class': 'pouring', 'y': 0, 'size': 25, 'boiling_type': 'salt', 'time_size': 125, 'boiling_label': '2.7 Сакко  8000кг', 'boiling_id': 2, 'melting_line': '0', 'block_num': 2, 'pouring_line': '2', 't': 29}, {'class': 'pouring', 'y': 0, 'size': 25, 'boiling_type': 'salt', 'time_size': 125, 'boiling_label': '2.7 Альче  8000кг', 'boiling_id': 1, 'melting_line': '2', 'block_num': 3, 'pouring_line': '2', 't': 35}]\n",
      "INFO:root:['Disposition', 19, 'pouring', '[02:25, 04:30)', 'pouring', '[02:55, 05:00)', {'class': 'pouring', 'y': 0, 'size': 25, 'boiling_type': 'salt', 'time_size': 125, 'boiling_label': '2.7 Сакко  8000кг', 'boiling_id': 2, 'melting_line': '0', 'block_num': 2, 'pouring_line': '2', 't': 29}, {'class': 'pouring', 'y': 0, 'size': 25, 'boiling_type': 'salt', 'time_size': 125, 'boiling_label': '2.7 Альче  8000кг', 'boiling_id': 1, 'melting_line': '3', 'block_num': 3, 'pouring_line': '2', 't': 35}]\n",
      "INFO:root:['Disposition', 28, 'melting', '[07:05, 09:55)', 'melting', '[07:35, 10:55)', {'class': 'melting', 't': 85, 'y': 10, 'time_size': 170, 'boiling_type': 'salt', 'boiling_label': '2.7 Сакко  8000кг', 'boiling_id': 2, 'melting_line': '0', 'block_num': 2, 'pouring_line': '2', 'size': 34}, {'class': 'melting', 't': 91, 'y': 10, 'time_size': 200, 'boiling_type': 'salt', 'boiling_label': '2.7 Альче  8000кг', 'boiling_id': 1, 'melting_line': '0', 'block_num': 3, 'pouring_line': '3', 'size': 40}]\n",
      "INFO:root:['Disposition', 4, 'melting_process', '[07:35, 08:25)', 'melting_process', '[08:05, 08:55)', {'class': 'melting_process', 't': 91, 'y': 11, 'time_size': 50, 'boiling_type': 'salt', 'boiling_label': '2.7 Сакко  8000кг', 'boiling_id': 2, 'speed': None, 'melting_line': '0', 'block_num': 2, 'pouring_line': '2', 'size': 10}, {'class': 'melting_process', 't': 97, 'y': 11, 'time_size': 50, 'boiling_type': 'salt', 'boiling_label': '2.7 Альче  8000кг', 'boiling_id': 1, 'speed': None, 'melting_line': '1', 'block_num': 3, 'pouring_line': '3', 'size': 10}]\n",
      "INFO:root:['Disposition', 4, 'melting_process', '[07:35, 08:25)', 'melting_process', '[08:05, 08:55)', {'class': 'melting_process', 't': 91, 'y': 11, 'time_size': 50, 'boiling_type': 'salt', 'boiling_label': '2.7 Сакко  8000кг', 'boiling_id': 2, 'speed': None, 'melting_line': '0', 'block_num': 2, 'pouring_line': '2', 'size': 10}, {'class': 'melting_process', 't': 97, 'y': 11, 'time_size': 50, 'boiling_type': 'salt', 'boiling_label': '2.7 Альче  8000кг', 'boiling_id': 1, 'speed': None, 'melting_line': '2', 'block_num': 3, 'pouring_line': '3', 'size': 10}]\n",
      "INFO:root:['Disposition', 4, 'melting_process', '[07:35, 08:25)', 'melting_process', '[08:05, 08:55)', {'class': 'melting_process', 't': 91, 'y': 11, 'time_size': 50, 'boiling_type': 'salt', 'boiling_label': '2.7 Сакко  8000кг', 'boiling_id': 2, 'speed': None, 'melting_line': '0', 'block_num': 2, 'pouring_line': '2', 'size': 10}, {'class': 'melting_process', 't': 97, 'y': 11, 'time_size': 50, 'boiling_type': 'salt', 'boiling_label': '2.7 Альче  8000кг', 'boiling_id': 1, 'speed': None, 'melting_line': '3', 'block_num': 3, 'pouring_line': '3', 'size': 10}]\n"
     ]
    },
    {
     "name": "stderr",
     "output_type": "stream",
     "text": [
      "INFO:root:['All dispositions', [19, 19, 19, 19, 28, 4, 4, 4]]\n",
      "INFO:root:['Disposition', 15, 'pouring', '[02:25, 04:30)', 'pouring', '[03:15, 05:20)', {'class': 'pouring', 'y': 0, 'size': 25, 'boiling_type': 'salt', 'time_size': 125, 'boiling_label': '2.7 Сакко  8000кг', 'boiling_id': 2, 'melting_line': '0', 'block_num': 2, 'pouring_line': '2', 't': 29}, {'class': 'pouring', 'y': 0, 'size': 25, 'boiling_type': 'salt', 'time_size': 125, 'boiling_label': '2.7 Альче  8000кг', 'boiling_id': 1, 'melting_line': '0', 'block_num': 3, 'pouring_line': '2', 't': 39}]\n",
      "INFO:root:['Disposition', 15, 'pouring', '[02:25, 04:30)', 'pouring', '[03:15, 05:20)', {'class': 'pouring', 'y': 0, 'size': 25, 'boiling_type': 'salt', 'time_size': 125, 'boiling_label': '2.7 Сакко  8000кг', 'boiling_id': 2, 'melting_line': '0', 'block_num': 2, 'pouring_line': '2', 't': 29}, {'class': 'pouring', 'y': 0, 'size': 25, 'boiling_type': 'salt', 'time_size': 125, 'boiling_label': '2.7 Альче  8000кг', 'boiling_id': 1, 'melting_line': '1', 'block_num': 3, 'pouring_line': '2', 't': 39}]\n",
      "INFO:root:['Disposition', 15, 'pouring', '[02:25, 04:30)', 'pouring', '[03:15, 05:20)', {'class': 'pouring', 'y': 0, 'size': 25, 'boiling_type': 'salt', 'time_size': 125, 'boiling_label': '2.7 Сакко  8000кг', 'boiling_id': 2, 'melting_line': '0', 'block_num': 2, 'pouring_line': '2', 't': 29}, {'class': 'pouring', 'y': 0, 'size': 25, 'boiling_type': 'salt', 'time_size': 125, 'boiling_label': '2.7 Альче  8000кг', 'boiling_id': 1, 'melting_line': '2', 'block_num': 3, 'pouring_line': '2', 't': 39}]\n",
      "INFO:root:['Disposition', 15, 'pouring', '[02:25, 04:30)', 'pouring', '[03:15, 05:20)', {'class': 'pouring', 'y': 0, 'size': 25, 'boiling_type': 'salt', 'time_size': 125, 'boiling_label': '2.7 Сакко  8000кг', 'boiling_id': 2, 'melting_line': '0', 'block_num': 2, 'pouring_line': '2', 't': 29}, {'class': 'pouring', 'y': 0, 'size': 25, 'boiling_type': 'salt', 'time_size': 125, 'boiling_label': '2.7 Альче  8000кг', 'boiling_id': 1, 'melting_line': '3', 'block_num': 3, 'pouring_line': '2', 't': 39}]\n",
      "INFO:root:['Disposition', 24, 'melting', '[07:05, 09:55)', 'melting', '[07:55, 11:15)', {'class': 'melting', 't': 85, 'y': 10, 'time_size': 170, 'boiling_type': 'salt', 'boiling_label': '2.7 Сакко  8000кг', 'boiling_id': 2, 'melting_line': '0', 'block_num': 2, 'pouring_line': '2', 'size': 34}, {'class': 'melting', 't': 95, 'y': 10, 'time_size': 200, 'boiling_type': 'salt', 'boiling_label': '2.7 Альче  8000кг', 'boiling_id': 1, 'melting_line': '0', 'block_num': 3, 'pouring_line': '3', 'size': 40}]\n",
      "INFO:root:Fitting block 3\n",
      "INFO:root:['Disposition', 6, 'termizator', '[03:15, 03:45)', 'termizator', '[03:15, 03:45)', {'class': 'termizator', 'y': 0, 'size': 6, 'boiling_type': 'salt', 'time_size': 30, 'boiling_label': '2.7 Альче  8000кг', 'boiling_id': 1, 'melting_line': '1', 'block_num': 3, 'pouring_line': '3', 't': 39}, {'class': 'termizator', 'y': 0, 'size': 6, 'boiling_type': 'salt', 'time_size': 30, 'boiling_label': '2.7 Альче  8000кг', 'boiling_id': 1, 'melting_line': '0', 'block_num': 4, 'pouring_line': '2', 't': 39}]\n",
      "INFO:root:['Disposition', 6, 'termizator', '[03:15, 03:45)', 'termizator', '[03:15, 03:45)', {'class': 'termizator', 'y': 0, 'size': 6, 'boiling_type': 'salt', 'time_size': 30, 'boiling_label': '2.7 Альче  8000кг', 'boiling_id': 1, 'melting_line': '1', 'block_num': 3, 'pouring_line': '3', 't': 39}, {'class': 'termizator', 'y': 0, 'size': 6, 'boiling_type': 'salt', 'time_size': 30, 'boiling_label': '2.7 Альче  8000кг', 'boiling_id': 1, 'melting_line': '1', 'block_num': 4, 'pouring_line': '2', 't': 39}]\n",
      "INFO:root:['Disposition', 6, 'termizator', '[03:15, 03:45)', 'termizator', '[03:15, 03:45)', {'class': 'termizator', 'y': 0, 'size': 6, 'boiling_type': 'salt', 'time_size': 30, 'boiling_label': '2.7 Альче  8000кг', 'boiling_id': 1, 'melting_line': '1', 'block_num': 3, 'pouring_line': '3', 't': 39}, {'class': 'termizator', 'y': 0, 'size': 6, 'boiling_type': 'salt', 'time_size': 30, 'boiling_label': '2.7 Альче  8000кг', 'boiling_id': 1, 'melting_line': '2', 'block_num': 4, 'pouring_line': '2', 't': 39}]\n",
      "INFO:root:['Disposition', 6, 'termizator', '[03:15, 03:45)', 'termizator', '[03:15, 03:45)', {'class': 'termizator', 'y': 0, 'size': 6, 'boiling_type': 'salt', 'time_size': 30, 'boiling_label': '2.7 Альче  8000кг', 'boiling_id': 1, 'melting_line': '1', 'block_num': 3, 'pouring_line': '3', 't': 39}, {'class': 'termizator', 'y': 0, 'size': 6, 'boiling_type': 'salt', 'time_size': 30, 'boiling_label': '2.7 Альче  8000кг', 'boiling_id': 1, 'melting_line': '3', 'block_num': 4, 'pouring_line': '2', 't': 39}]\n",
      "INFO:root:['Disposition', 6, 'termizator', '[03:15, 03:45)', 'termizator', '[03:15, 03:45)', {'class': 'termizator', 'y': 0, 'size': 6, 'boiling_type': 'salt', 'time_size': 30, 'boiling_label': '2.7 Альче  8000кг', 'boiling_id': 1, 'melting_line': '1', 'block_num': 3, 'pouring_line': '3', 't': 39}, {'class': 'termizator', 'y': 0, 'size': 6, 'boiling_type': 'salt', 'time_size': 30, 'boiling_label': '2.7 Альче  8000кг', 'boiling_id': 1, 'melting_line': '0', 'block_num': 4, 'pouring_line': '3', 't': 39}]\n",
      "INFO:root:['Disposition', 6, 'termizator', '[03:15, 03:45)', 'termizator', '[03:15, 03:45)', {'class': 'termizator', 'y': 0, 'size': 6, 'boiling_type': 'salt', 'time_size': 30, 'boiling_label': '2.7 Альче  8000кг', 'boiling_id': 1, 'melting_line': '1', 'block_num': 3, 'pouring_line': '3', 't': 39}, {'class': 'termizator', 'y': 0, 'size': 6, 'boiling_type': 'salt', 'time_size': 30, 'boiling_label': '2.7 Альче  8000кг', 'boiling_id': 1, 'melting_line': '1', 'block_num': 4, 'pouring_line': '3', 't': 39}]\n",
      "INFO:root:['Disposition', 6, 'termizator', '[03:15, 03:45)', 'termizator', '[03:15, 03:45)', {'class': 'termizator', 'y': 0, 'size': 6, 'boiling_type': 'salt', 'time_size': 30, 'boiling_label': '2.7 Альче  8000кг', 'boiling_id': 1, 'melting_line': '1', 'block_num': 3, 'pouring_line': '3', 't': 39}, {'class': 'termizator', 'y': 0, 'size': 6, 'boiling_type': 'salt', 'time_size': 30, 'boiling_label': '2.7 Альче  8000кг', 'boiling_id': 1, 'melting_line': '2', 'block_num': 4, 'pouring_line': '3', 't': 39}]\n",
      "INFO:root:['Disposition', 6, 'termizator', '[03:15, 03:45)', 'termizator', '[03:15, 03:45)', {'class': 'termizator', 'y': 0, 'size': 6, 'boiling_type': 'salt', 'time_size': 30, 'boiling_label': '2.7 Альче  8000кг', 'boiling_id': 1, 'melting_line': '1', 'block_num': 3, 'pouring_line': '3', 't': 39}, {'class': 'termizator', 'y': 0, 'size': 6, 'boiling_type': 'salt', 'time_size': 30, 'boiling_label': '2.7 Альче  8000кг', 'boiling_id': 1, 'melting_line': '3', 'block_num': 4, 'pouring_line': '3', 't': 39}]\n",
      "INFO:root:['All dispositions', [6, 6, 6, 6, 6, 6, 6, 6]]\n",
      "INFO:root:['Disposition', 4, 'melting_process', '[08:25, 09:15)', 'melting_process', '[08:55, 09:45)', {'class': 'melting_process', 't': 101, 'y': 11, 'time_size': 50, 'boiling_type': 'salt', 'boiling_label': '2.7 Альче  8000кг', 'boiling_id': 1, 'speed': None, 'melting_line': '1', 'block_num': 3, 'pouring_line': '3', 'size': 10}, {'class': 'melting_process', 't': 107, 'y': 11, 'time_size': 50, 'boiling_type': 'salt', 'boiling_label': '2.7 Альче  8000кг', 'boiling_id': 1, 'speed': None, 'melting_line': '0', 'block_num': 4, 'pouring_line': '2', 'size': 10}]\n",
      "INFO:root:['Disposition', 34, 'melting', '[07:55, 11:15)', 'melting', '[08:25, 11:45)', {'class': 'melting', 't': 95, 'y': 10, 'time_size': 200, 'boiling_type': 'salt', 'boiling_label': '2.7 Альче  8000кг', 'boiling_id': 1, 'melting_line': '1', 'block_num': 3, 'pouring_line': '3', 'size': 40}, {'class': 'melting', 't': 101, 'y': 10, 'time_size': 200, 'boiling_type': 'salt', 'boiling_label': '2.7 Альче  8000кг', 'boiling_id': 1, 'melting_line': '1', 'block_num': 4, 'pouring_line': '2', 'size': 40}]\n",
      "INFO:root:['Disposition', 4, 'melting_process', '[08:25, 09:15)', 'melting_process', '[08:55, 09:45)', {'class': 'melting_process', 't': 101, 'y': 11, 'time_size': 50, 'boiling_type': 'salt', 'boiling_label': '2.7 Альче  8000кг', 'boiling_id': 1, 'speed': None, 'melting_line': '1', 'block_num': 3, 'pouring_line': '3', 'size': 10}, {'class': 'melting_process', 't': 107, 'y': 11, 'time_size': 50, 'boiling_type': 'salt', 'boiling_label': '2.7 Альче  8000кг', 'boiling_id': 1, 'speed': None, 'melting_line': '2', 'block_num': 4, 'pouring_line': '2', 'size': 10}]\n"
     ]
    },
    {
     "name": "stderr",
     "output_type": "stream",
     "text": [
      "INFO:root:['Disposition', 4, 'melting_process', '[08:25, 09:15)', 'melting_process', '[08:55, 09:45)', {'class': 'melting_process', 't': 101, 'y': 11, 'time_size': 50, 'boiling_type': 'salt', 'boiling_label': '2.7 Альче  8000кг', 'boiling_id': 1, 'speed': None, 'melting_line': '1', 'block_num': 3, 'pouring_line': '3', 'size': 10}, {'class': 'melting_process', 't': 107, 'y': 11, 'time_size': 50, 'boiling_type': 'salt', 'boiling_label': '2.7 Альче  8000кг', 'boiling_id': 1, 'speed': None, 'melting_line': '3', 'block_num': 4, 'pouring_line': '2', 'size': 10}]\n",
      "INFO:root:['Disposition', 19, 'pouring', '[03:15, 05:20)', 'pouring', '[03:45, 05:50)', {'class': 'pouring', 'y': 0, 'size': 25, 'boiling_type': 'salt', 'time_size': 125, 'boiling_label': '2.7 Альче  8000кг', 'boiling_id': 1, 'melting_line': '1', 'block_num': 3, 'pouring_line': '3', 't': 39}, {'class': 'pouring', 'y': 0, 'size': 25, 'boiling_type': 'salt', 'time_size': 125, 'boiling_label': '2.7 Альче  8000кг', 'boiling_id': 1, 'melting_line': '0', 'block_num': 4, 'pouring_line': '3', 't': 45}]\n",
      "INFO:root:['Disposition', 19, 'pouring', '[03:15, 05:20)', 'pouring', '[03:45, 05:50)', {'class': 'pouring', 'y': 0, 'size': 25, 'boiling_type': 'salt', 'time_size': 125, 'boiling_label': '2.7 Альче  8000кг', 'boiling_id': 1, 'melting_line': '1', 'block_num': 3, 'pouring_line': '3', 't': 39}, {'class': 'pouring', 'y': 0, 'size': 25, 'boiling_type': 'salt', 'time_size': 125, 'boiling_label': '2.7 Альче  8000кг', 'boiling_id': 1, 'melting_line': '1', 'block_num': 4, 'pouring_line': '3', 't': 45}]\n",
      "INFO:root:['Disposition', 19, 'pouring', '[03:15, 05:20)', 'pouring', '[03:45, 05:50)', {'class': 'pouring', 'y': 0, 'size': 25, 'boiling_type': 'salt', 'time_size': 125, 'boiling_label': '2.7 Альче  8000кг', 'boiling_id': 1, 'melting_line': '1', 'block_num': 3, 'pouring_line': '3', 't': 39}, {'class': 'pouring', 'y': 0, 'size': 25, 'boiling_type': 'salt', 'time_size': 125, 'boiling_label': '2.7 Альче  8000кг', 'boiling_id': 1, 'melting_line': '2', 'block_num': 4, 'pouring_line': '3', 't': 45}]\n",
      "INFO:root:['Disposition', 19, 'pouring', '[03:15, 05:20)', 'pouring', '[03:45, 05:50)', {'class': 'pouring', 'y': 0, 'size': 25, 'boiling_type': 'salt', 'time_size': 125, 'boiling_label': '2.7 Альче  8000кг', 'boiling_id': 1, 'melting_line': '1', 'block_num': 3, 'pouring_line': '3', 't': 39}, {'class': 'pouring', 'y': 0, 'size': 25, 'boiling_type': 'salt', 'time_size': 125, 'boiling_label': '2.7 Альче  8000кг', 'boiling_id': 1, 'melting_line': '3', 'block_num': 4, 'pouring_line': '3', 't': 45}]\n",
      "INFO:root:['All dispositions', [4, 34, 4, 4, 19, 19, 19, 19]]\n",
      "INFO:root:['Disposition', 1, 'packing_and_preconfiguration', '[10:00, 11:15)', 'packing_and_preconfiguration', '[11:10, 12:55)', {'class': 'packing_and_preconfiguration', 't': 120, 'y': 0, 'time_size': 75, 'boiling_type': 'salt', 'boiling_label': '2.7 Альче  8000кг', 'boiling_id': 1, 'melting_line': '1', 'block_num': 3, 'pouring_line': '3', 'size': 15}, {'class': 'packing_and_preconfiguration', 't': 134, 'y': 0, 'time_size': 105, 'boiling_type': 'salt', 'boiling_label': '2.7 Альче  8000кг', 'boiling_id': 1, 'melting_line': '0', 'block_num': 4, 'pouring_line': '2', 'size': 21}]\n",
      "INFO:root:['Disposition', 30, 'melting', '[07:55, 11:15)', 'melting', '[08:45, 12:05)', {'class': 'melting', 't': 95, 'y': 10, 'time_size': 200, 'boiling_type': 'salt', 'boiling_label': '2.7 Альче  8000кг', 'boiling_id': 1, 'melting_line': '1', 'block_num': 3, 'pouring_line': '3', 'size': 40}, {'class': 'melting', 't': 105, 'y': 10, 'time_size': 200, 'boiling_type': 'salt', 'boiling_label': '2.7 Альче  8000кг', 'boiling_id': 1, 'melting_line': '1', 'block_num': 4, 'pouring_line': '2', 'size': 40}]\n",
      "INFO:root:['Disposition', 1, 'packing_and_preconfiguration', '[10:00, 11:15)', 'packing_and_preconfiguration', '[11:10, 12:55)', {'class': 'packing_and_preconfiguration', 't': 120, 'y': 0, 'time_size': 75, 'boiling_type': 'salt', 'boiling_label': '2.7 Альче  8000кг', 'boiling_id': 1, 'melting_line': '1', 'block_num': 3, 'pouring_line': '3', 'size': 15}, {'class': 'packing_and_preconfiguration', 't': 134, 'y': 0, 'time_size': 105, 'boiling_type': 'salt', 'boiling_label': '2.7 Альче  8000кг', 'boiling_id': 1, 'melting_line': '2', 'block_num': 4, 'pouring_line': '2', 'size': 21}]\n",
      "INFO:root:['Disposition', 1, 'packing_and_preconfiguration', '[10:00, 11:15)', 'packing_and_preconfiguration', '[11:10, 12:55)', {'class': 'packing_and_preconfiguration', 't': 120, 'y': 0, 'time_size': 75, 'boiling_type': 'salt', 'boiling_label': '2.7 Альче  8000кг', 'boiling_id': 1, 'melting_line': '1', 'block_num': 3, 'pouring_line': '3', 'size': 15}, {'class': 'packing_and_preconfiguration', 't': 134, 'y': 0, 'time_size': 105, 'boiling_type': 'salt', 'boiling_label': '2.7 Альче  8000кг', 'boiling_id': 1, 'melting_line': '3', 'block_num': 4, 'pouring_line': '2', 'size': 21}]\n",
      "INFO:root:['Disposition', 15, 'pouring', '[03:15, 05:20)', 'pouring', '[04:05, 06:10)', {'class': 'pouring', 'y': 0, 'size': 25, 'boiling_type': 'salt', 'time_size': 125, 'boiling_label': '2.7 Альче  8000кг', 'boiling_id': 1, 'melting_line': '1', 'block_num': 3, 'pouring_line': '3', 't': 39}, {'class': 'pouring', 'y': 0, 'size': 25, 'boiling_type': 'salt', 'time_size': 125, 'boiling_label': '2.7 Альче  8000кг', 'boiling_id': 1, 'melting_line': '0', 'block_num': 4, 'pouring_line': '3', 't': 49}]\n",
      "INFO:root:['Disposition', 15, 'pouring', '[03:15, 05:20)', 'pouring', '[04:05, 06:10)', {'class': 'pouring', 'y': 0, 'size': 25, 'boiling_type': 'salt', 'time_size': 125, 'boiling_label': '2.7 Альче  8000кг', 'boiling_id': 1, 'melting_line': '1', 'block_num': 3, 'pouring_line': '3', 't': 39}, {'class': 'pouring', 'y': 0, 'size': 25, 'boiling_type': 'salt', 'time_size': 125, 'boiling_label': '2.7 Альче  8000кг', 'boiling_id': 1, 'melting_line': '1', 'block_num': 4, 'pouring_line': '3', 't': 49}]\n",
      "INFO:root:['Disposition', 15, 'pouring', '[03:15, 05:20)', 'pouring', '[04:05, 06:10)', {'class': 'pouring', 'y': 0, 'size': 25, 'boiling_type': 'salt', 'time_size': 125, 'boiling_label': '2.7 Альче  8000кг', 'boiling_id': 1, 'melting_line': '1', 'block_num': 3, 'pouring_line': '3', 't': 39}, {'class': 'pouring', 'y': 0, 'size': 25, 'boiling_type': 'salt', 'time_size': 125, 'boiling_label': '2.7 Альче  8000кг', 'boiling_id': 1, 'melting_line': '2', 'block_num': 4, 'pouring_line': '3', 't': 49}]\n",
      "INFO:root:['Disposition', 15, 'pouring', '[03:15, 05:20)', 'pouring', '[04:05, 06:10)', {'class': 'pouring', 'y': 0, 'size': 25, 'boiling_type': 'salt', 'time_size': 125, 'boiling_label': '2.7 Альче  8000кг', 'boiling_id': 1, 'melting_line': '1', 'block_num': 3, 'pouring_line': '3', 't': 39}, {'class': 'pouring', 'y': 0, 'size': 25, 'boiling_type': 'salt', 'time_size': 125, 'boiling_label': '2.7 Альче  8000кг', 'boiling_id': 1, 'melting_line': '3', 'block_num': 4, 'pouring_line': '3', 't': 49}]\n",
      "INFO:root:['All dispositions', [1, 30, 1, 1, 15, 15, 15, 15]]\n",
      "INFO:root:['Disposition', 4, 'pouring', '[02:25, 04:30)', 'pouring', '[04:10, 06:15)', {'class': 'pouring', 'y': 0, 'size': 25, 'boiling_type': 'salt', 'time_size': 125, 'boiling_label': '2.7 Сакко  8000кг', 'boiling_id': 2, 'melting_line': '0', 'block_num': 2, 'pouring_line': '2', 't': 29}, {'class': 'pouring', 'y': 0, 'size': 25, 'boiling_type': 'salt', 'time_size': 125, 'boiling_label': '2.7 Альче  8000кг', 'boiling_id': 1, 'melting_line': '0', 'block_num': 4, 'pouring_line': '2', 't': 50}]\n",
      "INFO:root:['Disposition', 29, 'melting', '[07:55, 11:15)', 'melting', '[08:50, 12:10)', {'class': 'melting', 't': 95, 'y': 10, 'time_size': 200, 'boiling_type': 'salt', 'boiling_label': '2.7 Альче  8000кг', 'boiling_id': 1, 'melting_line': '1', 'block_num': 3, 'pouring_line': '3', 'size': 40}, {'class': 'melting', 't': 106, 'y': 10, 'time_size': 200, 'boiling_type': 'salt', 'boiling_label': '2.7 Альче  8000кг', 'boiling_id': 1, 'melting_line': '1', 'block_num': 4, 'pouring_line': '2', 'size': 40}]\n",
      "INFO:root:['Disposition', 4, 'pouring', '[02:25, 04:30)', 'pouring', '[04:10, 06:15)', {'class': 'pouring', 'y': 0, 'size': 25, 'boiling_type': 'salt', 'time_size': 125, 'boiling_label': '2.7 Сакко  8000кг', 'boiling_id': 2, 'melting_line': '0', 'block_num': 2, 'pouring_line': '2', 't': 29}, {'class': 'pouring', 'y': 0, 'size': 25, 'boiling_type': 'salt', 'time_size': 125, 'boiling_label': '2.7 Альче  8000кг', 'boiling_id': 1, 'melting_line': '2', 'block_num': 4, 'pouring_line': '2', 't': 50}]\n"
     ]
    },
    {
     "name": "stderr",
     "output_type": "stream",
     "text": [
      "INFO:root:['Disposition', 4, 'pouring', '[02:25, 04:30)', 'pouring', '[04:10, 06:15)', {'class': 'pouring', 'y': 0, 'size': 25, 'boiling_type': 'salt', 'time_size': 125, 'boiling_label': '2.7 Сакко  8000кг', 'boiling_id': 2, 'melting_line': '0', 'block_num': 2, 'pouring_line': '2', 't': 29}, {'class': 'pouring', 'y': 0, 'size': 25, 'boiling_type': 'salt', 'time_size': 125, 'boiling_label': '2.7 Альче  8000кг', 'boiling_id': 1, 'melting_line': '3', 'block_num': 4, 'pouring_line': '2', 't': 50}]\n",
      "INFO:root:['Disposition', 14, 'pouring', '[03:15, 05:20)', 'pouring', '[04:10, 06:15)', {'class': 'pouring', 'y': 0, 'size': 25, 'boiling_type': 'salt', 'time_size': 125, 'boiling_label': '2.7 Альче  8000кг', 'boiling_id': 1, 'melting_line': '1', 'block_num': 3, 'pouring_line': '3', 't': 39}, {'class': 'pouring', 'y': 0, 'size': 25, 'boiling_type': 'salt', 'time_size': 125, 'boiling_label': '2.7 Альче  8000кг', 'boiling_id': 1, 'melting_line': '0', 'block_num': 4, 'pouring_line': '3', 't': 50}]\n",
      "INFO:root:['Disposition', 14, 'pouring', '[03:15, 05:20)', 'pouring', '[04:10, 06:15)', {'class': 'pouring', 'y': 0, 'size': 25, 'boiling_type': 'salt', 'time_size': 125, 'boiling_label': '2.7 Альче  8000кг', 'boiling_id': 1, 'melting_line': '1', 'block_num': 3, 'pouring_line': '3', 't': 39}, {'class': 'pouring', 'y': 0, 'size': 25, 'boiling_type': 'salt', 'time_size': 125, 'boiling_label': '2.7 Альче  8000кг', 'boiling_id': 1, 'melting_line': '1', 'block_num': 4, 'pouring_line': '3', 't': 50}]\n",
      "INFO:root:['Disposition', 14, 'pouring', '[03:15, 05:20)', 'pouring', '[04:10, 06:15)', {'class': 'pouring', 'y': 0, 'size': 25, 'boiling_type': 'salt', 'time_size': 125, 'boiling_label': '2.7 Альче  8000кг', 'boiling_id': 1, 'melting_line': '1', 'block_num': 3, 'pouring_line': '3', 't': 39}, {'class': 'pouring', 'y': 0, 'size': 25, 'boiling_type': 'salt', 'time_size': 125, 'boiling_label': '2.7 Альче  8000кг', 'boiling_id': 1, 'melting_line': '2', 'block_num': 4, 'pouring_line': '3', 't': 50}]\n",
      "INFO:root:['Disposition', 14, 'pouring', '[03:15, 05:20)', 'pouring', '[04:10, 06:15)', {'class': 'pouring', 'y': 0, 'size': 25, 'boiling_type': 'salt', 'time_size': 125, 'boiling_label': '2.7 Альче  8000кг', 'boiling_id': 1, 'melting_line': '1', 'block_num': 3, 'pouring_line': '3', 't': 39}, {'class': 'pouring', 'y': 0, 'size': 25, 'boiling_type': 'salt', 'time_size': 125, 'boiling_label': '2.7 Альче  8000кг', 'boiling_id': 1, 'melting_line': '3', 'block_num': 4, 'pouring_line': '3', 't': 50}]\n",
      "INFO:root:['All dispositions', [4, 29, 4, 4, 14, 14, 14, 14]]\n",
      "INFO:root:['Disposition', 9, 'melting', '[07:05, 09:55)', 'melting', '[09:10, 12:30)', {'class': 'melting', 't': 85, 'y': 10, 'time_size': 170, 'boiling_type': 'salt', 'boiling_label': '2.7 Сакко  8000кг', 'boiling_id': 2, 'melting_line': '0', 'block_num': 2, 'pouring_line': '2', 'size': 34}, {'class': 'melting', 't': 110, 'y': 10, 'time_size': 200, 'boiling_type': 'salt', 'boiling_label': '2.7 Альче  8000кг', 'boiling_id': 1, 'melting_line': '0', 'block_num': 4, 'pouring_line': '2', 'size': 40}]\n",
      "INFO:root:['Disposition', 25, 'melting', '[07:55, 11:15)', 'melting', '[09:10, 12:30)', {'class': 'melting', 't': 95, 'y': 10, 'time_size': 200, 'boiling_type': 'salt', 'boiling_label': '2.7 Альче  8000кг', 'boiling_id': 1, 'melting_line': '1', 'block_num': 3, 'pouring_line': '3', 'size': 40}, {'class': 'melting', 't': 110, 'y': 10, 'time_size': 200, 'boiling_type': 'salt', 'boiling_label': '2.7 Альче  8000кг', 'boiling_id': 1, 'melting_line': '1', 'block_num': 4, 'pouring_line': '2', 'size': 40}]\n",
      "INFO:root:Fitting block 4\n",
      "INFO:root:['Disposition', 6, 'termizator', '[04:00, 04:30)', 'termizator', '[04:00, 04:30)', {'class': 'termizator', 'y': 0, 'size': 6, 'boiling_type': 'water', 'time_size': 30, 'boiling_label': '3.6 Альче  8000кг', 'boiling_id': 9, 'block_num': 1, 'pouring_line': '0', 't': 48}, {'class': 'termizator', 'y': 0, 'size': 6, 'boiling_type': 'water', 'time_size': 30, 'boiling_label': '3.6 Альче  8000кг', 'boiling_id': 9, 'block_num': 5, 'pouring_line': '0', 't': 48}]\n",
      "INFO:root:['Disposition', 6, 'termizator', '[04:00, 04:30)', 'termizator', '[04:00, 04:30)', {'class': 'termizator', 'y': 0, 'size': 6, 'boiling_type': 'water', 'time_size': 30, 'boiling_label': '3.6 Альче  8000кг', 'boiling_id': 9, 'block_num': 1, 'pouring_line': '0', 't': 48}, {'class': 'termizator', 'y': 0, 'size': 6, 'boiling_type': 'water', 'time_size': 30, 'boiling_label': '3.6 Альче  8000кг', 'boiling_id': 9, 'block_num': 5, 'pouring_line': '1', 't': 48}]\n",
      "INFO:root:['All dispositions', [6, 6]]\n",
      "INFO:root:['Disposition', 6, 'termizator', '[04:30, 05:00)', 'termizator', '[04:30, 05:00)', {'class': 'termizator', 'y': 0, 'size': 6, 'boiling_type': 'salt', 'time_size': 30, 'boiling_label': '2.7 Альче  8000кг', 'boiling_id': 1, 'melting_line': '2', 'block_num': 4, 'pouring_line': '2', 't': 54}, {'class': 'termizator', 'y': 0, 'size': 6, 'boiling_type': 'water', 'time_size': 30, 'boiling_label': '3.6 Альче  8000кг', 'boiling_id': 9, 'block_num': 5, 'pouring_line': '0', 't': 54}]\n",
      "INFO:root:['Disposition', 6, 'termizator', '[04:30, 05:00)', 'termizator', '[04:30, 05:00)', {'class': 'termizator', 'y': 0, 'size': 6, 'boiling_type': 'salt', 'time_size': 30, 'boiling_label': '2.7 Альче  8000кг', 'boiling_id': 1, 'melting_line': '2', 'block_num': 4, 'pouring_line': '2', 't': 54}, {'class': 'termizator', 'y': 0, 'size': 6, 'boiling_type': 'water', 'time_size': 30, 'boiling_label': '3.6 Альче  8000кг', 'boiling_id': 9, 'block_num': 5, 'pouring_line': '1', 't': 54}]\n",
      "INFO:root:['All dispositions', [6, 6]]\n",
      "INFO:root:['Disposition', 15, 'pouring', '[04:00, 06:15)', 'pouring', '[05:00, 07:15)', {'class': 'pouring', 'y': 0, 'size': 27, 'boiling_type': 'water', 'time_size': 135, 'boiling_label': '3.6 Альче  8000кг', 'boiling_id': 9, 'block_num': 1, 'pouring_line': '0', 't': 48}, {'class': 'pouring', 'y': 0, 'size': 27, 'boiling_type': 'water', 'time_size': 135, 'boiling_label': '3.6 Альче  8000кг', 'boiling_id': 9, 'block_num': 5, 'pouring_line': '0', 't': 60}]\n",
      "INFO:root:['Disposition', 3, 'cooling2', '[10:45, 11:35)', 'cooling1', '[11:20, 11:45)', {'class': 'cooling2', 't': 129, 'y': 13, 'time_size': 50, 'boiling_type': 'water', 'boiling_label': '3.6 Альче  8000кг', 'boiling_id': 9, 'melting_line': None, 'block_num': 1, 'pouring_line': '0', 'size': 10}, {'class': 'cooling1', 't': 136, 'y': 13, 'time_size': 25, 'boiling_type': 'water', 'boiling_label': '3.6 Альче  8000кг', 'boiling_id': 9, 'melting_line': None, 'block_num': 5, 'pouring_line': '1', 'size': 5}]\n",
      "INFO:root:['All dispositions', [15, 3]]\n",
      "INFO:root:['Disposition', 12, 'pouring', '[04:00, 06:15)', 'pouring', '[05:15, 07:30)', {'class': 'pouring', 'y': 0, 'size': 27, 'boiling_type': 'water', 'time_size': 135, 'boiling_label': '3.6 Альче  8000кг', 'boiling_id': 9, 'block_num': 1, 'pouring_line': '0', 't': 48}, {'class': 'pouring', 'y': 0, 'size': 27, 'boiling_type': 'water', 'time_size': 135, 'boiling_label': '3.6 Альче  8000кг', 'boiling_id': 9, 'block_num': 5, 'pouring_line': '0', 't': 63}]\n",
      "INFO:root:Fitting block 5\n",
      "INFO:root:['Disposition', 6, 'termizator', '[04:30, 05:00)', 'termizator', '[04:30, 05:00)', {'class': 'termizator', 'y': 0, 'size': 6, 'boiling_type': 'salt', 'time_size': 30, 'boiling_label': '2.7 Альче  8000кг', 'boiling_id': 1, 'melting_line': '2', 'block_num': 4, 'pouring_line': '2', 't': 54}, {'class': 'termizator', 'y': 0, 'size': 6, 'boiling_type': 'salt', 'time_size': 30, 'boiling_label': '2.7 Альче  8000кг', 'boiling_id': 1, 'melting_line': '0', 'block_num': 6, 'pouring_line': '2', 't': 54}]\n",
      "INFO:root:['Disposition', 6, 'termizator', '[04:30, 05:00)', 'termizator', '[04:30, 05:00)', {'class': 'termizator', 'y': 0, 'size': 6, 'boiling_type': 'salt', 'time_size': 30, 'boiling_label': '2.7 Альче  8000кг', 'boiling_id': 1, 'melting_line': '2', 'block_num': 4, 'pouring_line': '2', 't': 54}, {'class': 'termizator', 'y': 0, 'size': 6, 'boiling_type': 'salt', 'time_size': 30, 'boiling_label': '2.7 Альче  8000кг', 'boiling_id': 1, 'melting_line': '1', 'block_num': 6, 'pouring_line': '2', 't': 54}]\n",
      "INFO:root:['Disposition', 6, 'termizator', '[04:30, 05:00)', 'termizator', '[04:30, 05:00)', {'class': 'termizator', 'y': 0, 'size': 6, 'boiling_type': 'salt', 'time_size': 30, 'boiling_label': '2.7 Альче  8000кг', 'boiling_id': 1, 'melting_line': '2', 'block_num': 4, 'pouring_line': '2', 't': 54}, {'class': 'termizator', 'y': 0, 'size': 6, 'boiling_type': 'salt', 'time_size': 30, 'boiling_label': '2.7 Альче  8000кг', 'boiling_id': 1, 'melting_line': '2', 'block_num': 6, 'pouring_line': '2', 't': 54}]\n"
     ]
    },
    {
     "name": "stderr",
     "output_type": "stream",
     "text": [
      "INFO:root:['Disposition', 6, 'termizator', '[04:30, 05:00)', 'termizator', '[04:30, 05:00)', {'class': 'termizator', 'y': 0, 'size': 6, 'boiling_type': 'salt', 'time_size': 30, 'boiling_label': '2.7 Альче  8000кг', 'boiling_id': 1, 'melting_line': '2', 'block_num': 4, 'pouring_line': '2', 't': 54}, {'class': 'termizator', 'y': 0, 'size': 6, 'boiling_type': 'salt', 'time_size': 30, 'boiling_label': '2.7 Альче  8000кг', 'boiling_id': 1, 'melting_line': '3', 'block_num': 6, 'pouring_line': '2', 't': 54}]\n",
      "INFO:root:['Disposition', 6, 'termizator', '[04:30, 05:00)', 'termizator', '[04:30, 05:00)', {'class': 'termizator', 'y': 0, 'size': 6, 'boiling_type': 'salt', 'time_size': 30, 'boiling_label': '2.7 Альче  8000кг', 'boiling_id': 1, 'melting_line': '2', 'block_num': 4, 'pouring_line': '2', 't': 54}, {'class': 'termizator', 'y': 0, 'size': 6, 'boiling_type': 'salt', 'time_size': 30, 'boiling_label': '2.7 Альче  8000кг', 'boiling_id': 1, 'melting_line': '0', 'block_num': 6, 'pouring_line': '3', 't': 54}]\n",
      "INFO:root:['Disposition', 6, 'termizator', '[04:30, 05:00)', 'termizator', '[04:30, 05:00)', {'class': 'termizator', 'y': 0, 'size': 6, 'boiling_type': 'salt', 'time_size': 30, 'boiling_label': '2.7 Альче  8000кг', 'boiling_id': 1, 'melting_line': '2', 'block_num': 4, 'pouring_line': '2', 't': 54}, {'class': 'termizator', 'y': 0, 'size': 6, 'boiling_type': 'salt', 'time_size': 30, 'boiling_label': '2.7 Альче  8000кг', 'boiling_id': 1, 'melting_line': '1', 'block_num': 6, 'pouring_line': '3', 't': 54}]\n",
      "INFO:root:['Disposition', 6, 'termizator', '[04:30, 05:00)', 'termizator', '[04:30, 05:00)', {'class': 'termizator', 'y': 0, 'size': 6, 'boiling_type': 'salt', 'time_size': 30, 'boiling_label': '2.7 Альче  8000кг', 'boiling_id': 1, 'melting_line': '2', 'block_num': 4, 'pouring_line': '2', 't': 54}, {'class': 'termizator', 'y': 0, 'size': 6, 'boiling_type': 'salt', 'time_size': 30, 'boiling_label': '2.7 Альче  8000кг', 'boiling_id': 1, 'melting_line': '2', 'block_num': 6, 'pouring_line': '3', 't': 54}]\n",
      "INFO:root:['Disposition', 6, 'termizator', '[04:30, 05:00)', 'termizator', '[04:30, 05:00)', {'class': 'termizator', 'y': 0, 'size': 6, 'boiling_type': 'salt', 'time_size': 30, 'boiling_label': '2.7 Альче  8000кг', 'boiling_id': 1, 'melting_line': '2', 'block_num': 4, 'pouring_line': '2', 't': 54}, {'class': 'termizator', 'y': 0, 'size': 6, 'boiling_type': 'salt', 'time_size': 30, 'boiling_label': '2.7 Альче  8000кг', 'boiling_id': 1, 'melting_line': '3', 'block_num': 6, 'pouring_line': '3', 't': 54}]\n",
      "INFO:root:['All dispositions', [6, 6, 6, 6, 6, 6, 6, 6]]\n",
      "INFO:root:['Disposition', 9, 'termizator', '[05:15, 05:45)', 'termizator', '[05:00, 05:30)', {'class': 'termizator', 'y': 0, 'size': 6, 'boiling_type': 'water', 'time_size': 30, 'boiling_label': '3.6 Альче  8000кг', 'boiling_id': 9, 'block_num': 5, 'pouring_line': '1', 't': 63}, {'class': 'termizator', 'y': 0, 'size': 6, 'boiling_type': 'salt', 'time_size': 30, 'boiling_label': '2.7 Альче  8000кг', 'boiling_id': 1, 'melting_line': '0', 'block_num': 6, 'pouring_line': '2', 't': 60}]\n",
      "INFO:root:['Disposition', 9, 'termizator', '[05:15, 05:45)', 'termizator', '[05:00, 05:30)', {'class': 'termizator', 'y': 0, 'size': 6, 'boiling_type': 'water', 'time_size': 30, 'boiling_label': '3.6 Альче  8000кг', 'boiling_id': 9, 'block_num': 5, 'pouring_line': '1', 't': 63}, {'class': 'termizator', 'y': 0, 'size': 6, 'boiling_type': 'salt', 'time_size': 30, 'boiling_label': '2.7 Альче  8000кг', 'boiling_id': 1, 'melting_line': '1', 'block_num': 6, 'pouring_line': '2', 't': 60}]\n",
      "INFO:root:['Disposition', 9, 'termizator', '[05:15, 05:45)', 'termizator', '[05:00, 05:30)', {'class': 'termizator', 'y': 0, 'size': 6, 'boiling_type': 'water', 'time_size': 30, 'boiling_label': '3.6 Альче  8000кг', 'boiling_id': 9, 'block_num': 5, 'pouring_line': '1', 't': 63}, {'class': 'termizator', 'y': 0, 'size': 6, 'boiling_type': 'salt', 'time_size': 30, 'boiling_label': '2.7 Альче  8000кг', 'boiling_id': 1, 'melting_line': '2', 'block_num': 6, 'pouring_line': '2', 't': 60}]\n",
      "INFO:root:['Disposition', 9, 'termizator', '[05:15, 05:45)', 'termizator', '[05:00, 05:30)', {'class': 'termizator', 'y': 0, 'size': 6, 'boiling_type': 'water', 'time_size': 30, 'boiling_label': '3.6 Альче  8000кг', 'boiling_id': 9, 'block_num': 5, 'pouring_line': '1', 't': 63}, {'class': 'termizator', 'y': 0, 'size': 6, 'boiling_type': 'salt', 'time_size': 30, 'boiling_label': '2.7 Альче  8000кг', 'boiling_id': 1, 'melting_line': '3', 'block_num': 6, 'pouring_line': '2', 't': 60}]\n",
      "INFO:root:['Disposition', 9, 'termizator', '[05:15, 05:45)', 'termizator', '[05:00, 05:30)', {'class': 'termizator', 'y': 0, 'size': 6, 'boiling_type': 'water', 'time_size': 30, 'boiling_label': '3.6 Альче  8000кг', 'boiling_id': 9, 'block_num': 5, 'pouring_line': '1', 't': 63}, {'class': 'termizator', 'y': 0, 'size': 6, 'boiling_type': 'salt', 'time_size': 30, 'boiling_label': '2.7 Альче  8000кг', 'boiling_id': 1, 'melting_line': '0', 'block_num': 6, 'pouring_line': '3', 't': 60}]\n",
      "INFO:root:['Disposition', 9, 'termizator', '[05:15, 05:45)', 'termizator', '[05:00, 05:30)', {'class': 'termizator', 'y': 0, 'size': 6, 'boiling_type': 'water', 'time_size': 30, 'boiling_label': '3.6 Альче  8000кг', 'boiling_id': 9, 'block_num': 5, 'pouring_line': '1', 't': 63}, {'class': 'termizator', 'y': 0, 'size': 6, 'boiling_type': 'salt', 'time_size': 30, 'boiling_label': '2.7 Альче  8000кг', 'boiling_id': 1, 'melting_line': '1', 'block_num': 6, 'pouring_line': '3', 't': 60}]\n",
      "INFO:root:['Disposition', 9, 'termizator', '[05:15, 05:45)', 'termizator', '[05:00, 05:30)', {'class': 'termizator', 'y': 0, 'size': 6, 'boiling_type': 'water', 'time_size': 30, 'boiling_label': '3.6 Альче  8000кг', 'boiling_id': 9, 'block_num': 5, 'pouring_line': '1', 't': 63}, {'class': 'termizator', 'y': 0, 'size': 6, 'boiling_type': 'salt', 'time_size': 30, 'boiling_label': '2.7 Альче  8000кг', 'boiling_id': 1, 'melting_line': '2', 'block_num': 6, 'pouring_line': '3', 't': 60}]\n",
      "INFO:root:['Disposition', 9, 'termizator', '[05:15, 05:45)', 'termizator', '[05:00, 05:30)', {'class': 'termizator', 'y': 0, 'size': 6, 'boiling_type': 'water', 'time_size': 30, 'boiling_label': '3.6 Альче  8000кг', 'boiling_id': 9, 'block_num': 5, 'pouring_line': '1', 't': 63}, {'class': 'termizator', 'y': 0, 'size': 6, 'boiling_type': 'salt', 'time_size': 30, 'boiling_label': '2.7 Альче  8000кг', 'boiling_id': 1, 'melting_line': '3', 'block_num': 6, 'pouring_line': '3', 't': 60}]\n",
      "INFO:root:['All dispositions', [9, 9, 9, 9, 9, 9, 9, 9]]\n",
      "INFO:root:['Disposition', 10, 'pouring', '[04:30, 06:35)', 'pouring', '[05:45, 07:50)', {'class': 'pouring', 'y': 0, 'size': 25, 'boiling_type': 'salt', 'time_size': 125, 'boiling_label': '2.7 Альче  8000кг', 'boiling_id': 1, 'melting_line': '2', 'block_num': 4, 'pouring_line': '2', 't': 54}, {'class': 'pouring', 'y': 0, 'size': 25, 'boiling_type': 'salt', 'time_size': 125, 'boiling_label': '2.7 Альче  8000кг', 'boiling_id': 1, 'melting_line': '0', 'block_num': 6, 'pouring_line': '2', 't': 69}]\n",
      "INFO:root:['Disposition', 10, 'pouring', '[04:30, 06:35)', 'pouring', '[05:45, 07:50)', {'class': 'pouring', 'y': 0, 'size': 25, 'boiling_type': 'salt', 'time_size': 125, 'boiling_label': '2.7 Альче  8000кг', 'boiling_id': 1, 'melting_line': '2', 'block_num': 4, 'pouring_line': '2', 't': 54}, {'class': 'pouring', 'y': 0, 'size': 25, 'boiling_type': 'salt', 'time_size': 125, 'boiling_label': '2.7 Альче  8000кг', 'boiling_id': 1, 'melting_line': '1', 'block_num': 6, 'pouring_line': '2', 't': 69}]\n",
      "INFO:root:['Disposition', 10, 'pouring', '[04:30, 06:35)', 'pouring', '[05:45, 07:50)', {'class': 'pouring', 'y': 0, 'size': 25, 'boiling_type': 'salt', 'time_size': 125, 'boiling_label': '2.7 Альче  8000кг', 'boiling_id': 1, 'melting_line': '2', 'block_num': 4, 'pouring_line': '2', 't': 54}, {'class': 'pouring', 'y': 0, 'size': 25, 'boiling_type': 'salt', 'time_size': 125, 'boiling_label': '2.7 Альче  8000кг', 'boiling_id': 1, 'melting_line': '2', 'block_num': 6, 'pouring_line': '2', 't': 69}]\n",
      "INFO:root:['Disposition', 10, 'pouring', '[04:30, 06:35)', 'pouring', '[05:45, 07:50)', {'class': 'pouring', 'y': 0, 'size': 25, 'boiling_type': 'salt', 'time_size': 125, 'boiling_label': '2.7 Альче  8000кг', 'boiling_id': 1, 'melting_line': '2', 'block_num': 4, 'pouring_line': '2', 't': 54}, {'class': 'pouring', 'y': 0, 'size': 25, 'boiling_type': 'salt', 'time_size': 125, 'boiling_label': '2.7 Альче  8000кг', 'boiling_id': 1, 'melting_line': '3', 'block_num': 6, 'pouring_line': '2', 't': 69}]\n"
     ]
    },
    {
     "name": "stderr",
     "output_type": "stream",
     "text": [
      "INFO:root:['Disposition', 5, 'packing_and_preconfiguration', '[11:35, 13:20)', 'packing_and_preconfiguration', '[12:55, 14:40)', {'class': 'packing_and_preconfiguration', 't': 139, 'y': 0, 'time_size': 105, 'boiling_type': 'salt', 'boiling_label': '2.7 Альче  8000кг', 'boiling_id': 1, 'melting_line': '2', 'block_num': 4, 'pouring_line': '2', 'size': 21}, {'class': 'packing_and_preconfiguration', 't': 155, 'y': 0, 'time_size': 105, 'boiling_type': 'salt', 'boiling_label': '2.7 Альче  8000кг', 'boiling_id': 1, 'melting_line': '0', 'block_num': 6, 'pouring_line': '3', 'size': 21}]\n",
      "INFO:root:['Disposition', 5, 'packing_and_preconfiguration', '[11:35, 13:20)', 'packing_and_preconfiguration', '[12:55, 14:40)', {'class': 'packing_and_preconfiguration', 't': 139, 'y': 0, 'time_size': 105, 'boiling_type': 'salt', 'boiling_label': '2.7 Альче  8000кг', 'boiling_id': 1, 'melting_line': '2', 'block_num': 4, 'pouring_line': '2', 'size': 21}, {'class': 'packing_and_preconfiguration', 't': 155, 'y': 0, 'time_size': 105, 'boiling_type': 'salt', 'boiling_label': '2.7 Альче  8000кг', 'boiling_id': 1, 'melting_line': '1', 'block_num': 6, 'pouring_line': '3', 'size': 21}]\n",
      "INFO:root:['Disposition', 25, 'melting', '[09:10, 12:30)', 'melting', '[10:25, 13:45)', {'class': 'melting', 't': 110, 'y': 10, 'time_size': 200, 'boiling_type': 'salt', 'boiling_label': '2.7 Альче  8000кг', 'boiling_id': 1, 'melting_line': '2', 'block_num': 4, 'pouring_line': '2', 'size': 40}, {'class': 'melting', 't': 125, 'y': 10, 'time_size': 200, 'boiling_type': 'salt', 'boiling_label': '2.7 Альче  8000кг', 'boiling_id': 1, 'melting_line': '2', 'block_num': 6, 'pouring_line': '3', 'size': 40}]\n",
      "INFO:root:['Disposition', 5, 'packing_and_preconfiguration', '[11:35, 13:20)', 'packing_and_preconfiguration', '[12:55, 14:40)', {'class': 'packing_and_preconfiguration', 't': 139, 'y': 0, 'time_size': 105, 'boiling_type': 'salt', 'boiling_label': '2.7 Альче  8000кг', 'boiling_id': 1, 'melting_line': '2', 'block_num': 4, 'pouring_line': '2', 'size': 21}, {'class': 'packing_and_preconfiguration', 't': 155, 'y': 0, 'time_size': 105, 'boiling_type': 'salt', 'boiling_label': '2.7 Альче  8000кг', 'boiling_id': 1, 'melting_line': '3', 'block_num': 6, 'pouring_line': '3', 'size': 21}]\n",
      "INFO:root:['All dispositions', [10, 10, 10, 10, 5, 5, 25, 5]]\n",
      "INFO:root:['Disposition', 5, 'pouring', '[04:30, 06:35)', 'pouring', '[06:10, 08:15)', {'class': 'pouring', 'y': 0, 'size': 25, 'boiling_type': 'salt', 'time_size': 125, 'boiling_label': '2.7 Альче  8000кг', 'boiling_id': 1, 'melting_line': '2', 'block_num': 4, 'pouring_line': '2', 't': 54}, {'class': 'pouring', 'y': 0, 'size': 25, 'boiling_type': 'salt', 'time_size': 125, 'boiling_label': '2.7 Альче  8000кг', 'boiling_id': 1, 'melting_line': '0', 'block_num': 6, 'pouring_line': '2', 't': 74}]\n",
      "INFO:root:['Disposition', 5, 'pouring', '[04:30, 06:35)', 'pouring', '[06:10, 08:15)', {'class': 'pouring', 'y': 0, 'size': 25, 'boiling_type': 'salt', 'time_size': 125, 'boiling_label': '2.7 Альче  8000кг', 'boiling_id': 1, 'melting_line': '2', 'block_num': 4, 'pouring_line': '2', 't': 54}, {'class': 'pouring', 'y': 0, 'size': 25, 'boiling_type': 'salt', 'time_size': 125, 'boiling_label': '2.7 Альче  8000кг', 'boiling_id': 1, 'melting_line': '1', 'block_num': 6, 'pouring_line': '2', 't': 74}]\n",
      "INFO:root:['Disposition', 5, 'pouring', '[04:30, 06:35)', 'pouring', '[06:10, 08:15)', {'class': 'pouring', 'y': 0, 'size': 25, 'boiling_type': 'salt', 'time_size': 125, 'boiling_label': '2.7 Альче  8000кг', 'boiling_id': 1, 'melting_line': '2', 'block_num': 4, 'pouring_line': '2', 't': 54}, {'class': 'pouring', 'y': 0, 'size': 25, 'boiling_type': 'salt', 'time_size': 125, 'boiling_label': '2.7 Альче  8000кг', 'boiling_id': 1, 'melting_line': '2', 'block_num': 6, 'pouring_line': '2', 't': 74}]\n",
      "INFO:root:['Disposition', 5, 'pouring', '[04:30, 06:35)', 'pouring', '[06:10, 08:15)', {'class': 'pouring', 'y': 0, 'size': 25, 'boiling_type': 'salt', 'time_size': 125, 'boiling_label': '2.7 Альче  8000кг', 'boiling_id': 1, 'melting_line': '2', 'block_num': 4, 'pouring_line': '2', 't': 54}, {'class': 'pouring', 'y': 0, 'size': 25, 'boiling_type': 'salt', 'time_size': 125, 'boiling_label': '2.7 Альче  8000кг', 'boiling_id': 1, 'melting_line': '3', 'block_num': 6, 'pouring_line': '2', 't': 74}]\n",
      "INFO:root:Fitting block 6\n",
      "INFO:root:['Disposition', 6, 'termizator', '[05:15, 05:45)', 'termizator', '[05:15, 05:45)', {'class': 'termizator', 'y': 0, 'size': 6, 'boiling_type': 'water', 'time_size': 30, 'boiling_label': '3.6 Альче  8000кг', 'boiling_id': 9, 'block_num': 5, 'pouring_line': '1', 't': 63}, {'class': 'termizator', 'y': 0, 'size': 6, 'boiling_type': 'water', 'time_size': 30, 'boiling_label': '3.3 Сакко  8000кг', 'boiling_id': 6, 'block_num': 7, 'pouring_line': '0', 't': 63}]\n",
      "INFO:root:['Disposition', 6, 'termizator', '[05:15, 05:45)', 'termizator', '[05:15, 05:45)', {'class': 'termizator', 'y': 0, 'size': 6, 'boiling_type': 'water', 'time_size': 30, 'boiling_label': '3.6 Альче  8000кг', 'boiling_id': 9, 'block_num': 5, 'pouring_line': '1', 't': 63}, {'class': 'termizator', 'y': 0, 'size': 6, 'boiling_type': 'water', 'time_size': 30, 'boiling_label': '3.3 Сакко  8000кг', 'boiling_id': 6, 'block_num': 7, 'pouring_line': '1', 't': 63}]\n",
      "INFO:root:['All dispositions', [6, 6]]\n",
      "INFO:root:['Disposition', 11, 'termizator', '[06:10, 06:40)', 'termizator', '[05:45, 06:15)', {'class': 'termizator', 'y': 0, 'size': 6, 'boiling_type': 'salt', 'time_size': 30, 'boiling_label': '2.7 Альче  8000кг', 'boiling_id': 1, 'melting_line': '0', 'block_num': 6, 'pouring_line': '3', 't': 74}, {'class': 'termizator', 'y': 0, 'size': 6, 'boiling_type': 'water', 'time_size': 30, 'boiling_label': '3.3 Сакко  8000кг', 'boiling_id': 6, 'block_num': 7, 'pouring_line': '0', 't': 69}]\n",
      "INFO:root:['Disposition', 11, 'termizator', '[06:10, 06:40)', 'termizator', '[05:45, 06:15)', {'class': 'termizator', 'y': 0, 'size': 6, 'boiling_type': 'salt', 'time_size': 30, 'boiling_label': '2.7 Альче  8000кг', 'boiling_id': 1, 'melting_line': '0', 'block_num': 6, 'pouring_line': '3', 't': 74}, {'class': 'termizator', 'y': 0, 'size': 6, 'boiling_type': 'water', 'time_size': 30, 'boiling_label': '3.3 Сакко  8000кг', 'boiling_id': 6, 'block_num': 7, 'pouring_line': '1', 't': 69}]\n",
      "INFO:root:['All dispositions', [11, 11]]\n",
      "INFO:root:['Disposition', 4, 'melting', '[11:05, 12:45)', 'melting', '[12:25, 14:05)', {'class': 'melting', 't': 133, 'y': 10, 'time_size': 100, 'boiling_type': 'water', 'boiling_label': '3.6 Альче  8000кг', 'boiling_id': 9, 'melting_line': None, 'block_num': 5, 'pouring_line': '1', 'size': 20}, {'class': 'melting', 't': 149, 'y': 10, 'time_size': 100, 'boiling_type': 'water', 'boiling_label': '3.3 Сакко  8000кг', 'boiling_id': 6, 'melting_line': None, 'block_num': 7, 'pouring_line': '0', 'size': 20}]\n",
      "INFO:root:['Disposition', 10, 'pouring', '[05:15, 07:30)', 'pouring', '[06:40, 08:50)', {'class': 'pouring', 'y': 0, 'size': 27, 'boiling_type': 'water', 'time_size': 135, 'boiling_label': '3.6 Альче  8000кг', 'boiling_id': 9, 'block_num': 5, 'pouring_line': '1', 't': 63}, {'class': 'pouring', 'y': 0, 'size': 26, 'boiling_type': 'water', 'time_size': 130, 'boiling_label': '3.3 Сакко  8000кг', 'boiling_id': 6, 'block_num': 7, 'pouring_line': '1', 't': 80}]\n",
      "INFO:root:['All dispositions', [4, 10]]\n",
      "INFO:root:Fitting block 7\n",
      "INFO:root:['Disposition', 6, 'termizator', '[06:10, 06:40)', 'termizator', '[06:10, 06:40)', {'class': 'termizator', 'y': 0, 'size': 6, 'boiling_type': 'salt', 'time_size': 30, 'boiling_label': '2.7 Альче  8000кг', 'boiling_id': 1, 'melting_line': '0', 'block_num': 6, 'pouring_line': '3', 't': 74}, {'class': 'termizator', 'y': 0, 'size': 6, 'boiling_type': 'salt', 'time_size': 30, 'boiling_label': '2.7 Альче  8000кг', 'boiling_id': 1, 'melting_line': '0', 'block_num': 8, 'pouring_line': '2', 't': 74}]\n",
      "INFO:root:['Disposition', 6, 'termizator', '[06:10, 06:40)', 'termizator', '[06:10, 06:40)', {'class': 'termizator', 'y': 0, 'size': 6, 'boiling_type': 'salt', 'time_size': 30, 'boiling_label': '2.7 Альче  8000кг', 'boiling_id': 1, 'melting_line': '0', 'block_num': 6, 'pouring_line': '3', 't': 74}, {'class': 'termizator', 'y': 0, 'size': 6, 'boiling_type': 'salt', 'time_size': 30, 'boiling_label': '2.7 Альче  8000кг', 'boiling_id': 1, 'melting_line': '1', 'block_num': 8, 'pouring_line': '2', 't': 74}]\n"
     ]
    },
    {
     "name": "stderr",
     "output_type": "stream",
     "text": [
      "INFO:root:['Disposition', 6, 'termizator', '[06:10, 06:40)', 'termizator', '[06:10, 06:40)', {'class': 'termizator', 'y': 0, 'size': 6, 'boiling_type': 'salt', 'time_size': 30, 'boiling_label': '2.7 Альче  8000кг', 'boiling_id': 1, 'melting_line': '0', 'block_num': 6, 'pouring_line': '3', 't': 74}, {'class': 'termizator', 'y': 0, 'size': 6, 'boiling_type': 'salt', 'time_size': 30, 'boiling_label': '2.7 Альче  8000кг', 'boiling_id': 1, 'melting_line': '2', 'block_num': 8, 'pouring_line': '2', 't': 74}]\n",
      "INFO:root:['Disposition', 6, 'termizator', '[06:10, 06:40)', 'termizator', '[06:10, 06:40)', {'class': 'termizator', 'y': 0, 'size': 6, 'boiling_type': 'salt', 'time_size': 30, 'boiling_label': '2.7 Альче  8000кг', 'boiling_id': 1, 'melting_line': '0', 'block_num': 6, 'pouring_line': '3', 't': 74}, {'class': 'termizator', 'y': 0, 'size': 6, 'boiling_type': 'salt', 'time_size': 30, 'boiling_label': '2.7 Альче  8000кг', 'boiling_id': 1, 'melting_line': '3', 'block_num': 8, 'pouring_line': '2', 't': 74}]\n",
      "INFO:root:['Disposition', 6, 'termizator', '[06:10, 06:40)', 'termizator', '[06:10, 06:40)', {'class': 'termizator', 'y': 0, 'size': 6, 'boiling_type': 'salt', 'time_size': 30, 'boiling_label': '2.7 Альче  8000кг', 'boiling_id': 1, 'melting_line': '0', 'block_num': 6, 'pouring_line': '3', 't': 74}, {'class': 'termizator', 'y': 0, 'size': 6, 'boiling_type': 'salt', 'time_size': 30, 'boiling_label': '2.7 Альче  8000кг', 'boiling_id': 1, 'melting_line': '0', 'block_num': 8, 'pouring_line': '3', 't': 74}]\n",
      "INFO:root:['Disposition', 6, 'termizator', '[06:10, 06:40)', 'termizator', '[06:10, 06:40)', {'class': 'termizator', 'y': 0, 'size': 6, 'boiling_type': 'salt', 'time_size': 30, 'boiling_label': '2.7 Альче  8000кг', 'boiling_id': 1, 'melting_line': '0', 'block_num': 6, 'pouring_line': '3', 't': 74}, {'class': 'termizator', 'y': 0, 'size': 6, 'boiling_type': 'salt', 'time_size': 30, 'boiling_label': '2.7 Альче  8000кг', 'boiling_id': 1, 'melting_line': '1', 'block_num': 8, 'pouring_line': '3', 't': 74}]\n",
      "INFO:root:['Disposition', 6, 'termizator', '[06:10, 06:40)', 'termizator', '[06:10, 06:40)', {'class': 'termizator', 'y': 0, 'size': 6, 'boiling_type': 'salt', 'time_size': 30, 'boiling_label': '2.7 Альче  8000кг', 'boiling_id': 1, 'melting_line': '0', 'block_num': 6, 'pouring_line': '3', 't': 74}, {'class': 'termizator', 'y': 0, 'size': 6, 'boiling_type': 'salt', 'time_size': 30, 'boiling_label': '2.7 Альче  8000кг', 'boiling_id': 1, 'melting_line': '2', 'block_num': 8, 'pouring_line': '3', 't': 74}]\n",
      "INFO:root:['Disposition', 6, 'termizator', '[06:10, 06:40)', 'termizator', '[06:10, 06:40)', {'class': 'termizator', 'y': 0, 'size': 6, 'boiling_type': 'salt', 'time_size': 30, 'boiling_label': '2.7 Альче  8000кг', 'boiling_id': 1, 'melting_line': '0', 'block_num': 6, 'pouring_line': '3', 't': 74}, {'class': 'termizator', 'y': 0, 'size': 6, 'boiling_type': 'salt', 'time_size': 30, 'boiling_label': '2.7 Альче  8000кг', 'boiling_id': 1, 'melting_line': '3', 'block_num': 8, 'pouring_line': '3', 't': 74}]\n",
      "INFO:root:['All dispositions', [6, 6, 6, 6, 6, 6, 6, 6]]\n",
      "INFO:root:['Disposition', 10, 'termizator', '[07:00, 07:30)', 'termizator', '[06:40, 07:10)', {'class': 'termizator', 'y': 0, 'size': 6, 'boiling_type': 'water', 'time_size': 30, 'boiling_label': '3.3 Сакко  8000кг', 'boiling_id': 6, 'block_num': 7, 'pouring_line': '0', 't': 84}, {'class': 'termizator', 'y': 0, 'size': 6, 'boiling_type': 'salt', 'time_size': 30, 'boiling_label': '2.7 Альче  8000кг', 'boiling_id': 1, 'melting_line': '0', 'block_num': 8, 'pouring_line': '2', 't': 80}]\n",
      "INFO:root:['Disposition', 10, 'termizator', '[07:00, 07:30)', 'termizator', '[06:40, 07:10)', {'class': 'termizator', 'y': 0, 'size': 6, 'boiling_type': 'water', 'time_size': 30, 'boiling_label': '3.3 Сакко  8000кг', 'boiling_id': 6, 'block_num': 7, 'pouring_line': '0', 't': 84}, {'class': 'termizator', 'y': 0, 'size': 6, 'boiling_type': 'salt', 'time_size': 30, 'boiling_label': '2.7 Альче  8000кг', 'boiling_id': 1, 'melting_line': '1', 'block_num': 8, 'pouring_line': '2', 't': 80}]\n",
      "INFO:root:['Disposition', 10, 'termizator', '[07:00, 07:30)', 'termizator', '[06:40, 07:10)', {'class': 'termizator', 'y': 0, 'size': 6, 'boiling_type': 'water', 'time_size': 30, 'boiling_label': '3.3 Сакко  8000кг', 'boiling_id': 6, 'block_num': 7, 'pouring_line': '0', 't': 84}, {'class': 'termizator', 'y': 0, 'size': 6, 'boiling_type': 'salt', 'time_size': 30, 'boiling_label': '2.7 Альче  8000кг', 'boiling_id': 1, 'melting_line': '2', 'block_num': 8, 'pouring_line': '2', 't': 80}]\n",
      "INFO:root:['Disposition', 10, 'termizator', '[07:00, 07:30)', 'termizator', '[06:40, 07:10)', {'class': 'termizator', 'y': 0, 'size': 6, 'boiling_type': 'water', 'time_size': 30, 'boiling_label': '3.3 Сакко  8000кг', 'boiling_id': 6, 'block_num': 7, 'pouring_line': '0', 't': 84}, {'class': 'termizator', 'y': 0, 'size': 6, 'boiling_type': 'salt', 'time_size': 30, 'boiling_label': '2.7 Альче  8000кг', 'boiling_id': 1, 'melting_line': '3', 'block_num': 8, 'pouring_line': '2', 't': 80}]\n",
      "INFO:root:['Disposition', 10, 'termizator', '[07:00, 07:30)', 'termizator', '[06:40, 07:10)', {'class': 'termizator', 'y': 0, 'size': 6, 'boiling_type': 'water', 'time_size': 30, 'boiling_label': '3.3 Сакко  8000кг', 'boiling_id': 6, 'block_num': 7, 'pouring_line': '0', 't': 84}, {'class': 'termizator', 'y': 0, 'size': 6, 'boiling_type': 'salt', 'time_size': 30, 'boiling_label': '2.7 Альче  8000кг', 'boiling_id': 1, 'melting_line': '0', 'block_num': 8, 'pouring_line': '3', 't': 80}]\n",
      "INFO:root:['Disposition', 10, 'termizator', '[07:00, 07:30)', 'termizator', '[06:40, 07:10)', {'class': 'termizator', 'y': 0, 'size': 6, 'boiling_type': 'water', 'time_size': 30, 'boiling_label': '3.3 Сакко  8000кг', 'boiling_id': 6, 'block_num': 7, 'pouring_line': '0', 't': 84}, {'class': 'termizator', 'y': 0, 'size': 6, 'boiling_type': 'salt', 'time_size': 30, 'boiling_label': '2.7 Альче  8000кг', 'boiling_id': 1, 'melting_line': '1', 'block_num': 8, 'pouring_line': '3', 't': 80}]\n",
      "INFO:root:['Disposition', 10, 'termizator', '[07:00, 07:30)', 'termizator', '[06:40, 07:10)', {'class': 'termizator', 'y': 0, 'size': 6, 'boiling_type': 'water', 'time_size': 30, 'boiling_label': '3.3 Сакко  8000кг', 'boiling_id': 6, 'block_num': 7, 'pouring_line': '0', 't': 84}, {'class': 'termizator', 'y': 0, 'size': 6, 'boiling_type': 'salt', 'time_size': 30, 'boiling_label': '2.7 Альче  8000кг', 'boiling_id': 1, 'melting_line': '2', 'block_num': 8, 'pouring_line': '3', 't': 80}]\n",
      "INFO:root:['Disposition', 10, 'termizator', '[07:00, 07:30)', 'termizator', '[06:40, 07:10)', {'class': 'termizator', 'y': 0, 'size': 6, 'boiling_type': 'water', 'time_size': 30, 'boiling_label': '3.3 Сакко  8000кг', 'boiling_id': 6, 'block_num': 7, 'pouring_line': '0', 't': 84}, {'class': 'termizator', 'y': 0, 'size': 6, 'boiling_type': 'salt', 'time_size': 30, 'boiling_label': '2.7 Альче  8000кг', 'boiling_id': 1, 'melting_line': '3', 'block_num': 8, 'pouring_line': '3', 't': 80}]\n",
      "INFO:root:['All dispositions', [10, 10, 10, 10, 10, 10, 10, 10]]\n",
      "INFO:root:['Disposition', 24, 'melting', '[10:50, 14:10)', 'melting', '[12:10, 15:30)', {'class': 'melting', 't': 130, 'y': 10, 'time_size': 200, 'boiling_type': 'salt', 'boiling_label': '2.7 Альче  8000кг', 'boiling_id': 1, 'melting_line': '0', 'block_num': 6, 'pouring_line': '3', 'size': 40}, {'class': 'melting', 't': 146, 'y': 10, 'time_size': 200, 'boiling_type': 'salt', 'boiling_label': '2.7 Альче  8000кг', 'boiling_id': 1, 'melting_line': '0', 'block_num': 8, 'pouring_line': '2', 'size': 40}]\n",
      "INFO:root:['Disposition', 6, 'packing_and_preconfiguration', '[13:20, 15:05)', 'packing_and_preconfiguration', '[14:35, 15:30)', {'class': 'packing_and_preconfiguration', 't': 160, 'y': 0, 'time_size': 105, 'boiling_type': 'salt', 'boiling_label': '2.7 Альче  8000кг', 'boiling_id': 1, 'melting_line': '0', 'block_num': 6, 'pouring_line': '3', 'size': 21}, {'class': 'packing_and_preconfiguration', 't': 175, 'y': 0, 'time_size': 55, 'boiling_type': 'salt', 'boiling_label': '2.7 Альче  8000кг', 'boiling_id': 1, 'melting_line': '1', 'block_num': 8, 'pouring_line': '2', 'size': 11}]\n",
      "INFO:root:['Disposition', 6, 'packing_and_preconfiguration', '[13:20, 15:05)', 'packing_and_preconfiguration', '[14:35, 15:30)', {'class': 'packing_and_preconfiguration', 't': 160, 'y': 0, 'time_size': 105, 'boiling_type': 'salt', 'boiling_label': '2.7 Альче  8000кг', 'boiling_id': 1, 'melting_line': '0', 'block_num': 6, 'pouring_line': '3', 'size': 21}, {'class': 'packing_and_preconfiguration', 't': 175, 'y': 0, 'time_size': 55, 'boiling_type': 'salt', 'boiling_label': '2.7 Альче  8000кг', 'boiling_id': 1, 'melting_line': '2', 'block_num': 8, 'pouring_line': '2', 'size': 11}]\n"
     ]
    },
    {
     "name": "stderr",
     "output_type": "stream",
     "text": [
      "INFO:root:['Disposition', 6, 'packing_and_preconfiguration', '[13:20, 15:05)', 'packing_and_preconfiguration', '[14:35, 15:30)', {'class': 'packing_and_preconfiguration', 't': 160, 'y': 0, 'time_size': 105, 'boiling_type': 'salt', 'boiling_label': '2.7 Альче  8000кг', 'boiling_id': 1, 'melting_line': '0', 'block_num': 6, 'pouring_line': '3', 'size': 21}, {'class': 'packing_and_preconfiguration', 't': 175, 'y': 0, 'time_size': 55, 'boiling_type': 'salt', 'boiling_label': '2.7 Альче  8000кг', 'boiling_id': 1, 'melting_line': '3', 'block_num': 8, 'pouring_line': '2', 'size': 11}]\n",
      "INFO:root:['Disposition', 9, 'pouring', '[06:10, 08:15)', 'pouring', '[07:30, 09:35)', {'class': 'pouring', 'y': 0, 'size': 25, 'boiling_type': 'salt', 'time_size': 125, 'boiling_label': '2.7 Альче  8000кг', 'boiling_id': 1, 'melting_line': '0', 'block_num': 6, 'pouring_line': '3', 't': 74}, {'class': 'pouring', 'y': 0, 'size': 25, 'boiling_type': 'salt', 'time_size': 125, 'boiling_label': '2.7 Альче  8000кг', 'boiling_id': 1, 'melting_line': '0', 'block_num': 8, 'pouring_line': '3', 't': 90}]\n",
      "INFO:root:['Disposition', 9, 'pouring', '[06:10, 08:15)', 'pouring', '[07:30, 09:35)', {'class': 'pouring', 'y': 0, 'size': 25, 'boiling_type': 'salt', 'time_size': 125, 'boiling_label': '2.7 Альче  8000кг', 'boiling_id': 1, 'melting_line': '0', 'block_num': 6, 'pouring_line': '3', 't': 74}, {'class': 'pouring', 'y': 0, 'size': 25, 'boiling_type': 'salt', 'time_size': 125, 'boiling_label': '2.7 Альче  8000кг', 'boiling_id': 1, 'melting_line': '1', 'block_num': 8, 'pouring_line': '3', 't': 90}]\n",
      "INFO:root:['Disposition', 9, 'pouring', '[06:10, 08:15)', 'pouring', '[07:30, 09:35)', {'class': 'pouring', 'y': 0, 'size': 25, 'boiling_type': 'salt', 'time_size': 125, 'boiling_label': '2.7 Альче  8000кг', 'boiling_id': 1, 'melting_line': '0', 'block_num': 6, 'pouring_line': '3', 't': 74}, {'class': 'pouring', 'y': 0, 'size': 25, 'boiling_type': 'salt', 'time_size': 125, 'boiling_label': '2.7 Альче  8000кг', 'boiling_id': 1, 'melting_line': '2', 'block_num': 8, 'pouring_line': '3', 't': 90}]\n",
      "INFO:root:['Disposition', 9, 'pouring', '[06:10, 08:15)', 'pouring', '[07:30, 09:35)', {'class': 'pouring', 'y': 0, 'size': 25, 'boiling_type': 'salt', 'time_size': 125, 'boiling_label': '2.7 Альче  8000кг', 'boiling_id': 1, 'melting_line': '0', 'block_num': 6, 'pouring_line': '3', 't': 74}, {'class': 'pouring', 'y': 0, 'size': 25, 'boiling_type': 'salt', 'time_size': 125, 'boiling_label': '2.7 Альче  8000кг', 'boiling_id': 1, 'melting_line': '3', 'block_num': 8, 'pouring_line': '3', 't': 90}]\n",
      "INFO:root:['All dispositions', [24, 6, 6, 6, 9, 9, 9, 9]]\n",
      "INFO:root:['Disposition', 18, 'melting', '[10:50, 14:10)', 'melting', '[12:40, 16:00)', {'class': 'melting', 't': 130, 'y': 10, 'time_size': 200, 'boiling_type': 'salt', 'boiling_label': '2.7 Альче  8000кг', 'boiling_id': 1, 'melting_line': '0', 'block_num': 6, 'pouring_line': '3', 'size': 40}, {'class': 'melting', 't': 152, 'y': 10, 'time_size': 200, 'boiling_type': 'salt', 'boiling_label': '2.7 Альче  8000кг', 'boiling_id': 1, 'melting_line': '0', 'block_num': 8, 'pouring_line': '2', 'size': 40}]\n",
      "INFO:root:Fitting block 8\n",
      "INFO:root:['Disposition', 6, 'termizator', '[07:00, 07:30)', 'termizator', '[07:00, 07:30)', {'class': 'termizator', 'y': 0, 'size': 6, 'boiling_type': 'water', 'time_size': 30, 'boiling_label': '3.3 Сакко  8000кг', 'boiling_id': 6, 'block_num': 7, 'pouring_line': '0', 't': 84}, {'class': 'termizator', 'y': 0, 'size': 6, 'boiling_type': 'water', 'time_size': 30, 'boiling_label': '3.6 Альче  8000кг', 'boiling_id': 9, 'block_num': 9, 'pouring_line': '0', 't': 84}]\n",
      "INFO:root:['Disposition', 6, 'termizator', '[07:00, 07:30)', 'termizator', '[07:00, 07:30)', {'class': 'termizator', 'y': 0, 'size': 6, 'boiling_type': 'water', 'time_size': 30, 'boiling_label': '3.3 Сакко  8000кг', 'boiling_id': 6, 'block_num': 7, 'pouring_line': '0', 't': 84}, {'class': 'termizator', 'y': 0, 'size': 6, 'boiling_type': 'water', 'time_size': 30, 'boiling_label': '3.6 Альче  8000кг', 'boiling_id': 9, 'block_num': 9, 'pouring_line': '1', 't': 84}]\n",
      "INFO:root:['All dispositions', [6, 6]]\n",
      "INFO:root:['Disposition', 20, 'pouring', '[07:00, 09:10)', 'pouring', '[07:30, 09:45)', {'class': 'pouring', 'y': 0, 'size': 26, 'boiling_type': 'water', 'time_size': 130, 'boiling_label': '3.3 Сакко  8000кг', 'boiling_id': 6, 'block_num': 7, 'pouring_line': '0', 't': 84}, {'class': 'pouring', 'y': 0, 'size': 27, 'boiling_type': 'water', 'time_size': 135, 'boiling_label': '3.6 Альче  8000кг', 'boiling_id': 9, 'block_num': 9, 'pouring_line': '0', 't': 90}]\n",
      "INFO:root:['Disposition', 8, 'cooling2', '[13:40, 14:30)', 'cooling1', '[13:50, 14:15)', {'class': 'cooling2', 't': 164, 'y': 13, 'time_size': 50, 'boiling_type': 'water', 'boiling_label': '3.3 Сакко  8000кг', 'boiling_id': 6, 'melting_line': None, 'block_num': 7, 'pouring_line': '0', 'size': 10}, {'class': 'cooling1', 't': 166, 'y': 13, 'time_size': 25, 'boiling_type': 'water', 'boiling_label': '3.6 Альче  8000кг', 'boiling_id': 9, 'melting_line': None, 'block_num': 9, 'pouring_line': '1', 'size': 5}]\n",
      "INFO:root:['All dispositions', [20, 8]]\n",
      "INFO:root:['Disposition', 4, 'termizator', '[08:00, 08:30)', 'termizator', '[08:10, 08:40)', {'class': 'termizator', 'y': 0, 'size': 6, 'boiling_type': 'salt', 'time_size': 30, 'boiling_label': '2.7 Альче  8000кг', 'boiling_id': 1, 'melting_line': '1', 'block_num': 8, 'pouring_line': '2', 't': 96}, {'class': 'termizator', 'y': 0, 'size': 6, 'boiling_type': 'water', 'time_size': 30, 'boiling_label': '3.6 Альче  8000кг', 'boiling_id': 9, 'block_num': 9, 'pouring_line': '0', 't': 98}]\n",
      "INFO:root:['Disposition', 4, 'termizator', '[08:00, 08:30)', 'termizator', '[08:10, 08:40)', {'class': 'termizator', 'y': 0, 'size': 6, 'boiling_type': 'salt', 'time_size': 30, 'boiling_label': '2.7 Альче  8000кг', 'boiling_id': 1, 'melting_line': '1', 'block_num': 8, 'pouring_line': '2', 't': 96}, {'class': 'termizator', 'y': 0, 'size': 6, 'boiling_type': 'water', 'time_size': 30, 'boiling_label': '3.6 Альче  8000кг', 'boiling_id': 9, 'block_num': 9, 'pouring_line': '1', 't': 98}]\n",
      "INFO:root:['All dispositions', [4, 4]]\n",
      "INFO:root:['Disposition', 8, 'pouring', '[07:00, 09:10)', 'pouring', '[08:30, 10:45)', {'class': 'pouring', 'y': 0, 'size': 26, 'boiling_type': 'water', 'time_size': 130, 'boiling_label': '3.3 Сакко  8000кг', 'boiling_id': 6, 'block_num': 7, 'pouring_line': '0', 't': 84}, {'class': 'pouring', 'y': 0, 'size': 27, 'boiling_type': 'water', 'time_size': 135, 'boiling_label': '3.6 Альче  8000кг', 'boiling_id': 9, 'block_num': 9, 'pouring_line': '0', 't': 102}]\n",
      "INFO:root:['Disposition', 1, 'melting', '[12:45, 14:25)', 'melting', '[14:20, 16:00)', {'class': 'melting', 't': 153, 'y': 10, 'time_size': 100, 'boiling_type': 'water', 'boiling_label': '3.3 Сакко  8000кг', 'boiling_id': 6, 'melting_line': None, 'block_num': 7, 'pouring_line': '0', 'size': 20}, {'class': 'melting', 't': 172, 'y': 10, 'time_size': 100, 'boiling_type': 'water', 'boiling_label': '3.6 Альче  8000кг', 'boiling_id': 9, 'melting_line': None, 'block_num': 9, 'pouring_line': '1', 'size': 20}]\n",
      "INFO:root:['All dispositions', [8, 1]]\n",
      "INFO:root:['Disposition', 7, 'pouring', '[07:00, 09:10)', 'pouring', '[08:35, 10:50)', {'class': 'pouring', 'y': 0, 'size': 26, 'boiling_type': 'water', 'time_size': 130, 'boiling_label': '3.3 Сакко  8000кг', 'boiling_id': 6, 'block_num': 7, 'pouring_line': '0', 't': 84}, {'class': 'pouring', 'y': 0, 'size': 27, 'boiling_type': 'water', 'time_size': 135, 'boiling_label': '3.6 Альче  8000кг', 'boiling_id': 9, 'block_num': 9, 'pouring_line': '0', 't': 103}]\n",
      "INFO:root:['Disposition', 2, 'packing_and_preconfiguration', '[14:25, 16:15)', 'packing_and_preconfiguration', '[16:05, 17:20)', {'class': 'packing_and_preconfiguration', 't': 173, 'y': 0, 'time_size': 110, 'boiling_type': 'water', 'boiling_label': '3.3 Сакко  8000кг', 'boiling_id': 6, 'block_num': 7, 'pouring_line': '0', 'size': 22}, {'class': 'packing_and_preconfiguration', 't': 193, 'y': 0, 'time_size': 75, 'boiling_type': 'water', 'boiling_label': '3.6 Альче  8000кг', 'boiling_id': 9, 'block_num': 9, 'pouring_line': '1', 'size': 15}]\n",
      "INFO:root:['All dispositions', [7, 2]]\n"
     ]
    },
    {
     "name": "stderr",
     "output_type": "stream",
     "text": [
      "INFO:root:['Disposition', 5, 'pouring', '[07:00, 09:10)', 'pouring', '[08:45, 11:00)', {'class': 'pouring', 'y': 0, 'size': 26, 'boiling_type': 'water', 'time_size': 130, 'boiling_label': '3.3 Сакко  8000кг', 'boiling_id': 6, 'block_num': 7, 'pouring_line': '0', 't': 84}, {'class': 'pouring', 'y': 0, 'size': 27, 'boiling_type': 'water', 'time_size': 135, 'boiling_label': '3.6 Альче  8000кг', 'boiling_id': 9, 'block_num': 9, 'pouring_line': '0', 't': 105}]\n",
      "INFO:root:Fitting block 9\n",
      "INFO:root:['Disposition', 6, 'termizator', '[08:00, 08:30)', 'termizator', '[08:00, 08:30)', {'class': 'termizator', 'y': 0, 'size': 6, 'boiling_type': 'salt', 'time_size': 30, 'boiling_label': '2.7 Альче  8000кг', 'boiling_id': 1, 'melting_line': '1', 'block_num': 8, 'pouring_line': '2', 't': 96}, {'class': 'termizator', 'y': 0, 'size': 6, 'boiling_type': 'salt', 'time_size': 30, 'boiling_label': '2.7 Альче  8000кг', 'boiling_id': 1, 'melting_line': '0', 'block_num': 10, 'pouring_line': '2', 't': 96}]\n",
      "INFO:root:['Disposition', 6, 'termizator', '[08:00, 08:30)', 'termizator', '[08:00, 08:30)', {'class': 'termizator', 'y': 0, 'size': 6, 'boiling_type': 'salt', 'time_size': 30, 'boiling_label': '2.7 Альче  8000кг', 'boiling_id': 1, 'melting_line': '1', 'block_num': 8, 'pouring_line': '2', 't': 96}, {'class': 'termizator', 'y': 0, 'size': 6, 'boiling_type': 'salt', 'time_size': 30, 'boiling_label': '2.7 Альче  8000кг', 'boiling_id': 1, 'melting_line': '1', 'block_num': 10, 'pouring_line': '2', 't': 96}]\n",
      "INFO:root:['Disposition', 6, 'termizator', '[08:00, 08:30)', 'termizator', '[08:00, 08:30)', {'class': 'termizator', 'y': 0, 'size': 6, 'boiling_type': 'salt', 'time_size': 30, 'boiling_label': '2.7 Альче  8000кг', 'boiling_id': 1, 'melting_line': '1', 'block_num': 8, 'pouring_line': '2', 't': 96}, {'class': 'termizator', 'y': 0, 'size': 6, 'boiling_type': 'salt', 'time_size': 30, 'boiling_label': '2.7 Альче  8000кг', 'boiling_id': 1, 'melting_line': '2', 'block_num': 10, 'pouring_line': '2', 't': 96}]\n",
      "INFO:root:['Disposition', 6, 'termizator', '[08:00, 08:30)', 'termizator', '[08:00, 08:30)', {'class': 'termizator', 'y': 0, 'size': 6, 'boiling_type': 'salt', 'time_size': 30, 'boiling_label': '2.7 Альче  8000кг', 'boiling_id': 1, 'melting_line': '1', 'block_num': 8, 'pouring_line': '2', 't': 96}, {'class': 'termizator', 'y': 0, 'size': 6, 'boiling_type': 'salt', 'time_size': 30, 'boiling_label': '2.7 Альче  8000кг', 'boiling_id': 1, 'melting_line': '3', 'block_num': 10, 'pouring_line': '2', 't': 96}]\n",
      "INFO:root:['Disposition', 6, 'termizator', '[08:00, 08:30)', 'termizator', '[08:00, 08:30)', {'class': 'termizator', 'y': 0, 'size': 6, 'boiling_type': 'salt', 'time_size': 30, 'boiling_label': '2.7 Альче  8000кг', 'boiling_id': 1, 'melting_line': '1', 'block_num': 8, 'pouring_line': '2', 't': 96}, {'class': 'termizator', 'y': 0, 'size': 6, 'boiling_type': 'salt', 'time_size': 30, 'boiling_label': '2.7 Альче  8000кг', 'boiling_id': 1, 'melting_line': '0', 'block_num': 10, 'pouring_line': '3', 't': 96}]\n",
      "INFO:root:['Disposition', 6, 'termizator', '[08:00, 08:30)', 'termizator', '[08:00, 08:30)', {'class': 'termizator', 'y': 0, 'size': 6, 'boiling_type': 'salt', 'time_size': 30, 'boiling_label': '2.7 Альче  8000кг', 'boiling_id': 1, 'melting_line': '1', 'block_num': 8, 'pouring_line': '2', 't': 96}, {'class': 'termizator', 'y': 0, 'size': 6, 'boiling_type': 'salt', 'time_size': 30, 'boiling_label': '2.7 Альче  8000кг', 'boiling_id': 1, 'melting_line': '1', 'block_num': 10, 'pouring_line': '3', 't': 96}]\n",
      "INFO:root:['Disposition', 6, 'termizator', '[08:00, 08:30)', 'termizator', '[08:00, 08:30)', {'class': 'termizator', 'y': 0, 'size': 6, 'boiling_type': 'salt', 'time_size': 30, 'boiling_label': '2.7 Альче  8000кг', 'boiling_id': 1, 'melting_line': '1', 'block_num': 8, 'pouring_line': '2', 't': 96}, {'class': 'termizator', 'y': 0, 'size': 6, 'boiling_type': 'salt', 'time_size': 30, 'boiling_label': '2.7 Альче  8000кг', 'boiling_id': 1, 'melting_line': '2', 'block_num': 10, 'pouring_line': '3', 't': 96}]\n",
      "INFO:root:['Disposition', 6, 'termizator', '[08:00, 08:30)', 'termizator', '[08:00, 08:30)', {'class': 'termizator', 'y': 0, 'size': 6, 'boiling_type': 'salt', 'time_size': 30, 'boiling_label': '2.7 Альче  8000кг', 'boiling_id': 1, 'melting_line': '1', 'block_num': 8, 'pouring_line': '2', 't': 96}, {'class': 'termizator', 'y': 0, 'size': 6, 'boiling_type': 'salt', 'time_size': 30, 'boiling_label': '2.7 Альче  8000кг', 'boiling_id': 1, 'melting_line': '3', 'block_num': 10, 'pouring_line': '3', 't': 96}]\n",
      "INFO:root:['All dispositions', [6, 6, 6, 6, 6, 6, 6, 6]]\n",
      "INFO:root:['Disposition', 9, 'termizator', '[08:45, 09:15)', 'termizator', '[08:30, 09:00)', {'class': 'termizator', 'y': 0, 'size': 6, 'boiling_type': 'water', 'time_size': 30, 'boiling_label': '3.6 Альче  8000кг', 'boiling_id': 9, 'block_num': 9, 'pouring_line': '1', 't': 105}, {'class': 'termizator', 'y': 0, 'size': 6, 'boiling_type': 'salt', 'time_size': 30, 'boiling_label': '2.7 Альче  8000кг', 'boiling_id': 1, 'melting_line': '0', 'block_num': 10, 'pouring_line': '2', 't': 102}]\n",
      "INFO:root:['Disposition', 9, 'termizator', '[08:45, 09:15)', 'termizator', '[08:30, 09:00)', {'class': 'termizator', 'y': 0, 'size': 6, 'boiling_type': 'water', 'time_size': 30, 'boiling_label': '3.6 Альче  8000кг', 'boiling_id': 9, 'block_num': 9, 'pouring_line': '1', 't': 105}, {'class': 'termizator', 'y': 0, 'size': 6, 'boiling_type': 'salt', 'time_size': 30, 'boiling_label': '2.7 Альче  8000кг', 'boiling_id': 1, 'melting_line': '1', 'block_num': 10, 'pouring_line': '2', 't': 102}]\n",
      "INFO:root:['Disposition', 9, 'termizator', '[08:45, 09:15)', 'termizator', '[08:30, 09:00)', {'class': 'termizator', 'y': 0, 'size': 6, 'boiling_type': 'water', 'time_size': 30, 'boiling_label': '3.6 Альче  8000кг', 'boiling_id': 9, 'block_num': 9, 'pouring_line': '1', 't': 105}, {'class': 'termizator', 'y': 0, 'size': 6, 'boiling_type': 'salt', 'time_size': 30, 'boiling_label': '2.7 Альче  8000кг', 'boiling_id': 1, 'melting_line': '2', 'block_num': 10, 'pouring_line': '2', 't': 102}]\n",
      "INFO:root:['Disposition', 9, 'termizator', '[08:45, 09:15)', 'termizator', '[08:30, 09:00)', {'class': 'termizator', 'y': 0, 'size': 6, 'boiling_type': 'water', 'time_size': 30, 'boiling_label': '3.6 Альче  8000кг', 'boiling_id': 9, 'block_num': 9, 'pouring_line': '1', 't': 105}, {'class': 'termizator', 'y': 0, 'size': 6, 'boiling_type': 'salt', 'time_size': 30, 'boiling_label': '2.7 Альче  8000кг', 'boiling_id': 1, 'melting_line': '3', 'block_num': 10, 'pouring_line': '2', 't': 102}]\n",
      "INFO:root:['Disposition', 9, 'termizator', '[08:45, 09:15)', 'termizator', '[08:30, 09:00)', {'class': 'termizator', 'y': 0, 'size': 6, 'boiling_type': 'water', 'time_size': 30, 'boiling_label': '3.6 Альче  8000кг', 'boiling_id': 9, 'block_num': 9, 'pouring_line': '1', 't': 105}, {'class': 'termizator', 'y': 0, 'size': 6, 'boiling_type': 'salt', 'time_size': 30, 'boiling_label': '2.7 Альче  8000кг', 'boiling_id': 1, 'melting_line': '0', 'block_num': 10, 'pouring_line': '3', 't': 102}]\n",
      "INFO:root:['Disposition', 9, 'termizator', '[08:45, 09:15)', 'termizator', '[08:30, 09:00)', {'class': 'termizator', 'y': 0, 'size': 6, 'boiling_type': 'water', 'time_size': 30, 'boiling_label': '3.6 Альче  8000кг', 'boiling_id': 9, 'block_num': 9, 'pouring_line': '1', 't': 105}, {'class': 'termizator', 'y': 0, 'size': 6, 'boiling_type': 'salt', 'time_size': 30, 'boiling_label': '2.7 Альче  8000кг', 'boiling_id': 1, 'melting_line': '1', 'block_num': 10, 'pouring_line': '3', 't': 102}]\n",
      "INFO:root:['Disposition', 9, 'termizator', '[08:45, 09:15)', 'termizator', '[08:30, 09:00)', {'class': 'termizator', 'y': 0, 'size': 6, 'boiling_type': 'water', 'time_size': 30, 'boiling_label': '3.6 Альче  8000кг', 'boiling_id': 9, 'block_num': 9, 'pouring_line': '1', 't': 105}, {'class': 'termizator', 'y': 0, 'size': 6, 'boiling_type': 'salt', 'time_size': 30, 'boiling_label': '2.7 Альче  8000кг', 'boiling_id': 1, 'melting_line': '2', 'block_num': 10, 'pouring_line': '3', 't': 102}]\n",
      "INFO:root:['Disposition', 9, 'termizator', '[08:45, 09:15)', 'termizator', '[08:30, 09:00)', {'class': 'termizator', 'y': 0, 'size': 6, 'boiling_type': 'water', 'time_size': 30, 'boiling_label': '3.6 Альче  8000кг', 'boiling_id': 9, 'block_num': 9, 'pouring_line': '1', 't': 105}, {'class': 'termizator', 'y': 0, 'size': 6, 'boiling_type': 'salt', 'time_size': 30, 'boiling_label': '2.7 Альче  8000кг', 'boiling_id': 1, 'melting_line': '3', 'block_num': 10, 'pouring_line': '3', 't': 102}]\n"
     ]
    },
    {
     "name": "stderr",
     "output_type": "stream",
     "text": [
      "INFO:root:['All dispositions', [9, 9, 9, 9, 9, 9, 9, 9]]\n",
      "INFO:root:['Disposition', 10, 'pouring', '[08:00, 10:05)', 'pouring', '[09:15, 11:20)', {'class': 'pouring', 'y': 0, 'size': 25, 'boiling_type': 'salt', 'time_size': 125, 'boiling_label': '2.7 Альче  8000кг', 'boiling_id': 1, 'melting_line': '1', 'block_num': 8, 'pouring_line': '2', 't': 96}, {'class': 'pouring', 'y': 0, 'size': 25, 'boiling_type': 'salt', 'time_size': 125, 'boiling_label': '2.7 Альче  8000кг', 'boiling_id': 1, 'melting_line': '0', 'block_num': 10, 'pouring_line': '2', 't': 111}]\n",
      "INFO:root:['Disposition', 10, 'pouring', '[08:00, 10:05)', 'pouring', '[09:15, 11:20)', {'class': 'pouring', 'y': 0, 'size': 25, 'boiling_type': 'salt', 'time_size': 125, 'boiling_label': '2.7 Альче  8000кг', 'boiling_id': 1, 'melting_line': '1', 'block_num': 8, 'pouring_line': '2', 't': 96}, {'class': 'pouring', 'y': 0, 'size': 25, 'boiling_type': 'salt', 'time_size': 125, 'boiling_label': '2.7 Альче  8000кг', 'boiling_id': 1, 'melting_line': '1', 'block_num': 10, 'pouring_line': '2', 't': 111}]\n",
      "INFO:root:['Disposition', 10, 'pouring', '[08:00, 10:05)', 'pouring', '[09:15, 11:20)', {'class': 'pouring', 'y': 0, 'size': 25, 'boiling_type': 'salt', 'time_size': 125, 'boiling_label': '2.7 Альче  8000кг', 'boiling_id': 1, 'melting_line': '1', 'block_num': 8, 'pouring_line': '2', 't': 96}, {'class': 'pouring', 'y': 0, 'size': 25, 'boiling_type': 'salt', 'time_size': 125, 'boiling_label': '2.7 Альче  8000кг', 'boiling_id': 1, 'melting_line': '2', 'block_num': 10, 'pouring_line': '2', 't': 111}]\n",
      "INFO:root:['Disposition', 10, 'pouring', '[08:00, 10:05)', 'pouring', '[09:15, 11:20)', {'class': 'pouring', 'y': 0, 'size': 25, 'boiling_type': 'salt', 'time_size': 125, 'boiling_label': '2.7 Альче  8000кг', 'boiling_id': 1, 'melting_line': '1', 'block_num': 8, 'pouring_line': '2', 't': 96}, {'class': 'pouring', 'y': 0, 'size': 25, 'boiling_type': 'salt', 'time_size': 125, 'boiling_label': '2.7 Альче  8000кг', 'boiling_id': 1, 'melting_line': '3', 'block_num': 10, 'pouring_line': '2', 't': 111}]\n",
      "INFO:root:['Disposition', 3, 'melting', '[10:50, 14:10)', 'melting', '[13:55, 17:15)', {'class': 'melting', 't': 130, 'y': 10, 'time_size': 200, 'boiling_type': 'salt', 'boiling_label': '2.7 Альче  8000кг', 'boiling_id': 1, 'melting_line': '0', 'block_num': 6, 'pouring_line': '3', 'size': 40}, {'class': 'melting', 't': 167, 'y': 10, 'time_size': 200, 'boiling_type': 'salt', 'boiling_label': '2.7 Альче  8000кг', 'boiling_id': 1, 'melting_line': '0', 'block_num': 10, 'pouring_line': '3', 'size': 40}]\n",
      "INFO:root:['Disposition', 25, 'melting', '[12:40, 16:00)', 'melting', '[13:55, 17:15)', {'class': 'melting', 't': 152, 'y': 10, 'time_size': 200, 'boiling_type': 'salt', 'boiling_label': '2.7 Альче  8000кг', 'boiling_id': 1, 'melting_line': '1', 'block_num': 8, 'pouring_line': '2', 'size': 40}, {'class': 'melting', 't': 167, 'y': 10, 'time_size': 200, 'boiling_type': 'salt', 'boiling_label': '2.7 Альче  8000кг', 'boiling_id': 1, 'melting_line': '1', 'block_num': 10, 'pouring_line': '3', 'size': 40}]\n",
      "INFO:root:Fitting block 10\n",
      "INFO:root:['Disposition', 6, 'termizator', '[08:45, 09:15)', 'termizator', '[08:45, 09:15)', {'class': 'termizator', 'y': 0, 'size': 6, 'boiling_type': 'water', 'time_size': 30, 'boiling_label': '3.6 Альче  8000кг', 'boiling_id': 9, 'block_num': 9, 'pouring_line': '1', 't': 105}, {'class': 'termizator', 'y': 0, 'size': 6, 'boiling_type': 'water', 'time_size': 30, 'boiling_label': '3.6 Альче  8000кг', 'boiling_id': 9, 'block_num': 11, 'pouring_line': '0', 't': 105}]\n",
      "INFO:root:['Disposition', 6, 'termizator', '[08:45, 09:15)', 'termizator', '[08:45, 09:15)', {'class': 'termizator', 'y': 0, 'size': 6, 'boiling_type': 'water', 'time_size': 30, 'boiling_label': '3.6 Альче  8000кг', 'boiling_id': 9, 'block_num': 9, 'pouring_line': '1', 't': 105}, {'class': 'termizator', 'y': 0, 'size': 6, 'boiling_type': 'water', 'time_size': 30, 'boiling_label': '3.6 Альче  8000кг', 'boiling_id': 9, 'block_num': 11, 'pouring_line': '1', 't': 105}]\n",
      "INFO:root:['All dispositions', [6, 6]]\n",
      "INFO:root:['Disposition', 6, 'termizator', '[09:15, 09:45)', 'termizator', '[09:15, 09:45)', {'class': 'termizator', 'y': 0, 'size': 6, 'boiling_type': 'salt', 'time_size': 30, 'boiling_label': '2.7 Альче  8000кг', 'boiling_id': 1, 'melting_line': '2', 'block_num': 10, 'pouring_line': '3', 't': 111}, {'class': 'termizator', 'y': 0, 'size': 6, 'boiling_type': 'water', 'time_size': 30, 'boiling_label': '3.6 Альче  8000кг', 'boiling_id': 9, 'block_num': 11, 'pouring_line': '0', 't': 111}]\n",
      "INFO:root:['Disposition', 6, 'termizator', '[09:15, 09:45)', 'termizator', '[09:15, 09:45)', {'class': 'termizator', 'y': 0, 'size': 6, 'boiling_type': 'salt', 'time_size': 30, 'boiling_label': '2.7 Альче  8000кг', 'boiling_id': 1, 'melting_line': '2', 'block_num': 10, 'pouring_line': '3', 't': 111}, {'class': 'termizator', 'y': 0, 'size': 6, 'boiling_type': 'water', 'time_size': 30, 'boiling_label': '3.6 Альче  8000кг', 'boiling_id': 9, 'block_num': 11, 'pouring_line': '1', 't': 111}]\n",
      "INFO:root:['All dispositions', [6, 6]]\n",
      "INFO:root:['Disposition', 3, 'cooling2', '[15:30, 16:20)', 'cooling1', '[16:05, 16:30)', {'class': 'cooling2', 't': 186, 'y': 13, 'time_size': 50, 'boiling_type': 'water', 'boiling_label': '3.6 Альче  8000кг', 'boiling_id': 9, 'melting_line': None, 'block_num': 9, 'pouring_line': '1', 'size': 10}, {'class': 'cooling1', 't': 193, 'y': 13, 'time_size': 25, 'boiling_type': 'water', 'boiling_label': '3.6 Альче  8000кг', 'boiling_id': 9, 'melting_line': None, 'block_num': 11, 'pouring_line': '0', 'size': 5}]\n",
      "INFO:root:['Disposition', 15, 'pouring', '[08:45, 11:00)', 'pouring', '[09:45, 12:00)', {'class': 'pouring', 'y': 0, 'size': 27, 'boiling_type': 'water', 'time_size': 135, 'boiling_label': '3.6 Альче  8000кг', 'boiling_id': 9, 'block_num': 9, 'pouring_line': '1', 't': 105}, {'class': 'pouring', 'y': 0, 'size': 27, 'boiling_type': 'water', 'time_size': 135, 'boiling_label': '3.6 Альче  8000кг', 'boiling_id': 9, 'block_num': 11, 'pouring_line': '1', 't': 117}]\n",
      "INFO:root:['All dispositions', [3, 15]]\n",
      "INFO:root:Fitting block 11\n",
      "INFO:root:['Disposition', 6, 'termizator', '[09:15, 09:45)', 'termizator', '[09:15, 09:45)', {'class': 'termizator', 'y': 0, 'size': 6, 'boiling_type': 'salt', 'time_size': 30, 'boiling_label': '2.7 Альче  8000кг', 'boiling_id': 1, 'melting_line': '2', 'block_num': 10, 'pouring_line': '3', 't': 111}, {'class': 'termizator', 'y': 0, 'size': 6, 'boiling_type': 'salt', 'time_size': 30, 'boiling_label': '2.7 Альче  8000кг', 'boiling_id': 1, 'melting_line': '0', 'block_num': 12, 'pouring_line': '2', 't': 111}]\n",
      "INFO:root:['Disposition', 6, 'termizator', '[09:15, 09:45)', 'termizator', '[09:15, 09:45)', {'class': 'termizator', 'y': 0, 'size': 6, 'boiling_type': 'salt', 'time_size': 30, 'boiling_label': '2.7 Альче  8000кг', 'boiling_id': 1, 'melting_line': '2', 'block_num': 10, 'pouring_line': '3', 't': 111}, {'class': 'termizator', 'y': 0, 'size': 6, 'boiling_type': 'salt', 'time_size': 30, 'boiling_label': '2.7 Альче  8000кг', 'boiling_id': 1, 'melting_line': '1', 'block_num': 12, 'pouring_line': '2', 't': 111}]\n",
      "INFO:root:['Disposition', 6, 'termizator', '[09:15, 09:45)', 'termizator', '[09:15, 09:45)', {'class': 'termizator', 'y': 0, 'size': 6, 'boiling_type': 'salt', 'time_size': 30, 'boiling_label': '2.7 Альче  8000кг', 'boiling_id': 1, 'melting_line': '2', 'block_num': 10, 'pouring_line': '3', 't': 111}, {'class': 'termizator', 'y': 0, 'size': 6, 'boiling_type': 'salt', 'time_size': 30, 'boiling_label': '2.7 Альче  8000кг', 'boiling_id': 1, 'melting_line': '2', 'block_num': 12, 'pouring_line': '2', 't': 111}]\n",
      "INFO:root:['Disposition', 6, 'termizator', '[09:15, 09:45)', 'termizator', '[09:15, 09:45)', {'class': 'termizator', 'y': 0, 'size': 6, 'boiling_type': 'salt', 'time_size': 30, 'boiling_label': '2.7 Альче  8000кг', 'boiling_id': 1, 'melting_line': '2', 'block_num': 10, 'pouring_line': '3', 't': 111}, {'class': 'termizator', 'y': 0, 'size': 6, 'boiling_type': 'salt', 'time_size': 30, 'boiling_label': '2.7 Альче  8000кг', 'boiling_id': 1, 'melting_line': '3', 'block_num': 12, 'pouring_line': '2', 't': 111}]\n",
      "INFO:root:['Disposition', 6, 'termizator', '[09:15, 09:45)', 'termizator', '[09:15, 09:45)', {'class': 'termizator', 'y': 0, 'size': 6, 'boiling_type': 'salt', 'time_size': 30, 'boiling_label': '2.7 Альче  8000кг', 'boiling_id': 1, 'melting_line': '2', 'block_num': 10, 'pouring_line': '3', 't': 111}, {'class': 'termizator', 'y': 0, 'size': 6, 'boiling_type': 'salt', 'time_size': 30, 'boiling_label': '2.7 Альче  8000кг', 'boiling_id': 1, 'melting_line': '0', 'block_num': 12, 'pouring_line': '3', 't': 111}]\n"
     ]
    },
    {
     "name": "stderr",
     "output_type": "stream",
     "text": [
      "INFO:root:['Disposition', 6, 'termizator', '[09:15, 09:45)', 'termizator', '[09:15, 09:45)', {'class': 'termizator', 'y': 0, 'size': 6, 'boiling_type': 'salt', 'time_size': 30, 'boiling_label': '2.7 Альче  8000кг', 'boiling_id': 1, 'melting_line': '2', 'block_num': 10, 'pouring_line': '3', 't': 111}, {'class': 'termizator', 'y': 0, 'size': 6, 'boiling_type': 'salt', 'time_size': 30, 'boiling_label': '2.7 Альче  8000кг', 'boiling_id': 1, 'melting_line': '1', 'block_num': 12, 'pouring_line': '3', 't': 111}]\n",
      "INFO:root:['Disposition', 6, 'termizator', '[09:15, 09:45)', 'termizator', '[09:15, 09:45)', {'class': 'termizator', 'y': 0, 'size': 6, 'boiling_type': 'salt', 'time_size': 30, 'boiling_label': '2.7 Альче  8000кг', 'boiling_id': 1, 'melting_line': '2', 'block_num': 10, 'pouring_line': '3', 't': 111}, {'class': 'termizator', 'y': 0, 'size': 6, 'boiling_type': 'salt', 'time_size': 30, 'boiling_label': '2.7 Альче  8000кг', 'boiling_id': 1, 'melting_line': '2', 'block_num': 12, 'pouring_line': '3', 't': 111}]\n",
      "INFO:root:['Disposition', 6, 'termizator', '[09:15, 09:45)', 'termizator', '[09:15, 09:45)', {'class': 'termizator', 'y': 0, 'size': 6, 'boiling_type': 'salt', 'time_size': 30, 'boiling_label': '2.7 Альче  8000кг', 'boiling_id': 1, 'melting_line': '2', 'block_num': 10, 'pouring_line': '3', 't': 111}, {'class': 'termizator', 'y': 0, 'size': 6, 'boiling_type': 'salt', 'time_size': 30, 'boiling_label': '2.7 Альче  8000кг', 'boiling_id': 1, 'melting_line': '3', 'block_num': 12, 'pouring_line': '3', 't': 111}]\n",
      "INFO:root:['All dispositions', [6, 6, 6, 6, 6, 6, 6, 6]]\n",
      "INFO:root:['Disposition', 9, 'termizator', '[10:00, 10:30)', 'termizator', '[09:45, 10:15)', {'class': 'termizator', 'y': 0, 'size': 6, 'boiling_type': 'water', 'time_size': 30, 'boiling_label': '3.6 Альче  8000кг', 'boiling_id': 9, 'block_num': 11, 'pouring_line': '0', 't': 120}, {'class': 'termizator', 'y': 0, 'size': 6, 'boiling_type': 'salt', 'time_size': 30, 'boiling_label': '2.7 Альче  8000кг', 'boiling_id': 1, 'melting_line': '0', 'block_num': 12, 'pouring_line': '2', 't': 117}]\n",
      "INFO:root:['Disposition', 9, 'termizator', '[10:00, 10:30)', 'termizator', '[09:45, 10:15)', {'class': 'termizator', 'y': 0, 'size': 6, 'boiling_type': 'water', 'time_size': 30, 'boiling_label': '3.6 Альче  8000кг', 'boiling_id': 9, 'block_num': 11, 'pouring_line': '0', 't': 120}, {'class': 'termizator', 'y': 0, 'size': 6, 'boiling_type': 'salt', 'time_size': 30, 'boiling_label': '2.7 Альче  8000кг', 'boiling_id': 1, 'melting_line': '1', 'block_num': 12, 'pouring_line': '2', 't': 117}]\n",
      "INFO:root:['Disposition', 9, 'termizator', '[10:00, 10:30)', 'termizator', '[09:45, 10:15)', {'class': 'termizator', 'y': 0, 'size': 6, 'boiling_type': 'water', 'time_size': 30, 'boiling_label': '3.6 Альче  8000кг', 'boiling_id': 9, 'block_num': 11, 'pouring_line': '0', 't': 120}, {'class': 'termizator', 'y': 0, 'size': 6, 'boiling_type': 'salt', 'time_size': 30, 'boiling_label': '2.7 Альче  8000кг', 'boiling_id': 1, 'melting_line': '2', 'block_num': 12, 'pouring_line': '2', 't': 117}]\n",
      "INFO:root:['Disposition', 9, 'termizator', '[10:00, 10:30)', 'termizator', '[09:45, 10:15)', {'class': 'termizator', 'y': 0, 'size': 6, 'boiling_type': 'water', 'time_size': 30, 'boiling_label': '3.6 Альче  8000кг', 'boiling_id': 9, 'block_num': 11, 'pouring_line': '0', 't': 120}, {'class': 'termizator', 'y': 0, 'size': 6, 'boiling_type': 'salt', 'time_size': 30, 'boiling_label': '2.7 Альче  8000кг', 'boiling_id': 1, 'melting_line': '3', 'block_num': 12, 'pouring_line': '2', 't': 117}]\n",
      "INFO:root:['Disposition', 9, 'termizator', '[10:00, 10:30)', 'termizator', '[09:45, 10:15)', {'class': 'termizator', 'y': 0, 'size': 6, 'boiling_type': 'water', 'time_size': 30, 'boiling_label': '3.6 Альче  8000кг', 'boiling_id': 9, 'block_num': 11, 'pouring_line': '0', 't': 120}, {'class': 'termizator', 'y': 0, 'size': 6, 'boiling_type': 'salt', 'time_size': 30, 'boiling_label': '2.7 Альче  8000кг', 'boiling_id': 1, 'melting_line': '0', 'block_num': 12, 'pouring_line': '3', 't': 117}]\n",
      "INFO:root:['Disposition', 9, 'termizator', '[10:00, 10:30)', 'termizator', '[09:45, 10:15)', {'class': 'termizator', 'y': 0, 'size': 6, 'boiling_type': 'water', 'time_size': 30, 'boiling_label': '3.6 Альче  8000кг', 'boiling_id': 9, 'block_num': 11, 'pouring_line': '0', 't': 120}, {'class': 'termizator', 'y': 0, 'size': 6, 'boiling_type': 'salt', 'time_size': 30, 'boiling_label': '2.7 Альче  8000кг', 'boiling_id': 1, 'melting_line': '1', 'block_num': 12, 'pouring_line': '3', 't': 117}]\n",
      "INFO:root:['Disposition', 9, 'termizator', '[10:00, 10:30)', 'termizator', '[09:45, 10:15)', {'class': 'termizator', 'y': 0, 'size': 6, 'boiling_type': 'water', 'time_size': 30, 'boiling_label': '3.6 Альче  8000кг', 'boiling_id': 9, 'block_num': 11, 'pouring_line': '0', 't': 120}, {'class': 'termizator', 'y': 0, 'size': 6, 'boiling_type': 'salt', 'time_size': 30, 'boiling_label': '2.7 Альче  8000кг', 'boiling_id': 1, 'melting_line': '2', 'block_num': 12, 'pouring_line': '3', 't': 117}]\n",
      "INFO:root:['Disposition', 9, 'termizator', '[10:00, 10:30)', 'termizator', '[09:45, 10:15)', {'class': 'termizator', 'y': 0, 'size': 6, 'boiling_type': 'water', 'time_size': 30, 'boiling_label': '3.6 Альче  8000кг', 'boiling_id': 9, 'block_num': 11, 'pouring_line': '0', 't': 120}, {'class': 'termizator', 'y': 0, 'size': 6, 'boiling_type': 'salt', 'time_size': 30, 'boiling_label': '2.7 Альче  8000кг', 'boiling_id': 1, 'melting_line': '3', 'block_num': 12, 'pouring_line': '3', 't': 117}]\n",
      "INFO:root:['All dispositions', [9, 9, 9, 9, 9, 9, 9, 9]]\n",
      "INFO:root:Fitting block 12\n",
      "INFO:root:['Disposition', 6, 'termizator', '[10:30, 11:00)', 'termizator', '[10:30, 11:00)', {'class': 'termizator', 'y': 0, 'size': 6, 'boiling_type': 'salt', 'time_size': 30, 'boiling_label': '2.7 Альче  8000кг', 'boiling_id': 1, 'melting_line': '0', 'block_num': 12, 'pouring_line': '2', 't': 126}, {'class': 'termizator', 'y': 0, 'size': 6, 'boiling_type': 'salt', 'time_size': 30, 'boiling_label': '2.7 Альче  8000кг', 'boiling_id': 1, 'melting_line': '0', 'block_num': 13, 'pouring_line': '2', 't': 126}]\n",
      "INFO:root:['Disposition', 6, 'termizator', '[10:30, 11:00)', 'termizator', '[10:30, 11:00)', {'class': 'termizator', 'y': 0, 'size': 6, 'boiling_type': 'salt', 'time_size': 30, 'boiling_label': '2.7 Альче  8000кг', 'boiling_id': 1, 'melting_line': '0', 'block_num': 12, 'pouring_line': '2', 't': 126}, {'class': 'termizator', 'y': 0, 'size': 6, 'boiling_type': 'salt', 'time_size': 30, 'boiling_label': '2.7 Альче  8000кг', 'boiling_id': 1, 'melting_line': '1', 'block_num': 13, 'pouring_line': '2', 't': 126}]\n",
      "INFO:root:['Disposition', 6, 'termizator', '[10:30, 11:00)', 'termizator', '[10:30, 11:00)', {'class': 'termizator', 'y': 0, 'size': 6, 'boiling_type': 'salt', 'time_size': 30, 'boiling_label': '2.7 Альче  8000кг', 'boiling_id': 1, 'melting_line': '0', 'block_num': 12, 'pouring_line': '2', 't': 126}, {'class': 'termizator', 'y': 0, 'size': 6, 'boiling_type': 'salt', 'time_size': 30, 'boiling_label': '2.7 Альче  8000кг', 'boiling_id': 1, 'melting_line': '2', 'block_num': 13, 'pouring_line': '2', 't': 126}]\n",
      "INFO:root:['Disposition', 6, 'termizator', '[10:30, 11:00)', 'termizator', '[10:30, 11:00)', {'class': 'termizator', 'y': 0, 'size': 6, 'boiling_type': 'salt', 'time_size': 30, 'boiling_label': '2.7 Альче  8000кг', 'boiling_id': 1, 'melting_line': '0', 'block_num': 12, 'pouring_line': '2', 't': 126}, {'class': 'termizator', 'y': 0, 'size': 6, 'boiling_type': 'salt', 'time_size': 30, 'boiling_label': '2.7 Альче  8000кг', 'boiling_id': 1, 'melting_line': '3', 'block_num': 13, 'pouring_line': '2', 't': 126}]\n",
      "INFO:root:['Disposition', 6, 'termizator', '[10:30, 11:00)', 'termizator', '[10:30, 11:00)', {'class': 'termizator', 'y': 0, 'size': 6, 'boiling_type': 'salt', 'time_size': 30, 'boiling_label': '2.7 Альче  8000кг', 'boiling_id': 1, 'melting_line': '0', 'block_num': 12, 'pouring_line': '2', 't': 126}, {'class': 'termizator', 'y': 0, 'size': 6, 'boiling_type': 'salt', 'time_size': 30, 'boiling_label': '2.7 Альче  8000кг', 'boiling_id': 1, 'melting_line': '0', 'block_num': 13, 'pouring_line': '3', 't': 126}]\n",
      "INFO:root:['Disposition', 6, 'termizator', '[10:30, 11:00)', 'termizator', '[10:30, 11:00)', {'class': 'termizator', 'y': 0, 'size': 6, 'boiling_type': 'salt', 'time_size': 30, 'boiling_label': '2.7 Альче  8000кг', 'boiling_id': 1, 'melting_line': '0', 'block_num': 12, 'pouring_line': '2', 't': 126}, {'class': 'termizator', 'y': 0, 'size': 6, 'boiling_type': 'salt', 'time_size': 30, 'boiling_label': '2.7 Альче  8000кг', 'boiling_id': 1, 'melting_line': '1', 'block_num': 13, 'pouring_line': '3', 't': 126}]\n"
     ]
    },
    {
     "name": "stderr",
     "output_type": "stream",
     "text": [
      "INFO:root:['Disposition', 6, 'termizator', '[10:30, 11:00)', 'termizator', '[10:30, 11:00)', {'class': 'termizator', 'y': 0, 'size': 6, 'boiling_type': 'salt', 'time_size': 30, 'boiling_label': '2.7 Альче  8000кг', 'boiling_id': 1, 'melting_line': '0', 'block_num': 12, 'pouring_line': '2', 't': 126}, {'class': 'termizator', 'y': 0, 'size': 6, 'boiling_type': 'salt', 'time_size': 30, 'boiling_label': '2.7 Альче  8000кг', 'boiling_id': 1, 'melting_line': '2', 'block_num': 13, 'pouring_line': '3', 't': 126}]\n",
      "INFO:root:['Disposition', 6, 'termizator', '[10:30, 11:00)', 'termizator', '[10:30, 11:00)', {'class': 'termizator', 'y': 0, 'size': 6, 'boiling_type': 'salt', 'time_size': 30, 'boiling_label': '2.7 Альче  8000кг', 'boiling_id': 1, 'melting_line': '0', 'block_num': 12, 'pouring_line': '2', 't': 126}, {'class': 'termizator', 'y': 0, 'size': 6, 'boiling_type': 'salt', 'time_size': 30, 'boiling_label': '2.7 Альче  8000кг', 'boiling_id': 1, 'melting_line': '3', 'block_num': 13, 'pouring_line': '3', 't': 126}]\n",
      "INFO:root:['All dispositions', [6, 6, 6, 6, 6, 6, 6, 6]]\n",
      "INFO:root:['Disposition', 19, 'pouring', '[10:30, 12:35)', 'pouring', '[11:00, 13:05)', {'class': 'pouring', 'y': 0, 'size': 25, 'boiling_type': 'salt', 'time_size': 125, 'boiling_label': '2.7 Альче  8000кг', 'boiling_id': 1, 'melting_line': '0', 'block_num': 12, 'pouring_line': '2', 't': 126}, {'class': 'pouring', 'y': 0, 'size': 25, 'boiling_type': 'salt', 'time_size': 125, 'boiling_label': '2.7 Альче  8000кг', 'boiling_id': 1, 'melting_line': '0', 'block_num': 13, 'pouring_line': '2', 't': 132}]\n",
      "INFO:root:['Disposition', 19, 'pouring', '[10:30, 12:35)', 'pouring', '[11:00, 13:05)', {'class': 'pouring', 'y': 0, 'size': 25, 'boiling_type': 'salt', 'time_size': 125, 'boiling_label': '2.7 Альче  8000кг', 'boiling_id': 1, 'melting_line': '0', 'block_num': 12, 'pouring_line': '2', 't': 126}, {'class': 'pouring', 'y': 0, 'size': 25, 'boiling_type': 'salt', 'time_size': 125, 'boiling_label': '2.7 Альче  8000кг', 'boiling_id': 1, 'melting_line': '1', 'block_num': 13, 'pouring_line': '2', 't': 132}]\n",
      "INFO:root:['Disposition', 19, 'pouring', '[10:30, 12:35)', 'pouring', '[11:00, 13:05)', {'class': 'pouring', 'y': 0, 'size': 25, 'boiling_type': 'salt', 'time_size': 125, 'boiling_label': '2.7 Альче  8000кг', 'boiling_id': 1, 'melting_line': '0', 'block_num': 12, 'pouring_line': '2', 't': 126}, {'class': 'pouring', 'y': 0, 'size': 25, 'boiling_type': 'salt', 'time_size': 125, 'boiling_label': '2.7 Альче  8000кг', 'boiling_id': 1, 'melting_line': '2', 'block_num': 13, 'pouring_line': '2', 't': 132}]\n",
      "INFO:root:['Disposition', 19, 'pouring', '[10:30, 12:35)', 'pouring', '[11:00, 13:05)', {'class': 'pouring', 'y': 0, 'size': 25, 'boiling_type': 'salt', 'time_size': 125, 'boiling_label': '2.7 Альче  8000кг', 'boiling_id': 1, 'melting_line': '0', 'block_num': 12, 'pouring_line': '2', 't': 126}, {'class': 'pouring', 'y': 0, 'size': 25, 'boiling_type': 'salt', 'time_size': 125, 'boiling_label': '2.7 Альче  8000кг', 'boiling_id': 1, 'melting_line': '3', 'block_num': 13, 'pouring_line': '2', 't': 132}]\n",
      "INFO:root:['Disposition', 34, 'melting', '[15:10, 18:30)', 'melting', '[15:40, 19:00)', {'class': 'melting', 't': 182, 'y': 10, 'time_size': 200, 'boiling_type': 'salt', 'boiling_label': '2.7 Альче  8000кг', 'boiling_id': 1, 'melting_line': '0', 'block_num': 12, 'pouring_line': '2', 'size': 40}, {'class': 'melting', 't': 188, 'y': 10, 'time_size': 200, 'boiling_type': 'salt', 'boiling_label': '2.7 Альче  8000кг', 'boiling_id': 1, 'melting_line': '0', 'block_num': 13, 'pouring_line': '3', 'size': 40}]\n",
      "INFO:root:['Disposition', 4, 'melting_process', '[15:40, 16:30)', 'melting_process', '[16:10, 17:00)', {'class': 'melting_process', 't': 188, 'y': 11, 'time_size': 50, 'boiling_type': 'salt', 'boiling_label': '2.7 Альче  8000кг', 'boiling_id': 1, 'speed': None, 'melting_line': '0', 'block_num': 12, 'pouring_line': '2', 'size': 10}, {'class': 'melting_process', 't': 194, 'y': 11, 'time_size': 50, 'boiling_type': 'salt', 'boiling_label': '2.7 Альче  8000кг', 'boiling_id': 1, 'speed': None, 'melting_line': '1', 'block_num': 13, 'pouring_line': '3', 'size': 10}]\n",
      "INFO:root:['Disposition', 4, 'melting_process', '[15:40, 16:30)', 'melting_process', '[16:10, 17:00)', {'class': 'melting_process', 't': 188, 'y': 11, 'time_size': 50, 'boiling_type': 'salt', 'boiling_label': '2.7 Альче  8000кг', 'boiling_id': 1, 'speed': None, 'melting_line': '0', 'block_num': 12, 'pouring_line': '2', 'size': 10}, {'class': 'melting_process', 't': 194, 'y': 11, 'time_size': 50, 'boiling_type': 'salt', 'boiling_label': '2.7 Альче  8000кг', 'boiling_id': 1, 'speed': None, 'melting_line': '2', 'block_num': 13, 'pouring_line': '3', 'size': 10}]\n",
      "INFO:root:['Disposition', 4, 'melting_process', '[15:40, 16:30)', 'melting_process', '[16:10, 17:00)', {'class': 'melting_process', 't': 188, 'y': 11, 'time_size': 50, 'boiling_type': 'salt', 'boiling_label': '2.7 Альче  8000кг', 'boiling_id': 1, 'speed': None, 'melting_line': '0', 'block_num': 12, 'pouring_line': '2', 'size': 10}, {'class': 'melting_process', 't': 194, 'y': 11, 'time_size': 50, 'boiling_type': 'salt', 'boiling_label': '2.7 Альче  8000кг', 'boiling_id': 1, 'speed': None, 'melting_line': '3', 'block_num': 13, 'pouring_line': '3', 'size': 10}]\n",
      "INFO:root:['All dispositions', [19, 19, 19, 19, 34, 4, 4, 4]]\n",
      "INFO:root:['Disposition', 15, 'pouring', '[10:30, 12:35)', 'pouring', '[11:20, 13:25)', {'class': 'pouring', 'y': 0, 'size': 25, 'boiling_type': 'salt', 'time_size': 125, 'boiling_label': '2.7 Альче  8000кг', 'boiling_id': 1, 'melting_line': '0', 'block_num': 12, 'pouring_line': '2', 't': 126}, {'class': 'pouring', 'y': 0, 'size': 25, 'boiling_type': 'salt', 'time_size': 125, 'boiling_label': '2.7 Альче  8000кг', 'boiling_id': 1, 'melting_line': '0', 'block_num': 13, 'pouring_line': '2', 't': 136}]\n",
      "INFO:root:['Disposition', 15, 'pouring', '[10:30, 12:35)', 'pouring', '[11:20, 13:25)', {'class': 'pouring', 'y': 0, 'size': 25, 'boiling_type': 'salt', 'time_size': 125, 'boiling_label': '2.7 Альче  8000кг', 'boiling_id': 1, 'melting_line': '0', 'block_num': 12, 'pouring_line': '2', 't': 126}, {'class': 'pouring', 'y': 0, 'size': 25, 'boiling_type': 'salt', 'time_size': 125, 'boiling_label': '2.7 Альче  8000кг', 'boiling_id': 1, 'melting_line': '1', 'block_num': 13, 'pouring_line': '2', 't': 136}]\n",
      "INFO:root:['Disposition', 15, 'pouring', '[10:30, 12:35)', 'pouring', '[11:20, 13:25)', {'class': 'pouring', 'y': 0, 'size': 25, 'boiling_type': 'salt', 'time_size': 125, 'boiling_label': '2.7 Альче  8000кг', 'boiling_id': 1, 'melting_line': '0', 'block_num': 12, 'pouring_line': '2', 't': 126}, {'class': 'pouring', 'y': 0, 'size': 25, 'boiling_type': 'salt', 'time_size': 125, 'boiling_label': '2.7 Альче  8000кг', 'boiling_id': 1, 'melting_line': '2', 'block_num': 13, 'pouring_line': '2', 't': 136}]\n",
      "INFO:root:['Disposition', 15, 'pouring', '[10:30, 12:35)', 'pouring', '[11:20, 13:25)', {'class': 'pouring', 'y': 0, 'size': 25, 'boiling_type': 'salt', 'time_size': 125, 'boiling_label': '2.7 Альче  8000кг', 'boiling_id': 1, 'melting_line': '0', 'block_num': 12, 'pouring_line': '2', 't': 126}, {'class': 'pouring', 'y': 0, 'size': 25, 'boiling_type': 'salt', 'time_size': 125, 'boiling_label': '2.7 Альче  8000кг', 'boiling_id': 1, 'melting_line': '3', 'block_num': 13, 'pouring_line': '2', 't': 136}]\n",
      "INFO:root:['Disposition', 30, 'melting', '[15:10, 18:30)', 'melting', '[16:00, 19:20)', {'class': 'melting', 't': 182, 'y': 10, 'time_size': 200, 'boiling_type': 'salt', 'boiling_label': '2.7 Альче  8000кг', 'boiling_id': 1, 'melting_line': '0', 'block_num': 12, 'pouring_line': '2', 'size': 40}, {'class': 'melting', 't': 192, 'y': 10, 'time_size': 200, 'boiling_type': 'salt', 'boiling_label': '2.7 Альче  8000кг', 'boiling_id': 1, 'melting_line': '0', 'block_num': 13, 'pouring_line': '3', 'size': 40}]\n",
      "INFO:root:['Disposition', 2, 'packing_and_preconfiguration', '[17:35, 18:40)', 'packing_and_preconfiguration', '[18:30, 19:20)', {'class': 'packing_and_preconfiguration', 't': 211, 'y': 0, 'time_size': 65, 'boiling_type': 'salt', 'boiling_label': '2.7 Альче  8000кг', 'boiling_id': 1, 'melting_line': '0', 'block_num': 12, 'pouring_line': '2', 'size': 13}, {'class': 'packing_and_preconfiguration', 't': 222, 'y': 0, 'time_size': 50, 'boiling_type': 'salt', 'boiling_label': '2.7 Альче  8000кг', 'boiling_id': 1, 'melting_line': '1', 'block_num': 13, 'pouring_line': '3', 'size': 10}]\n"
     ]
    },
    {
     "name": "stderr",
     "output_type": "stream",
     "text": [
      "INFO:root:['Disposition', 2, 'packing_and_preconfiguration', '[17:35, 18:40)', 'packing_and_preconfiguration', '[18:30, 19:20)', {'class': 'packing_and_preconfiguration', 't': 211, 'y': 0, 'time_size': 65, 'boiling_type': 'salt', 'boiling_label': '2.7 Альче  8000кг', 'boiling_id': 1, 'melting_line': '0', 'block_num': 12, 'pouring_line': '2', 'size': 13}, {'class': 'packing_and_preconfiguration', 't': 222, 'y': 0, 'time_size': 50, 'boiling_type': 'salt', 'boiling_label': '2.7 Альче  8000кг', 'boiling_id': 1, 'melting_line': '2', 'block_num': 13, 'pouring_line': '3', 'size': 10}]\n",
      "INFO:root:['Disposition', 2, 'packing_and_preconfiguration', '[17:35, 18:40)', 'packing_and_preconfiguration', '[18:30, 19:20)', {'class': 'packing_and_preconfiguration', 't': 211, 'y': 0, 'time_size': 65, 'boiling_type': 'salt', 'boiling_label': '2.7 Альче  8000кг', 'boiling_id': 1, 'melting_line': '0', 'block_num': 12, 'pouring_line': '2', 'size': 13}, {'class': 'packing_and_preconfiguration', 't': 222, 'y': 0, 'time_size': 50, 'boiling_type': 'salt', 'boiling_label': '2.7 Альче  8000кг', 'boiling_id': 1, 'melting_line': '3', 'block_num': 13, 'pouring_line': '3', 'size': 10}]\n",
      "INFO:root:['All dispositions', [15, 15, 15, 15, 30, 2, 2, 2]]\n",
      "INFO:root:['Disposition', 13, 'pouring', '[10:30, 12:35)', 'pouring', '[11:30, 13:35)', {'class': 'pouring', 'y': 0, 'size': 25, 'boiling_type': 'salt', 'time_size': 125, 'boiling_label': '2.7 Альче  8000кг', 'boiling_id': 1, 'melting_line': '0', 'block_num': 12, 'pouring_line': '2', 't': 126}, {'class': 'pouring', 'y': 0, 'size': 25, 'boiling_type': 'salt', 'time_size': 125, 'boiling_label': '2.7 Альче  8000кг', 'boiling_id': 1, 'melting_line': '0', 'block_num': 13, 'pouring_line': '2', 't': 138}]\n",
      "INFO:root:['Disposition', 13, 'pouring', '[10:30, 12:35)', 'pouring', '[11:30, 13:35)', {'class': 'pouring', 'y': 0, 'size': 25, 'boiling_type': 'salt', 'time_size': 125, 'boiling_label': '2.7 Альче  8000кг', 'boiling_id': 1, 'melting_line': '0', 'block_num': 12, 'pouring_line': '2', 't': 126}, {'class': 'pouring', 'y': 0, 'size': 25, 'boiling_type': 'salt', 'time_size': 125, 'boiling_label': '2.7 Альче  8000кг', 'boiling_id': 1, 'melting_line': '1', 'block_num': 13, 'pouring_line': '2', 't': 138}]\n",
      "INFO:root:['Disposition', 13, 'pouring', '[10:30, 12:35)', 'pouring', '[11:30, 13:35)', {'class': 'pouring', 'y': 0, 'size': 25, 'boiling_type': 'salt', 'time_size': 125, 'boiling_label': '2.7 Альче  8000кг', 'boiling_id': 1, 'melting_line': '0', 'block_num': 12, 'pouring_line': '2', 't': 126}, {'class': 'pouring', 'y': 0, 'size': 25, 'boiling_type': 'salt', 'time_size': 125, 'boiling_label': '2.7 Альче  8000кг', 'boiling_id': 1, 'melting_line': '2', 'block_num': 13, 'pouring_line': '2', 't': 138}]\n",
      "INFO:root:['Disposition', 13, 'pouring', '[10:30, 12:35)', 'pouring', '[11:30, 13:35)', {'class': 'pouring', 'y': 0, 'size': 25, 'boiling_type': 'salt', 'time_size': 125, 'boiling_label': '2.7 Альче  8000кг', 'boiling_id': 1, 'melting_line': '0', 'block_num': 12, 'pouring_line': '2', 't': 126}, {'class': 'pouring', 'y': 0, 'size': 25, 'boiling_type': 'salt', 'time_size': 125, 'boiling_label': '2.7 Альче  8000кг', 'boiling_id': 1, 'melting_line': '3', 'block_num': 13, 'pouring_line': '2', 't': 138}]\n",
      "INFO:root:['Disposition', 28, 'melting', '[15:10, 18:30)', 'melting', '[16:10, 19:30)', {'class': 'melting', 't': 182, 'y': 10, 'time_size': 200, 'boiling_type': 'salt', 'boiling_label': '2.7 Альче  8000кг', 'boiling_id': 1, 'melting_line': '0', 'block_num': 12, 'pouring_line': '2', 'size': 40}, {'class': 'melting', 't': 194, 'y': 10, 'time_size': 200, 'boiling_type': 'salt', 'boiling_label': '2.7 Альче  8000кг', 'boiling_id': 1, 'melting_line': '0', 'block_num': 13, 'pouring_line': '3', 'size': 40}]\n",
      "INFO:root:Fitting block 13\n",
      "INFO:root:['Disposition', 6, 'termizator', '[11:30, 12:00)', 'termizator', '[11:30, 12:00)', {'class': 'termizator', 'y': 0, 'size': 6, 'boiling_type': 'salt', 'time_size': 30, 'boiling_label': '2.7 Альче  8000кг', 'boiling_id': 1, 'melting_line': '1', 'block_num': 13, 'pouring_line': '3', 't': 138}, {'class': 'termizator', 'y': 0, 'size': 6, 'boiling_type': 'salt', 'time_size': 30, 'boiling_label': '2.7 Альче  8000кг', 'boiling_id': 1, 'melting_line': '0', 'block_num': 14, 'pouring_line': '2', 't': 138}]\n",
      "INFO:root:['Disposition', 6, 'termizator', '[11:30, 12:00)', 'termizator', '[11:30, 12:00)', {'class': 'termizator', 'y': 0, 'size': 6, 'boiling_type': 'salt', 'time_size': 30, 'boiling_label': '2.7 Альче  8000кг', 'boiling_id': 1, 'melting_line': '1', 'block_num': 13, 'pouring_line': '3', 't': 138}, {'class': 'termizator', 'y': 0, 'size': 6, 'boiling_type': 'salt', 'time_size': 30, 'boiling_label': '2.7 Альче  8000кг', 'boiling_id': 1, 'melting_line': '1', 'block_num': 14, 'pouring_line': '2', 't': 138}]\n",
      "INFO:root:['Disposition', 6, 'termizator', '[11:30, 12:00)', 'termizator', '[11:30, 12:00)', {'class': 'termizator', 'y': 0, 'size': 6, 'boiling_type': 'salt', 'time_size': 30, 'boiling_label': '2.7 Альче  8000кг', 'boiling_id': 1, 'melting_line': '1', 'block_num': 13, 'pouring_line': '3', 't': 138}, {'class': 'termizator', 'y': 0, 'size': 6, 'boiling_type': 'salt', 'time_size': 30, 'boiling_label': '2.7 Альче  8000кг', 'boiling_id': 1, 'melting_line': '2', 'block_num': 14, 'pouring_line': '2', 't': 138}]\n",
      "INFO:root:['Disposition', 6, 'termizator', '[11:30, 12:00)', 'termizator', '[11:30, 12:00)', {'class': 'termizator', 'y': 0, 'size': 6, 'boiling_type': 'salt', 'time_size': 30, 'boiling_label': '2.7 Альче  8000кг', 'boiling_id': 1, 'melting_line': '1', 'block_num': 13, 'pouring_line': '3', 't': 138}, {'class': 'termizator', 'y': 0, 'size': 6, 'boiling_type': 'salt', 'time_size': 30, 'boiling_label': '2.7 Альче  8000кг', 'boiling_id': 1, 'melting_line': '3', 'block_num': 14, 'pouring_line': '2', 't': 138}]\n",
      "INFO:root:['Disposition', 6, 'termizator', '[11:30, 12:00)', 'termizator', '[11:30, 12:00)', {'class': 'termizator', 'y': 0, 'size': 6, 'boiling_type': 'salt', 'time_size': 30, 'boiling_label': '2.7 Альче  8000кг', 'boiling_id': 1, 'melting_line': '1', 'block_num': 13, 'pouring_line': '3', 't': 138}, {'class': 'termizator', 'y': 0, 'size': 6, 'boiling_type': 'salt', 'time_size': 30, 'boiling_label': '2.7 Альче  8000кг', 'boiling_id': 1, 'melting_line': '0', 'block_num': 14, 'pouring_line': '3', 't': 138}]\n",
      "INFO:root:['Disposition', 6, 'termizator', '[11:30, 12:00)', 'termizator', '[11:30, 12:00)', {'class': 'termizator', 'y': 0, 'size': 6, 'boiling_type': 'salt', 'time_size': 30, 'boiling_label': '2.7 Альче  8000кг', 'boiling_id': 1, 'melting_line': '1', 'block_num': 13, 'pouring_line': '3', 't': 138}, {'class': 'termizator', 'y': 0, 'size': 6, 'boiling_type': 'salt', 'time_size': 30, 'boiling_label': '2.7 Альче  8000кг', 'boiling_id': 1, 'melting_line': '1', 'block_num': 14, 'pouring_line': '3', 't': 138}]\n",
      "INFO:root:['Disposition', 6, 'termizator', '[11:30, 12:00)', 'termizator', '[11:30, 12:00)', {'class': 'termizator', 'y': 0, 'size': 6, 'boiling_type': 'salt', 'time_size': 30, 'boiling_label': '2.7 Альче  8000кг', 'boiling_id': 1, 'melting_line': '1', 'block_num': 13, 'pouring_line': '3', 't': 138}, {'class': 'termizator', 'y': 0, 'size': 6, 'boiling_type': 'salt', 'time_size': 30, 'boiling_label': '2.7 Альче  8000кг', 'boiling_id': 1, 'melting_line': '2', 'block_num': 14, 'pouring_line': '3', 't': 138}]\n",
      "INFO:root:['Disposition', 6, 'termizator', '[11:30, 12:00)', 'termizator', '[11:30, 12:00)', {'class': 'termizator', 'y': 0, 'size': 6, 'boiling_type': 'salt', 'time_size': 30, 'boiling_label': '2.7 Альче  8000кг', 'boiling_id': 1, 'melting_line': '1', 'block_num': 13, 'pouring_line': '3', 't': 138}, {'class': 'termizator', 'y': 0, 'size': 6, 'boiling_type': 'salt', 'time_size': 30, 'boiling_label': '2.7 Альче  8000кг', 'boiling_id': 1, 'melting_line': '3', 'block_num': 14, 'pouring_line': '3', 't': 138}]\n",
      "INFO:root:['All dispositions', [6, 6, 6, 6, 6, 6, 6, 6]]\n",
      "INFO:root:['Disposition', 4, 'melting_process', '[16:40, 17:30)', 'melting_process', '[17:10, 18:00)', {'class': 'melting_process', 't': 200, 'y': 11, 'time_size': 50, 'boiling_type': 'salt', 'boiling_label': '2.7 Альче  8000кг', 'boiling_id': 1, 'speed': None, 'melting_line': '1', 'block_num': 13, 'pouring_line': '3', 'size': 10}, {'class': 'melting_process', 't': 206, 'y': 11, 'time_size': 50, 'boiling_type': 'salt', 'boiling_label': '2.7 Альче  8000кг', 'boiling_id': 1, 'speed': None, 'melting_line': '0', 'block_num': 14, 'pouring_line': '2', 'size': 10}]\n"
     ]
    },
    {
     "name": "stderr",
     "output_type": "stream",
     "text": [
      "INFO:root:['Disposition', 34, 'melting', '[16:10, 19:30)', 'melting', '[16:40, 20:00)', {'class': 'melting', 't': 194, 'y': 10, 'time_size': 200, 'boiling_type': 'salt', 'boiling_label': '2.7 Альче  8000кг', 'boiling_id': 1, 'melting_line': '1', 'block_num': 13, 'pouring_line': '3', 'size': 40}, {'class': 'melting', 't': 200, 'y': 10, 'time_size': 200, 'boiling_type': 'salt', 'boiling_label': '2.7 Альче  8000кг', 'boiling_id': 1, 'melting_line': '1', 'block_num': 14, 'pouring_line': '2', 'size': 40}]\n",
      "INFO:root:['Disposition', 4, 'melting_process', '[16:40, 17:30)', 'melting_process', '[17:10, 18:00)', {'class': 'melting_process', 't': 200, 'y': 11, 'time_size': 50, 'boiling_type': 'salt', 'boiling_label': '2.7 Альче  8000кг', 'boiling_id': 1, 'speed': None, 'melting_line': '1', 'block_num': 13, 'pouring_line': '3', 'size': 10}, {'class': 'melting_process', 't': 206, 'y': 11, 'time_size': 50, 'boiling_type': 'salt', 'boiling_label': '2.7 Альче  8000кг', 'boiling_id': 1, 'speed': None, 'melting_line': '2', 'block_num': 14, 'pouring_line': '2', 'size': 10}]\n",
      "INFO:root:['Disposition', 4, 'melting_process', '[16:40, 17:30)', 'melting_process', '[17:10, 18:00)', {'class': 'melting_process', 't': 200, 'y': 11, 'time_size': 50, 'boiling_type': 'salt', 'boiling_label': '2.7 Альче  8000кг', 'boiling_id': 1, 'speed': None, 'melting_line': '1', 'block_num': 13, 'pouring_line': '3', 'size': 10}, {'class': 'melting_process', 't': 206, 'y': 11, 'time_size': 50, 'boiling_type': 'salt', 'boiling_label': '2.7 Альче  8000кг', 'boiling_id': 1, 'speed': None, 'melting_line': '3', 'block_num': 14, 'pouring_line': '2', 'size': 10}]\n",
      "INFO:root:['Disposition', 19, 'pouring', '[11:30, 13:35)', 'pouring', '[12:00, 14:05)', {'class': 'pouring', 'y': 0, 'size': 25, 'boiling_type': 'salt', 'time_size': 125, 'boiling_label': '2.7 Альче  8000кг', 'boiling_id': 1, 'melting_line': '1', 'block_num': 13, 'pouring_line': '3', 't': 138}, {'class': 'pouring', 'y': 0, 'size': 25, 'boiling_type': 'salt', 'time_size': 125, 'boiling_label': '2.7 Альче  8000кг', 'boiling_id': 1, 'melting_line': '0', 'block_num': 14, 'pouring_line': '3', 't': 144}]\n",
      "INFO:root:['Disposition', 19, 'pouring', '[11:30, 13:35)', 'pouring', '[12:00, 14:05)', {'class': 'pouring', 'y': 0, 'size': 25, 'boiling_type': 'salt', 'time_size': 125, 'boiling_label': '2.7 Альче  8000кг', 'boiling_id': 1, 'melting_line': '1', 'block_num': 13, 'pouring_line': '3', 't': 138}, {'class': 'pouring', 'y': 0, 'size': 25, 'boiling_type': 'salt', 'time_size': 125, 'boiling_label': '2.7 Альче  8000кг', 'boiling_id': 1, 'melting_line': '1', 'block_num': 14, 'pouring_line': '3', 't': 144}]\n",
      "INFO:root:['Disposition', 19, 'pouring', '[11:30, 13:35)', 'pouring', '[12:00, 14:05)', {'class': 'pouring', 'y': 0, 'size': 25, 'boiling_type': 'salt', 'time_size': 125, 'boiling_label': '2.7 Альче  8000кг', 'boiling_id': 1, 'melting_line': '1', 'block_num': 13, 'pouring_line': '3', 't': 138}, {'class': 'pouring', 'y': 0, 'size': 25, 'boiling_type': 'salt', 'time_size': 125, 'boiling_label': '2.7 Альче  8000кг', 'boiling_id': 1, 'melting_line': '2', 'block_num': 14, 'pouring_line': '3', 't': 144}]\n",
      "INFO:root:['Disposition', 19, 'pouring', '[11:30, 13:35)', 'pouring', '[12:00, 14:05)', {'class': 'pouring', 'y': 0, 'size': 25, 'boiling_type': 'salt', 'time_size': 125, 'boiling_label': '2.7 Альче  8000кг', 'boiling_id': 1, 'melting_line': '1', 'block_num': 13, 'pouring_line': '3', 't': 138}, {'class': 'pouring', 'y': 0, 'size': 25, 'boiling_type': 'salt', 'time_size': 125, 'boiling_label': '2.7 Альче  8000кг', 'boiling_id': 1, 'melting_line': '3', 'block_num': 14, 'pouring_line': '3', 't': 144}]\n",
      "INFO:root:['All dispositions', [4, 34, 4, 4, 19, 19, 19, 19]]\n",
      "INFO:root:['Disposition', 1, 'packing_and_preconfiguration', '[18:40, 19:30)', 'packing_and_preconfiguration', '[19:25, 20:30)', {'class': 'packing_and_preconfiguration', 't': 224, 'y': 0, 'time_size': 50, 'boiling_type': 'salt', 'boiling_label': '2.7 Альче  8000кг', 'boiling_id': 1, 'melting_line': '1', 'block_num': 13, 'pouring_line': '3', 'size': 10}, {'class': 'packing_and_preconfiguration', 't': 233, 'y': 0, 'time_size': 65, 'boiling_type': 'salt', 'boiling_label': '2.7 Альче  8000кг', 'boiling_id': 1, 'melting_line': '0', 'block_num': 14, 'pouring_line': '2', 'size': 13}]\n",
      "INFO:root:['Disposition', 30, 'melting', '[16:10, 19:30)', 'melting', '[17:00, 20:20)', {'class': 'melting', 't': 194, 'y': 10, 'time_size': 200, 'boiling_type': 'salt', 'boiling_label': '2.7 Альче  8000кг', 'boiling_id': 1, 'melting_line': '1', 'block_num': 13, 'pouring_line': '3', 'size': 40}, {'class': 'melting', 't': 204, 'y': 10, 'time_size': 200, 'boiling_type': 'salt', 'boiling_label': '2.7 Альче  8000кг', 'boiling_id': 1, 'melting_line': '1', 'block_num': 14, 'pouring_line': '2', 'size': 40}]\n",
      "INFO:root:['Disposition', 1, 'packing_and_preconfiguration', '[18:40, 19:30)', 'packing_and_preconfiguration', '[19:25, 20:30)', {'class': 'packing_and_preconfiguration', 't': 224, 'y': 0, 'time_size': 50, 'boiling_type': 'salt', 'boiling_label': '2.7 Альче  8000кг', 'boiling_id': 1, 'melting_line': '1', 'block_num': 13, 'pouring_line': '3', 'size': 10}, {'class': 'packing_and_preconfiguration', 't': 233, 'y': 0, 'time_size': 65, 'boiling_type': 'salt', 'boiling_label': '2.7 Альче  8000кг', 'boiling_id': 1, 'melting_line': '2', 'block_num': 14, 'pouring_line': '2', 'size': 13}]\n",
      "INFO:root:['Disposition', 1, 'packing_and_preconfiguration', '[18:40, 19:30)', 'packing_and_preconfiguration', '[19:25, 20:30)', {'class': 'packing_and_preconfiguration', 't': 224, 'y': 0, 'time_size': 50, 'boiling_type': 'salt', 'boiling_label': '2.7 Альче  8000кг', 'boiling_id': 1, 'melting_line': '1', 'block_num': 13, 'pouring_line': '3', 'size': 10}, {'class': 'packing_and_preconfiguration', 't': 233, 'y': 0, 'time_size': 65, 'boiling_type': 'salt', 'boiling_label': '2.7 Альче  8000кг', 'boiling_id': 1, 'melting_line': '3', 'block_num': 14, 'pouring_line': '2', 'size': 13}]\n",
      "INFO:root:['Disposition', 15, 'pouring', '[11:30, 13:35)', 'pouring', '[12:20, 14:25)', {'class': 'pouring', 'y': 0, 'size': 25, 'boiling_type': 'salt', 'time_size': 125, 'boiling_label': '2.7 Альче  8000кг', 'boiling_id': 1, 'melting_line': '1', 'block_num': 13, 'pouring_line': '3', 't': 138}, {'class': 'pouring', 'y': 0, 'size': 25, 'boiling_type': 'salt', 'time_size': 125, 'boiling_label': '2.7 Альче  8000кг', 'boiling_id': 1, 'melting_line': '0', 'block_num': 14, 'pouring_line': '3', 't': 148}]\n",
      "INFO:root:['Disposition', 15, 'pouring', '[11:30, 13:35)', 'pouring', '[12:20, 14:25)', {'class': 'pouring', 'y': 0, 'size': 25, 'boiling_type': 'salt', 'time_size': 125, 'boiling_label': '2.7 Альче  8000кг', 'boiling_id': 1, 'melting_line': '1', 'block_num': 13, 'pouring_line': '3', 't': 138}, {'class': 'pouring', 'y': 0, 'size': 25, 'boiling_type': 'salt', 'time_size': 125, 'boiling_label': '2.7 Альче  8000кг', 'boiling_id': 1, 'melting_line': '1', 'block_num': 14, 'pouring_line': '3', 't': 148}]\n",
      "INFO:root:['Disposition', 15, 'pouring', '[11:30, 13:35)', 'pouring', '[12:20, 14:25)', {'class': 'pouring', 'y': 0, 'size': 25, 'boiling_type': 'salt', 'time_size': 125, 'boiling_label': '2.7 Альче  8000кг', 'boiling_id': 1, 'melting_line': '1', 'block_num': 13, 'pouring_line': '3', 't': 138}, {'class': 'pouring', 'y': 0, 'size': 25, 'boiling_type': 'salt', 'time_size': 125, 'boiling_label': '2.7 Альче  8000кг', 'boiling_id': 1, 'melting_line': '2', 'block_num': 14, 'pouring_line': '3', 't': 148}]\n",
      "INFO:root:['Disposition', 15, 'pouring', '[11:30, 13:35)', 'pouring', '[12:20, 14:25)', {'class': 'pouring', 'y': 0, 'size': 25, 'boiling_type': 'salt', 'time_size': 125, 'boiling_label': '2.7 Альче  8000кг', 'boiling_id': 1, 'melting_line': '1', 'block_num': 13, 'pouring_line': '3', 't': 138}, {'class': 'pouring', 'y': 0, 'size': 25, 'boiling_type': 'salt', 'time_size': 125, 'boiling_label': '2.7 Альче  8000кг', 'boiling_id': 1, 'melting_line': '3', 'block_num': 14, 'pouring_line': '3', 't': 148}]\n",
      "INFO:root:['All dispositions', [1, 30, 1, 1, 15, 15, 15, 15]]\n",
      "INFO:root:['Disposition', 2, 'pouring', '[10:30, 12:35)', 'pouring', '[12:25, 14:30)', {'class': 'pouring', 'y': 0, 'size': 25, 'boiling_type': 'salt', 'time_size': 125, 'boiling_label': '2.7 Альче  8000кг', 'boiling_id': 1, 'melting_line': '0', 'block_num': 12, 'pouring_line': '2', 't': 126}, {'class': 'pouring', 'y': 0, 'size': 25, 'boiling_type': 'salt', 'time_size': 125, 'boiling_label': '2.7 Альче  8000кг', 'boiling_id': 1, 'melting_line': '0', 'block_num': 14, 'pouring_line': '2', 't': 149}]\n"
     ]
    },
    {
     "name": "stderr",
     "output_type": "stream",
     "text": [
      "INFO:root:['Disposition', 29, 'melting', '[16:10, 19:30)', 'melting', '[17:05, 20:25)', {'class': 'melting', 't': 194, 'y': 10, 'time_size': 200, 'boiling_type': 'salt', 'boiling_label': '2.7 Альче  8000кг', 'boiling_id': 1, 'melting_line': '1', 'block_num': 13, 'pouring_line': '3', 'size': 40}, {'class': 'melting', 't': 205, 'y': 10, 'time_size': 200, 'boiling_type': 'salt', 'boiling_label': '2.7 Альче  8000кг', 'boiling_id': 1, 'melting_line': '1', 'block_num': 14, 'pouring_line': '2', 'size': 40}]\n",
      "INFO:root:['Disposition', 2, 'pouring', '[10:30, 12:35)', 'pouring', '[12:25, 14:30)', {'class': 'pouring', 'y': 0, 'size': 25, 'boiling_type': 'salt', 'time_size': 125, 'boiling_label': '2.7 Альче  8000кг', 'boiling_id': 1, 'melting_line': '0', 'block_num': 12, 'pouring_line': '2', 't': 126}, {'class': 'pouring', 'y': 0, 'size': 25, 'boiling_type': 'salt', 'time_size': 125, 'boiling_label': '2.7 Альче  8000кг', 'boiling_id': 1, 'melting_line': '2', 'block_num': 14, 'pouring_line': '2', 't': 149}]\n",
      "INFO:root:['Disposition', 2, 'pouring', '[10:30, 12:35)', 'pouring', '[12:25, 14:30)', {'class': 'pouring', 'y': 0, 'size': 25, 'boiling_type': 'salt', 'time_size': 125, 'boiling_label': '2.7 Альче  8000кг', 'boiling_id': 1, 'melting_line': '0', 'block_num': 12, 'pouring_line': '2', 't': 126}, {'class': 'pouring', 'y': 0, 'size': 25, 'boiling_type': 'salt', 'time_size': 125, 'boiling_label': '2.7 Альче  8000кг', 'boiling_id': 1, 'melting_line': '3', 'block_num': 14, 'pouring_line': '2', 't': 149}]\n",
      "INFO:root:['Disposition', 14, 'pouring', '[11:30, 13:35)', 'pouring', '[12:25, 14:30)', {'class': 'pouring', 'y': 0, 'size': 25, 'boiling_type': 'salt', 'time_size': 125, 'boiling_label': '2.7 Альче  8000кг', 'boiling_id': 1, 'melting_line': '1', 'block_num': 13, 'pouring_line': '3', 't': 138}, {'class': 'pouring', 'y': 0, 'size': 25, 'boiling_type': 'salt', 'time_size': 125, 'boiling_label': '2.7 Альче  8000кг', 'boiling_id': 1, 'melting_line': '0', 'block_num': 14, 'pouring_line': '3', 't': 149}]\n",
      "INFO:root:['Disposition', 14, 'pouring', '[11:30, 13:35)', 'pouring', '[12:25, 14:30)', {'class': 'pouring', 'y': 0, 'size': 25, 'boiling_type': 'salt', 'time_size': 125, 'boiling_label': '2.7 Альче  8000кг', 'boiling_id': 1, 'melting_line': '1', 'block_num': 13, 'pouring_line': '3', 't': 138}, {'class': 'pouring', 'y': 0, 'size': 25, 'boiling_type': 'salt', 'time_size': 125, 'boiling_label': '2.7 Альче  8000кг', 'boiling_id': 1, 'melting_line': '1', 'block_num': 14, 'pouring_line': '3', 't': 149}]\n",
      "INFO:root:['Disposition', 14, 'pouring', '[11:30, 13:35)', 'pouring', '[12:25, 14:30)', {'class': 'pouring', 'y': 0, 'size': 25, 'boiling_type': 'salt', 'time_size': 125, 'boiling_label': '2.7 Альче  8000кг', 'boiling_id': 1, 'melting_line': '1', 'block_num': 13, 'pouring_line': '3', 't': 138}, {'class': 'pouring', 'y': 0, 'size': 25, 'boiling_type': 'salt', 'time_size': 125, 'boiling_label': '2.7 Альче  8000кг', 'boiling_id': 1, 'melting_line': '2', 'block_num': 14, 'pouring_line': '3', 't': 149}]\n",
      "INFO:root:['Disposition', 14, 'pouring', '[11:30, 13:35)', 'pouring', '[12:25, 14:30)', {'class': 'pouring', 'y': 0, 'size': 25, 'boiling_type': 'salt', 'time_size': 125, 'boiling_label': '2.7 Альче  8000кг', 'boiling_id': 1, 'melting_line': '1', 'block_num': 13, 'pouring_line': '3', 't': 138}, {'class': 'pouring', 'y': 0, 'size': 25, 'boiling_type': 'salt', 'time_size': 125, 'boiling_label': '2.7 Альче  8000кг', 'boiling_id': 1, 'melting_line': '3', 'block_num': 14, 'pouring_line': '3', 't': 149}]\n",
      "INFO:root:['All dispositions', [2, 29, 2, 2, 14, 14, 14, 14]]\n",
      "INFO:root:['Disposition', 15, 'melting', '[15:10, 18:30)', 'melting', '[17:15, 20:35)', {'class': 'melting', 't': 182, 'y': 10, 'time_size': 200, 'boiling_type': 'salt', 'boiling_label': '2.7 Альче  8000кг', 'boiling_id': 1, 'melting_line': '0', 'block_num': 12, 'pouring_line': '2', 'size': 40}, {'class': 'melting', 't': 207, 'y': 10, 'time_size': 200, 'boiling_type': 'salt', 'boiling_label': '2.7 Альче  8000кг', 'boiling_id': 1, 'melting_line': '0', 'block_num': 14, 'pouring_line': '2', 'size': 40}]\n",
      "INFO:root:['Disposition', 27, 'melting', '[16:10, 19:30)', 'melting', '[17:15, 20:35)', {'class': 'melting', 't': 194, 'y': 10, 'time_size': 200, 'boiling_type': 'salt', 'boiling_label': '2.7 Альче  8000кг', 'boiling_id': 1, 'melting_line': '1', 'block_num': 13, 'pouring_line': '3', 'size': 40}, {'class': 'melting', 't': 207, 'y': 10, 'time_size': 200, 'boiling_type': 'salt', 'boiling_label': '2.7 Альче  8000кг', 'boiling_id': 1, 'melting_line': '1', 'block_num': 14, 'pouring_line': '2', 'size': 40}]\n",
      "INFO:root:Fitting block 14\n",
      "INFO:root:['Disposition', 6, 'termizator', '[12:35, 13:05)', 'termizator', '[12:35, 13:05)', {'class': 'termizator', 'y': 0, 'size': 6, 'boiling_type': 'salt', 'time_size': 30, 'boiling_label': '2.7 Альче  8000кг', 'boiling_id': 1, 'melting_line': '2', 'block_num': 14, 'pouring_line': '2', 't': 151}, {'class': 'termizator', 'y': 0, 'size': 6, 'boiling_type': 'salt', 'time_size': 30, 'boiling_label': '2.7 Сакко  8000кг', 'boiling_id': 2, 'melting_line': '0', 'block_num': 15, 'pouring_line': '2', 't': 151}]\n",
      "INFO:root:['Disposition', 6, 'termizator', '[12:35, 13:05)', 'termizator', '[12:35, 13:05)', {'class': 'termizator', 'y': 0, 'size': 6, 'boiling_type': 'salt', 'time_size': 30, 'boiling_label': '2.7 Альче  8000кг', 'boiling_id': 1, 'melting_line': '2', 'block_num': 14, 'pouring_line': '2', 't': 151}, {'class': 'termizator', 'y': 0, 'size': 6, 'boiling_type': 'salt', 'time_size': 30, 'boiling_label': '2.7 Сакко  8000кг', 'boiling_id': 2, 'melting_line': '1', 'block_num': 15, 'pouring_line': '2', 't': 151}]\n",
      "INFO:root:['Disposition', 6, 'termizator', '[12:35, 13:05)', 'termizator', '[12:35, 13:05)', {'class': 'termizator', 'y': 0, 'size': 6, 'boiling_type': 'salt', 'time_size': 30, 'boiling_label': '2.7 Альче  8000кг', 'boiling_id': 1, 'melting_line': '2', 'block_num': 14, 'pouring_line': '2', 't': 151}, {'class': 'termizator', 'y': 0, 'size': 6, 'boiling_type': 'salt', 'time_size': 30, 'boiling_label': '2.7 Сакко  8000кг', 'boiling_id': 2, 'melting_line': '2', 'block_num': 15, 'pouring_line': '2', 't': 151}]\n",
      "INFO:root:['Disposition', 6, 'termizator', '[12:35, 13:05)', 'termizator', '[12:35, 13:05)', {'class': 'termizator', 'y': 0, 'size': 6, 'boiling_type': 'salt', 'time_size': 30, 'boiling_label': '2.7 Альче  8000кг', 'boiling_id': 1, 'melting_line': '2', 'block_num': 14, 'pouring_line': '2', 't': 151}, {'class': 'termizator', 'y': 0, 'size': 6, 'boiling_type': 'salt', 'time_size': 30, 'boiling_label': '2.7 Сакко  8000кг', 'boiling_id': 2, 'melting_line': '3', 'block_num': 15, 'pouring_line': '2', 't': 151}]\n",
      "INFO:root:['Disposition', 6, 'termizator', '[12:35, 13:05)', 'termizator', '[12:35, 13:05)', {'class': 'termizator', 'y': 0, 'size': 6, 'boiling_type': 'salt', 'time_size': 30, 'boiling_label': '2.7 Альче  8000кг', 'boiling_id': 1, 'melting_line': '2', 'block_num': 14, 'pouring_line': '2', 't': 151}, {'class': 'termizator', 'y': 0, 'size': 6, 'boiling_type': 'salt', 'time_size': 30, 'boiling_label': '2.7 Сакко  8000кг', 'boiling_id': 2, 'melting_line': '0', 'block_num': 15, 'pouring_line': '3', 't': 151}]\n",
      "INFO:root:['Disposition', 6, 'termizator', '[12:35, 13:05)', 'termizator', '[12:35, 13:05)', {'class': 'termizator', 'y': 0, 'size': 6, 'boiling_type': 'salt', 'time_size': 30, 'boiling_label': '2.7 Альче  8000кг', 'boiling_id': 1, 'melting_line': '2', 'block_num': 14, 'pouring_line': '2', 't': 151}, {'class': 'termizator', 'y': 0, 'size': 6, 'boiling_type': 'salt', 'time_size': 30, 'boiling_label': '2.7 Сакко  8000кг', 'boiling_id': 2, 'melting_line': '1', 'block_num': 15, 'pouring_line': '3', 't': 151}]\n",
      "INFO:root:['Disposition', 6, 'termizator', '[12:35, 13:05)', 'termizator', '[12:35, 13:05)', {'class': 'termizator', 'y': 0, 'size': 6, 'boiling_type': 'salt', 'time_size': 30, 'boiling_label': '2.7 Альче  8000кг', 'boiling_id': 1, 'melting_line': '2', 'block_num': 14, 'pouring_line': '2', 't': 151}, {'class': 'termizator', 'y': 0, 'size': 6, 'boiling_type': 'salt', 'time_size': 30, 'boiling_label': '2.7 Сакко  8000кг', 'boiling_id': 2, 'melting_line': '2', 'block_num': 15, 'pouring_line': '3', 't': 151}]\n"
     ]
    },
    {
     "name": "stderr",
     "output_type": "stream",
     "text": [
      "INFO:root:['Disposition', 6, 'termizator', '[12:35, 13:05)', 'termizator', '[12:35, 13:05)', {'class': 'termizator', 'y': 0, 'size': 6, 'boiling_type': 'salt', 'time_size': 30, 'boiling_label': '2.7 Альче  8000кг', 'boiling_id': 1, 'melting_line': '2', 'block_num': 14, 'pouring_line': '2', 't': 151}, {'class': 'termizator', 'y': 0, 'size': 6, 'boiling_type': 'salt', 'time_size': 30, 'boiling_label': '2.7 Сакко  8000кг', 'boiling_id': 2, 'melting_line': '3', 'block_num': 15, 'pouring_line': '3', 't': 151}]\n",
      "INFO:root:['All dispositions', [6, 6, 6, 6, 6, 6, 6, 6]]\n",
      "INFO:root:['Disposition', 19, 'pouring', '[12:35, 14:40)', 'pouring', '[13:05, 15:10)', {'class': 'pouring', 'y': 0, 'size': 25, 'boiling_type': 'salt', 'time_size': 125, 'boiling_label': '2.7 Альче  8000кг', 'boiling_id': 1, 'melting_line': '2', 'block_num': 14, 'pouring_line': '2', 't': 151}, {'class': 'pouring', 'y': 0, 'size': 25, 'boiling_type': 'salt', 'time_size': 125, 'boiling_label': '2.7 Сакко  8000кг', 'boiling_id': 2, 'melting_line': '0', 'block_num': 15, 'pouring_line': '2', 't': 157}]\n",
      "INFO:root:['Disposition', 19, 'pouring', '[12:35, 14:40)', 'pouring', '[13:05, 15:10)', {'class': 'pouring', 'y': 0, 'size': 25, 'boiling_type': 'salt', 'time_size': 125, 'boiling_label': '2.7 Альче  8000кг', 'boiling_id': 1, 'melting_line': '2', 'block_num': 14, 'pouring_line': '2', 't': 151}, {'class': 'pouring', 'y': 0, 'size': 25, 'boiling_type': 'salt', 'time_size': 125, 'boiling_label': '2.7 Сакко  8000кг', 'boiling_id': 2, 'melting_line': '1', 'block_num': 15, 'pouring_line': '2', 't': 157}]\n",
      "INFO:root:['Disposition', 19, 'pouring', '[12:35, 14:40)', 'pouring', '[13:05, 15:10)', {'class': 'pouring', 'y': 0, 'size': 25, 'boiling_type': 'salt', 'time_size': 125, 'boiling_label': '2.7 Альче  8000кг', 'boiling_id': 1, 'melting_line': '2', 'block_num': 14, 'pouring_line': '2', 't': 151}, {'class': 'pouring', 'y': 0, 'size': 25, 'boiling_type': 'salt', 'time_size': 125, 'boiling_label': '2.7 Сакко  8000кг', 'boiling_id': 2, 'melting_line': '2', 'block_num': 15, 'pouring_line': '2', 't': 157}]\n",
      "INFO:root:['Disposition', 19, 'pouring', '[12:35, 14:40)', 'pouring', '[13:05, 15:10)', {'class': 'pouring', 'y': 0, 'size': 25, 'boiling_type': 'salt', 'time_size': 125, 'boiling_label': '2.7 Альче  8000кг', 'boiling_id': 1, 'melting_line': '2', 'block_num': 14, 'pouring_line': '2', 't': 151}, {'class': 'pouring', 'y': 0, 'size': 25, 'boiling_type': 'salt', 'time_size': 125, 'boiling_label': '2.7 Сакко  8000кг', 'boiling_id': 2, 'melting_line': '3', 'block_num': 15, 'pouring_line': '2', 't': 157}]\n",
      "INFO:root:['Disposition', 4, 'melting_process', '[17:45, 18:35)', 'melting_process', '[18:15, 19:05)', {'class': 'melting_process', 't': 213, 'y': 11, 'time_size': 50, 'boiling_type': 'salt', 'boiling_label': '2.7 Альче  8000кг', 'boiling_id': 1, 'speed': None, 'melting_line': '2', 'block_num': 14, 'pouring_line': '2', 'size': 10}, {'class': 'melting_process', 't': 219, 'y': 11, 'time_size': 50, 'boiling_type': 'salt', 'boiling_label': '2.7 Сакко  8000кг', 'boiling_id': 2, 'speed': None, 'melting_line': '0', 'block_num': 15, 'pouring_line': '3', 'size': 10}]\n",
      "INFO:root:['Disposition', 4, 'melting_process', '[17:45, 18:35)', 'melting_process', '[18:15, 19:05)', {'class': 'melting_process', 't': 213, 'y': 11, 'time_size': 50, 'boiling_type': 'salt', 'boiling_label': '2.7 Альче  8000кг', 'boiling_id': 1, 'speed': None, 'melting_line': '2', 'block_num': 14, 'pouring_line': '2', 'size': 10}, {'class': 'melting_process', 't': 219, 'y': 11, 'time_size': 50, 'boiling_type': 'salt', 'boiling_label': '2.7 Сакко  8000кг', 'boiling_id': 2, 'speed': None, 'melting_line': '1', 'block_num': 15, 'pouring_line': '3', 'size': 10}]\n",
      "INFO:root:['Disposition', 34, 'melting', '[17:15, 20:35)', 'melting', '[17:45, 20:35)', {'class': 'melting', 't': 207, 'y': 10, 'time_size': 200, 'boiling_type': 'salt', 'boiling_label': '2.7 Альче  8000кг', 'boiling_id': 1, 'melting_line': '2', 'block_num': 14, 'pouring_line': '2', 'size': 40}, {'class': 'melting', 't': 213, 'y': 10, 'time_size': 170, 'boiling_type': 'salt', 'boiling_label': '2.7 Сакко  8000кг', 'boiling_id': 2, 'melting_line': '2', 'block_num': 15, 'pouring_line': '3', 'size': 34}]\n",
      "INFO:root:['Disposition', 4, 'melting_process', '[17:45, 18:35)', 'melting_process', '[18:15, 19:05)', {'class': 'melting_process', 't': 213, 'y': 11, 'time_size': 50, 'boiling_type': 'salt', 'boiling_label': '2.7 Альче  8000кг', 'boiling_id': 1, 'speed': None, 'melting_line': '2', 'block_num': 14, 'pouring_line': '2', 'size': 10}, {'class': 'melting_process', 't': 219, 'y': 11, 'time_size': 50, 'boiling_type': 'salt', 'boiling_label': '2.7 Сакко  8000кг', 'boiling_id': 2, 'speed': None, 'melting_line': '3', 'block_num': 15, 'pouring_line': '3', 'size': 10}]\n",
      "INFO:root:['All dispositions', [19, 19, 19, 19, 4, 4, 34, 4]]\n",
      "INFO:root:['Disposition', 15, 'pouring', '[12:35, 14:40)', 'pouring', '[13:25, 15:30)', {'class': 'pouring', 'y': 0, 'size': 25, 'boiling_type': 'salt', 'time_size': 125, 'boiling_label': '2.7 Альче  8000кг', 'boiling_id': 1, 'melting_line': '2', 'block_num': 14, 'pouring_line': '2', 't': 151}, {'class': 'pouring', 'y': 0, 'size': 25, 'boiling_type': 'salt', 'time_size': 125, 'boiling_label': '2.7 Сакко  8000кг', 'boiling_id': 2, 'melting_line': '0', 'block_num': 15, 'pouring_line': '2', 't': 161}]\n",
      "INFO:root:['Disposition', 15, 'pouring', '[12:35, 14:40)', 'pouring', '[13:25, 15:30)', {'class': 'pouring', 'y': 0, 'size': 25, 'boiling_type': 'salt', 'time_size': 125, 'boiling_label': '2.7 Альче  8000кг', 'boiling_id': 1, 'melting_line': '2', 'block_num': 14, 'pouring_line': '2', 't': 151}, {'class': 'pouring', 'y': 0, 'size': 25, 'boiling_type': 'salt', 'time_size': 125, 'boiling_label': '2.7 Сакко  8000кг', 'boiling_id': 2, 'melting_line': '1', 'block_num': 15, 'pouring_line': '2', 't': 161}]\n",
      "INFO:root:['Disposition', 15, 'pouring', '[12:35, 14:40)', 'pouring', '[13:25, 15:30)', {'class': 'pouring', 'y': 0, 'size': 25, 'boiling_type': 'salt', 'time_size': 125, 'boiling_label': '2.7 Альче  8000кг', 'boiling_id': 1, 'melting_line': '2', 'block_num': 14, 'pouring_line': '2', 't': 151}, {'class': 'pouring', 'y': 0, 'size': 25, 'boiling_type': 'salt', 'time_size': 125, 'boiling_label': '2.7 Сакко  8000кг', 'boiling_id': 2, 'melting_line': '2', 'block_num': 15, 'pouring_line': '2', 't': 161}]\n",
      "INFO:root:['Disposition', 15, 'pouring', '[12:35, 14:40)', 'pouring', '[13:25, 15:30)', {'class': 'pouring', 'y': 0, 'size': 25, 'boiling_type': 'salt', 'time_size': 125, 'boiling_label': '2.7 Альче  8000кг', 'boiling_id': 1, 'melting_line': '2', 'block_num': 14, 'pouring_line': '2', 't': 151}, {'class': 'pouring', 'y': 0, 'size': 25, 'boiling_type': 'salt', 'time_size': 125, 'boiling_label': '2.7 Сакко  8000кг', 'boiling_id': 2, 'melting_line': '3', 'block_num': 15, 'pouring_line': '2', 't': 161}]\n",
      "INFO:root:['Disposition', 13, 'packing_and_preconfiguration', '[19:40, 20:45)', 'packing_and_preconfiguration', '[19:40, 20:55)', {'class': 'packing_and_preconfiguration', 't': 236, 'y': 0, 'time_size': 65, 'boiling_type': 'salt', 'boiling_label': '2.7 Альче  8000кг', 'boiling_id': 1, 'melting_line': '2', 'block_num': 14, 'pouring_line': '2', 'size': 13}, {'class': 'packing_and_preconfiguration', 't': 236, 'y': 0, 'time_size': 75, 'boiling_type': 'salt', 'boiling_label': '2.7 Сакко  8000кг', 'boiling_id': 2, 'melting_line': '0', 'block_num': 15, 'pouring_line': '3', 'size': 15}]\n",
      "INFO:root:['Disposition', 13, 'packing_and_preconfiguration', '[19:40, 20:45)', 'packing_and_preconfiguration', '[19:40, 20:55)', {'class': 'packing_and_preconfiguration', 't': 236, 'y': 0, 'time_size': 65, 'boiling_type': 'salt', 'boiling_label': '2.7 Альче  8000кг', 'boiling_id': 1, 'melting_line': '2', 'block_num': 14, 'pouring_line': '2', 'size': 13}, {'class': 'packing_and_preconfiguration', 't': 236, 'y': 0, 'time_size': 75, 'boiling_type': 'salt', 'boiling_label': '2.7 Сакко  8000кг', 'boiling_id': 2, 'melting_line': '1', 'block_num': 15, 'pouring_line': '3', 'size': 15}]\n",
      "INFO:root:['Disposition', 30, 'melting', '[17:15, 20:35)', 'melting', '[18:05, 20:55)', {'class': 'melting', 't': 207, 'y': 10, 'time_size': 200, 'boiling_type': 'salt', 'boiling_label': '2.7 Альче  8000кг', 'boiling_id': 1, 'melting_line': '2', 'block_num': 14, 'pouring_line': '2', 'size': 40}, {'class': 'melting', 't': 217, 'y': 10, 'time_size': 170, 'boiling_type': 'salt', 'boiling_label': '2.7 Сакко  8000кг', 'boiling_id': 2, 'melting_line': '2', 'block_num': 15, 'pouring_line': '3', 'size': 34}]\n"
     ]
    },
    {
     "name": "stderr",
     "output_type": "stream",
     "text": [
      "INFO:root:['Disposition', 13, 'packing_and_preconfiguration', '[19:40, 20:45)', 'packing_and_preconfiguration', '[19:40, 20:55)', {'class': 'packing_and_preconfiguration', 't': 236, 'y': 0, 'time_size': 65, 'boiling_type': 'salt', 'boiling_label': '2.7 Альче  8000кг', 'boiling_id': 1, 'melting_line': '2', 'block_num': 14, 'pouring_line': '2', 'size': 13}, {'class': 'packing_and_preconfiguration', 't': 236, 'y': 0, 'time_size': 75, 'boiling_type': 'salt', 'boiling_label': '2.7 Сакко  8000кг', 'boiling_id': 2, 'melting_line': '3', 'block_num': 15, 'pouring_line': '3', 'size': 15}]\n",
      "INFO:root:['All dispositions', [15, 15, 15, 15, 13, 13, 30, 13]]\n",
      "INFO:root:['Disposition', 2, 'pouring', '[12:35, 14:40)', 'pouring', '[14:30, 16:35)', {'class': 'pouring', 'y': 0, 'size': 25, 'boiling_type': 'salt', 'time_size': 125, 'boiling_label': '2.7 Альче  8000кг', 'boiling_id': 1, 'melting_line': '2', 'block_num': 14, 'pouring_line': '2', 't': 151}, {'class': 'pouring', 'y': 0, 'size': 25, 'boiling_type': 'salt', 'time_size': 125, 'boiling_label': '2.7 Сакко  8000кг', 'boiling_id': 2, 'melting_line': '0', 'block_num': 15, 'pouring_line': '2', 't': 174}]\n",
      "INFO:root:['Disposition', 2, 'pouring', '[12:35, 14:40)', 'pouring', '[14:30, 16:35)', {'class': 'pouring', 'y': 0, 'size': 25, 'boiling_type': 'salt', 'time_size': 125, 'boiling_label': '2.7 Альче  8000кг', 'boiling_id': 1, 'melting_line': '2', 'block_num': 14, 'pouring_line': '2', 't': 151}, {'class': 'pouring', 'y': 0, 'size': 25, 'boiling_type': 'salt', 'time_size': 125, 'boiling_label': '2.7 Сакко  8000кг', 'boiling_id': 2, 'melting_line': '1', 'block_num': 15, 'pouring_line': '2', 't': 174}]\n",
      "INFO:root:['Disposition', 2, 'pouring', '[12:35, 14:40)', 'pouring', '[14:30, 16:35)', {'class': 'pouring', 'y': 0, 'size': 25, 'boiling_type': 'salt', 'time_size': 125, 'boiling_label': '2.7 Альче  8000кг', 'boiling_id': 1, 'melting_line': '2', 'block_num': 14, 'pouring_line': '2', 't': 151}, {'class': 'pouring', 'y': 0, 'size': 25, 'boiling_type': 'salt', 'time_size': 125, 'boiling_label': '2.7 Сакко  8000кг', 'boiling_id': 2, 'melting_line': '2', 'block_num': 15, 'pouring_line': '2', 't': 174}]\n",
      "INFO:root:['Disposition', 2, 'pouring', '[12:35, 14:40)', 'pouring', '[14:30, 16:35)', {'class': 'pouring', 'y': 0, 'size': 25, 'boiling_type': 'salt', 'time_size': 125, 'boiling_label': '2.7 Альче  8000кг', 'boiling_id': 1, 'melting_line': '2', 'block_num': 14, 'pouring_line': '2', 't': 151}, {'class': 'pouring', 'y': 0, 'size': 25, 'boiling_type': 'salt', 'time_size': 125, 'boiling_label': '2.7 Сакко  8000кг', 'boiling_id': 2, 'melting_line': '3', 'block_num': 15, 'pouring_line': '2', 't': 174}]\n",
      "INFO:root:Fitting block 15\n",
      "INFO:root:['Disposition', 6, 'termizator', '[14:30, 15:00)', 'termizator', '[14:30, 15:00)', {'class': 'termizator', 'y': 0, 'size': 6, 'boiling_type': 'salt', 'time_size': 30, 'boiling_label': '2.7 Сакко  8000кг', 'boiling_id': 2, 'melting_line': '0', 'block_num': 15, 'pouring_line': '3', 't': 174}, {'class': 'termizator', 'y': 0, 'size': 6, 'boiling_type': 'salt', 'time_size': 30, 'boiling_label': '2.7 Сакко  8000кг', 'boiling_id': 2, 'melting_line': '0', 'block_num': 16, 'pouring_line': '2', 't': 174}]\n",
      "INFO:root:['Disposition', 6, 'termizator', '[14:30, 15:00)', 'termizator', '[14:30, 15:00)', {'class': 'termizator', 'y': 0, 'size': 6, 'boiling_type': 'salt', 'time_size': 30, 'boiling_label': '2.7 Сакко  8000кг', 'boiling_id': 2, 'melting_line': '0', 'block_num': 15, 'pouring_line': '3', 't': 174}, {'class': 'termizator', 'y': 0, 'size': 6, 'boiling_type': 'salt', 'time_size': 30, 'boiling_label': '2.7 Сакко  8000кг', 'boiling_id': 2, 'melting_line': '1', 'block_num': 16, 'pouring_line': '2', 't': 174}]\n",
      "INFO:root:['Disposition', 6, 'termizator', '[14:30, 15:00)', 'termizator', '[14:30, 15:00)', {'class': 'termizator', 'y': 0, 'size': 6, 'boiling_type': 'salt', 'time_size': 30, 'boiling_label': '2.7 Сакко  8000кг', 'boiling_id': 2, 'melting_line': '0', 'block_num': 15, 'pouring_line': '3', 't': 174}, {'class': 'termizator', 'y': 0, 'size': 6, 'boiling_type': 'salt', 'time_size': 30, 'boiling_label': '2.7 Сакко  8000кг', 'boiling_id': 2, 'melting_line': '2', 'block_num': 16, 'pouring_line': '2', 't': 174}]\n",
      "INFO:root:['Disposition', 6, 'termizator', '[14:30, 15:00)', 'termizator', '[14:30, 15:00)', {'class': 'termizator', 'y': 0, 'size': 6, 'boiling_type': 'salt', 'time_size': 30, 'boiling_label': '2.7 Сакко  8000кг', 'boiling_id': 2, 'melting_line': '0', 'block_num': 15, 'pouring_line': '3', 't': 174}, {'class': 'termizator', 'y': 0, 'size': 6, 'boiling_type': 'salt', 'time_size': 30, 'boiling_label': '2.7 Сакко  8000кг', 'boiling_id': 2, 'melting_line': '3', 'block_num': 16, 'pouring_line': '2', 't': 174}]\n",
      "INFO:root:['Disposition', 6, 'termizator', '[14:30, 15:00)', 'termizator', '[14:30, 15:00)', {'class': 'termizator', 'y': 0, 'size': 6, 'boiling_type': 'salt', 'time_size': 30, 'boiling_label': '2.7 Сакко  8000кг', 'boiling_id': 2, 'melting_line': '0', 'block_num': 15, 'pouring_line': '3', 't': 174}, {'class': 'termizator', 'y': 0, 'size': 6, 'boiling_type': 'salt', 'time_size': 30, 'boiling_label': '2.7 Сакко  8000кг', 'boiling_id': 2, 'melting_line': '0', 'block_num': 16, 'pouring_line': '3', 't': 174}]\n",
      "INFO:root:['Disposition', 6, 'termizator', '[14:30, 15:00)', 'termizator', '[14:30, 15:00)', {'class': 'termizator', 'y': 0, 'size': 6, 'boiling_type': 'salt', 'time_size': 30, 'boiling_label': '2.7 Сакко  8000кг', 'boiling_id': 2, 'melting_line': '0', 'block_num': 15, 'pouring_line': '3', 't': 174}, {'class': 'termizator', 'y': 0, 'size': 6, 'boiling_type': 'salt', 'time_size': 30, 'boiling_label': '2.7 Сакко  8000кг', 'boiling_id': 2, 'melting_line': '1', 'block_num': 16, 'pouring_line': '3', 't': 174}]\n",
      "INFO:root:['Disposition', 6, 'termizator', '[14:30, 15:00)', 'termizator', '[14:30, 15:00)', {'class': 'termizator', 'y': 0, 'size': 6, 'boiling_type': 'salt', 'time_size': 30, 'boiling_label': '2.7 Сакко  8000кг', 'boiling_id': 2, 'melting_line': '0', 'block_num': 15, 'pouring_line': '3', 't': 174}, {'class': 'termizator', 'y': 0, 'size': 6, 'boiling_type': 'salt', 'time_size': 30, 'boiling_label': '2.7 Сакко  8000кг', 'boiling_id': 2, 'melting_line': '2', 'block_num': 16, 'pouring_line': '3', 't': 174}]\n",
      "INFO:root:['Disposition', 6, 'termizator', '[14:30, 15:00)', 'termizator', '[14:30, 15:00)', {'class': 'termizator', 'y': 0, 'size': 6, 'boiling_type': 'salt', 'time_size': 30, 'boiling_label': '2.7 Сакко  8000кг', 'boiling_id': 2, 'melting_line': '0', 'block_num': 15, 'pouring_line': '3', 't': 174}, {'class': 'termizator', 'y': 0, 'size': 6, 'boiling_type': 'salt', 'time_size': 30, 'boiling_label': '2.7 Сакко  8000кг', 'boiling_id': 2, 'melting_line': '3', 'block_num': 16, 'pouring_line': '3', 't': 174}]\n",
      "INFO:root:['All dispositions', [6, 6, 6, 6, 6, 6, 6, 6]]\n",
      "INFO:root:['Disposition', 28, 'melting', '[19:10, 22:00)', 'melting', '[19:40, 22:30)', {'class': 'melting', 't': 230, 'y': 10, 'time_size': 170, 'boiling_type': 'salt', 'boiling_label': '2.7 Сакко  8000кг', 'boiling_id': 2, 'melting_line': '0', 'block_num': 15, 'pouring_line': '3', 'size': 34}, {'class': 'melting', 't': 236, 'y': 10, 'time_size': 170, 'boiling_type': 'salt', 'boiling_label': '2.7 Сакко  8000кг', 'boiling_id': 2, 'melting_line': '0', 'block_num': 16, 'pouring_line': '2', 'size': 34}]\n",
      "INFO:root:['Disposition', 4, 'melting_process', '[19:40, 20:30)', 'melting_process', '[20:10, 21:00)', {'class': 'melting_process', 't': 236, 'y': 11, 'time_size': 50, 'boiling_type': 'salt', 'boiling_label': '2.7 Сакко  8000кг', 'boiling_id': 2, 'speed': None, 'melting_line': '0', 'block_num': 15, 'pouring_line': '3', 'size': 10}, {'class': 'melting_process', 't': 242, 'y': 11, 'time_size': 50, 'boiling_type': 'salt', 'boiling_label': '2.7 Сакко  8000кг', 'boiling_id': 2, 'speed': None, 'melting_line': '1', 'block_num': 16, 'pouring_line': '2', 'size': 10}]\n",
      "INFO:root:['Disposition', 4, 'melting_process', '[19:40, 20:30)', 'melting_process', '[20:10, 21:00)', {'class': 'melting_process', 't': 236, 'y': 11, 'time_size': 50, 'boiling_type': 'salt', 'boiling_label': '2.7 Сакко  8000кг', 'boiling_id': 2, 'speed': None, 'melting_line': '0', 'block_num': 15, 'pouring_line': '3', 'size': 10}, {'class': 'melting_process', 't': 242, 'y': 11, 'time_size': 50, 'boiling_type': 'salt', 'boiling_label': '2.7 Сакко  8000кг', 'boiling_id': 2, 'speed': None, 'melting_line': '2', 'block_num': 16, 'pouring_line': '2', 'size': 10}]\n"
     ]
    },
    {
     "name": "stderr",
     "output_type": "stream",
     "text": [
      "INFO:root:['Disposition', 4, 'melting_process', '[19:40, 20:30)', 'melting_process', '[20:10, 21:00)', {'class': 'melting_process', 't': 236, 'y': 11, 'time_size': 50, 'boiling_type': 'salt', 'boiling_label': '2.7 Сакко  8000кг', 'boiling_id': 2, 'speed': None, 'melting_line': '0', 'block_num': 15, 'pouring_line': '3', 'size': 10}, {'class': 'melting_process', 't': 242, 'y': 11, 'time_size': 50, 'boiling_type': 'salt', 'boiling_label': '2.7 Сакко  8000кг', 'boiling_id': 2, 'speed': None, 'melting_line': '3', 'block_num': 16, 'pouring_line': '2', 'size': 10}]\n",
      "INFO:root:['Disposition', 19, 'pouring', '[14:30, 16:35)', 'pouring', '[15:00, 17:05)', {'class': 'pouring', 'y': 0, 'size': 25, 'boiling_type': 'salt', 'time_size': 125, 'boiling_label': '2.7 Сакко  8000кг', 'boiling_id': 2, 'melting_line': '0', 'block_num': 15, 'pouring_line': '3', 't': 174}, {'class': 'pouring', 'y': 0, 'size': 25, 'boiling_type': 'salt', 'time_size': 125, 'boiling_label': '2.7 Сакко  8000кг', 'boiling_id': 2, 'melting_line': '0', 'block_num': 16, 'pouring_line': '3', 't': 180}]\n",
      "INFO:root:['Disposition', 19, 'pouring', '[14:30, 16:35)', 'pouring', '[15:00, 17:05)', {'class': 'pouring', 'y': 0, 'size': 25, 'boiling_type': 'salt', 'time_size': 125, 'boiling_label': '2.7 Сакко  8000кг', 'boiling_id': 2, 'melting_line': '0', 'block_num': 15, 'pouring_line': '3', 't': 174}, {'class': 'pouring', 'y': 0, 'size': 25, 'boiling_type': 'salt', 'time_size': 125, 'boiling_label': '2.7 Сакко  8000кг', 'boiling_id': 2, 'melting_line': '1', 'block_num': 16, 'pouring_line': '3', 't': 180}]\n",
      "INFO:root:['Disposition', 19, 'pouring', '[14:30, 16:35)', 'pouring', '[15:00, 17:05)', {'class': 'pouring', 'y': 0, 'size': 25, 'boiling_type': 'salt', 'time_size': 125, 'boiling_label': '2.7 Сакко  8000кг', 'boiling_id': 2, 'melting_line': '0', 'block_num': 15, 'pouring_line': '3', 't': 174}, {'class': 'pouring', 'y': 0, 'size': 25, 'boiling_type': 'salt', 'time_size': 125, 'boiling_label': '2.7 Сакко  8000кг', 'boiling_id': 2, 'melting_line': '2', 'block_num': 16, 'pouring_line': '3', 't': 180}]\n",
      "INFO:root:['Disposition', 19, 'pouring', '[14:30, 16:35)', 'pouring', '[15:00, 17:05)', {'class': 'pouring', 'y': 0, 'size': 25, 'boiling_type': 'salt', 'time_size': 125, 'boiling_label': '2.7 Сакко  8000кг', 'boiling_id': 2, 'melting_line': '0', 'block_num': 15, 'pouring_line': '3', 't': 174}, {'class': 'pouring', 'y': 0, 'size': 25, 'boiling_type': 'salt', 'time_size': 125, 'boiling_label': '2.7 Сакко  8000кг', 'boiling_id': 2, 'melting_line': '3', 'block_num': 16, 'pouring_line': '3', 't': 180}]\n",
      "INFO:root:['All dispositions', [28, 4, 4, 4, 19, 19, 19, 19]]\n",
      "INFO:root:['Disposition', 24, 'melting', '[19:10, 22:00)', 'melting', '[20:00, 22:50)', {'class': 'melting', 't': 230, 'y': 10, 'time_size': 170, 'boiling_type': 'salt', 'boiling_label': '2.7 Сакко  8000кг', 'boiling_id': 2, 'melting_line': '0', 'block_num': 15, 'pouring_line': '3', 'size': 34}, {'class': 'melting', 't': 240, 'y': 10, 'time_size': 170, 'boiling_type': 'salt', 'boiling_label': '2.7 Сакко  8000кг', 'boiling_id': 2, 'melting_line': '0', 'block_num': 16, 'pouring_line': '2', 'size': 34}]\n",
      "INFO:root:Fitting block 16\n"
     ]
    }
   ],
   "source": [
    "load_sources()\n",
    "# df = gen_request_df(request)\n",
    "date = cast_datetime(request['Date'])\n",
    "root = make_schedule(request, date, df=df)\n",
    "wb = draw_workbook(root, mode='prod')\n",
    "wb.save('output.xlsx')\n",
    "open_file_in_os('output.xlsx')"
   ]
  },
  {
   "cell_type": "code",
   "execution_count": 5,
   "metadata": {},
   "outputs": [
    {
     "ename": "NameError",
     "evalue": "name 'root' is not defined",
     "output_type": "error",
     "traceback": [
      "\u001b[1;31m---------------------------------------------------------------------------\u001b[0m",
      "\u001b[1;31mNameError\u001b[0m                                 Traceback (most recent call last)",
      "\u001b[1;32m<ipython-input-5-7717abba2416>\u001b[0m in \u001b[0;36m<module>\u001b[1;34m\u001b[0m\n\u001b[1;32m----> 1\u001b[1;33m \u001b[0mpyperclip\u001b[0m\u001b[1;33m.\u001b[0m\u001b[0mcopy\u001b[0m\u001b[1;33m(\u001b[0m\u001b[0mdraw_print\u001b[0m\u001b[1;33m(\u001b[0m\u001b[0mroot\u001b[0m\u001b[1;33m,\u001b[0m \u001b[0mvisible_only\u001b[0m\u001b[1;33m=\u001b[0m\u001b[1;32mTrue\u001b[0m\u001b[1;33m)\u001b[0m\u001b[1;33m)\u001b[0m\u001b[1;33m\u001b[0m\u001b[1;33m\u001b[0m\u001b[0m\n\u001b[0m",
      "\u001b[1;31mNameError\u001b[0m: name 'root' is not defined"
     ]
    }
   ],
   "source": [
    "pyperclip.copy(draw_print(root, visible_only=True))"
   ]
  },
  {
   "cell_type": "code",
   "execution_count": 15,
   "metadata": {},
   "outputs": [
    {
     "data": {
      "text/plain": [
       "salting (91, 109]"
      ]
     },
     "execution_count": 15,
     "metadata": {},
     "output_type": "execute_result"
    }
   ],
   "source": [
    "root['boiling'][1]['melting_and_packing']['melting'][-1]['salting']"
   ]
  },
  {
   "cell_type": "code",
   "execution_count": 17,
   "metadata": {},
   "outputs": [
    {
     "data": {
      "text/plain": [
       "serving (85, 91]"
      ]
     },
     "execution_count": 17,
     "metadata": {},
     "output_type": "execute_result"
    }
   ],
   "source": [
    "root['boiling'][1]['melting_and_packing']['melting'][-2]['serving']"
   ]
  },
  {
   "cell_type": "markdown",
   "metadata": {},
   "source": [
    "# Gen request"
   ]
  },
  {
   "cell_type": "code",
   "execution_count": 47,
   "metadata": {},
   "outputs": [],
   "source": [
    "od = OrderedDict()"
   ]
  },
  {
   "cell_type": "code",
   "execution_count": 50,
   "metadata": {},
   "outputs": [
    {
     "data": {
      "text/plain": [
       "[['1', 1], ['2', 2]]"
      ]
     },
     "execution_count": 50,
     "metadata": {},
     "output_type": "execute_result"
    }
   ],
   "source": [
    "od['1'] = 1\n",
    "od['2'] = 2\n",
    "[[k, v] for k, v in od.items()]"
   ]
  },
  {
   "cell_type": "code",
   "execution_count": 80,
   "metadata": {},
   "outputs": [
    {
     "data": {
      "text/html": [
       "<div>\n",
       "<style scoped>\n",
       "    .dataframe tbody tr th:only-of-type {\n",
       "        vertical-align: middle;\n",
       "    }\n",
       "\n",
       "    .dataframe tbody tr th {\n",
       "        vertical-align: top;\n",
       "    }\n",
       "\n",
       "    .dataframe thead th {\n",
       "        text-align: right;\n",
       "    }\n",
       "</style>\n",
       "<table border=\"1\" class=\"dataframe\">\n",
       "  <thead>\n",
       "    <tr style=\"text-align: right;\">\n",
       "      <th></th>\n",
       "      <th>boiling_id</th>\n",
       "      <th>boiling_request</th>\n",
       "      <th>boiling_type</th>\n",
       "      <th>used</th>\n",
       "      <th>boiling_label</th>\n",
       "      <th>volume</th>\n",
       "    </tr>\n",
       "  </thead>\n",
       "  <tbody>\n",
       "    <tr>\n",
       "      <th>0</th>\n",
       "      <td>1</td>\n",
       "      <td>[[&lt;SKU 14&gt;, 800], [&lt;SKU 34&gt;, 50]]</td>\n",
       "      <td>salt</td>\n",
       "      <td>False</td>\n",
       "      <td>2.7 Альче</td>\n",
       "      <td>850.0</td>\n",
       "    </tr>\n",
       "    <tr>\n",
       "      <th>1</th>\n",
       "      <td>1</td>\n",
       "      <td>[[&lt;SKU 34&gt;, 650], [&lt;SKU 39&gt;, 200]]</td>\n",
       "      <td>salt</td>\n",
       "      <td>False</td>\n",
       "      <td>2.7 Альче</td>\n",
       "      <td>850.0</td>\n",
       "    </tr>\n",
       "    <tr>\n",
       "      <th>2</th>\n",
       "      <td>1</td>\n",
       "      <td>[[&lt;SKU 39&gt;, 850]]</td>\n",
       "      <td>salt</td>\n",
       "      <td>False</td>\n",
       "      <td>2.7 Альче</td>\n",
       "      <td>850.0</td>\n",
       "    </tr>\n",
       "    <tr>\n",
       "      <th>3</th>\n",
       "      <td>1</td>\n",
       "      <td>[[&lt;SKU 39&gt;, 553], [&lt;SKU 35&gt;, 297]]</td>\n",
       "      <td>salt</td>\n",
       "      <td>False</td>\n",
       "      <td>2.7 Альче</td>\n",
       "      <td>850.0</td>\n",
       "    </tr>\n",
       "    <tr>\n",
       "      <th>4</th>\n",
       "      <td>1</td>\n",
       "      <td>[[&lt;SKU 35&gt;, 610], [&lt;SKU 17&gt;, 240]]</td>\n",
       "      <td>salt</td>\n",
       "      <td>False</td>\n",
       "      <td>2.7 Альче</td>\n",
       "      <td>850.0</td>\n",
       "    </tr>\n",
       "  </tbody>\n",
       "</table>\n",
       "</div>"
      ],
      "text/plain": [
       "  boiling_id                     boiling_request boiling_type   used  \\\n",
       "0          1   [[<SKU 14>, 800], [<SKU 34>, 50]]         salt  False   \n",
       "1          1  [[<SKU 34>, 650], [<SKU 39>, 200]]         salt  False   \n",
       "2          1                   [[<SKU 39>, 850]]         salt  False   \n",
       "3          1  [[<SKU 39>, 553], [<SKU 35>, 297]]         salt  False   \n",
       "4          1  [[<SKU 35>, 610], [<SKU 17>, 240]]         salt  False   \n",
       "\n",
       "  boiling_label  volume  \n",
       "0     2.7 Альче   850.0  \n",
       "1     2.7 Альче   850.0  \n",
       "2     2.7 Альче   850.0  \n",
       "3     2.7 Альче   850.0  \n",
       "4     2.7 Альче   850.0  "
      ]
     },
     "execution_count": 80,
     "metadata": {},
     "output_type": "execute_result"
    }
   ],
   "source": [
    "\n",
    "values = []\n",
    "for boiling in request['Boilings']:\n",
    "    for sku_id, sku_kg in boiling['SKUVolumes'].items():\n",
    "        values.append([boiling['BoilingId'], sku_id, sku_kg])\n",
    "df = pd.DataFrame(values)\n",
    "\n",
    "values = []\n",
    "for boiling_id, boiling_grp in df.groupby(0):\n",
    "    boiling_dic = boiling_grp[[1, 2]].set_index(1).to_dict(orient='index')\n",
    "    boiling_dic = {k: v[2] for k, v in boiling_dic.items()}  # {'34': 1110.0, '35': 0.0, ...}\n",
    "    boiling_dic = {cast_sku(k): v for k, v in boiling_dic.items()} # {<SKU 34>: 1110.0, ...}\n",
    "    total_kg = sum(boiling_dic.values())\n",
    "\n",
    "    # round to get full\n",
    "    # todo: proper logic\n",
    "    boiling_type = 'salt' if str(cast_boiling(boiling_id).percent) == '2.7' else 'water'\n",
    "    volume = 1000 if boiling_type == 'water' else 850\n",
    "    \n",
    "    total_kg = custom_round(total_kg, volume, rounding='floor')\n",
    "    \n",
    "        \n",
    "    n_boilings = int(total_kg / volume)\n",
    "    for i in range(n_boilings):\n",
    "        cur_kg = volume\n",
    "\n",
    "        boiling_request = OrderedDict()\n",
    "        for k, v in list(boiling_dic.items()):\n",
    "            boil_kg = min(cur_kg, boiling_dic[k])\n",
    "\n",
    "            boiling_dic[k] -= boil_kg\n",
    "            cur_kg -= boil_kg\n",
    "\n",
    "            if k not in boiling_request:\n",
    "                boiling_request[k] = 0\n",
    "            boiling_request[k] += boil_kg\n",
    "\n",
    "            if cur_kg == 0:\n",
    "                break\n",
    "\n",
    "        if cur_kg != 0:\n",
    "            # any non-zero\n",
    "            print('Non-zero')\n",
    "            k = [k for k, v in boiling_request.items() if v != 0][0]\n",
    "            boiling_request[k] += cur_kg\n",
    "        \n",
    "        # convert to list\n",
    "        boiling_request = [[k, v] for k, v in boiling_request.items() if v != 0]\n",
    "        values.append([boiling_id, boiling_request])\n",
    "                           \n",
    "df = pd.DataFrame(values, columns=['boiling_id', 'boiling_request'])\n",
    "df['boiling_id'] = df['boiling_id'].astype(str)\n",
    "df['boiling_type'] = df['boiling_id'].apply(lambda boiling_id: 'salt' if str(cast_boiling(boiling_id).percent) == '2.7' else 'water')\n",
    "df['used'] = False\n",
    "\n",
    "df['boiling_label'] = df['boiling_id'].apply(lambda boiling_id: '{} {}{}'.format(cast_boiling(boiling_id).percent, \n",
    "                                             cast_boiling(boiling_id).ferment, \n",
    "                                             '' if cast_boiling(boiling_id).is_lactose else ' без лактозы'))\n",
    "\n",
    "df['volume'] = df['boiling_request'].apply(lambda req: sum([v for k, v in req]))\n",
    "\n",
    "df['boiling_request'] = df['boiling_request'].apply(lambda req:  [[cast_sku(k), round(v)] for k, v in req if v != 0])\n",
    "df.head()"
   ]
  },
  {
   "cell_type": "code",
   "execution_count": 5,
   "metadata": {},
   "outputs": [
    {
     "data": {
      "text/html": [
       "<div>\n",
       "<style scoped>\n",
       "    .dataframe tbody tr th:only-of-type {\n",
       "        vertical-align: middle;\n",
       "    }\n",
       "\n",
       "    .dataframe tbody tr th {\n",
       "        vertical-align: top;\n",
       "    }\n",
       "\n",
       "    .dataframe thead th {\n",
       "        text-align: right;\n",
       "    }\n",
       "</style>\n",
       "<table border=\"1\" class=\"dataframe\">\n",
       "  <thead>\n",
       "    <tr style=\"text-align: right;\">\n",
       "      <th></th>\n",
       "      <th>boiling_id</th>\n",
       "      <th>boiling_request</th>\n",
       "      <th>boiling_type</th>\n",
       "      <th>used</th>\n",
       "      <th>boiling_label</th>\n",
       "      <th>volume</th>\n",
       "      <th>names</th>\n",
       "    </tr>\n",
       "  </thead>\n",
       "  <tbody>\n",
       "    <tr>\n",
       "      <th>0</th>\n",
       "      <td>2</td>\n",
       "      <td>[[&lt;SKU 1&gt;, 850]]</td>\n",
       "      <td>salt</td>\n",
       "      <td>False</td>\n",
       "      <td>2.7 Сакко</td>\n",
       "      <td>850</td>\n",
       "      <td>{'1': 'Моцарелла \"Pretto\" (для бутербродов), 45%, 0,2 кг, т/ф, (9 шт)'}</td>\n",
       "    </tr>\n",
       "    <tr>\n",
       "      <th>1</th>\n",
       "      <td>1</td>\n",
       "      <td>[[&lt;SKU 34&gt;, 850]]</td>\n",
       "      <td>salt</td>\n",
       "      <td>False</td>\n",
       "      <td>2.7 Альче</td>\n",
       "      <td>850</td>\n",
       "      <td>{'34': 'Сулугуни  \"Умалат\", 45%, 0,37 кг, т/ф, (6 шт)'}</td>\n",
       "    </tr>\n",
       "    <tr>\n",
       "      <th>2</th>\n",
       "      <td>1</td>\n",
       "      <td>[[&lt;SKU 4&gt;, 567], [&lt;SKU 14&gt;, 283]]</td>\n",
       "      <td>salt</td>\n",
       "      <td>False</td>\n",
       "      <td>2.7 Альче</td>\n",
       "      <td>850</td>\n",
       "      <td>{'4': 'Моцарелла \"Unagrande\", 45%, 3 кг, пл/л', '14': 'Моцарелла для пиццы \"Unagrande\", 45%, 0,46 кг, в/у, (8 шт)'}</td>\n",
       "    </tr>\n",
       "    <tr>\n",
       "      <th>3</th>\n",
       "      <td>1</td>\n",
       "      <td>[[&lt;SKU 4&gt;, 850]]</td>\n",
       "      <td>salt</td>\n",
       "      <td>False</td>\n",
       "      <td>2.7 Альче</td>\n",
       "      <td>850</td>\n",
       "      <td>{'4': 'Моцарелла \"Unagrande\", 45%, 3 кг, пл/л'}</td>\n",
       "    </tr>\n",
       "    <tr>\n",
       "      <th>4</th>\n",
       "      <td>1</td>\n",
       "      <td>[[&lt;SKU 17&gt;, 850]]</td>\n",
       "      <td>salt</td>\n",
       "      <td>False</td>\n",
       "      <td>2.7 Альче</td>\n",
       "      <td>850</td>\n",
       "      <td>{'17': 'Моцарелла для сэндвичей \"Unagrande\", 45%, 0,28 кг, т/ф, (8 шт)'}</td>\n",
       "    </tr>\n",
       "  </tbody>\n",
       "</table>\n",
       "</div>"
      ],
      "text/plain": [
       "  boiling_id                    boiling_request boiling_type   used  \\\n",
       "0          2                   [[<SKU 1>, 850]]         salt  False   \n",
       "1          1                  [[<SKU 34>, 850]]         salt  False   \n",
       "2          1  [[<SKU 4>, 567], [<SKU 14>, 283]]         salt  False   \n",
       "3          1                   [[<SKU 4>, 850]]         salt  False   \n",
       "4          1                  [[<SKU 17>, 850]]         salt  False   \n",
       "\n",
       "  boiling_label  volume  \\\n",
       "0     2.7 Сакко     850   \n",
       "1     2.7 Альче     850   \n",
       "2     2.7 Альче     850   \n",
       "3     2.7 Альче     850   \n",
       "4     2.7 Альче     850   \n",
       "\n",
       "                                                                                                                 names  \n",
       "0                                              {'1': 'Моцарелла \"Pretto\" (для бутербродов), 45%, 0,2 кг, т/ф, (9 шт)'}  \n",
       "1                                                              {'34': 'Сулугуни  \"Умалат\", 45%, 0,37 кг, т/ф, (6 шт)'}  \n",
       "2  {'4': 'Моцарелла \"Unagrande\", 45%, 3 кг, пл/л', '14': 'Моцарелла для пиццы \"Unagrande\", 45%, 0,46 кг, в/у, (8 шт)'}  \n",
       "3                                                                      {'4': 'Моцарелла \"Unagrande\", 45%, 3 кг, пл/л'}  \n",
       "4                                             {'17': 'Моцарелла для сэндвичей \"Unagrande\", 45%, 0,28 кг, т/ф, (8 шт)'}  "
      ]
     },
     "execution_count": 5,
     "metadata": {},
     "output_type": "execute_result"
    }
   ],
   "source": [
    "df = pd.DataFrame(cast_dict(pyperclip.paste()))\n",
    "\n",
    "df['boiling_request'] = df['boiling_request'].apply(lambda req:  [[cast_sku(k), v] for k, v in req if v != 0])\n",
    "\n",
    "for i, row in df.iterrows():\n",
    "    df.at[i, 'boiling_request'] = [[k,  round(v * row['volume'] / sum([v for k, v in row['boiling_request']]))] for k, v in row['boiling_request']]\n",
    "df['used'] = False\n",
    "df.head()"
   ]
  },
  {
   "cell_type": "code",
   "execution_count": 81,
   "metadata": {},
   "outputs": [
    {
     "data": {
      "text/html": [
       "<div>\n",
       "<style scoped>\n",
       "    .dataframe tbody tr th:only-of-type {\n",
       "        vertical-align: middle;\n",
       "    }\n",
       "\n",
       "    .dataframe tbody tr th {\n",
       "        vertical-align: top;\n",
       "    }\n",
       "\n",
       "    .dataframe thead th {\n",
       "        text-align: right;\n",
       "    }\n",
       "</style>\n",
       "<table border=\"1\" class=\"dataframe\">\n",
       "  <thead>\n",
       "    <tr style=\"text-align: right;\">\n",
       "      <th></th>\n",
       "      <th>boiling_id</th>\n",
       "      <th>boiling_request</th>\n",
       "      <th>boiling_type</th>\n",
       "      <th>used</th>\n",
       "      <th>boiling_label</th>\n",
       "      <th>volume</th>\n",
       "      <th>names</th>\n",
       "    </tr>\n",
       "  </thead>\n",
       "  <tbody>\n",
       "    <tr>\n",
       "      <th>0</th>\n",
       "      <td>1</td>\n",
       "      <td>[[14, 800], [34, 50]]</td>\n",
       "      <td>salt</td>\n",
       "      <td>False</td>\n",
       "      <td>2.7 Альче</td>\n",
       "      <td>850.0</td>\n",
       "      <td>{14: 'Моцарелла для пиццы \"Unagrande\", 45%, 0,46 кг, в/у, (8 шт)', 34: 'Сулугуни  \"Умалат\", 45%, 0,37 кг, т/ф, (6 шт)'}</td>\n",
       "    </tr>\n",
       "    <tr>\n",
       "      <th>1</th>\n",
       "      <td>1</td>\n",
       "      <td>[[34, 650], [39, 200]]</td>\n",
       "      <td>salt</td>\n",
       "      <td>False</td>\n",
       "      <td>2.7 Альче</td>\n",
       "      <td>850.0</td>\n",
       "      <td>{34: 'Сулугуни  \"Умалат\", 45%, 0,37 кг, т/ф, (6 шт)', 39: 'Сулугуни \"Умалат\", 45%, 0,28 кг, т/ф, (8 шт)'}</td>\n",
       "    </tr>\n",
       "    <tr>\n",
       "      <th>2</th>\n",
       "      <td>1</td>\n",
       "      <td>[[39, 850]]</td>\n",
       "      <td>salt</td>\n",
       "      <td>False</td>\n",
       "      <td>2.7 Альче</td>\n",
       "      <td>850.0</td>\n",
       "      <td>{39: 'Сулугуни \"Умалат\", 45%, 0,28 кг, т/ф, (8 шт)'}</td>\n",
       "    </tr>\n",
       "    <tr>\n",
       "      <th>3</th>\n",
       "      <td>1</td>\n",
       "      <td>[[39, 553], [35, 297]]</td>\n",
       "      <td>salt</td>\n",
       "      <td>False</td>\n",
       "      <td>2.7 Альче</td>\n",
       "      <td>850.0</td>\n",
       "      <td>{39: 'Сулугуни \"Умалат\", 45%, 0,28 кг, т/ф, (8 шт)', 35: 'Сулугуни \"ВкусВилл\", 45%, 0,28 кг, т/ф'}</td>\n",
       "    </tr>\n",
       "    <tr>\n",
       "      <th>4</th>\n",
       "      <td>1</td>\n",
       "      <td>[[35, 610], [17, 240]]</td>\n",
       "      <td>salt</td>\n",
       "      <td>False</td>\n",
       "      <td>2.7 Альче</td>\n",
       "      <td>850.0</td>\n",
       "      <td>{35: 'Сулугуни \"ВкусВилл\", 45%, 0,28 кг, т/ф', 17: 'Моцарелла для сэндвичей \"Unagrande\", 45%, 0,28 кг, т/ф, (8 шт)'}</td>\n",
       "    </tr>\n",
       "  </tbody>\n",
       "</table>\n",
       "</div>"
      ],
      "text/plain": [
       "  boiling_id         boiling_request boiling_type   used boiling_label  \\\n",
       "0          1   [[14, 800], [34, 50]]         salt  False     2.7 Альче   \n",
       "1          1  [[34, 650], [39, 200]]         salt  False     2.7 Альче   \n",
       "2          1             [[39, 850]]         salt  False     2.7 Альче   \n",
       "3          1  [[39, 553], [35, 297]]         salt  False     2.7 Альче   \n",
       "4          1  [[35, 610], [17, 240]]         salt  False     2.7 Альче   \n",
       "\n",
       "   volume  \\\n",
       "0   850.0   \n",
       "1   850.0   \n",
       "2   850.0   \n",
       "3   850.0   \n",
       "4   850.0   \n",
       "\n",
       "                                                                                                                     names  \n",
       "0  {14: 'Моцарелла для пиццы \"Unagrande\", 45%, 0,46 кг, в/у, (8 шт)', 34: 'Сулугуни  \"Умалат\", 45%, 0,37 кг, т/ф, (6 шт)'}  \n",
       "1                {34: 'Сулугуни  \"Умалат\", 45%, 0,37 кг, т/ф, (6 шт)', 39: 'Сулугуни \"Умалат\", 45%, 0,28 кг, т/ф, (8 шт)'}  \n",
       "2                                                                     {39: 'Сулугуни \"Умалат\", 45%, 0,28 кг, т/ф, (8 шт)'}  \n",
       "3                       {39: 'Сулугуни \"Умалат\", 45%, 0,28 кг, т/ф, (8 шт)', 35: 'Сулугуни \"ВкусВилл\", 45%, 0,28 кг, т/ф'}  \n",
       "4     {35: 'Сулугуни \"ВкусВилл\", 45%, 0,28 кг, т/ф', 17: 'Моцарелла для сэндвичей \"Unagrande\", 45%, 0,28 кг, т/ф, (8 шт)'}  "
      ]
     },
     "execution_count": 81,
     "metadata": {},
     "output_type": "execute_result"
    }
   ],
   "source": [
    "df['names'] = df['boiling_request'].apply(lambda req: {k.id: k.name for k, v in req})\n",
    "df['boiling_request'] = df['boiling_request'].apply(lambda req: [[k.id, round(v)] for k, v in req])\n",
    "pyperclip.copy(cast_js(df.to_dict(orient='records'), indent=1))\n",
    "df.head()"
   ]
  },
  {
   "cell_type": "code",
   "execution_count": 8,
   "metadata": {},
   "outputs": [
    {
     "data": {
      "text/html": [
       "<div>\n",
       "<style scoped>\n",
       "    .dataframe tbody tr th:only-of-type {\n",
       "        vertical-align: middle;\n",
       "    }\n",
       "\n",
       "    .dataframe tbody tr th {\n",
       "        vertical-align: top;\n",
       "    }\n",
       "\n",
       "    .dataframe thead th {\n",
       "        text-align: right;\n",
       "    }\n",
       "</style>\n",
       "<table border=\"1\" class=\"dataframe\">\n",
       "  <thead>\n",
       "    <tr style=\"text-align: right;\">\n",
       "      <th></th>\n",
       "      <th>sku</th>\n",
       "      <th>name</th>\n",
       "    </tr>\n",
       "  </thead>\n",
       "  <tbody>\n",
       "    <tr>\n",
       "      <th>0</th>\n",
       "      <td>&lt;SKU 1&gt;</td>\n",
       "      <td>Моцарелла \"Pretto\" (для бутербродов), 45%, 0,2 кг, т/ф, (9 шт)</td>\n",
       "    </tr>\n",
       "    <tr>\n",
       "      <th>1</th>\n",
       "      <td>&lt;SKU 2&gt;</td>\n",
       "      <td>Моцарелла \"Pretto\", 45%, 1,2 кг, в/у</td>\n",
       "    </tr>\n",
       "    <tr>\n",
       "      <th>2</th>\n",
       "      <td>&lt;SKU 3&gt;</td>\n",
       "      <td>Моцарелла \"Unagrande\", 45%, 0,12 кг, ф/п (кубики)</td>\n",
       "    </tr>\n",
       "    <tr>\n",
       "      <th>3</th>\n",
       "      <td>&lt;SKU 4&gt;</td>\n",
       "      <td>Моцарелла \"Unagrande\", 45%, 3 кг, пл/л</td>\n",
       "    </tr>\n",
       "    <tr>\n",
       "      <th>4</th>\n",
       "      <td>&lt;SKU 5&gt;</td>\n",
       "      <td>Моцарелла (палочки), 45%, кг, пл/л</td>\n",
       "    </tr>\n",
       "  </tbody>\n",
       "</table>\n",
       "</div>"
      ],
      "text/plain": [
       "       sku                                                            name\n",
       "0  <SKU 1>  Моцарелла \"Pretto\" (для бутербродов), 45%, 0,2 кг, т/ф, (9 шт)\n",
       "1  <SKU 2>                            Моцарелла \"Pretto\", 45%, 1,2 кг, в/у\n",
       "2  <SKU 3>               Моцарелла \"Unagrande\", 45%, 0,12 кг, ф/п (кубики)\n",
       "3  <SKU 4>                          Моцарелла \"Unagrande\", 45%, 3 кг, пл/л\n",
       "4  <SKU 5>                              Моцарелла (палочки), 45%, кг, пл/л"
      ]
     },
     "execution_count": 8,
     "metadata": {},
     "output_type": "execute_result"
    }
   ],
   "source": [
    "values = db.session.query(SKU).all()\n",
    "skus = pd.DataFrame(values, columns=['sku'])\n",
    "skus['name'] = skus['sku'].apply(lambda sku:sku.name)\n",
    "skus.head()"
   ]
  },
  {
   "cell_type": "code",
   "execution_count": 9,
   "metadata": {},
   "outputs": [
    {
     "data": {
      "text/plain": [
       "<SKU 1>"
      ]
     },
     "execution_count": 9,
     "metadata": {},
     "output_type": "execute_result"
    }
   ],
   "source": [
    "skus.iloc[1 - 1]['sku']"
   ]
  },
  {
   "cell_type": "code",
   "execution_count": 10,
   "metadata": {},
   "outputs": [
    {
     "data": {
      "text/plain": [
       "<Melting 5>"
      ]
     },
     "execution_count": 10,
     "metadata": {},
     "output_type": "execute_result"
    }
   ],
   "source": [
    "skus.iloc[1 - 1]['sku'].boilings[0].meltings"
   ]
  },
  {
   "cell_type": "code",
   "execution_count": 11,
   "metadata": {},
   "outputs": [
    {
     "data": {
      "text/plain": [
       "'Ульма'"
      ]
     },
     "execution_count": 11,
     "metadata": {},
     "output_type": "execute_result"
    }
   ],
   "source": [
    "cast_packer(skus.iloc[34 - 1]['sku'].packer_id).name"
   ]
  },
  {
   "cell_type": "code",
   "execution_count": null,
   "metadata": {},
   "outputs": [],
   "source": []
  }
 ],
 "metadata": {
  "kernelspec": {
   "display_name": "Python 3",
   "language": "python",
   "name": "python3"
  },
  "language_info": {
   "codemirror_mode": {
    "name": "ipython",
    "version": 3
   },
   "file_extension": ".py",
   "mimetype": "text/x-python",
   "name": "python",
   "nbconvert_exporter": "python",
   "pygments_lexer": "ipython3",
   "version": "3.8.5"
  }
 },
 "nbformat": 4,
 "nbformat_minor": 4
}

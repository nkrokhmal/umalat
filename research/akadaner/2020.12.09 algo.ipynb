{
 "cells": [
  {
   "cell_type": "code",
   "execution_count": 1,
   "metadata": {},
   "outputs": [],
   "source": [
    "# %load_ext autoreload\n",
    "# %autoreload 2\n",
    "\n",
    "import os\n",
    "import sys\n",
    "os.environ['UTILS_PATH'] = r'C:\\Users\\Mi\\Desktop\\code\\git\\python-utils-ak'\n",
    "os.environ['PROJECT_PATH'] = r'C:\\Users\\Mi\\Desktop\\code\\git\\2020.10-umalat\\umalat' \n",
    "os.environ['SQLITE_PATH'] = r'C:\\Users\\Mi\\Desktop\\code\\git\\2020.10-umalat\\umalat\\data.sqlite' \n",
    "sys.path.append(os.environ['PROJECT_PATH'])\n",
    "from app.interactive_imports import *"
   ]
  },
  {
   "cell_type": "markdown",
   "metadata": {},
   "source": [
    "# Drawing"
   ]
  },
  {
   "cell_type": "code",
   "execution_count": 2,
   "metadata": {
    "scrolled": true
   },
   "outputs": [],
   "source": [
    "boiling_plan_df = pd.read_csv('2020.12.13 boiling_plan.csv')\n",
    "boiling_plan_df['sku'] = boiling_plan_df['sku'].apply(cast_sku)\n",
    "# boiling_plan_df['boiling'] = boiling_plan_df['boiling'].apply(cast_boiling)\n",
    "boiling_plan_df['boiling'] = boiling_plan_df['sku'].apply(lambda sku: sku.boilings[0])\n",
    "boiling_plan_df.sort_values(by='id')\n",
    "\n",
    "def add_push_with_props(parent, block):\n",
    "    return add_push(parent, block, new_props=block.props.get_all_props())\n",
    "\n",
    "mode = 'prod'\n",
    "maker = BlockMaker(default_push_func=dummy_push)\n",
    "make = maker.make\n",
    "\n",
    "root = make_schedule(boiling_plan_df)"
   ]
  },
  {
   "cell_type": "code",
   "execution_count": 3,
   "metadata": {
    "scrolled": true
   },
   "outputs": [],
   "source": [
    "with make('schedule', orient='vertical'):\n",
    "    make(orient='vertical', h=1, visible=False)\n",
    "    with make('header', orient='vertical', h=1, index_width=3):\n",
    "        make(h=1, size=1, text='График наливов', push_func=add_push)\n",
    "        for i in range(288):\n",
    "            cur_time = cast_time(i + cast_t('01:00'))\n",
    "            if cur_time[-2:] == '00':\n",
    "                make(t=1 + i, size=1, h=1, text=str(int(cur_time[:2])), color=(218, 150, 148), text_rotation=90, push_func=add_push)\n",
    "            else:\n",
    "                make(t=1 + i, size=1, h=1, text=cur_time[-2:], color=(204, 255, 255), text_rotation=90, push_func=add_push)\n",
    "    \n",
    "    for i in range(2):\n",
    "        with make(f'cheese_maker_{i}', orient='vertical', h=2):\n",
    "            for block in root['boiling']:\n",
    "                if block.props['pouring_line'] == str(i):\n",
    "                    make(block['pouring'], push_func=add_push_with_props)\n",
    "        make(orient='vertical', h=1, visible=False)\n",
    "\n",
    "    with make('cleanings', orient='vertical', h=2):\n",
    "        for block in root['cleaning']:\n",
    "            make(block, push_func=add_push_with_props)\n",
    "    make(orient='vertical', h=1, visible=False)\n",
    "\n",
    "    for i in range(2, 4):\n",
    "        with make(f'cheese_maker_{i}', orient='vertical', h=2):\n",
    "            for block in root['boiling']:\n",
    "                if block.props['pouring_line'] == str(i):\n",
    "                    make(block['pouring'], push_func=add_push_with_props)\n",
    "        make(orient='vertical', h=1, visible=False)\n",
    "    \n",
    "    with make('header', orient='vertical', h=1, index_width=4):\n",
    "        for i in range(288):\n",
    "            cur_time = cast_time(i + cast_t('07:00'))\n",
    "            if cur_time[-2:] == '00':\n",
    "                make(t=i, size=1, h=1, text=str(int(cur_time[:2])), color=(218, 150, 148), text_rotation=90, push_func=add_push)\n",
    "            else:\n",
    "                make(t=i, size=1, h=1, text=cur_time[-2:], color=(204, 255, 255), text_rotation=90, push_func=add_push)\n",
    "    \n",
    "    with make('water_melting', orient='vertical', h=4):\n",
    "        for block in root['boiling']:\n",
    "            if block.props['boiling_type'] == 'water':\n",
    "                make(block['melting_and_packing']['melting'], push_func=add_push_with_props)\n",
    "                \n",
    "    with make('water_packing', orient='vertical', h=3):\n",
    "        for block in root['boiling']:\n",
    "            if block.props['boiling_type'] == 'water':\n",
    "                make(block['melting_and_packing']['packing_and_preconfiguration'], push_func=add_push_with_props)\n",
    "    \n",
    "    # todo: make dynamic lines\n",
    "    n_lines = 5\n",
    "    melting_lines = [make(f'salt_melting_{i}', orient='vertical', h=3).block for i in range(n_lines)]\n",
    "    \n",
    "    # todo: hardcode, add empty elements for drawing not to draw melting_line itself\n",
    "    for b in melting_lines:\n",
    "        add_push(b, Block('block', visible=False))\n",
    "        \n",
    "    for i, block in enumerate([b for b in root['boiling'] if b.props['boiling_type'] == 'salt']):\n",
    "        add_push_with_props(melting_lines[i % n_lines], block['melting_and_packing']['melting'])\n",
    "    \n",
    "    with make('salt_packing', orient='vertical', h=3):\n",
    "        for block in root['boiling']:\n",
    "            if block.props['boiling_type'] == 'salt':\n",
    "                make(block['melting_and_packing']['packing_and_preconfiguration'], push_func=add_push_with_props)\n",
    "row_root = maker.root"
   ]
  },
  {
   "cell_type": "code",
   "execution_count": 4,
   "metadata": {},
   "outputs": [],
   "source": [
    "row_root.props.update({'h': max(c.end for c in root.children)})\n",
    "style = load_style()\n",
    "init_sheet_func = init_sheet if mode == mode else init_template_sheet(template_fn=template_fn)\n",
    "wb = draw_schedule(row_root, style, init_sheet_func=init_sheet_func)\n",
    "wb.save('output.xlsx')\n",
    "open_file_in_os('output.xlsx') "
   ]
  },
  {
   "cell_type": "code",
   "execution_count": null,
   "metadata": {},
   "outputs": [],
   "source": [
    "row_root"
   ]
  }
 ],
 "metadata": {
  "kernelspec": {
   "display_name": "Python 3",
   "language": "python",
   "name": "python3"
  },
  "language_info": {
   "codemirror_mode": {
    "name": "ipython",
    "version": 3
   },
   "file_extension": ".py",
   "mimetype": "text/x-python",
   "name": "python",
   "nbconvert_exporter": "python",
   "pygments_lexer": "ipython3",
   "version": "3.8.5"
  }
 },
 "nbformat": 4,
 "nbformat_minor": 4
}

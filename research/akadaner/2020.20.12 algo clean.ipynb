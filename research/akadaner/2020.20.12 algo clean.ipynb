{
 "cells": [
  {
   "cell_type": "code",
   "execution_count": 1,
   "metadata": {},
   "outputs": [
    {
     "data": {
      "text/html": [
       "<style>.container { width:100% !important; }</style>"
      ],
      "text/plain": [
       "<IPython.core.display.HTML object>"
      ]
     },
     "metadata": {},
     "output_type": "display_data"
    }
   ],
   "source": [
    "from IPython.core.display import display, HTML\n",
    "display(HTML(\"<style>.container { width:100% !important; }</style>\"))"
   ]
  },
  {
   "cell_type": "code",
   "execution_count": 2,
   "metadata": {},
   "outputs": [],
   "source": [
    "import os\n",
    "import sys\n",
    "os.environ['UTILS_PATH'] = r'C:\\Users\\Mi\\Desktop\\code\\git\\python-utils-ak'\n",
    "os.environ['PROJECT_PATH'] = r'C:\\Users\\Mi\\Desktop\\code\\git\\2020.10-umalat\\umalat' \n",
    "os.environ['SQLITE_PATH'] = r'C:\\Users\\Mi\\Desktop\\code\\git\\2020.10-umalat\\umalat\\data.sqlite' \n",
    "sys.path.append(os.environ['PROJECT_PATH'])\n",
    "from app.interactive_imports import *"
   ]
  },
  {
   "cell_type": "code",
   "execution_count": 3,
   "metadata": {},
   "outputs": [
    {
     "data": {
      "text/html": [
       "<div>\n",
       "<style scoped>\n",
       "    .dataframe tbody tr th:only-of-type {\n",
       "        vertical-align: middle;\n",
       "    }\n",
       "\n",
       "    .dataframe tbody tr th {\n",
       "        vertical-align: top;\n",
       "    }\n",
       "\n",
       "    .dataframe thead th {\n",
       "        text-align: right;\n",
       "    }\n",
       "</style>\n",
       "<table border=\"1\" class=\"dataframe\">\n",
       "  <thead>\n",
       "    <tr style=\"text-align: right;\">\n",
       "      <th></th>\n",
       "      <th>id</th>\n",
       "      <th>boiling</th>\n",
       "      <th>sku</th>\n",
       "      <th>kg</th>\n",
       "      <th>packing_speed</th>\n",
       "      <th>boiling_form_factor</th>\n",
       "      <th>packing_team_id</th>\n",
       "    </tr>\n",
       "  </thead>\n",
       "  <tbody>\n",
       "    <tr>\n",
       "      <th>0</th>\n",
       "      <td>1.0</td>\n",
       "      <td>&lt;Boiling 9&gt;</td>\n",
       "      <td>&lt;SKU 25&gt;</td>\n",
       "      <td>1000.0</td>\n",
       "      <td>960</td>\n",
       "      <td>&lt;BoilingFormFactor 13&gt;</td>\n",
       "      <td>1.0</td>\n",
       "    </tr>\n",
       "    <tr>\n",
       "      <th>1</th>\n",
       "      <td>2.0</td>\n",
       "      <td>&lt;Boiling 9&gt;</td>\n",
       "      <td>&lt;SKU 25&gt;</td>\n",
       "      <td>1000.0</td>\n",
       "      <td>960</td>\n",
       "      <td>&lt;BoilingFormFactor 13&gt;</td>\n",
       "      <td>1.0</td>\n",
       "    </tr>\n",
       "    <tr>\n",
       "      <th>2</th>\n",
       "      <td>3.0</td>\n",
       "      <td>&lt;Boiling 6&gt;</td>\n",
       "      <td>&lt;SKU 23&gt;</td>\n",
       "      <td>192.8</td>\n",
       "      <td>960</td>\n",
       "      <td>&lt;BoilingFormFactor 1&gt;</td>\n",
       "      <td>2.0</td>\n",
       "    </tr>\n",
       "    <tr>\n",
       "      <th>3</th>\n",
       "      <td>3.0</td>\n",
       "      <td>&lt;Boiling 6&gt;</td>\n",
       "      <td>&lt;SKU 26&gt;</td>\n",
       "      <td>134.7</td>\n",
       "      <td>960</td>\n",
       "      <td>&lt;BoilingFormFactor 1&gt;</td>\n",
       "      <td>2.0</td>\n",
       "    </tr>\n",
       "    <tr>\n",
       "      <th>4</th>\n",
       "      <td>3.0</td>\n",
       "      <td>&lt;Boiling 6&gt;</td>\n",
       "      <td>&lt;SKU 46&gt;</td>\n",
       "      <td>153.6</td>\n",
       "      <td>960</td>\n",
       "      <td>&lt;BoilingFormFactor 1&gt;</td>\n",
       "      <td>2.0</td>\n",
       "    </tr>\n",
       "  </tbody>\n",
       "</table>\n",
       "</div>"
      ],
      "text/plain": [
       "    id      boiling       sku      kg  packing_speed     boiling_form_factor  \\\n",
       "0  1.0  <Boiling 9>  <SKU 25>  1000.0            960  <BoilingFormFactor 13>   \n",
       "1  2.0  <Boiling 9>  <SKU 25>  1000.0            960  <BoilingFormFactor 13>   \n",
       "2  3.0  <Boiling 6>  <SKU 23>   192.8            960   <BoilingFormFactor 1>   \n",
       "3  3.0  <Boiling 6>  <SKU 26>   134.7            960   <BoilingFormFactor 1>   \n",
       "4  3.0  <Boiling 6>  <SKU 46>   153.6            960   <BoilingFormFactor 1>   \n",
       "\n",
       "   packing_team_id  \n",
       "0              1.0  \n",
       "1              1.0  \n",
       "2              2.0  \n",
       "3              2.0  \n",
       "4              2.0  "
      ]
     },
     "execution_count": 3,
     "metadata": {},
     "output_type": "execute_result"
    }
   ],
   "source": [
    "df = pd.read_csv('2020.12.13 boiling_plan.csv')\n",
    "df['sku'] = df['sku'].apply(cast_sku)\n",
    "df['boiling'] = df['sku'].apply(lambda sku: sku.boilings[0])\n",
    "df.sort_values(by='id')\n",
    "df['packing_speed'] = df['sku'].apply(lambda sku: sku.packing_speed)\n",
    "df['boiling_form_factor'] = df['sku'].apply(lambda sku:sku.boiling_form_factors[0])\n",
    "\n",
    "df.at[:2, 'packing_team_id'] = 1\n",
    "df.at[2:, 'packing_team_id'] = 2\n",
    "boiling_plan_df = df.copy()\n",
    "boiling_plan_df.head()"
   ]
  },
  {
   "cell_type": "code",
   "execution_count": 4,
   "metadata": {},
   "outputs": [],
   "source": [
    "def gen_boiling_plan(boiling_plan_df, id):\n",
    "    boiling_plan = boiling_plan_df[boiling_plan_df['id'] == id]\n",
    "\n",
    "    # mark groups\n",
    "    cur_group = 0\n",
    "    cur_form_factor = None\n",
    "    group_values = []\n",
    "    for i, row in boiling_plan.iterrows():\n",
    "        if row['boiling_form_factor'] != cur_form_factor:\n",
    "            cur_group += 1\n",
    "            cur_form_factor = row['boiling_form_factor']\n",
    "        group_values.append(cur_group)\n",
    "    boiling_plan['group'] = group_values\n",
    "    return boiling_plan"
   ]
  },
  {
   "cell_type": "markdown",
   "metadata": {},
   "source": [
    "# Create schedule for sample boiling"
   ]
  },
  {
   "cell_type": "code",
   "execution_count": 5,
   "metadata": {},
   "outputs": [],
   "source": [
    "def make_boiling(boiling_plan):\n",
    "    boiling_model = boiling_plan.iloc[0]['boiling']\n",
    "    \n",
    "    # todo: del\n",
    "    if boiling_model.boiling_type == 'salt':\n",
    "        boiling_model.meltings.speed = 850 / 50 * 60\n",
    "\n",
    "    maker, root, make = new_block_maker(default_push_func=dummy_push)\n",
    "\n",
    "    # [termizator.time]\n",
    "    # todo: del\n",
    "    termizator = db.session.query(Termizator).first()\n",
    "    termizator.pouring_time = 30\n",
    "    \n",
    "    with make('boiling', boiling_model=boiling_model):\n",
    "        with make('pouring', push_func=add_push):\n",
    "            with make('first'):\n",
    "                make('termizator', time_size=termizator.pouring_time)\n",
    "                make('fermenting', time_size=boiling_model.pourings.pouring_time - termizator.pouring_time)\n",
    "                make('soldification', time_size=boiling_model.pourings.soldification_time)\n",
    "                make('cutting', time_size=boiling_model.pourings.cutting_time)\n",
    "            with make('second'):\n",
    "                make('pouring_off', time_size=boiling_model.pourings.pouring_off_time)\n",
    "                make('extra', time_size=boiling_model.pourings.extra_time)\n",
    "\n",
    "        make('drenator', \n",
    "             t=root['boiling']['pouring']['first'].end(),\n",
    "             time_size=boiling_model.lines.cheddarization_time * 12 * 5, \n",
    "             push_func=add_push)\n",
    "\n",
    "        with make('melting'):\n",
    "            serving = make('serving', push_func=add_push, time_size=boiling_model.meltings.serving_time).block\n",
    "\n",
    "            meltings = make('meltings', push_func=add_push, t=serving.length()).block\n",
    "            coolings = make('coolings', push_func=add_push, t=serving.length()).block\n",
    "\n",
    "            for group, grp in boiling_plan.groupby('group'):\n",
    "                if group > 1 and boiling_model.boiling_type == 'water':\n",
    "                    # non-first group - reconfigure time\n",
    "                    dummy_push(meltings, Block('melting_configuration', size=1))\n",
    "\n",
    "                melting_process = Block('melting_process',\n",
    "                                        time_size=custom_round(grp['kg'].sum() / boiling_model.meltings.speed * 60, 5, 'ceil'),\n",
    "                                       actual_time_size=grp['kg'].sum() / boiling_model.meltings.speed * 60)\n",
    "\n",
    "                dummy_push(meltings, melting_process)\n",
    "\n",
    "                # add cooling\n",
    "                cooling_process = Block('cooling_process', t=melting_process.props.relative_props['t'])\n",
    "                cooling_maker, _, cooling_make = new_block_maker(cooling_process, default_push_func=dummy_push)\n",
    "\n",
    "                with cooling_make('start'):\n",
    "                    if boiling_model.boiling_type == 'water':\n",
    "                        cooling_make('cooling', time_size=boiling_model.meltings.first_cooling_time)\n",
    "                        cooling_make('cooling', time_size=boiling_model.meltings.second_cooling_time)\n",
    "                    elif boiling_model.boiling_type == 'salt':\n",
    "                        cooling_make('salting', time_size=boiling_model.meltings.salting_time)\n",
    "\n",
    "                with cooling_make('finish'):\n",
    "                    if boiling_model.boiling_type == 'water':\n",
    "                        cooling_make('cooling', time_size=melting_process.props['time_size'])\n",
    "                    elif boiling_model.boiling_type == 'salt':\n",
    "                        cooling_make('salting', time_size=melting_process.props['time_size'])\n",
    "\n",
    "                add_push(coolings, cooling_process)\n",
    "                \n",
    "    return root['boiling']"
   ]
  },
  {
   "cell_type": "code",
   "execution_count": 6,
   "metadata": {},
   "outputs": [
    {
     "name": "stdout",
     "output_type": "stream",
     "text": [
      "Boiling 1.0 water\n",
      "================================================================================================== boiling 0:[0,98)\n",
      "=========================== pouring 0:[0,27)\n",
      "====================== first 0:[0,22)\n",
      "====== termizator 0:[0,6)\n",
      "      == fermenting 0:[6,8)\n",
      "        ======= soldification 0:[8,15)\n",
      "               ======= cutting 0:[15,22)\n",
      "                      ===== second 0:[22,27)\n",
      "                      === pouring_off 0:[22,25)\n",
      "                         == extra 0:[25,27)\n",
      "                      ================================================ drenator 0:[22,70)\n",
      "                                                                      ============================ melting 0:[70,98)\n",
      "                                                                      ====== serving 0:[70,76)\n",
      "                                                                            ============== meltings 0:[76,90)\n",
      "                                                                            ============== melting_process 0:[76,90)\n",
      "                                                                            ====================== coolings 0:[76,98)\n",
      "                                                                            ====================== cooling_process 0:[76,98)\n",
      "                                                                            ======== start 0:[76,84)\n",
      "                                                                            ==== cooling 0:[76,80)\n",
      "                                                                                ==== cooling 0:[80,84)\n",
      "                                                                                    ============== finish 0:[84,98)\n",
      "                                                                                    ============== cooling 0:[84,98)\n",
      "\n",
      "Boiling 2.0 water\n",
      "================================================================================================== boiling 0:[0,98)\n",
      "=========================== pouring 0:[0,27)\n",
      "====================== first 0:[0,22)\n",
      "====== termizator 0:[0,6)\n",
      "      == fermenting 0:[6,8)\n",
      "        ======= soldification 0:[8,15)\n",
      "               ======= cutting 0:[15,22)\n",
      "                      ===== second 0:[22,27)\n",
      "                      === pouring_off 0:[22,25)\n",
      "                         == extra 0:[25,27)\n",
      "                      ================================================ drenator 0:[22,70)\n",
      "                                                                      ============================ melting 0:[70,98)\n",
      "                                                                      ====== serving 0:[70,76)\n",
      "                                                                            ============== meltings 0:[76,90)\n",
      "                                                                            ============== melting_process 0:[76,90)\n",
      "                                                                            ====================== coolings 0:[76,98)\n",
      "                                                                            ====================== cooling_process 0:[76,98)\n",
      "                                                                            ======== start 0:[76,84)\n",
      "                                                                            ==== cooling 0:[76,80)\n",
      "                                                                                ==== cooling 0:[80,84)\n",
      "                                                                                    ============== finish 0:[84,98)\n",
      "                                                                                    ============== cooling 0:[84,98)\n",
      "\n"
     ]
    },
    {
     "name": "stderr",
     "output_type": "stream",
     "text": [
      "<ipython-input-4-79e6b335079c>:13: SettingWithCopyWarning: \n",
      "A value is trying to be set on a copy of a slice from a DataFrame.\n",
      "Try using .loc[row_indexer,col_indexer] = value instead\n",
      "\n",
      "See the caveats in the documentation: https://pandas.pydata.org/pandas-docs/stable/user_guide/indexing.html#returning-a-view-versus-a-copy\n",
      "  boiling_plan['group'] = group_values\n",
      "<ipython-input-4-79e6b335079c>:13: SettingWithCopyWarning: \n",
      "A value is trying to be set on a copy of a slice from a DataFrame.\n",
      "Try using .loc[row_indexer,col_indexer] = value instead\n",
      "\n",
      "See the caveats in the documentation: https://pandas.pydata.org/pandas-docs/stable/user_guide/indexing.html#returning-a-view-versus-a-copy\n",
      "  boiling_plan['group'] = group_values\n"
     ]
    }
   ],
   "source": [
    "boilings = []\n",
    "ids = list(boiling_plan_df['id'].unique())[:2]\n",
    "for id in ids:\n",
    "    boiling_plan = gen_boiling_plan(boiling_plan_df, id)\n",
    "    boiling = make_boiling(boiling_plan)\n",
    "    print('Boiling', id, boiling.props['boiling_model'].boiling_type)\n",
    "    print(draw_print(boiling))\n",
    "    boilings.append(boiling)\n"
   ]
  },
  {
   "cell_type": "markdown",
   "metadata": {},
   "source": [
    "# Combine boilings"
   ]
  },
  {
   "cell_type": "code",
   "execution_count": 16,
   "metadata": {},
   "outputs": [],
   "source": [
    "def boiling_validator(parent, boiling):\n",
    "    if not parent.children:\n",
    "        return\n",
    "\n",
    "    boilings = [node for node in parent.children if node.props['class'] == 'boiling']\n",
    "\n",
    "    b2 = boiling\n",
    "\n",
    "    for b1 in reversed(boilings[-6:]): # compare with four previous boilings\n",
    "        validate_disjoint(b1['pouring'][0]['termizator'], b2['pouring'][0]['termizator'])  # [termizator.basic]\n",
    "\n",
    "        # cannot make two boilings on same line at the same time\n",
    "        if b1['pouring'].props['pouring_line'] == b2['pouring'].props['pouring_line']:\n",
    "            validate_disjoint(b1['pouring'], b2['pouring'])\n",
    "\n",
    "        if b1.props['boiling_type'] == b2.props['boiling_type']:\n",
    "            # [melting.disjoint]\n",
    "            validate_disjoint(b1['melting']['meltings'], b2['melting']['meltings'])"
   ]
  },
  {
   "cell_type": "code",
   "execution_count": 17,
   "metadata": {},
   "outputs": [
    {
     "data": {
      "text/html": [
       "<div>\n",
       "<style scoped>\n",
       "    .dataframe tbody tr th:only-of-type {\n",
       "        vertical-align: middle;\n",
       "    }\n",
       "\n",
       "    .dataframe tbody tr th {\n",
       "        vertical-align: top;\n",
       "    }\n",
       "\n",
       "    .dataframe thead th {\n",
       "        text-align: right;\n",
       "    }\n",
       "</style>\n",
       "<table border=\"1\" class=\"dataframe\">\n",
       "  <thead>\n",
       "    <tr style=\"text-align: right;\">\n",
       "      <th></th>\n",
       "      <th>id</th>\n",
       "      <th>boiling</th>\n",
       "      <th>sku</th>\n",
       "      <th>kg</th>\n",
       "      <th>packing_speed</th>\n",
       "      <th>boiling_form_factor</th>\n",
       "      <th>packing_team_id</th>\n",
       "      <th>group</th>\n",
       "    </tr>\n",
       "  </thead>\n",
       "  <tbody>\n",
       "    <tr>\n",
       "      <th>1</th>\n",
       "      <td>2.0</td>\n",
       "      <td>&lt;Boiling 9&gt;</td>\n",
       "      <td>&lt;SKU 25&gt;</td>\n",
       "      <td>1000.0</td>\n",
       "      <td>960</td>\n",
       "      <td>&lt;BoilingFormFactor 13&gt;</td>\n",
       "      <td>1.0</td>\n",
       "      <td>1</td>\n",
       "    </tr>\n",
       "  </tbody>\n",
       "</table>\n",
       "</div>"
      ],
      "text/plain": [
       "    id      boiling       sku      kg  packing_speed     boiling_form_factor  \\\n",
       "1  2.0  <Boiling 9>  <SKU 25>  1000.0            960  <BoilingFormFactor 13>   \n",
       "\n",
       "   packing_team_id  group  \n",
       "1              1.0      1  "
      ]
     },
     "execution_count": 17,
     "metadata": {},
     "output_type": "execute_result"
    }
   ],
   "source": [
    "boiling_plan.head()"
   ]
  },
  {
   "cell_type": "code",
   "execution_count": 54,
   "metadata": {},
   "outputs": [
    {
     "data": {
      "text/html": [
       "<div>\n",
       "<style scoped>\n",
       "    .dataframe tbody tr th:only-of-type {\n",
       "        vertical-align: middle;\n",
       "    }\n",
       "\n",
       "    .dataframe tbody tr th {\n",
       "        vertical-align: top;\n",
       "    }\n",
       "\n",
       "    .dataframe thead th {\n",
       "        text-align: right;\n",
       "    }\n",
       "</style>\n",
       "<table border=\"1\" class=\"dataframe\">\n",
       "  <thead>\n",
       "    <tr style=\"text-align: right;\">\n",
       "      <th></th>\n",
       "      <th>iter_props</th>\n",
       "      <th>start_time</th>\n",
       "      <th>boiling_ids_left</th>\n",
       "      <th>latest_boiling</th>\n",
       "    </tr>\n",
       "  </thead>\n",
       "  <tbody>\n",
       "    <tr>\n",
       "      <th>water</th>\n",
       "      <td>[{'pouring_line': '0'}, {'pouring_line': '1'}]</td>\n",
       "      <td>09:50</td>\n",
       "      <td>[1.0, 2.0, 3.0, 4.0, 5.0]</td>\n",
       "      <td>None</td>\n",
       "    </tr>\n",
       "    <tr>\n",
       "      <th>salt</th>\n",
       "      <td>[{'pouring_line': '2'}, {'pouring_line': '3'}]</td>\n",
       "      <td>07:05</td>\n",
       "      <td>[6.0, 7.0, 8.0, 9.0, 10.0, 11.0, 13.0, 14.0, 15.0, 16.0, 17.0]</td>\n",
       "      <td>None</td>\n",
       "    </tr>\n",
       "  </tbody>\n",
       "</table>\n",
       "</div>"
      ],
      "text/plain": [
       "                                           iter_props start_time  \\\n",
       "water  [{'pouring_line': '0'}, {'pouring_line': '1'}]      09:50   \n",
       "salt   [{'pouring_line': '2'}, {'pouring_line': '3'}]      07:05   \n",
       "\n",
       "                                                     boiling_ids_left  \\\n",
       "water                                       [1.0, 2.0, 3.0, 4.0, 5.0]   \n",
       "salt   [6.0, 7.0, 8.0, 9.0, 10.0, 11.0, 13.0, 14.0, 15.0, 16.0, 17.0]   \n",
       "\n",
       "      latest_boiling  \n",
       "water           None  \n",
       "salt            None  "
      ]
     },
     "execution_count": 54,
     "metadata": {},
     "output_type": "execute_result"
    }
   ],
   "source": [
    "lines_df = pd.DataFrame(index=['water', 'salt'], columns=['iter_props', 'start_time', 'boiling_ids_left', 'latest_boiling'])\n",
    "lines_df.at['water', 'iter_props'] = [{'pouring_line': str(v)} for v in [0, 1]]\n",
    "lines_df.at['salt', 'iter_props'] = [{'pouring_line': str(v)} for v in [2, 3]]\n",
    "\n",
    "# [cheesemakers.start_time]\n",
    "lines_df.at['water', 'start_time'] = '09:50'\n",
    "lines_df.at['salt', 'start_time'] = '07:05'\n",
    "\n",
    "for boiling_type in ['water', 'salt']:\n",
    "    ids = boiling_plan_df[boiling_plan_df['boiling'].apply(lambda b: b.boiling_type) == boiling_type].id\n",
    "    ids = list(ids)\n",
    "    ids = remove_duplicates(ids)\n",
    "    lines_df.at[boiling_type, 'boiling_ids_left'] = ids\n",
    "    \n",
    "lines_df['latest_boiling'] = None\n",
    "lines_df"
   ]
  },
  {
   "cell_type": "code",
   "execution_count": 55,
   "metadata": {},
   "outputs": [],
   "source": [
    "\n",
    "schedule = Block('schedule')\n",
    "\n",
    "def add_block(boiling_type):\n",
    "    boiling_id = lines_df.at[boiling_type, 'boiling_ids_left'].pop(0)\n",
    "    boiling_plan = gen_boiling_plan(boiling_plan_df, boiling_id)\n",
    "    boiling = make_boiling(boiling_plan)\n",
    "\n",
    "    if not lines_df.at[boiling_type, 'latest_boiling']:\n",
    "        beg = cast_t(lines_df.at[boiling_type, 'start_time']) - boiling['melting'].beg()\n",
    "    else:\n",
    "        beg = lines_df.at[boiling_type, 'latest_boiling'].x1\n",
    "\n",
    "    dummy_push(schedule, boiling, iter_props=lines_df.at[boiling_type, 'iter_props'], validator=boiling_validator, beg=beg, max_tries=100)\n",
    "\n",
    "    lines_df.at[boiling_type, 'latest_boiling'] = boiling\n",
    "    return boiling"
   ]
  },
  {
   "cell_type": "code",
   "execution_count": 56,
   "metadata": {
    "scrolled": true
   },
   "outputs": [
    {
     "name": "stderr",
     "output_type": "stream",
     "text": [
      "<ipython-input-4-79e6b335079c>:13: SettingWithCopyWarning: \n",
      "A value is trying to be set on a copy of a slice from a DataFrame.\n",
      "Try using .loc[row_indexer,col_indexer] = value instead\n",
      "\n",
      "See the caveats in the documentation: https://pandas.pydata.org/pandas-docs/stable/user_guide/indexing.html#returning-a-view-versus-a-copy\n",
      "  boiling_plan['group'] = group_values\n"
     ]
    }
   ],
   "source": [
    "add_block('water');\n",
    "# add_block('salt')\n",
    "# add_block('salt')\n",
    "# add_block('water')"
   ]
  },
  {
   "cell_type": "markdown",
   "metadata": {},
   "source": [
    "# Draw boilings"
   ]
  },
  {
   "cell_type": "code",
   "execution_count": 75,
   "metadata": {},
   "outputs": [],
   "source": [
    "def add_push_with_props(parent, block, **kwargs):\n",
    "    new_props = block.props.get_all_props()\n",
    "    new_props.update(kwargs)\n",
    "    return add_push(parent, block, new_props=new_props)\n",
    "\n",
    "maker, front, make = new_block_maker(default_push_func=dummy_push)\n",
    "\n",
    "make('stub', h=1, push_func=dummy_push_y)\n",
    "\n",
    "with make('header', h=1, index_width=3, push_func=dummy_push_y, visible=False):\n",
    "    make(h=1, size=1, text='График наливов', push_func=add_push)\n",
    "    for i in range(288):\n",
    "        cur_time = cast_time(i + cast_t('01:00'))\n",
    "        if cur_time[-2:] == '00':\n",
    "            make(t=1 + i, size=1, h=1, text=str(int(cur_time[:2])), color=(218, 150, 148), text_rotation=90, push_func=add_push)\n",
    "        else:\n",
    "            make(t=1 + i, size=1, h=1, text=cur_time[-2:], color=(204, 255, 255), text_rotation=90, push_func=add_push)\n",
    "\n",
    "boiling_type = 'water'\n",
    "n_cooling_lines = 4\n",
    "with make('line', h=2 * (n_cooling_lines + 2) + 1, push_func=dummy_push_y):\n",
    "    for i in range(2):\n",
    "        with make(f'pouring_line_{i}', h=n_cooling_lines + 1, push_func=dummy_push_y):\n",
    "            with make(h=2, push_func=dummy_push_y):\n",
    "                for boiling in [boiling for boiling in listify(schedule['boiling']) if boiling.props['pouring_line'] == str(i)]:\n",
    "                    make(boiling['pouring'], push_func=add_push_with_props, push_kwargs={'y': 0})\n",
    "                    make(boiling['drenator'], y=1, push_func=add_push_with_props, push_kwargs={'y': 1})\n",
    "                    make(boiling['melting']['serving'], y=1, push_func=add_push_with_props, push_kwargs={'y': 1})\n",
    "                    make(boiling['melting']['meltings'], y=1, push_func=add_push_with_props, push_kwargs={'y': 1})\n",
    "            \n",
    "            cooling_lines = [make(f'cooling_{i}', h=1, push_func=dummy_push_y).block for i in range(n_cooling_lines)]\n",
    "\n",
    "            cur_i = 0\n",
    "            for boiling in [boiling for boiling in listify(schedule['boiling']) if boiling.props['boiling_model'].boiling_type == boiling_type and boiling.props['pouring_line'] == str(i)]:\n",
    "                for cooling_process in listify(boiling['melting']['coolings']['cooling_process']):\n",
    "                    for cooling in cooling_process.iter():\n",
    "                        if cooling.props['class'] in ['cooling', 'salting']:\n",
    "                            add_push_with_props(cooling_lines[cur_i % n_cooling_lines], cooling)\n",
    "                    cur_i += 1\n",
    "        make('stub', h=1, push_func=dummy_push_y)"
   ]
  },
  {
   "cell_type": "code",
   "execution_count": 76,
   "metadata": {},
   "outputs": [
    {
     "data": {
      "text/plain": [
       "line (2, 15] x (0, 146]\n",
       "  pouring_line_0 (2, 7] x (0, 146]\n",
       "    block (2, 4] x (0, 138]\n",
       "      pouring (2, 3] x (48, 75]\n",
       "        first (2, 3] x (48, 70]\n",
       "          termizator (2, 3] x (48, 54]\n",
       "          fermenting (2, 3] x (54, 56]\n",
       "          soldification (2, 3] x (56, 63]\n",
       "          cutting (2, 3] x (63, 70]\n",
       "        second (2, 3] x (70, 75]\n",
       "          pouring_off (2, 3] x (70, 73]\n",
       "          extra (2, 3] x (73, 75]\n",
       "      drenator (3, 4] x (70, 118]\n",
       "      serving (3, 4] x (118, 124]\n",
       "      meltings (3, 4] x (124, 138]\n",
       "        melting_process (3, 4] x (124, 138]\n",
       "    cooling_0 (4, 5] x (0, 146]\n",
       "      cooling (36, 37] x (124, 128]\n",
       "      cooling (36, 37] x (128, 132]\n",
       "      cooling (36, 37] x (132, 146]\n",
       "    cooling_1 (5, 6] x (0, 0]\n",
       "    cooling_2 (6, 7] x (0, 0]\n",
       "    cooling_3 (7, 8] x (0, 0]\n",
       "  stub (7, 8] x (0, 0]\n",
       "  pouring_line_1 (8, 13] x (0, 0]\n",
       "    block (8, 10] x (0, 0]\n",
       "    cooling_0 (10, 11] x (0, 0]\n",
       "    cooling_1 (11, 12] x (0, 0]\n",
       "    cooling_2 (12, 13] x (0, 0]\n",
       "    cooling_3 (13, 14] x (0, 0]\n",
       "  stub (13, 14] x (0, 0]"
      ]
     },
     "execution_count": 76,
     "metadata": {},
     "output_type": "execute_result"
    }
   ],
   "source": [
    "front['line']"
   ]
  },
  {
   "cell_type": "code",
   "execution_count": 77,
   "metadata": {},
   "outputs": [],
   "source": [
    "style = load_style()\n",
    "wb = draw_schedule(front, style, init_sheet_func=init_sheet)\n",
    "wb.save('output.xlsx')\n",
    "open_file_in_os('output.xlsx') "
   ]
  },
  {
   "cell_type": "markdown",
   "metadata": {},
   "source": [
    "# План\n",
    "2. Сделать объединенные варки с фасовкой\n",
    "3. Нарисовать полное расписание\n",
    "4. Добавить перенастройки и мойки"
   ]
  }
 ],
 "metadata": {
  "kernelspec": {
   "display_name": "Python 3",
   "language": "python",
   "name": "python3"
  },
  "language_info": {
   "codemirror_mode": {
    "name": "ipython",
    "version": 3
   },
   "file_extension": ".py",
   "mimetype": "text/x-python",
   "name": "python",
   "nbconvert_exporter": "python",
   "pygments_lexer": "ipython3",
   "version": "3.8.5"
  }
 },
 "nbformat": 4,
 "nbformat_minor": 4
}

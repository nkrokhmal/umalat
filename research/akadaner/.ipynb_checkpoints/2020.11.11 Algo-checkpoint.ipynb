{
 "cells": [
  {
   "cell_type": "code",
   "execution_count": 371,
   "metadata": {},
   "outputs": [],
   "source": [
    "import sys\n",
    "# sys.path.append('/mnt/6088FEB688FE89B4/Users/arsen/Desktop/code/git/python-utils-ak')\n",
    "sys.path.append(r'C:\\Users\\arsen\\Desktop\\code\\git\\python-utils-ak')\n",
    "from utils_ak.reflexion import load as _load\n",
    "\n",
    "def _import_globals(module):\n",
    "    for x in dir(module):\n",
    "        if not x.startswith('_'):\n",
    "            globals()[x] = getattr(module, x)\n",
    "            \n",
    "def load(module_obj, module_name=None, reload=False, import_globals=False):\n",
    "    module = _load(module_obj, module_name, reload, import_globals=False)\n",
    "    if import_globals:\n",
    "        _import_globals(module)\n",
    "    return module"
   ]
  },
  {
   "cell_type": "code",
   "execution_count": 501,
   "metadata": {},
   "outputs": [
    {
     "data": {
      "text/plain": [
       "<module 'src/drawing.py' from 'src/drawing.py'>"
      ]
     },
     "execution_count": 501,
     "metadata": {},
     "output_type": "execute_result"
    }
   ],
   "source": [
    "load('src/time.py', import_globals=True, reload=True)\n",
    "load('src/block.py', import_globals=True, reload=True)\n",
    "load('src/color.py', import_globals=True, reload=True)\n",
    "load('src/drawing.py', import_globals=True, reload=True)"
   ]
  },
  {
   "cell_type": "markdown",
   "metadata": {},
   "source": [
    "# Models"
   ]
  },
  {
   "cell_type": "code",
   "execution_count": 373,
   "metadata": {},
   "outputs": [],
   "source": [
    "request = {'Моцарелла Фиор ди Латте в воде \"Красная птица\", 45%, 0,125 кг, ф/п': 1, \n",
    "          'Моцарелла Фиор Ди Латте в воде \"Pretto\", 45%, 0,125 кг, ф/п, (8 шт)': 1}"
   ]
  },
  {
   "cell_type": "code",
   "execution_count": 374,
   "metadata": {},
   "outputs": [],
   "source": [
    "import pandas as pd"
   ]
  },
  {
   "cell_type": "code",
   "execution_count": 375,
   "metadata": {},
   "outputs": [
    {
     "data": {
      "text/html": [
       "<div>\n",
       "<style scoped>\n",
       "    .dataframe tbody tr th:only-of-type {\n",
       "        vertical-align: middle;\n",
       "    }\n",
       "\n",
       "    .dataframe tbody tr th {\n",
       "        vertical-align: top;\n",
       "    }\n",
       "\n",
       "    .dataframe thead th {\n",
       "        text-align: right;\n",
       "    }\n",
       "</style>\n",
       "<table border=\"1\" class=\"dataframe\">\n",
       "  <thead>\n",
       "    <tr style=\"text-align: right;\">\n",
       "      <th></th>\n",
       "      <th>name</th>\n",
       "      <th>qty</th>\n",
       "    </tr>\n",
       "  </thead>\n",
       "  <tbody>\n",
       "    <tr>\n",
       "      <th>0</th>\n",
       "      <td>Моцарелла Фиор ди Латте в воде \"Красная птица\"...</td>\n",
       "      <td>1</td>\n",
       "    </tr>\n",
       "    <tr>\n",
       "      <th>1</th>\n",
       "      <td>Моцарелла Фиор Ди Латте в воде \"Pretto\", 45%, ...</td>\n",
       "      <td>1</td>\n",
       "    </tr>\n",
       "  </tbody>\n",
       "</table>\n",
       "</div>"
      ],
      "text/plain": [
       "                                                name  qty\n",
       "0  Моцарелла Фиор ди Латте в воде \"Красная птица\"...    1\n",
       "1  Моцарелла Фиор Ди Латте в воде \"Pretto\", 45%, ...    1"
      ]
     },
     "execution_count": 375,
     "metadata": {},
     "output_type": "execute_result"
    }
   ],
   "source": [
    "df = pd.DataFrame(request.items(), columns=['name', 'qty'])\n",
    "df"
   ]
  },
  {
   "cell_type": "code",
   "execution_count": 296,
   "metadata": {},
   "outputs": [],
   "source": [
    "import sys\n",
    "# sys.path.append('/mnt/6088FEB688FE89B4/Users/arsen/Desktop/code/git/2020.10-umalat/umalat')\n",
    "sys.path.append(r'C:\\Users\\arsen\\Desktop\\code\\git\\2020.10-umalat\\umalat')\n"
   ]
  },
  {
   "cell_type": "code",
   "execution_count": 297,
   "metadata": {},
   "outputs": [],
   "source": [
    "from app.models import *\n",
    "from app.models import Boiling as BoilingModel"
   ]
  },
  {
   "cell_type": "code",
   "execution_count": 298,
   "metadata": {},
   "outputs": [],
   "source": [
    "from sqlalchemy import create_engine\n",
    "from sqlalchemy.orm import sessionmaker\n",
    "\n",
    "# sqlite_filepath = '/home/akadaner/Desktop/data.sqlite'\n",
    "sqlite_filepath = r\"C:\\Users\\arsen\\Desktop\\code\\git\\2020.10-umalat\\umalat\\data.sqlite\"\n",
    "engine = create_engine(f\"sqlite:///{sqlite_filepath}\")\n",
    "Session = sessionmaker()\n",
    "Session.configure(bind=engine)\n",
    "session = Session()"
   ]
  },
  {
   "cell_type": "code",
   "execution_count": 299,
   "metadata": {},
   "outputs": [],
   "source": [
    "df['sku'] = df['name'].apply(lambda s: session.query(SKU).filter(SKU.name == s).first())"
   ]
  },
  {
   "cell_type": "code",
   "execution_count": 300,
   "metadata": {},
   "outputs": [
    {
     "data": {
      "text/html": [
       "<div>\n",
       "<style scoped>\n",
       "    .dataframe tbody tr th:only-of-type {\n",
       "        vertical-align: middle;\n",
       "    }\n",
       "\n",
       "    .dataframe tbody tr th {\n",
       "        vertical-align: top;\n",
       "    }\n",
       "\n",
       "    .dataframe thead th {\n",
       "        text-align: right;\n",
       "    }\n",
       "</style>\n",
       "<table border=\"1\" class=\"dataframe\">\n",
       "  <thead>\n",
       "    <tr style=\"text-align: right;\">\n",
       "      <th></th>\n",
       "      <th>name</th>\n",
       "      <th>qty</th>\n",
       "      <th>sku</th>\n",
       "    </tr>\n",
       "  </thead>\n",
       "  <tbody>\n",
       "    <tr>\n",
       "      <th>0</th>\n",
       "      <td>Моцарелла Фиор ди Латте в воде \"Красная птица\"...</td>\n",
       "      <td>1</td>\n",
       "      <td>&lt;SKU 27&gt;</td>\n",
       "    </tr>\n",
       "    <tr>\n",
       "      <th>1</th>\n",
       "      <td>Моцарелла Фиор Ди Латте в воде \"Pretto\", 45%, ...</td>\n",
       "      <td>1</td>\n",
       "      <td>&lt;SKU 24&gt;</td>\n",
       "    </tr>\n",
       "  </tbody>\n",
       "</table>\n",
       "</div>"
      ],
      "text/plain": [
       "                                                name  qty       sku\n",
       "0  Моцарелла Фиор ди Латте в воде \"Красная птица\"...    1  <SKU 27>\n",
       "1  Моцарелла Фиор Ди Латте в воде \"Pretto\", 45%, ...    1  <SKU 24>"
      ]
     },
     "execution_count": 300,
     "metadata": {},
     "output_type": "execute_result"
    }
   ],
   "source": [
    "df"
   ]
  },
  {
   "cell_type": "code",
   "execution_count": 301,
   "metadata": {},
   "outputs": [],
   "source": [
    "sku = df.iloc[0]['sku']"
   ]
  },
  {
   "cell_type": "code",
   "execution_count": 302,
   "metadata": {},
   "outputs": [
    {
     "data": {
      "text/plain": [
       "<Boiling 1>"
      ]
     },
     "execution_count": 302,
     "metadata": {},
     "output_type": "execute_result"
    }
   ],
   "source": [
    "session.query(BoilingModel).first()"
   ]
  },
  {
   "cell_type": "code",
   "execution_count": 303,
   "metadata": {},
   "outputs": [],
   "source": [
    "df['boiling'] = df['sku'].apply(lambda sku: session.query(BoilingModel).filter(BoilingModel.id == sku.boiling_id).first())"
   ]
  },
  {
   "cell_type": "code",
   "execution_count": 304,
   "metadata": {},
   "outputs": [
    {
     "data": {
      "text/html": [
       "<div>\n",
       "<style scoped>\n",
       "    .dataframe tbody tr th:only-of-type {\n",
       "        vertical-align: middle;\n",
       "    }\n",
       "\n",
       "    .dataframe tbody tr th {\n",
       "        vertical-align: top;\n",
       "    }\n",
       "\n",
       "    .dataframe thead th {\n",
       "        text-align: right;\n",
       "    }\n",
       "</style>\n",
       "<table border=\"1\" class=\"dataframe\">\n",
       "  <thead>\n",
       "    <tr style=\"text-align: right;\">\n",
       "      <th></th>\n",
       "      <th>name</th>\n",
       "      <th>qty</th>\n",
       "      <th>sku</th>\n",
       "      <th>boiling</th>\n",
       "    </tr>\n",
       "  </thead>\n",
       "  <tbody>\n",
       "    <tr>\n",
       "      <th>0</th>\n",
       "      <td>Моцарелла Фиор ди Латте в воде \"Красная птица\"...</td>\n",
       "      <td>1</td>\n",
       "      <td>&lt;SKU 27&gt;</td>\n",
       "      <td>&lt;Boiling 6&gt;</td>\n",
       "    </tr>\n",
       "    <tr>\n",
       "      <th>1</th>\n",
       "      <td>Моцарелла Фиор Ди Латте в воде \"Pretto\", 45%, ...</td>\n",
       "      <td>1</td>\n",
       "      <td>&lt;SKU 24&gt;</td>\n",
       "      <td>&lt;Boiling 6&gt;</td>\n",
       "    </tr>\n",
       "  </tbody>\n",
       "</table>\n",
       "</div>"
      ],
      "text/plain": [
       "                                                name  qty       sku  \\\n",
       "0  Моцарелла Фиор ди Латте в воде \"Красная птица\"...    1  <SKU 27>   \n",
       "1  Моцарелла Фиор Ди Латте в воде \"Pretto\", 45%, ...    1  <SKU 24>   \n",
       "\n",
       "       boiling  \n",
       "0  <Boiling 6>  \n",
       "1  <Boiling 6>  "
      ]
     },
     "execution_count": 304,
     "metadata": {},
     "output_type": "execute_result"
    }
   ],
   "source": [
    "df"
   ]
  },
  {
   "cell_type": "code",
   "execution_count": 305,
   "metadata": {},
   "outputs": [],
   "source": [
    "lines = ['cheese_maker', 'melting', 'termizator', 'packing']"
   ]
  },
  {
   "cell_type": "markdown",
   "metadata": {},
   "source": [
    "# Block"
   ]
  },
  {
   "cell_type": "code",
   "execution_count": 512,
   "metadata": {},
   "outputs": [],
   "source": [
    "ROWS = {'water_1': 6, 'water_2': 9, 'salt_1': 15, 'salt_2': 18, 'water_melting': 24, 'water_packing': 29, 'salt_melting': 33, 'salt_packing': 46}\n",
    "# ROWS = {'water_1': 1, 'water_2': 3, 'water_melting': 5, 'water_packing': 8}\n",
    "\n",
    "def cast_row(obj):\n",
    "    if isinstance(obj, int):\n",
    "        return obj\n",
    "    elif isinstance(obj, str):\n",
    "        return ROWS[obj]\n",
    "    else:\n",
    "        raise Exception('Unknown object type')"
   ]
  },
  {
   "cell_type": "code",
   "execution_count": 513,
   "metadata": {},
   "outputs": [],
   "source": [
    "style = {\n",
    "    'pouring': {'beg_time': '01:00'},\n",
    "    'termizator': {'text': '{block_num} налив'},\n",
    "    'pouring_name': {'text': '{name}'},\n",
    "    'pouring_and_fermenting': {'text': 'налив/внесение закваски', 'color': 'orange'},\n",
    "    'soldification': {'text': 'схватка', 'color': 'yellow'},\n",
    "    'cutting': {'text': 'резка/обсушка', 'color': '#92d050'},\n",
    "    'pouring_off': {'text': 'слив', 'color': 'red'},\n",
    "    'melting': {'beg_time': '07:00', 'y': cast_row('water_melting')},\n",
    "    'melting_label': {'text': '{block_num}'},\n",
    "    'melting_name': {'text': '{name}'},\n",
    "    'serving': {'color': 'orange', 'text': 'подача и вымешивание'},\n",
    "    'melting_process': {'color': 'orange', 'text': 'плавление {speed} кг/ч'},\n",
    "    'cooling1': {'text': 'охлаж1 <{size} * 5> мин'},\n",
    "    'cooling2': {'text': 'охлаж2 <{size} * 5> мин'},\n",
    "    'packing': {'beg_time': '07:00', 'y': cast_row('water_packing')},\n",
    "    'packing_label': {'text': '{block_num}'},\n",
    "    'packing_name': {'text': '{name}'},\n",
    "    'packing_brand': {'color': '#f2dcdb', 'text': '{name}'},\n",
    "    'configuration': {'color': 'red'}\n",
    "}"
   ]
  },
  {
   "cell_type": "markdown",
   "metadata": {},
   "source": [
    "# Advanced Validator"
   ]
  },
  {
   "cell_type": "code",
   "execution_count": 521,
   "metadata": {},
   "outputs": [],
   "source": [
    "def atom_validate(b1, b2):\n",
    "#     print(b1['class'], b2['class'])\n",
    "    b1, b2 = min([b1, b2], key=lambda b: str(b.interval)), max([b1, b2], key=lambda b: str(b.interval))\n",
    "    \n",
    "    if b1['class'] == b2['class'] == 'termizator':\n",
    "        validate_disjoint(b1, b2)\n",
    "    \n",
    "    if b1['line'] == b2['line']:\n",
    "        if {b1['class'], b2['class']} in [{'pouring'}, {'melting'}, {'packing'}]:\n",
    "            validate_disjoint(b1, b2)\n",
    "        \n",
    "        if {b1['class'], b2['class']} in [{'packing', 'cooling1'}, {'packing', 'cooling2'}]:\n",
    "            validate_disjoint(b1, b2)\n",
    "    \n",
    "def atom_validator(b1, b2):\n",
    "    for atom_b1 in b1.flatten():\n",
    "        for atom_b2 in b2.flatten():\n",
    "            atom_validate(atom_b1, atom_b2)    "
   ]
  },
  {
   "cell_type": "code",
   "execution_count": 522,
   "metadata": {},
   "outputs": [
    {
     "data": {
      "text/plain": [
       "block {'t': 10, 'class': 'block'}\n",
       "  pouring {'size': 5, 'line': 1, 'class': 'pouring', 't': 0}\n",
       "    termizator {'size': 1, 'class': 'termizator', 't': 0}\n",
       "  pouring {'size': 5, 'line': 2, 'class': 'pouring', 't': 1}\n",
       "    termizator {'size': 1, 'class': 'termizator', 't': 0}"
      ]
     },
     "execution_count": 522,
     "metadata": {},
     "output_type": "execute_result"
    }
   ],
   "source": [
    "root = Block(t=10)\n",
    "block1 = Block('pouring', size=5, line=1)\n",
    "block1.make('termizator', size=1)\n",
    "block2 = Block('pouring', size=5, line=2)\n",
    "block2.make('termizator', size=1)\n",
    "root.push(block1)\n",
    "root.push(block2, validator=atom_validator)\n",
    "root"
   ]
  },
  {
   "cell_type": "code",
   "execution_count": 523,
   "metadata": {},
   "outputs": [],
   "source": [
    "\n",
    "def make_boiling(LINE):\n",
    "    boiling = Block('boiling', block_num=12, line=LINE)\n",
    "    \n",
    "    total_size = 27\n",
    "    with boiling.make('pouring', y=cast_row(f'water_{LINE}'), size=total_size) as pouring:\n",
    "        with pouring.make(y=0, method='add') as b:\n",
    "            b.make('termizator', size=6, block_num=12)\n",
    "            b.make('pouring_name', size=total_size - 6, name='чильеджина  3,6 альче  8500кг')\n",
    "        with pouring.make(y=1, method='add') as b:\n",
    "            b.make('pouring_and_fermenting', size=8)\n",
    "            b.make('soldification', size=7)\n",
    "            b.make('cutting', size=7)\n",
    "            b.make('pouring_off', size=3)\n",
    "            b.make('extra', size=total_size - 8 - 8 - 7 - 3)\n",
    "\n",
    "    boiling.make('drenator', size=cast_t('04:00'), visible=False)\n",
    "\n",
    "    total_size = 25\n",
    "    with boiling.make('melting_and_packing', y=10, size=total_size, line='1') as melting:\n",
    "        with melting.make(y=0, method='add') as b:\n",
    "            b.make('melting_label', size=3)\n",
    "            b.make('melting_name', size=total_size - 3, name='чильеджина 5кг/сердечки/фдл 0,125(безлактозная)/0,1')\n",
    "        with melting.make(y=1, method='add') as b:\n",
    "            b.make('serving', size=6)\n",
    "            b.make('melting_process', size=total_size - 6, speed=900)\n",
    "        with melting.make(y=2, method='add') as b:\n",
    "            b.make(size=6, visible=False)\n",
    "\n",
    "            b.make('cooling1', size=5)\n",
    "            b.make('cooling2', size=10)\n",
    "            \n",
    "            with b.make('packing', size=20) as packing:\n",
    "                with packing.make(y=0, method='add') as b:\n",
    "                    b.make('packing_label', size=3)\n",
    "                    b.make('packing_name', size=total_size - 3, name='чильеджина 5кг/сердечки/фдл 0,125(безлактозная)/0,1')\n",
    "                with packing.make(y=1, method='add') as b:\n",
    "                    b.make('packing_brand', size=total_size, name='безлактозная/претто')\n",
    "                with packing.make(y=2, method='add') as b:\n",
    "                    b.make('configuration', size=3, visible=False)\n",
    "                    b.make('configuration', size=1)\n",
    "                    b.make('configuration', size=5, visible=False)\n",
    "                    b.make('configuration', size=1)\n",
    "    return boiling"
   ]
  },
  {
   "cell_type": "code",
   "execution_count": 524,
   "metadata": {},
   "outputs": [
    {
     "data": {
      "text/plain": [
       "block {'t': 10, 'class': 'block'}\n",
       "  pouring {'size': 5, 'line': 1, 'class': 'pouring', 't': 0}\n",
       "    termizator {'size': 1, 'class': 'termizator', 't': 0}\n",
       "  pouring {'size': 5, 'line': 2, 'class': 'pouring', 't': 1}\n",
       "    termizator {'size': 1, 'class': 'termizator', 't': 0}"
      ]
     },
     "execution_count": 524,
     "metadata": {},
     "output_type": "execute_result"
    }
   ],
   "source": [
    "root"
   ]
  },
  {
   "cell_type": "code",
   "execution_count": 525,
   "metadata": {},
   "outputs": [
    {
     "data": {
      "text/plain": [
       "root {'t': 12, 'index_width': 4, 'class': 'root'}\n",
       "  boiling {'block_num': 12, 'line': '1', 'class': 'boiling', 't': 0}\n",
       "    pouring {'y': 6, 'size': 27, 'class': 'pouring', 't': 0}\n",
       "      block {'y': 0, 'class': 'block'}\n",
       "        termizator {'size': 6, 'block_num': 12, 'class': 'termizator', 't': 0}\n",
       "        pouring_name {'size': 21, 'name': 'чильеджина  3,6 альче  8500кг', 'class': 'pouring_name', 't': 6}\n",
       "      block {'y': 1, 'class': 'block'}\n",
       "        pouring_and_fermenting {'size': 8, 'class': 'pouring_and_fermenting', 't': 0}\n",
       "        soldification {'size': 7, 'class': 'soldification', 't': 8}\n",
       "        cutting {'size': 7, 'class': 'cutting', 't': 15}\n",
       "        pouring_off {'size': 3, 'class': 'pouring_off', 't': 22}\n",
       "        extra {'size': 1, 'class': 'extra', 't': 25}\n",
       "    drenator {'size': 48, 'visible': False, 'class': 'drenator', 't': 27}\n",
       "    melting {'y': 10, 'size': 25, 'line': '1', 'class': 'melting', 't': 75}\n",
       "      block {'y': 0, 'class': 'block'}\n",
       "        melting_label {'size': 3, 'class': 'melting_label', 't': 0}\n",
       "        melting_name {'size': 22, 'name': 'чильеджина 5кг/сердечки/фдл 0,125(безлактозная)/0,1', 'class': 'melting_name', 't': 3}\n",
       "      block {'y': 1, 'class': 'block'}\n",
       "        serving {'size': 6, 'class': 'serving', 't': 0}\n",
       "        melting_process {'size': 19, 'speed': 900, 'class': 'melting_process', 't': 6}\n",
       "      block {'y': 2, 'class': 'block'}\n",
       "        block {'size': 6, 'visible': False, 'class': 'block', 't': 0}\n",
       "        cooling1 {'size': 5, 'class': 'cooling1', 't': 6}\n",
       "        cooling2 {'size': 10, 'class': 'cooling2', 't': 11}\n",
       "    packing {'y': 14, 'size': 25, 'class': 'packing'}\n",
       "      block {'y': 0, 'class': 'block'}\n",
       "        packing_label {'size': 3, 'class': 'packing_label', 't': 0}\n",
       "        packing_name {'size': 22, 'name': 'чильеджина 5кг/сердечки/фдл 0,125(безлактозная)/0,1', 'class': 'packing_name', 't': 3}\n",
       "      block {'y': 1, 'class': 'block'}\n",
       "        packing_brand {'size': 25, 'name': 'безлактозная/претто', 'class': 'packing_brand', 't': 0}\n",
       "      block {'y': 2, 'class': 'block'}\n",
       "        configuration {'size': 3, 'visible': False, 'class': 'configuration', 't': 0}\n",
       "        configuration {'size': 1, 'class': 'configuration', 't': 3}\n",
       "        configuration {'size': 5, 'visible': False, 'class': 'configuration', 't': 4}\n",
       "        configuration {'size': 1, 'class': 'configuration', 't': 9}\n",
       "  boiling {'block_num': 12, 'line': '2', 'class': 'boiling', 't': 25}\n",
       "    pouring {'y': 9, 'size': 27, 'class': 'pouring', 't': 0}\n",
       "      block {'y': 0, 'class': 'block'}\n",
       "        termizator {'size': 6, 'block_num': 12, 'class': 'termizator', 't': 0}\n",
       "        pouring_name {'size': 21, 'name': 'чильеджина  3,6 альче  8500кг', 'class': 'pouring_name', 't': 6}\n",
       "      block {'y': 1, 'class': 'block'}\n",
       "        pouring_and_fermenting {'size': 8, 'class': 'pouring_and_fermenting', 't': 0}\n",
       "        soldification {'size': 7, 'class': 'soldification', 't': 8}\n",
       "        cutting {'size': 7, 'class': 'cutting', 't': 15}\n",
       "        pouring_off {'size': 3, 'class': 'pouring_off', 't': 22}\n",
       "        extra {'size': 1, 'class': 'extra', 't': 25}\n",
       "    drenator {'size': 48, 'visible': False, 'class': 'drenator', 't': 27}\n",
       "    melting {'y': 10, 'size': 25, 'line': '1', 'class': 'melting', 't': 75}\n",
       "      block {'y': 0, 'class': 'block'}\n",
       "        melting_label {'size': 3, 'class': 'melting_label', 't': 0}\n",
       "        melting_name {'size': 22, 'name': 'чильеджина 5кг/сердечки/фдл 0,125(безлактозная)/0,1', 'class': 'melting_name', 't': 3}\n",
       "      block {'y': 1, 'class': 'block'}\n",
       "        serving {'size': 6, 'class': 'serving', 't': 0}\n",
       "        melting_process {'size': 19, 'speed': 900, 'class': 'melting_process', 't': 6}\n",
       "      block {'y': 2, 'class': 'block'}\n",
       "        block {'size': 6, 'visible': False, 'class': 'block', 't': 0}\n",
       "        cooling1 {'size': 5, 'class': 'cooling1', 't': 6}\n",
       "        cooling2 {'size': 10, 'class': 'cooling2', 't': 11}\n",
       "    packing {'y': 14, 'size': 25, 'class': 'packing'}\n",
       "      block {'y': 0, 'class': 'block'}\n",
       "        packing_label {'size': 3, 'class': 'packing_label', 't': 0}\n",
       "        packing_name {'size': 22, 'name': 'чильеджина 5кг/сердечки/фдл 0,125(безлактозная)/0,1', 'class': 'packing_name', 't': 3}\n",
       "      block {'y': 1, 'class': 'block'}\n",
       "        packing_brand {'size': 25, 'name': 'безлактозная/претто', 'class': 'packing_brand', 't': 0}\n",
       "      block {'y': 2, 'class': 'block'}\n",
       "        configuration {'size': 3, 'visible': False, 'class': 'configuration', 't': 0}\n",
       "        configuration {'size': 1, 'class': 'configuration', 't': 3}\n",
       "        configuration {'size': 5, 'visible': False, 'class': 'configuration', 't': 4}\n",
       "        configuration {'size': 1, 'class': 'configuration', 't': 9}"
      ]
     },
     "execution_count": 525,
     "metadata": {},
     "output_type": "execute_result"
    }
   ],
   "source": [
    "root = Block('root', t=cast_t('01:00'), index_width=4)\n",
    "boiling1 = make_boiling('1')\n",
    "boiling2 = make_boiling('2')\n",
    "root.push(boiling1)\n",
    "root.push(boiling2, validator=atom_validator)\n",
    "root"
   ]
  },
  {
   "cell_type": "code",
   "execution_count": 526,
   "metadata": {},
   "outputs": [
    {
     "name": "stdout",
     "output_type": "stream",
     "text": [
      "<Worksheet \"планирование по цехам Copy\"> 5 6 6 1 12 налив #ffffff\n",
      "<Worksheet \"планирование по цехам Copy\"> 11 6 21 1 чильеджина  3,6 альче  8500кг #ffffff\n",
      "<Worksheet \"планирование по цехам Copy\"> 5 7 8 1 налив/внесение закваски #ffa500\n",
      "<Worksheet \"планирование по цехам Copy\"> 13 7 7 1 схватка #ffff00\n",
      "<Worksheet \"планирование по цехам Copy\"> 20 7 7 1 резка/обсушка #92d050\n",
      "<Worksheet \"планирование по цехам Copy\"> 27 7 3 1 слив #ff0000\n",
      "<Worksheet \"планирование по цехам Copy\"> 30 7 1 1  #ffffff\n",
      "<Worksheet \"планирование по цехам Copy\"> 8 24 3 1 12 #ffffff\n",
      "<Worksheet \"планирование по цехам Copy\"> 11 24 22 1 чильеджина 5кг/сердечки/фдл 0,125(безлактозная)/0,1 #ffffff\n",
      "<Worksheet \"планирование по цехам Copy\"> 8 25 6 1 подача и вымешивание #ffa500\n",
      "<Worksheet \"планирование по цехам Copy\"> 14 25 19 1 плавление 900 кг/ч #ffa500\n",
      "<Worksheet \"планирование по цехам Copy\"> 14 26 5 1 охлаж1 25 мин #ffffff\n",
      "<Worksheet \"планирование по цехам Copy\"> 19 26 10 1 охлаж2 50 мин #ffffff\n",
      "<Worksheet \"планирование по цехам Copy\"> -67 29 3 1 12 #ffffff\n"
     ]
    },
    {
     "ename": "ValueError",
     "evalue": "Min value is 1",
     "output_type": "error",
     "traceback": [
      "\u001b[1;31m---------------------------------------------------------------------------\u001b[0m",
      "\u001b[1;31mValueError\u001b[0m                                Traceback (most recent call last)",
      "\u001b[1;32m<ipython-input-526-9d61280875ba>\u001b[0m in \u001b[0;36m<module>\u001b[1;34m\u001b[0m\n\u001b[0;32m      5\u001b[0m     \u001b[1;32mif\u001b[0m \u001b[0mb\u001b[0m\u001b[1;33m.\u001b[0m\u001b[0mblock_class\u001b[0m \u001b[1;32min\u001b[0m \u001b[0mstyle\u001b[0m\u001b[1;33m:\u001b[0m\u001b[1;33m\u001b[0m\u001b[1;33m\u001b[0m\u001b[0m\n\u001b[0;32m      6\u001b[0m         \u001b[0mb\u001b[0m\u001b[1;33m.\u001b[0m\u001b[0mlocal_props\u001b[0m\u001b[1;33m.\u001b[0m\u001b[0mupdate\u001b[0m\u001b[1;33m(\u001b[0m\u001b[0mstyle\u001b[0m\u001b[1;33m[\u001b[0m\u001b[0mb\u001b[0m\u001b[1;33m.\u001b[0m\u001b[0mblock_class\u001b[0m\u001b[1;33m]\u001b[0m\u001b[1;33m)\u001b[0m\u001b[1;33m\u001b[0m\u001b[1;33m\u001b[0m\u001b[0m\n\u001b[1;32m----> 7\u001b[1;33m \u001b[0mdraw\u001b[0m\u001b[1;33m(\u001b[0m\u001b[0msheet\u001b[0m\u001b[1;33m,\u001b[0m \u001b[0mroot\u001b[0m\u001b[1;33m)\u001b[0m\u001b[1;33m\u001b[0m\u001b[1;33m\u001b[0m\u001b[0m\n\u001b[0m\u001b[0;32m      8\u001b[0m \u001b[0mwork_book\u001b[0m\u001b[1;33m.\u001b[0m\u001b[0msave\u001b[0m\u001b[1;33m(\u001b[0m\u001b[1;34m'output.xlsx'\u001b[0m\u001b[1;33m)\u001b[0m\u001b[1;33m\u001b[0m\u001b[1;33m\u001b[0m\u001b[0m\n",
      "\u001b[1;32m~\\Desktop\\code\\git\\2020.10-umalat\\umalat\\research\\akadaner\\src\\drawing.py\u001b[0m in \u001b[0;36mdraw\u001b[1;34m(sheet, block, style)\u001b[0m\n\u001b[0;32m     21\u001b[0m     \u001b[1;32mif\u001b[0m \u001b[0mblock\u001b[0m\u001b[1;33m.\u001b[0m\u001b[0mchildren\u001b[0m\u001b[1;33m:\u001b[0m\u001b[1;33m\u001b[0m\u001b[1;33m\u001b[0m\u001b[0m\n\u001b[0;32m     22\u001b[0m         \u001b[1;32mfor\u001b[0m \u001b[0mchild\u001b[0m \u001b[1;32min\u001b[0m \u001b[0mblock\u001b[0m\u001b[1;33m.\u001b[0m\u001b[0mchildren\u001b[0m\u001b[1;33m:\u001b[0m\u001b[1;33m\u001b[0m\u001b[1;33m\u001b[0m\u001b[0m\n\u001b[1;32m---> 23\u001b[1;33m             \u001b[0mdraw\u001b[0m\u001b[1;33m(\u001b[0m\u001b[0msheet\u001b[0m\u001b[1;33m,\u001b[0m \u001b[0mchild\u001b[0m\u001b[1;33m)\u001b[0m\u001b[1;33m\u001b[0m\u001b[1;33m\u001b[0m\u001b[0m\n\u001b[0m\u001b[0;32m     24\u001b[0m     \u001b[1;32melse\u001b[0m\u001b[1;33m:\u001b[0m\u001b[1;33m\u001b[0m\u001b[1;33m\u001b[0m\u001b[0m\n\u001b[0;32m     25\u001b[0m         \u001b[0mprops\u001b[0m \u001b[1;33m=\u001b[0m \u001b[0mblock\u001b[0m\u001b[1;33m.\u001b[0m\u001b[0mprops\u001b[0m \u001b[1;32mor\u001b[0m \u001b[1;33m{\u001b[0m\u001b[1;33m}\u001b[0m\u001b[1;33m\u001b[0m\u001b[1;33m\u001b[0m\u001b[0m\n",
      "\u001b[1;32m~\\Desktop\\code\\git\\2020.10-umalat\\umalat\\research\\akadaner\\src\\drawing.py\u001b[0m in \u001b[0;36mdraw\u001b[1;34m(sheet, block, style)\u001b[0m\n\u001b[0;32m     21\u001b[0m     \u001b[1;32mif\u001b[0m \u001b[0mblock\u001b[0m\u001b[1;33m.\u001b[0m\u001b[0mchildren\u001b[0m\u001b[1;33m:\u001b[0m\u001b[1;33m\u001b[0m\u001b[1;33m\u001b[0m\u001b[0m\n\u001b[0;32m     22\u001b[0m         \u001b[1;32mfor\u001b[0m \u001b[0mchild\u001b[0m \u001b[1;32min\u001b[0m \u001b[0mblock\u001b[0m\u001b[1;33m.\u001b[0m\u001b[0mchildren\u001b[0m\u001b[1;33m:\u001b[0m\u001b[1;33m\u001b[0m\u001b[1;33m\u001b[0m\u001b[0m\n\u001b[1;32m---> 23\u001b[1;33m             \u001b[0mdraw\u001b[0m\u001b[1;33m(\u001b[0m\u001b[0msheet\u001b[0m\u001b[1;33m,\u001b[0m \u001b[0mchild\u001b[0m\u001b[1;33m)\u001b[0m\u001b[1;33m\u001b[0m\u001b[1;33m\u001b[0m\u001b[0m\n\u001b[0m\u001b[0;32m     24\u001b[0m     \u001b[1;32melse\u001b[0m\u001b[1;33m:\u001b[0m\u001b[1;33m\u001b[0m\u001b[1;33m\u001b[0m\u001b[0m\n\u001b[0;32m     25\u001b[0m         \u001b[0mprops\u001b[0m \u001b[1;33m=\u001b[0m \u001b[0mblock\u001b[0m\u001b[1;33m.\u001b[0m\u001b[0mprops\u001b[0m \u001b[1;32mor\u001b[0m \u001b[1;33m{\u001b[0m\u001b[1;33m}\u001b[0m\u001b[1;33m\u001b[0m\u001b[1;33m\u001b[0m\u001b[0m\n",
      "\u001b[1;32m~\\Desktop\\code\\git\\2020.10-umalat\\umalat\\research\\akadaner\\src\\drawing.py\u001b[0m in \u001b[0;36mdraw\u001b[1;34m(sheet, block, style)\u001b[0m\n\u001b[0;32m     21\u001b[0m     \u001b[1;32mif\u001b[0m \u001b[0mblock\u001b[0m\u001b[1;33m.\u001b[0m\u001b[0mchildren\u001b[0m\u001b[1;33m:\u001b[0m\u001b[1;33m\u001b[0m\u001b[1;33m\u001b[0m\u001b[0m\n\u001b[0;32m     22\u001b[0m         \u001b[1;32mfor\u001b[0m \u001b[0mchild\u001b[0m \u001b[1;32min\u001b[0m \u001b[0mblock\u001b[0m\u001b[1;33m.\u001b[0m\u001b[0mchildren\u001b[0m\u001b[1;33m:\u001b[0m\u001b[1;33m\u001b[0m\u001b[1;33m\u001b[0m\u001b[0m\n\u001b[1;32m---> 23\u001b[1;33m             \u001b[0mdraw\u001b[0m\u001b[1;33m(\u001b[0m\u001b[0msheet\u001b[0m\u001b[1;33m,\u001b[0m \u001b[0mchild\u001b[0m\u001b[1;33m)\u001b[0m\u001b[1;33m\u001b[0m\u001b[1;33m\u001b[0m\u001b[0m\n\u001b[0m\u001b[0;32m     24\u001b[0m     \u001b[1;32melse\u001b[0m\u001b[1;33m:\u001b[0m\u001b[1;33m\u001b[0m\u001b[1;33m\u001b[0m\u001b[0m\n\u001b[0;32m     25\u001b[0m         \u001b[0mprops\u001b[0m \u001b[1;33m=\u001b[0m \u001b[0mblock\u001b[0m\u001b[1;33m.\u001b[0m\u001b[0mprops\u001b[0m \u001b[1;32mor\u001b[0m \u001b[1;33m{\u001b[0m\u001b[1;33m}\u001b[0m\u001b[1;33m\u001b[0m\u001b[1;33m\u001b[0m\u001b[0m\n",
      "\u001b[1;32m~\\Desktop\\code\\git\\2020.10-umalat\\umalat\\research\\akadaner\\src\\drawing.py\u001b[0m in \u001b[0;36mdraw\u001b[1;34m(sheet, block, style)\u001b[0m\n\u001b[0;32m     21\u001b[0m     \u001b[1;32mif\u001b[0m \u001b[0mblock\u001b[0m\u001b[1;33m.\u001b[0m\u001b[0mchildren\u001b[0m\u001b[1;33m:\u001b[0m\u001b[1;33m\u001b[0m\u001b[1;33m\u001b[0m\u001b[0m\n\u001b[0;32m     22\u001b[0m         \u001b[1;32mfor\u001b[0m \u001b[0mchild\u001b[0m \u001b[1;32min\u001b[0m \u001b[0mblock\u001b[0m\u001b[1;33m.\u001b[0m\u001b[0mchildren\u001b[0m\u001b[1;33m:\u001b[0m\u001b[1;33m\u001b[0m\u001b[1;33m\u001b[0m\u001b[0m\n\u001b[1;32m---> 23\u001b[1;33m             \u001b[0mdraw\u001b[0m\u001b[1;33m(\u001b[0m\u001b[0msheet\u001b[0m\u001b[1;33m,\u001b[0m \u001b[0mchild\u001b[0m\u001b[1;33m)\u001b[0m\u001b[1;33m\u001b[0m\u001b[1;33m\u001b[0m\u001b[0m\n\u001b[0m\u001b[0;32m     24\u001b[0m     \u001b[1;32melse\u001b[0m\u001b[1;33m:\u001b[0m\u001b[1;33m\u001b[0m\u001b[1;33m\u001b[0m\u001b[0m\n\u001b[0;32m     25\u001b[0m         \u001b[0mprops\u001b[0m \u001b[1;33m=\u001b[0m \u001b[0mblock\u001b[0m\u001b[1;33m.\u001b[0m\u001b[0mprops\u001b[0m \u001b[1;32mor\u001b[0m \u001b[1;33m{\u001b[0m\u001b[1;33m}\u001b[0m\u001b[1;33m\u001b[0m\u001b[1;33m\u001b[0m\u001b[0m\n",
      "\u001b[1;32m~\\Desktop\\code\\git\\2020.10-umalat\\umalat\\research\\akadaner\\src\\drawing.py\u001b[0m in \u001b[0;36mdraw\u001b[1;34m(sheet, block, style)\u001b[0m\n\u001b[0;32m     43\u001b[0m \u001b[1;33m\u001b[0m\u001b[0m\n\u001b[0;32m     44\u001b[0m         \u001b[0mprint\u001b[0m\u001b[1;33m(\u001b[0m\u001b[0msheet\u001b[0m\u001b[1;33m,\u001b[0m \u001b[0mbeg\u001b[0m\u001b[1;33m,\u001b[0m \u001b[0mblock\u001b[0m\u001b[1;33m.\u001b[0m\u001b[0mprops\u001b[0m\u001b[1;33m[\u001b[0m\u001b[1;34m'y'\u001b[0m\u001b[1;33m]\u001b[0m\u001b[1;33m,\u001b[0m \u001b[0mblock\u001b[0m\u001b[1;33m.\u001b[0m\u001b[0mprops\u001b[0m\u001b[1;33m[\u001b[0m\u001b[1;34m'size'\u001b[0m\u001b[1;33m]\u001b[0m\u001b[1;33m,\u001b[0m \u001b[1;36m1\u001b[0m\u001b[1;33m,\u001b[0m \u001b[0mtext\u001b[0m\u001b[1;33m,\u001b[0m \u001b[0mcolor\u001b[0m\u001b[1;33m)\u001b[0m\u001b[1;33m\u001b[0m\u001b[1;33m\u001b[0m\u001b[0m\n\u001b[1;32m---> 45\u001b[1;33m         \u001b[1;32mreturn\u001b[0m \u001b[0mdraw_block\u001b[0m\u001b[1;33m(\u001b[0m\u001b[0msheet\u001b[0m\u001b[1;33m,\u001b[0m \u001b[0mbeg\u001b[0m\u001b[1;33m,\u001b[0m \u001b[0mblock\u001b[0m\u001b[1;33m.\u001b[0m\u001b[0mprops\u001b[0m\u001b[1;33m[\u001b[0m\u001b[1;34m'y'\u001b[0m\u001b[1;33m]\u001b[0m\u001b[1;33m,\u001b[0m \u001b[0mblock\u001b[0m\u001b[1;33m.\u001b[0m\u001b[0mprops\u001b[0m\u001b[1;33m[\u001b[0m\u001b[1;34m'size'\u001b[0m\u001b[1;33m]\u001b[0m\u001b[1;33m,\u001b[0m \u001b[1;36m1\u001b[0m\u001b[1;33m,\u001b[0m \u001b[0mtext\u001b[0m\u001b[1;33m,\u001b[0m \u001b[0mcolor\u001b[0m\u001b[1;33m)\u001b[0m\u001b[1;33m\u001b[0m\u001b[1;33m\u001b[0m\u001b[0m\n\u001b[0m\u001b[0;32m     46\u001b[0m \u001b[1;33m\u001b[0m\u001b[0m\n\u001b[0;32m     47\u001b[0m \u001b[1;33m\u001b[0m\u001b[0m\n",
      "\u001b[1;32m~\\Desktop\\code\\git\\2020.10-umalat\\umalat\\research\\akadaner\\src\\drawing.py\u001b[0m in \u001b[0;36mdraw_block\u001b[1;34m(sheet, x, y, w, h, text, colour)\u001b[0m\n\u001b[0;32m     10\u001b[0m     \u001b[1;32mif\u001b[0m \u001b[1;32mnot\u001b[0m \u001b[0mcolour\u001b[0m\u001b[1;33m:\u001b[0m\u001b[1;33m\u001b[0m\u001b[1;33m\u001b[0m\u001b[0m\n\u001b[0;32m     11\u001b[0m         \u001b[0mcolour\u001b[0m \u001b[1;33m=\u001b[0m \u001b[0mcast_color\u001b[0m\u001b[1;33m(\u001b[0m\u001b[1;34m'white'\u001b[0m\u001b[1;33m)\u001b[0m \u001b[1;31m# default white colour\u001b[0m\u001b[1;33m\u001b[0m\u001b[1;33m\u001b[0m\u001b[0m\n\u001b[1;32m---> 12\u001b[1;33m     \u001b[0msheet\u001b[0m\u001b[1;33m.\u001b[0m\u001b[0mmerge_cells\u001b[0m\u001b[1;33m(\u001b[0m\u001b[0mstart_row\u001b[0m\u001b[1;33m=\u001b[0m\u001b[0my\u001b[0m\u001b[1;33m,\u001b[0m \u001b[0mstart_column\u001b[0m\u001b[1;33m=\u001b[0m\u001b[0mx\u001b[0m\u001b[1;33m,\u001b[0m \u001b[0mend_row\u001b[0m\u001b[1;33m=\u001b[0m\u001b[0my\u001b[0m \u001b[1;33m+\u001b[0m \u001b[0mh\u001b[0m \u001b[1;33m-\u001b[0m \u001b[1;36m1\u001b[0m\u001b[1;33m,\u001b[0m \u001b[0mend_column\u001b[0m\u001b[1;33m=\u001b[0m\u001b[0mx\u001b[0m \u001b[1;33m+\u001b[0m \u001b[0mw\u001b[0m \u001b[1;33m-\u001b[0m \u001b[1;36m1\u001b[0m\u001b[1;33m)\u001b[0m\u001b[1;33m\u001b[0m\u001b[1;33m\u001b[0m\u001b[0m\n\u001b[0m\u001b[0;32m     13\u001b[0m     \u001b[0mmerged_cell\u001b[0m \u001b[1;33m=\u001b[0m \u001b[0msheet\u001b[0m\u001b[1;33m.\u001b[0m\u001b[0mcell\u001b[0m\u001b[1;33m(\u001b[0m\u001b[0mrow\u001b[0m\u001b[1;33m=\u001b[0m\u001b[0my\u001b[0m\u001b[1;33m,\u001b[0m \u001b[0mcolumn\u001b[0m\u001b[1;33m=\u001b[0m\u001b[0mx\u001b[0m\u001b[1;33m)\u001b[0m\u001b[1;33m\u001b[0m\u001b[1;33m\u001b[0m\u001b[0m\n\u001b[0;32m     14\u001b[0m     \u001b[0mmerged_cell\u001b[0m\u001b[1;33m.\u001b[0m\u001b[0mvalue\u001b[0m \u001b[1;33m=\u001b[0m \u001b[0mtext\u001b[0m\u001b[1;33m\u001b[0m\u001b[1;33m\u001b[0m\u001b[0m\n",
      "\u001b[1;32m~\\anaconda3\\lib\\site-packages\\openpyxl\\worksheet\\worksheet.py\u001b[0m in \u001b[0;36mmerge_cells\u001b[1;34m(self, range_string, start_row, start_column, end_row, end_column)\u001b[0m\n\u001b[0;32m    587\u001b[0m         \u001b[1;34m\"\"\" Set merge on a cell range.  Range is a cell range (e.g. A1:E1) \"\"\"\u001b[0m\u001b[1;33m\u001b[0m\u001b[1;33m\u001b[0m\u001b[0m\n\u001b[0;32m    588\u001b[0m         \u001b[1;32mif\u001b[0m \u001b[0mrange_string\u001b[0m \u001b[1;32mis\u001b[0m \u001b[1;32mNone\u001b[0m\u001b[1;33m:\u001b[0m\u001b[1;33m\u001b[0m\u001b[1;33m\u001b[0m\u001b[0m\n\u001b[1;32m--> 589\u001b[1;33m             cr = CellRange(range_string=range_string, min_col=start_column, min_row=start_row,\n\u001b[0m\u001b[0;32m    590\u001b[0m                       max_col=end_column, max_row=end_row)\n\u001b[0;32m    591\u001b[0m             \u001b[0mrange_string\u001b[0m \u001b[1;33m=\u001b[0m \u001b[0mcr\u001b[0m\u001b[1;33m.\u001b[0m\u001b[0mcoord\u001b[0m\u001b[1;33m\u001b[0m\u001b[1;33m\u001b[0m\u001b[0m\n",
      "\u001b[1;32m~\\anaconda3\\lib\\site-packages\\openpyxl\\worksheet\\cell_range.py\u001b[0m in \u001b[0;36m__init__\u001b[1;34m(self, range_string, min_col, min_row, max_col, max_row, title)\u001b[0m\n\u001b[0;32m     53\u001b[0m                 \u001b[0mmin_col\u001b[0m\u001b[1;33m,\u001b[0m \u001b[0mmin_row\u001b[0m\u001b[1;33m,\u001b[0m \u001b[0mmax_col\u001b[0m\u001b[1;33m,\u001b[0m \u001b[0mmax_row\u001b[0m \u001b[1;33m=\u001b[0m \u001b[0mrange_boundaries\u001b[0m\u001b[1;33m(\u001b[0m\u001b[0mrange_string\u001b[0m\u001b[1;33m)\u001b[0m\u001b[1;33m\u001b[0m\u001b[1;33m\u001b[0m\u001b[0m\n\u001b[0;32m     54\u001b[0m \u001b[1;33m\u001b[0m\u001b[0m\n\u001b[1;32m---> 55\u001b[1;33m         \u001b[0mself\u001b[0m\u001b[1;33m.\u001b[0m\u001b[0mmin_col\u001b[0m \u001b[1;33m=\u001b[0m \u001b[0mmin_col\u001b[0m\u001b[1;33m\u001b[0m\u001b[1;33m\u001b[0m\u001b[0m\n\u001b[0m\u001b[0;32m     56\u001b[0m         \u001b[0mself\u001b[0m\u001b[1;33m.\u001b[0m\u001b[0mmin_row\u001b[0m \u001b[1;33m=\u001b[0m \u001b[0mmin_row\u001b[0m\u001b[1;33m\u001b[0m\u001b[1;33m\u001b[0m\u001b[0m\n\u001b[0;32m     57\u001b[0m         \u001b[0mself\u001b[0m\u001b[1;33m.\u001b[0m\u001b[0mmax_col\u001b[0m \u001b[1;33m=\u001b[0m \u001b[0mmax_col\u001b[0m\u001b[1;33m\u001b[0m\u001b[1;33m\u001b[0m\u001b[0m\n",
      "\u001b[1;32m~\\anaconda3\\lib\\site-packages\\openpyxl\\descriptors\\base.py\u001b[0m in \u001b[0;36m__set__\u001b[1;34m(self, instance, value)\u001b[0m\n\u001b[0;32m    105\u001b[0m             \u001b[0mvalue\u001b[0m \u001b[1;33m=\u001b[0m \u001b[0m_convert\u001b[0m\u001b[1;33m(\u001b[0m\u001b[0mself\u001b[0m\u001b[1;33m.\u001b[0m\u001b[0mexpected_type\u001b[0m\u001b[1;33m,\u001b[0m \u001b[0mvalue\u001b[0m\u001b[1;33m)\u001b[0m\u001b[1;33m\u001b[0m\u001b[1;33m\u001b[0m\u001b[0m\n\u001b[0;32m    106\u001b[0m             \u001b[1;32mif\u001b[0m \u001b[0mvalue\u001b[0m \u001b[1;33m<\u001b[0m \u001b[0mself\u001b[0m\u001b[1;33m.\u001b[0m\u001b[0mmin\u001b[0m\u001b[1;33m:\u001b[0m\u001b[1;33m\u001b[0m\u001b[1;33m\u001b[0m\u001b[0m\n\u001b[1;32m--> 107\u001b[1;33m                 \u001b[1;32mraise\u001b[0m \u001b[0mValueError\u001b[0m\u001b[1;33m(\u001b[0m\u001b[1;34m'Min value is {0}'\u001b[0m\u001b[1;33m.\u001b[0m\u001b[0mformat\u001b[0m\u001b[1;33m(\u001b[0m\u001b[0mself\u001b[0m\u001b[1;33m.\u001b[0m\u001b[0mmin\u001b[0m\u001b[1;33m)\u001b[0m\u001b[1;33m)\u001b[0m\u001b[1;33m\u001b[0m\u001b[1;33m\u001b[0m\u001b[0m\n\u001b[0m\u001b[0;32m    108\u001b[0m         \u001b[0msuper\u001b[0m\u001b[1;33m(\u001b[0m\u001b[0mMin\u001b[0m\u001b[1;33m,\u001b[0m \u001b[0mself\u001b[0m\u001b[1;33m)\u001b[0m\u001b[1;33m.\u001b[0m\u001b[0m__set__\u001b[0m\u001b[1;33m(\u001b[0m\u001b[0minstance\u001b[0m\u001b[1;33m,\u001b[0m \u001b[0mvalue\u001b[0m\u001b[1;33m)\u001b[0m\u001b[1;33m\u001b[0m\u001b[1;33m\u001b[0m\u001b[0m\n\u001b[0;32m    109\u001b[0m \u001b[1;33m\u001b[0m\u001b[0m\n",
      "\u001b[1;31mValueError\u001b[0m: Min value is 1"
     ]
    }
   ],
   "source": [
    "# work_book, sheet = init_sheet()\n",
    "work_book, sheet = init_template_sheet()\n",
    "# update styles\n",
    "for b in root:\n",
    "    if b.block_class in style:\n",
    "        b.local_props.update(style[b.block_class])\n",
    "draw(sheet, root)\n",
    "work_book.save('output.xlsx')"
   ]
  },
  {
   "cell_type": "code",
   "execution_count": 520,
   "metadata": {},
   "outputs": [
    {
     "data": {
      "text/plain": [
       "root {'t': 12, 'index_width': 4, 'class': 'root'}\n",
       "  boiling {'block_num': 12, 'line': '1', 'class': 'boiling', 't': 0}\n",
       "    pouring {'y': 6, 'size': 27, 'class': 'pouring', 't': 0, 'beg_time': '01:00'}\n",
       "      block {'y': 0, 'class': 'block'}\n",
       "        termizator {'size': 6, 'block_num': 12, 'class': 'termizator', 't': 0, 'text': '{block_num} налив'}\n",
       "        pouring_name {'size': 21, 'name': 'чильеджина  3,6 альче  8500кг', 'class': 'pouring_name', 't': 6, 'text': '{name}'}\n",
       "      block {'y': 1, 'class': 'block'}\n",
       "        pouring_and_fermenting {'size': 8, 'class': 'pouring_and_fermenting', 't': 0, 'text': 'налив/внесение закваски', 'color': 'orange'}\n",
       "        soldification {'size': 7, 'class': 'soldification', 't': 8, 'text': 'схватка', 'color': 'yellow'}\n",
       "        cutting {'size': 7, 'class': 'cutting', 't': 15, 'text': 'резка/обсушка', 'color': '#92d050'}\n",
       "        pouring_off {'size': 3, 'class': 'pouring_off', 't': 22, 'text': 'слив', 'color': 'red'}\n",
       "        extra {'size': 1, 'class': 'extra', 't': 25}\n",
       "    drenator {'size': 48, 'visible': False, 'class': 'drenator', 't': 27}\n",
       "    melting {'y': 24, 'size': 25, 'line': '1', 'class': 'melting', 't': 75, 'beg_time': '07:00'}\n",
       "      block {'y': 0, 'class': 'block'}\n",
       "        melting_label {'size': 3, 'class': 'melting_label', 't': 0, 'text': '{block_num}'}\n",
       "        melting_name {'size': 22, 'name': 'чильеджина 5кг/сердечки/фдл 0,125(безлактозная)/0,1', 'class': 'melting_name', 't': 3, 'text': '{name}'}\n",
       "      block {'y': 1, 'class': 'block'}\n",
       "        serving {'size': 6, 'class': 'serving', 't': 0, 'color': 'orange', 'text': 'подача и вымешивание'}\n",
       "        melting_process {'size': 19, 'speed': 900, 'class': 'melting_process', 't': 6, 'color': 'orange', 'text': 'плавление {speed} кг/ч'}\n",
       "      block {'y': 2, 'class': 'block'}\n",
       "        block {'size': 6, 'visible': False, 'class': 'block', 't': 0}\n",
       "        cooling1 {'size': 5, 'class': 'cooling1', 't': 6, 'text': 'охлаж1 <{size} * 5> мин'}\n",
       "        cooling2 {'size': 10, 'class': 'cooling2', 't': 11, 'text': 'охлаж2 <{size} * 5> мин'}\n",
       "  boiling {'block_num': 12, 'line': '2', 'class': 'boiling', 't': 25}\n",
       "    pouring {'y': 9, 'size': 27, 'class': 'pouring', 't': 0, 'beg_time': '01:00'}\n",
       "      block {'y': 0, 'class': 'block'}\n",
       "        termizator {'size': 6, 'block_num': 12, 'class': 'termizator', 't': 0, 'text': '{block_num} налив'}\n",
       "        pouring_name {'size': 21, 'name': 'чильеджина  3,6 альче  8500кг', 'class': 'pouring_name', 't': 6, 'text': '{name}'}\n",
       "      block {'y': 1, 'class': 'block'}\n",
       "        pouring_and_fermenting {'size': 8, 'class': 'pouring_and_fermenting', 't': 0, 'text': 'налив/внесение закваски', 'color': 'orange'}\n",
       "        soldification {'size': 7, 'class': 'soldification', 't': 8, 'text': 'схватка', 'color': 'yellow'}\n",
       "        cutting {'size': 7, 'class': 'cutting', 't': 15, 'text': 'резка/обсушка', 'color': '#92d050'}\n",
       "        pouring_off {'size': 3, 'class': 'pouring_off', 't': 22, 'text': 'слив', 'color': 'red'}\n",
       "        extra {'size': 1, 'class': 'extra', 't': 25}\n",
       "    drenator {'size': 48, 'visible': False, 'class': 'drenator', 't': 27}\n",
       "    melting {'y': 24, 'size': 25, 'line': '1', 'class': 'melting', 't': 75, 'beg_time': '07:00'}\n",
       "      block {'y': 0, 'class': 'block'}\n",
       "        melting_label {'size': 3, 'class': 'melting_label', 't': 0, 'text': '{block_num}'}\n",
       "        melting_name {'size': 22, 'name': 'чильеджина 5кг/сердечки/фдл 0,125(безлактозная)/0,1', 'class': 'melting_name', 't': 3, 'text': '{name}'}\n",
       "      block {'y': 1, 'class': 'block'}\n",
       "        serving {'size': 6, 'class': 'serving', 't': 0, 'color': 'orange', 'text': 'подача и вымешивание'}\n",
       "        melting_process {'size': 19, 'speed': 900, 'class': 'melting_process', 't': 6, 'color': 'orange', 'text': 'плавление {speed} кг/ч'}\n",
       "      block {'y': 2, 'class': 'block'}\n",
       "        block {'size': 6, 'visible': False, 'class': 'block', 't': 0}\n",
       "        cooling1 {'size': 5, 'class': 'cooling1', 't': 6, 'text': 'охлаж1 <{size} * 5> мин'}\n",
       "        cooling2 {'size': 10, 'class': 'cooling2', 't': 11, 'text': 'охлаж2 <{size} * 5> мин'}"
      ]
     },
     "execution_count": 520,
     "metadata": {},
     "output_type": "execute_result"
    }
   ],
   "source": [
    "root"
   ]
  }
 ],
 "metadata": {
  "kernelspec": {
   "display_name": "Python 3",
   "language": "python",
   "name": "python3"
  },
  "language_info": {
   "codemirror_mode": {
    "name": "ipython",
    "version": 3
   },
   "file_extension": ".py",
   "mimetype": "text/x-python",
   "name": "python",
   "nbconvert_exporter": "python",
   "pygments_lexer": "ipython3",
   "version": "3.8.5"
  }
 },
 "nbformat": 4,
 "nbformat_minor": 4
}

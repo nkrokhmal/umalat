{
 "cells": [
  {
   "cell_type": "code",
   "execution_count": 1,
   "metadata": {},
   "outputs": [
    {
     "name": "stderr",
     "output_type": "stream",
     "text": [
      "2021-09-07 15:04:25.126 | INFO     | app.db:create_external_db:7 - Creating database session outside of the app.\n"
     ]
    }
   ],
   "source": [
    "import sys\n",
    "sys.path.append('/Users/marklidenberg/Yandex.Disk.localized/master/code/git/2020.10-umalat/umalat')\n",
    "\n",
    "from app.imports.runtime import *\n",
    "from app.scheduler.frontend import *\n",
    "\n",
    "from app.scheduler.mozzarella import *\n",
    "from app.scheduler.mozzarella.properties import *"
   ]
  },
  {
   "cell_type": "code",
   "execution_count": 2,
   "metadata": {},
   "outputs": [],
   "source": [
    "def _group_intervals(intervals, max_length=None, interval_func=None):\n",
    "    if not interval_func:\n",
    "        interval_func = lambda interval: [interval[0], interval[1]]\n",
    "    groups = []\n",
    "    \n",
    "    intervals = list(sorted(intervals, key=lambda interval: interval_func(interval)[0]))\n",
    "\n",
    "    cur_group = []\n",
    "    for interval in intervals:\n",
    "        if not cur_group:\n",
    "            cur_group.append(interval)\n",
    "            continue\n",
    "\n",
    "        if interval_func(cur_group[-1])[-1] == interval_func(interval)[0]:\n",
    "            # subsequent \n",
    "            cur_group.append(interval)\n",
    "            if max_length and len(cur_group) == max_length:\n",
    "                groups.append(cur_group)\n",
    "                cur_group = []\n",
    "        else:\n",
    "            # gap between \n",
    "            groups.append(cur_group)\n",
    "            cur_group = [interval]\n",
    "\n",
    "    if cur_group:\n",
    "        groups.append(cur_group)\n",
    "\n",
    "    return groups\n",
    "\n",
    "def test_group_intervals():\n",
    "    intervals = [[1,2], [4,5],[2,4], [10,11]]\n",
    "    intervals = list(sorted(intervals, key=lambda interval: interval[0]))\n",
    "    assert group_intervals(intervals, max_length=2) == [[[1, 2], [2, 4]], [[4, 5]], [[10, 11]]]\n",
    "\n",
    "def parse_schedule(wb_obj):\n",
    "    wb = utils.cast_workbook(wb_obj)\n",
    "    \n",
    "    with code('Get merged cells dataframe'):\n",
    "        ws = wb['Расписание']\n",
    "        df = pd.DataFrame()\n",
    "        df['cell'] = ws.merged_cells.ranges\n",
    "\n",
    "        bound_names = ('x0', 'x1', 'y0', 'y1')\n",
    "\n",
    "        df['bounds'] = df['cell'].apply(lambda cell: cell.bounds)\n",
    "        for i in range(4):\n",
    "            df[bound_names[i]] = df['bounds'].apply(lambda bound: bound[i])\n",
    "\n",
    "        df['y0'] += 1\n",
    "        df['y1'] += 1\n",
    "        df['label'] = df['cell'].apply(lambda cell: cell.start_cell.value)\n",
    "\n",
    "\n",
    "        df = df.sort_values(by=['x1', 'x0', 'y1', 'y0'])\n",
    "        \n",
    "    \n",
    "    m = BlockMaker(\"root\")\n",
    "\n",
    "    def parse_block(label, element_label, rows, start_time, length=2):\n",
    "        with m.row(label, x=start_time, push_func=add_push):\n",
    "            for i, row_num in enumerate(rows):\n",
    "                df1 = df[(df['x1'] == row_num) & (df['x0'] >= 4)]\n",
    "                groups = group_intervals([row for i, row in df1.iterrows()], \n",
    "                                         max_length=length, \n",
    "                                         interval_func=lambda row: [row['x0'], row['y0']])\n",
    "\n",
    "\n",
    "                for group in groups:\n",
    "                    try:\n",
    "                        boiling_id = int(group[0]['label'].split(' ')[0])\n",
    "                    except Exception as e:\n",
    "                        boiling_id = None\n",
    "\n",
    "                    m.row(element_label, \n",
    "                          size=group[-1]['y0'] - group[0]['x0'],\n",
    "                          x=group[0]['x0'] - 5, # subtract column header\n",
    "                          boiling_id=boiling_id,\n",
    "                          line_num=str(i),\n",
    "                          group=group,\n",
    "                          label=str(boiling_id),\n",
    "                          push_func=add_push)\n",
    "\n",
    "    with code('fetch start times'):\n",
    "        start_times = []\n",
    "        for row_num in [1, 24]:\n",
    "            hour = int(df[(df['x0'] == 5) & (df['x1'] == row_num)].iloc[0]['label'])\n",
    "            if hour >= 12:\n",
    "                # yesterday\n",
    "                hour -= 24\n",
    "            start_times.append(hour * 12)\n",
    "    \n",
    "    # rows for ['1 смена', '2 смена', ...\n",
    "    split_rows = list(sorted(df[df['y0'] - df['x0'] >= 50]['x1'].unique())) # [2, 23, 32, 39, 60]\n",
    "    \n",
    "    parse_block('boilings', 'boiling', [split_rows[0] + i for i in [1, 5, 13, 17]], start_times[0])\n",
    "    parse_block('cleanings', 'cleaning', [split_rows[0] + 9], start_times[0])\n",
    "\n",
    "    parse_block('water_meltings', 'melting', [split_rows[1] + 4], start_times[1])\n",
    "\n",
    "    parse_block('water_packings', 'packing', [split_rows[2] + 1], start_times[1])\n",
    "\n",
    "\n",
    "\n",
    "    with code('Find rows for salt melting lines'):\n",
    "        last_melting_row = df[df['label'] == 'посолка']['x1'].max()\n",
    "        salt_melting_rows = list(range(split_rows[3] + 1, last_melting_row, 4))\n",
    "\n",
    "    parse_block('salt_meltings', 'melting', salt_melting_rows, start_times[1])\n",
    "\n",
    "    with code('add salt forming info to packings'):\n",
    "        df_formings = df[(df['label'] == 'плавление/формирование') & (df['x1'] >= split_rows[3] + 1)]\n",
    "        with code('fix start times and column header'):\n",
    "            df_formings['x0'] += start_times[1] - 5\n",
    "            df_formings['y0'] += start_times[1] - 5\n",
    "            df_formings['x1'] += start_times[1] - 5\n",
    "            df_formings['y1'] += start_times[1] - 5\n",
    "\n",
    "        df_formings = df_formings.sort_values(by='x0')\n",
    "\n",
    "        for i, row in df_formings.iterrows():\n",
    "            overlapping = [m for m in m.root['salt_meltings'].children if m.x[0] <= row['x0'] and m.y[0] >= row['x0']]\n",
    "            melting = delistify([m for m in overlapping if m.x[0] + 6 == row['x0']], single=True) # todo next: make properly, check \n",
    "            melting.props.update(melting_end=row['y0'])\n",
    "    parse_block('salt_packings', 'packing', [split_rows[4] + 1, split_rows[4] + 7], start_times[1])\n",
    "\n",
    "    return m.root\n",
    "\n",
    "def parse_boiling_plan(wb_obj):\n",
    "    wb = utils.cast_workbook(wb_obj)\n",
    "    df_bp = read_boiling_plan(wb)\n",
    "    df_bp['line_name'] = df_bp['line'].apply(lambda line: line.name)\n",
    "    \n",
    "        \n",
    "    water_boiling_ids = [b.props['label'] for b in parsed_schedule['water_packings'].children]\n",
    "    salt_boiling_ids = [b.props['label'] for b in parsed_schedule['salt_packings'].children]\n",
    "    \n",
    "    for line_name, grp_line in df_bp.groupby('line_name'):\n",
    "        if line_name == LineName.WATER:\n",
    "            boiling_ids = water_boiling_ids\n",
    "        else:\n",
    "            boiling_ids = salt_boiling_ids\n",
    "\n",
    "        for i, (_, grp) in enumerate(grp_line.groupby('group_id')):\n",
    "            df_bp.loc[grp.index, 'boiling_id'] = boiling_ids[i]\n",
    "    df_bp['boiling_id'] = df_bp['boiling_id'].astype(int)\n",
    "    return df_bp"
   ]
  },
  {
   "cell_type": "code",
   "execution_count": 3,
   "metadata": {},
   "outputs": [],
   "source": [
    "fn = '/Users/marklidenberg/Yandex.Disk.localized/master/code/git/2020.10-umalat/umalat/app/data/dynamic/2021-08-11/approved/2021-08-11 Расписание моцарелла.xlsx'\n",
    "wb = utils.cast_workbook(fn)"
   ]
  },
  {
   "cell_type": "code",
   "execution_count": 4,
   "metadata": {},
   "outputs": [],
   "source": [
    "def fill_properties(parsed_schedule, df_bp):\n",
    "    props = MozzarellaProperties()\n",
    "\n",
    "    # save boiling_model to parsed_schedule blocks\n",
    "    for block in parsed_schedule.iter(cls=lambda cls: cls in ['boiling', 'melting', 'packing']):\n",
    "        boiling_group_df = df_bp[df_bp['boiling_id'] == int(block.props['boiling_id'])]\n",
    "        block.props.update(boiling_group_df=boiling_group_df,\n",
    "                           line_name=boiling_group_df.iloc[0]['boiling'].line.name,\n",
    "                           boiling_model=boiling_group_df.iloc[0]['boiling'])\n",
    "    \n",
    "    # parse boilings\n",
    "    boilings = parsed_schedule['boilings']['boiling', True]\n",
    "    salt_boilings = [b for b in boilings if b.props['line_name'] == LineName.SALT]\n",
    "    water_boilings = [b for b in boilings if b.props['line_name'] == LineName.WATER]\n",
    "    \n",
    "    # filling code is mirroring the pickle parser from app/scheduler/mozzarella/properties.py\n",
    "    \n",
    "    props.bar12_present = \"1.2\" in [sku.form_factor.name for sku in df_bp['sku']]\n",
    "\n",
    "    with code('2.7, 3.3, 3.6 tanks'):\n",
    "        _boilings = [b for b in boilings if str(b.props['boiling_model'].percent) == '3.3']\n",
    "        if _boilings:\n",
    "            _tank_boilings = [b for i, b in enumerate(_boilings) if (i + 1) % 9 == 0 or i == len(_boilings) - 1]\n",
    "            props.line33_last_termizator_end_times = [cast_human_time(b.x[0] + (b.props['group'][0]['y0'] - b.props['group'][0]['x0'])) for b in _tank_boilings]\n",
    "\n",
    "        _boilings = [b for b in boilings if str(b.props['boiling_model'].percent) == '3.6']\n",
    "        if _boilings:\n",
    "            _tank_boilings = [b for i, b in enumerate(_boilings) if (i + 1) % 9 == 0 or i == len(_boilings) - 1]\n",
    "            props.line36_last_termizator_end_times = [cast_human_time(b.x[0] + (b.props['group'][0]['y0'] - b.props['group'][0]['x0'])) for b in _tank_boilings]\n",
    "\n",
    "        _boilings = [b for b in boilings if str(b.props['boiling_model'].percent) == '2.7']\n",
    "        if _boilings:\n",
    "            _tank_boilings = [b for i, b in enumerate(_boilings) if (i + 1) % 9 == 0 or i == len(_boilings) - 1]\n",
    "            props.line27_last_termizator_end_times = [cast_human_time(b.x[0] + (b.props['group'][0]['y0'] - b.props['group'][0]['x0'])) for b in _tank_boilings]\n",
    "\n",
    "    with code('multihead'):\n",
    "        multihead_packings = list(parsed_schedule.iter(cls='packing', boiling_group_df=lambda df: df['sku'].iloc[0].packers[0].name == 'Мультиголова'))\n",
    "        if multihead_packings:\n",
    "            props.multihead_end_time = cast_human_time(max(packing.y[0] for packing in multihead_packings))\n",
    "\n",
    "        water_multihead_packings = list(parsed_schedule.iter(cls='packing', boiling_group_df=lambda df: df['sku'].iloc[0].packers[0].name == 'Мультиголова' and df.iloc[0]['boiling'].line.name == LineName.WATER))\n",
    "        if water_multihead_packings:\n",
    "            props.water_multihead_present = True\n",
    "\n",
    "\n",
    "    with code('cleanings'):\n",
    "        props.short_cleaning_times = [cast_human_time(cleaning.x[0]) for cleaning in parsed_schedule.iter(cls='cleaning') if 'Короткая мойка' in cleaning.props['group'][0]['label']]\n",
    "        props.full_cleaning_times = [cast_human_time(cleaning.x[0]) for cleaning in parsed_schedule.iter(cls='cleaning')if 'Полная мойка' in cleaning.props['group'][0]['label']]\n",
    "\n",
    "\n",
    "    with code('meltings'):\n",
    "        if salt_boilings:\n",
    "            props.salt_melting_start_time = cast_human_time(parsed_schedule['salt_meltings']['melting', True][0].x[0] + 6) # todo next: take from parameters\n",
    "\n",
    "\n",
    "    with code('cheesemakers'):\n",
    "        values = []\n",
    "        for b in parsed_schedule['boilings']['boiling', True]:\n",
    "            values.append([b.props['line_num'], b.y[0]])\n",
    "\n",
    "        df1 = pd.DataFrame(values, columns=['pouring_line', 'finish'])\n",
    "        values = df1.groupby('pouring_line').agg(max).to_dict()['finish']\n",
    "        values = list(sorted(values.items(), key=lambda kv: kv[0]))  # [('0', 116), ('1', 97), ('2', 149), ('3', 160)]\n",
    "        values_dict = dict(values)\n",
    "        props.cheesemaker1_end_time = cast_human_time(values_dict.get('0'))\n",
    "        props.cheesemaker2_end_time = cast_human_time(values_dict.get('1'))\n",
    "        props.cheesemaker3_end_time = cast_human_time(values_dict.get('2'))\n",
    "        props.cheesemaker4_end_time = cast_human_time(values_dict.get('3'))\n",
    "\n",
    "\n",
    "    with code('melting end'):\n",
    "        def _get_melting_end(line_boilings, water=False):\n",
    "            if not line_boilings:\n",
    "                return None\n",
    "            line_boilings = list(sorted(line_boilings, key=lambda b: b.x[0]))\n",
    "            last_boiling_id = line_boilings[-1].props['boiling_id']\n",
    "            last_melting = parsed_schedule.find_one(cls='melting', boiling_id=last_boiling_id)\n",
    "            if water:\n",
    "                return last_melting.y[0]\n",
    "            else:\n",
    "                return last_melting.props['melting_end']\n",
    "\n",
    "        props.water_melting_end_time = cast_human_time(_get_melting_end(water_boilings, water=True))\n",
    "        props.salt_melting_end_time = cast_human_time(_get_melting_end(salt_boilings))\n",
    "\n",
    "\n",
    "    with code('drenators'):\n",
    "        with code('fill drenators info'):\n",
    "            for line_num in range(4):\n",
    "                line_boilings = [b for b in boilings if b.props['line_num'] == str(line_num)]\n",
    "                line_boilings = list(sorted(line_boilings, key=lambda b: b.x[0]))\n",
    "                for i, b in enumerate(line_boilings):\n",
    "                    b.props.update(drenator_num=i % 2, \n",
    "                                   drenator_end=b.y[0] + b.props['boiling_model'].line.chedderization_time // 5 - 5) # todo next: make pouring off properly\n",
    "\n",
    "        with code('fill drenator properties'):\n",
    "            # get when drenators end: [[3, 96], [2, 118], [4, 140], [1, 159], [5, 151], [7, 167], [6, 180], [8, 191]]\n",
    "            values = []\n",
    "            for boiling in boilings:\n",
    "                values.append([boiling.props['drenator_end'], boiling.props['line_num'], boiling.props['drenator_num']])\n",
    "            df = pd.DataFrame(values, columns=['drenator_end', 'pouring_line', 'drenator_num'])\n",
    "            df['id'] = df['pouring_line'].astype(int) * 2 + df['drenator_num'].astype(int)\n",
    "            df = df[['id', 'drenator_end']]\n",
    "            df = df.drop_duplicates(subset='id', keep='last')\n",
    "            df = df.reset_index(drop=True)\n",
    "            df['id'] = df['id'].astype(int) + 1\n",
    "\n",
    "            df = df.sort_values(by='id')\n",
    "\n",
    "            values = df.values.tolist()\n",
    "            values_dict = dict(values)\n",
    "            props.drenator1_end_time = cast_human_time(values_dict.get(1))\n",
    "            props.drenator2_end_time = cast_human_time(values_dict.get(2))\n",
    "            props.drenator3_end_time = cast_human_time(values_dict.get(3))\n",
    "            props.drenator4_end_time = cast_human_time(values_dict.get(4))\n",
    "            props.drenator5_end_time = cast_human_time(values_dict.get(5))\n",
    "            props.drenator6_end_time = cast_human_time(values_dict.get(6))\n",
    "            props.drenator7_end_time = cast_human_time(values_dict.get(7))\n",
    "            props.drenator8_end_time = cast_human_time(values_dict.get(8))\n",
    "\n",
    "    \n",
    "    return props\n"
   ]
  },
  {
   "cell_type": "code",
   "execution_count": 5,
   "metadata": {},
   "outputs": [
    {
     "data": {
      "text/plain": [
       "'a: 1\\n'"
      ]
     },
     "execution_count": 5,
     "metadata": {},
     "output_type": "execute_result"
    }
   ],
   "source": [
    "import yaml\n",
    "yaml.dump({'a': 1})"
   ]
  },
  {
   "cell_type": "code",
   "execution_count": 6,
   "metadata": {},
   "outputs": [
    {
     "ename": "NameError",
     "evalue": "name 'group_intervals' is not defined",
     "output_type": "error",
     "traceback": [
      "\u001b[0;31m---------------------------------------------------------------------------\u001b[0m",
      "\u001b[0;31mNameError\u001b[0m                                 Traceback (most recent call last)",
      "\u001b[0;32m<ipython-input-6-caca6548b4a6>\u001b[0m in \u001b[0;36m<module>\u001b[0;34m\u001b[0m\n\u001b[0;32m----> 1\u001b[0;31m \u001b[0mparsed_schedule\u001b[0m \u001b[0;34m=\u001b[0m \u001b[0mparse_schedule\u001b[0m\u001b[0;34m(\u001b[0m\u001b[0mfn\u001b[0m\u001b[0;34m)\u001b[0m\u001b[0;34m\u001b[0m\u001b[0;34m\u001b[0m\u001b[0m\n\u001b[0m\u001b[1;32m      2\u001b[0m \u001b[0mdf_bp\u001b[0m \u001b[0;34m=\u001b[0m \u001b[0mparse_boiling_plan\u001b[0m\u001b[0;34m(\u001b[0m\u001b[0mfn\u001b[0m\u001b[0;34m)\u001b[0m\u001b[0;34m\u001b[0m\u001b[0;34m\u001b[0m\u001b[0m\n",
      "\u001b[0;32m<ipython-input-2-36ddab541e0b>\u001b[0m in \u001b[0;36mparse_schedule\u001b[0;34m(wb_obj)\u001b[0m\n\u001b[1;32m     93\u001b[0m     \u001b[0msplit_rows\u001b[0m \u001b[0;34m=\u001b[0m \u001b[0mlist\u001b[0m\u001b[0;34m(\u001b[0m\u001b[0msorted\u001b[0m\u001b[0;34m(\u001b[0m\u001b[0mdf\u001b[0m\u001b[0;34m[\u001b[0m\u001b[0mdf\u001b[0m\u001b[0;34m[\u001b[0m\u001b[0;34m'y0'\u001b[0m\u001b[0;34m]\u001b[0m \u001b[0;34m-\u001b[0m \u001b[0mdf\u001b[0m\u001b[0;34m[\u001b[0m\u001b[0;34m'x0'\u001b[0m\u001b[0;34m]\u001b[0m \u001b[0;34m>=\u001b[0m \u001b[0;36m50\u001b[0m\u001b[0;34m]\u001b[0m\u001b[0;34m[\u001b[0m\u001b[0;34m'x1'\u001b[0m\u001b[0;34m]\u001b[0m\u001b[0;34m.\u001b[0m\u001b[0munique\u001b[0m\u001b[0;34m(\u001b[0m\u001b[0;34m)\u001b[0m\u001b[0;34m)\u001b[0m\u001b[0;34m)\u001b[0m \u001b[0;31m# [2, 23, 32, 39, 60]\u001b[0m\u001b[0;34m\u001b[0m\u001b[0;34m\u001b[0m\u001b[0m\n\u001b[1;32m     94\u001b[0m \u001b[0;34m\u001b[0m\u001b[0m\n\u001b[0;32m---> 95\u001b[0;31m     \u001b[0mparse_block\u001b[0m\u001b[0;34m(\u001b[0m\u001b[0;34m'boilings'\u001b[0m\u001b[0;34m,\u001b[0m \u001b[0;34m'boiling'\u001b[0m\u001b[0;34m,\u001b[0m \u001b[0;34m[\u001b[0m\u001b[0msplit_rows\u001b[0m\u001b[0;34m[\u001b[0m\u001b[0;36m0\u001b[0m\u001b[0;34m]\u001b[0m \u001b[0;34m+\u001b[0m \u001b[0mi\u001b[0m \u001b[0;32mfor\u001b[0m \u001b[0mi\u001b[0m \u001b[0;32min\u001b[0m \u001b[0;34m[\u001b[0m\u001b[0;36m1\u001b[0m\u001b[0;34m,\u001b[0m \u001b[0;36m5\u001b[0m\u001b[0;34m,\u001b[0m \u001b[0;36m13\u001b[0m\u001b[0;34m,\u001b[0m \u001b[0;36m17\u001b[0m\u001b[0;34m]\u001b[0m\u001b[0;34m]\u001b[0m\u001b[0;34m,\u001b[0m \u001b[0mstart_times\u001b[0m\u001b[0;34m[\u001b[0m\u001b[0;36m0\u001b[0m\u001b[0;34m]\u001b[0m\u001b[0;34m)\u001b[0m\u001b[0;34m\u001b[0m\u001b[0;34m\u001b[0m\u001b[0m\n\u001b[0m\u001b[1;32m     96\u001b[0m     \u001b[0mparse_block\u001b[0m\u001b[0;34m(\u001b[0m\u001b[0;34m'cleanings'\u001b[0m\u001b[0;34m,\u001b[0m \u001b[0;34m'cleaning'\u001b[0m\u001b[0;34m,\u001b[0m \u001b[0;34m[\u001b[0m\u001b[0msplit_rows\u001b[0m\u001b[0;34m[\u001b[0m\u001b[0;36m0\u001b[0m\u001b[0;34m]\u001b[0m \u001b[0;34m+\u001b[0m \u001b[0;36m9\u001b[0m\u001b[0;34m]\u001b[0m\u001b[0;34m,\u001b[0m \u001b[0mstart_times\u001b[0m\u001b[0;34m[\u001b[0m\u001b[0;36m0\u001b[0m\u001b[0;34m]\u001b[0m\u001b[0;34m)\u001b[0m\u001b[0;34m\u001b[0m\u001b[0;34m\u001b[0m\u001b[0m\n\u001b[1;32m     97\u001b[0m \u001b[0;34m\u001b[0m\u001b[0m\n",
      "\u001b[0;32m<ipython-input-2-36ddab541e0b>\u001b[0m in \u001b[0;36mparse_block\u001b[0;34m(label, element_label, rows, start_time, length)\u001b[0m\n\u001b[1;32m     61\u001b[0m             \u001b[0;32mfor\u001b[0m \u001b[0mi\u001b[0m\u001b[0;34m,\u001b[0m \u001b[0mrow_num\u001b[0m \u001b[0;32min\u001b[0m \u001b[0menumerate\u001b[0m\u001b[0;34m(\u001b[0m\u001b[0mrows\u001b[0m\u001b[0;34m)\u001b[0m\u001b[0;34m:\u001b[0m\u001b[0;34m\u001b[0m\u001b[0;34m\u001b[0m\u001b[0m\n\u001b[1;32m     62\u001b[0m                 \u001b[0mdf1\u001b[0m \u001b[0;34m=\u001b[0m \u001b[0mdf\u001b[0m\u001b[0;34m[\u001b[0m\u001b[0;34m(\u001b[0m\u001b[0mdf\u001b[0m\u001b[0;34m[\u001b[0m\u001b[0;34m'x1'\u001b[0m\u001b[0;34m]\u001b[0m \u001b[0;34m==\u001b[0m \u001b[0mrow_num\u001b[0m\u001b[0;34m)\u001b[0m \u001b[0;34m&\u001b[0m \u001b[0;34m(\u001b[0m\u001b[0mdf\u001b[0m\u001b[0;34m[\u001b[0m\u001b[0;34m'x0'\u001b[0m\u001b[0;34m]\u001b[0m \u001b[0;34m>=\u001b[0m \u001b[0;36m4\u001b[0m\u001b[0;34m)\u001b[0m\u001b[0;34m]\u001b[0m\u001b[0;34m\u001b[0m\u001b[0;34m\u001b[0m\u001b[0m\n\u001b[0;32m---> 63\u001b[0;31m                 groups = group_intervals([row for i, row in df1.iterrows()], \n\u001b[0m\u001b[1;32m     64\u001b[0m                                          \u001b[0mmax_length\u001b[0m\u001b[0;34m=\u001b[0m\u001b[0mlength\u001b[0m\u001b[0;34m,\u001b[0m\u001b[0;34m\u001b[0m\u001b[0;34m\u001b[0m\u001b[0m\n\u001b[1;32m     65\u001b[0m                                          interval_func=lambda row: [row['x0'], row['y0']])\n",
      "\u001b[0;31mNameError\u001b[0m: name 'group_intervals' is not defined"
     ]
    }
   ],
   "source": [
    "parsed_schedule = parse_schedule(fn)\n",
    "df_bp = parse_boiling_plan(fn)"
   ]
  },
  {
   "cell_type": "code",
   "execution_count": null,
   "metadata": {},
   "outputs": [],
   "source": [
    "parsed_schedule"
   ]
  },
  {
   "cell_type": "code",
   "execution_count": null,
   "metadata": {},
   "outputs": [],
   "source": [
    "props = fill_properties(parsed_schedule, df_bp)"
   ]
  },
  {
   "cell_type": "code",
   "execution_count": null,
   "metadata": {},
   "outputs": [],
   "source": [
    "dict(props)"
   ]
  },
  {
   "cell_type": "code",
   "execution_count": 7,
   "metadata": {},
   "outputs": [],
   "source": [
    "wb = utils.cast_workbook(fn)\n",
    "\n",
    "with code('Get merged cells dataframe'):\n",
    "    ws = wb['Расписание']\n",
    "    df = pd.DataFrame()\n",
    "    df['cell'] = ws.merged_cells.ranges\n",
    "\n",
    "    bound_names = ('x0', 'x1', 'y0', 'y1')\n",
    "\n",
    "    df['bounds'] = df['cell'].apply(lambda cell: cell.bounds)\n",
    "    for i in range(4):\n",
    "        df[bound_names[i]] = df['bounds'].apply(lambda bound: bound[i])\n",
    "\n",
    "    df['y0'] += 1\n",
    "    df['y1'] += 1\n",
    "    df['label'] = df['cell'].apply(lambda cell: cell.start_cell.value)\n",
    "\n",
    "\n",
    "    df = df.sort_values(by=['x1', 'x0', 'y1', 'y0'])"
   ]
  },
  {
   "cell_type": "code",
   "execution_count": 8,
   "metadata": {},
   "outputs": [
    {
     "data": {
      "text/html": [
       "<div>\n",
       "<style scoped>\n",
       "    .dataframe tbody tr th:only-of-type {\n",
       "        vertical-align: middle;\n",
       "    }\n",
       "\n",
       "    .dataframe tbody tr th {\n",
       "        vertical-align: top;\n",
       "    }\n",
       "\n",
       "    .dataframe thead th {\n",
       "        text-align: right;\n",
       "    }\n",
       "</style>\n",
       "<table border=\"1\" class=\"dataframe\">\n",
       "  <thead>\n",
       "    <tr style=\"text-align: right;\">\n",
       "      <th></th>\n",
       "      <th>cell</th>\n",
       "      <th>bounds</th>\n",
       "      <th>x0</th>\n",
       "      <th>x1</th>\n",
       "      <th>y0</th>\n",
       "      <th>y1</th>\n",
       "      <th>label</th>\n",
       "    </tr>\n",
       "  </thead>\n",
       "  <tbody>\n",
       "    <tr>\n",
       "      <th>0</th>\n",
       "      <td>C1</td>\n",
       "      <td>(3, 1, 3, 1)</td>\n",
       "      <td>3</td>\n",
       "      <td>1</td>\n",
       "      <td>4</td>\n",
       "      <td>2</td>\n",
       "      <td>График наливов</td>\n",
       "    </tr>\n",
       "    <tr>\n",
       "      <th>1</th>\n",
       "      <td>D1</td>\n",
       "      <td>(4, 1, 4, 1)</td>\n",
       "      <td>4</td>\n",
       "      <td>1</td>\n",
       "      <td>5</td>\n",
       "      <td>2</td>\n",
       "      <td>10.08.2021</td>\n",
       "    </tr>\n",
       "    <tr>\n",
       "      <th>2</th>\n",
       "      <td>E1</td>\n",
       "      <td>(5, 1, 5, 1)</td>\n",
       "      <td>5</td>\n",
       "      <td>1</td>\n",
       "      <td>6</td>\n",
       "      <td>2</td>\n",
       "      <td>0</td>\n",
       "    </tr>\n",
       "    <tr>\n",
       "      <th>3</th>\n",
       "      <td>F1</td>\n",
       "      <td>(6, 1, 6, 1)</td>\n",
       "      <td>6</td>\n",
       "      <td>1</td>\n",
       "      <td>7</td>\n",
       "      <td>2</td>\n",
       "      <td>05</td>\n",
       "    </tr>\n",
       "    <tr>\n",
       "      <th>4</th>\n",
       "      <td>G1</td>\n",
       "      <td>(7, 1, 7, 1)</td>\n",
       "      <td>7</td>\n",
       "      <td>1</td>\n",
       "      <td>8</td>\n",
       "      <td>2</td>\n",
       "      <td>10</td>\n",
       "    </tr>\n",
       "    <tr>\n",
       "      <th>...</th>\n",
       "      <td>...</td>\n",
       "      <td>...</td>\n",
       "      <td>...</td>\n",
       "      <td>...</td>\n",
       "      <td>...</td>\n",
       "      <td>...</td>\n",
       "      <td>...</td>\n",
       "    </tr>\n",
       "    <tr>\n",
       "      <th>1481</th>\n",
       "      <td>DP66:DW66</td>\n",
       "      <td>(120, 66, 127, 66)</td>\n",
       "      <td>120</td>\n",
       "      <td>66</td>\n",
       "      <td>128</td>\n",
       "      <td>67</td>\n",
       "      <td>None</td>\n",
       "    </tr>\n",
       "    <tr>\n",
       "      <th>1482</th>\n",
       "      <td>DP67:DR67</td>\n",
       "      <td>(120, 67, 122, 67)</td>\n",
       "      <td>120</td>\n",
       "      <td>67</td>\n",
       "      <td>123</td>\n",
       "      <td>68</td>\n",
       "      <td>132</td>\n",
       "    </tr>\n",
       "    <tr>\n",
       "      <th>1483</th>\n",
       "      <td>DS67:ED67</td>\n",
       "      <td>(123, 67, 134, 67)</td>\n",
       "      <td>123</td>\n",
       "      <td>67</td>\n",
       "      <td>135</td>\n",
       "      <td>68</td>\n",
       "      <td>Моцарелла Терка</td>\n",
       "    </tr>\n",
       "    <tr>\n",
       "      <th>1484</th>\n",
       "      <td>DP68:ED68</td>\n",
       "      <td>(120, 68, 134, 68)</td>\n",
       "      <td>120</td>\n",
       "      <td>68</td>\n",
       "      <td>135</td>\n",
       "      <td>69</td>\n",
       "      <td>Unagrande</td>\n",
       "    </tr>\n",
       "    <tr>\n",
       "      <th>1485</th>\n",
       "      <td>DP69:ED69</td>\n",
       "      <td>(120, 69, 134, 69)</td>\n",
       "      <td>120</td>\n",
       "      <td>69</td>\n",
       "      <td>135</td>\n",
       "      <td>70</td>\n",
       "      <td>None</td>\n",
       "    </tr>\n",
       "  </tbody>\n",
       "</table>\n",
       "<p>1499 rows × 7 columns</p>\n",
       "</div>"
      ],
      "text/plain": [
       "           cell              bounds   x0  x1   y0  y1            label\n",
       "0            C1        (3, 1, 3, 1)    3   1    4   2   График наливов\n",
       "1            D1        (4, 1, 4, 1)    4   1    5   2       10.08.2021\n",
       "2            E1        (5, 1, 5, 1)    5   1    6   2                0\n",
       "3            F1        (6, 1, 6, 1)    6   1    7   2               05\n",
       "4            G1        (7, 1, 7, 1)    7   1    8   2               10\n",
       "...         ...                 ...  ...  ..  ...  ..              ...\n",
       "1481  DP66:DW66  (120, 66, 127, 66)  120  66  128  67             None\n",
       "1482  DP67:DR67  (120, 67, 122, 67)  120  67  123  68              132\n",
       "1483  DS67:ED67  (123, 67, 134, 67)  123  67  135  68  Моцарелла Терка\n",
       "1484  DP68:ED68  (120, 68, 134, 68)  120  68  135  69        Unagrande\n",
       "1485  DP69:ED69  (120, 69, 134, 69)  120  69  135  70             None\n",
       "\n",
       "[1499 rows x 7 columns]"
      ]
     },
     "execution_count": 8,
     "metadata": {},
     "output_type": "execute_result"
    }
   ],
   "source": [
    "df"
   ]
  },
  {
   "cell_type": "code",
   "execution_count": 10,
   "metadata": {},
   "outputs": [
    {
     "data": {
      "text/plain": [
       "5"
      ]
     },
     "execution_count": 10,
     "metadata": {},
     "output_type": "execute_result"
    }
   ],
   "source": [
    "df[df['label'] == 'Сыроизготовитель №1 Poly 1'].iloc[0]['y0']"
   ]
  },
  {
   "cell_type": "code",
   "execution_count": 847,
   "metadata": {},
   "outputs": [
    {
     "data": {
      "text/plain": [
       "[149, 150, 275, 312]"
      ]
     },
     "execution_count": 847,
     "metadata": {},
     "output_type": "execute_result"
    }
   ],
   "source": [
    "split_line_rows = list(sorted(df[df['y0'] - df['x0'] >= 50]['y0'].unique()))\n",
    "split_line_rows"
   ]
  },
  {
   "cell_type": "code",
   "execution_count": 849,
   "metadata": {},
   "outputs": [
    {
     "data": {
      "text/plain": [
       "['1 смена',\n",
       " '2 смена',\n",
       " 'Оператор + Помощник',\n",
       " 'бригадир упаковки + 5 рабочих',\n",
       " '1 смена оператор + помощник',\n",
       " None,\n",
       " 'Бригадир упаковки +5 рабочих упаковки + наладчик',\n",
       " 'бригадир + наладчик + 5 рабочих']"
      ]
     },
     "execution_count": 849,
     "metadata": {},
     "output_type": "execute_result"
    }
   ],
   "source": [
    "df[df['y0'] - df['x0'] >= 50]['label'].values.tolist()"
   ]
  },
  {
   "cell_type": "code",
   "execution_count": 881,
   "metadata": {},
   "outputs": [
    {
     "data": {
      "text/html": [
       "<div>\n",
       "<style scoped>\n",
       "    .dataframe tbody tr th:only-of-type {\n",
       "        vertical-align: middle;\n",
       "    }\n",
       "\n",
       "    .dataframe tbody tr th {\n",
       "        vertical-align: top;\n",
       "    }\n",
       "\n",
       "    .dataframe thead th {\n",
       "        text-align: right;\n",
       "    }\n",
       "</style>\n",
       "<table border=\"1\" class=\"dataframe\">\n",
       "  <thead>\n",
       "    <tr style=\"text-align: right;\">\n",
       "      <th></th>\n",
       "      <th>cell</th>\n",
       "      <th>bounds</th>\n",
       "      <th>x0</th>\n",
       "      <th>x1</th>\n",
       "      <th>y0</th>\n",
       "      <th>y1</th>\n",
       "      <th>label</th>\n",
       "    </tr>\n",
       "  </thead>\n",
       "  <tbody>\n",
       "    <tr>\n",
       "      <th>1321</th>\n",
       "      <td>BN29:BR29</td>\n",
       "      <td>(66, 29, 70, 29)</td>\n",
       "      <td>66</td>\n",
       "      <td>29</td>\n",
       "      <td>71</td>\n",
       "      <td>30</td>\n",
       "      <td>охлаждение</td>\n",
       "    </tr>\n",
       "    <tr>\n",
       "      <th>1322</th>\n",
       "      <td>BS29:BV29</td>\n",
       "      <td>(71, 29, 74, 29)</td>\n",
       "      <td>71</td>\n",
       "      <td>29</td>\n",
       "      <td>75</td>\n",
       "      <td>30</td>\n",
       "      <td>охлаждение</td>\n",
       "    </tr>\n",
       "    <tr>\n",
       "      <th>1323</th>\n",
       "      <td>CG29:CK29</td>\n",
       "      <td>(85, 29, 89, 29)</td>\n",
       "      <td>85</td>\n",
       "      <td>29</td>\n",
       "      <td>90</td>\n",
       "      <td>30</td>\n",
       "      <td>охлаждение</td>\n",
       "    </tr>\n",
       "    <tr>\n",
       "      <th>1324</th>\n",
       "      <td>CL29:CU29</td>\n",
       "      <td>(90, 29, 99, 29)</td>\n",
       "      <td>90</td>\n",
       "      <td>29</td>\n",
       "      <td>100</td>\n",
       "      <td>30</td>\n",
       "      <td>охлаждение</td>\n",
       "    </tr>\n",
       "    <tr>\n",
       "      <th>1325</th>\n",
       "      <td>CX29:DB29</td>\n",
       "      <td>(102, 29, 106, 29)</td>\n",
       "      <td>102</td>\n",
       "      <td>29</td>\n",
       "      <td>107</td>\n",
       "      <td>30</td>\n",
       "      <td>охлаждение</td>\n",
       "    </tr>\n",
       "    <tr>\n",
       "      <th>1326</th>\n",
       "      <td>DC29:DL29</td>\n",
       "      <td>(107, 29, 116, 29)</td>\n",
       "      <td>107</td>\n",
       "      <td>29</td>\n",
       "      <td>117</td>\n",
       "      <td>30</td>\n",
       "      <td>охлаждение</td>\n",
       "    </tr>\n",
       "    <tr>\n",
       "      <th>1327</th>\n",
       "      <td>DP29:DT29</td>\n",
       "      <td>(120, 29, 124, 29)</td>\n",
       "      <td>120</td>\n",
       "      <td>29</td>\n",
       "      <td>125</td>\n",
       "      <td>30</td>\n",
       "      <td>охлаждение</td>\n",
       "    </tr>\n",
       "    <tr>\n",
       "      <th>1328</th>\n",
       "      <td>DU29:ED29</td>\n",
       "      <td>(125, 29, 134, 29)</td>\n",
       "      <td>125</td>\n",
       "      <td>29</td>\n",
       "      <td>135</td>\n",
       "      <td>30</td>\n",
       "      <td>охлаждение</td>\n",
       "    </tr>\n",
       "    <tr>\n",
       "      <th>1288</th>\n",
       "      <td>EI29:EM29</td>\n",
       "      <td>(139, 29, 143, 29)</td>\n",
       "      <td>139</td>\n",
       "      <td>29</td>\n",
       "      <td>144</td>\n",
       "      <td>30</td>\n",
       "      <td>охлаждение</td>\n",
       "    </tr>\n",
       "    <tr>\n",
       "      <th>1289</th>\n",
       "      <td>EN29:EQ29</td>\n",
       "      <td>(144, 29, 147, 29)</td>\n",
       "      <td>144</td>\n",
       "      <td>29</td>\n",
       "      <td>148</td>\n",
       "      <td>30</td>\n",
       "      <td>охлаждение</td>\n",
       "    </tr>\n",
       "  </tbody>\n",
       "</table>\n",
       "</div>"
      ],
      "text/plain": [
       "           cell              bounds   x0  x1   y0  y1       label\n",
       "1321  BN29:BR29    (66, 29, 70, 29)   66  29   71  30  охлаждение\n",
       "1322  BS29:BV29    (71, 29, 74, 29)   71  29   75  30  охлаждение\n",
       "1323  CG29:CK29    (85, 29, 89, 29)   85  29   90  30  охлаждение\n",
       "1324  CL29:CU29    (90, 29, 99, 29)   90  29  100  30  охлаждение\n",
       "1325  CX29:DB29  (102, 29, 106, 29)  102  29  107  30  охлаждение\n",
       "1326  DC29:DL29  (107, 29, 116, 29)  107  29  117  30  охлаждение\n",
       "1327  DP29:DT29  (120, 29, 124, 29)  120  29  125  30  охлаждение\n",
       "1328  DU29:ED29  (125, 29, 134, 29)  125  29  135  30  охлаждение\n",
       "1288  EI29:EM29  (139, 29, 143, 29)  139  29  144  30  охлаждение\n",
       "1289  EN29:EQ29  (144, 29, 147, 29)  144  29  148  30  охлаждение"
      ]
     },
     "execution_count": 881,
     "metadata": {},
     "output_type": "execute_result"
    }
   ],
   "source": [
    "df[df['label'] == 'охлаждение']"
   ]
  },
  {
   "cell_type": "markdown",
   "metadata": {},
   "source": [
    "# 2021.09.07 Better find rows"
   ]
  },
  {
   "cell_type": "code",
   "execution_count": 46,
   "metadata": {},
   "outputs": [
    {
     "data": {
      "text/plain": [
       "True"
      ]
     },
     "execution_count": 46,
     "metadata": {},
     "output_type": "execute_result"
    }
   ],
   "source": [
    "{'налив/внесение закваски', 'схватка'}.issubset({'налив/внесение закваски', 'схватка'})"
   ]
  },
  {
   "cell_type": "code",
   "execution_count": 12,
   "metadata": {},
   "outputs": [],
   "source": [
    "df1 = df[df['x0'] >= 5] # column header out"
   ]
  },
  {
   "cell_type": "code",
   "execution_count": 18,
   "metadata": {},
   "outputs": [
    {
     "data": {
      "text/plain": [
       "'asdfasdf. asdfasdf asdfasdf'"
      ]
     },
     "execution_count": 18,
     "metadata": {},
     "output_type": "execute_result"
    }
   ],
   "source": [
    "\n",
    "import re\n",
    "re.sub(r'\\s+', ' ', 'asdfasdf.  \\n asdfasdf\\n\\nasdfasdf')"
   ]
  },
  {
   "cell_type": "code",
   "execution_count": 38,
   "metadata": {},
   "outputs": [
    {
     "data": {
      "text/plain": [
       "[33, 61]"
      ]
     },
     "execution_count": 38,
     "metadata": {},
     "output_type": "execute_result"
    }
   ],
   "source": [
    "cheese_maker_headers = []\n",
    "water_melting_headers = []\n",
    "salt_melting_headers = []\n",
    "\n",
    "water_packing_headers = []\n",
    "salt_packing_headers = []\n",
    "headers = []\n",
    "\n",
    "\n",
    "for row_num in df1['x1'].unique():\n",
    "    row_labels = [row['label'] for i, row in df1[df1['x1'] == row_num].iterrows()]\n",
    "    row_labels = [re.sub(r'\\s+', ' ', label) for label in row_labels if label]\n",
    "    \n",
    "    if set(row_labels) == {'налив/внесение закваски', 'схватка', 'резка/обсушка', 'откачка', 'слив'}:\n",
    "        cheese_maker_headers.append(row_num - 1)\n",
    "    \n",
    "    if set(row_labels) == {'подача и вымешивание'}:\n",
    "        water_melting_headers.append(row_num + 1)\n",
    "    \n",
    "    if set(row_labels) == {'подача и вымешивание', 'посолка', 'плавление/формирование'}:\n",
    "        salt_melting_headers.append(row_num - 1)\n",
    "    \n",
    "    with code('find all headers'):\n",
    "        _labels = [label.replace('налив', '') for label in row_labels]\n",
    "        _labels = [re.sub(r'\\s+', '', label) for label in _labels]\n",
    "        int_labels = [int(label) for label in _labels if utils.is_int_like(label)]\n",
    "\n",
    "        if not ('05' in row_labels and '55' in row_labels):\n",
    "            if int_labels:\n",
    "                headers.append(row_num)\n",
    "    \n",
    "    \n",
    "\n",
    "packing_headers = set(headers) - set(cheese_maker_headers) - set(water_melting_headers) - set(salt_melting_headers)\n",
    "packing_headers = list(sorted(packing_headers))[:2]\n",
    "packing_headers"
   ]
  },
  {
   "cell_type": "code",
   "execution_count": 39,
   "metadata": {},
   "outputs": [
    {
     "data": {
      "text/plain": [
       "[3, 26, 40, 61]"
      ]
     },
     "execution_count": 39,
     "metadata": {},
     "output_type": "execute_result"
    }
   ],
   "source": [
    "split_rows = []\n",
    "split_rows.append(df[df['label'] == 'Сыроизготовитель №1 Poly 1'].iloc[0]['x1'])\n",
    "split_rows.append(df[df['label'] == 'Линия плавления моцареллы в воде №1'].iloc[0]['x1'])\n",
    "split_rows.append(df[df['label'] == 'Линия плавления моцареллы в рассоле №2'].iloc[0]['x1'])\n",
    "split_rows.append(max(df[df[\"y0\"] - df[\"x0\"] >= 50][\"x1\"].unique()) + 1)  # packing one has no label - find by shift\n",
    "split_rows"
   ]
  },
  {
   "cell_type": "code",
   "execution_count": 43,
   "metadata": {},
   "outputs": [
    {
     "data": {
      "text/plain": [
       "[3, 26, 40, 61]"
      ]
     },
     "execution_count": 43,
     "metadata": {},
     "output_type": "execute_result"
    }
   ],
   "source": [
    "split_rows = []\n",
    "split_rows.append(cheese_maker_headers[-1] - 16) \n",
    "split_rows.append(water_melting_headers[0] - 1)\n",
    "split_rows.append(salt_melting_headers[0])\n",
    "split_rows.append(packing_headers[1])\n",
    "split_rows"
   ]
  }
 ],
 "metadata": {
  "kernelspec": {
   "display_name": "umalat",
   "language": "python",
   "name": "umalat"
  },
  "language_info": {
   "codemirror_mode": {
    "name": "ipython",
    "version": 3
   },
   "file_extension": ".py",
   "mimetype": "text/x-python",
   "name": "python",
   "nbconvert_exporter": "python",
   "pygments_lexer": "ipython3",
   "version": "3.8.5"
  }
 },
 "nbformat": 4,
 "nbformat_minor": 4
}

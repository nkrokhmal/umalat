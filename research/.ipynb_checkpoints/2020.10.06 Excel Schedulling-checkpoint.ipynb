{
 "cells": [
  {
   "cell_type": "code",
   "execution_count": 1,
   "metadata": {},
   "outputs": [],
   "source": [
    "import pandas as pd\n",
    "from openpyxl import Workbook\n",
    "from datetime import datetime\n",
    "import openpyxl as opx\n",
    "from openpyxl.styles import Alignment\n",
    "from openpyxl.styles import PatternFill"
   ]
  },
  {
   "cell_type": "code",
   "execution_count": 2,
   "metadata": {},
   "outputs": [],
   "source": [
    "'''\n",
    "    Маленькой блок, который обозначает один из процессов в сыроизготовителе\n",
    "'''\n",
    "class SimpleBlock:\n",
    "    def __init__(self, name, duration, text, beg_time, raw_down=0, colour='FFFFFF'):\n",
    "        self.name = name\n",
    "        self.colour = colour\n",
    "        self.text = text\n",
    "        self.duration = duration\n",
    "        self.beg_time = beg_time\n",
    "        self.raw_down = raw_down\n",
    "        \n",
    "'''\n",
    "    Процесс варки в сыроизготовителе.\n",
    "    Задается имя, индекс варки, время начало и дополнительные параметры\n",
    "'''        \n",
    "class CheesePouring:\n",
    "    def __init__(self, name, index, beg_time,\n",
    "                 pouring_time=5 * 5, pouring_colour='FFFFFF', \n",
    "                 ferment_time=5 * 10, ferment_colour='FFA500',\n",
    "                 hardening_time=5 * 6, hardening_colour='FFFF00', \n",
    "                 cutting_time=5 * 4, cutting_colour='008000',\n",
    "                 pouring_off_time=5 * 3, pouring_off_colour='FF0000', \n",
    "                 extra_time=5 * 2, extra_colour='FFFFFF'):\n",
    "        self.name = name\n",
    "        self.index = index\n",
    "        self.beg_time = beg_time\n",
    "        \n",
    "        self.pouring = SimpleBlock(name='Pouring', \n",
    "                                          colour=pouring_colour,\n",
    "                                          duration=pouring_time,\n",
    "                                          beg_time = beg_time,\n",
    "                                          text='{} налив'.format(self.index))\n",
    "        \n",
    "        self.naming = SimpleBlock(name='Name',\n",
    "                                         colour=pouring_colour,\n",
    "                                         duration=ferment_time + hardening_time + cutting_time + pouring_off_time + extra_time - pouring_time,\n",
    "                                         beg_time=beg_time + pouring_time,\n",
    "                                         text=self.name)\n",
    "        \n",
    "        self.ferment = SimpleBlock(name='Ferment',\n",
    "                                          colour=ferment_colour,\n",
    "                                          duration=ferment_time,\n",
    "                                          beg_time = beg_time,\n",
    "                                          raw_down=1,\n",
    "                                          text='налив/внесение закваски')\n",
    "        \n",
    "        self.hardening = SimpleBlock(name='Hardening',\n",
    "                                            colour=hardening_colour,\n",
    "                                            duration=hardening_time,\n",
    "                                            beg_time = beg_time + ferment_time,\n",
    "                                            raw_down=1,\n",
    "                                            text='схватка')\n",
    "        \n",
    "        self.cutting = SimpleBlock(name='Cutting',\n",
    "                                          colour=cutting_colour,\n",
    "                                          duration=cutting_time,\n",
    "                                          beg_time = beg_time + ferment_time + hardening_time,\n",
    "                                          raw_down=1,\n",
    "                                          text='резка/обсушка')\n",
    "        \n",
    "        self.pouring_off = SimpleBlock(name='Pouring off',\n",
    "                                              colour=pouring_off_colour,\n",
    "                                              duration=pouring_off_time,\n",
    "                                              beg_time = beg_time + ferment_time + hardening_time + cutting_time,\n",
    "                                              raw_down=1,\n",
    "                                              text='слив')\n",
    "        \n",
    "        self.extra = SimpleBlock(name='Extra',\n",
    "                                        colour=extra_colour,\n",
    "                                        duration=extra_time,\n",
    "                                        beg_time = beg_time + ferment_time + hardening_time + cutting_time + pouring_off_time,\n",
    "                                        raw_down=1,\n",
    "                                        text='')\n",
    "\n",
    "\n",
    "'''\n",
    "    Формирование процесса налива.\n",
    "'''    \n",
    "class CheesePouringExcel:\n",
    "    def __init__(self, cheese_pouring):\n",
    "        self.beg_time = 60\n",
    "        self.beg_cell = 4\n",
    "        self.period_time = 5\n",
    "        \n",
    "        self.cheese_pouring = cheese_pouring\n",
    "        self.wb = opx.load_workbook(r'2020.10.06 pouring_template.xlsx')\n",
    "        self.sheet = self.wb.worksheets[0]\n",
    "    \n",
    "    '''\n",
    "        Сделать проверку данных (как минимум на пересечения)\n",
    "    '''\n",
    "    def prepare_data(self):\n",
    "        pass\n",
    "            \n",
    "        \n",
    "    '''\n",
    "        Объединение ячеек в одну с нужным цветом и значением для одного блока\n",
    "    '''\n",
    "    def draw_pouring_block(self, pouring_block, cheese_maker_index):\n",
    "        \n",
    "        start_row = self.get_row_by_cheesemaker(cheese_maker_index) + pouring_block.raw_down\n",
    "        start_column = self.get_column_by_time(pouring_block.beg_time)\n",
    "        print(start_row, start_column)\n",
    "        self.sheet.merge_cells(start_row=start_row,\n",
    "                               start_column=start_column,\n",
    "                               end_row=start_row,\n",
    "                               end_column=start_column + pouring_block.duration / self.period_time - 1)\n",
    "        print(start_row, start_column)\n",
    "        merged_cell = self.sheet.cell(row=start_row, column=start_column)  \n",
    "        merged_cell.value = pouring_block.text\n",
    "        merged_cell.alignment = Alignment(horizontal='center')\n",
    "        merged_cell.fill = PatternFill(\"solid\", fgColor=pouring_block.colour)\n",
    "        \n",
    "    '''\n",
    "        Формирование полного блока\n",
    "    '''    \n",
    "    def draw_cheese_pouring(self, cheese_pouring, cheese_maker_index):\n",
    "        self.draw_pouring_block(cheese_pouring.pouring, cheese_maker_index)\n",
    "        self.draw_pouring_block(cheese_pouring.naming, cheese_maker_index)\n",
    "        self.draw_pouring_block(cheese_pouring.ferment, cheese_maker_index)\n",
    "        self.draw_pouring_block(cheese_pouring.hardening, cheese_maker_index)\n",
    "        self.draw_pouring_block(cheese_pouring.cutting, cheese_maker_index)\n",
    "        self.draw_pouring_block(cheese_pouring.pouring_off, cheese_maker_index)\n",
    "        self.draw_pouring_block(cheese_pouring.extra, cheese_maker_index)\n",
    "                        \n",
    "    '''\n",
    "        Индекс стоблца по времени\n",
    "    '''        \n",
    "    def get_column_by_time(self, time):\n",
    "        return (time - self.beg_time) / self.period_time + self.beg_cell\n",
    "    \n",
    "    \n",
    "    '''\n",
    "        Индекс строки по номеру сыроизготовителя\n",
    "        КОСТЫЛЬ\n",
    "    '''\n",
    "    def get_row_by_cheesemaker(self, index):\n",
    "        if index == 0: return 6\n",
    "        if index == 1: return 9\n",
    "        if index == 2: return 15\n",
    "        if index == 3: return 18\n",
    "#         return self.cheese_makers[index].row\n",
    "    \n",
    "    \n",
    "    '''\n",
    "        Сохранение excel\n",
    "    '''\n",
    "    def save_output(self):\n",
    "        self.wb.save('output.xlsx')\n",
    "        \n",
    "        \n",
    "        \n",
    "#         merge_cells(start_row=2, start_column=1, end_row=4, end_column=4)\n",
    "        #         self.sheet.cell(row=2, column=2).value = 2\n",
    "        \n",
    "        \n",
    "    \n",
    "    \n",
    "        "
   ]
  },
  {
   "cell_type": "markdown",
   "metadata": {},
   "source": [
    "## Test"
   ]
  },
  {
   "cell_type": "code",
   "execution_count": 3,
   "metadata": {},
   "outputs": [],
   "source": [
    "cp = CheesePouring(name='Name', index=60, beg_time=120)"
   ]
  },
  {
   "cell_type": "code",
   "execution_count": 4,
   "metadata": {},
   "outputs": [
    {
     "data": {
      "text/plain": [
       "25"
      ]
     },
     "execution_count": 4,
     "metadata": {},
     "output_type": "execute_result"
    }
   ],
   "source": [
    "cp.pouring.duration"
   ]
  },
  {
   "cell_type": "code",
   "execution_count": 5,
   "metadata": {},
   "outputs": [
    {
     "ename": "FileNotFoundError",
     "evalue": "[Errno 2] No such file or directory: 'pouring_template.xlsx'",
     "output_type": "error",
     "traceback": [
      "\u001b[0;31m---------------------------------------------------------------------------\u001b[0m",
      "\u001b[0;31mFileNotFoundError\u001b[0m                         Traceback (most recent call last)",
      "\u001b[0;32m<ipython-input-5-47bf20f6ae82>\u001b[0m in \u001b[0;36m<module>\u001b[0;34m\u001b[0m\n\u001b[0;32m----> 1\u001b[0;31m \u001b[0mexc\u001b[0m \u001b[0;34m=\u001b[0m \u001b[0mCheesePouringExcel\u001b[0m\u001b[0;34m(\u001b[0m\u001b[0mcheese_pouring\u001b[0m\u001b[0;34m=\u001b[0m\u001b[0;32mNone\u001b[0m\u001b[0;34m)\u001b[0m\u001b[0;34m\u001b[0m\u001b[0;34m\u001b[0m\u001b[0m\n\u001b[0m",
      "\u001b[0;32m<ipython-input-2-0ff9f106cfac>\u001b[0m in \u001b[0;36m__init__\u001b[0;34m(self, cheese_pouring)\u001b[0m\n\u001b[1;32m     85\u001b[0m \u001b[0;34m\u001b[0m\u001b[0m\n\u001b[1;32m     86\u001b[0m         \u001b[0mself\u001b[0m\u001b[0;34m.\u001b[0m\u001b[0mcheese_pouring\u001b[0m \u001b[0;34m=\u001b[0m \u001b[0mcheese_pouring\u001b[0m\u001b[0;34m\u001b[0m\u001b[0;34m\u001b[0m\u001b[0m\n\u001b[0;32m---> 87\u001b[0;31m         \u001b[0mself\u001b[0m\u001b[0;34m.\u001b[0m\u001b[0mwb\u001b[0m \u001b[0;34m=\u001b[0m \u001b[0mopx\u001b[0m\u001b[0;34m.\u001b[0m\u001b[0mload_workbook\u001b[0m\u001b[0;34m(\u001b[0m\u001b[0;34mr'pouring_template.xlsx'\u001b[0m\u001b[0;34m)\u001b[0m\u001b[0;34m\u001b[0m\u001b[0;34m\u001b[0m\u001b[0m\n\u001b[0m\u001b[1;32m     88\u001b[0m         \u001b[0mself\u001b[0m\u001b[0;34m.\u001b[0m\u001b[0msheet\u001b[0m \u001b[0;34m=\u001b[0m \u001b[0mself\u001b[0m\u001b[0;34m.\u001b[0m\u001b[0mwb\u001b[0m\u001b[0;34m.\u001b[0m\u001b[0mworksheets\u001b[0m\u001b[0;34m[\u001b[0m\u001b[0;36m0\u001b[0m\u001b[0;34m]\u001b[0m\u001b[0;34m\u001b[0m\u001b[0;34m\u001b[0m\u001b[0m\n\u001b[1;32m     89\u001b[0m \u001b[0;34m\u001b[0m\u001b[0m\n",
      "\u001b[0;32m~/anaconda3/lib/python3.8/site-packages/openpyxl/reader/excel.py\u001b[0m in \u001b[0;36mload_workbook\u001b[0;34m(filename, read_only, keep_vba, data_only, keep_links)\u001b[0m\n\u001b[1;32m    311\u001b[0m \u001b[0;34m\u001b[0m\u001b[0m\n\u001b[1;32m    312\u001b[0m     \"\"\"\n\u001b[0;32m--> 313\u001b[0;31m     reader = ExcelReader(filename, read_only, keep_vba,\n\u001b[0m\u001b[1;32m    314\u001b[0m                         data_only, keep_links)\n\u001b[1;32m    315\u001b[0m     \u001b[0mreader\u001b[0m\u001b[0;34m.\u001b[0m\u001b[0mread\u001b[0m\u001b[0;34m(\u001b[0m\u001b[0;34m)\u001b[0m\u001b[0;34m\u001b[0m\u001b[0;34m\u001b[0m\u001b[0m\n",
      "\u001b[0;32m~/anaconda3/lib/python3.8/site-packages/openpyxl/reader/excel.py\u001b[0m in \u001b[0;36m__init__\u001b[0;34m(self, fn, read_only, keep_vba, data_only, keep_links)\u001b[0m\n\u001b[1;32m    122\u001b[0m     def __init__(self,  fn, read_only=False, keep_vba=KEEP_VBA,\n\u001b[1;32m    123\u001b[0m                   data_only=False, keep_links=True):\n\u001b[0;32m--> 124\u001b[0;31m         \u001b[0mself\u001b[0m\u001b[0;34m.\u001b[0m\u001b[0marchive\u001b[0m \u001b[0;34m=\u001b[0m \u001b[0m_validate_archive\u001b[0m\u001b[0;34m(\u001b[0m\u001b[0mfn\u001b[0m\u001b[0;34m)\u001b[0m\u001b[0;34m\u001b[0m\u001b[0;34m\u001b[0m\u001b[0m\n\u001b[0m\u001b[1;32m    125\u001b[0m         \u001b[0mself\u001b[0m\u001b[0;34m.\u001b[0m\u001b[0mvalid_files\u001b[0m \u001b[0;34m=\u001b[0m \u001b[0mself\u001b[0m\u001b[0;34m.\u001b[0m\u001b[0marchive\u001b[0m\u001b[0;34m.\u001b[0m\u001b[0mnamelist\u001b[0m\u001b[0;34m(\u001b[0m\u001b[0;34m)\u001b[0m\u001b[0;34m\u001b[0m\u001b[0;34m\u001b[0m\u001b[0m\n\u001b[1;32m    126\u001b[0m         \u001b[0mself\u001b[0m\u001b[0;34m.\u001b[0m\u001b[0mread_only\u001b[0m \u001b[0;34m=\u001b[0m \u001b[0mread_only\u001b[0m\u001b[0;34m\u001b[0m\u001b[0;34m\u001b[0m\u001b[0m\n",
      "\u001b[0;32m~/anaconda3/lib/python3.8/site-packages/openpyxl/reader/excel.py\u001b[0m in \u001b[0;36m_validate_archive\u001b[0;34m(filename)\u001b[0m\n\u001b[1;32m     94\u001b[0m             \u001b[0;32mraise\u001b[0m \u001b[0mInvalidFileException\u001b[0m\u001b[0;34m(\u001b[0m\u001b[0mmsg\u001b[0m\u001b[0;34m)\u001b[0m\u001b[0;34m\u001b[0m\u001b[0;34m\u001b[0m\u001b[0m\n\u001b[1;32m     95\u001b[0m \u001b[0;34m\u001b[0m\u001b[0m\n\u001b[0;32m---> 96\u001b[0;31m     \u001b[0marchive\u001b[0m \u001b[0;34m=\u001b[0m \u001b[0mZipFile\u001b[0m\u001b[0;34m(\u001b[0m\u001b[0mfilename\u001b[0m\u001b[0;34m,\u001b[0m \u001b[0;34m'r'\u001b[0m\u001b[0;34m)\u001b[0m\u001b[0;34m\u001b[0m\u001b[0;34m\u001b[0m\u001b[0m\n\u001b[0m\u001b[1;32m     97\u001b[0m     \u001b[0;32mreturn\u001b[0m \u001b[0marchive\u001b[0m\u001b[0;34m\u001b[0m\u001b[0;34m\u001b[0m\u001b[0m\n\u001b[1;32m     98\u001b[0m \u001b[0;34m\u001b[0m\u001b[0m\n",
      "\u001b[0;32m~/anaconda3/lib/python3.8/zipfile.py\u001b[0m in \u001b[0;36m__init__\u001b[0;34m(self, file, mode, compression, allowZip64, compresslevel, strict_timestamps)\u001b[0m\n\u001b[1;32m   1249\u001b[0m             \u001b[0;32mwhile\u001b[0m \u001b[0;32mTrue\u001b[0m\u001b[0;34m:\u001b[0m\u001b[0;34m\u001b[0m\u001b[0;34m\u001b[0m\u001b[0m\n\u001b[1;32m   1250\u001b[0m                 \u001b[0;32mtry\u001b[0m\u001b[0;34m:\u001b[0m\u001b[0;34m\u001b[0m\u001b[0;34m\u001b[0m\u001b[0m\n\u001b[0;32m-> 1251\u001b[0;31m                     \u001b[0mself\u001b[0m\u001b[0;34m.\u001b[0m\u001b[0mfp\u001b[0m \u001b[0;34m=\u001b[0m \u001b[0mio\u001b[0m\u001b[0;34m.\u001b[0m\u001b[0mopen\u001b[0m\u001b[0;34m(\u001b[0m\u001b[0mfile\u001b[0m\u001b[0;34m,\u001b[0m \u001b[0mfilemode\u001b[0m\u001b[0;34m)\u001b[0m\u001b[0;34m\u001b[0m\u001b[0;34m\u001b[0m\u001b[0m\n\u001b[0m\u001b[1;32m   1252\u001b[0m                 \u001b[0;32mexcept\u001b[0m \u001b[0mOSError\u001b[0m\u001b[0;34m:\u001b[0m\u001b[0;34m\u001b[0m\u001b[0;34m\u001b[0m\u001b[0m\n\u001b[1;32m   1253\u001b[0m                     \u001b[0;32mif\u001b[0m \u001b[0mfilemode\u001b[0m \u001b[0;32min\u001b[0m \u001b[0mmodeDict\u001b[0m\u001b[0;34m:\u001b[0m\u001b[0;34m\u001b[0m\u001b[0;34m\u001b[0m\u001b[0m\n",
      "\u001b[0;31mFileNotFoundError\u001b[0m: [Errno 2] No such file or directory: 'pouring_template.xlsx'"
     ]
    }
   ],
   "source": [
    "exc = CheesePouringExcel(cheese_pouring=None)"
   ]
  },
  {
   "cell_type": "code",
   "execution_count": 154,
   "metadata": {},
   "outputs": [
    {
     "name": "stdout",
     "output_type": "stream",
     "text": [
      "6 16.0\n",
      "6 16.0\n",
      "6 21.0\n",
      "6 21.0\n",
      "7 16.0\n",
      "7 16.0\n",
      "7 26.0\n",
      "7 26.0\n",
      "7 32.0\n",
      "7 32.0\n",
      "7 36.0\n",
      "7 36.0\n",
      "7 39.0\n",
      "7 39.0\n"
     ]
    }
   ],
   "source": [
    "exc.draw_cheese_pouring(cp, 0)"
   ]
  },
  {
   "cell_type": "code",
   "execution_count": 155,
   "metadata": {},
   "outputs": [],
   "source": [
    "exc.save_output()"
   ]
  },
  {
   "cell_type": "code",
   "execution_count": null,
   "metadata": {},
   "outputs": [],
   "source": []
  }
 ],
 "metadata": {
  "kernelspec": {
   "display_name": "Python 3",
   "language": "python",
   "name": "python3"
  },
  "language_info": {
   "codemirror_mode": {
    "name": "ipython",
    "version": 3
   },
   "file_extension": ".py",
   "mimetype": "text/x-python",
   "name": "python",
   "nbconvert_exporter": "python",
   "pygments_lexer": "ipython3",
   "version": "3.8.5"
  }
 },
 "nbformat": 4,
 "nbformat_minor": 4
}
